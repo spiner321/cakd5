{
 "cells": [
  {
   "cell_type": "markdown",
   "id": "12b00550",
   "metadata": {},
   "source": [
    "# # 1월 10일\n",
    "---"
   ]
  },
  {
   "cell_type": "markdown",
   "id": "04395d14",
   "metadata": {},
   "source": [
    "## # Numpy\n",
    "---\n",
    "- \"Numerical python\"의 약자로 대규모 다차원 배열과 행렬 연산에 필요한 다양한 함수 제공\n",
    "- Numerical Python을 의미하는 Numpy는 파이썬에서 선형대수 기반의 프로그램을 쉽게 만들 수 있도록 지원하는 대표적인 패키지\n",
    "- 많은 머신러닝 알고리즘이 넘파이 기반으로 작성돼 있으며 알고리즘의 입출력 데이터를 넘파이 배열 타입으로 사용함\n",
    "- 넘파이의 기본 데이터 타입은 numpy.ndarray를 이용해 넘파이에서 다차원 배열을 쉽게 생성하고 다양한 연산\n",
    "$$$$\n",
    "\n",
    "## # Numpy 특징\n",
    "---\n",
    "- 강력한 N차원 배열 객체\n",
    "- 정교한 브로드캐스팅 기능\n",
    "- 유용한 선형 대수학, 푸리에 변환 및 난수 기능\n",
    "- 푸리에 변환은 시간이나 공간에 대한 함수를 시간 또는 공간 주파수 성분으로 분해하는 변환\n",
    "- 버용적 데이터 처리에 사용 가능한 다차원 컨테이너"
   ]
  },
  {
   "cell_type": "code",
   "execution_count": 2,
   "id": "092e74ab",
   "metadata": {
    "ExecuteTime": {
     "end_time": "2022-01-28T15:21:56.301927Z",
     "start_time": "2022-01-28T15:21:55.034818Z"
    }
   },
   "outputs": [
    {
     "name": "stdout",
     "output_type": "stream",
     "text": [
      "Requirement already satisfied: numpy in c:\\users\\spiner\\anaconda3\\envs\\cakd5\\lib\\site-packages (1.21.2)\n"
     ]
    }
   ],
   "source": [
    "!pip install numpy"
   ]
  },
  {
   "cell_type": "code",
   "execution_count": 3,
   "id": "dde20a0f",
   "metadata": {
    "ExecuteTime": {
     "end_time": "2022-01-28T15:21:56.346968Z",
     "start_time": "2022-01-28T15:21:56.332955Z"
    }
   },
   "outputs": [
    {
     "name": "stdout",
     "output_type": "stream",
     "text": [
      "[0 1 2 3 4 5 6 7 8 9] <class 'numpy.ndarray'>\n"
     ]
    }
   ],
   "source": [
    "import numpy as np\n",
    "z = np.arange(10)\n",
    "print(z, type(z))"
   ]
  },
  {
   "cell_type": "code",
   "execution_count": 6,
   "id": "d53f221e",
   "metadata": {
    "ExecuteTime": {
     "end_time": "2022-01-28T15:24:13.029164Z",
     "start_time": "2022-01-28T15:24:12.265468Z"
    }
   },
   "outputs": [
    {
     "name": "stdout",
     "output_type": "stream",
     "text": [
      "Wall time: 11 ms\n",
      "Wall time: 716 ms\n"
     ]
    }
   ],
   "source": [
    "import numpy as np\n",
    "\n",
    "my_arr = np.arange(1000000)\n",
    "my_list = list(range(1000000))\n",
    "\n",
    "%time for _ in range(10): my_array2 = my_arr * 2\n",
    "%time for _ in range(10): my_list2 = [x * 2 for x in my_list]"
   ]
  },
  {
   "cell_type": "markdown",
   "id": "c35f6008",
   "metadata": {},
   "source": [
    "### # 배열 연산\n",
    "---"
   ]
  },
  {
   "cell_type": "code",
   "execution_count": 5,
   "id": "224609fb",
   "metadata": {
    "ExecuteTime": {
     "end_time": "2022-01-28T15:21:57.504413Z",
     "start_time": "2022-01-28T15:21:57.491403Z"
    }
   },
   "outputs": [
    {
     "name": "stdout",
     "output_type": "stream",
     "text": [
      "[[ 0.07736396  1.09831063  1.6408687 ]\n",
      " [-0.88630065 -1.14531427  0.28946557]] \n",
      "\n",
      "[[  0.77363963  10.98310626  16.40868702]\n",
      " [ -8.86300647 -11.45314269   2.89465572]] \n",
      "\n",
      "[[ 0.15472793  2.19662125  3.2817374 ]\n",
      " [-1.77260129 -2.29062854  0.57893114]] \n",
      "\n",
      "(2, 3)\n",
      "float64\n",
      "2\n"
     ]
    }
   ],
   "source": [
    "# np.random.randn 가우시안 표준 정규분표에서 난수 매트릭스(행렬) array 생성\n",
    "import numpy as np\n",
    "\n",
    "data = np.random.randn(2, 3) # 2행, 3열 표준 정규분포 매트릭스\n",
    "print(data, '\\n')\n",
    "print(data * 10, '\\n')\n",
    "print(data + data, '\\n')\n",
    "print(data.shape) # 크기\n",
    "print(data.dtype) # 데이터타입\n",
    "print(data.ndim) # 차원"
   ]
  },
  {
   "cell_type": "markdown",
   "id": "41423494",
   "metadata": {},
   "source": [
    "### # 다차원 배열\n",
    "---\n",
    "\n",
    "<img src = 'numpy 차원.jpg' STYLE = 'width : 300px;'>"
   ]
  },
  {
   "cell_type": "code",
   "execution_count": 78,
   "id": "2987d23f",
   "metadata": {},
   "outputs": [
    {
     "name": "stdout",
     "output_type": "stream",
     "text": [
      "<class 'list'> \n",
      "\n",
      "\n",
      "[[1 2 3 4]\n",
      " [5 6 7 8]] <class 'numpy.ndarray'> \n",
      "\n",
      "2 \n",
      "\n",
      "(2, 4)\n"
     ]
    }
   ],
   "source": [
    "import numpy as np\n",
    "\n",
    "data2 = [[1, 2, 3, 4], [5, 6, 7 ,8]]\n",
    "print(type(data2), '\\n\\n')\n",
    "\n",
    "arr2 = np.array(data2)\n",
    "print(arr2, type(arr2), '\\n')\n",
    "print(arr2.ndim, '\\n')\n",
    "print(arr2.shape)"
   ]
  },
  {
   "cell_type": "code",
   "execution_count": 16,
   "id": "286802c8",
   "metadata": {},
   "outputs": [
    {
     "name": "stdout",
     "output_type": "stream",
     "text": [
      "[1 2 3] <class 'numpy.ndarray'> (3,)\n"
     ]
    }
   ],
   "source": [
    "# 1차원 배열로 3개의 데이터\n",
    "\n",
    "import numpy as np\n",
    "\n",
    "array1 = np.array([1, 2, 3])\n",
    "print(array1, type(array1), array1.shape) # ( ,열)이 아닌 (열, ) 형태로 출력"
   ]
  },
  {
   "cell_type": "code",
   "execution_count": 18,
   "id": "5ab4f0c9",
   "metadata": {},
   "outputs": [
    {
     "name": "stdout",
     "output_type": "stream",
     "text": [
      "[[7 7 7]\n",
      " [7 7 7]] <class 'numpy.ndarray'> (2, 3)\n"
     ]
    }
   ],
   "source": [
    "# 2차원 배열로 2개의 row와 3개의 column으루 구성된 6개의 데이터\n",
    "\n",
    "import numpy as np\n",
    "\n",
    "a = [[7, 7, 7], [7, 7, 7]]\n",
    "arr2 = np.array(a)\n",
    "print(arr2, type(arr2), arr2.shape)"
   ]
  },
  {
   "cell_type": "code",
   "execution_count": 6,
   "id": "7028cb5f",
   "metadata": {},
   "outputs": [
    {
     "name": "stdout",
     "output_type": "stream",
     "text": [
      "[7 7 7] (3,)\n",
      "[[7 7 7]] (1, 3)\n"
     ]
    }
   ],
   "source": [
    "# 1개의 row와 3개의 column으로 구성된 2차원 배열\n",
    "\n",
    "import numpy as np\n",
    "\n",
    "array1 = np.array([7, 7, 7])\n",
    "print(array1, array1.shape)\n",
    "\n",
    "array2_1 = np.array([[7, 7, 7]])\n",
    "print(array2_1, array2_1.shape)"
   ]
  },
  {
   "cell_type": "code",
   "execution_count": 48,
   "id": "d7c11e3c",
   "metadata": {},
   "outputs": [
    {
     "name": "stdout",
     "output_type": "stream",
     "text": [
      "[[[1 2 3 4 5]\n",
      "  [6 7 8 9 0]]\n",
      "\n",
      " [[2 2 3 4 5]\n",
      "  [6 7 8 9 0]]\n",
      "\n",
      " [[3 2 3 4 5]\n",
      "  [6 7 8 9 0]]] \n",
      "\n",
      " <class 'numpy.ndarray'> (3, 2, 5)\n"
     ]
    }
   ],
   "source": [
    "# 3차원\n",
    "\n",
    "import numpy as np\n",
    "\n",
    "array3 = np.array([[[1, 2, 3, 4, 5], [6, 7, 8, 9, 0]], [[2, 2, 3, 4, 5], [6, 7, 8, 9, 0]], [[3, 2, 3, 4, 5], [6, 7, 8, 9, 0]]])\n",
    "print(array3, '\\n\\n', type(array3), array3.shape)"
   ]
  },
  {
   "cell_type": "code",
   "execution_count": 8,
   "id": "85e6c844",
   "metadata": {
    "ExecuteTime": {
     "end_time": "2022-01-28T15:31:39.090840Z",
     "start_time": "2022-01-28T15:31:39.083834Z"
    }
   },
   "outputs": [],
   "source": [
    "# 경고 메시지 제외 처리\n",
    "\n",
    "import warnings\n",
    "\n",
    "warnings.filterwarnings('ignore')"
   ]
  },
  {
   "cell_type": "markdown",
   "id": "871ed5f9",
   "metadata": {},
   "source": [
    "## # 배열 생성 및 초기화\n",
    "---\n",
    "\n",
    "- Numpy는 원하는 shape로 배열을 설정하고 각 요소를 특정 값으로 초기화하는 zeros, ones, full, eye 함수 제공\n",
    "- 파라미터로 입력한 배열과 같은 shape의 배열을 만드는 zeros_like, ones_like, full_like 함수도 제공"
   ]
  },
  {
   "cell_type": "code",
   "execution_count": 9,
   "id": "f9d904ad",
   "metadata": {},
   "outputs": [
    {
     "name": "stdout",
     "output_type": "stream",
     "text": [
      "[0. 0. 0. 0. 0. 0. 0. 0. 0. 0.]\n",
      "\n",
      "[[0. 0. 0. 0. 0. 0.]\n",
      " [0. 0. 0. 0. 0. 0.]\n",
      " [0. 0. 0. 0. 0. 0.]]\n",
      "\n",
      "[[[0. 0.]\n",
      "  [0. 0.]\n",
      "  [0. 0.]]\n",
      "\n",
      " [[0. 0.]\n",
      "  [0. 0.]\n",
      "  [0. 0.]]]\n",
      "\n",
      "[[[1. 1.]\n",
      "  [1. 1.]\n",
      "  [1. 1.]]\n",
      "\n",
      " [[1. 1.]\n",
      "  [1. 1.]\n",
      "  [1. 1.]]]\n"
     ]
    }
   ],
   "source": [
    "import numpy as np\n",
    "\n",
    "print(np.zeros((10)))\n",
    "print()\n",
    "print(np.zeros((3, 6)))\n",
    "print()\n",
    "print(np.zeros((2, 3, 2)))\n",
    "print()\n",
    "print(np.ones((2, 3, 2)))"
   ]
  },
  {
   "cell_type": "code",
   "execution_count": 7,
   "id": "aefd2246",
   "metadata": {
    "ExecuteTime": {
     "end_time": "2022-01-28T15:29:35.923016Z",
     "start_time": "2022-01-28T15:29:35.915009Z"
    }
   },
   "outputs": [
    {
     "name": "stdout",
     "output_type": "stream",
     "text": [
      "[[5 5]\n",
      " [5 5]]\n"
     ]
    }
   ],
   "source": [
    "import numpy as np\n",
    "\n",
    "a = np.full((2, 2), 5)\n",
    "print(a)"
   ]
  },
  {
   "cell_type": "markdown",
   "id": "d51452a6",
   "metadata": {},
   "source": [
    "### # 항등행렬, 단위행렬 - eye\n",
    "---"
   ]
  },
  {
   "cell_type": "code",
   "execution_count": 9,
   "id": "40ab57b5",
   "metadata": {
    "ExecuteTime": {
     "end_time": "2022-01-28T15:31:55.843115Z",
     "start_time": "2022-01-28T15:31:55.827101Z"
    }
   },
   "outputs": [
    {
     "name": "stdout",
     "output_type": "stream",
     "text": [
      "[[1. 0. 0. 0. 0.]\n",
      " [0. 1. 0. 0. 0.]\n",
      " [0. 0. 1. 0. 0.]\n",
      " [0. 0. 0. 1. 0.]\n",
      " [0. 0. 0. 0. 1.]]\n"
     ]
    }
   ],
   "source": [
    "import numpy as np\n",
    "\n",
    "ar2 = np.eye(5)\n",
    "print(ar2)"
   ]
  },
  {
   "cell_type": "markdown",
   "id": "3f61390b",
   "metadata": {},
   "source": [
    "### # arange, reshape\n",
    "---"
   ]
  },
  {
   "cell_type": "code",
   "execution_count": 40,
   "id": "836e4d38",
   "metadata": {},
   "outputs": [
    {
     "name": "stdout",
     "output_type": "stream",
     "text": [
      "[ 0  1  2  3  4  5  6  7  8  9 10 11 12 13 14] \n",
      "\n",
      "[[ 0  1  2  3  4]\n",
      " [ 5  6  7  8  9]\n",
      " [10 11 12 13 14]] \n",
      "\n",
      "[[[ 0  1  2  3  4]]\n",
      "\n",
      " [[ 5  6  7  8  9]]\n",
      "\n",
      " [[10 11 12 13 14]]]\n"
     ]
    }
   ],
   "source": [
    "# arrange 함수 : python의 range함수의 배열 버전\n",
    "# reshape : 행렬의 배열을 바꿔준다\n",
    "\n",
    "import numpy as np\n",
    "\n",
    "arr1 = np.arange(15)\n",
    "print(arr1, '\\n')\n",
    "\n",
    "arr2 = arr1.reshape(3, 5)\n",
    "print(arr2, '\\n')\n",
    "\n",
    "arr3 = arr1.reshape(3, 1, 5)\n",
    "print(arr3)"
   ]
  },
  {
   "cell_type": "code",
   "execution_count": 50,
   "id": "972ae7b8",
   "metadata": {},
   "outputs": [
    {
     "name": "stdout",
     "output_type": "stream",
     "text": [
      "[[ 1  2]\n",
      " [ 3  4]\n",
      " [ 5  6]\n",
      " [ 7  8]\n",
      " [ 9 10]] \n",
      "\n",
      " (5, 2)\n"
     ]
    }
   ],
   "source": [
    "# array1을 생성하고 reshape 함수를 이용, (5, 2) 배열을 생성하고 크기를 같이 출력하세요.\n",
    "\n",
    "import numpy as np\n",
    "\n",
    "array1 = np.arange(1, 11).reshape(5, 2)\n",
    "\n",
    "print(array1, '\\n\\n', array1.shape)"
   ]
  },
  {
   "cell_type": "code",
   "execution_count": 59,
   "id": "8a11921b",
   "metadata": {},
   "outputs": [
    {
     "name": "stdout",
     "output_type": "stream",
     "text": [
      "[ 0  1  2  3  4  5  6  7  8  9 10 11 12 13 14 15 16 17 18 19 20 21 22 23\n",
      " 24 25 26 27 28 29] \n",
      "\n",
      "[[ 0  1  2  3  4  5  6  7  8  9]\n",
      " [10 11 12 13 14 15 16 17 18 19]\n",
      " [20 21 22 23 24 25 26 27 28 29]] \n",
      "\n",
      "[[[ 0  1  2  3  4]\n",
      "  [ 5  6  7  8  9]\n",
      "  [10 11 12 13 14]]\n",
      "\n",
      " [[15 16 17 18 19]\n",
      "  [20 21 22 23 24]\n",
      "  [25 26 27 28 29]]]\n"
     ]
    }
   ],
   "source": [
    "# 0 ~ 29 일차원 배열을 생선한 후 다시 2, 3차원 배열로 변환하여 출력\n",
    "\n",
    "import numpy as np\n",
    "\n",
    "array1 = np.arange(30)\n",
    "print(array1, '\\n')\n",
    "print(array1.reshape(3, 10), '\\n')\n",
    "print(array1.reshape(2, 3, 5))"
   ]
  },
  {
   "cell_type": "code",
   "execution_count": 65,
   "id": "f7576762",
   "metadata": {},
   "outputs": [
    {
     "name": "stdout",
     "output_type": "stream",
     "text": [
      "[[ 0  1  2]\n",
      " [ 3  4  5]\n",
      " [ 6  7  8]\n",
      " [ 9 10 11]\n",
      " [12 13 14]\n",
      " [15 16 17]\n",
      " [18 19 20]\n",
      " [21 22 23]\n",
      " [24 25 26]\n",
      " [27 28 29]] (10, 3) \n",
      "\n",
      "[[[ 0  1  2  3  4]\n",
      "  [ 5  6  7  8  9]]\n",
      "\n",
      " [[10 11 12 13 14]\n",
      "  [15 16 17 18 19]]\n",
      "\n",
      " [[20 21 22 23 24]\n",
      "  [25 26 27 28 29]]] (3, 2, 5) \n",
      "\n"
     ]
    }
   ],
   "source": [
    "# reshape(-1, -1) 차원 변경 : 계산 가능한 경우 -1부분을 자동으로 배열\n",
    "\n",
    "import numpy as np\n",
    "\n",
    "array1 = np.arange(30)\n",
    "ar12 = array1.reshape(10, -1)\n",
    "ar13 = array1.reshape(-1, 2, 5)\n",
    "print(ar12, ar12.shape, '\\n')\n",
    "print(ar13, ar13.shape, '\\n')"
   ]
  },
  {
   "cell_type": "code",
   "execution_count": 103,
   "id": "d9b958b7",
   "metadata": {},
   "outputs": [
    {
     "name": "stdout",
     "output_type": "stream",
     "text": [
      "[[ 0  1  2  3  4  5  6  7  8  9]\n",
      " [10 11 12 13 14 15 16 17 18 19]\n",
      " [20 21 22 23 24 25 26 27 28 29]] \n",
      "\n",
      "[ 0  1  2  3  4  5  6  7  8  9 10 11 12 13 14 15 16 17 18 19 20 21 22 23\n",
      " 24 25 26 27 28 29] (30,) \n",
      "\n",
      "[[[ 0  1]\n",
      "  [ 2  3]\n",
      "  [ 4  5]\n",
      "  [ 6  7]\n",
      "  [ 8  9]]\n",
      "\n",
      " [[10 11]\n",
      "  [12 13]\n",
      "  [14 15]\n",
      "  [16 17]\n",
      "  [18 19]]\n",
      "\n",
      " [[20 21]\n",
      "  [22 23]\n",
      "  [24 25]\n",
      "  [26 27]\n",
      "  [28 29]]]\n"
     ]
    }
   ],
   "source": [
    "import numpy as np\n",
    "\n",
    "array = np.arange(30).reshape(3, 10)\n",
    "print(array, '\\n')\n",
    "print(array.reshape(30), array.reshape(-1).shape, '\\n')\n",
    "print(array.reshape(3, 5, -1))\n"
   ]
  },
  {
   "cell_type": "markdown",
   "id": "f2d978ad",
   "metadata": {},
   "source": [
    "## # 행렬의 종류\n",
    "---\n",
    "- 정방행렬은 행과 열의 수가 같은 행렬\n",
    "- 대각행렬은 주대각선 원소를 제외한 모든 원소들이 0인 정방행렬\n",
    "- 항등행렬은 행렬 곱셈 연산에 항등원으로 작용하는 행렬\n",
    "- 영행렬은 모든 원소가 0인 행렬로 곱셈연산에서 영원으로 작용하는 행렬\n",
    "- 전치행렬은 주대각선 원소를 기준으로 행과 열을 바꿔주는 행렬\n",
    "- 직교행렬은 행렬 A의 역행렬이 A의 전치행렬이고 A의 전치행렬과 A행렬을 곱하였을 때 항등행렬이 나오는 행렬"
   ]
  },
  {
   "cell_type": "markdown",
   "id": "a2a9714f",
   "metadata": {},
   "source": [
    "### # 정방행렬\n",
    "---"
   ]
  },
  {
   "cell_type": "code",
   "execution_count": 10,
   "id": "b2405c1b",
   "metadata": {
    "ExecuteTime": {
     "end_time": "2022-01-28T15:32:52.376920Z",
     "start_time": "2022-01-28T15:32:52.360913Z"
    }
   },
   "outputs": [
    {
     "name": "stdout",
     "output_type": "stream",
     "text": [
      "[[7 7 7 7 7]\n",
      " [7 7 7 7 7]\n",
      " [7 7 7 7 7]\n",
      " [7 7 7 7 7]\n",
      " [7 7 7 7 7]]\n"
     ]
    }
   ],
   "source": [
    "import numpy as np\n",
    "\n",
    "array = np.full((5, 5), 7)\n",
    "print(array)"
   ]
  },
  {
   "cell_type": "markdown",
   "id": "15633c31",
   "metadata": {},
   "source": [
    "### # 항등행렬, 단위행렬\n",
    "---"
   ]
  },
  {
   "cell_type": "code",
   "execution_count": 11,
   "id": "a2042832",
   "metadata": {
    "ExecuteTime": {
     "end_time": "2022-01-28T15:33:06.251323Z",
     "start_time": "2022-01-28T15:33:06.244318Z"
    }
   },
   "outputs": [
    {
     "name": "stdout",
     "output_type": "stream",
     "text": [
      "[[1. 0. 0. 0. 0.]\n",
      " [0. 1. 0. 0. 0.]\n",
      " [0. 0. 1. 0. 0.]\n",
      " [0. 0. 0. 1. 0.]\n",
      " [0. 0. 0. 0. 1.]]\n"
     ]
    }
   ],
   "source": [
    "import numpy as np\n",
    "\n",
    "a = np.eye(5)\n",
    "print(a)"
   ]
  },
  {
   "cell_type": "markdown",
   "id": "f1a43662",
   "metadata": {},
   "source": [
    "### # 영행렬\n",
    "---"
   ]
  },
  {
   "cell_type": "code",
   "execution_count": 115,
   "id": "49380ca4",
   "metadata": {},
   "outputs": [
    {
     "name": "stdout",
     "output_type": "stream",
     "text": [
      "[[0. 0. 0. 0. 0.]\n",
      " [0. 0. 0. 0. 0.]\n",
      " [0. 0. 0. 0. 0.]\n",
      " [0. 0. 0. 0. 0.]\n",
      " [0. 0. 0. 0. 0.]]\n"
     ]
    }
   ],
   "source": [
    "import numpy as py\n",
    "\n",
    "a = np.zeros((5, 5))\n",
    "print(a)"
   ]
  },
  {
   "cell_type": "markdown",
   "id": "5d68f60e",
   "metadata": {},
   "source": [
    "ndarray 데이터 형태 지정 및 변경\n",
    "<img src = '데이터 형태.jpg' style = 'width = 300px;'>"
   ]
  },
  {
   "cell_type": "code",
   "execution_count": 156,
   "id": "01e15331",
   "metadata": {},
   "outputs": [
    {
     "name": "stdout",
     "output_type": "stream",
     "text": [
      "[1. 2. 3.]\n",
      "[1 2 3]\n"
     ]
    }
   ],
   "source": [
    "import numpy as np\n",
    "\n",
    "arr1 = np.array([1, 2, 3], dtype = np.float64)\n",
    "arr2 = np.array([1, 2, 3], dtype = np.int32)\n",
    "\n",
    "print(arr1)\n",
    "print(arr2)"
   ]
  },
  {
   "cell_type": "code",
   "execution_count": 177,
   "id": "e37fb46f",
   "metadata": {},
   "outputs": [
    {
     "name": "stdout",
     "output_type": "stream",
     "text": [
      "int32 \n",
      "\n",
      "[ 1.  2.  3.  4.  5.  6.  7.  8.  9. 10.]\n",
      "float64\n"
     ]
    }
   ],
   "source": [
    "# 타입 변경\n",
    "\n",
    "import numpy as np\n",
    "\n",
    "arr = np.array([1, 2, 3, 4, 5, 6, 7, 8, 9, 10])\n",
    "print(arr.dtype, '\\n')\n",
    "\n",
    "float_arr = arr.astype(np.float64)\n",
    "print(float_arr)\n",
    "print(float_arr.dtype)"
   ]
  },
  {
   "cell_type": "code",
   "execution_count": 178,
   "id": "e8576f77",
   "metadata": {},
   "outputs": [
    {
     "name": "stdout",
     "output_type": "stream",
     "text": [
      "[1 1 1 1 1 1 1 1 1 1]\n",
      "[0 0 0 0 0 0 0 0 0 0]\n"
     ]
    }
   ],
   "source": [
    "# empty 함수 : shape와 dtype을 입력 받아 초기화되지 않은 배열을 만들어준다\n",
    "# empty 함수를 실행할 때마다 값이 다른 것을 확인할 수 있다. 이는 해당 메모리 영역에 어떤 데이터가 남아있던지 상관없이 그대로 영역의 주소만 알려줄 뿐 초기화는 사용자에게 맡기기 때문에.\n",
    "\n",
    "print(np.empty(shape = (10), dtype = np.int8))\n",
    "print(np.zeros(shape = (10), dtype = np.int8))"
   ]
  },
  {
   "cell_type": "code",
   "execution_count": 210,
   "id": "9ed2669b",
   "metadata": {},
   "outputs": [
    {
     "name": "stdout",
     "output_type": "stream",
     "text": [
      "[b'1' b'2' b'3' b'4'] |S1\n"
     ]
    }
   ],
   "source": [
    "# 문자열 타입으로 배열 만들기\n",
    "\n",
    "import numpy as np\n",
    "\n",
    "arr = np.array([1, 2, 3, 4], dtype = 'S') # = arr = np.array([1, 2, 3, 4], dtype = np.string_)\n",
    "print(arr, arr.dtype)"
   ]
  },
  {
   "cell_type": "code",
   "execution_count": 211,
   "id": "3e2d6269",
   "metadata": {},
   "outputs": [
    {
     "name": "stdout",
     "output_type": "stream",
     "text": [
      "[1 2 3 4] int32\n",
      "[1. 2. 3. 4.] float64\n"
     ]
    }
   ],
   "source": [
    "# int의 기본타입은 int32, float의 기본타입은 float64\n",
    "\n",
    "import numpy as np\n",
    "\n",
    "arr = np.array([1, 2, 3, 4], dtype = 'S')\n",
    "arr2 = arr.astype(int)\n",
    "print(arr2, arr2.dtype)\n",
    "arr1 = arr.astype(float)\n",
    "print(arr1, arr1.dtype)"
   ]
  },
  {
   "cell_type": "code",
   "execution_count": 24,
   "id": "4e65ea60",
   "metadata": {},
   "outputs": [
    {
     "name": "stdout",
     "output_type": "stream",
     "text": [
      "[1 2 3]\n",
      "[1.2 2.3 3. ] float64 \n",
      "\n",
      "[1 2 3] int32\n"
     ]
    }
   ],
   "source": [
    "# 정수와 실수로 구성된 list_e = [1.2, 2.3, 3]을 numpy를 이용해서 실수형과 정수형으로 각각 출력하세요.\n",
    "\n",
    "import numpy as np\n",
    "\n",
    "list_e = [1.2, 2.3, 3]\n",
    "print(np.array(list_e, dtype = np.int32))\n",
    "arr = np.array(list_e)\n",
    "print(arr, arr.dtype, '\\n')\n",
    "\n",
    "arr1 = arr.astype(int)\n",
    "print(arr1, arr1.dtype)"
   ]
  },
  {
   "cell_type": "code",
   "execution_count": 235,
   "id": "16294a85",
   "metadata": {},
   "outputs": [
    {
     "name": "stdout",
     "output_type": "stream",
     "text": [
      "[[1 2 3]\n",
      " [4 5 6]] int32\n",
      "\n",
      "[[ 1  4  9]\n",
      " [16 25 36]] \n",
      "\n",
      "[[0 0 0]\n",
      " [0 0 0]] \n",
      "\n"
     ]
    }
   ],
   "source": [
    "# 배열의 산술 연산\n",
    "# arr = np.array([[1, 2, 3], [4, 5, 6]])\n",
    "\n",
    "arr = np.arange(1, 7).reshape(2, 3)\n",
    "print(arr, arr.dtype)\n",
    "\n",
    "print()\n",
    "\n",
    "print(arr * arr, '\\n')\n",
    "print(arr - arr, '\\n')"
   ]
  },
  {
   "cell_type": "code",
   "execution_count": 239,
   "id": "25b82649",
   "metadata": {},
   "outputs": [
    {
     "data": {
      "text/plain": [
       "array([[False,  True, False],\n",
       "       [ True, False,  True]])"
      ]
     },
     "execution_count": 239,
     "metadata": {},
     "output_type": "execute_result"
    }
   ],
   "source": [
    "arr2 = np.array([[0., 4., 1.], [7., 2., 12.,]])\n",
    "arr2 > arr"
   ]
  },
  {
   "cell_type": "code",
   "execution_count": 254,
   "id": "958b9a5e",
   "metadata": {},
   "outputs": [
    {
     "name": "stdout",
     "output_type": "stream",
     "text": [
      "[[12 14 16]\n",
      " [18 20 22]\n",
      " [24 26 28]] \n",
      "\n",
      "[[12 14 16]\n",
      " [18 20 22]\n",
      " [24 26 28]] \n",
      "\n",
      "[[10 10 10]\n",
      " [10 10 10]\n",
      " [10 10 10]] \n",
      "\n",
      "[[10 10 10]\n",
      " [10 10 10]\n",
      " [10 10 10]] \n",
      "\n",
      "[[ 11  24  39]\n",
      " [ 56  75  96]\n",
      " [119 144 171]] \n",
      "\n",
      "[[ 11  24  39]\n",
      " [ 56  75  96]\n",
      " [119 144 171]] \n",
      "\n",
      "[[11.          6.          4.33333333]\n",
      " [ 3.5         3.          2.66666667]\n",
      " [ 2.42857143  2.25        2.11111111]] \n",
      "\n",
      "[[11.          6.          4.33333333]\n",
      " [ 3.5         3.          2.66666667]\n",
      " [ 2.42857143  2.25        2.11111111]]\n"
     ]
    }
   ],
   "source": [
    "# 기본 사칙연산\n",
    "\n",
    "value1 = np.arange(1, 10).reshape(3, -1)\n",
    "value2 = np.arange(11, 20).reshape(3, -1)\n",
    "\n",
    "print(value2 + value1, '\\n')\n",
    "print(np.add(value1, value2), '\\n')\n",
    "\n",
    "print(value2 - value1, '\\n')\n",
    "print(np.subtract(value2, value1), '\\n')\n",
    "\n",
    "print(value2 * value1, '\\n')\n",
    "print(np.multiply(value2, value1), '\\n')\n",
    "\n",
    "print(value2 / value1, '\\n')\n",
    "print(np.divide(value2, value1))"
   ]
  },
  {
   "cell_type": "code",
   "execution_count": 279,
   "id": "27f5a4c5",
   "metadata": {},
   "outputs": [
    {
     "data": {
      "text/plain": [
       "array([[ 1.0467235 ,  1.13395612, -1.03501164],\n",
       "       [-0.54752277,  0.19712192, -1.09794693]])"
      ]
     },
     "execution_count": 279,
     "metadata": {},
     "output_type": "execute_result"
    }
   ],
   "source": [
    "arr = np.random.randn(2, 3)\n",
    "arr"
   ]
  },
  {
   "cell_type": "code",
   "execution_count": 299,
   "id": "70fe09fc",
   "metadata": {},
   "outputs": [
    {
     "data": {
      "text/plain": [
       "-0.0504"
      ]
     },
     "execution_count": 299,
     "metadata": {},
     "output_type": "execute_result"
    }
   ],
   "source": [
    "arr.mean().round(4) # 전체의 평균값"
   ]
  },
  {
   "cell_type": "code",
   "execution_count": 285,
   "id": "811450de",
   "metadata": {},
   "outputs": [
    {
     "data": {
      "text/plain": [
       "array([ 0.38188933, -0.48278259])"
      ]
     },
     "execution_count": 285,
     "metadata": {},
     "output_type": "execute_result"
    }
   ],
   "source": [
    "arr.mean(axis = 1) # 각 열의 평균값"
   ]
  },
  {
   "cell_type": "code",
   "execution_count": 286,
   "id": "1a446dc3",
   "metadata": {},
   "outputs": [
    {
     "data": {
      "text/plain": [
       "array([ 0.24960037,  0.66553902, -1.06647928])"
      ]
     },
     "execution_count": 286,
     "metadata": {},
     "output_type": "execute_result"
    }
   ],
   "source": [
    "arr.mean(axis = 0) # 각 행의 평균값"
   ]
  },
  {
   "cell_type": "code",
   "execution_count": 305,
   "id": "98043f1e",
   "metadata": {},
   "outputs": [
    {
     "data": {
      "text/plain": [
       "array([ 1.0467235 ,  1.18693852, -1.22849518,  0.67262908,  0.13258994,\n",
       "       -0.14557671])"
      ]
     },
     "execution_count": 305,
     "metadata": {},
     "output_type": "execute_result"
    }
   ],
   "source": [
    "arr.cumprod()"
   ]
  },
  {
   "cell_type": "code",
   "execution_count": 539,
   "id": "9886f1a9",
   "metadata": {},
   "outputs": [
    {
     "name": "stdout",
     "output_type": "stream",
     "text": [
      "[[1 2 3]\n",
      " [4 5 6]\n",
      " [7 8 9]] \n",
      "\n",
      "[7 8 9] \n",
      "\n",
      "9 \n",
      "\n",
      "[1 4 7] \n",
      "\n",
      "[[1 2 3]\n",
      " [4 5 6]] \n",
      "\n",
      "[[1 2 3]\n",
      " [7 8 9]]\n"
     ]
    }
   ],
   "source": [
    "# 인덱싱, 슬라이싱\n",
    "\n",
    "arr2d = np.arange(1, 10).reshape(3, -1)\n",
    "\n",
    "print(arr2d, '\\n')\n",
    "\n",
    "print(arr2d[2], '\\n')\n",
    "\n",
    "print(arr2d[2][2], '\\n')\n",
    "\n",
    "print(arr2d[:, 0], '\\n') # = print(arr2d[0:, 0])\n",
    "\n",
    "print(arr2d[:2, :], '\\n') # = print(arr2d[:2, 0:])\n",
    "\n",
    "print(arr2d[[0, 2], :])"
   ]
  },
  {
   "cell_type": "code",
   "execution_count": 497,
   "id": "bac7dcee",
   "metadata": {},
   "outputs": [
    {
     "name": "stdout",
     "output_type": "stream",
     "text": [
      "[3 6] \n",
      "\n",
      "[[1 2]\n",
      " [4 5]]\n"
     ]
    }
   ],
   "source": [
    "# arr2d에서 [3, 6], [[1, 2], [4, 5]]를 출력하세요\n",
    "\n",
    "import numpy as np\n",
    "\n",
    "arr2d = np.arange(1, 10).reshape(3, -1)\n",
    "\n",
    "print(arr2d[:2, 2], '\\n')\n",
    "print(arr2d[:2, :2])"
   ]
  },
  {
   "cell_type": "code",
   "execution_count": 551,
   "id": "55693ff5",
   "metadata": {},
   "outputs": [
    {
     "name": "stdout",
     "output_type": "stream",
     "text": [
      "[[ 0  1  2  3  4  5]\n",
      " [ 6  7  8  9 10 11]\n",
      " [12 13 14 15 16 17]\n",
      " [18 19 20 21 22 23]\n",
      " [24 25 26 27 28 29]] \n",
      "\n",
      "[14 15 16]\n",
      "[3 9]\n",
      "[ 1  7 13]\n",
      "[ 1  7 13]\n"
     ]
    }
   ],
   "source": [
    "import numpy as np\n",
    "\n",
    "arr = np.arange(30).reshape(5, 6)\n",
    "print(arr, '\\n')\n",
    "\n",
    "print(arr[2, 2:5])\n",
    "print(arr[:2, 3])\n",
    "print(arr[:3, 1])\n",
    "print(arr[[0, 1, 2], 1])"
   ]
  },
  {
   "cell_type": "code",
   "execution_count": 554,
   "id": "2b9c7328",
   "metadata": {},
   "outputs": [
    {
     "name": "stdout",
     "output_type": "stream",
     "text": [
      "[[0, 1, 2, 3, 4, 5], [6, 7, 8, 9, 10, 11], [12, 13, 14, 15, 16, 17], [18, 19, 20, 21, 22, 23], [24, 25, 26, 27, 28, 29]] <class 'list'>\n"
     ]
    }
   ],
   "source": [
    "# 배열을 리스트로 변환\n",
    "\n",
    "import numpy as np\n",
    "\n",
    "arr = np.arange(30).reshape(5, 6)\n",
    "li = arr.tolist()\n",
    "\n",
    "print(li, type(li))"
   ]
  },
  {
   "cell_type": "code",
   "execution_count": 12,
   "id": "b10cc6ad",
   "metadata": {},
   "outputs": [
    {
     "name": "stdout",
     "output_type": "stream",
     "text": [
      "[1 2 3 4 5 6 7 8 9]\n",
      "[6 7 8 9]\n",
      "[False False False False False  True  True  True  True]\n"
     ]
    }
   ],
   "source": [
    "# 불린(boolean) 인덱싱\n",
    "# 특정 조건에 맞는 것을 True로 인식하여 True인 값만 뽑아준다\n",
    "\n",
    "import numpy as np\n",
    "\n",
    "arr1d = np.arange(1, 10)\n",
    "# arr1d = list(range(1, 10))\n",
    "print(arr1d)\n",
    "\n",
    "arr3 = arr1d[arr1d > 5] \n",
    "print(arr3)\n",
    "print(arr1d > 5)"
   ]
  },
  {
   "cell_type": "code",
   "execution_count": 13,
   "id": "0ca774f5",
   "metadata": {},
   "outputs": [
    {
     "name": "stdout",
     "output_type": "stream",
     "text": [
      "[6 7 8 9]\n",
      "[6 7 8 9]\n"
     ]
    }
   ],
   "source": [
    "# arr1d에서 일반 인덱스를 이용해서 [6 7 8 9]를 출력\n",
    "\n",
    "arr1d = np.arange(1, 10)\n",
    "print(arr1d[5:])\n",
    "print(arr1d[arr1d > 5])"
   ]
  },
  {
   "cell_type": "code",
   "execution_count": 15,
   "id": "7522c7b4",
   "metadata": {},
   "outputs": [
    {
     "name": "stdout",
     "output_type": "stream",
     "text": [
      "[11 12 13 14]\n"
     ]
    }
   ],
   "source": [
    "array_e = np.arange(1, 15)\n",
    "\n",
    "print(array_e[array_e / 2 > 5])\n"
   ]
  },
  {
   "cell_type": "code",
   "execution_count": 1,
   "id": "fe87f2e2",
   "metadata": {},
   "outputs": [
    {
     "ename": "NameError",
     "evalue": "name 'np' is not defined",
     "output_type": "error",
     "traceback": [
      "\u001b[1;31m---------------------------------------------------------------------------\u001b[0m",
      "\u001b[1;31mNameError\u001b[0m                                 Traceback (most recent call last)",
      "\u001b[1;32m~\\AppData\\Local\\Temp/ipykernel_10748/438659542.py\u001b[0m in \u001b[0;36m<module>\u001b[1;34m\u001b[0m\n\u001b[1;32m----> 1\u001b[1;33m \u001b[0mnames\u001b[0m \u001b[1;33m=\u001b[0m \u001b[0mnp\u001b[0m\u001b[1;33m.\u001b[0m\u001b[0marray\u001b[0m\u001b[1;33m(\u001b[0m\u001b[1;33m[\u001b[0m\u001b[1;34m'Bob'\u001b[0m\u001b[1;33m,\u001b[0m \u001b[1;34m'joe'\u001b[0m\u001b[1;33m,\u001b[0m \u001b[1;34m'Will'\u001b[0m\u001b[1;33m,\u001b[0m \u001b[1;34m'Bob'\u001b[0m\u001b[1;33m,\u001b[0m \u001b[1;34m'Will'\u001b[0m\u001b[1;33m,\u001b[0m \u001b[1;34m'Joe'\u001b[0m\u001b[1;33m,\u001b[0m \u001b[1;34m'Joe'\u001b[0m\u001b[1;33m]\u001b[0m\u001b[1;33m)\u001b[0m\u001b[1;33m\u001b[0m\u001b[1;33m\u001b[0m\u001b[0m\n\u001b[0m\u001b[0;32m      2\u001b[0m \u001b[0mdata\u001b[0m \u001b[1;33m=\u001b[0m \u001b[0mnp\u001b[0m\u001b[1;33m.\u001b[0m\u001b[0mrandom\u001b[0m\u001b[1;33m.\u001b[0m\u001b[0mrandn\u001b[0m\u001b[1;33m(\u001b[0m\u001b[1;36m7\u001b[0m\u001b[1;33m,\u001b[0m \u001b[1;36m4\u001b[0m\u001b[1;33m)\u001b[0m\u001b[1;33m\u001b[0m\u001b[1;33m\u001b[0m\u001b[0m\n\u001b[0;32m      3\u001b[0m \u001b[0mprint\u001b[0m\u001b[1;33m(\u001b[0m\u001b[0mnames\u001b[0m\u001b[1;33m,\u001b[0m \u001b[1;34m'\\n'\u001b[0m\u001b[1;33m)\u001b[0m\u001b[1;33m\u001b[0m\u001b[1;33m\u001b[0m\u001b[0m\n\u001b[0;32m      4\u001b[0m \u001b[0mprint\u001b[0m\u001b[1;33m(\u001b[0m\u001b[0mdata\u001b[0m\u001b[1;33m)\u001b[0m\u001b[1;33m\u001b[0m\u001b[1;33m\u001b[0m\u001b[0m\n\u001b[0;32m      5\u001b[0m \u001b[1;33m\u001b[0m\u001b[0m\n",
      "\u001b[1;31mNameError\u001b[0m: name 'np' is not defined"
     ]
    }
   ],
   "source": [
    "names = np.array(['Bob', 'joe', 'Will', 'Bob', 'Will', 'Joe', 'Joe'])\n",
    "data = np.random.randn(7, 4)\n",
    "print(names, '\\n')\n",
    "print(data)\n",
    "\n",
    "print(names == \"Bob\", '\\n')\n",
    "print(data[names == 'Bob'], '\\n')\n",
    "print(data[names == 'Bob', 2:], '\\n')\n",
    "print(data[names != 'Bob'], '\\n')\n",
    "print(data[(names == 'Bob') | (names == 'Will')], '\\n')\n",
    "\n",
    "data[data < 0] = 0\n",
    "print(data)"
   ]
  },
  {
   "cell_type": "code",
   "execution_count": 15,
   "id": "30953107",
   "metadata": {},
   "outputs": [
    {
     "name": "stdout",
     "output_type": "stream",
     "text": [
      "[[0. 0. 0. 0.]\n",
      " [1. 1. 1. 1.]\n",
      " [2. 2. 2. 2.]\n",
      " [3. 3. 3. 3.]\n",
      " [4. 4. 4. 4.]\n",
      " [5. 5. 5. 5.]\n",
      " [6. 6. 6. 6.]\n",
      " [7. 7. 7. 7.]] \n",
      "\n",
      "[[4. 4. 4. 4.]\n",
      " [3. 3. 3. 3.]\n",
      " [0. 0. 0. 0.]\n",
      " [6. 6. 6. 6.]] \n",
      "\n",
      "[[5. 5. 5. 5.]\n",
      " [3. 3. 3. 3.]\n",
      " [1. 1. 1. 1.]]\n"
     ]
    }
   ],
   "source": [
    "# Fancy Indexing\n",
    "\n",
    "import numpy as np\n",
    "\n",
    "arr = np.empty((8, 4))\n",
    "for i in range(8):\n",
    "    arr[i] = i\n",
    "print(arr, '\\n')\n",
    "print(arr[[4, 3, 0, 6]], '\\n')\n",
    "print(arr[[-3, -5, -7]])"
   ]
  },
  {
   "cell_type": "code",
   "execution_count": 3,
   "id": "eeeb6afa",
   "metadata": {},
   "outputs": [
    {
     "name": "stdout",
     "output_type": "stream",
     "text": [
      "[[ 0  1  2  3]\n",
      " [ 4  5  6  7]\n",
      " [ 8  9 10 11]\n",
      " [12 13 14 15]\n",
      " [16 17 18 19]\n",
      " [20 21 22 23]\n",
      " [24 25 26 27]\n",
      " [28 29 30 31]] \n",
      "\n",
      "[ 4 23 29 10] \n",
      "\n",
      "[[ 4  5  6  7]\n",
      " [20 21 22 23]\n",
      " [28 29 30 31]\n",
      " [ 8  9 10 11]] \n",
      "\n",
      "[[ 4  7  5  6]\n",
      " [20 23 21 22]\n",
      " [28 31 29 30]\n",
      " [ 8 11  9 10]] \n",
      "\n",
      "[28 31 29 30]\n"
     ]
    }
   ],
   "source": [
    "arr = np.arange(32).reshape((8, -1))\n",
    "print(arr, '\\n')\n",
    "\n",
    "print(arr[[1, 5, 7, 2], [0, 3, 1, 2]], '\\n')\n",
    "print(arr[[1, 5, 7, 2]], '\\n')\n",
    "print(arr[[1, 5, 7, 2]][:, [0, 3, 1, 2]], '\\n')\n",
    "print(arr[[1, 5, 7, 2]][[2], [0, 3, 1, 2]])"
   ]
  },
  {
   "cell_type": "code",
   "execution_count": 4,
   "id": "5092541a",
   "metadata": {},
   "outputs": [
    {
     "name": "stdout",
     "output_type": "stream",
     "text": [
      "[[ 0  1  2  3  4]\n",
      " [ 5  6  7  8  9]\n",
      " [10 11 12 13 14]] \n",
      "\n",
      "[[ 0  5 10]\n",
      " [ 1  6 11]\n",
      " [ 2  7 12]\n",
      " [ 3  8 13]\n",
      " [ 4  9 14]]\n"
     ]
    }
   ],
   "source": [
    "# 배열 전치와 축 바꾸기\n",
    "\n",
    "import numpy as np\n",
    "\n",
    "arr = np.arange(15).reshape(3,5)\n",
    "print(arr,'\\n')\n",
    "print(arr.T)"
   ]
  }
 ],
 "metadata": {
  "hide_input": false,
  "kernelspec": {
   "display_name": "Python 3 (ipykernel)",
   "language": "python",
   "name": "python3"
  },
  "language_info": {
   "codemirror_mode": {
    "name": "ipython",
    "version": 3
   },
   "file_extension": ".py",
   "mimetype": "text/x-python",
   "name": "python",
   "nbconvert_exporter": "python",
   "pygments_lexer": "ipython3",
   "version": "3.8.12"
  },
  "toc": {
   "base_numbering": 1,
   "nav_menu": {},
   "number_sections": false,
   "sideBar": true,
   "skip_h1_title": false,
   "title_cell": "Table of Contents",
   "title_sidebar": "Contents",
   "toc_cell": false,
   "toc_position": {
    "height": "1187px",
    "left": "138px",
    "top": "128px",
    "width": "391px"
   },
   "toc_section_display": true,
   "toc_window_display": true
  },
  "varInspector": {
   "cols": {
    "lenName": 16,
    "lenType": 16,
    "lenVar": 40
   },
   "kernels_config": {
    "python": {
     "delete_cmd_postfix": "",
     "delete_cmd_prefix": "del ",
     "library": "var_list.py",
     "varRefreshCmd": "print(var_dic_list())"
    },
    "r": {
     "delete_cmd_postfix": ") ",
     "delete_cmd_prefix": "rm(",
     "library": "var_list.r",
     "varRefreshCmd": "cat(var_dic_list()) "
    }
   },
   "types_to_exclude": [
    "module",
    "function",
    "builtin_function_or_method",
    "instance",
    "_Feature"
   ],
   "window_display": false
  }
 },
 "nbformat": 4,
 "nbformat_minor": 5
}
