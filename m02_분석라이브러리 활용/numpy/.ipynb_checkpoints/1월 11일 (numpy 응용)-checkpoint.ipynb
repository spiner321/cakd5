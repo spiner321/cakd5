{
 "cells": [
  {
   "cell_type": "code",
   "execution_count": 1,
   "id": "8e6f21e6",
   "metadata": {},
   "outputs": [],
   "source": [
    "import numpy as np"
   ]
  },
  {
   "cell_type": "code",
   "execution_count": 2,
   "id": "f803aa58",
   "metadata": {},
   "outputs": [
    {
     "data": {
      "text/plain": [
       "array([[2, 5, 7, 1, 4],\n",
       "       [1, 5, 5, 8, 9],\n",
       "       [5, 7, 4, 4, 5],\n",
       "       [3, 2, 8, 5, 2],\n",
       "       [9, 2, 3, 7, 5]])"
      ]
     },
     "execution_count": 2,
     "metadata": {},
     "output_type": "execute_result"
    }
   ],
   "source": [
    "arr = np.random.randint(1, 10, size = (5, 5))\n",
    "arr"
   ]
  },
  {
   "cell_type": "code",
   "execution_count": 3,
   "id": "78a1d490",
   "metadata": {},
   "outputs": [
    {
     "name": "stdout",
     "output_type": "stream",
     "text": [
      "[[2 1 5 3 9]\n",
      " [5 5 7 2 2]\n",
      " [7 5 4 8 3]\n",
      " [1 8 4 5 7]\n",
      " [4 9 5 2 5]]\n",
      "[[2 1 5 3 9]\n",
      " [5 5 7 2 2]\n",
      " [7 5 4 8 3]\n",
      " [1 8 4 5 7]\n",
      " [4 9 5 2 5]]\n"
     ]
    }
   ],
   "source": [
    "# 전치\n",
    "\n",
    "print(arr.T)\n",
    "print(np.transpose(arr))"
   ]
  },
  {
   "cell_type": "code",
   "execution_count": 4,
   "id": "e9d804cc",
   "metadata": {},
   "outputs": [
    {
     "data": {
      "text/plain": [
       "array([[120,  74,  90, 108,  93],\n",
       "       [ 74, 107, 110,  97, 114],\n",
       "       [ 90, 110, 163, 124, 124],\n",
       "       [108,  97, 124, 155, 141],\n",
       "       [ 93, 114, 124, 141, 151]])"
      ]
     },
     "execution_count": 4,
     "metadata": {},
     "output_type": "execute_result"
    }
   ],
   "source": [
    "# 행렬곱, 내적\n",
    "\n",
    "np.dot(arr.T, arr)"
   ]
  },
  {
   "cell_type": "code",
   "execution_count": 21,
   "id": "b2e1a75b",
   "metadata": {},
   "outputs": [
    {
     "name": "stdout",
     "output_type": "stream",
     "text": [
      "[[0 1 2]\n",
      " [3 4 5]] \n",
      "\n",
      "[[0 3]\n",
      " [1 4]\n",
      " [2 5]] \n",
      "\n",
      "[[0 3]\n",
      " [1 4]\n",
      " [2 5]]\n"
     ]
    }
   ],
   "source": [
    "a = np.arange(6).reshape((2, 3))\n",
    "print(a, '\\n')\n",
    "\n",
    "y = np.swapaxes(a, 0, 1) # 0은 2차원(열), 1은 1차원(행)\n",
    "print(y, '\\n')\n",
    "\n",
    "y = a.T\n",
    "y = np.transpose(a)\n",
    "print(y)"
   ]
  },
  {
   "cell_type": "code",
   "execution_count": 34,
   "id": "0b8d83a5",
   "metadata": {},
   "outputs": [
    {
     "name": "stdout",
     "output_type": "stream",
     "text": [
      "[[  1   2   3   4   5   6   7   8   9  10]\n",
      " [ 20  19  18  17  16  15  14  13  12  11]\n",
      " [ 21  22  23  24  25  26  27  28  29  30]\n",
      " [ 40  39  38  37  36  35  34  33  32  31]\n",
      " [ 41  42  43  44  45  46  47  48  49  50]\n",
      " [ 60  59  58  57  56  55  54  53  52  51]\n",
      " [ 61  62  63  64  65  66  67  68  69  70]\n",
      " [ 80  79  78  77  76  75  74  73  72  71]\n",
      " [ 81  82  83  84  85  86  87  88  89  90]\n",
      " [100  99  98  97  96  95  94  93  92  91]]\n",
      "\n",
      "[[ 1  2  3  4  5  6  7  8  9 10]\n",
      " [20 19 18 17 16 15 14 13 12 11]\n",
      " [21 22 23 24 25 26 27 28 29 30]\n",
      " [20 19 18 17 16 15 14 13 12 11]\n",
      " [41 42 43 44 45 46 47 48 49 50]\n",
      " [20 19 18 17 16 15 14 13 12 11]\n",
      " [61 62 63 64 65 66 67 68 69 70]\n",
      " [20 19 18 17 16 15 14 13 12 11]\n",
      " [81 82 83 84 85 86 87 88 89 90]\n",
      " [20 19 18 17 16 15 14 13 12 11]]\n",
      "\n",
      "[[  1   2   3   4   5   6   7   8   9  10]\n",
      " [ 20  19  18  17  16  15  14  13  12  11]\n",
      " [ 21  22  23  24  25  26  27  28  29  30]\n",
      " [ 40  39  38  37  36  35  34  33  32  31]\n",
      " [ 41  42  43  44  45  46  47  48  49  50]\n",
      " [ 60  59  58  57  56  55  54  53  52  51]\n",
      " [ 61  62  63  64  65  66  67  68  69  70]\n",
      " [ 80  79  78  77  76  75  74  73  72  71]\n",
      " [ 81  82  83  84  85  86  87  88  89  90]\n",
      " [100  99  98  97  96  95  94  93  92  91]]\n"
     ]
    }
   ],
   "source": [
    "# 1 ~ 100을 아래와 같이 출력하세요.\n",
    "\n",
    "# [[  1   2   3   4   5   6   7   8   9  10]\n",
    "#  [ 20  19  18  17  16  15  14  13  12  11]\n",
    "#  [ 21  22  23  24  25  26  27  28  29  30]\n",
    "#  [ 40  39  38  37  36  35  34  33  32  31]\n",
    "#  [ 41  42  43  44  45  46  47  48  49  50]\n",
    "#  [ 60  59  58  57  56  55  54  53  52  51]\n",
    "#  [ 61  62  63  64  65  66  67  68  69  70]\n",
    "#  [ 80  79  78  77  76  75  74  73  72  71]\n",
    "#  [ 81  82  83  84  85  86  87  88  89  90]\n",
    "#  [100  99  98  97  96  95  94  93  92  91]] <class 'numpy.ndarray'>\n",
    "\n",
    "a = np.arange(1, 101).reshape((10, -1))\n",
    "for i in range(10):\n",
    "    if i % 2 == 1:\n",
    "        a[i] = a[i][::-1]\n",
    "print(a)\n",
    "\n",
    "print()\n",
    "\n",
    "arr = np.arange(1,101).reshape(10,10)\n",
    "arr[1::2] = arr[1::2][0, ::-1]\n",
    "# arr[1::2] = arr[1::2, ::-1]\n",
    "print(arr)\n",
    "\n",
    "print()\n",
    "\n",
    "arr = np.arange(1,101).reshape(10,10)\n",
    "arr[[1,3,5,7,9]] = arr[[1,3,5,7,9]][:,[9,8,7,6,5,4,3,2,1,0]]\n",
    "print(arr)"
   ]
  },
  {
   "cell_type": "code",
   "execution_count": 268,
   "id": "ceeb434b",
   "metadata": {},
   "outputs": [
    {
     "name": "stdout",
     "output_type": "stream",
     "text": [
      "[[[0 1 2]\n",
      "  [3 4 5]]] (1, 2, 3) \n",
      "\n",
      "[[[0 1 2]]\n",
      "\n",
      " [[3 4 5]]] (2, 1, 3)\n"
     ]
    }
   ],
   "source": [
    "# (0, 1, 2) : 각 차원의 인덱스 값\n",
    "# 3차원과 2차원을 바꾸는 경우 : (1, 2, 3) -> (2, 1, 3)\n",
    "\n",
    "a = np.arange(6).reshape(1, 2, 3) # axis0 (3차원) = 1, axis1 (2차원) = 2, axis2 (1차원) = 3\n",
    "print(a, a.shape, '\\n')\n",
    "\n",
    "y = np.transpose(a, (1, 0, 2)) # 괄호 안의 숫자는 원본 axis위치의 그 값을 말한다. axis1 -> axis0 = 2 / axis0 -> axis1 = 1 / axis2 -> axis2 = 3\n",
    "print(y, y.shape)"
   ]
  },
  {
   "cell_type": "code",
   "execution_count": 273,
   "id": "55fe2b99",
   "metadata": {},
   "outputs": [
    {
     "name": "stdout",
     "output_type": "stream",
     "text": [
      "[[[0 1 2]\n",
      "  [3 4 5]]] (1, 2, 3) \n",
      "\n",
      "[[[0]\n",
      "  [1]\n",
      "  [2]]\n",
      "\n",
      " [[3]\n",
      "  [4]\n",
      "  [5]]]\n"
     ]
    }
   ],
   "source": [
    "# (1, 2, 3) -> (2, 3, 1)\n",
    "a = np.arange(6).reshape(1, 2, 3)\n",
    "print(a, a.shape, '\\n')\n",
    "\n",
    "y = np.transpose(a, (1, 2, 0))\n",
    "print(y)"
   ]
  },
  {
   "cell_type": "code",
   "execution_count": 276,
   "id": "68a5aa75",
   "metadata": {},
   "outputs": [
    {
     "name": "stdout",
     "output_type": "stream",
     "text": [
      "[1 2 0]\n",
      "[1 2 0]\n"
     ]
    }
   ],
   "source": [
    "# 나머지를 구할 경우 사용하는 함수\n",
    "\n",
    "value1 = np.array([15, 30, 45])\n",
    "value2 = np.array([2, 7, 9])\n",
    "\n",
    "print(np.mod(value1, value2))\n",
    "print(np.remainder(value1, value2))"
   ]
  },
  {
   "cell_type": "code",
   "execution_count": 278,
   "id": "9b54fa5b",
   "metadata": {},
   "outputs": [
    {
     "name": "stdout",
     "output_type": "stream",
     "text": [
      "[1.17647059 0.54054054 1.         0.01      ]\n"
     ]
    }
   ],
   "source": [
    "# 각 수의 역수를 구해주는 함수\n",
    "\n",
    "value = np.array([0.85, 1.85, 1, 100])\n",
    "print(np.reciprocal(value))"
   ]
  },
  {
   "cell_type": "code",
   "execution_count": 282,
   "id": "feaa8dc9",
   "metadata": {},
   "outputs": [
    {
     "name": "stdout",
     "output_type": "stream",
     "text": [
      "[  4 100 225] \n",
      "\n",
      "[   2 1000 3375]\n"
     ]
    }
   ],
   "source": [
    "# 승수의 결과 값을 표시해주는 함수\n",
    "\n",
    "value1 = np.array([2, 10, 15])\n",
    "value2 = np.array([1, 3, 3])\n",
    "\n",
    "print(np.power(value1, 2), '\\n')\n",
    "print(np.power(value1, value2))"
   ]
  },
  {
   "cell_type": "code",
   "execution_count": 13,
   "id": "bcd6d490",
   "metadata": {},
   "outputs": [
    {
     "name": "stdout",
     "output_type": "stream",
     "text": [
      "-0.01940507031140029 \n",
      "\n",
      "0.9231623722663732\n"
     ]
    },
    {
     "data": {
      "text/plain": [
       "5"
      ]
     },
     "execution_count": 13,
     "metadata": {},
     "output_type": "execute_result"
    }
   ],
   "source": [
    "# 양수인 원소의 개수\n",
    "\n",
    "arr = np.random.randn(10)\n",
    "print(arr.mean(), '\\n')\n",
    "print(arr.std())\n",
    "\n",
    "(arr > 0).sum()"
   ]
  },
  {
   "cell_type": "code",
   "execution_count": 16,
   "id": "dcf04253",
   "metadata": {},
   "outputs": [
    {
     "data": {
      "text/plain": [
       "True"
      ]
     },
     "execution_count": 16,
     "metadata": {},
     "output_type": "execute_result"
    }
   ],
   "source": [
    "# 하나 이상의 값이 True인지 검사\n",
    "\n",
    "bools = np.array([False, False, True, True])\n",
    "bools.any()"
   ]
  },
  {
   "cell_type": "code",
   "execution_count": 18,
   "id": "6a3103b2",
   "metadata": {},
   "outputs": [
    {
     "data": {
      "text/plain": [
       "False"
      ]
     },
     "execution_count": 18,
     "metadata": {},
     "output_type": "execute_result"
    }
   ],
   "source": [
    "# 모든 원소가 True인지 검사\n",
    "\n",
    "bools.all()"
   ]
  },
  {
   "cell_type": "code",
   "execution_count": 26,
   "id": "ddeb4c41",
   "metadata": {},
   "outputs": [
    {
     "name": "stdout",
     "output_type": "stream",
     "text": [
      "[[ 1.36802695e+00  5.95771983e-01  5.85236956e-01 -1.18112097e-01]\n",
      " [ 1.21405016e+00 -7.45733305e-01  1.44915374e+00  7.56541409e-01]\n",
      " [ 2.16049770e-01 -3.95685639e-01 -1.02035340e+00  3.39648350e-01]\n",
      " [-1.81886524e+00 -1.61382002e-03 -8.97040578e-01  1.84452964e+00]] \n",
      "\n"
     ]
    },
    {
     "data": {
      "text/plain": [
       "array([[ 2,  2,  2, -2],\n",
       "       [ 2, -2,  2,  2],\n",
       "       [ 2, -2, -2,  2],\n",
       "       [-2, -2, -2,  2]])"
      ]
     },
     "execution_count": 26,
     "metadata": {},
     "output_type": "execute_result"
    }
   ],
   "source": [
    "# 삼항식의 벡터화 버전\n",
    "\n",
    "arr = np.random.randn(4, 4)\n",
    "print(arr, '\\n')\n",
    "np.where(arr > 0, 2, -2) # 삼항식 : (조건, 조건일때 True, 조건일때 False)"
   ]
  },
  {
   "cell_type": "code",
   "execution_count": 29,
   "id": "8e52ef1d",
   "metadata": {},
   "outputs": [
    {
     "data": {
      "text/plain": [
       "array([[ 2.00000000e+00,  2.00000000e+00,  2.00000000e+00,\n",
       "        -1.18112097e-01],\n",
       "       [ 2.00000000e+00, -7.45733305e-01,  2.00000000e+00,\n",
       "         2.00000000e+00],\n",
       "       [ 2.00000000e+00, -3.95685639e-01, -1.02035340e+00,\n",
       "         2.00000000e+00],\n",
       "       [-1.81886524e+00, -1.61382002e-03, -8.97040578e-01,\n",
       "         2.00000000e+00]])"
      ]
     },
     "execution_count": 29,
     "metadata": {},
     "output_type": "execute_result"
    }
   ],
   "source": [
    "# arr의 모든 양수를 2로 바꿀 경우\n",
    "\n",
    "np.where(arr > 0, 2, arr)"
   ]
  },
  {
   "cell_type": "code",
   "execution_count": 31,
   "id": "fb1555e4",
   "metadata": {},
   "outputs": [
    {
     "name": "stdout",
     "output_type": "stream",
     "text": [
      "[[1 2 3]\n",
      " [1 2 3]\n",
      " [1 2 3]] \n",
      "\n",
      "[[1 1 1]\n",
      " [2 2 2]\n",
      " [3 3 3]]\n"
     ]
    }
   ],
   "source": [
    "# 두개의 1차언 배열을 받아서 가능한 모든 (x, y)짝을 만들 수 있는 2차원 배열 2개 반환\n",
    "\n",
    "x = np.arange(1, 4)\n",
    "y = np.arange(1, 4)\n",
    "xs, ys = np.meshgrid(x, y)\n",
    "print(xs, '\\n')\n",
    "print(ys)"
   ]
  },
  {
   "cell_type": "code",
   "execution_count": 35,
   "id": "70f72ed8",
   "metadata": {},
   "outputs": [
    {
     "name": "stdout",
     "output_type": "stream",
     "text": [
      "[45 48 65 68 68 10 84 22 37 88] \n",
      "\n",
      "[10 22 37 45 48 65 68 68 84 88] \n",
      "\n",
      "[45 48 65 68 68 10 84 22 37 88] \n",
      "\n",
      "[10 22 37 45 48 65 68 68 84 88]\n"
     ]
    }
   ],
   "source": [
    "# np.sort()\n",
    "\n",
    "np.random.seed(0)\n",
    "arr = np.random.randint(1, 100, size = 10)\n",
    "print(arr, '\\n')\n",
    "print(np.sort(arr), '\\n')\n",
    "print(arr, '\\n')\n",
    "\n",
    "sorted_ = np.sort(arr)\n",
    "print(sorted_)"
   ]
  },
  {
   "cell_type": "code",
   "execution_count": 9,
   "id": "926eda3d",
   "metadata": {},
   "outputs": [
    {
     "name": "stdout",
     "output_type": "stream",
     "text": [
      "[[ 7  1]\n",
      " [ 8 12]] \n",
      "\n",
      "[[ 8 12]\n",
      " [ 1  7]] \n",
      "\n"
     ]
    }
   ],
   "source": [
    "# 행렬이 2차원 이상일 때 axis 축 값 설정을 통해 행, 열 방향으로 정렬 수행\n",
    "\n",
    "arr2d = np.array([[8, 12], [7, 1]])\n",
    "sort_ar2d_axis0 = np.sort(arr2d, axis = 0)\n",
    "print(sort_ar2d_axis0, '\\n')\n",
    "\n",
    "sort_ar2d_axis1 = np.sort(arr2d, axis = 1)\n",
    "print(sort_ar2d_axis1, '\\n')"
   ]
  },
  {
   "cell_type": "code",
   "execution_count": 131,
   "id": "b16c6674",
   "metadata": {},
   "outputs": [
    {
     "name": "stdout",
     "output_type": "stream",
     "text": [
      "[6 1 4 4 8 4 6 3 5 8] \n",
      "\n",
      "[1 3 4 4 4 5 6 6 8 8]\n"
     ]
    }
   ],
   "source": [
    "# ndarray.sort() : 원본 반영\n",
    "\n",
    "np.random.seed(0)\n",
    "arr = np.random.randint(1, 10, size = 10)\n",
    "print(arr, '\\n')\n",
    "arr.sort() # 원본 반영\n",
    "print(arr)"
   ]
  },
  {
   "cell_type": "code",
   "execution_count": 1,
   "id": "69f231a6",
   "metadata": {},
   "outputs": [
    {
     "ename": "NameError",
     "evalue": "name 'np' is not defined",
     "output_type": "error",
     "traceback": [
      "\u001b[1;31m---------------------------------------------------------------------------\u001b[0m",
      "\u001b[1;31mNameError\u001b[0m                                 Traceback (most recent call last)",
      "\u001b[1;32m~\\AppData\\Local\\Temp/ipykernel_12088/411730956.py\u001b[0m in \u001b[0;36m<module>\u001b[1;34m\u001b[0m\n\u001b[0;32m      1\u001b[0m \u001b[1;31m# 다차원 배열의 정렬은 sort 메소드에 넘긴 축에 따라 1차원 부분을 정렬\u001b[0m\u001b[1;33m\u001b[0m\u001b[1;33m\u001b[0m\u001b[1;33m\u001b[0m\u001b[0m\n\u001b[0;32m      2\u001b[0m \u001b[1;33m\u001b[0m\u001b[0m\n\u001b[1;32m----> 3\u001b[1;33m \u001b[0mnp\u001b[0m\u001b[1;33m.\u001b[0m\u001b[0mrandom\u001b[0m\u001b[1;33m.\u001b[0m\u001b[0mseed\u001b[0m\u001b[1;33m(\u001b[0m\u001b[1;36m0\u001b[0m\u001b[1;33m)\u001b[0m\u001b[1;33m\u001b[0m\u001b[1;33m\u001b[0m\u001b[0m\n\u001b[0m\u001b[0;32m      4\u001b[0m \u001b[0mar\u001b[0m \u001b[1;33m=\u001b[0m \u001b[0mnp\u001b[0m\u001b[1;33m.\u001b[0m\u001b[0mrandom\u001b[0m\u001b[1;33m.\u001b[0m\u001b[0mrandint\u001b[0m\u001b[1;33m(\u001b[0m\u001b[1;36m1\u001b[0m\u001b[1;33m,\u001b[0m \u001b[1;36m10\u001b[0m\u001b[1;33m,\u001b[0m \u001b[0msize\u001b[0m \u001b[1;33m=\u001b[0m \u001b[1;33m(\u001b[0m\u001b[1;36m5\u001b[0m\u001b[1;33m,\u001b[0m \u001b[1;36m3\u001b[0m\u001b[1;33m)\u001b[0m\u001b[1;33m)\u001b[0m\u001b[1;33m\u001b[0m\u001b[1;33m\u001b[0m\u001b[0m\n\u001b[0;32m      5\u001b[0m \u001b[0mprint\u001b[0m\u001b[1;33m(\u001b[0m\u001b[0mar\u001b[0m\u001b[1;33m,\u001b[0m \u001b[1;34m'\\n'\u001b[0m\u001b[1;33m)\u001b[0m\u001b[1;33m\u001b[0m\u001b[1;33m\u001b[0m\u001b[0m\n",
      "\u001b[1;31mNameError\u001b[0m: name 'np' is not defined"
     ]
    }
   ],
   "source": [
    "# 다차원 배열의 정렬은 sort 메소드에 넘긴 축에 따라 1차원 부분을 정렬\n",
    "\n",
    "np.random.seed(0)\n",
    "ar = np.random.randint(1, 10, size = (5, 3))\n",
    "print(ar, '\\n')\n",
    "# ar.sort() # 모든 행을 열방향 정렬이 default\n",
    "# ar.sort(0) # 1열을 행방향 정렬\n",
    "ar.sort(1) # 모든 행을 열방향 정렬\n",
    "print(ar)"
   ]
  },
  {
   "cell_type": "code",
   "execution_count": 168,
   "id": "b979fe06",
   "metadata": {},
   "outputs": [
    {
     "name": "stdout",
     "output_type": "stream",
     "text": [
      "[3 1 9 5]\n",
      "<class 'numpy.ndarray'>\n"
     ]
    },
    {
     "data": {
      "text/plain": [
       "array([1, 0, 3, 2], dtype=int64)"
      ]
     },
     "execution_count": 168,
     "metadata": {},
     "output_type": "execute_result"
    }
   ],
   "source": [
    "# 정렬된 행렬의 인덱스 반환 : 기존 원본 행렬의 원소에 대한 인덱스를 필요로 할 때\n",
    "\n",
    "org_array = np.array([3, 1, 9, 5])\n",
    "\n",
    "sort_indices = np.argsort(org_array)\n",
    "print(org_array)\n",
    "print(type(sort_indices))\n",
    "\n",
    "sort_indices"
   ]
  },
  {
   "cell_type": "code",
   "execution_count": 59,
   "id": "6f6747e1",
   "metadata": {},
   "outputs": [
    {
     "name": "stdout",
     "output_type": "stream",
     "text": [
      "[-2.78309732 -2.26136066 -2.04025201 -1.95331285 -1.84049437 -1.78801135\n",
      " -1.75199776 -1.64529759 -1.60957385 -1.5768917  -1.47421169 -1.40245299\n",
      " -1.31908057 -1.31840423 -1.28543097 -1.13468373 -1.10140226 -1.03288776\n",
      " -0.9999879  -0.98344736 -0.98212225 -0.96640228 -0.89364913 -0.79074475\n",
      " -0.77789014 -0.7429573  -0.73884411 -0.72519139 -0.70900196 -0.68922223\n",
      " -0.61284273 -0.61167559 -0.60456724 -0.59824569 -0.59724725 -0.58789617\n",
      " -0.56685124 -0.55998554 -0.55585195 -0.52978598 -0.52910344 -0.51385433\n",
      " -0.51141452 -0.49302777 -0.46276635 -0.44885766 -0.44664862 -0.42560121\n",
      " -0.34846686 -0.33920028 -0.3230511  -0.29346786 -0.27505888 -0.25396413\n",
      " -0.23427634 -0.19039307 -0.08337968 -0.07573534 -0.03488657 -0.0267111\n",
      "  0.03285693  0.05285687  0.05861654  0.08452077  0.10191117  0.11166652\n",
      "  0.14684811  0.28839002  0.29197984  0.33093039  0.42867064  0.44896375\n",
      "  0.46810797  0.471378    0.48629164  0.52718184  0.53480253  0.55254123\n",
      "  0.55692628  0.55803847  0.6328866   0.66329247  0.70776726  0.75772573\n",
      "  0.81775181  0.92239244  0.92632223  0.93081677  1.00298788  1.03493871\n",
      "  1.03568495  1.0715702   1.12319901  1.60949342  1.62290403  1.62522022\n",
      "  1.66102588  1.6769389   2.19168055  2.45426314]\n",
      "-1.7880113546004537\n",
      "[0.6328866  0.66329247 0.70776726 0.75772573 0.81775181 0.92239244\n",
      " 0.92632223 0.93081677 1.00298788 1.03493871 1.03568495 1.0715702\n",
      " 1.12319901 1.60949342 1.62290403 1.62522022 1.66102588 1.6769389\n",
      " 2.19168055 2.45426314]\n"
     ]
    }
   ],
   "source": [
    "# 배열에서 정렬한 후 5% 분위수 내의 요소만 출력\n",
    "\n",
    "large_arr = np.random.randn(100)\n",
    "large_arr.sort()\n",
    "print(large_arr)\n",
    "print(large_arr[int(0.05 * len(large_arr))])\n",
    "print(large_arr[80:])"
   ]
  },
  {
   "cell_type": "code",
   "execution_count": 24,
   "id": "cc8acb7b",
   "metadata": {},
   "outputs": [
    {
     "data": {
      "text/plain": [
       "array(['Bob', 'Joe', 'Will'], dtype='<U4')"
      ]
     },
     "execution_count": 24,
     "metadata": {},
     "output_type": "execute_result"
    }
   ],
   "source": [
    "# 배열 집합 연산\n",
    "\n",
    "names = np.array(['Bob', 'Joe', 'Will', 'Joe', 'Joe'])\n",
    "np.unique(names)\n"
   ]
  },
  {
   "cell_type": "code",
   "execution_count": 26,
   "id": "2c5f38b3",
   "metadata": {},
   "outputs": [
    {
     "name": "stdout",
     "output_type": "stream",
     "text": [
      "['Bob' 'Joe' 'Will']\n",
      "['Bob', 'Joe', 'Will']\n"
     ]
    }
   ],
   "source": [
    "print(np.unique(names))\n",
    "print(sorted(set(names)))"
   ]
  },
  {
   "cell_type": "code",
   "execution_count": 60,
   "id": "92a3bf2d",
   "metadata": {},
   "outputs": [
    {
     "data": {
      "text/plain": [
       "array([ True, False, False,  True,  True, False,  True])"
      ]
     },
     "execution_count": 60,
     "metadata": {},
     "output_type": "execute_result"
    }
   ],
   "source": [
    "# 첫번째 배열의 원소가 두번째 배열의 원소를 포함하는지 알려주는 불리언 배열을 반환\n",
    "\n",
    "values = np.array([6, 0, 0, 3, 2, 5, 6])\n",
    "np.in1d(values, [2, 3, 6])"
   ]
  },
  {
   "cell_type": "code",
   "execution_count": 82,
   "id": "eebea225",
   "metadata": {},
   "outputs": [],
   "source": [
    "# 배열 데이터의 입출력\n",
    "# np.save, np.load는 바이너리 형식, .npy 파일로 저장\n",
    "\n",
    "arr = np.arange(10)\n",
    "\n",
    "np.save('some_array', arr)"
   ]
  },
  {
   "cell_type": "code",
   "execution_count": 73,
   "id": "8230baab",
   "metadata": {},
   "outputs": [
    {
     "data": {
      "text/plain": [
       "array([0, 1, 2, 3, 4, 5, 6, 7, 8, 9])"
      ]
     },
     "execution_count": 73,
     "metadata": {},
     "output_type": "execute_result"
    }
   ],
   "source": [
    "np.load('some_array.npy')"
   ]
  },
  {
   "cell_type": "code",
   "execution_count": 76,
   "id": "ab4f4ab3",
   "metadata": {},
   "outputs": [
    {
     "name": "stdout",
     "output_type": "stream",
     "text": [
      "[0 1 2 3 4 5 6 7 8 9]\n"
     ]
    }
   ],
   "source": [
    "arry = np.load('some_array.npy')\n",
    "print(arry)"
   ]
  },
  {
   "cell_type": "code",
   "execution_count": 83,
   "id": "7431b51a",
   "metadata": {},
   "outputs": [],
   "source": [
    "# np.savez : 여러 개의 배열을 압축된 형식으로 저장\n",
    "\n",
    "arr = np.arange(10)\n",
    "arr1 = np.arange(25)\n",
    "\n",
    "np.savez('array_archive.npz', a = arr, b = arr1)"
   ]
  },
  {
   "cell_type": "code",
   "execution_count": 86,
   "id": "c16cee4e",
   "metadata": {},
   "outputs": [
    {
     "name": "stdout",
     "output_type": "stream",
     "text": [
      "[0 1 2 3 4 5 6 7 8 9]\n",
      "[ 0  1  2  3  4  5  6  7  8  9 10 11 12 13 14 15 16 17 18 19 20 21 22 23\n",
      " 24]\n"
     ]
    }
   ],
   "source": [
    "arch = np.load('array_archive.npz')\n",
    "print(arch['a'])\n",
    "print(arch['b'])"
   ]
  },
  {
   "cell_type": "code",
   "execution_count": 108,
   "id": "9426c97f",
   "metadata": {},
   "outputs": [
    {
     "name": "stdout",
     "output_type": "stream",
     "text": [
      "[1 0 1 0 1 5 1 0 1 0]\n"
     ]
    }
   ],
   "source": [
    "# 인덱싱을 사용하여 [1 0 1 0 1 0 1 0]을 출력하세요\n",
    "\n",
    "a = np.ones(10, dtype = int)\n",
    "a[[1, 3, 5, 7, 9]] = 0\n",
    "\n",
    "print(a)"
   ]
  },
  {
   "cell_type": "code",
   "execution_count": 114,
   "id": "a69e1f5e",
   "metadata": {},
   "outputs": [
    {
     "name": "stdout",
     "output_type": "stream",
     "text": [
      "[6 7 8 9]\n"
     ]
    }
   ],
   "source": [
    "# a = np.arange(10)에서 [6, 7, 8, 9]를 출력\n",
    "\n",
    "a = np.arange(10)\n",
    "print(a[a>5])"
   ]
  },
  {
   "cell_type": "code",
   "execution_count": 117,
   "id": "b18be152",
   "metadata": {},
   "outputs": [
    {
     "name": "stdout",
     "output_type": "stream",
     "text": [
      "9 0\n"
     ]
    }
   ],
   "source": [
    "# a에서 최대값, 최소값 출력\n",
    "\n",
    "print(max(a), min(a))"
   ]
  },
  {
   "cell_type": "code",
   "execution_count": 132,
   "id": "785fcdf8",
   "metadata": {},
   "outputs": [
    {
     "name": "stdout",
     "output_type": "stream",
     "text": [
      "[0 1 2 3 4 5 6 7 8 9]\n",
      "[0 1 2 3 4 5 6 7 8 9]\n"
     ]
    }
   ],
   "source": [
    "# a에서 인덱스 값\n",
    "\n",
    "print(np.argsort(a))\n",
    "print(a.argsort())"
   ]
  },
  {
   "cell_type": "code",
   "execution_count": 136,
   "id": "d9ea3ec6",
   "metadata": {},
   "outputs": [
    {
     "name": "stdout",
     "output_type": "stream",
     "text": [
      "최대값: [0]\n",
      "최소값: [0]\n"
     ]
    }
   ],
   "source": [
    "# a에서 최대값, 최소값의 인덱스\n",
    "\n",
    "a = np.arange(10)\n",
    "print(f'최대값: {np.argsort(max(a))}\\n최소값: {np.argsort(min(a))}')"
   ]
  },
  {
   "cell_type": "code",
   "execution_count": 137,
   "id": "d585acd4",
   "metadata": {},
   "outputs": [
    {
     "data": {
      "text/plain": [
       "array([9, 8, 7, 6, 5, 4, 3, 2, 1, 0], dtype=int64)"
      ]
     },
     "execution_count": 137,
     "metadata": {},
     "output_type": "execute_result"
    }
   ],
   "source": [
    "# a에서 인덱스 배열을 역순으로 출력하세요\n",
    "\n",
    "np.argsort(a)[::-1]"
   ]
  },
  {
   "cell_type": "code",
   "execution_count": 150,
   "id": "54fb00e6",
   "metadata": {},
   "outputs": [
    {
     "data": {
      "text/plain": [
       "array([[1., 1., 1., 1., 1., 1., 1., 1., 1., 1.],\n",
       "       [1., 0., 0., 0., 0., 0., 0., 0., 0., 1.],\n",
       "       [1., 0., 0., 0., 0., 0., 0., 0., 0., 1.],\n",
       "       [1., 0., 0., 0., 0., 0., 0., 0., 0., 1.],\n",
       "       [1., 0., 0., 0., 0., 0., 0., 0., 0., 1.],\n",
       "       [1., 0., 0., 0., 0., 0., 0., 0., 0., 1.],\n",
       "       [1., 0., 0., 0., 0., 0., 0., 0., 0., 1.],\n",
       "       [1., 0., 0., 0., 0., 0., 0., 0., 0., 1.],\n",
       "       [1., 0., 0., 0., 0., 0., 0., 0., 0., 1.],\n",
       "       [1., 1., 1., 1., 1., 1., 1., 1., 1., 1.]])"
      ]
     },
     "execution_count": 150,
     "metadata": {},
     "output_type": "execute_result"
    }
   ],
   "source": [
    "# np.ones((10,10))을 아래와 같이 출력\n",
    "\n",
    "# array([[1., 1., 1., 1., 1., 1., 1., 1., 1., 1.],\n",
    "#        [1., 0., 0., 0., 0., 0., 0., 0., 0., 1.],\n",
    "#        [1., 0., 0., 0., 0., 0., 0., 0., 0., 1.],\n",
    "#        [1., 0., 0., 0., 0., 0., 0., 0., 0., 1.],\n",
    "#        [1., 0., 0., 0., 0., 0., 0., 0., 0., 1.],\n",
    "#        [1., 0., 0., 0., 0., 0., 0., 0., 0., 1.],\n",
    "#        [1., 0., 0., 0., 0., 0., 0., 0., 0., 1.],\n",
    "#        [1., 0., 0., 0., 0., 0., 0., 0., 0., 1.],\n",
    "#        [1., 0., 0., 0., 0., 0., 0., 0., 0., 1.],\n",
    "#        [1., 1., 1., 1., 1., 1., 1., 1., 1., 1.]])\n",
    "\n",
    "b=np.ones((10,10))\n",
    "b[1:9, 1:9] = 0\n",
    "b\n"
   ]
  },
  {
   "cell_type": "markdown",
   "id": "dd43d1b6",
   "metadata": {},
   "source": [
    "### [파이썬 random 함수]"
   ]
  },
  {
   "cell_type": "code",
   "execution_count": 153,
   "id": "d96bfb73",
   "metadata": {},
   "outputs": [],
   "source": [
    "import random"
   ]
  },
  {
   "cell_type": "code",
   "execution_count": 252,
   "id": "f5fad4ca",
   "metadata": {},
   "outputs": [
    {
     "name": "stdout",
     "output_type": "stream",
     "text": [
      "0.7575914698166653 \n",
      "\n",
      "7 \n",
      "\n",
      "10.077140200636293 \n",
      "\n",
      "0 \n",
      "\n",
      "2 \n",
      "\n",
      "[1, 5, 4] \n",
      "\n",
      "None\n",
      "[2, 5, 1, 4, 3]\n"
     ]
    }
   ],
   "source": [
    "print(random.random(), '\\n') # 0.0 <= x < 1.0 사이\n",
    "print(random.randint(1, 10), '\\n') # 1에서 10사이의 정수 중에서 난수 값 리턴\n",
    "print(random.uniform(10, 11), '\\n') # (min, max) 사이 float 리턴\n",
    "print(random.randrange(10), '\\n') # 지정 범위 int 리턴\n",
    "print(random.choice([1, 2, 3, 4, 5]), '\\n') # 리스트 내부에 있는 요소를 랜덤하게 선택\n",
    "\n",
    "li = [1, 2, 3, 4, 5]\n",
    "print(random.sample(li, 3), '\\n') # 리스트 요소를 중복이 안되게 리턴\n",
    "\n",
    "print(random.shuffle(li)) # 리스트 요소를 다시 섞어서 리턴\n",
    "print(li)"
   ]
  },
  {
   "cell_type": "markdown",
   "id": "3d14a090",
   "metadata": {},
   "source": [
    "### [numpy random 함수]\n",
    "\n",
    "- np.random.seed : seed를 통한 난수 생성\n",
    "- np.random.randint : 균일분포의 정수 난수 1개 생성\n",
    "- np.random.rand : 0부터 1사이의 균일분포에서 난수 매트릭스 배열 생성\n",
    "- np.random.randn : 가우시안 표준 정규분포에서 난수 매트릭스 배열 생성\n",
    "- np.random.choice : 기존 데이터에서 sampling"
   ]
  },
  {
   "cell_type": "code",
   "execution_count": 256,
   "id": "2aa7a904",
   "metadata": {},
   "outputs": [
    {
     "name": "stdout",
     "output_type": "stream",
     "text": [
      "5 \n",
      "\n",
      "6 \n",
      "\n",
      "[5 6 9 8 1 4 3 7 2 2] \n",
      "\n",
      "[15 13 18 11 16 18 10 18 16 16] \n",
      "\n",
      "[[11 10 11 19 12]\n",
      " [14 19 11 11 11]\n",
      " [17 16 19 10 10]]\n"
     ]
    }
   ],
   "source": [
    "print(np.random.randint(6), '\\n') # 0 ~ 5까지 정수인 난수 1개\n",
    "print(np.random.randint(1, 20), '\\n') # 1 ~ 19까지 정수인 난수 1개\n",
    "print(np.random.randint(10, size = 10), '\\n') # 0 ~ 9까지 정수인 난수 10개\n",
    "print(np.random.randint(10, 20, size = 10), '\\n') # 10 ~ 19까지 정수인 난수 10개\n",
    "print(np.random.randint(10, 20, size = (3, 5))) # 10 ~ 19까지 청수인 난수로 3행 5열 배열 생성"
   ]
  },
  {
   "cell_type": "code",
   "execution_count": 259,
   "id": "248ebc35",
   "metadata": {},
   "outputs": [
    {
     "name": "stdout",
     "output_type": "stream",
     "text": [
      "[0.31961974 0.22114514 0.62844397 0.32701354 0.2904145  0.39283571] \n",
      "\n"
     ]
    },
    {
     "data": {
      "text/plain": [
       "0.3632454324079694"
      ]
     },
     "execution_count": 259,
     "metadata": {},
     "output_type": "execute_result"
    }
   ],
   "source": [
    "r = np.random.rand(6) # 0 ~ 1 사이의 군일분포\n",
    "print(r, '\\n')\n",
    "r.mean()"
   ]
  },
  {
   "cell_type": "code",
   "execution_count": 261,
   "id": "fff255fe",
   "metadata": {},
   "outputs": [
    {
     "data": {
      "text/plain": [
       "0.16513229269473806"
      ]
     },
     "execution_count": 261,
     "metadata": {},
     "output_type": "execute_result"
    }
   ],
   "source": [
    "# 표준 정규분포\n",
    "\n",
    "r = np.random.randn(6)\n",
    "r.mean()"
   ]
  },
  {
   "cell_type": "code",
   "execution_count": 589,
   "id": "8ee733b5",
   "metadata": {},
   "outputs": [
    {
     "name": "stdout",
     "output_type": "stream",
     "text": [
      "[2 3 1 5 4] \n",
      "\n"
     ]
    },
    {
     "data": {
      "text/plain": [
       "array([1, 4, 3, 5, 2])"
      ]
     },
     "execution_count": 589,
     "metadata": {},
     "output_type": "execute_result"
    }
   ],
   "source": [
    "list_ = np.arange(1, 6)\n",
    "print(list, '\\n')\n",
    "np.random.shuffle(list_)\n",
    "list_"
   ]
  },
  {
   "cell_type": "code",
   "execution_count": 598,
   "id": "6ff0b7aa",
   "metadata": {},
   "outputs": [
    {
     "data": {
      "text/plain": [
       "2"
      ]
     },
     "execution_count": 598,
     "metadata": {},
     "output_type": "execute_result"
    }
   ],
   "source": [
    "np.random.choice(list_)"
   ]
  },
  {
   "cell_type": "code",
   "execution_count": 280,
   "id": "f1006fe7",
   "metadata": {},
   "outputs": [
    {
     "name": "stdout",
     "output_type": "stream",
     "text": [
      "[ 2  3  7 11]\n",
      "[3 2 1 2]\n"
     ]
    }
   ],
   "source": [
    "a = np.array([11, 11, 3, 3, 2 ,2 ,2, 7])\n",
    "index, count = np.unique(a, return_counts = True)\n",
    "print(index)\n",
    "print(count)"
   ]
  },
  {
   "cell_type": "code",
   "execution_count": 59,
   "id": "dc71ebe8",
   "metadata": {},
   "outputs": [
    {
     "data": {
      "text/plain": [
       "array([1.26905701, 1.7748301 , 1.8871712 , 1.07087609, 1.97170011,\n",
       "       1.1545704 , 1.54004787, 1.32370209, 1.00816008, 1.70978471])"
      ]
     },
     "execution_count": 59,
     "metadata": {},
     "output_type": "execute_result"
    }
   ],
   "source": [
    "np.random.uniform(1.0, 2.0, 10)\n"
   ]
  },
  {
   "cell_type": "code",
   "execution_count": 691,
   "id": "44d1fbe1",
   "metadata": {},
   "outputs": [
    {
     "name": "stdout",
     "output_type": "stream",
     "text": [
      "[[0.99570271 0.05131442 0.62042464 0.40079519 0.52939139 0.33176066\n",
      "  0.58354187 0.36812671]\n",
      " [0.58678559 0.78071941 0.56916049 0.1805621  0.34279888 0.70146434\n",
      "  0.48688927 0.43651382]\n",
      " [0.09175481 0.82939801 0.39030836 0.49706724 0.18994858 0.70262232\n",
      "  0.99993469 0.44313011]\n",
      " [0.15923751 0.61133159 0.21927252 0.04958476 0.96959035 0.78248112\n",
      "  0.61412146 0.63137335]]\n"
     ]
    }
   ],
   "source": [
    "# 0 ~ 1 사이의 난수 실수값으로 행렬 생성\n",
    "# uniform 함수의 최소값, 최대값을 각각 0, 1로 지정한 것과 같음\n",
    "\n",
    "ar = np.random.random_sample((4, 8))\n",
    "print(ar)"
   ]
  },
  {
   "cell_type": "code",
   "execution_count": 290,
   "id": "7cf4d845",
   "metadata": {},
   "outputs": [
    {
     "name": "stdout",
     "output_type": "stream",
     "text": [
      "Requirement already satisfied: pandas in c:\\users\\spiner\\anaconda3\\envs\\cakd5\\lib\\site-packages (1.3.4)\n",
      "Requirement already satisfied: python-dateutil>=2.7.3 in c:\\users\\spiner\\anaconda3\\envs\\cakd5\\lib\\site-packages (from pandas) (2.8.2)\n",
      "Requirement already satisfied: numpy>=1.17.3 in c:\\users\\spiner\\anaconda3\\envs\\cakd5\\lib\\site-packages (from pandas) (1.21.2)\n",
      "Requirement already satisfied: pytz>=2017.3 in c:\\users\\spiner\\anaconda3\\envs\\cakd5\\lib\\site-packages (from pandas) (2021.3)\n",
      "Requirement already satisfied: six>=1.5 in c:\\users\\spiner\\anaconda3\\envs\\cakd5\\lib\\site-packages (from python-dateutil>=2.7.3->pandas) (1.16.0)\n"
     ]
    }
   ],
   "source": [
    "!pip install pandas\n"
   ]
  },
  {
   "cell_type": "code",
   "execution_count": 420,
   "id": "4928eee5",
   "metadata": {},
   "outputs": [
    {
     "name": "stdout",
     "output_type": "stream",
     "text": [
      "<class 'pandas.core.frame.DataFrame'>\n"
     ]
    },
    {
     "data": {
      "text/html": [
       "<div>\n",
       "<style scoped>\n",
       "    .dataframe tbody tr th:only-of-type {\n",
       "        vertical-align: middle;\n",
       "    }\n",
       "\n",
       "    .dataframe tbody tr th {\n",
       "        vertical-align: top;\n",
       "    }\n",
       "\n",
       "    .dataframe thead th {\n",
       "        text-align: right;\n",
       "    }\n",
       "</style>\n",
       "<table border=\"1\" class=\"dataframe\">\n",
       "  <thead>\n",
       "    <tr style=\"text-align: right;\">\n",
       "      <th></th>\n",
       "      <th>0</th>\n",
       "      <th>1</th>\n",
       "      <th>2</th>\n",
       "      <th>3</th>\n",
       "      <th>4</th>\n",
       "      <th>5</th>\n",
       "      <th>6</th>\n",
       "      <th>7</th>\n",
       "    </tr>\n",
       "  </thead>\n",
       "  <tbody>\n",
       "    <tr>\n",
       "      <th>0</th>\n",
       "      <td>0.379548</td>\n",
       "      <td>0.194355</td>\n",
       "      <td>0.100975</td>\n",
       "      <td>0.801776</td>\n",
       "      <td>0.849446</td>\n",
       "      <td>0.563238</td>\n",
       "      <td>0.642890</td>\n",
       "      <td>0.952435</td>\n",
       "    </tr>\n",
       "    <tr>\n",
       "      <th>1</th>\n",
       "      <td>0.845876</td>\n",
       "      <td>0.277837</td>\n",
       "      <td>0.660486</td>\n",
       "      <td>0.164208</td>\n",
       "      <td>0.566958</td>\n",
       "      <td>0.589147</td>\n",
       "      <td>0.356920</td>\n",
       "      <td>0.865494</td>\n",
       "    </tr>\n",
       "    <tr>\n",
       "      <th>2</th>\n",
       "      <td>0.615489</td>\n",
       "      <td>0.563981</td>\n",
       "      <td>0.021909</td>\n",
       "      <td>0.469173</td>\n",
       "      <td>0.627971</td>\n",
       "      <td>0.035094</td>\n",
       "      <td>0.746906</td>\n",
       "      <td>0.201114</td>\n",
       "    </tr>\n",
       "    <tr>\n",
       "      <th>3</th>\n",
       "      <td>0.943984</td>\n",
       "      <td>0.511012</td>\n",
       "      <td>0.978319</td>\n",
       "      <td>0.064090</td>\n",
       "      <td>0.390875</td>\n",
       "      <td>0.261878</td>\n",
       "      <td>0.346290</td>\n",
       "      <td>0.840434</td>\n",
       "    </tr>\n",
       "  </tbody>\n",
       "</table>\n",
       "</div>"
      ],
      "text/plain": [
       "          0         1         2         3         4         5         6  \\\n",
       "0  0.379548  0.194355  0.100975  0.801776  0.849446  0.563238  0.642890   \n",
       "1  0.845876  0.277837  0.660486  0.164208  0.566958  0.589147  0.356920   \n",
       "2  0.615489  0.563981  0.021909  0.469173  0.627971  0.035094  0.746906   \n",
       "3  0.943984  0.511012  0.978319  0.064090  0.390875  0.261878  0.346290   \n",
       "\n",
       "          7  \n",
       "0  0.952435  \n",
       "1  0.865494  \n",
       "2  0.201114  \n",
       "3  0.840434  "
      ]
     },
     "execution_count": 420,
     "metadata": {},
     "output_type": "execute_result"
    }
   ],
   "source": [
    "# 배열을 데이터프레임으로 변환\n",
    "\n",
    "import pandas as pd\n",
    "\n",
    "df = pd.DataFrame(ar)\n",
    "print(type(df))\n",
    "df"
   ]
  },
  {
   "cell_type": "code",
   "execution_count": 396,
   "id": "69446ca1",
   "metadata": {},
   "outputs": [
    {
     "name": "stdout",
     "output_type": "stream",
     "text": [
      "0    0.113871\n",
      "1    0.848252\n",
      "2    0.481425\n",
      "3    0.786891\n",
      "Name: 0, dtype: float64\n"
     ]
    },
    {
     "data": {
      "text/plain": [
       "pandas.core.series.Series"
      ]
     },
     "execution_count": 396,
     "metadata": {},
     "output_type": "execute_result"
    }
   ],
   "source": [
    "print(df[0])\n",
    "type(df[0])"
   ]
  },
  {
   "cell_type": "code",
   "execution_count": 579,
   "id": "5a161497",
   "metadata": {},
   "outputs": [
    {
     "data": {
      "text/html": [
       "<div>\n",
       "<style scoped>\n",
       "    .dataframe tbody tr th:only-of-type {\n",
       "        vertical-align: middle;\n",
       "    }\n",
       "\n",
       "    .dataframe tbody tr th {\n",
       "        vertical-align: top;\n",
       "    }\n",
       "\n",
       "    .dataframe thead th {\n",
       "        text-align: right;\n",
       "    }\n",
       "</style>\n",
       "<table border=\"1\" class=\"dataframe\">\n",
       "  <thead>\n",
       "    <tr style=\"text-align: right;\">\n",
       "      <th></th>\n",
       "      <th>id</th>\n",
       "      <th>gender</th>\n",
       "      <th>age</th>\n",
       "    </tr>\n",
       "  </thead>\n",
       "  <tbody>\n",
       "    <tr>\n",
       "      <th>1</th>\n",
       "      <td>596</td>\n",
       "      <td>1</td>\n",
       "      <td>99</td>\n",
       "    </tr>\n",
       "    <tr>\n",
       "      <th>2</th>\n",
       "      <td>187</td>\n",
       "      <td>0</td>\n",
       "      <td>60</td>\n",
       "    </tr>\n",
       "    <tr>\n",
       "      <th>3</th>\n",
       "      <td>539</td>\n",
       "      <td>0</td>\n",
       "      <td>72</td>\n",
       "    </tr>\n",
       "    <tr>\n",
       "      <th>4</th>\n",
       "      <td>582</td>\n",
       "      <td>1</td>\n",
       "      <td>77</td>\n",
       "    </tr>\n",
       "    <tr>\n",
       "      <th>5</th>\n",
       "      <td>33</td>\n",
       "      <td>1</td>\n",
       "      <td>53</td>\n",
       "    </tr>\n",
       "    <tr>\n",
       "      <th>6</th>\n",
       "      <td>841</td>\n",
       "      <td>1</td>\n",
       "      <td>110</td>\n",
       "    </tr>\n",
       "    <tr>\n",
       "      <th>7</th>\n",
       "      <td>835</td>\n",
       "      <td>1</td>\n",
       "      <td>108</td>\n",
       "    </tr>\n",
       "    <tr>\n",
       "      <th>8</th>\n",
       "      <td>200</td>\n",
       "      <td>1</td>\n",
       "      <td>11</td>\n",
       "    </tr>\n",
       "    <tr>\n",
       "      <th>9</th>\n",
       "      <td>483</td>\n",
       "      <td>0</td>\n",
       "      <td>76</td>\n",
       "    </tr>\n",
       "    <tr>\n",
       "      <th>10</th>\n",
       "      <td>129</td>\n",
       "      <td>1</td>\n",
       "      <td>71</td>\n",
       "    </tr>\n",
       "  </tbody>\n",
       "</table>\n",
       "</div>"
      ],
      "text/plain": [
       "     id  gender  age\n",
       "1   596       1   99\n",
       "2   187       0   60\n",
       "3   539       0   72\n",
       "4   582       1   77\n",
       "5    33       1   53\n",
       "6   841       1  110\n",
       "7   835       1  108\n",
       "8   200       1   11\n",
       "9   483       0   76\n",
       "10  129       1   71"
      ]
     },
     "execution_count": 579,
     "metadata": {},
     "output_type": "execute_result"
    }
   ],
   "source": [
    "columns = ['id', 'gender', 'age', 'region', 'product', 'price', 'qty', 'time']\n",
    "index = np.arange(4)\n",
    "\n",
    "df"
   ]
  },
  {
   "cell_type": "code",
   "execution_count": 575,
   "id": "fea1bebc",
   "metadata": {},
   "outputs": [
    {
     "data": {
      "text/html": [
       "<div>\n",
       "<style scoped>\n",
       "    .dataframe tbody tr th:only-of-type {\n",
       "        vertical-align: middle;\n",
       "    }\n",
       "\n",
       "    .dataframe tbody tr th {\n",
       "        vertical-align: top;\n",
       "    }\n",
       "\n",
       "    .dataframe thead th {\n",
       "        text-align: right;\n",
       "    }\n",
       "</style>\n",
       "<table border=\"1\" class=\"dataframe\">\n",
       "  <thead>\n",
       "    <tr style=\"text-align: right;\">\n",
       "      <th></th>\n",
       "      <th>id</th>\n",
       "      <th>gender</th>\n",
       "      <th>age</th>\n",
       "    </tr>\n",
       "  </thead>\n",
       "  <tbody>\n",
       "    <tr>\n",
       "      <th>1</th>\n",
       "      <td>596</td>\n",
       "      <td>1</td>\n",
       "      <td>99</td>\n",
       "    </tr>\n",
       "    <tr>\n",
       "      <th>2</th>\n",
       "      <td>187</td>\n",
       "      <td>0</td>\n",
       "      <td>60</td>\n",
       "    </tr>\n",
       "    <tr>\n",
       "      <th>3</th>\n",
       "      <td>539</td>\n",
       "      <td>0</td>\n",
       "      <td>72</td>\n",
       "    </tr>\n",
       "    <tr>\n",
       "      <th>4</th>\n",
       "      <td>582</td>\n",
       "      <td>1</td>\n",
       "      <td>77</td>\n",
       "    </tr>\n",
       "    <tr>\n",
       "      <th>5</th>\n",
       "      <td>33</td>\n",
       "      <td>1</td>\n",
       "      <td>53</td>\n",
       "    </tr>\n",
       "    <tr>\n",
       "      <th>6</th>\n",
       "      <td>841</td>\n",
       "      <td>1</td>\n",
       "      <td>110</td>\n",
       "    </tr>\n",
       "    <tr>\n",
       "      <th>7</th>\n",
       "      <td>835</td>\n",
       "      <td>1</td>\n",
       "      <td>108</td>\n",
       "    </tr>\n",
       "    <tr>\n",
       "      <th>8</th>\n",
       "      <td>200</td>\n",
       "      <td>1</td>\n",
       "      <td>11</td>\n",
       "    </tr>\n",
       "    <tr>\n",
       "      <th>9</th>\n",
       "      <td>483</td>\n",
       "      <td>0</td>\n",
       "      <td>76</td>\n",
       "    </tr>\n",
       "    <tr>\n",
       "      <th>10</th>\n",
       "      <td>129</td>\n",
       "      <td>1</td>\n",
       "      <td>71</td>\n",
       "    </tr>\n",
       "  </tbody>\n",
       "</table>\n",
       "</div>"
      ],
      "text/plain": [
       "     id  gender  age\n",
       "1   596       1   99\n",
       "2   187       0   60\n",
       "3   539       0   72\n",
       "4   582       1   77\n",
       "5    33       1   53\n",
       "6   841       1  110\n",
       "7   835       1  108\n",
       "8   200       1   11\n",
       "9   483       0   76\n",
       "10  129       1   71"
      ]
     },
     "execution_count": 575,
     "metadata": {},
     "output_type": "execute_result"
    }
   ],
   "source": [
    "# id, gender, age 컬럼에 대하여 의미있는 값으로 변환하여 3개의 컬럼으로 구성된 df를 출력하세요.\n",
    "\n",
    "h = np.zeros((3, 10)).astype(int) # 틀에 행을 넣을 때는 타입을 지정해줘야 결과물에서 지정한 문자타입이 \n",
    "id_ = np.random.randint(1, 1000, size = 10)\n",
    "gender = np.random.randint(2, size = 10)\n",
    "age = np.random.randint(0, 120, size = 10)\n",
    "\n",
    "\n",
    "h[0] = id_\n",
    "h[1] = gender\n",
    "h[2] = age\n",
    "\n",
    "\n",
    "h = np.transpose(h)\n",
    "\n",
    "columns = ['id', 'gender', 'age']\n",
    "index = np.arange(1, 11)\n",
    "df = pd.DataFrame(h, index, columns = columns)\n",
    "\n",
    "df"
   ]
  },
  {
   "cell_type": "code",
   "execution_count": 497,
   "id": "55c655fd",
   "metadata": {},
   "outputs": [
    {
     "data": {
      "text/html": [
       "<div>\n",
       "<style scoped>\n",
       "    .dataframe tbody tr th:only-of-type {\n",
       "        vertical-align: middle;\n",
       "    }\n",
       "\n",
       "    .dataframe tbody tr th {\n",
       "        vertical-align: top;\n",
       "    }\n",
       "\n",
       "    .dataframe thead th {\n",
       "        text-align: right;\n",
       "    }\n",
       "</style>\n",
       "<table border=\"1\" class=\"dataframe\">\n",
       "  <thead>\n",
       "    <tr style=\"text-align: right;\">\n",
       "      <th></th>\n",
       "      <th>ID</th>\n",
       "      <th>Gender</th>\n",
       "      <th>Age</th>\n",
       "    </tr>\n",
       "  </thead>\n",
       "  <tbody>\n",
       "    <tr>\n",
       "      <th>1</th>\n",
       "      <td>3803</td>\n",
       "      <td>F</td>\n",
       "      <td>14</td>\n",
       "    </tr>\n",
       "    <tr>\n",
       "      <th>2</th>\n",
       "      <td>2237</td>\n",
       "      <td>F</td>\n",
       "      <td>35</td>\n",
       "    </tr>\n",
       "    <tr>\n",
       "      <th>3</th>\n",
       "      <td>6581</td>\n",
       "      <td>M</td>\n",
       "      <td>31</td>\n",
       "    </tr>\n",
       "  </tbody>\n",
       "</table>\n",
       "</div>"
      ],
      "text/plain": [
       "     ID Gender Age\n",
       "1  3803      F  14\n",
       "2  2237      F  35\n",
       "3  6581      M  31"
      ]
     },
     "execution_count": 497,
     "metadata": {},
     "output_type": "execute_result"
    }
   ],
   "source": [
    "ID = np.random.randint(1000,10000,3)\n",
    "gen = np.random.choice(['M','F'],3)\n",
    "age = np.random.randint(10,40,3)\n",
    "\n",
    "data = np.array([ID,gen,age]).reshape(3,3).transpose()\n",
    "df=pd.DataFrame(data,np.arange(1,4),['ID','Gender','Age'])\n",
    "df\n"
   ]
  },
  {
   "cell_type": "code",
   "execution_count": 698,
   "id": "75dfb810",
   "metadata": {},
   "outputs": [
    {
     "data": {
      "text/html": [
       "<div>\n",
       "<style scoped>\n",
       "    .dataframe tbody tr th:only-of-type {\n",
       "        vertical-align: middle;\n",
       "    }\n",
       "\n",
       "    .dataframe tbody tr th {\n",
       "        vertical-align: top;\n",
       "    }\n",
       "\n",
       "    .dataframe thead th {\n",
       "        text-align: right;\n",
       "    }\n",
       "</style>\n",
       "<table border=\"1\" class=\"dataframe\">\n",
       "  <thead>\n",
       "    <tr style=\"text-align: right;\">\n",
       "      <th></th>\n",
       "      <th>id</th>\n",
       "      <th>gender</th>\n",
       "      <th>age</th>\n",
       "    </tr>\n",
       "  </thead>\n",
       "  <tbody>\n",
       "    <tr>\n",
       "      <th>0</th>\n",
       "      <td>1</td>\n",
       "      <td>0</td>\n",
       "      <td>10</td>\n",
       "    </tr>\n",
       "    <tr>\n",
       "      <th>1</th>\n",
       "      <td>2</td>\n",
       "      <td>1</td>\n",
       "      <td>20</td>\n",
       "    </tr>\n",
       "    <tr>\n",
       "      <th>2</th>\n",
       "      <td>3</td>\n",
       "      <td>0</td>\n",
       "      <td>30</td>\n",
       "    </tr>\n",
       "    <tr>\n",
       "      <th>3</th>\n",
       "      <td>4</td>\n",
       "      <td>0</td>\n",
       "      <td>40</td>\n",
       "    </tr>\n",
       "  </tbody>\n",
       "</table>\n",
       "</div>"
      ],
      "text/plain": [
       "   id  gender  age\n",
       "0   1       0   10\n",
       "1   2       1   20\n",
       "2   3       0   30\n",
       "3   4       0   40"
      ]
     },
     "execution_count": 698,
     "metadata": {},
     "output_type": "execute_result"
    }
   ],
   "source": [
    "ar = np.zeros((4, 3))\n",
    "columns = ['id', 'gender', 'age']\n",
    "index = [np.arange(4)]\n",
    "\n",
    "df = pd.DataFrame(ar, index, columns = columns)\n",
    "df.id = np.array([1, 2, 3, 4])\n",
    "df.gender = np.random.randint(2, size = 4)\n",
    "df.age = np.arange(1, 5) * 10\n",
    "\n",
    "df"
   ]
  }
 ],
 "metadata": {
  "kernelspec": {
   "display_name": "Python 3 (ipykernel)",
   "language": "python",
   "name": "python3"
  },
  "language_info": {
   "codemirror_mode": {
    "name": "ipython",
    "version": 3
   },
   "file_extension": ".py",
   "mimetype": "text/x-python",
   "name": "python",
   "nbconvert_exporter": "python",
   "pygments_lexer": "ipython3",
   "version": "3.8.12"
  }
 },
 "nbformat": 4,
 "nbformat_minor": 5
}
