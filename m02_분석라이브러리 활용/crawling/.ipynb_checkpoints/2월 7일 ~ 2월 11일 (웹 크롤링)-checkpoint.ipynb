{
 "cells": [
  {
   "cell_type": "code",
   "execution_count": 106,
   "id": "e27d1ee3",
   "metadata": {
    "ExecuteTime": {
     "end_time": "2022-02-11T09:05:26.877311Z",
     "start_time": "2022-02-11T09:05:26.810258Z"
    }
   },
   "outputs": [],
   "source": [
    "import requests\n",
    "import re\n",
    "import urllib\n",
    "from bs4 import BeautifulSoup\n",
    "\n",
    "import selenium\n",
    "import time\n",
    "from selenium import webdriver\n",
    "from selenium.webdriver.common.keys import Keys\n",
    "import warnings\n",
    "warnings.filterwarnings('ignore')"
   ]
  },
  {
   "cell_type": "markdown",
   "id": "88e54603",
   "metadata": {},
   "source": [
    "# [2월 7일]\n",
    "---"
   ]
  },
  {
   "cell_type": "markdown",
   "id": "1fb6eecc",
   "metadata": {},
   "source": [
    "## # HTML 구조\n",
    "---\n",
    "- 구조\n",
    " - \\<!Doctype html> : HTML5 문서를 선언하는 구문\n",
    " - \\<html></html> : HTML 문서의 시작과 끝\n",
    " - \\<head></head> : CSS, JavaScript, meta, title 정보들을 설정\n",
    " - \\<body></body> : 실제 홈페이지 화면을 나타내는 부분\n",
    "\n",
    "- 요소 구조\n",
    " - HTML 요소는 여러 속성들을 가질 수 있으며 속성들은 해당 요소에 대한 추가 정보를 제공\n",
    " - 시작 태그\\(< >)로 시작해서 종료 태그(</>)로 끝남\n",
    " - 요소 안에 다른 요소를 작성할 수 있음 \n",
    " <img src = 'html요소구조.jpg' STYLE = 'width:50px;'>\n",
    " $$$$\n",
    " \n",
    "## # HTML 태그\n",
    "---\n",
    "- p : 문단 작성\n",
    "- h : 폰트 크기 설정\n",
    "- ul(unordered list), ol(ordered list) : 리스트 작성\n",
    " -  li(항목 나열) : 리스트 각각의 요소 표시  \n",
    "- table : thead, tbody를 가질 수 있으며 표를 표현\n",
    " - tr : 행\n",
    " - th : (가운데 정렬,굵은 글씨체)\n",
    " - td : 각 행의 컬럼\n",
    "- input, button : 데이터를 넣는 폼과 페이지 조작 버튼 생성\n",
    "- select # select 태그로 선택 리스트 생성\n",
    "- a : 다른 페이지로 이동\n",
    " - 상대경로(내가 있는 경로부터의 경로)\n",
    " - 절대경로(항상 같은 url)\n",
    "- img : 이미지 포함 \n",
    " - src : 이미지 붙임\n",
    " - alt : 이미지 대체\n",
    "- span : p 태그 처럼 글을 추가. span 태그는 옆으로 나열. br 태그 사용하여 p 태그처럼 사용.\n",
    "- div : 화면 레이아웃을 잡는 역할. 하위 태그들의 영역을 잡아줌.\n",
    "css = \"\"\""
   ]
  },
  {
   "cell_type": "markdown",
   "id": "d4782cc4",
   "metadata": {},
   "source": [
    "## # CSS\n",
    "---\n",
    "- CSS로 웹 사이트를 꾸며주기 위해 해당 태그에 접근하는 방식을 크롤러에서도 사용.\n",
    "- selector : CSS로 꾸미기 위해 특정 요소에 접근하는 것을 셀렉터라고 함.\n",
    "- html 파일을 만들었다면 각각의 태그에 다르게 css 를 설정 할 것입니다. 이 때, 어느 요소에 스타일을 적용할지 알려주는 방식이 바로 css 선택자.\n",
    "- 태그를 이용하여 접근하면 태그는 전부 CSS 효과가 적용\n",
    "- class를 이용하면 원하는 요소만 CSS 효과 적용할 수 있고 원하는 요소만 수집할 수 있음.\n",
    "- id는 class와 다르게 id값이 고유해야 함 (id는 한페이지에 하나만 존재해야 함)\n",
    "- 부모 태그와 자식 태그를 나열하여 복잡한 셀렉터를 생성\n",
    "- CSS 선택자 이해\n",
    " - https://ssungkang.tistory.com/entry/css-css-%EC%84%A0%ED%83%9D%EC%9E%90selector-%EC%9D%98-%EC%A2%85%EB%A5%98%EC%99%80-%EC%98%88%EC%8B%9C\n",
    " - https://developer.mozilla.org/en-US/docs/Web/CSS/CSS_Selectors\n",
    " - https://www.nextree.co.kr/p8468/\n",
    "- css = \"\"\"\n"
   ]
  },
  {
   "cell_type": "markdown",
   "id": "83b784e1",
   "metadata": {},
   "source": [
    "## # JavaScript\n",
    "---\n",
    "- 웹 사이트에 기능을 넣어줌. script 태그를 이용하여 작성. head or body 하단에 위치\n",
    "- js를 이용하여 HTML 코드를 생성. 크롤러로 분석하기 가장 어려운 부분\n",
    "- DOM(Document Object Model)이란 HTML을 시각적으로 쉽게 표현하기 위해 만든 객체로 크롤러 만들 때 중요\n",
    "- 데이터를 수집하기 위해 DOM을 이용해 데이터에 접근한 후 해당 데이터 수집\n",
    "- 웹 브라우저는 HTML 코드를 가져온 후 JavaScript를 실행시킨 결과를 보여줌\n",
    "- 소스 보기 페이지에 수집하고자 하는 요소가 없다면 네트워크 탭을 이용, 서버에서 데이터를 받아오는 지 확인. 그렇지 않은 경우 셀레니움을 사용하여 해결\n",
    "- http://www.tcpschool.com/javascript/js_dom_document"
   ]
  },
  {
   "cell_type": "markdown",
   "id": "cf76899f",
   "metadata": {},
   "source": [
    "# [2월 9일]\n",
    "---"
   ]
  },
  {
   "cell_type": "markdown",
   "id": "47d56783",
   "metadata": {},
   "source": [
    "## # 파이썬을 활용한 데이터 가공\n",
    "---\n",
    "- 문자열 자료형(인덱싱) : 시퀀스 자료형으로 인덱스가 있고 인덱스 값으로 접근이 가능함\n",
    "- 파이썬에서 문자열을 쉽게 다룰 수 있도록 제공하는 내장함수\n",
    " - find : 해당문자가 없으면 -1 반환\n",
    " - index : 해당문자가 없으면 에러\n",
    " - strip : 데이터 가공 초기 단계에 불필요한 공백을 지울 때 사용\n",
    " - replace : 특정 문자를 원하는 내용으로 변경\n",
    "- 정규표현식\n",
    " - 특정한 규칙을 가진 문자열을 표현하기 위해 사용하는 형식\n",
    " - 주로 문자열의 검색 및 치환에 활용\n",
    " - re 모듈을 제공\n",
    " - 규칙을 정의하기 위해 메타 문자를 활용"
   ]
  },
  {
   "cell_type": "markdown",
   "id": "89869f15",
   "metadata": {
    "ExecuteTime": {
     "end_time": "2022-02-09T00:38:13.789961Z",
     "start_time": "2022-02-09T00:38:13.774947Z"
    }
   },
   "source": [
    "### # 인덱싱\n",
    "---"
   ]
  },
  {
   "cell_type": "code",
   "execution_count": 588,
   "id": "7785cccd",
   "metadata": {
    "ExecuteTime": {
     "end_time": "2022-02-10T06:30:31.261875Z",
     "start_time": "2022-02-10T06:30:31.250870Z"
    }
   },
   "outputs": [
    {
     "name": "stdout",
     "output_type": "stream",
     "text": [
      "k 기\n",
      "Abc bc Abc Bc\n",
      "K-Digital Training 5기\n"
     ]
    }
   ],
   "source": [
    "text = \"k-digital training 5기\"\n",
    "text1 = 'abc bc'\n",
    "print(text[0], text[-1])\n",
    "print(text1.capitalize(), text1.title())\n",
    "print(text.title())"
   ]
  },
  {
   "cell_type": "code",
   "execution_count": 590,
   "id": "d216d0a8",
   "metadata": {
    "ExecuteTime": {
     "end_time": "2022-02-10T06:30:42.802341Z",
     "start_time": "2022-02-10T06:30:42.784390Z"
    }
   },
   "outputs": [
    {
     "name": "stdout",
     "output_type": "stream",
     "text": [
      "<k-digital training 5기>;\n",
      "<k-digital training 5기>   ;\n",
      "   <k-digital training 5기>;\n"
     ]
    }
   ],
   "source": [
    "text1 = '   <k-digital training 5기>   '\n",
    "text2 = ';'\n",
    "print(text1.strip() + text2)\n",
    "print(text1.lstrip() + text2)\n",
    "print(text1.rstrip() + text2)"
   ]
  },
  {
   "cell_type": "code",
   "execution_count": 591,
   "id": "f85bfcb7",
   "metadata": {
    "ExecuteTime": {
     "end_time": "2022-02-10T06:30:42.959152Z",
     "start_time": "2022-02-10T06:30:42.947183Z"
    }
   },
   "outputs": [
    {
     "name": "stdout",
     "output_type": "stream",
     "text": [
      "<div>k-digital training 5기</title>\n",
      "<div>k-digital training 5기</title>\n",
      "<div>k-digital training 5기</div>\n"
     ]
    }
   ],
   "source": [
    "import re\n",
    "\n",
    "text = '<title>k-digital training 5기</title>'\n",
    "print(text.replace('<title', '<div'))\n",
    "print(text.replace('title', 'div', 1))\n",
    "print(re.sub('title', 'div', text))"
   ]
  },
  {
   "cell_type": "code",
   "execution_count": 592,
   "id": "c189c258",
   "metadata": {
    "ExecuteTime": {
     "end_time": "2022-02-10T06:30:43.164681Z",
     "start_time": "2022-02-10T06:30:43.151716Z"
    }
   },
   "outputs": [
    {
     "name": "stdout",
     "output_type": "stream",
     "text": [
      "<head>안녕하세요</head>\n",
      "<head>안녕하세요</head>\n"
     ]
    }
   ],
   "source": [
    "text = ('111<head>안녕하세요</head>22')\n",
    "re.search('<head>안녕하세요</head>', text).group(0)\n",
    "\n",
    "t = re.compile('[^0-9]+').search(text)\n",
    "print(t.group())\n",
    "\n",
    "body = re.search(r'\\D+',text)\n",
    "print(body.group())"
   ]
  },
  {
   "cell_type": "code",
   "execution_count": 593,
   "id": "d5fb95c6",
   "metadata": {
    "ExecuteTime": {
     "end_time": "2022-02-10T06:30:43.617146Z",
     "start_time": "2022-02-10T06:30:43.610133Z"
    }
   },
   "outputs": [
    {
     "data": {
      "text/plain": [
       "<re.Match object; span=(9, 14), match='안녕하세요'>"
      ]
     },
     "execution_count": 593,
     "metadata": {},
     "output_type": "execute_result"
    }
   ],
   "source": [
    "re.search('[가-힣]+', text)"
   ]
  },
  {
   "cell_type": "code",
   "execution_count": 594,
   "id": "ba90e12a",
   "metadata": {
    "ExecuteTime": {
     "end_time": "2022-02-10T06:30:44.008853Z",
     "start_time": "2022-02-10T06:30:44.000874Z"
    }
   },
   "outputs": [
    {
     "name": "stdout",
     "output_type": "stream",
     "text": [
      "<title>k-digital training 5기</title>\n",
      "k-digital training 5기\n"
     ]
    }
   ],
   "source": [
    "text = '<head>안녕하세요...<title>k-digital training 5기</title> 반갑습니다...</head>'\n",
    "print(re.search('<title>.+</title>', text).group())\n",
    "print(re.search('<title>(.+)</title>', text).group(1))"
   ]
  },
  {
   "cell_type": "code",
   "execution_count": 595,
   "id": "72491a63",
   "metadata": {
    "ExecuteTime": {
     "end_time": "2022-02-10T06:30:44.337716Z",
     "start_time": "2022-02-10T06:30:44.317769Z"
    }
   },
   "outputs": [
    {
     "data": {
      "text/plain": [
       "'k-digital training 5기'"
      ]
     },
     "execution_count": 595,
     "metadata": {},
     "output_type": "execute_result"
    }
   ],
   "source": [
    "t = re.search('<title>.+</title>', text).group()\n",
    "re.sub('<.+?>','', t)"
   ]
  },
  {
   "cell_type": "markdown",
   "id": "65b14635",
   "metadata": {},
   "source": [
    "## # requests 모듈\n",
    "---\n",
    "- pip install requests\n",
    "- http는 요청과 응답으로 이루어져 있음\n",
    "- 요청 응답 구조\n",
    " - GET : 정보를 가져오기 위해 요청\n",
    " - POST : 새로운 정보를 보내기 위해 요청\n",
    " - PUT : 수정할 정보를 보내기 위해 요청\n",
    " - DELETE : 정보를 삭제하기 위해 요청\n",
    "- 응답\n",
    " - 1XX : 요청을 받았고 작업 진행 중\n",
    " - 2XX : 사용자의 요청이 성공적으로 수행됨\n",
    " - 3XX : 요청은 완료되었으나 리디렉션이 필요\n",
    " - 4XX : 사용자의 요청이 잘못됨\n",
    " - 5XX : 서버 오류가 발생함"
   ]
  },
  {
   "cell_type": "code",
   "execution_count": null,
   "id": "acf44439",
   "metadata": {},
   "outputs": [],
   "source": [
    "import requests\n",
    "\n",
    "URL = 'https://naver.com'\n",
    "response = requests.get(URL)\n",
    "html_data = response.text\n",
    "html_data"
   ]
  },
  {
   "cell_type": "code",
   "execution_count": 597,
   "id": "5c4917e0",
   "metadata": {
    "ExecuteTime": {
     "end_time": "2022-02-10T06:30:45.310935Z",
     "start_time": "2022-02-10T06:30:45.290006Z"
    }
   },
   "outputs": [
    {
     "data": {
      "text/plain": [
       "<re.Match object; span=(365, 368), match='네이버'>"
      ]
     },
     "execution_count": 597,
     "metadata": {},
     "output_type": "execute_result"
    }
   ],
   "source": [
    "re.search('[가-힣]+', html_data)"
   ]
  },
  {
   "cell_type": "code",
   "execution_count": null,
   "id": "ebb176c4",
   "metadata": {},
   "outputs": [],
   "source": [
    "html_data.find('<meta property=')\n",
    "html_data[390:450]"
   ]
  },
  {
   "cell_type": "code",
   "execution_count": null,
   "id": "9256839c",
   "metadata": {},
   "outputs": [],
   "source": [
    "content0 = html_data.split('<meta property=')[0]\n",
    "content1 = html_data.split('<meta property=')[1]\n",
    "\n",
    "print(content0, '\\n')\n",
    "print(content1)"
   ]
  },
  {
   "cell_type": "code",
   "execution_count": null,
   "id": "a09a4cab",
   "metadata": {},
   "outputs": [],
   "source": [
    "content = re.search('네이버+', content1)\n",
    "content"
   ]
  },
  {
   "cell_type": "code",
   "execution_count": null,
   "id": "b320b3b5",
   "metadata": {},
   "outputs": [],
   "source": [
    "# 쿼리값을 파라미터값으로 직접 설정해서 찾을 수 있다.\n",
    "\n",
    "URL = 'https://search.naver.com/search.naver'\n",
    "params = {'query': '빅데이터'}\n",
    "response = requests.get(URL, params=params)\n",
    "response.status_code\n",
    "response.text"
   ]
  },
  {
   "cell_type": "code",
   "execution_count": null,
   "id": "da83b01a",
   "metadata": {
    "scrolled": true
   },
   "outputs": [],
   "source": [
    "URL = 'https://comic.naver.com/webtoon/detail'\n",
    "params = {'titled': 784255, 'no': 29, 'weekday': 'wed'}\n",
    "response = requests.get(URL, params)\n",
    "response.text"
   ]
  },
  {
   "cell_type": "code",
   "execution_count": null,
   "id": "3f091707",
   "metadata": {},
   "outputs": [],
   "source": [
    "URL = 'https://naver.com'\n",
    "\n",
    "response = requests.get(URL)\n",
    "response.status_code\n",
    "html_data = response.text\n",
    "html_data\n",
    "\n",
    "naver = response.text\n",
    "t = re.search('공지사항',naver)\n",
    "t.group()"
   ]
  },
  {
   "cell_type": "code",
   "execution_count": null,
   "id": "dabeb3f7",
   "metadata": {},
   "outputs": [],
   "source": [
    "url = 'https://naver.com'\n",
    "res = requests.get(url)\n",
    "res.status_code\n",
    "r = res.text\n",
    "\n",
    "# 인덱싱\n",
    "rr = r.find('공지사항')\n",
    "display(rr, r[rr:(rr+4)])"
   ]
  },
  {
   "cell_type": "markdown",
   "id": "d2768ee6",
   "metadata": {},
   "source": [
    "## # BeautifulSoup 모듈\n",
    "---\n",
    "- pip install beautifulsoup4\n",
    "- pip install lxml : xml \n",
    "- 홈페이지 내 데이터를 쉽게 추출할 수 있게 해주는 파이썬 외부 라이브러리\n",
    "- 웹 문서 내 수많은 HTML 태그들을 parser를 활요해 사용하기 편한 파이썬 객체로 만들어 제공\n",
    "- 웹 문서 구조를 알고 있다면 편하게 데이터를 뽑아 활요할 수 있음\n",
    "- BS는 HTML 문서를 태그 기반으로 구조화하여 태그로 원하는 데이터를 찾아가는 형식\n",
    "- find() : HTML의 해당 태그에 대한 첫번째 정보를 가져옴\n",
    " - find(속성 = '값') : HTML 해당 속성과 일치하는 값에 대한 첫번째 정보를 가져온다.\n",
    "- find_all(), findAll()\n",
    " - HTML의 해당 태그에 대한 모든 정보를 리스트형식으로 가져옴, limit 옵션으로 개수 지정 가능\n",
    " - CSS 속성으로 필터링(class_로 클래스를 직접 사용 혹은 attrs에서 속성 = '값'으로 필터링)\n",
    "- select_one(), select()\n",
    " - CSS 선택자를 활용하여 원하는 정보를 가져온다. (find, find_all과 비슷하다.)\n",
    " - 표시 방법 - class : . / id : # [ex) div.nu (class='nu'), div#id (id='nu')]"
   ]
  },
  {
   "cell_type": "code",
   "execution_count": null,
   "id": "bdece6e4",
   "metadata": {},
   "outputs": [],
   "source": [
    "from bs4 import BeautifulSoup"
   ]
  },
  {
   "cell_type": "code",
   "execution_count": null,
   "id": "4a555fc5",
   "metadata": {},
   "outputs": [],
   "source": [
    "html_doc = \"\"\"\n",
    "<html lang=\"en\">\n",
    "<head><title>crawl</title></head>\n",
    "<body>\n",
    "<p class=\"a\" align=\"center\"> text1</p>\n",
    "<p class=\"b\" align=\"center\"> text2</p>\n",
    "<p class=\"c\" align=\"center\"> text3</p>\n",
    "<div><img src=\"/source\" width=\"300\" height=\"200\"></div>\n",
    "</body>\n",
    "</html>\n",
    "\"\"\"\n",
    "\n",
    "soup = BeautifulSoup(html_doc, 'html.parser')\n",
    "soup"
   ]
  },
  {
   "cell_type": "code",
   "execution_count": null,
   "id": "839db398",
   "metadata": {},
   "outputs": [],
   "source": [
    "# prettify 함수는 print할때만 적용\n",
    "\n",
    "print(soup.prettify())"
   ]
  },
  {
   "cell_type": "code",
   "execution_count": null,
   "id": "72b6a016",
   "metadata": {},
   "outputs": [],
   "source": [
    "URL = 'https://naver.com'\n",
    "req = requests.get(URL)\n",
    "html = req.text\n",
    "html.find('blind')\n",
    "html[9910:9950]"
   ]
  },
  {
   "cell_type": "code",
   "execution_count": null,
   "id": "47214eed",
   "metadata": {},
   "outputs": [],
   "source": [
    "soup = BeautifulSoup(html, 'html.parser')\n",
    "result = soup.find(class_ = 'blind')\n",
    "result.text"
   ]
  },
  {
   "cell_type": "code",
   "execution_count": null,
   "id": "42456cdc",
   "metadata": {},
   "outputs": [],
   "source": [
    "html = \"\"\"\n",
    "<html><body>\n",
    "  <h1 id=\"title\">스크레이핑이란?</h1>\n",
    "  <p id=\"body\">웹 페이지를 분석하는 것</p>\n",
    "  <p>원하는 부분을 추출하는 것</p>\n",
    "</body></html>\n",
    "\"\"\"\n",
    "\n",
    "soup = BeautifulSoup(html, 'html.parser')\n",
    "body = soup.find(id = 'body')\n",
    "title = soup.find(id = 'title')\n",
    "body.text, title.string"
   ]
  },
  {
   "cell_type": "markdown",
   "id": "38e8c120",
   "metadata": {},
   "source": [
    "### # 돔구조\n",
    "---"
   ]
  },
  {
   "cell_type": "code",
   "execution_count": null,
   "id": "a76713f3",
   "metadata": {},
   "outputs": [],
   "source": [
    "h1 = soup.html.body.h1.string\n",
    "h1"
   ]
  },
  {
   "cell_type": "code",
   "execution_count": null,
   "id": "4ceb8524",
   "metadata": {},
   "outputs": [],
   "source": [
    "p1 = soup.html.body.p\n",
    "p1.string"
   ]
  },
  {
   "cell_type": "markdown",
   "id": "31508e06",
   "metadata": {},
   "source": [
    "### # next_sibling\n",
    "---"
   ]
  },
  {
   "cell_type": "code",
   "execution_count": null,
   "id": "d9564c46",
   "metadata": {},
   "outputs": [],
   "source": [
    "# <\\p>뒤에 개행이 요소로서 존재하므로 두번 써준다.\n",
    "\n",
    "p2 = p1.next_sibling\n",
    "p22 = p1.next_sibling.next_sibling \n",
    "p2.string, p22.string"
   ]
  },
  {
   "cell_type": "markdown",
   "id": "538a74dc",
   "metadata": {},
   "source": [
    "### # find_all()\n",
    "---"
   ]
  },
  {
   "cell_type": "code",
   "execution_count": null,
   "id": "5691de93",
   "metadata": {},
   "outputs": [],
   "source": [
    "texts = soup.find_all('p')\n",
    "for text in texts:\n",
    "    print(text.text)"
   ]
  },
  {
   "cell_type": "code",
   "execution_count": null,
   "id": "f1a2bba6",
   "metadata": {},
   "outputs": [],
   "source": [
    "html = \"\"\"\n",
    "<html><body>\n",
    "  <ul>\n",
    "    <li><a href=\"http://www.naver.com\">naver</a></li>\n",
    "    <li><a href=\"http://www.daum.net\">daum</a></li>\n",
    "  </ul>\n",
    "</body></html>\n",
    "\"\"\"\n",
    "\n",
    "soup = BeautifulSoup(html, 'html.parser')\n",
    "domains = soup.find_all('a')\n",
    "for domain in domains:\n",
    "    a = re.search('\".+\"', str(domain)).group()\n",
    "    print(domain.text,'>', re.sub('\"', '', a))\n",
    "#     print(domain.text, '>', domain.get('href'))"
   ]
  },
  {
   "cell_type": "markdown",
   "id": "9db40a06",
   "metadata": {},
   "source": [
    "### # 파이썬 내장 함수 이용\n",
    "---"
   ]
  },
  {
   "cell_type": "code",
   "execution_count": null,
   "id": "1481290f",
   "metadata": {},
   "outputs": [],
   "source": [
    "import urllib.request as req\n",
    "\n",
    "url = 'http://www.kma.go.kr/weather/forecast/mid-term-rss3.jsp'\n",
    "res = req.urlopen(url)\n",
    "soup = BeautifulSoup(res, 'html.parser')\n",
    "soup.find('title').string"
   ]
  },
  {
   "cell_type": "code",
   "execution_count": null,
   "id": "1d6aa2a5",
   "metadata": {},
   "outputs": [],
   "source": [
    "url = 'http://www.kma.go.kr/weather/forecast/mid-term-rss3.jsp'\n",
    "res = requests.get(url).text\n",
    "soup = BeautifulSoup(res, 'html.parser')\n",
    "title = soup.find('title').string\n",
    "wf = soup.find('wf').string\n",
    "print(title, '\\n')\n",
    "print(wf, '\\n')\n",
    "a = re.findall('[\\W]?[0-9가-힣]+[^0-9A-Z]?', wf)\n",
    "print(a, '\\n')\n",
    "print(''.join(a))"
   ]
  },
  {
   "cell_type": "code",
   "execution_count": null,
   "id": "8fe8bcd1",
   "metadata": {},
   "outputs": [],
   "source": [
    "import urllib\n",
    "\n",
    "url = 'https://naver.com'\n",
    "response = urllib.request.urlopen(url)\n",
    "byte_data = response.read()\n",
    "html = byte_data.decode('utf-8')\n",
    "soup = BeautifulSoup(html, 'html.parser')\n",
    "print(soup.find('a'))\n",
    "print(soup.find(class_ = 'blind'))"
   ]
  },
  {
   "cell_type": "code",
   "execution_count": null,
   "id": "1451fdb3",
   "metadata": {},
   "outputs": [],
   "source": [
    "soup.find_all('a', limit = 2)\n",
    "soup.find_all('a', limit = 2)[1]"
   ]
  },
  {
   "cell_type": "code",
   "execution_count": null,
   "id": "54c2297b",
   "metadata": {},
   "outputs": [],
   "source": [
    "soup.find_all('span', class_ = 'blind')[0]\n",
    "soup.find_all('span', {'class' : 'blind'})[0]"
   ]
  },
  {
   "cell_type": "code",
   "execution_count": null,
   "id": "fee5e91c",
   "metadata": {},
   "outputs": [],
   "source": [
    "soup.find_all('span', class_ = ['blind', 'ico_arr'])[5:10]\n",
    "soup.find_all('span', attrs = {'class' : ['blind', 'ico_arr']})[5:10]\n",
    "soup.find_all('span', {'class' : ['blind', 'ico_arr']})[5:10]"
   ]
  },
  {
   "cell_type": "code",
   "execution_count": null,
   "id": "73570c50",
   "metadata": {},
   "outputs": [],
   "source": [
    "soup.find_all(string = '네이버')"
   ]
  },
  {
   "cell_type": "code",
   "execution_count": null,
   "id": "dfa11ad2",
   "metadata": {},
   "outputs": [],
   "source": [
    "soup.find_all(string = re.compile('네이버'))"
   ]
  },
  {
   "cell_type": "code",
   "execution_count": null,
   "id": "ce506774",
   "metadata": {},
   "outputs": [],
   "source": [
    "req = requests.get('https://movie.naver.com')\n",
    "html = req.text\n",
    "soup = BeautifulSoup(html, 'html.parser')\n",
    "text = soup.find('span', {'class' : 'blind'})\n",
    "print(text)\n",
    "print(text.get_text())\n",
    "print(text.get('class'))"
   ]
  },
  {
   "cell_type": "code",
   "execution_count": null,
   "id": "2c2485f3",
   "metadata": {},
   "outputs": [],
   "source": [
    "html = \"\"\"\n",
    "<html><body>\n",
    "<div id=\"meigen\">\n",
    "  <h1>위키북스 도서</h1>\n",
    "  <ul class=\"items\">\n",
    "    <li>유니티 게임 이펙트 입문</li>\n",
    "    <li>스위프트로 시작하는 아이폰 앱 개발 교과서</li>\n",
    "    <li>모던 웹사이트 디자인의 정석</li>\n",
    "  </ul>\n",
    "</div>\n",
    "</body></html>\n",
    "\"\"\"\n",
    "\n",
    "soup = BeautifulSoup(html, 'html.parser')\n",
    "h1 = soup.select_one('div#meigen > h1').string\n",
    "h1"
   ]
  },
  {
   "cell_type": "code",
   "execution_count": null,
   "id": "10ea1887",
   "metadata": {},
   "outputs": [],
   "source": [
    "li = soup.select('div#meigen > ul.items > li')\n",
    "for i in li:\n",
    "    print(i.string)"
   ]
  },
  {
   "cell_type": "code",
   "execution_count": null,
   "id": "26d97468",
   "metadata": {},
   "outputs": [],
   "source": [
    "# 네이버 원/달러 환율 가져오기\n",
    "\n",
    "req = requests.get('https://finance.naver.com/marketindex/?tabSel=exchange#tab_section')\n",
    "html = req.text\n",
    "soup = BeautifulSoup(html, 'html.parser')\n",
    "print(re.search('미국 USD', html))\n",
    "print(html[1050:1100])\n",
    "exchange = soup.find_all('span')\n",
    "display(exchange[0:3])\n",
    "\n",
    "for i in exchange[0:3]:\n",
    "    print(i.string)"
   ]
  },
  {
   "cell_type": "code",
   "execution_count": null,
   "id": "d31b4a24",
   "metadata": {},
   "outputs": [],
   "source": [
    "url = 'https://finance.naver.com/marketindex/'\n",
    "html = requests.get(url).text\n",
    "s = BeautifulSoup(html,'html.parser')\n",
    "a = s.findAll('span', class_=['blind','value'], limit = 3)\n",
    "b = s.findAll('span', class_=['blind','value'])\n",
    "a = s.find('span', class_=['value'])\n",
    "\n",
    "# for i in a:\n",
    "#     print(f'{i.text}',end=' ')\n",
    "\n",
    "a.string"
   ]
  },
  {
   "cell_type": "code",
   "execution_count": null,
   "id": "d650cd65",
   "metadata": {},
   "outputs": [],
   "source": [
    "import requests\n",
    "from bs4 import BeautifulSoup\n",
    "\n",
    "url = 'https://finance.naver.com/marketindex/'\n",
    "req = requests.get(url).text\n",
    "soup = BeautifulSoup(req,'html.parser')\n",
    "exchange = soup.select_one('#exchangeList > li.on > a.head.usd > div > span.value').string\n",
    "print('현재 환율(원화/USD) :',exchange)"
   ]
  },
  {
   "cell_type": "code",
   "execution_count": null,
   "id": "c967af00",
   "metadata": {},
   "outputs": [],
   "source": [
    "url = \"https://finance.naver.com/marketindex/\"\n",
    "res = req.urlopen(url)\n",
    "\n",
    "soup = BeautifulSoup(res,\"html.parser\")\n",
    "\n",
    "price = soup.select_one(\"#exchangeList > li.on > a.eur > div > span.value\")\n",
    "\n",
    "print(\"usd/krw = \",price)"
   ]
  },
  {
   "cell_type": "markdown",
   "id": "beb43c77",
   "metadata": {},
   "source": [
    "# [2월 10일]\n",
    "---"
   ]
  },
  {
   "cell_type": "markdown",
   "id": "8fea09ae",
   "metadata": {},
   "source": [
    "### # 자식 & 후손\n",
    "---"
   ]
  },
  {
   "cell_type": "code",
   "execution_count": null,
   "id": "9d4e8366",
   "metadata": {},
   "outputs": [],
   "source": [
    "html=\"\"\"\n",
    "<head>\n",
    "    <title>crawler</title>\n",
    "</head>\n",
    "<body>\n",
    "    <p class=\"a\" align=\"center\"> text1</p>\n",
    "    <p class=\"b\" align=\"center\"> text2</p>\n",
    "    <p class=\"c\" align=\"center\"> text3</p>\n",
    "    <div>\n",
    "        <img src=\"/source\" width=\"300\" height=\"200\">\n",
    "    </div>\n",
    "</body>\n",
    "</html>\n",
    "\"\"\"\n",
    "\n",
    "soup = BeautifulSoup(html, 'html.parser')\n",
    "contents = soup.find('body')\n",
    "print(contents)\n",
    "print('-----------------------------------------------')\n",
    "for child in contents.children:\n",
    "    print(child)\n",
    "print('-----------------------------------------------')\n",
    "for d in contents.descendants:\n",
    "    print(d)"
   ]
  },
  {
   "cell_type": "markdown",
   "id": "442deec6",
   "metadata": {},
   "source": [
    "### # 부모 & 조상\n",
    "---"
   ]
  },
  {
   "cell_type": "code",
   "execution_count": null,
   "id": "24b51c70",
   "metadata": {},
   "outputs": [],
   "source": [
    "img_tag = contents.find('img')\n",
    "print(img_tag, '\\n')\n",
    "print('-----------------------------------------------')\n",
    "\n",
    "print(img_tag.parent, '\\n')\n",
    "print('-----------------------------------------------')\n",
    "\n",
    "print(list(img_tag.parents), '\\n') # 반드시 리스트로 묶어주거나 for문을 사용해야한다.\n",
    "print('-----------------------------------------------')\n",
    "\n",
    "print(img_tag.find_parent('body'))\n",
    "print('\\n-----------------------------------------------')\n",
    "\n",
    "display(img_tag.find_parent('div'))"
   ]
  },
  {
   "cell_type": "code",
   "execution_count": null,
   "id": "e924d9ad",
   "metadata": {},
   "outputs": [],
   "source": [
    "p_tags = soup.find_all('p')\n",
    "display(p_tags)\n",
    "print('\\n-----------------------------------------------')\n",
    "\n",
    "p_tag = soup.find_all('p', class_ = ['b', 'c'])\n",
    "display(p_tag)\n",
    "print('\\n-----------------------------------------------')\n",
    "\n",
    "p_tag = soup.find_all('p', attrs = {'class' : {'b', 'c'}})\n",
    "display(p_tag)"
   ]
  },
  {
   "cell_type": "code",
   "execution_count": null,
   "id": "224af5be",
   "metadata": {},
   "outputs": [],
   "source": [
    "url = 'http://www.pythonscraping.com/pages/page3.html'\n",
    "html = requests.get(url).text\n",
    "soup = BeautifulSoup(html, 'html.parser')\n",
    "# img = soup.select('#gift1 > td:nth-child(4) > img')\n",
    "a = soup.find('img', {'src' : '../img/gifts/img1.jpg'}).parent.previous_sibling.text\n",
    "re.sub('\\n', '', a)"
   ]
  },
  {
   "cell_type": "code",
   "execution_count": null,
   "id": "4d7ac725",
   "metadata": {},
   "outputs": [],
   "source": [
    "html = requests.get('https://naver.com').text\n",
    "bs = BeautifulSoup(html, 'html.parser')\n",
    "\n",
    "hlists = bs.findAll({'h1', 'h2', 'h3', 'h4', 'h5', 'h6'}, limit = 3)\n",
    "for i in hlists:\n",
    "    print(i)\n",
    "print('\\n-----------------------------------------------')\n",
    "\n",
    "hlist = bs.find({'h1', 'h2', 'h3', 'h4', 'h5', 'h6'}, text = '뉴스스탠드')\n",
    "print(hlist)"
   ]
  },
  {
   "cell_type": "code",
   "execution_count": null,
   "id": "762d762d",
   "metadata": {},
   "outputs": [],
   "source": [
    "ttls = bs.findAll(id = 'NM_NEWSSTAND_TITLE')\n",
    "for i in ttls:\n",
    "    print(i.text)"
   ]
  },
  {
   "cell_type": "code",
   "execution_count": 3,
   "id": "3d085979",
   "metadata": {
    "ExecuteTime": {
     "end_time": "2022-02-11T00:17:35.105288Z",
     "start_time": "2022-02-11T00:17:34.961165Z"
    },
    "scrolled": false
   },
   "outputs": [
    {
     "name": "stdout",
     "output_type": "stream",
     "text": [
      "['', '국가기술자격', '', '', '관련 근거', '', '국가기술자격법 및 동법 시행령', '', '', '', '빅데이터분석기사 정의', '', '빅데이터 이해를 기반으로 빅데이터 분석 기획, 빅데이터 수집·저장·처리, 빅데이터 분석 및 시각화를 수행하는 실무자를 말한다.', '', '', '', '빅데이터분석기사의 필요성', '', '전 세계적으로 빅데이터가 미래성장동력으로 인식돼, 각국 정부에서는 관련 기업투자를 끌어내는 등 국가·기업의 주요 전략분야로 부상하고 있다.', ' 국가와 기업의 경쟁력 확보를 위해 빅데이터 분석 전문가의 수요는 증가하고 있으나, 수요 대비 공급 부족으로 인력 확보에 어려움이 높은 실정이다. ', '이에 정부차원에서 빅데이터 분석 전문가 양성과 함께 체계적으로 역량을 검증할 수 있는 국가기술자격 수요가 높은 편이다.', '', '', '', '빅데이터분석기사의 직무', '', '대용량의 데이터 집합으로부터 유용한 정보를 찾고 결과를 예측하기 위해 목적에 따라 분석기술과 방법론을 기반으로 정형/비정형 대용량 데이터를 구축, 탐색, 분석하고 시각화를 수행하는 업무를 수행한다.', '', '', '', ''] \n",
      "\n",
      "['국가기술자격', '관련 근거', '국가기술자격법 및 동법 시행령', '빅데이터분석기사 정의', '빅데이터 이해를 기반으로 빅데이터 분석 기획, 빅데이터 수집·저장·처리, 빅데이터 분석 및 시각화를 수행하는 실무자를 말한다.', '빅데이터분석기사의 필요성', '전 세계적으로 빅데이터가 미래성장동력으로 인식돼, 각국 정부에서는 관련 기업투자를 끌어내는 등 국가·기업의 주요 전략분야로 부상하고 있다.', ' 국가와 기업의 경쟁력 확보를 위해 빅데이터 분석 전문가의 수요는 증가하고 있으나, 수요 대비 공급 부족으로 인력 확보에 어려움이 높은 실정이다. ', '이에 정부차원에서 빅데이터 분석 전문가 양성과 함께 체계적으로 역량을 검증할 수 있는 국가기술자격 수요가 높은 편이다.', '빅데이터분석기사의 직무', '대용량의 데이터 집합으로부터 유용한 정보를 찾고 결과를 예측하기 위해 목적에 따라 분석기술과 방법론을 기반으로 정형/비정형 대용량 데이터를 구축, 탐색, 분석하고 시각화를 수행하는 업무를 수행한다.'] \n",
      "\n",
      "국가기술자격\n",
      "관련 근거\n",
      "국가기술자격법 및 동법 시행령\n",
      "빅데이터분석기사 정의\n",
      "빅데이터 이해를 기반으로 빅데이터 분석 기획, 빅데이터 수집·저장·처리, 빅데이터 분석 및 시각화를 수행하는 실무자를 말한다.\n",
      "빅데이터분석기사의 필요성\n",
      "전 세계적으로 빅데이터가 미래성장동력으로 인식돼, 각국 정부에서는 관련 기업투자를 끌어내는 등 국가·기업의 주요 전략분야로 부상하고 있다.\n",
      " 국가와 기업의 경쟁력 확보를 위해 빅데이터 분석 전문가의 수요는 증가하고 있으나, 수요 대비 공급 부족으로 인력 확보에 어려움이 높은 실정이다. \n",
      "이에 정부차원에서 빅데이터 분석 전문가 양성과 함께 체계적으로 역량을 검증할 수 있는 국가기술자격 수요가 높은 편이다.\n",
      "빅데이터분석기사의 직무\n",
      "대용량의 데이터 집합으로부터 유용한 정보를 찾고 결과를 예측하기 위해 목적에 따라 분석기술과 방법론을 기반으로 정형/비정형 대용량 데이터를 구축, 탐색, 분석하고 시각화를 수행하는 업무를 수행한다.\n"
     ]
    }
   ],
   "source": [
    "html = requests.get('https://www.dataq.or.kr/www/sub/a_07.do').text\n",
    "soup = BeautifulSoup(html, 'html.parser')\n",
    "\n",
    "a = soup.find(id = 'tab1').text\n",
    "b = a.split('\\n')\n",
    "print(b, '\\n')\n",
    "\n",
    "# c = []\n",
    "# for i in b:\n",
    "#     if len(i) >= 1:\n",
    "#         c.append(i)\n",
    "        \n",
    "c = [i for i in b if len(i) >=1]\n",
    "print(c, '\\n')\n",
    "\n",
    "for i in c:\n",
    "    print(i)"
   ]
  },
  {
   "cell_type": "code",
   "execution_count": 4,
   "id": "ea585aa1",
   "metadata": {
    "ExecuteTime": {
     "end_time": "2022-02-11T00:17:36.792014Z",
     "start_time": "2022-02-11T00:17:36.771996Z"
    }
   },
   "outputs": [
    {
     "name": "stdout",
     "output_type": "stream",
     "text": [
      "\n",
      "국가기술자격\n",
      "관련 근거\n",
      "국가기술자격법 및 동법 시행령\n",
      "빅데이터분석기사 정의\n",
      "빅데이터 이해를 기반으로 빅데이터 분석 기획, 빅데이터 수집·저장·처리, 빅데이터 분석 및 시각화를 수행하는 실무자를 말한다.\n",
      "빅데이터분석기사의 필요성\n",
      "전 세계적으로 빅데이터가 미래성장동력으로 인식돼, 각국 정부에서는 관련 기업투자를 끌어내는 등 국가·기업의 주요 전략분야로 부상하고 있다.\n",
      " 국가와 기업의 경쟁력 확보를 위해 빅데이터 분석 전문가의 수요는 증가하고 있으나, 수요 대비 공급 부족으로 인력 확보에 어려움이 높은 실정이다. \n",
      "이에 정부차원에서 빅데이터 분석 전문가 양성과 함께 체계적으로 역량을 검증할 수 있는 국가기술자격 수요가 높은 편이다.\n",
      "빅데이터분석기사의 직무\n",
      "대용량의 데이터 집합으로부터 유용한 정보를 찾고 결과를 예측하기 위해 목적에 따라 분석기술과 방법론을 기반으로 정형/비정형 대용량 데이터를 구축, 탐색, 분석하고 시각화를 수행하는 업무를 수행한다.\n",
      "\n"
     ]
    },
    {
     "data": {
      "text/plain": [
       "'\\n국가기술자격\\n관련 근거\\n국가기술자격법 및 동법 시행령\\n빅데이터분석기사 정의\\n빅데이터 이해를 기반으로 빅데이터 분석 기획, 빅데이터 수집·저장·처리, 빅데이터 분석 및 시각화를 수행하는 실무자를 말한다.\\n빅데이터분석기사의 필요성\\n전 세계적으로 빅데이터가 미래성장동력으로 인식돼, 각국 정부에서는 관련 기업투자를 끌어내는 등 국가·기업의 주요 전략분야로 부상하고 있다.\\n 국가와 기업의 경쟁력 확보를 위해 빅데이터 분석 전문가의 수요는 증가하고 있으나, 수요 대비 공급 부족으로 인력 확보에 어려움이 높은 실정이다. \\n이에 정부차원에서 빅데이터 분석 전문가 양성과 함께 체계적으로 역량을 검증할 수 있는 국가기술자격 수요가 높은 편이다.\\n빅데이터분석기사의 직무\\n대용량의 데이터 집합으로부터 유용한 정보를 찾고 결과를 예측하기 위해 목적에 따라 분석기술과 방법론을 기반으로 정형/비정형 대용량 데이터를 구축, 탐색, 분석하고 시각화를 수행하는 업무를 수행한다.\\n'"
      ]
     },
     "execution_count": 4,
     "metadata": {},
     "output_type": "execute_result"
    }
   ],
   "source": [
    "a = soup.find(id = 'tab1').text\n",
    "result = re.sub('\\n+','\\n', a)\n",
    "print(result)\n",
    "result"
   ]
  },
  {
   "cell_type": "code",
   "execution_count": 8,
   "id": "477def3e",
   "metadata": {
    "ExecuteTime": {
     "end_time": "2022-02-11T00:19:29.391951Z",
     "start_time": "2022-02-11T00:19:29.386954Z"
    }
   },
   "outputs": [
    {
     "name": "stdout",
     "output_type": "stream",
     "text": [
      "국가기술자격\n",
      "관련 근거\n",
      "국가기술자격법 및 동법 시행령\n",
      "빅데이터분석기사 정의\n",
      "빅데이터 이해를 기반으로 빅데이터 분석 기획, 빅데이터 수집·저장·처리, 빅데이터 분석 및 시각화를 수행하는 실무자를 말한다.\n",
      "빅데이터분석기사의 필요성\n",
      "전 세계적으로 빅데이터가 미래성장동력으로 인식돼, 각국 정부에서는 관련 기업투자를 끌어내는 등 국가·기업의 주요 전략분야로 부상하고 있다.\n",
      " 국가와 기업의 경쟁력 확보를 위해 빅데이터 분석 전문가의 수요는 증가하고 있으나, 수요 대비 공급 부족으로 인력 확보에 어려움이 높은 실정이다. \n",
      "이에 정부차원에서 빅데이터 분석 전문가 양성과 함께 체계적으로 역량을 검증할 수 있는 국가기술자격 수요가 높은 편이다.\n",
      "빅데이터분석기사의 직무\n",
      "대용량의 데이터 집합으로부터 유용한 정보를 찾고 결과를 예측하기 위해 목적에 따라 분석기술과 방법론을 기반으로 정형/비정형 대용량 데이터를 구축, 탐색, 분석하고 시각화를 수행하는 업무를 수행한다.\n"
     ]
    }
   ],
   "source": [
    "lis = soup.findAll({'h3', 'h4', 'p'}, limit = 11)\n",
    "for i in lis:\n",
    "    print(i.text)"
   ]
  },
  {
   "cell_type": "code",
   "execution_count": null,
   "id": "de1adcfc",
   "metadata": {
    "scrolled": true
   },
   "outputs": [],
   "source": [
    "# 전쟁과 평화\n",
    "\n",
    "html = requests.get('http://www.pythonscraping.com/pages/warandpeace.html').text\n",
    "bs = BeautifulSoup(html, 'html.parser')\n",
    "print(bs.prettify())"
   ]
  },
  {
   "cell_type": "code",
   "execution_count": null,
   "id": "0b6956f6",
   "metadata": {},
   "outputs": [],
   "source": [
    "ds = bs.find(id = 'text')\n",
    "d2 = bs.findAll('span', class_ = 'red')\n",
    "for i, d in enumerate(d2):\n",
    "    print(f'No.{i+1}: \\n {d.text}', '\\n')"
   ]
  },
  {
   "cell_type": "code",
   "execution_count": null,
   "id": "8bc27aff",
   "metadata": {
    "scrolled": true
   },
   "outputs": [],
   "source": [
    "# 전쟁과 평화에 등장하는 모든 고유명사를 출력하세요\n",
    "# (([A-Z]([a-z]+|\\.+))+(\\s[A-Z][a-z]+)+)|([A-Z]{2,})|([a-z][A-Z])[a-z]*[A-Z][a-z]*\n",
    "\n",
    "ds = bs.find(id = 'text')\n",
    "a = re.findall('[A-Z0-9]+[a-zA-Z0-9]+', ds.text)\n",
    "a"
   ]
  },
  {
   "cell_type": "code",
   "execution_count": null,
   "id": "e390f931",
   "metadata": {},
   "outputs": [],
   "source": [
    "url = 'http://www.pythonscraping.com/pages/warandpeace.html'\n",
    "url_req = requests.get(url).text\n",
    "bs = BeautifulSoup(url_req,'html.parser')\n",
    "d2 = bs.findAll('span',{'class':'green'})\n",
    "\n",
    "def check(text):\n",
    "    checking = ('the','The','her','Her','his','His','its','Its')\n",
    "    checking2 = (\"'s\")\n",
    "    if text.startswith(checking) == False and text.endswith(checking2) == False:\n",
    "        print(text)\n",
    "\n",
    "for i in d2:\n",
    "    i = i.text.replace('\\n',' ')\n",
    "    check(i)"
   ]
  },
  {
   "cell_type": "code",
   "execution_count": null,
   "id": "b57a4bab",
   "metadata": {
    "scrolled": false
   },
   "outputs": [],
   "source": [
    "import re\n",
    "\n",
    "data = bs.find(id='text').text\n",
    "data = re.sub('\\n',' ',data)\n",
    "result = re.findall('(([A-Z]([a-z]+|\\.+))+(\\s[A-Z][a-z]+)+)|([A-Z]{2,})|([a-z][A-Z])[a-z]*[A-Z][a-z]*',data)\n",
    "for i in result:\n",
    "    print(i[0])\n",
    "result"
   ]
  },
  {
   "cell_type": "code",
   "execution_count": null,
   "id": "d912cc6b",
   "metadata": {},
   "outputs": [],
   "source": [
    "# 정규표현식 + bs4\n",
    "\n",
    "url = 'http://www.pythonscraping.com/pages/page3.html'\n",
    "html = requests.get(url).text\n",
    "bs = BeautifulSoup(html, 'html.parser')\n",
    "\n",
    "image = bs.findAll('img')\n",
    "display(image)\n",
    "\n",
    "# re.findall('[<][\\w\\s\\w]+', html)\n",
    "display(re.findall('\\.*/img.*\\.jpg', html))\n",
    "display(re.findall('.*/img.*\\.jpg', html))"
   ]
  },
  {
   "cell_type": "code",
   "execution_count": 1,
   "id": "40b8b7f6",
   "metadata": {
    "ExecuteTime": {
     "end_time": "2022-02-10T08:44:28.400329Z",
     "start_time": "2022-02-10T08:44:28.158469Z"
    }
   },
   "outputs": [
    {
     "ename": "NameError",
     "evalue": "name 'requests' is not defined",
     "output_type": "error",
     "traceback": [
      "\u001b[1;31m---------------------------------------------------------------------------\u001b[0m",
      "\u001b[1;31mNameError\u001b[0m                                 Traceback (most recent call last)",
      "\u001b[1;32m~\\AppData\\Local\\Temp/ipykernel_14568/621997003.py\u001b[0m in \u001b[0;36m<module>\u001b[1;34m\u001b[0m\n\u001b[0;32m      1\u001b[0m \u001b[0murl\u001b[0m \u001b[1;33m=\u001b[0m \u001b[1;34m'http://www.pythonscraping.com/pages/page3.html'\u001b[0m\u001b[1;33m\u001b[0m\u001b[1;33m\u001b[0m\u001b[0m\n\u001b[1;32m----> 2\u001b[1;33m \u001b[0mhtml\u001b[0m \u001b[1;33m=\u001b[0m \u001b[0mrequests\u001b[0m\u001b[1;33m.\u001b[0m\u001b[0mget\u001b[0m\u001b[1;33m(\u001b[0m\u001b[0murl\u001b[0m\u001b[1;33m)\u001b[0m\u001b[1;33m.\u001b[0m\u001b[0mtext\u001b[0m\u001b[1;33m\u001b[0m\u001b[1;33m\u001b[0m\u001b[0m\n\u001b[0m\u001b[0;32m      3\u001b[0m \u001b[0mbs\u001b[0m \u001b[1;33m=\u001b[0m \u001b[0mBeautifulSoup\u001b[0m\u001b[1;33m(\u001b[0m\u001b[0mhtml\u001b[0m\u001b[1;33m,\u001b[0m \u001b[1;34m'html.parser'\u001b[0m\u001b[1;33m)\u001b[0m\u001b[1;33m\u001b[0m\u001b[1;33m\u001b[0m\u001b[0m\n\u001b[0;32m      4\u001b[0m \u001b[1;33m\u001b[0m\u001b[0m\n\u001b[0;32m      5\u001b[0m \u001b[0mimages\u001b[0m \u001b[1;33m=\u001b[0m \u001b[0mbs\u001b[0m\u001b[1;33m.\u001b[0m\u001b[0mfindAll\u001b[0m\u001b[1;33m(\u001b[0m\u001b[1;34m'img'\u001b[0m\u001b[1;33m,\u001b[0m \u001b[1;33m{\u001b[0m\u001b[1;34m'src'\u001b[0m\u001b[1;33m:\u001b[0m\u001b[0mre\u001b[0m\u001b[1;33m.\u001b[0m\u001b[0mcompile\u001b[0m\u001b[1;33m(\u001b[0m\u001b[1;34m'/img.*\\.jpg'\u001b[0m\u001b[1;33m)\u001b[0m\u001b[1;33m}\u001b[0m\u001b[1;33m)\u001b[0m\u001b[1;33m\u001b[0m\u001b[1;33m\u001b[0m\u001b[0m\n",
      "\u001b[1;31mNameError\u001b[0m: name 'requests' is not defined"
     ]
    }
   ],
   "source": [
    "url = 'http://www.pythonscraping.com/pages/page3.html'\n",
    "html = requests.get(url).text\n",
    "bs = BeautifulSoup(html, 'html.parser')\n",
    "\n",
    "images = bs.findAll('img', {'src':re.compile('/img.*\\.jpg')})\n",
    "for image in images:\n",
    "    print(image['src'])"
   ]
  },
  {
   "cell_type": "markdown",
   "id": "deb9c680",
   "metadata": {},
   "source": [
    "### # labmda 이용\n",
    "---"
   ]
  },
  {
   "cell_type": "code",
   "execution_count": null,
   "id": "c1d8d34f",
   "metadata": {},
   "outputs": [],
   "source": [
    "spans = bs.findAll('span')\n",
    "list(spans)\n",
    "\n",
    "bs.find_all(lambda tag: tag.get_text() == \"Or maybe he's only resting?\")"
   ]
  },
  {
   "cell_type": "code",
   "execution_count": 625,
   "id": "7425de00",
   "metadata": {
    "ExecuteTime": {
     "end_time": "2022-02-10T06:43:30.633223Z",
     "start_time": "2022-02-10T06:43:30.615242Z"
    }
   },
   "outputs": [
    {
     "name": "stdout",
     "output_type": "stream",
     "text": [
      "<ul id=\"bible\">\n",
      " <li id=\"ge\">\n",
      "  Genesis\n",
      " </li>\n",
      " <li id=\"ex\">\n",
      "  Exodus\n",
      " </li>\n",
      " <li id=\"le\">\n",
      "  Leviticus\n",
      " </li>\n",
      " <li id=\"nu\">\n",
      "  Numbers\n",
      " </li>\n",
      " <li id=\"de\">\n",
      "  Deuteronomy\n",
      " </li>\n",
      "</ul> \n",
      "\n",
      "Numbers\n",
      "Numbers\n",
      "Numbers\n",
      "Numbers\n",
      "Numbers\n",
      "Numbers\n"
     ]
    }
   ],
   "source": [
    "fp = open('D:\\workspace\\cakd5\\m2_분석라이브러리 활용\\data/books.html', encoding = 'utf-8')\n",
    "\n",
    "soup = BeautifulSoup(fp, 'html.parser')\n",
    "print(soup.prettify(), '\\n')\n",
    "\n",
    "print(soup.select_one('ul > li').next_sibling.next_sibling.next_sibling.next_sibling.next_sibling.next_sibling.text)\n",
    "print(soup.find(id = 'nu').text)\n",
    "print(soup.select('li')[3].text)\n",
    "print(soup.find('li', id = 'nu').text)\n",
    "print(soup.select_one('li#nu').text)\n",
    "print(soup.find(lambda tag: tag.get_text() == 'Numbers').text)\n",
    "print(list(soup.find('ul').children)[4]"
   ]
  },
  {
   "cell_type": "code",
   "execution_count": 10,
   "id": "3cd4d8e5",
   "metadata": {
    "ExecuteTime": {
     "end_time": "2022-02-11T00:27:41.684711Z",
     "start_time": "2022-02-11T00:27:41.669697Z"
    }
   },
   "outputs": [
    {
     "ename": "AttributeError",
     "evalue": "'NoneType' object has no attribute 'string'",
     "output_type": "error",
     "traceback": [
      "\u001b[1;31m---------------------------------------------------------------------------\u001b[0m",
      "\u001b[1;31mAttributeError\u001b[0m                            Traceback (most recent call last)",
      "\u001b[1;32m~\\AppData\\Local\\Temp/ipykernel_3092/2224948826.py\u001b[0m in \u001b[0;36m<module>\u001b[1;34m\u001b[0m\n\u001b[0;32m      1\u001b[0m \u001b[0msel\u001b[0m \u001b[1;33m=\u001b[0m \u001b[1;32mlambda\u001b[0m \u001b[0mq\u001b[0m\u001b[1;33m:\u001b[0m \u001b[0mprint\u001b[0m\u001b[1;33m(\u001b[0m\u001b[0msoup\u001b[0m\u001b[1;33m.\u001b[0m\u001b[0mselect_one\u001b[0m\u001b[1;33m(\u001b[0m\u001b[0mq\u001b[0m\u001b[1;33m)\u001b[0m\u001b[1;33m.\u001b[0m\u001b[0mstring\u001b[0m\u001b[1;33m)\u001b[0m\u001b[1;33m\u001b[0m\u001b[1;33m\u001b[0m\u001b[0m\n\u001b[0;32m      2\u001b[0m \u001b[1;33m\u001b[0m\u001b[0m\n\u001b[1;32m----> 3\u001b[1;33m \u001b[0msel\u001b[0m\u001b[1;33m(\u001b[0m\u001b[1;34m'#nu'\u001b[0m\u001b[1;33m)\u001b[0m\u001b[1;33m\u001b[0m\u001b[1;33m\u001b[0m\u001b[0m\n\u001b[0m\u001b[0;32m      4\u001b[0m \u001b[0msel\u001b[0m\u001b[1;33m(\u001b[0m\u001b[1;34m'li#nu'\u001b[0m\u001b[1;33m)\u001b[0m\u001b[1;33m\u001b[0m\u001b[1;33m\u001b[0m\u001b[0m\n\u001b[0;32m      5\u001b[0m \u001b[0msel\u001b[0m\u001b[1;33m(\u001b[0m\u001b[1;34m'ul > li#nu'\u001b[0m\u001b[1;33m)\u001b[0m\u001b[1;33m\u001b[0m\u001b[1;33m\u001b[0m\u001b[0m\n",
      "\u001b[1;32m~\\AppData\\Local\\Temp/ipykernel_3092/2224948826.py\u001b[0m in \u001b[0;36m<lambda>\u001b[1;34m(q)\u001b[0m\n\u001b[1;32m----> 1\u001b[1;33m \u001b[0msel\u001b[0m \u001b[1;33m=\u001b[0m \u001b[1;32mlambda\u001b[0m \u001b[0mq\u001b[0m\u001b[1;33m:\u001b[0m \u001b[0mprint\u001b[0m\u001b[1;33m(\u001b[0m\u001b[0msoup\u001b[0m\u001b[1;33m.\u001b[0m\u001b[0mselect_one\u001b[0m\u001b[1;33m(\u001b[0m\u001b[0mq\u001b[0m\u001b[1;33m)\u001b[0m\u001b[1;33m.\u001b[0m\u001b[0mstring\u001b[0m\u001b[1;33m)\u001b[0m\u001b[1;33m\u001b[0m\u001b[1;33m\u001b[0m\u001b[0m\n\u001b[0m\u001b[0;32m      2\u001b[0m \u001b[1;33m\u001b[0m\u001b[0m\n\u001b[0;32m      3\u001b[0m \u001b[0msel\u001b[0m\u001b[1;33m(\u001b[0m\u001b[1;34m'#nu'\u001b[0m\u001b[1;33m)\u001b[0m\u001b[1;33m\u001b[0m\u001b[1;33m\u001b[0m\u001b[0m\n\u001b[0;32m      4\u001b[0m \u001b[0msel\u001b[0m\u001b[1;33m(\u001b[0m\u001b[1;34m'li#nu'\u001b[0m\u001b[1;33m)\u001b[0m\u001b[1;33m\u001b[0m\u001b[1;33m\u001b[0m\u001b[0m\n\u001b[0;32m      5\u001b[0m \u001b[0msel\u001b[0m\u001b[1;33m(\u001b[0m\u001b[1;34m'ul > li#nu'\u001b[0m\u001b[1;33m)\u001b[0m\u001b[1;33m\u001b[0m\u001b[1;33m\u001b[0m\u001b[0m\n",
      "\u001b[1;31mAttributeError\u001b[0m: 'NoneType' object has no attribute 'string'"
     ]
    }
   ],
   "source": [
    "sel = lambda q: print(soup.select_one(q).string)\n",
    "\n",
    "sel('#nu')\n",
    "sel('li#nu')\n",
    "sel('ul > li#nu')\n",
    "sel('#bible #nu')\n",
    "sel('#bible > #nu')\n",
    "sel('ul#bible > li#nu')  \n",
    "sel('li[id=\"nu\"]')      \n",
    "sel('li:nth-of-type(4)')"
   ]
  },
  {
   "cell_type": "markdown",
   "id": "ae35cd26",
   "metadata": {},
   "source": [
    "# [2월 11일]\n",
    "---"
   ]
  },
  {
   "cell_type": "markdown",
   "id": "8d8bfa72",
   "metadata": {},
   "source": [
    "## # urllib 모듈\n",
    "---\n",
    "- 파이썬의 표준 모듈로서 URL을 다루기 위한 모듈 패키지\n",
    "- 설치가 필요하지 않고 import urllib으로 활용\n",
    "- requests 모듈과 마찬가지로 URL과 관련된 여러가지 기능들을 제공(하위 모듈)\n",
    " - request : URL을 열고 읽는 모듈(HTTP 요청)\n",
    " - error : request 모듈에서 발생하는 에러들을 포함하는 모듈\n",
    " - parse : URL을 파싱하는 모듈(URL해석 및 조작)\n",
    " - robotparser : robots.txt 파일을 파싱하는 모듈"
   ]
  },
  {
   "cell_type": "code",
   "execution_count": 15,
   "id": "d4e0f469",
   "metadata": {
    "ExecuteTime": {
     "end_time": "2022-02-11T00:31:17.825420Z",
     "start_time": "2022-02-11T00:31:17.813410Z"
    }
   },
   "outputs": [
    {
     "name": "stdout",
     "output_type": "stream",
     "text": [
      "<urllib.request.Request object at 0x0000023B5E2468B0>\n",
      "https://www.naver.com\n",
      "https\n",
      "www.naver.com\n"
     ]
    }
   ],
   "source": [
    "import urllib\n",
    "\n",
    "url = 'https://www.naver.com'\n",
    "\n",
    "request = urllib.request.Request(url)\n",
    "\n",
    "print(request)\n",
    "print(request.full_url)\n",
    "print(request.type)\n",
    "print(request.host)"
   ]
  },
  {
   "cell_type": "code",
   "execution_count": 34,
   "id": "33037d1d",
   "metadata": {
    "ExecuteTime": {
     "end_time": "2022-02-11T00:41:09.819413Z",
     "start_time": "2022-02-11T00:41:09.749350Z"
    }
   },
   "outputs": [
    {
     "name": "stdout",
     "output_type": "stream",
     "text": [
      "<http.client.HTTPResponse object at 0x0000023B5CAD5A00> \n",
      "\n",
      "<bound method HTTPResponse.geturl of <http.client.HTTPResponse object at 0x0000023B5CAD5A00>> \n",
      "\n",
      "[('Server', 'NWS'), ('Date', 'Fri, 11 Feb 2022 00:41:10 GMT'), ('Content-Type', 'text/html; charset=UTF-8'), ('Transfer-Encoding', 'chunked'), ('Connection', 'close'), ('Set-Cookie', 'PM_CK_loc=c41db755f9a90a92446ad76ed62fc4c4b76e728fcd6b0a07532321e4e5215e90; Expires=Sat, 12 Feb 2022 00:41:10 GMT; Path=/; HttpOnly'), ('Cache-Control', 'no-cache, no-store, must-revalidate'), ('Pragma', 'no-cache'), ('P3P', 'CP=\"CAO DSP CURa ADMa TAIa PSAa OUR LAW STP PHY ONL UNI PUR FIN COM NAV INT DEM STA PRE\"'), ('X-Frame-Options', 'DENY'), ('X-XSS-Protection', '1; mode=block'), ('Strict-Transport-Security', 'max-age=63072000; includeSubdomains'), ('Referrer-Policy', 'unsafe-url')] \n",
      "\n"
     ]
    }
   ],
   "source": [
    "response1 = urllib.request.urlopen(request)\n",
    "print(response1, '\\n')\n",
    "print(response1.geturl, '\\n')\n",
    "print(response1.getheaders(), '\\n')"
   ]
  },
  {
   "cell_type": "markdown",
   "id": "f3a1aec5",
   "metadata": {},
   "source": [
    "### # .read(n)\n",
    "---\n",
    "- read(n) : n 인자로 전달한 숫자만큼 데이터를 읽음 (n은 byte)\n",
    "- requests.get(url).text 와 같음"
   ]
  },
  {
   "cell_type": "code",
   "execution_count": 33,
   "id": "582a638b",
   "metadata": {
    "ExecuteTime": {
     "end_time": "2022-02-11T00:40:52.562108Z",
     "start_time": "2022-02-11T00:40:52.508058Z"
    }
   },
   "outputs": [
    {
     "data": {
      "text/plain": [
       "'\\n<!doctype html>                          <html lang=\"ko\" data-dark=\"false\"> <head> <meta charset=\"u'"
      ]
     },
     "execution_count": 33,
     "metadata": {},
     "output_type": "execute_result"
    }
   ],
   "source": [
    "response2 = urllib.request.urlopen(url)\n",
    "response2.read(100).decode('utf-8')"
   ]
  },
  {
   "cell_type": "markdown",
   "id": "805a9243",
   "metadata": {},
   "source": [
    "### # urllib.request.urlretrieve()\n",
    "---\n",
    "- 웹상의 이미지 저장"
   ]
  },
  {
   "cell_type": "code",
   "execution_count": 37,
   "id": "f3175671",
   "metadata": {
    "ExecuteTime": {
     "end_time": "2022-02-11T00:47:35.894441Z",
     "start_time": "2022-02-11T00:47:35.831392Z"
    }
   },
   "outputs": [
    {
     "data": {
      "text/plain": [
       "('img.png', <http.client.HTTPMessage at 0x23b5e2647f0>)"
      ]
     },
     "execution_count": 37,
     "metadata": {},
     "output_type": "execute_result"
    }
   ],
   "source": [
    "img_src = 'https://pds.joongang.co.kr/news/component/htmlphoto_mmdata/201703/22/448d3ceb-b6dd-4405-98f1-a58c4dd472dc.jpg'\n",
    "new_name = 'img.png'\n",
    "urllib.request.urlretrieve(img_src, new_name)"
   ]
  },
  {
   "cell_type": "markdown",
   "id": "779fcd2f",
   "metadata": {},
   "source": [
    "### # urllib.parse\n",
    "---\n",
    "- 단순한 패턴을 읽을 때는 복잡한 정규표현식보다는 간단한 parse 모듈을 사용\n",
    "- URL을 6개로 분리하여 반환"
   ]
  },
  {
   "cell_type": "markdown",
   "id": "04dcb6ca",
   "metadata": {},
   "source": [
    "#### # urlparse()\n",
    "---"
   ]
  },
  {
   "cell_type": "code",
   "execution_count": 64,
   "id": "0f70cb43",
   "metadata": {
    "ExecuteTime": {
     "end_time": "2022-02-11T01:18:31.053048Z",
     "start_time": "2022-02-11T01:18:31.046042Z"
    }
   },
   "outputs": [
    {
     "name": "stdout",
     "output_type": "stream",
     "text": [
      "ParseResult(scheme='https', netloc='section.blog.naver.com', path='/Search/Post.naver', params='', query='pageNo=1&rangeType=ALL&orderBy=sim&keyword=ai', fragment='') \n",
      "\n",
      "https\n",
      "https \n",
      "\n",
      "section.blog.naver.com\n",
      "section.blog.naver.com \n",
      "\n",
      "/Search/Post.naver\n",
      "/Search/Post.naver \n",
      "\n",
      "\n",
      " \n",
      "\n",
      "pageNo=1&rangeType=ALL&orderBy=sim&keyword=ai\n",
      "pageNo=1&rangeType=ALL&orderBy=sim&keyword=ai \n",
      "\n",
      "\n",
      " \n",
      "\n"
     ]
    }
   ],
   "source": [
    "parse = urllib.parse.urlparse('https://section.blog.naver.com/Search/Post.naver?pageNo=1&rangeType=ALL&orderBy=sim&keyword=ai')\n",
    "\n",
    "print(parse, '\\n')\n",
    "print(parse[0])\n",
    "print(parse.scheme, '\\n')\n",
    "print(parse[1])\n",
    "print(parse.netloc, '\\n')\n",
    "print(parse[2])\n",
    "print(parse.path, '\\n')\n",
    "print(parse[3])\n",
    "print(parse.params, '\\n')\n",
    "print(parse[4])\n",
    "print(parse.query, '\\n')\n",
    "print(parse[5])\n",
    "print(parse.fragment, '\\n')"
   ]
  },
  {
   "cell_type": "markdown",
   "id": "d9864ef6",
   "metadata": {},
   "source": [
    "#### # urlunparse(), urlunsplit()\n",
    "---\n",
    "- 바꾼 내역을 새로 반환"
   ]
  },
  {
   "cell_type": "code",
   "execution_count": 63,
   "id": "b0a45f1a",
   "metadata": {
    "ExecuteTime": {
     "end_time": "2022-02-11T01:17:03.361677Z",
     "start_time": "2022-02-11T01:17:03.343661Z"
    }
   },
   "outputs": [
    {
     "name": "stdout",
     "output_type": "stream",
     "text": [
      "ParseResult(scheme='https', netloc='blog.naver.com', path='/koreatech91', params='a=1', query='b=2', fragment='b') \n",
      "\n",
      "['https', 'blog.daum.net', '/koreatech91', 'a=1', 'b=2', 'b'] \n",
      "\n",
      "https://blog.daum.net/koreatech91;a=1?b=2#b\n"
     ]
    }
   ],
   "source": [
    "# 튜플로 반환되므로 리스트로 변경하여 활용\n",
    "\n",
    "parse = urllib.parse.urlparse('https://blog.naver.com/koreatech91;a=1?b=2#b')\n",
    "print(parse, '\\n')\n",
    "\n",
    "parse = list(parse)\n",
    "parse[1] = 'blog.daum.net'\n",
    "print(parse, '\\n')\n",
    "\n",
    "unparse = urllib.parse.urlunparse(parse)\n",
    "print(unparse)"
   ]
  },
  {
   "cell_type": "markdown",
   "id": "c3fd70ee",
   "metadata": {},
   "source": [
    "#### # parse_qs(), parse_qsl()\n",
    "---\n",
    "- 쿼리를 파싱해서 사전(qs) 및 리스트(qs)로 반환, 쿼리를 변경하여 요청시 활용"
   ]
  },
  {
   "cell_type": "code",
   "execution_count": 68,
   "id": "64d4dc04",
   "metadata": {
    "ExecuteTime": {
     "end_time": "2022-02-11T01:22:50.877437Z",
     "start_time": "2022-02-11T01:22:50.864434Z"
    }
   },
   "outputs": [
    {
     "name": "stdout",
     "output_type": "stream",
     "text": [
      "b=2 \n",
      "\n",
      "{'b': ['2']} <class 'dict'>\n",
      "[('b', '2')] <class 'list'>\n"
     ]
    }
   ],
   "source": [
    "parse = urllib.parse.urlparse('https://blog.naver.com/koreatech91;a=1?b=2#b')\n",
    "print(parse.query, '\\n')\n",
    "\n",
    "qs = urllib.parse.parse_qs(parse.query)\n",
    "print(qs, type(qs))\n",
    "\n",
    "qsl = urllib.parse.parse_qsl(parse.query)\n",
    "print(qsl, type(qsl))"
   ]
  },
  {
   "cell_type": "markdown",
   "id": "2e0cdfb6",
   "metadata": {
    "ExecuteTime": {
     "end_time": "2022-02-11T01:23:16.972495Z",
     "start_time": "2022-02-11T01:23:16.962486Z"
    }
   },
   "source": [
    "#### # urljoin(a, b)\n",
    "---\n",
    "- a와 b의 url을 합쳐주는 기능. '/'에 따라 url 주소가 달라진다."
   ]
  },
  {
   "cell_type": "code",
   "execution_count": 73,
   "id": "90000285",
   "metadata": {
    "ExecuteTime": {
     "end_time": "2022-02-11T01:25:39.065081Z",
     "start_time": "2022-02-11T01:25:39.056072Z"
    }
   },
   "outputs": [
    {
     "name": "stdout",
     "output_type": "stream",
     "text": [
      "https://naver.com/a/b/c\n",
      "https://naver.com/c\n"
     ]
    }
   ],
   "source": [
    "url = 'https://naver.com/a/b/'\n",
    "print(urllib.parse.urljoin(url, 'c'))\n",
    "print(urllib.parse.urljoin(url, '/c'))"
   ]
  },
  {
   "cell_type": "markdown",
   "id": "501a0c17",
   "metadata": {
    "ExecuteTime": {
     "end_time": "2022-02-11T01:26:28.590938Z",
     "start_time": "2022-02-11T01:26:28.574924Z"
    }
   },
   "source": [
    "#### # quote(), unquote()\n",
    "---\n",
    "- 아스키코드가 아닌 퍼센트 인코딩으로 변환\n",
    "- 퍼센트 인코딩은 url에 문자를 표현하는 문자 인코딩 방법\n",
    "- url에 한글이 섞이면 오류가 발생하므로 이것을 변환해줄 때 사용"
   ]
  },
  {
   "cell_type": "code",
   "execution_count": 81,
   "id": "96a005bb",
   "metadata": {
    "ExecuteTime": {
     "end_time": "2022-02-11T01:29:56.575969Z",
     "start_time": "2022-02-11T01:29:56.563965Z"
    }
   },
   "outputs": [
    {
     "name": "stdout",
     "output_type": "stream",
     "text": [
      "%ED%8C%8C%EC%9D%B4%EC%8D%AC\n",
      "파이썬\n"
     ]
    }
   ],
   "source": [
    "print(urllib.parse.quote('파이썬'))\n",
    "print(urllib.parse.unquote('%ED%8C%8C%EC%9D%B4%EC%8D%AC'))"
   ]
  },
  {
   "cell_type": "code",
   "execution_count": 89,
   "id": "e73a4997",
   "metadata": {
    "ExecuteTime": {
     "end_time": "2022-02-11T01:33:03.766199Z",
     "start_time": "2022-02-11T01:33:03.701148Z"
    }
   },
   "outputs": [
    {
     "name": "stdout",
     "output_type": "stream",
     "text": [
      "<!doctype html> <html lang=\"ko\"> <head> <meta charset=\"utf-8\"> <meta name=\"referrer\" content=\"always\n"
     ]
    }
   ],
   "source": [
    "# url = 'https://search.naver.com/search.naver?query =\"파이썬\"'\n",
    "url = 'https://search.naver.com/search.naver?query=%ED%8C%8C%EC%9D%B4%EC%8D%AC'\n",
    "\n",
    "response = urllib.request.urlopen(url)\n",
    "byte_data = response.read(100)\n",
    "text_data = byte_data.decode('utf-8')\n",
    "print(text_data)"
   ]
  },
  {
   "cell_type": "markdown",
   "id": "28a5ee91",
   "metadata": {},
   "source": [
    "### # 홈페이지를 로컬에 파일로 저장\n",
    "---"
   ]
  },
  {
   "cell_type": "code",
   "execution_count": 104,
   "id": "f6a8b808",
   "metadata": {
    "ExecuteTime": {
     "end_time": "2022-02-11T01:42:57.020717Z",
     "start_time": "2022-02-11T01:42:56.889605Z"
    }
   },
   "outputs": [
    {
     "name": "stdout",
     "output_type": "stream",
     "text": [
      "<_io.BufferedReader name='pc.html'>\n"
     ]
    }
   ],
   "source": [
    "request = urllib.request.Request('https://www.naver.com')\n",
    "data = urllib.request.urlopen(request).read()\n",
    "f = open('pc.html', 'wb')\n",
    "f.write(data)\n",
    "f.close()\n",
    "\n",
    "with open('pc.html','rb') as f:\n",
    "    data = f.read().decode('utf-8')\n",
    "    print(data)"
   ]
  },
  {
   "cell_type": "markdown",
   "id": "1b1f4584",
   "metadata": {
    "ExecuteTime": {
     "end_time": "2022-02-11T01:43:00.290095Z",
     "start_time": "2022-02-11T01:43:00.282088Z"
    }
   },
   "source": [
    "### # 응용\n",
    "---"
   ]
  },
  {
   "cell_type": "code",
   "execution_count": 107,
   "id": "fe2c4750",
   "metadata": {
    "ExecuteTime": {
     "end_time": "2022-02-11T09:05:35.029537Z",
     "start_time": "2022-02-11T09:05:34.792959Z"
    }
   },
   "outputs": [
    {
     "name": "stdout",
     "output_type": "stream",
     "text": [
      "<!doctype html> <html lang=\"ko\"> <head> <meta charset=\"utf-8\"> <meta name=\"referrer\" content=\"always\">  <meta name=\"format-detection\" content=\"telephone=no,address=no,email=no\"> <meta name=\"viewport\" content=\"width=device-width,initial-scale=1.0,maximum-scale=2.0\"> <meta property=\"og:title\" content=\"파이썬 : 네이버 통합검색\"/> <meta property=\"og:image\" content=\"https://ssl.pstatic.net/ss \n",
      "\n",
      "<!doctype html> <html lang=\"ko\"> <head> <meta charset=\"utf-8\"> <meta name=\"referrer\" content=\"always\">  <meta name=\"format-detection\" content=\"telephone=no,address=no,email=no\"> <meta name=\"viewport\" content=\"width=device-width,initial-scale=1.0,maximum-scale=2.0\"> <meta property=\"og:title\" content=\"웹 크롤링 : 네이버 통합검색\"/> <meta property=\"og:image\" content=\"https://ssl.pstatic.ne \n",
      "\n",
      "<!doctype html> <html lang=\"ko\"> <head> <meta charset=\"utf-8\"> <meta name=\"referrer\" content=\"always\">  <meta name=\"format-detection\" content=\"telephone=no,address=no,email=no\"> <meta name=\"viewport\" content=\"width=device-width,initial-scale=1.0,maximum-scale=2.0\"> <meta property=\"og:title\" content=\"빅데이터 : 네이버 통합검색\"/> <meta property=\"og:image\" content=\"https://ssl.pstatic.net \n",
      "\n",
      "<!doctype html> <html lang=\"ko\"> <head> <meta charset=\"utf-8\"> <meta name=\"referrer\" content=\"always\">  <meta name=\"format-detection\" content=\"telephone=no,address=no,email=no\"> <meta name=\"viewport\" content=\"width=device-width,initial-scale=1.0,maximum-scale=2.0\"> <meta property=\"og:title\" content=\"python : 네이버 통합검색\"/> <meta property=\"og:image\" content=\"https://ssl.pstatic.net/sstat \n",
      "\n"
     ]
    }
   ],
   "source": [
    "query_list = ['파이썬', '웹 크롤링', '빅데이터', 'python']\n",
    "url = 'https://search.naver.com/search.naver?query='\n",
    "for i in query_list:\n",
    "    new_url = url + urllib.parse.quote(i)\n",
    "    response_urllib = urllib.request.urlopen(new_url)\n",
    "    byte_data = response_urllib.read(400)\n",
    "    text_data = byte_data.decode('utf-8')\n",
    "    print(text_data, '\\n')"
   ]
  },
  {
   "cell_type": "markdown",
   "id": "dcc9b2ef",
   "metadata": {},
   "source": [
    "## # selenium 모듈\n",
    "---\n",
    "- 웹 어플리케이션 테스트를 위한 프레임워크 (홈페이지 테스트용으로 사용)\n",
    "- 사용자가 아닌 프로그램이 웹 브라우저를 제어할 수 있도록 지원\n",
    "- 웹 브라우저마나 클라이언트 프로그램(Web Driver)이 별도로 필요 (웹브라우저 <-> 프로그램간 통신 목적)\n",
    "- 크롤링보다는 웹을 제어하는 목적이 더 큼\n",
    "- pip install selenium\n",
    "- web driver 설치 (크롬 버전 확인) : https://chromedriver.chromium.org/downloads\n",
    " - 압축해제한 후 chromedrive.exe를 적당한 경로로 이동\n",
    " - selenium 모듈 호출 후 설치한 web driver 경로를 지정\n",
    "$$$$\n",
    "\n",
    "### # 이벤트로 제어하기\n",
    "---\n",
    "- 브라우저를 직접 제어하기 때문에 직접 컨트롤하여 마우스 클릭, 키보드 입력, 자바 스크립트 이벤트 처리 가능\n",
    "- 마우스 클릭 : click()\n",
    "- 키보드 입력 : send_keys()\n",
    "- 자바스크립트 삽입 : excute_script()\n",
    "- 입력 양식 전송: submit()\n",
    "- 스크린샷 : screenshot(파일명)\n",
    "- 글자 삭제 : clear()\n",
    "- 뒤로 가기 : back()\n",
    "- 앞으로 가기 : forward()\n",
    "$$$$\n",
    "\n",
    "### # selenium 함수\n",
    "---\n",
    "- find_element_by_id : id 속성을 사용하여 접근\n",
    "- 아래의 함수는 find_element에 s를 붙여서도 사용 가능\n",
    " - ex) find_elements_by_class_name\n",
    " - find_element_by_class_name : 클래스를 사용하여 접근\n",
    " - find_element_by_name : name 속성을 사용하여 접근\n",
    " - find_element_by_xpath : xpath 속성을 사용하여 접근\n",
    " - find_element_by_link_text : 앵커태크(a)에 사용되는 텍스트로 접근\n",
    " - find_element_by_partial_link_text : 앵커태크(a)에 사용되는 일부 텍스트로 접근\n",
    " - find_element_by_tag_name : 태그를 사용하여 접근\n",
    " - find_element_by_css_selector : CSS 선택자를 사용하여 접근"
   ]
  },
  {
   "cell_type": "code",
   "execution_count": 108,
   "id": "59747f01",
   "metadata": {
    "ExecuteTime": {
     "end_time": "2022-02-11T09:06:05.412601Z",
     "start_time": "2022-02-11T09:06:03.511483Z"
    }
   },
   "outputs": [],
   "source": [
    "url = 'https://naver.com'\n",
    "path = 'D:\\workspace\\python\\selenium_tool\\chromedriver.exe'\n",
    "driver = webdriver.Chrome(path)\n",
    "driver.get(url)"
   ]
  },
  {
   "cell_type": "code",
   "execution_count": null,
   "id": "6f1579b8",
   "metadata": {},
   "outputs": [],
   "source": [
    "print(driver.current_url)"
   ]
  },
  {
   "cell_type": "code",
   "execution_count": null,
   "id": "31333aa9",
   "metadata": {},
   "outputs": [],
   "source": [
    "driver.close()"
   ]
  },
  {
   "cell_type": "code",
   "execution_count": null,
   "id": "5888bf49",
   "metadata": {},
   "outputs": [],
   "source": [
    "# 브라우저 창을 띄우지 않고 수행\n",
    "\n",
    "options = webdriver.ChromeOptions()\n",
    "options.add_argument('headless')\n",
    "driver = webdriver.Chrome(path, options = options)\n",
    "driver.get('https://google.com')\n",
    "print(driver.current_url)\n",
    "driver.close()"
   ]
  },
  {
   "cell_type": "code",
   "execution_count": null,
   "id": "d83909b8",
   "metadata": {},
   "outputs": [],
   "source": [
    "# 브라우저 최소화/최대화\n",
    "\n",
    "driver = webdriver.Chrome(path)\n",
    "driver.get('https://google.com')\n",
    "# driver.maximize_window()\n",
    "driver.minimize_window()"
   ]
  },
  {
   "cell_type": "markdown",
   "id": "482789e1",
   "metadata": {
    "ExecuteTime": {
     "end_time": "2022-02-11T09:06:25.034811Z",
     "start_time": "2022-02-11T09:06:25.017796Z"
    }
   },
   "source": [
    "#### # Implicit Waits(암묵적 대기)\n",
    "---\n",
    "- 찾으려는 element가 로드될 때까지 지정한 시간만큼 대기할 수 있도록 설정\n",
    "- https://blog.naver.com/altmshfkgudtjr/221494904057"
   ]
  },
  {
   "cell_type": "code",
   "execution_count": null,
   "id": "7c5426b8",
   "metadata": {},
   "outputs": [],
   "source": [
    "from selenium.webdriver.common.by import By\n",
    "from selenium.webdriver.support.ui import WebDriverWait\n",
    "from selenium.webdriver.support import expected_conditions as EC\n",
    "\n",
    "driver = webdriver.Chrome(path)\n",
    "driver.get('https://google.com')\n",
    "\n",
    "try:\n",
    "    element = WebDriverWait(driver, 5).until(\n",
    "    EC.presence_of_element_located((By.CLASS_NAME, 'gLFyf')) # find_element_by_class_name을 BY.CLASS_NAME으로도 쓸 수 있다.\n",
    "    )\n",
    "finally:\n",
    "    driver.quit()"
   ]
  },
  {
   "cell_type": "code",
   "execution_count": null,
   "id": "16b6f4f7",
   "metadata": {},
   "outputs": [],
   "source": [
    "from time import sleep\n",
    "\n",
    "driver = webdriver.Chrome(path)\n",
    "driver.get('https://naver.com')\n",
    "search_box = driver.find_element_by_xpath('//*[@id=\"query\"]')\n",
    "search_box.send_keys('빅데이터')\n",
    "search_box.send_keys(Keys.RETURN)\n",
    "\n",
    "elements = driver.find_elements_by_xpath('//*[@id=\"main_pack\"]/section/div/div/div/div/h3/a')\n",
    "\n",
    "for element in elements:\n",
    "    print(element.text)\n",
    "    print(element.text, file = open('test_set.txt', 'a', encoding = 'utf-8'))\n",
    "sleep(3)\n",
    "driver.close()"
   ]
  },
  {
   "cell_type": "code",
   "execution_count": null,
   "id": "895a24e4",
   "metadata": {},
   "outputs": [],
   "source": [
    "driver = webdriver.Chrome(path)\n",
    "driver.get('https://naver.com')\n",
    "driver.maximize_window()\n",
    "driver.find_element_by_class_name('link_login').click()\n",
    "time.sleep(1)\n",
    "driver.back()\n",
    "# driver.forward()\n",
    "# driver.refresh()\n",
    "# time.sleep(2)\n",
    "# driver.back()\n",
    "elem = driver.find_element_by_id('query')\n",
    "elem.send_keys(Keys.ENTER)\n",
    "els = driver.find_elements_by_tag_name('a')\n",
    "for e in els[:5]:\n",
    "    print(e.get_attribute('href'))\n",
    "driver.refresh()\n",
    "driver.get('https://daum.net')\n",
    "driver.close()"
   ]
  },
  {
   "cell_type": "code",
   "execution_count": null,
   "id": "6c480edb",
   "metadata": {},
   "outputs": [],
   "source": [
    "# 다음사이트에서 빅데이터 관련 검색하여 출력한 후 구글 페이지로 이동\n",
    "\n",
    "driver = webdriver.Chrome(path)\n",
    "driver.get('https://daum.net')\n",
    "search = driver.find_element_by_xpath('//*[@id=\"q\"]')\n",
    "search.send_keys('빅데이터', Keys.ENTER)\n",
    "els = driver.find_element_by_tag_name('meta:nth-child(7)')\n",
    "print(els.get_attribute('content'))\n",
    "driver.get('https://google.com')"
   ]
  },
  {
   "cell_type": "code",
   "execution_count": 111,
   "id": "c1980f63",
   "metadata": {
    "ExecuteTime": {
     "end_time": "2022-02-11T10:20:53.150636Z",
     "start_time": "2022-02-11T10:20:47.652602Z"
    }
   },
   "outputs": [
    {
     "name": "stdout",
     "output_type": "stream",
     "text": [
      "'뉴스페이스' 재앙의 한 주…스타링크 위성 40기 손실에 아스트라 로켓 발사 실패\n",
      "'4점' 극적인 빅엔드…컬링 '팀 킴', 영국에 대역전 첫 승\n",
      "홍준표, '신천지 윤석열 지원' 의혹에 \"경선 직후 알아… 주도자 짐작간다\"\n",
      "1년에 수천만원 ‘벽’ 앞에…엄마는 김밥을 말고, 이시형은 피겨를 탔다\n",
      "백신의무 반대 집회에 극우세력이 결합했더니... [김수진의 '별 일 있는' 캐나다]\n"
     ]
    }
   ],
   "source": [
    "import time\n",
    "\n",
    "driver = webdriver.Chrome(path)\n",
    "driver.get('https://naver.com')\n",
    "driver.maximize_window()\n",
    "driver.find_element_by_css_selector('#NM_FAVORITE > div.group_nav > ul.list_nav.NM_FAVORITE_LIST > li:nth-child(2) > a').click()\n",
    "els = driver.find_elements_by_css_selector('#ct > div > section.main_content > div.main_brick > div > div:nth-child(1) > div.main_brick_item._channel_news_preview_wrapper > div > div > div > a > div > div')\n",
    "for i in els[:5]:\n",
    "    print(i.text)"
   ]
  }
 ],
 "metadata": {
  "hide_input": false,
  "kernelspec": {
   "display_name": "Python 3 (ipykernel)",
   "language": "python",
   "name": "python3"
  },
  "language_info": {
   "codemirror_mode": {
    "name": "ipython",
    "version": 3
   },
   "file_extension": ".py",
   "mimetype": "text/x-python",
   "name": "python",
   "nbconvert_exporter": "python",
   "pygments_lexer": "ipython3",
   "version": "3.8.12"
  },
  "toc": {
   "base_numbering": 1,
   "nav_menu": {},
   "number_sections": false,
   "sideBar": true,
   "skip_h1_title": false,
   "title_cell": "Table of Contents",
   "title_sidebar": "Contents",
   "toc_cell": false,
   "toc_position": {
    "height": "1178.97px",
    "left": "76px",
    "top": "124.39px",
    "width": "215px"
   },
   "toc_section_display": true,
   "toc_window_display": true
  },
  "varInspector": {
   "cols": {
    "lenName": "16",
    "lenType": "16",
    "lenVar": 40
   },
   "kernels_config": {
    "python": {
     "delete_cmd_postfix": "",
     "delete_cmd_prefix": "del ",
     "library": "var_list.py",
     "varRefreshCmd": "print(var_dic_list())"
    },
    "r": {
     "delete_cmd_postfix": ") ",
     "delete_cmd_prefix": "rm(",
     "library": "var_list.r",
     "varRefreshCmd": "cat(var_dic_list()) "
    }
   },
   "types_to_exclude": [
    "module",
    "function",
    "builtin_function_or_method",
    "instance",
    "_Feature"
   ],
   "window_display": false
  }
 },
 "nbformat": 4,
 "nbformat_minor": 5
}
