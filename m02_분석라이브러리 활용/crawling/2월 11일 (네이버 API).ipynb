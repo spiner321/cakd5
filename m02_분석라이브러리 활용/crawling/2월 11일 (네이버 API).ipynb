{
 "cells": [
  {
   "cell_type": "code",
   "execution_count": 2,
   "id": "95bc7738",
   "metadata": {
    "ExecuteTime": {
     "end_time": "2022-02-13T05:20:30.481863Z",
     "start_time": "2022-02-13T05:20:29.976475Z"
    }
   },
   "outputs": [],
   "source": [
    "import os\n",
    "import sys\n",
    "import urllib.request\n",
    "import pandas as pd\n",
    "import numpy as np\n",
    "import re"
   ]
  },
  {
   "cell_type": "markdown",
   "id": "974822cf",
   "metadata": {},
   "source": [
    "# [2월 11일]\n",
    "---"
   ]
  },
  {
   "cell_type": "markdown",
   "id": "abeb0347",
   "metadata": {},
   "source": [
    "## # 네이버 검색 API 서비스\n",
    "---"
   ]
  },
  {
   "cell_type": "markdown",
   "id": "df7e7a0a",
   "metadata": {},
   "source": [
    "### # 네이버 웹문서 검색 API\n",
    "---"
   ]
  },
  {
   "cell_type": "code",
   "execution_count": 2,
   "id": "3b906b8c",
   "metadata": {
    "ExecuteTime": {
     "end_time": "2022-02-11T07:30:05.829862Z",
     "start_time": "2022-02-11T07:30:05.650484Z"
    }
   },
   "outputs": [
    {
     "name": "stdout",
     "output_type": "stream",
     "text": [
      "{\n",
      "\"lastBuildDate\": \"Fri, 11 Feb 2022 16:30:06 +0900\",\n",
      "\"total\": 1018986,\n",
      "\"start\": 1,\n",
      "\"display\": 10,\n",
      "\"items\": [\n",
      "{\n",
      "\"title\": \"<b>빅데이터</b>학원 기초과정부터 배워요\",\n",
      "\"link\": \"https:\\/\\/blog.naver.com\\/ssohi07?Redirect=Log&logNo=222638093778\",\n",
      "\"description\": \"특히 데이터를 수집하여 통계를 작성하고 이를 통해 다양한 일을 할 수 있는 분야가 유망했습니다. 저는 이 분야가 마음에 들어서 <b>빅데이터</b>학원을 등록하게 되었습니다. <b>빅데이터</b> 분야는 앞으로도 전망이... \",\n",
      "\"bloggername\": \"너와 wedding의 연결고리\",\n",
      "\"bloggerlink\": \"https://blog.naver.com/ssohi07\",\n",
      "\"postdate\": \"20220203\"\n",
      "\n",
      "},\n",
      "{\n",
      "\"title\": \"<b>빅데이터</b>분석기사인강 통한 시험 준비로 필기 합격 기대!\",\n",
      "\"link\": \"https:\\/\\/blog.naver.com\\/waiting25?Redirect=Log&logNo=222641084425\",\n",
      "\"description\": \"<b>빅데이터</b>분석기사는 자료(데이터) 경제 활성화에 따라 대량의 정형. 비정형 자료를 분석, 미례를 예측하고 최적화 모형을 제시하는 실무자로서 전 세계적으로 <b>빅데이터</b>가 미래성장동력으로 인식되어져가고... \",\n",
      "\"bloggername\": \"스터디채널 공식블로그\",\n",
      "\"bloggerlink\": \"https://blog.naver.com/waiting25\",\n",
      "\"postdate\": \"20220207\"\n",
      "\n",
      "},\n",
      "{\n",
      "\"title\": \"<b>빅데이터</b>학원 실기 위주의 학습\",\n",
      "\"link\": \"https:\\/\\/blog.naver.com\\/blackhole68?Redirect=Log&logNo=222596181315\",\n",
      "\"description\": \"<b>빅데이터</b>는 말 그대로 방대한 양의 데이터 양을 말하는건데, 갈수록 정보통신 기술이 발전하고, 사용자가 많아 지기 때문에 갈수록 <b>빅데이터</b>에 의존하는 기업이 많아지는 만큼 장래성이 밝다고 느껴져서... \",\n",
      "\"bloggername\": \"김용식 문학서재\",\n",
      "\"bloggerlink\": \"https://blog.naver.com/blackhole68\",\n",
      "\"postdate\": \"20211215\"\n",
      "\n",
      "},\n",
      "{\n",
      "\"title\": \"<b>빅데이터</b>전문가자격증 공부 순서는 이렇게!\",\n",
      "\"link\": \"https:\\/\\/blog.naver.com\\/eshan97?Redirect=Log&logNo=222560079238\",\n",
      "\"description\": \"위와 같은 방법을 써서, <b>빅데이터</b>전문가자격증 과정 20일차였던 데이터 내용 보기까지 딱, 정해진 시점에 다 완강할 수 있었습니다. 마지막 수업 종료 창이 뜨자마자 하나를 끝낸 것 같아 마음이 놓였어요.... \",\n",
      "\"bloggername\": \"Eunsung log\",\n",
      "\"bloggerlink\": \"https://blog.naver.com/eshan97\",\n",
      "\"postdate\": \"20211107\"\n",
      "\n",
      "},\n",
      "{\n",
      "\"title\": \"<b>빅데이터</b>학원 기초부터 응용까지 확실하게!\",\n",
      "\"link\": \"https:\\/\\/blog.naver.com\\/oneu?Redirect=Log&logNo=222626786580\",\n",
      "\"description\": \"그래서 <b>빅데이터</b> 분야로 취업할 때 가점을 해준다는 ADSP 데이터 분석 준전문가 자격증을 준비하게 됬어요. 남자친구도 바로 전문가 자격증보다는 준전문가부터 무리하지말고 차분히 준비해보라고 하더라구요.... \",\n",
      "\"bloggername\": \"알콩달콩 장씨네 블로그\",\n",
      "\"bloggerlink\": \"https://blog.naver.com/oneu\",\n",
      "\"postdate\": \"20220120\"\n",
      "\n",
      "},\n",
      "{\n",
      "\"title\": \"<b>빅데이터</b>학원 실무습득의 원천은?\",\n",
      "\"link\": \"https:\\/\\/blog.naver.com\\/ssoyeon12?Redirect=Log&logNo=222614203698\",\n",
      "\"description\": \"참고로 <b>빅데이터</b>는 양이 매우 많고 증가 속도가 빠르며 종류가 매우 다양한 데이터를 말하는데요! 이러한 <b>빅데이터</b>는 너무 방대하여 기존의 데이터 처리 소프트웨어로는 관리할 수가 없어요! 다만 이 방대한... \",\n",
      "\"bloggername\": \"요롱일상\",\n",
      "\"bloggerlink\": \"https://blog.naver.com/ssoyeon12\",\n",
      "\"postdate\": \"20220106\"\n",
      "\n",
      "},\n",
      "{\n",
      "\"title\": \"<b>빅데이터</b>분석기사 어렵지 않았던 교육과정\",\n",
      "\"link\": \"https:\\/\\/blog.naver.com\\/bbunilena?Redirect=Log&logNo=222617949376\",\n",
      "\"description\": \"대규모의 데이터가 늘어나 <b>빅데이터</b>가 됐다고 해요. 과거에 비해 데이터의 양이 엄청나게 증폭했고 데이터의 종류도 다양해지면서 이런 데이터를 분석하여 사람들의 행동과 생각, 의견 등을 예측하는 게... \",\n",
      "\"bloggername\": \"Awesome days.\",\n",
      "\"bloggerlink\": \"https://blog.naver.com/bbunilena\",\n",
      "\"postdate\": \"20220110\"\n",
      "\n",
      "},\n",
      "{\n",
      "\"title\": \"<b>빅데이터</b>전문가 요즘 필요한 이유\",\n",
      "\"link\": \"https:\\/\\/blog.naver.com\\/irasi?Redirect=Log&logNo=222603148149\",\n",
      "\"description\": \"저는 특히 놀랐던 것이 정부에서도 설문조사를 실시하고 유의미한 결과를 얻어내기 위해 데이터 분석 전문가를 등용하고 있다는 사실이었어요! <b>빅데이터</b>전문가 시험과목은 어렵지 않은 것이... \",\n",
      "\"bloggername\": \"PRONG\",\n",
      "\"bloggerlink\": \"https://blog.naver.com/irasi\",\n",
      "\"postdate\": \"20211223\"\n",
      "\n",
      "},\n",
      "{\n",
      "\"title\": \"<b>빅데이터</b>자격증 준비 과정 자세하게 공개\",\n",
      "\"link\": \"https:\\/\\/blog.naver.com\\/dpffjdtoki?Redirect=Log&logNo=222603040666\",\n",
      "\"description\": \"매일매일 쌓여가는 데이터의 양을 굉장하다고 합니다. 이 <b>빅데이터</b>는 정리가 되어 있는 것도 아니에요. 어디서나 찾아볼 수 있는데 있던데 그걸 정리하고 데이터화 시키고 분석하고 하는 것이 전문가가 하는... \",\n",
      "\"bloggername\": \"tokitoki7\",\n",
      "\"bloggerlink\": \"https://blog.naver.com/dpffjdtoki\",\n",
      "\"postdate\": \"20211223\"\n",
      "\n",
      "},\n",
      "{\n",
      "\"title\": \"<b>빅데이터</b> 분석기사 필기 출제기준 맞춤 수험서\",\n",
      "\"link\": \"https:\\/\\/blog.naver.com\\/akodien?Redirect=Log&logNo=222496826999\",\n",
      "\"description\": \"<b>빅데이터</b>분석기사 필기 준비하는 사람으로서 성안당의 출제기준 맞춤 수험서가 괜찮다는 생각이... 그 전에 <b>빅데이터</b>분석기사에 대해 궁금해 하실 사람이 많을 것 같아서 짧게나마 자격증 소개를 드려보도로... \",\n",
      "\"bloggername\": \"더나은 공식블로그\",\n",
      "\"bloggerlink\": \"https://blog.naver.com/akodien\",\n",
      "\"postdate\": \"20210906\"\n",
      "\n",
      "}\n",
      "]\n",
      "}\n",
      "\n"
     ]
    }
   ],
   "source": [
    "# 네이버 검색 API예제는 블로그를 비롯 전문자료까지 호출방법이 동일하므로 blog검색만 대표로 예제를 올렸습니다.\n",
    "# 네이버 검색 Open API 예제 - 블로그 검색\n",
    "\n",
    "import os\n",
    "import sys\n",
    "import urllib.request\n",
    "\n",
    "client_id = \"nm2CQVL08k7ff2IEaWua\"\n",
    "client_secret = \"ORLP6jy3B6\"\n",
    "encText = urllib.parse.quote(\"빅데이터\")\n",
    "url = \"https://openapi.naver.com/v1/search/blog?query=\" + encText # json 결과\n",
    "# url = \"https://openapi.naver.com/v1/search/blog.xml?query=\" + encText # xml 결과\n",
    "request = urllib.request.Request(url)\n",
    "request.add_header(\"X-Naver-Client-Id\",client_id)\n",
    "request.add_header(\"X-Naver-Client-Secret\",client_secret)\n",
    "response = urllib.request.urlopen(request)\n",
    "rescode = response.getcode()\n",
    "if(rescode==200):\n",
    "    response_body = response.read()\n",
    "    print(response_body.decode('utf-8'))\n",
    "else:\n",
    "    print(\"Error Code:\" + rescode)"
   ]
  },
  {
   "cell_type": "code",
   "execution_count": 12,
   "id": "7a79555d",
   "metadata": {
    "ExecuteTime": {
     "end_time": "2022-02-13T05:35:34.166984Z",
     "start_time": "2022-02-13T05:35:25.094479Z"
    }
   },
   "outputs": [
    {
     "name": "stdout",
     "output_type": "stream",
     "text": [
      "검색 질의: 빅데이터\n"
     ]
    },
    {
     "data": {
      "text/html": [
       "<div>\n",
       "<style scoped>\n",
       "    .dataframe tbody tr th:only-of-type {\n",
       "        vertical-align: middle;\n",
       "    }\n",
       "\n",
       "    .dataframe tbody tr th {\n",
       "        vertical-align: top;\n",
       "    }\n",
       "\n",
       "    .dataframe thead th {\n",
       "        text-align: right;\n",
       "    }\n",
       "</style>\n",
       "<table border=\"1\" class=\"dataframe\">\n",
       "  <thead>\n",
       "    <tr style=\"text-align: right;\">\n",
       "      <th></th>\n",
       "      <th>Title</th>\n",
       "      <th>Link</th>\n",
       "      <th>Description</th>\n",
       "    </tr>\n",
       "  </thead>\n",
       "  <tbody>\n",
       "    <tr>\n",
       "      <th>0</th>\n",
       "      <td>빅데이터학과 입시정보</td>\n",
       "      <td>https://blog.naver.com/myhanayou?Redirect=Log&amp;...</td>\n",
       "      <td>사실 데이터베이스, 빅데이터, 인공지능, 프로그래밍 언어, 네트워크 등등 정말 배울...</td>\n",
       "    </tr>\n",
       "    <tr>\n",
       "      <th>1</th>\n",
       "      <td>빅데이터학원 기초과정부터 배워요</td>\n",
       "      <td>https://blog.naver.com/ssohi07?Redirect=Log&amp;lo...</td>\n",
       "      <td>특히 데이터를 수집하여 통계를 작성하고 이를 통해 다양한 일을 할 수 있는 분야가 ...</td>\n",
       "    </tr>\n",
       "    <tr>\n",
       "      <th>2</th>\n",
       "      <td>빅데이터분석기사인강 통한 시험 준비로 필기 합격 기대!</td>\n",
       "      <td>https://blog.naver.com/waiting25?Redirect=Log&amp;...</td>\n",
       "      <td>빅데이터분석기사는 자료(데이터) 경제 활성화에 따라 대량의 정형. 비정형 자료를 분...</td>\n",
       "    </tr>\n",
       "    <tr>\n",
       "      <th>3</th>\n",
       "      <td>빅데이터학원 실기 위주의 학습</td>\n",
       "      <td>https://blog.naver.com/blackhole68?Redirect=Lo...</td>\n",
       "      <td>빅데이터는 말 그대로 방대한 양의 데이터 양을 말하는건데, 갈수록 정보통신 기술이 ...</td>\n",
       "    </tr>\n",
       "    <tr>\n",
       "      <th>4</th>\n",
       "      <td>빅데이터전문가자격증 공부 순서는 이렇게!</td>\n",
       "      <td>https://blog.naver.com/eshan97?Redirect=Log&amp;lo...</td>\n",
       "      <td>위와 같은 방법을 써서, 빅데이터전문가자격증 과정 20일차였던 데이터 내용 보기까지...</td>\n",
       "    </tr>\n",
       "    <tr>\n",
       "      <th>...</th>\n",
       "      <td>...</td>\n",
       "      <td>...</td>\n",
       "      <td>...</td>\n",
       "    </tr>\n",
       "    <tr>\n",
       "      <th>995</th>\n",
       "      <td>[데이터마이닝과 시각화]... 비정형 소셜 빅데이터분석</td>\n",
       "      <td>https://blog.naver.com/webkim?Redirect=Log&amp;log...</td>\n",
       "      <td>#상권분석마케팅전문가과정 #온라인마케팅전문가과정 #빅데이터분석 #데이터수집 #데이터...</td>\n",
       "    </tr>\n",
       "    <tr>\n",
       "      <th>996</th>\n",
       "      <td>[책판다서평] ‘세상을 읽는 새로운 언어, 빅데이터’, 빅데이터...</td>\n",
       "      <td>https://blog.naver.com/greatsj0807?Redirect=Lo...</td>\n",
       "      <td>세상을 읽는 새로운 언어, 빅데이터 저자 조성준 출판 21세기북스 발매 2019.0...</td>\n",
       "    </tr>\n",
       "    <tr>\n",
       "      <th>997</th>\n",
       "      <td>리치톡톡의 빅데이터 부동산전망 2021 후기</td>\n",
       "      <td>https://blog.naver.com/sybangse?Redirect=Log&amp;l...</td>\n",
       "      <td>빅데이터를 많이 모으는게 중요한게 아니라 그것을 어떻게 해석하고 활용하는게 얼마나 ...</td>\n",
       "    </tr>\n",
       "    <tr>\n",
       "      <th>998</th>\n",
       "      <td>[서포터즈] '대구 빅데이터 활용센터'를 소개합니다 !!</td>\n",
       "      <td>https://blog.naver.com/jisan2501?Redirect=Log&amp;...</td>\n",
       "      <td>다양한 데이터와 분석환경을 갖춘 대구 빅데이터 활용센터는 어떤 운영 목적을 가질까요...</td>\n",
       "    </tr>\n",
       "    <tr>\n",
       "      <th>999</th>\n",
       "      <td>[bOOk] 통계학 빅데이터를 잡다</td>\n",
       "      <td>https://blog.naver.com/skynwar?Redirect=Log&amp;lo...</td>\n",
       "      <td>빅데이터의 시대는 &amp;quot;모든것이 데이터가 되는 시대&amp;quot;라고들 한다. 빅...</td>\n",
       "    </tr>\n",
       "  </tbody>\n",
       "</table>\n",
       "<p>1000 rows × 3 columns</p>\n",
       "</div>"
      ],
      "text/plain": [
       "                                       Title  \\\n",
       "0                                빅데이터학과 입시정보   \n",
       "1                          빅데이터학원 기초과정부터 배워요   \n",
       "2             빅데이터분석기사인강 통한 시험 준비로 필기 합격 기대!   \n",
       "3                           빅데이터학원 실기 위주의 학습   \n",
       "4                     빅데이터전문가자격증 공부 순서는 이렇게!   \n",
       "..                                       ...   \n",
       "995           [데이터마이닝과 시각화]... 비정형 소셜 빅데이터분석   \n",
       "996  [책판다서평] ‘세상을 읽는 새로운 언어, 빅데이터’, 빅데이터...    \n",
       "997                 리치톡톡의 빅데이터 부동산전망 2021 후기   \n",
       "998          [서포터즈] '대구 빅데이터 활용센터'를 소개합니다 !!   \n",
       "999                      [bOOk] 통계학 빅데이터를 잡다   \n",
       "\n",
       "                                                  Link  \\\n",
       "0    https://blog.naver.com/myhanayou?Redirect=Log&...   \n",
       "1    https://blog.naver.com/ssohi07?Redirect=Log&lo...   \n",
       "2    https://blog.naver.com/waiting25?Redirect=Log&...   \n",
       "3    https://blog.naver.com/blackhole68?Redirect=Lo...   \n",
       "4    https://blog.naver.com/eshan97?Redirect=Log&lo...   \n",
       "..                                                 ...   \n",
       "995  https://blog.naver.com/webkim?Redirect=Log&log...   \n",
       "996  https://blog.naver.com/greatsj0807?Redirect=Lo...   \n",
       "997  https://blog.naver.com/sybangse?Redirect=Log&l...   \n",
       "998  https://blog.naver.com/jisan2501?Redirect=Log&...   \n",
       "999  https://blog.naver.com/skynwar?Redirect=Log&lo...   \n",
       "\n",
       "                                           Description  \n",
       "0    사실 데이터베이스, 빅데이터, 인공지능, 프로그래밍 언어, 네트워크 등등 정말 배울...  \n",
       "1    특히 데이터를 수집하여 통계를 작성하고 이를 통해 다양한 일을 할 수 있는 분야가 ...  \n",
       "2    빅데이터분석기사는 자료(데이터) 경제 활성화에 따라 대량의 정형. 비정형 자료를 분...  \n",
       "3    빅데이터는 말 그대로 방대한 양의 데이터 양을 말하는건데, 갈수록 정보통신 기술이 ...  \n",
       "4    위와 같은 방법을 써서, 빅데이터전문가자격증 과정 20일차였던 데이터 내용 보기까지...  \n",
       "..                                                 ...  \n",
       "995  #상권분석마케팅전문가과정 #온라인마케팅전문가과정 #빅데이터분석 #데이터수집 #데이터...  \n",
       "996  세상을 읽는 새로운 언어, 빅데이터 저자 조성준 출판 21세기북스 발매 2019.0...  \n",
       "997  빅데이터를 많이 모으는게 중요한게 아니라 그것을 어떻게 해석하고 활용하는게 얼마나 ...  \n",
       "998  다양한 데이터와 분석환경을 갖춘 대구 빅데이터 활용센터는 어떤 운영 목적을 가질까요...  \n",
       "999  빅데이터의 시대는 &quot;모든것이 데이터가 되는 시대&quot;라고들 한다. 빅...  \n",
       "\n",
       "[1000 rows x 3 columns]"
      ]
     },
     "execution_count": 12,
     "metadata": {},
     "output_type": "execute_result"
    }
   ],
   "source": [
    "# 위 수정본\n",
    "\n",
    "import os\n",
    "import sys\n",
    "import urllib.request\n",
    "\n",
    "client_id = \"nm2CQVL08k7ff2IEaWua\"\n",
    "client_secret = \"ORLP6jy3B6\"\n",
    "# encText = urllib.parse.quote(\"검색할 단어\")\n",
    "query = urllib.parse.quote(input('검색 질의: '))\n",
    "\n",
    "idx = 0\n",
    "display = 100\n",
    "start = 1\n",
    "end = 1000\n",
    "\n",
    "web_df = pd.DataFrame(columns = ('Title', 'Link', 'Description'))\n",
    "\n",
    "for s_index in range(start, end, display):\n",
    "    url = \"https://openapi.naver.com/v1/search/blog?query=\" + query \\\n",
    "    + \"&display=\" + str(display) \\\n",
    "    + \"&start=\" + str(s_index)\n",
    "    \n",
    "    request = urllib.request.Request(url)\n",
    "    request.add_header(\"X-Naver-Client-Id\",client_id)\n",
    "    request.add_header(\"X-Naver-Client-Secret\",client_secret)\n",
    "    response = urllib.request.urlopen(request)\n",
    "    rescode = response.getcode()\n",
    "    if(rescode==200):\n",
    "        response_body = response.read()\n",
    "        response_dict = json.loads(response_body.decode('utf-8'))\n",
    "#         print(response_dict)\n",
    "        items = response_dict['items']\n",
    "        for item_index in range(0, len(items)):\n",
    "            remove_tag = re.compile('<.*?>')\n",
    "            title = re.sub(remove_tag, '', items[item_index]['title'])\n",
    "            link = items[item_index]['link']\n",
    "            description = re.sub(remove_tag, '', items[item_index]['description'])\n",
    "            web_df.loc[idx] = [title, link, description]\n",
    "            idx += 1       \n",
    "    else:\n",
    "        print(\"Error Code:\" + rescode)\n",
    "\n",
    "web_df"
   ]
  },
  {
   "cell_type": "code",
   "execution_count": 7,
   "id": "3d3d9758",
   "metadata": {
    "ExecuteTime": {
     "end_time": "2022-02-13T05:34:16.656526Z",
     "start_time": "2022-02-13T05:34:16.642513Z"
    }
   },
   "outputs": [
    {
     "data": {
      "text/plain": [
       "[1, 101, 201, 301, 401, 501, 601, 701, 801, 901]"
      ]
     },
     "execution_count": 7,
     "metadata": {},
     "output_type": "execute_result"
    }
   ],
   "source": [
    "a = list(range(1, 1000, 100))\n",
    "a"
   ]
  }
 ],
 "metadata": {
  "hide_input": false,
  "kernelspec": {
   "display_name": "Python 3 (ipykernel)",
   "language": "python",
   "name": "python3"
  },
  "language_info": {
   "codemirror_mode": {
    "name": "ipython",
    "version": 3
   },
   "file_extension": ".py",
   "mimetype": "text/x-python",
   "name": "python",
   "nbconvert_exporter": "python",
   "pygments_lexer": "ipython3",
   "version": "3.8.12"
  },
  "toc": {
   "base_numbering": 1,
   "nav_menu": {},
   "number_sections": false,
   "sideBar": true,
   "skip_h1_title": false,
   "title_cell": "Table of Contents",
   "title_sidebar": "Contents",
   "toc_cell": false,
   "toc_position": {
    "height": "1188px",
    "left": "91px",
    "top": "88px",
    "width": "191px"
   },
   "toc_section_display": true,
   "toc_window_display": true
  },
  "varInspector": {
   "cols": {
    "lenName": 16,
    "lenType": 16,
    "lenVar": 40
   },
   "kernels_config": {
    "python": {
     "delete_cmd_postfix": "",
     "delete_cmd_prefix": "del ",
     "library": "var_list.py",
     "varRefreshCmd": "print(var_dic_list())"
    },
    "r": {
     "delete_cmd_postfix": ") ",
     "delete_cmd_prefix": "rm(",
     "library": "var_list.r",
     "varRefreshCmd": "cat(var_dic_list()) "
    }
   },
   "types_to_exclude": [
    "module",
    "function",
    "builtin_function_or_method",
    "instance",
    "_Feature"
   ],
   "window_display": false
  }
 },
 "nbformat": 4,
 "nbformat_minor": 5
}
