{
 "cells": [
  {
   "cell_type": "markdown",
   "id": "b77aec42",
   "metadata": {},
   "source": [
    "## 판다스\n",
    "- 판다스는 구조화된 데이터 형식을 제공. 시리즈는 1차원 배열, 데이터프레임은 2차원 배열\n",
    "- 라이브러리는 여러 종류의 class와 다양한 내장 함수로 구성. 시리즈와 데이터프레임은 대표적인 클래스 객체\n",
    "- 시리즈 인덱스는 데이터값과 일대일 대응. 파이썬 딕셔너리와 비슷한 구조. pandas.Series(딕셔너리)\n",
    "- Contents\n",
    " - Series(변환, 인덱스 구조, 원소 선택)\n",
    " - DataFrame(변환, 인덱스, 삭제, 선택, 추가, 변경, 전치 등)"
   ]
  },
  {
   "cell_type": "code",
   "execution_count": 2,
   "id": "86f06cf0",
   "metadata": {},
   "outputs": [],
   "source": [
    "import pandas as pd\n",
    "import numpy as np"
   ]
  },
  {
   "cell_type": "code",
   "execution_count": 4,
   "id": "4d6769c9",
   "metadata": {},
   "outputs": [
    {
     "name": "stdout",
     "output_type": "stream",
     "text": [
      "a    1\n",
      "b    2\n",
      "c    3\n",
      "dtype: int64 <class 'pandas.core.series.Series'>\n"
     ]
    }
   ],
   "source": [
    "# 딕셔너리를 시리즈로 변환\n",
    "\n",
    "dic_data = {'a' : 1, 'b' : 2, 'c' : 3}\n",
    "sr = pd.Series(dic_data)\n",
    "print(sr, type(sr))"
   ]
  },
  {
   "cell_type": "code",
   "execution_count": 20,
   "id": "9d366d41",
   "metadata": {},
   "outputs": [
    {
     "name": "stdout",
     "output_type": "stream",
     "text": [
      "a    2019-10-02\n",
      "b          3.14\n",
      "1           ABc\n",
      "2           100\n",
      "3          True\n",
      "dtype: object\n"
     ]
    }
   ],
   "source": [
    "# 리스트를 시리즈로 변환\n",
    "\n",
    "list_d = ['2019-10-02', 3.14, 'ABc', 100, True]\n",
    "sr = pd.Series(list_d, index = ['a', 'b', '1', 2, 3])\n",
    "print(sr)"
   ]
  },
  {
   "cell_type": "code",
   "execution_count": 25,
   "id": "49fecebe",
   "metadata": {},
   "outputs": [
    {
     "name": "stdout",
     "output_type": "stream",
     "text": [
      "Index(['a', 'b', '1', 2, 3], dtype='object') \n",
      "\n",
      "['2019-10-02' 3.14 'ABc' 100 True]\n"
     ]
    }
   ],
   "source": [
    "idx = sr.index\n",
    "print(idx, '\\n')\n",
    "\n",
    "val = sr.values\n",
    "print(val)"
   ]
  },
  {
   "cell_type": "code",
   "execution_count": 64,
   "id": "b96014bd",
   "metadata": {},
   "outputs": [
    {
     "name": "stdout",
     "output_type": "stream",
     "text": [
      "이름              해원\n",
      "생년월일    2009-10-28\n",
      "성별               여\n",
      "학생여부          True\n",
      "dtype: object <class 'pandas.core.series.Series'>\n",
      "\n",
      "해원\n",
      "해원\n",
      "\n",
      "생년월일    2009-10-28\n",
      "성별               여\n",
      "dtype: object\n",
      "생년월일    2009-10-28\n",
      "성별               여\n",
      "dtype: object\n",
      "\n",
      "생년월일    2009-10-28\n",
      "학생여부          True\n",
      "dtype: object\n",
      "생년월일    2009-10-28\n",
      "학생여부          True\n",
      "dtype: object\n"
     ]
    }
   ],
   "source": [
    "# 튜플을 시리즈로 변환\n",
    "\n",
    "tup_d = ('해원', '2009-10-28', '여', True)\n",
    "sr = pd.Series(tup_d, index = ['이름', '생년월일', '성별', '학생여부'])\n",
    "print(sr, type(sr))\n",
    "\n",
    "print()\n",
    "\n",
    "print(sr[0]) # 위치 인덱스의 value\n",
    "print(sr['이름']) # 인덱스명 인덱스의 value\n",
    "\n",
    "print()\n",
    "\n",
    "print(sr[1:3])\n",
    "print(sr['생년월일':'성별'])\n",
    "\n",
    "print()\n",
    "\n",
    "print(sr[[1, 3]])\n",
    "print(sr[['생년월일', '학생여부']])"
   ]
  },
  {
   "cell_type": "code",
   "execution_count": 70,
   "id": "6615a636",
   "metadata": {},
   "outputs": [
    {
     "name": "stdout",
     "output_type": "stream",
     "text": [
      "[11 12 13 14 15] <class 'numpy.ndarray'> \n",
      "\n",
      "ED1    11\n",
      "ED2    12\n",
      "ED3    13\n",
      "ED4    14\n",
      "ED5    15\n",
      "dtype: int32 <class 'pandas.core.series.Series'> \n",
      "\n"
     ]
    }
   ],
   "source": [
    "# 배열을 시리즈로 변환\n",
    "\n",
    "s1 = np.arange(start = 11, stop = 16)\n",
    "s2 = pd.Series(s1, index = ['ED1', 'ED2', 'ED3', 'ED4', 'ED5'])\n",
    "print(s1, type(s1), '\\n')\n",
    "print(s2, type(s2), '\\n')"
   ]
  },
  {
   "cell_type": "code",
   "execution_count": 81,
   "id": "c9dbb8cb",
   "metadata": {},
   "outputs": [
    {
     "name": "stdout",
     "output_type": "stream",
     "text": [
      "<class 'pandas.core.series.Series'>\n",
      "[11 12 13 14 15] <class 'numpy.ndarray'>\n"
     ]
    }
   ],
   "source": [
    "# 시리즈 -> 배열\n",
    "\n",
    "print(type(s2))\n",
    "\n",
    "ar = np.array(s2)\n",
    "print(ar, type(ar))"
   ]
  },
  {
   "cell_type": "code",
   "execution_count": 99,
   "id": "6fc4de0e",
   "metadata": {},
   "outputs": [
    {
     "name": "stdout",
     "output_type": "stream",
     "text": [
      "1       나\n",
      "2       너\n",
      "3      우리\n",
      "4      그것\n",
      "5    True\n",
      "dtype: object\n",
      "a       나\n",
      "b       너\n",
      "c      우리\n",
      "d      그것\n",
      "e    True\n",
      "dtype: object\n",
      "가       나\n",
      "나       너\n",
      "다      우리\n",
      "라      그것\n",
      "마    True\n",
      "dtype: object\n",
      "0       나\n",
      "1       너\n",
      "2      우리\n",
      "3      그것\n",
      "4    True\n",
      "dtype: object\n"
     ]
    }
   ],
   "source": [
    "# 4가지 자료형 데이터를 생성하고 각각 Series로 변환\n",
    "\n",
    "se = ['나', '너', '우리', '그것', True]\n",
    "se_t = tuple(se)\n",
    "se_arr = np.array(se)\n",
    "se_dic = dict(enumerate(se))\n",
    "\n",
    "sr1 = pd.Series(se, index = [1, 2, 3 ,4, 5])\n",
    "sr2 = pd.Series(se, index = ['a', 'b', 'c', 'd', 'e'])\n",
    "sr3 = pd.Series(se, index = ['가', '나', '다', '라', '마'])\n",
    "sr4 = pd.Series(se_dic)\n",
    "\n",
    "print(sr1)\n",
    "print(sr2)\n",
    "print(sr3)\n",
    "print(sr4)"
   ]
  },
  {
   "cell_type": "code",
   "execution_count": 93,
   "id": "18942184",
   "metadata": {},
   "outputs": [
    {
     "data": {
      "text/plain": [
       "state\n",
       "California    1000\n",
       "Ohaio         2000\n",
       "Oregon        3000\n",
       "Texas         4000\n",
       "Name: population, dtype: int32"
      ]
     },
     "execution_count": 93,
     "metadata": {},
     "output_type": "execute_result"
    }
   ],
   "source": [
    "data = np.arange(1000, 5000, 1000)\n",
    "obj = pd.Series(data)\n",
    "state = ['California', 'Ohaio', 'Oregon', 'Texas']\n",
    "obj.name = 'population'\n",
    "obj.index = state\n",
    "obj.index.name = 'state'\n",
    "\n",
    "obj"
   ]
  },
  {
   "cell_type": "code",
   "execution_count": 136,
   "id": "a84e29ec",
   "metadata": {},
   "outputs": [
    {
     "data": {
      "text/plain": [
       "state\n",
       "California       NaN\n",
       "Ohaio         2000.0\n",
       "Oregon        3000.0\n",
       "Texas         4000.0\n",
       "Name: population, dtype: float64"
      ]
     },
     "execution_count": 136,
     "metadata": {},
     "output_type": "execute_result"
    }
   ],
   "source": [
    "obj.California = np.nan\n",
    "\n",
    "obj"
   ]
  },
  {
   "cell_type": "code",
   "execution_count": 138,
   "id": "b6bc86aa",
   "metadata": {},
   "outputs": [
    {
     "data": {
      "text/plain": [
       "nan"
      ]
     },
     "execution_count": 138,
     "metadata": {},
     "output_type": "execute_result"
    }
   ],
   "source": [
    "obj['California']"
   ]
  },
  {
   "cell_type": "code",
   "execution_count": 148,
   "id": "75ea437c",
   "metadata": {},
   "outputs": [
    {
     "data": {
      "text/plain": [
       "state\n",
       "California       NaN\n",
       "Ohaio         2000.0\n",
       "Oregon        3000.0\n",
       "Texas         4000.0\n",
       "Name: population, dtype: float64"
      ]
     },
     "execution_count": 148,
     "metadata": {},
     "output_type": "execute_result"
    }
   ],
   "source": [
    "# 새로운 인덱스를 추가할 때 obj. 으로 표현하면 추가되지 않음\n",
    "\n",
    "obj.Newyork = 3000\n",
    "\n",
    "obj"
   ]
  },
  {
   "cell_type": "code",
   "execution_count": 150,
   "id": "f5de8320",
   "metadata": {},
   "outputs": [
    {
     "data": {
      "text/plain": [
       "state\n",
       "California       NaN\n",
       "Ohaio         2000.0\n",
       "Oregon        3000.0\n",
       "Texas         4000.0\n",
       "Newyork       3000.0\n",
       "Name: population, dtype: float64"
      ]
     },
     "execution_count": 150,
     "metadata": {},
     "output_type": "execute_result"
    }
   ],
   "source": [
    "obj['Newyork'] = 3000\n",
    "\n",
    "obj"
   ]
  },
  {
   "cell_type": "code",
   "execution_count": 129,
   "id": "8304c95a",
   "metadata": {},
   "outputs": [
    {
     "data": {
      "text/plain": [
       "state\n",
       "California     True\n",
       "Ohaio         False\n",
       "Oregon        False\n",
       "Texas         False\n",
       "Name: population, dtype: bool"
      ]
     },
     "execution_count": 129,
     "metadata": {},
     "output_type": "execute_result"
    }
   ],
   "source": [
    "obj.isnull()"
   ]
  },
  {
   "cell_type": "markdown",
   "id": "4bafb2f1",
   "metadata": {},
   "source": [
    "## 데이터프레임\n",
    "- 데이터프레임은 2차원 배열 (R의 데이터프레임에서 유래)\n",
    "- 데이터프레임의 열은 각각 시리즈 개체\n",
    "- 시리즈를 열벡터하면 데이터프레임은 여러개의 열벡터들이 같은 행 인덱스를 기준으로 줄지어 결합된 2차원 벡터 또는 행렬\n",
    "- 선형대수학에서 \n",
    " - 열벡터(m X 1 행렬)는 원소들의 단일 열 행렬\n",
    " - 행벡터(1 X m 행렬)는 원소들의 단일 행 행렬\n",
    "- 리스트, 딕셔너리, 배열 등 다양한 데이터로부터 생성\n",
    "- 반대로 리스트, 딕셔너리, 배열 등으로 변환할 수 있음"
   ]
  },
  {
   "cell_type": "code",
   "execution_count": 175,
   "id": "dc51afeb",
   "metadata": {},
   "outputs": [
    {
     "name": "stdout",
     "output_type": "stream",
     "text": [
      "[[101 109 107]\n",
      " [108 115 100]\n",
      " [100 116 115]] <class 'numpy.ndarray'> \n",
      "\n",
      "     pd  sales  int\n",
      "d1  101    109  107\n",
      "d2  108    115  100\n",
      "d3  100    116  115\n"
     ]
    }
   ],
   "source": [
    "# 배열 -> 데이터프레임\n",
    "\n",
    "ar = np.random.randint(100, 120, size = (3, 3))\n",
    "print(ar, type(ar), '\\n')\n",
    "\n",
    "df = pd.DataFrame(ar, index = ['d1', 'd2', 'd3'], columns = ['pd', 'sales', 'int'])\n",
    "print(df)"
   ]
  },
  {
   "cell_type": "markdown",
   "id": "b803311a",
   "metadata": {},
   "source": [
    "pandas indexing\n",
    "- iloc : integer location의 약어, 데이터프레임의 행이나 칼럼의 순서를 나타내는 정수로 특정 값을 추출해오는 방법\n",
    "- loc : 칼럼명을 직접 적거나 특정 조건식을 써줌으로써 사람이 읽기 좋은 방법으로 데이터에 접근하는 방법"
   ]
  },
  {
   "cell_type": "code",
   "execution_count": 205,
   "id": "03dd2ae7",
   "metadata": {},
   "outputs": [
    {
     "name": "stdout",
     "output_type": "stream",
     "text": [
      "pd       108\n",
      "sales    115\n",
      "int      100\n",
      "Name: d2, dtype: int32 \n",
      "\n",
      "pd       108\n",
      "sales    115\n",
      "int      100\n",
      "Name: d2, dtype: int32 \n",
      "\n",
      "115 \n",
      "\n",
      "115\n"
     ]
    }
   ],
   "source": [
    "# df.iloc[행, 열]선택\n",
    "\n",
    "print(df.iloc[1], '\\n')\n",
    "print(df.loc['d2'], '\\n')\n",
    "print(df.iloc[1, 1], '\\n')\n",
    "print(df.loc['d2', 'sales'])"
   ]
  },
  {
   "cell_type": "code",
   "execution_count": 209,
   "id": "6de2926b",
   "metadata": {},
   "outputs": [
    {
     "data": {
      "text/html": [
       "<div>\n",
       "<style scoped>\n",
       "    .dataframe tbody tr th:only-of-type {\n",
       "        vertical-align: middle;\n",
       "    }\n",
       "\n",
       "    .dataframe tbody tr th {\n",
       "        vertical-align: top;\n",
       "    }\n",
       "\n",
       "    .dataframe thead th {\n",
       "        text-align: right;\n",
       "    }\n",
       "</style>\n",
       "<table border=\"1\" class=\"dataframe\">\n",
       "  <thead>\n",
       "    <tr style=\"text-align: right;\">\n",
       "      <th></th>\n",
       "      <th>pd</th>\n",
       "      <th>sales</th>\n",
       "      <th>int</th>\n",
       "    </tr>\n",
       "  </thead>\n",
       "  <tbody>\n",
       "    <tr>\n",
       "      <th>d1</th>\n",
       "      <td>101</td>\n",
       "      <td>109</td>\n",
       "      <td>107</td>\n",
       "    </tr>\n",
       "    <tr>\n",
       "      <th>d2</th>\n",
       "      <td>108</td>\n",
       "      <td>115</td>\n",
       "      <td>100</td>\n",
       "    </tr>\n",
       "    <tr>\n",
       "      <th>d3</th>\n",
       "      <td>100</td>\n",
       "      <td>116</td>\n",
       "      <td>115</td>\n",
       "    </tr>\n",
       "    <tr>\n",
       "      <th>d5</th>\n",
       "      <td>0</td>\n",
       "      <td>0</td>\n",
       "      <td>0</td>\n",
       "    </tr>\n",
       "  </tbody>\n",
       "</table>\n",
       "</div>"
      ],
      "text/plain": [
       "     pd  sales  int\n",
       "d1  101    109  107\n",
       "d2  108    115  100\n",
       "d3  100    116  115\n",
       "d5    0      0    0"
      ]
     },
     "execution_count": 209,
     "metadata": {},
     "output_type": "execute_result"
    }
   ],
   "source": [
    "# 행, 열 추가\n",
    "\n",
    "df1 = df.copy()\n",
    "df1.loc['d5'] = 0\n",
    "df1"
   ]
  },
  {
   "cell_type": "code",
   "execution_count": 211,
   "id": "7903e1b4",
   "metadata": {},
   "outputs": [
    {
     "data": {
      "text/html": [
       "<div>\n",
       "<style scoped>\n",
       "    .dataframe tbody tr th:only-of-type {\n",
       "        vertical-align: middle;\n",
       "    }\n",
       "\n",
       "    .dataframe tbody tr th {\n",
       "        vertical-align: top;\n",
       "    }\n",
       "\n",
       "    .dataframe thead th {\n",
       "        text-align: right;\n",
       "    }\n",
       "</style>\n",
       "<table border=\"1\" class=\"dataframe\">\n",
       "  <thead>\n",
       "    <tr style=\"text-align: right;\">\n",
       "      <th></th>\n",
       "      <th>pd</th>\n",
       "      <th>sales</th>\n",
       "      <th>int</th>\n",
       "      <th>pf</th>\n",
       "    </tr>\n",
       "  </thead>\n",
       "  <tbody>\n",
       "    <tr>\n",
       "      <th>d1</th>\n",
       "      <td>101</td>\n",
       "      <td>109</td>\n",
       "      <td>107</td>\n",
       "      <td>100</td>\n",
       "    </tr>\n",
       "    <tr>\n",
       "      <th>d2</th>\n",
       "      <td>108</td>\n",
       "      <td>115</td>\n",
       "      <td>100</td>\n",
       "      <td>100</td>\n",
       "    </tr>\n",
       "    <tr>\n",
       "      <th>d3</th>\n",
       "      <td>100</td>\n",
       "      <td>116</td>\n",
       "      <td>115</td>\n",
       "      <td>100</td>\n",
       "    </tr>\n",
       "    <tr>\n",
       "      <th>d5</th>\n",
       "      <td>0</td>\n",
       "      <td>0</td>\n",
       "      <td>0</td>\n",
       "      <td>0</td>\n",
       "    </tr>\n",
       "  </tbody>\n",
       "</table>\n",
       "</div>"
      ],
      "text/plain": [
       "     pd  sales  int   pf\n",
       "d1  101    109  107  100\n",
       "d2  108    115  100  100\n",
       "d3  100    116  115  100\n",
       "d5    0      0    0    0"
      ]
     },
     "execution_count": 211,
     "metadata": {},
     "output_type": "execute_result"
    }
   ],
   "source": [
    "df1['pf'] = [100, 100, 100, 0]\n",
    "df1"
   ]
  },
  {
   "cell_type": "code",
   "execution_count": 212,
   "id": "280c96ef",
   "metadata": {},
   "outputs": [
    {
     "name": "stdout",
     "output_type": "stream",
     "text": [
      "<class 'pandas.core.series.Series'>\n"
     ]
    }
   ],
   "source": [
    "print(type(df1.pf))"
   ]
  },
  {
   "cell_type": "code",
   "execution_count": 208,
   "id": "bdeb0486",
   "metadata": {},
   "outputs": [
    {
     "data": {
      "text/html": [
       "<div>\n",
       "<style scoped>\n",
       "    .dataframe tbody tr th:only-of-type {\n",
       "        vertical-align: middle;\n",
       "    }\n",
       "\n",
       "    .dataframe tbody tr th {\n",
       "        vertical-align: top;\n",
       "    }\n",
       "\n",
       "    .dataframe thead th {\n",
       "        text-align: right;\n",
       "    }\n",
       "</style>\n",
       "<table border=\"1\" class=\"dataframe\">\n",
       "  <thead>\n",
       "    <tr style=\"text-align: right;\">\n",
       "      <th></th>\n",
       "      <th>pd</th>\n",
       "      <th>sales</th>\n",
       "      <th>int</th>\n",
       "    </tr>\n",
       "  </thead>\n",
       "  <tbody>\n",
       "    <tr>\n",
       "      <th>d1</th>\n",
       "      <td>101</td>\n",
       "      <td>109.0</td>\n",
       "      <td>107</td>\n",
       "    </tr>\n",
       "    <tr>\n",
       "      <th>d2</th>\n",
       "      <td>108</td>\n",
       "      <td>NaN</td>\n",
       "      <td>100</td>\n",
       "    </tr>\n",
       "    <tr>\n",
       "      <th>d3</th>\n",
       "      <td>100</td>\n",
       "      <td>116.0</td>\n",
       "      <td>115</td>\n",
       "    </tr>\n",
       "    <tr>\n",
       "      <th>d5</th>\n",
       "      <td>0</td>\n",
       "      <td>0.0</td>\n",
       "      <td>0</td>\n",
       "    </tr>\n",
       "  </tbody>\n",
       "</table>\n",
       "</div>"
      ],
      "text/plain": [
       "     pd  sales  int\n",
       "d1  101  109.0  107\n",
       "d2  108    NaN  100\n",
       "d3  100  116.0  115\n",
       "d5    0    0.0    0"
      ]
     },
     "execution_count": 208,
     "metadata": {},
     "output_type": "execute_result"
    }
   ],
   "source": [
    "# 원소 값 변경\n",
    "\n",
    "df1.iloc[1, 1] = np.nan\n",
    "df1"
   ]
  },
  {
   "cell_type": "code",
   "execution_count": 46,
   "id": "7f79ebc2",
   "metadata": {},
   "outputs": [
    {
     "data": {
      "text/html": [
       "<div>\n",
       "<style scoped>\n",
       "    .dataframe tbody tr th:only-of-type {\n",
       "        vertical-align: middle;\n",
       "    }\n",
       "\n",
       "    .dataframe tbody tr th {\n",
       "        vertical-align: top;\n",
       "    }\n",
       "\n",
       "    .dataframe thead th {\n",
       "        text-align: right;\n",
       "    }\n",
       "</style>\n",
       "<table border=\"1\" class=\"dataframe\">\n",
       "  <thead>\n",
       "    <tr style=\"text-align: right;\">\n",
       "      <th></th>\n",
       "      <th>col1</th>\n",
       "      <th>col2</th>\n",
       "      <th>col3</th>\n",
       "    </tr>\n",
       "  </thead>\n",
       "  <tbody>\n",
       "    <tr>\n",
       "      <th>1</th>\n",
       "      <td>1</td>\n",
       "      <td>2</td>\n",
       "      <td>A</td>\n",
       "    </tr>\n",
       "    <tr>\n",
       "      <th>2</th>\n",
       "      <td>2</td>\n",
       "      <td>4</td>\n",
       "      <td>B</td>\n",
       "    </tr>\n",
       "    <tr>\n",
       "      <th>3</th>\n",
       "      <td>3</td>\n",
       "      <td>6</td>\n",
       "      <td>C</td>\n",
       "    </tr>\n",
       "    <tr>\n",
       "      <th>4</th>\n",
       "      <td>4</td>\n",
       "      <td>8</td>\n",
       "      <td>D</td>\n",
       "    </tr>\n",
       "    <tr>\n",
       "      <th>5</th>\n",
       "      <td>5</td>\n",
       "      <td>10</td>\n",
       "      <td>E</td>\n",
       "    </tr>\n",
       "  </tbody>\n",
       "</table>\n",
       "</div>"
      ],
      "text/plain": [
       "   col1  col2 col3\n",
       "1     1     2    A\n",
       "2     2     4    B\n",
       "3     3     6    C\n",
       "4     4     8    D\n",
       "5     5    10    E"
      ]
     },
     "execution_count": 46,
     "metadata": {},
     "output_type": "execute_result"
    }
   ],
   "source": [
    "# 사전 -> 데이터프레임\n",
    "\n",
    "sp1 = np.arange(1, 6)\n",
    "df = pd.DataFrame({\n",
    "    'col1' : sp1,\n",
    "    'col2' : sp1 * 2,\n",
    "    'col3' : ['A', 'B', 'C', 'D', 'E']\n",
    "    }, index = [1, 2, 3, 4, 5])\n",
    "\n",
    "df"
   ]
  },
  {
   "cell_type": "code",
   "execution_count": 56,
   "id": "fe9697b2",
   "metadata": {},
   "outputs": [
    {
     "name": "stdout",
     "output_type": "stream",
     "text": [
      "   A  B  C  D\n",
      "1  1  2  3  4\n",
      "2  1  2  3  4\n",
      "3  1  2  3  4\n",
      "4  1  2  3  4\n"
     ]
    }
   ],
   "source": [
    "# 딕셔너리에서 값이 스칼라이면 인덱스 필요\n",
    "\n",
    "dic = {'A':1,'B':2,'C':3,'D':4}\n",
    "# dic = {'A':[1],'B':[2],'C':[3],'D':[4]}\n",
    "index=[1,2,3,4]\n",
    "\n",
    "df_dic = pd.DataFrame(dic,index)\n",
    "# df_dic = pd.DataFrame(dic)\n",
    "print(df_dic)"
   ]
  },
  {
   "cell_type": "code",
   "execution_count": 17,
   "id": "f156a7b2",
   "metadata": {},
   "outputs": [
    {
     "data": {
      "text/html": [
       "<div>\n",
       "<style scoped>\n",
       "    .dataframe tbody tr th:only-of-type {\n",
       "        vertical-align: middle;\n",
       "    }\n",
       "\n",
       "    .dataframe tbody tr th {\n",
       "        vertical-align: top;\n",
       "    }\n",
       "\n",
       "    .dataframe thead th {\n",
       "        text-align: right;\n",
       "    }\n",
       "</style>\n",
       "<table border=\"1\" class=\"dataframe\">\n",
       "  <thead>\n",
       "    <tr style=\"text-align: right;\">\n",
       "      <th></th>\n",
       "      <th>c1</th>\n",
       "      <th>c2</th>\n",
       "      <th>c3</th>\n",
       "      <th>c4</th>\n",
       "      <th>c5</th>\n",
       "    </tr>\n",
       "  </thead>\n",
       "  <tbody>\n",
       "    <tr>\n",
       "      <th>1</th>\n",
       "      <td>2</td>\n",
       "      <td>4</td>\n",
       "      <td>2</td>\n",
       "      <td>1</td>\n",
       "      <td>2</td>\n",
       "    </tr>\n",
       "    <tr>\n",
       "      <th>2</th>\n",
       "      <td>1</td>\n",
       "      <td>2</td>\n",
       "      <td>4</td>\n",
       "      <td>3</td>\n",
       "      <td>4</td>\n",
       "    </tr>\n",
       "    <tr>\n",
       "      <th>3</th>\n",
       "      <td>4</td>\n",
       "      <td>4</td>\n",
       "      <td>1</td>\n",
       "      <td>1</td>\n",
       "      <td>3</td>\n",
       "    </tr>\n",
       "    <tr>\n",
       "      <th>4</th>\n",
       "      <td>2</td>\n",
       "      <td>2</td>\n",
       "      <td>1</td>\n",
       "      <td>2</td>\n",
       "      <td>3</td>\n",
       "    </tr>\n",
       "    <tr>\n",
       "      <th>5</th>\n",
       "      <td>1</td>\n",
       "      <td>2</td>\n",
       "      <td>1</td>\n",
       "      <td>1</td>\n",
       "      <td>4</td>\n",
       "    </tr>\n",
       "    <tr>\n",
       "      <th>6</th>\n",
       "      <td>4</td>\n",
       "      <td>4</td>\n",
       "      <td>4</td>\n",
       "      <td>4</td>\n",
       "      <td>2</td>\n",
       "    </tr>\n",
       "    <tr>\n",
       "      <th>7</th>\n",
       "      <td>1</td>\n",
       "      <td>3</td>\n",
       "      <td>2</td>\n",
       "      <td>4</td>\n",
       "      <td>1</td>\n",
       "    </tr>\n",
       "    <tr>\n",
       "      <th>8</th>\n",
       "      <td>3</td>\n",
       "      <td>1</td>\n",
       "      <td>4</td>\n",
       "      <td>2</td>\n",
       "      <td>4</td>\n",
       "    </tr>\n",
       "    <tr>\n",
       "      <th>9</th>\n",
       "      <td>1</td>\n",
       "      <td>2</td>\n",
       "      <td>4</td>\n",
       "      <td>1</td>\n",
       "      <td>1</td>\n",
       "    </tr>\n",
       "    <tr>\n",
       "      <th>10</th>\n",
       "      <td>2</td>\n",
       "      <td>2</td>\n",
       "      <td>2</td>\n",
       "      <td>1</td>\n",
       "      <td>2</td>\n",
       "    </tr>\n",
       "  </tbody>\n",
       "</table>\n",
       "</div>"
      ],
      "text/plain": [
       "    c1  c2  c3  c4  c5\n",
       "1    2   4   2   1   2\n",
       "2    1   2   4   3   4\n",
       "3    4   4   1   1   3\n",
       "4    2   2   1   2   3\n",
       "5    1   2   1   1   4\n",
       "6    4   4   4   4   2\n",
       "7    1   3   2   4   1\n",
       "8    3   1   4   2   4\n",
       "9    1   2   4   1   1\n",
       "10   2   2   2   1   2"
      ]
     },
     "execution_count": 17,
     "metadata": {},
     "output_type": "execute_result"
    }
   ],
   "source": [
    "# 리스트 -> 데이터프레임\n",
    "\n",
    "a = np.random.randint(1, 5, size = (10, 5))\n",
    "list1 = a.tolist()\n",
    "index = np.arange(1, 11)\n",
    "df = pd.DataFrame(list1, index, columns = ['c1', 'c2', 'c3', 'c4', 'c5'])\n",
    "\n",
    "df"
   ]
  },
  {
   "cell_type": "code",
   "execution_count": 22,
   "id": "1ecb2110",
   "metadata": {},
   "outputs": [
    {
     "name": "stdout",
     "output_type": "stream",
     "text": [
      "[[2 4 2 1 2]\n",
      " [1 2 4 3 4]\n",
      " [4 4 1 1 3]\n",
      " [2 2 1 2 3]\n",
      " [1 2 1 1 4]\n",
      " [4 4 4 4 2]\n",
      " [1 3 2 4 1]\n",
      " [3 1 4 2 4]\n",
      " [1 2 4 1 1]\n",
      " [2 2 2 1 2]] <class 'numpy.ndarray'> \n",
      "\n",
      "[[2, 4, 2, 1, 2], [1, 2, 4, 3, 4], [4, 4, 1, 1, 3], [2, 2, 1, 2, 3], [1, 2, 1, 1, 4], [4, 4, 4, 4, 2], [1, 3, 2, 4, 1], [3, 1, 4, 2, 4], [1, 2, 4, 1, 1], [2, 2, 2, 1, 2]] <class 'list'> \n",
      "\n",
      "{'c1': [2, 1, 4, 2, 1, 4, 1, 3, 1, 2], 'c2': [4, 2, 4, 2, 2, 4, 3, 1, 2, 2], 'c3': [2, 4, 1, 1, 1, 4, 2, 4, 4, 2], 'c4': [1, 3, 1, 2, 1, 4, 4, 2, 1, 1], 'c5': [2, 4, 3, 3, 4, 2, 1, 4, 1, 2]} <class 'type'>\n"
     ]
    }
   ],
   "source": [
    "# 데이터프레임 -> 배열, 리스트, 딕셔너리\n",
    "\n",
    "ar = df.values\n",
    "print(ar, type(ar), '\\n')\n",
    "li = df.values.tolist()\n",
    "print(li, type(li), '\\n')\n",
    "dict_ = df.to_dict('list')\n",
    "print(dict_, type(dict))"
   ]
  },
  {
   "cell_type": "code",
   "execution_count": 70,
   "id": "0e3b89a4",
   "metadata": {},
   "outputs": [
    {
     "name": "stdout",
     "output_type": "stream",
     "text": [
      "{0: 'a', 1: 'b', 2: 'c', 3: 'd', 4: 'e'}\n",
      "   0\n",
      "0  1\n",
      "1  2\n",
      "2  3\n",
      "3  4\n",
      "4  5\n",
      "[[1], [2], [3], [4], [5]] \n",
      "\n",
      "    0\n",
      "0   5\n",
      "1   6\n",
      "2   7\n",
      "3   8\n",
      "4   9\n",
      "5  10 \n",
      "\n",
      "   0  1  2  3  4\n",
      "1  a  b  c  d  e\n",
      "2  a  b  c  d  e\n",
      "3  a  b  c  d  e\n",
      "4  a  b  c  d  e\n"
     ]
    }
   ],
   "source": [
    "a = list(range(1, 6))\n",
    "b = np.arange(5, 11)\n",
    "c_ = list('abcde')\n",
    "c = dict(enumerate(c_))\n",
    "print(c)\n",
    "\n",
    "print(pd.DataFrame(a))\n",
    "print(pd.DataFrame(a).values.tolist(), '\\n')\n",
    "print(pd.DataFrame(b), '\\n')\n",
    "print(pd.DataFrame(c, index)) # 사전형에서 밸류가 스칼라값이면 반드시 인덱스 지정\n",
    "\n"
   ]
  },
  {
   "cell_type": "code",
   "execution_count": 30,
   "id": "de49b718",
   "metadata": {},
   "outputs": [
    {
     "name": "stdout",
     "output_type": "stream",
     "text": [
      "      차림표\n",
      "메뉴1    냉면\n",
      "메뉴2   칼국수\n",
      "메뉴3  잔치국수\n",
      "메뉴4   수제비\n",
      "메뉴5    우동 \n",
      "\n",
      "[['냉면'], ['칼국수'], ['잔치국수'], ['수제비'], ['우동']] <class 'list'> \n",
      "\n",
      "      커피    쿠키   케이크\n",
      "가격  4000  3000  6500 \n",
      "\n",
      "{'커피': [4000], '쿠키': [3000], '케이크': [6500]} <class 'dict'> \n",
      "\n",
      "    달리기  줄다리기  무궁화\n",
      "1반    3     8    6\n",
      "2반    1     7    6\n",
      "3반    2     9    6 \n",
      "\n",
      "[[3 8 6]\n",
      " [1 7 6]\n",
      " [2 9 6]]\n"
     ]
    }
   ],
   "source": [
    "# 리스트\n",
    "li = ['냉면','칼국수','잔치국수','수제비','우동']\n",
    "df1 = pd.DataFrame(li,index=['메뉴1','메뉴2','메뉴3','메뉴4','메뉴5'],columns=['차림표'])\n",
    "print(df1,'\\n')\n",
    "print(df1.values.tolist(),type(df1.values.tolist()),'\\n')\n",
    "\n",
    "# 딕셔너리\n",
    "df2 = pd.DataFrame({\n",
    "    '커피':4000,\n",
    "    '쿠키':3000,\n",
    "    '케이크':6500\n",
    "},index=['가격'])\n",
    "print(df2,'\\n')\n",
    "print(df2.to_dict('list'),type(df2.to_dict('list')),'\\n')\n",
    "\n",
    "# 배열\n",
    "df3 = pd.DataFrame(np.random.randint(1,10,size=(3,3)),index=['1반','2반','3반'],\n",
    "                   columns=['달리기','줄다리기','무궁화'])\n",
    "print(df3,'\\n')\n",
    "print(df3.values)\n"
   ]
  },
  {
   "cell_type": "code",
   "execution_count": 24,
   "id": "32b52227",
   "metadata": {},
   "outputs": [
    {
     "data": {
      "text/html": [
       "<div>\n",
       "<style scoped>\n",
       "    .dataframe tbody tr th:only-of-type {\n",
       "        vertical-align: middle;\n",
       "    }\n",
       "\n",
       "    .dataframe tbody tr th {\n",
       "        vertical-align: top;\n",
       "    }\n",
       "\n",
       "    .dataframe thead th {\n",
       "        text-align: right;\n",
       "    }\n",
       "</style>\n",
       "<table border=\"1\" class=\"dataframe\">\n",
       "  <thead>\n",
       "    <tr style=\"text-align: right;\">\n",
       "      <th></th>\n",
       "      <th>차림표</th>\n",
       "    </tr>\n",
       "  </thead>\n",
       "  <tbody>\n",
       "    <tr>\n",
       "      <th>0</th>\n",
       "      <td>냉면</td>\n",
       "    </tr>\n",
       "    <tr>\n",
       "      <th>1</th>\n",
       "      <td>칼국수</td>\n",
       "    </tr>\n",
       "    <tr>\n",
       "      <th>2</th>\n",
       "      <td>잔치국수</td>\n",
       "    </tr>\n",
       "    <tr>\n",
       "      <th>3</th>\n",
       "      <td>수제비</td>\n",
       "    </tr>\n",
       "    <tr>\n",
       "      <th>4</th>\n",
       "      <td>우동</td>\n",
       "    </tr>\n",
       "  </tbody>\n",
       "</table>\n",
       "</div>"
      ],
      "text/plain": [
       "    차림표\n",
       "0    냉면\n",
       "1   칼국수\n",
       "2  잔치국수\n",
       "3   수제비\n",
       "4    우동"
      ]
     },
     "execution_count": 24,
     "metadata": {},
     "output_type": "execute_result"
    }
   ],
   "source": [
    "# file\n",
    "\n",
    "li = ['냉면','칼국수','잔치국수','수제비','우동']\n",
    "df1 = pd.DataFrame(li,index=['메뉴1','메뉴2','메뉴3','메뉴4','메뉴5'], columns = ['차림표'])\n",
    "# df1.to_csv('./새 폴더/file_data.csv', index = None)\n",
    "df1.to_csv(\"file_data.csv\", index = None)\n",
    "file_data = pd.read_csv(\"file_data.csv\")\n",
    "file_data"
   ]
  },
  {
   "cell_type": "code",
   "execution_count": 23,
   "id": "eea97e61",
   "metadata": {},
   "outputs": [
    {
     "data": {
      "text/html": [
       "<div>\n",
       "<style scoped>\n",
       "    .dataframe tbody tr th:only-of-type {\n",
       "        vertical-align: middle;\n",
       "    }\n",
       "\n",
       "    .dataframe tbody tr th {\n",
       "        vertical-align: top;\n",
       "    }\n",
       "\n",
       "    .dataframe thead th {\n",
       "        text-align: right;\n",
       "    }\n",
       "</style>\n",
       "<table border=\"1\" class=\"dataframe\">\n",
       "  <thead>\n",
       "    <tr style=\"text-align: right;\">\n",
       "      <th></th>\n",
       "      <th>차림표</th>\n",
       "    </tr>\n",
       "  </thead>\n",
       "  <tbody>\n",
       "    <tr>\n",
       "      <th>메뉴1</th>\n",
       "      <td>냉면</td>\n",
       "    </tr>\n",
       "    <tr>\n",
       "      <th>메뉴2</th>\n",
       "      <td>칼국수</td>\n",
       "    </tr>\n",
       "    <tr>\n",
       "      <th>메뉴3</th>\n",
       "      <td>잔치국수</td>\n",
       "    </tr>\n",
       "    <tr>\n",
       "      <th>메뉴4</th>\n",
       "      <td>수제비</td>\n",
       "    </tr>\n",
       "    <tr>\n",
       "      <th>메뉴5</th>\n",
       "      <td>우동</td>\n",
       "    </tr>\n",
       "  </tbody>\n",
       "</table>\n",
       "</div>"
      ],
      "text/plain": [
       "      차림표\n",
       "메뉴1    냉면\n",
       "메뉴2   칼국수\n",
       "메뉴3  잔치국수\n",
       "메뉴4   수제비\n",
       "메뉴5    우동"
      ]
     },
     "execution_count": 23,
     "metadata": {},
     "output_type": "execute_result"
    }
   ],
   "source": [
    "# li = ['냉면','칼국수','잔치국수','수제비','우동']\n",
    "# df1 = pd.DataFrame(li,index=['메뉴1','메뉴2','메뉴3','메뉴4','메뉴5'], columns = ['차림표'])\n",
    "# # df1.to_csv('./새 폴더/file_data.csv', index = None)\n",
    "# df1.to_csv(\"file_data.csv\")\n",
    "# file_data = pd.read_csv(\"file_data.csv\", index_col = 0)\n",
    "# file_data"
   ]
  }
 ],
 "metadata": {
  "kernelspec": {
   "display_name": "Python 3 (ipykernel)",
   "language": "python",
   "name": "python3"
  },
  "language_info": {
   "codemirror_mode": {
    "name": "ipython",
    "version": 3
   },
   "file_extension": ".py",
   "mimetype": "text/x-python",
   "name": "python",
   "nbconvert_exporter": "python",
   "pygments_lexer": "ipython3",
   "version": "3.8.12"
  }
 },
 "nbformat": 4,
 "nbformat_minor": 5
}
