{
 "cells": [
  {
   "cell_type": "markdown",
   "id": "be6a05b2",
   "metadata": {},
   "source": [
    "##### [과제] zeros_like, ones_like, full_like 함수 사용 예를 작성하세요."
   ]
  },
  {
   "cell_type": "code",
   "execution_count": 3,
   "id": "e2dc4789",
   "metadata": {},
   "outputs": [
    {
     "name": "stdout",
     "output_type": "stream",
     "text": [
      "[[0 0 0]\n",
      " [0 0 0]\n",
      " [0 0 0]] \n",
      "\n",
      "[[1 1 1]\n",
      " [1 1 1]\n",
      " [1 1 1]] \n",
      "\n",
      "[[7 7 7]\n",
      " [7 7 7]\n",
      " [7 7 7]]\n"
     ]
    }
   ],
   "source": [
    "import numpy as np\n",
    "\n",
    "arr = np.arange(9)\n",
    "arr = arr.reshape(3, -1)\n",
    "\n",
    "print(np.zeros_like(arr), '\\n')\n",
    "print(np.ones_like(arr),'\\n')\n",
    "print(np.full_like(arr, 7))"
   ]
  },
  {
   "cell_type": "code",
   "execution_count": 4,
   "id": "cc3f528a",
   "metadata": {},
   "outputs": [
    {
     "name": "stdout",
     "output_type": "stream",
     "text": [
      "[[1 2 3]\n",
      " [4 5 6]\n",
      " [7 8 9]] \n",
      "\n",
      "[[0 0 0]\n",
      " [0 0 0]\n",
      " [0 0 0]] \n",
      "\n",
      "[[1 1 1]\n",
      " [1 1 1]\n",
      " [1 1 1]] \n",
      "\n",
      "[[5 5 5]\n",
      " [5 5 5]\n",
      " [5 5 5]]\n"
     ]
    }
   ],
   "source": [
    "\n",
    "array = np.array([[1,2,3],[4,5,6],[7,8,9]])\n",
    "print(array,'\\n')\n",
    "\n",
    "array_zeros = np.zeros_like(array)\n",
    "print(array_zeros,'\\n')\n",
    "\n",
    "array_ones = np.ones_like(array)\n",
    "print(array_ones,'\\n')\n",
    "\n",
    "array_full = np.full_like(array,5)\n",
    "print(array_full)\n"
   ]
  },
  {
   "cell_type": "markdown",
   "id": "0671c78a",
   "metadata": {},
   "source": [
    "##### [과제] 1 ~ 100까지 정수에서 3의 배수인 것만을 출력(for문과 배열 두가지 방식)"
   ]
  },
  {
   "cell_type": "code",
   "execution_count": 5,
   "id": "bd240844",
   "metadata": {},
   "outputs": [
    {
     "name": "stdout",
     "output_type": "stream",
     "text": [
      "[3, 6, 9, 12, 15, 18, 21, 24, 27, 30, 33, 36, 39, 42, 45, 48, 51, 54, 57, 60, 63, 66, 69, 72, 75, 78, 81, 84, 87, 90, 93, 96, 99]\n",
      "[ 3  6  9 12 15 18 21 24 27 30 33 36 39 42 45 48 51 54 57 60 63 66 69 72\n",
      " 75 78 81 84 87 90 93 96 99]\n"
     ]
    }
   ],
   "source": [
    "i = [i for i in range(1, 101) if i % 3 == 0]\n",
    "print(i)\n",
    "\n",
    "j = np.arange(1, 101)\n",
    "print(j[j % 3 == 0])"
   ]
  },
  {
   "cell_type": "markdown",
   "id": "8638d1ce",
   "metadata": {},
   "source": [
    "##### [과제] 1 ~ 100까지 정수에서 5의 배수이면서 2의 배수인 것만을 출력(for문과 배열 두가지 방식)"
   ]
  },
  {
   "cell_type": "code",
   "execution_count": 6,
   "id": "c1551edc",
   "metadata": {},
   "outputs": [
    {
     "name": "stdout",
     "output_type": "stream",
     "text": [
      "[10, 20, 30, 40, 50, 60, 70, 80, 90, 100]\n",
      "[ 10  20  30  40  50  60  70  80  90 100]\n"
     ]
    }
   ],
   "source": [
    "i = [i for i in range(1, 101) if (i % 2 == 0) and (i % 5 == 0)]\n",
    "print(i)\n",
    "\n",
    "j = np.arange(1, 101)\n",
    "j = j[j % 2 == 0]\n",
    "j = j[j % 5 == 0]\n",
    "j = j[(j % 2 == 0) & (j % 5 == 0)]\n",
    "# j = j[j % 5 == 0]\n",
    "print(j)"
   ]
  },
  {
   "cell_type": "markdown",
   "id": "9e0e6049",
   "metadata": {},
   "source": [
    "##### [과제] 표준정규분포로 구성된 5행 5열 다차원 배열을 생성하고 함수를 이용하여 평균과 표준편차를 구하세요"
   ]
  },
  {
   "cell_type": "code",
   "execution_count": 5,
   "id": "3dc729db",
   "metadata": {},
   "outputs": [
    {
     "name": "stdout",
     "output_type": "stream",
     "text": [
      "[[-0.05045996 -0.62919222 -0.43822176 -0.18999754 -0.29453828]\n",
      " [ 0.91135512 -0.40980143 -0.14728054 -0.0407291   1.2045687 ]\n",
      " [-0.02963323 -1.08335347  0.41733871 -0.19073758  0.22021442]\n",
      " [-1.61929787 -1.36770621  1.04712121  0.04803645 -0.15255829]\n",
      " [-1.36682288  2.31920643  1.0109274  -0.72894587  0.2061229 ]] \n",
      "\n",
      "-0.054175395638763446\n",
      "0.8718693138755169\n"
     ]
    }
   ],
   "source": [
    "a = np.random.randn(5, 5)\n",
    "print(a, '\\n')\n",
    "print(a.mean()) # 평균\n",
    "print(a.std()) # 표준편차\n"
   ]
  },
  {
   "cell_type": "markdown",
   "id": "6bf01e63",
   "metadata": {},
   "source": [
    "##### [과제] 현재 사용하고 있는 Numpy의 버전을 출력하세요"
   ]
  },
  {
   "cell_type": "code",
   "execution_count": 6,
   "id": "376b19b2",
   "metadata": {},
   "outputs": [
    {
     "name": "stdout",
     "output_type": "stream",
     "text": [
      "Name: numpy\n",
      "Version: 1.21.2\n",
      "Summary: NumPy is the fundamental package for array computing with Python.\n",
      "Home-page: https://www.numpy.org\n",
      "Author: Travis E. Oliphant et al.\n",
      "Author-email: \n",
      "License: BSD\n",
      "Location: c:\\users\\spiner\\anaconda3\\envs\\cakd5\\lib\\site-packages\n",
      "Requires: \n",
      "Required-by: seaborn, scipy, scikit-learn, pandas, numexpr, mkl-random, mkl-fft, matplotlib, Bottleneck\n"
     ]
    }
   ],
   "source": [
    "!pip show Numpy"
   ]
  },
  {
   "cell_type": "markdown",
   "id": "bb3c9c68",
   "metadata": {},
   "source": [
    "##### [과제] Numpy 함수의 도움말 기능을 볼 수 있는 방법을 수행하여 add 함수의 가이드를 출력하세요"
   ]
  },
  {
   "cell_type": "code",
   "execution_count": 7,
   "id": "6b88772b",
   "metadata": {},
   "outputs": [
    {
     "name": "stdout",
     "output_type": "stream",
     "text": [
      "add(x1, x2, /, out=None, *, where=True, casting='same_kind', order='K', dtype=None, subok=True[, signature, extobj])\n",
      "\n",
      "Add arguments element-wise.\n",
      "\n",
      "Parameters\n",
      "----------\n",
      "x1, x2 : array_like\n",
      "    The arrays to be added.\n",
      "    If ``x1.shape != x2.shape``, they must be broadcastable to a common\n",
      "    shape (which becomes the shape of the output).\n",
      "out : ndarray, None, or tuple of ndarray and None, optional\n",
      "    A location into which the result is stored. If provided, it must have\n",
      "    a shape that the inputs broadcast to. If not provided or None,\n",
      "    a freshly-allocated array is returned. A tuple (possible only as a\n",
      "    keyword argument) must have length equal to the number of outputs.\n",
      "where : array_like, optional\n",
      "    This condition is broadcast over the input. At locations where the\n",
      "    condition is True, the `out` array will be set to the ufunc result.\n",
      "    Elsewhere, the `out` array will retain its original value.\n",
      "    Note that if an uninitialized `out` array is created via the default\n",
      "    ``out=None``, locations within it where the condition is False will\n",
      "    remain uninitialized.\n",
      "**kwargs\n",
      "    For other keyword-only arguments, see the\n",
      "    :ref:`ufunc docs <ufuncs.kwargs>`.\n",
      "\n",
      "Returns\n",
      "-------\n",
      "add : ndarray or scalar\n",
      "    The sum of `x1` and `x2`, element-wise.\n",
      "    This is a scalar if both `x1` and `x2` are scalars.\n",
      "\n",
      "Notes\n",
      "-----\n",
      "Equivalent to `x1` + `x2` in terms of array broadcasting.\n",
      "\n",
      "Examples\n",
      "--------\n",
      ">>> np.add(1.0, 4.0)\n",
      "5.0\n",
      ">>> x1 = np.arange(9.0).reshape((3, 3))\n",
      ">>> x2 = np.arange(3.0)\n",
      ">>> np.add(x1, x2)\n",
      "array([[  0.,   2.,   4.],\n",
      "       [  3.,   5.,   7.],\n",
      "       [  6.,   8.,  10.]])\n",
      "\n",
      "The ``+`` operator can be used as a shorthand for ``np.add`` on ndarrays.\n",
      "\n",
      ">>> x1 = np.arange(9.0).reshape((3, 3))\n",
      ">>> x2 = np.arange(3.0)\n",
      ">>> x1 + x2\n",
      "array([[ 0.,  2.,  4.],\n",
      "       [ 3.,  5.,  7.],\n",
      "       [ 6.,  8., 10.]])\n"
     ]
    }
   ],
   "source": [
    "import numpy as np\n",
    "\n",
    "dir(np)\n",
    "# help(np.add)\n",
    "np.info(np.add)"
   ]
  },
  {
   "cell_type": "markdown",
   "id": "d188f4c8",
   "metadata": {},
   "source": [
    "##### [과제] zeros 함수를 이용해서 아래와 같이 출력하세요\n",
    "array([0., 0., 0., 0., 1., 0., 0., 0., 0., 0.])"
   ]
  },
  {
   "cell_type": "code",
   "execution_count": 25,
   "id": "8faa00f6",
   "metadata": {},
   "outputs": [
    {
     "name": "stdout",
     "output_type": "stream",
     "text": [
      "[0. 0. 0. 0. 0. 0. 0. 0. 0. 0.]\n",
      "[0. 0. 0. 0. 1. 0. 0. 0. 0. 0.]\n"
     ]
    }
   ],
   "source": [
    "a = np.zeros(10)\n",
    "print(a)\n",
    "np.add.at(a, [4], 1)\n",
    "print(a)"
   ]
  },
  {
   "cell_type": "code",
   "execution_count": 44,
   "id": "5cd363fa",
   "metadata": {},
   "outputs": [
    {
     "name": "stdout",
     "output_type": "stream",
     "text": [
      "[0. 0. 0. 0. 1. 0. 0. 0. 0. 0.]\n"
     ]
    }
   ],
   "source": [
    "ar0 = np.zeros(10).astype(float)\n",
    "ar0[4] = 1\n",
    "print(ar0)"
   ]
  },
  {
   "cell_type": "markdown",
   "id": "2eb2e884",
   "metadata": {},
   "source": [
    "##### [과제] 인덱싱을 이용하여 아래 배열을 내림차순으로 정렬하세요\n",
    "[0, 1, 2, 3, 4, 5, 6, 7, 8, 9]"
   ]
  },
  {
   "cell_type": "code",
   "execution_count": 52,
   "id": "39fe5588",
   "metadata": {},
   "outputs": [
    {
     "name": "stdout",
     "output_type": "stream",
     "text": [
      "[9 8 7 6 5 4 3 2 1 0]\n"
     ]
    }
   ],
   "source": [
    "arr = np.array([0, 1, 2, 3, 4, 5, 6, 7, 8, 9])\n",
    "arr_sort = np.sort(arr, axis = 0)[::-1]\n",
    "\n",
    "print(arr_sort)"
   ]
  },
  {
   "cell_type": "code",
   "execution_count": 54,
   "id": "a5fc3ee6",
   "metadata": {},
   "outputs": [
    {
     "name": "stdout",
     "output_type": "stream",
     "text": [
      "[9 8 7 6 5 4 3 2 1 0]\n"
     ]
    }
   ],
   "source": [
    "arr = np.arange(10)\n",
    "print(arr[::-1])"
   ]
  },
  {
   "cell_type": "markdown",
   "id": "1931eb06",
   "metadata": {},
   "source": [
    "##### [과제] [1, 2, 0, 0, 4, 0]에서 zero가 아닌 인덱스를 배열 형태로 출력하세요\n"
   ]
  },
  {
   "cell_type": "code",
   "execution_count": 47,
   "id": "192d21d5",
   "metadata": {},
   "outputs": [
    {
     "name": "stdout",
     "output_type": "stream",
     "text": [
      "[1 2 4]\n"
     ]
    }
   ],
   "source": [
    "arr = np.array([1, 2, 0, 0, 4, 0])\n",
    "\n",
    "print(arr[arr != 0])"
   ]
  },
  {
   "cell_type": "code",
   "execution_count": 51,
   "id": "f9e20722",
   "metadata": {},
   "outputs": [
    {
     "name": "stdout",
     "output_type": "stream",
     "text": [
      "(array([0, 1, 4], dtype=int64),)\n"
     ]
    }
   ],
   "source": [
    "a = np.array([1,2,0,0,4,0])\n",
    "\n",
    "print(a.nonzero()) # 0이 아닌 인덱스를 반환\n"
   ]
  }
 ],
 "metadata": {
  "kernelspec": {
   "display_name": "Python 3 (ipykernel)",
   "language": "python",
   "name": "python3"
  },
  "language_info": {
   "codemirror_mode": {
    "name": "ipython",
    "version": 3
   },
   "file_extension": ".py",
   "mimetype": "text/x-python",
   "name": "python",
   "nbconvert_exporter": "python",
   "pygments_lexer": "ipython3",
   "version": "3.8.12"
  }
 },
 "nbformat": 4,
 "nbformat_minor": 5
}
