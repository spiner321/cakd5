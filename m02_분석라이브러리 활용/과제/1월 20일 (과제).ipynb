{
 "cells": [
  {
   "cell_type": "code",
   "execution_count": 3,
   "id": "61103368",
   "metadata": {},
   "outputs": [],
   "source": [
    "import numpy as np\n",
    "import pandas as pd\n",
    "import seaborn as sns\n",
    "import matplotlib.pyplot as plt\n"
   ]
  },
  {
   "cell_type": "markdown",
   "id": "4da07f5c",
   "metadata": {},
   "source": [
    "##### df1로 박스플롯을 확인한 후 이상치를 구하세요"
   ]
  },
  {
   "cell_type": "code",
   "execution_count": 11,
   "id": "a9835b90",
   "metadata": {},
   "outputs": [
    {
     "data": {
      "image/png": "[encoded data removed]",
      "text/plain": [
       "<Figure size 432x288 with 1 Axes>"
      ]
     },
     "metadata": {
      "needs_background": "light"
     },
     "output_type": "display_data"
    }
   ],
   "source": [
    "df = pd.read_csv('D:/python/cakd5/m2_분석라이브러리 활용/visualization/4_fm2.csv')\n",
    "df\n",
    "df1 = df.copy()\n",
    "df1.iloc[5, 1] = 10\n",
    "df1.iloc[10, 1] = 2\n",
    "\n",
    "sns.boxplot(x = df1.species, y = df1.length)\n",
    "df.groupby('species').describe()\n",
    "\n",
    "Q1_A = df1.loc[df['species'] == 'A'].quantile(0.25)\n",
    "Q3_A = df1.loc[df['species'] == 'A'].quantile(0.75)\n",
    "Q1_B = df1.loc[df['species'] == 'B'].quantile(0.25)\n",
    "Q3_B = df1.loc[df['species'] == 'B'].quantile(0.75)\n",
    "\n",
    "IQR_A = Q3_A - Q1_A\n",
    "IQR_B = Q3_B - Q3_B"
   ]
  }
 ],
 "metadata": {
  "kernelspec": {
   "display_name": "Python 3 (ipykernel)",
   "language": "python",
   "name": "python3"
  },
  "language_info": {
   "codemirror_mode": {
    "name": "ipython",
    "version": 3
   },
   "file_extension": ".py",
   "mimetype": "text/x-python",
   "name": "python",
   "nbconvert_exporter": "python",
   "pygments_lexer": "ipython3",
   "version": "3.8.12"
  }
 },
 "nbformat": 4,
 "nbformat_minor": 5
}
