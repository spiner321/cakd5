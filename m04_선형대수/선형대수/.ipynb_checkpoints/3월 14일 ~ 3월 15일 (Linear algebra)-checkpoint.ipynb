{
 "cells": [
  {
   "cell_type": "code",
   "execution_count": 2,
   "id": "24856138",
   "metadata": {
    "ExecuteTime": {
     "end_time": "2022-03-15T00:41:05.651194Z",
     "start_time": "2022-03-15T00:41:05.624266Z"
    }
   },
   "outputs": [],
   "source": [
    "import numpy as np\n",
    "from sklearn.datasets import load_digits\n",
    "import matplotlib.gridspec as gridspec\n",
    "import matplotlib.pyplot as plt\n",
    "import seaborn as sns\n",
    "from sklearn.datasets import fetch_olivetti_faces\n",
    "from sklearn.datasets import load_digits\n",
    "from sklearn.datasets import load_digits\n",
    "plt.style.use('default')"
   ]
  },
  {
   "cell_type": "markdown",
   "id": "7c5a1efb",
   "metadata": {},
   "source": [
    "# [3월 14일]\n",
    "---"
   ]
  },
  {
   "cell_type": "markdown",
   "id": "52afe828",
   "metadata": {},
   "source": [
    "## # Python Numpy 선형대수\n",
    "\n",
    "- 단위행렬 (Unit matrix): np.eye(n)\n",
    "- 대각행렬 (Diagonal matrix): np.diag(x)\n",
    "- 내적 (Dot product, Inner product): np.dot(a, b)\n",
    "- 대각합 (Trace): np.trace(x)\n",
    "- 행렬식 (Matrix Determinant): np.linalg.det(x)\n",
    "- 역행렬 (Inverse of a matrix): np.linalg.inv(x)\n",
    "- 고유값 (Eigenvalue), 고유벡터 (Eigenvector): w, v = np.linalg.eig(x)\n",
    "- 특이값 분해 (Singular Value Decomposition): u, s, vh = np.linalg.svd(A)\n",
    "- 연립방정식 해 풀기 (Solve a linear matrix equation): np.linalg.solve(a, b)\n",
    "- 최소자승 해 풀기 (Compute the Least-squares solution): m, c = np.linalg.lstsq(A, y, rcond=None)[0]\n",
    "\n",
    "참조 :   \n",
    "https://rfriend.tistory.com/380  \n",
    "https://blog.naver.com/cjh226/221356884894"
   ]
  },
  {
   "cell_type": "markdown",
   "id": "aaaefd9a",
   "metadata": {
    "ExecuteTime": {
     "end_time": "2022-03-14T02:20:58.140394Z",
     "start_time": "2022-03-14T02:20:58.123378Z"
    }
   },
   "source": [
    "### # 정방행렬/정사각형 행렬\n",
    "---\n",
    "- 같은 수의 행과 열을 갖는 행렬(n x n 행렬)"
   ]
  },
  {
   "cell_type": "code",
   "execution_count": 4,
   "id": "e6e68c50",
   "metadata": {
    "ExecuteTime": {
     "end_time": "2022-03-14T02:21:50.349956Z",
     "start_time": "2022-03-14T02:21:50.336945Z"
    }
   },
   "outputs": [
    {
     "data": {
      "text/plain": [
       "array([[0, 1, 2],\n",
       "       [3, 4, 5],\n",
       "       [6, 7, 8]])"
      ]
     },
     "execution_count": 4,
     "metadata": {},
     "output_type": "execute_result"
    }
   ],
   "source": [
    "np.arange(9).reshape(3, 3)"
   ]
  },
  {
   "cell_type": "markdown",
   "id": "cf6687b6",
   "metadata": {},
   "source": [
    "### # 대각 정방행렬\n",
    "---\n",
    "- 주대각선 원소 외에 모두 0인 정방행렬"
   ]
  },
  {
   "cell_type": "code",
   "execution_count": 10,
   "id": "67b38b18",
   "metadata": {
    "ExecuteTime": {
     "end_time": "2022-03-14T02:24:40.438084Z",
     "start_time": "2022-03-14T02:24:40.430086Z"
    }
   },
   "outputs": [
    {
     "name": "stdout",
     "output_type": "stream",
     "text": [
      "[[1 0 0]\n",
      " [0 2 0]\n",
      " [0 0 3]] \n",
      "\n",
      "[[1 0 0 0 0]\n",
      " [0 2 0 0 0]\n",
      " [0 0 3 0 0]\n",
      " [0 0 0 4 0]\n",
      " [0 0 0 0 5]]\n"
     ]
    }
   ],
   "source": [
    "print(np.diag([1, 2, 3]), '\\n')\n",
    "print(np.diag([1, 2, 3, 4, 5]))"
   ]
  },
  {
   "cell_type": "markdown",
   "id": "57e6560e",
   "metadata": {},
   "source": [
    "### # 항등행렬\n",
    "---\n",
    "- 단위행렬(unit matrix)라고도 하며 주대각선 원소가 모두 1이고 나머지 원소는 모두 0인 정방행렬"
   ]
  },
  {
   "cell_type": "code",
   "execution_count": 13,
   "id": "0c031581",
   "metadata": {
    "ExecuteTime": {
     "end_time": "2022-03-14T02:28:07.415971Z",
     "start_time": "2022-03-14T02:28:07.400277Z"
    }
   },
   "outputs": [
    {
     "name": "stdout",
     "output_type": "stream",
     "text": [
      "[[1. 0. 0.]\n",
      " [0. 1. 0.]\n",
      " [0. 0. 1.]] \n",
      "\n",
      "[[1. 0. 0.]\n",
      " [0. 1. 0.]\n",
      " [0. 0. 1.]]\n"
     ]
    }
   ],
   "source": [
    "print(np.identity(3), '\\n')\n",
    "print(np.eye(3))"
   ]
  },
  {
   "cell_type": "markdown",
   "id": "05e978a7",
   "metadata": {},
   "source": [
    "### # 벡터와 행렬의 연산\n",
    "---\n",
    "- 벡터/행렬의 덧셈과 뺄셈 : 같은 위치에 있는 원소끼리 수행. 요소별 연산\n",
    "- 스칼라와 벡터/행렬의 곱셈\n",
    "- 브로드캐스팅 : 스칼라를 벡터로 변환한 연산을 허용\n",
    "- 벡터와 벡터의 곱셈(내적)\n",
    " - 두 벡터의 차원(길이)이 같아야 한다.\n",
    " - 앞의 벡터가 행벡터이고 위의 벡터가 열벡터여야 한다.\n",
    " - 내적의 결과는 스칼라 값이 됨. dot() 또는 @ 연산자로 계산"
   ]
  },
  {
   "cell_type": "markdown",
   "id": "e6d06422",
   "metadata": {},
   "source": [
    "#### # 덧셈\n",
    "---"
   ]
  },
  {
   "cell_type": "code",
   "execution_count": 17,
   "id": "478f2226",
   "metadata": {
    "ExecuteTime": {
     "end_time": "2022-03-14T02:39:10.099039Z",
     "start_time": "2022-03-14T02:39:10.083033Z"
    }
   },
   "outputs": [
    {
     "name": "stdout",
     "output_type": "stream",
     "text": [
      "[10 12 14 16 18]\n",
      "[10 10 10 10 10]\n"
     ]
    }
   ],
   "source": [
    "x = np.array([10, 11, 12, 13, 14])\n",
    "y = np.array([0, 1, 2, 3, 4])\n",
    "\n",
    "print(x + y)\n",
    "print(x - y)"
   ]
  },
  {
   "cell_type": "code",
   "execution_count": 21,
   "id": "fb2a9b63",
   "metadata": {
    "ExecuteTime": {
     "end_time": "2022-03-14T02:42:39.797141Z",
     "start_time": "2022-03-14T02:42:39.790144Z"
    }
   },
   "outputs": [
    {
     "name": "stdout",
     "output_type": "stream",
     "text": [
      "[[14 24]\n",
      " [34 44]]\n"
     ]
    }
   ],
   "source": [
    "a = np.array([[5,6], [7,8]])\n",
    "b = np.array([[10,20], [30,40]])\n",
    "c = np.array([[1,2], [3,4]])\n",
    "\n",
    "print(a + b - c)"
   ]
  },
  {
   "cell_type": "markdown",
   "id": "42cee3ba",
   "metadata": {},
   "source": [
    "#### # 브로드캐스팅\n",
    "---"
   ]
  },
  {
   "cell_type": "code",
   "execution_count": 25,
   "id": "3ed2974b",
   "metadata": {
    "ExecuteTime": {
     "end_time": "2022-03-14T02:45:20.642119Z",
     "start_time": "2022-03-14T02:45:20.633111Z"
    }
   },
   "outputs": [
    {
     "name": "stdout",
     "output_type": "stream",
     "text": [
      "[13 14 15]\n",
      "[30 33 36]\n"
     ]
    }
   ],
   "source": [
    "x1 = np.array([10, 11, 12])\n",
    "print(x1 + 3)\n",
    "print(x1 * 3)"
   ]
  },
  {
   "cell_type": "markdown",
   "id": "b1034c2b",
   "metadata": {},
   "source": [
    "#### # 곱셈\n",
    "---\n",
    "- 앞 행렬의 열의 수와 뒤 행렬의 행의 수가 일치해야 한다"
   ]
  },
  {
   "cell_type": "code",
   "execution_count": 90,
   "id": "d28f83c5",
   "metadata": {
    "ExecuteTime": {
     "end_time": "2022-03-15T02:08:15.219287Z",
     "start_time": "2022-03-15T02:08:15.198348Z"
    }
   },
   "outputs": [
    {
     "data": {
      "text/plain": [
       "array([1, 2, 3])"
      ]
     },
     "metadata": {},
     "output_type": "display_data"
    },
    {
     "data": {
      "text/plain": [
       "array([4, 5, 6])"
      ]
     },
     "metadata": {},
     "output_type": "display_data"
    },
    {
     "data": {
      "text/plain": [
       "32"
      ]
     },
     "execution_count": 90,
     "metadata": {},
     "output_type": "execute_result"
    }
   ],
   "source": [
    "# 1차원 배열은 전치연산이 정의되지 않는다\n",
    "\n",
    "x = np.array([1, 2, 3])\n",
    "y = np.array([4, 5, 6])\n",
    "display(x, y)\n",
    "\n",
    "x @ y"
   ]
  },
  {
   "cell_type": "code",
   "execution_count": 89,
   "id": "fbac3131",
   "metadata": {
    "ExecuteTime": {
     "end_time": "2022-03-15T02:08:01.851935Z",
     "start_time": "2022-03-15T02:08:01.834986Z"
    }
   },
   "outputs": [
    {
     "data": {
      "text/plain": [
       "array([[[ 0,  1,  2,  3],\n",
       "        [ 4,  5,  6,  7]],\n",
       "\n",
       "       [[ 8,  9, 10, 11],\n",
       "        [12, 13, 14, 15]]])"
      ]
     },
     "metadata": {},
     "output_type": "display_data"
    },
    {
     "data": {
      "text/plain": [
       "array([[[ 0,  1],\n",
       "        [ 2,  3],\n",
       "        [ 4,  5],\n",
       "        [ 6,  7]],\n",
       "\n",
       "       [[ 8,  9],\n",
       "        [10, 11],\n",
       "        [12, 13],\n",
       "        [14, 15]]])"
      ]
     },
     "metadata": {},
     "output_type": "display_data"
    },
    {
     "data": {
      "text/plain": [
       "array([[[ 28,  34],\n",
       "        [ 76,  98]],\n",
       "\n",
       "       [[428, 466],\n",
       "        [604, 658]]])"
      ]
     },
     "metadata": {},
     "output_type": "display_data"
    },
    {
     "data": {
      "text/plain": [
       "array([[[[ 28,  34],\n",
       "         [ 76,  82]],\n",
       "\n",
       "        [[ 76,  98],\n",
       "         [252, 274]]],\n",
       "\n",
       "\n",
       "       [[[124, 162],\n",
       "         [428, 466]],\n",
       "\n",
       "        [[172, 226],\n",
       "         [604, 658]]]])"
      ]
     },
     "metadata": {},
     "output_type": "display_data"
    }
   ],
   "source": [
    "x = np.arange(2 * 2 * 4).reshape(2, 2, 4)\n",
    "y = np.arange(2 * 4 * 2).reshape(2, 4, 2)\n",
    "display(x, y)\n",
    "\n",
    "display(x @ y, np.dot(x, y))"
   ]
  },
  {
   "cell_type": "markdown",
   "id": "cd4bb452",
   "metadata": {},
   "source": [
    "### # 행렬곱을 응용하여 신경망에 적용\n",
    "---\n",
    "<img src = '행렬곱.jpg' STYLE = 'width:300px;'>"
   ]
  },
  {
   "cell_type": "code",
   "execution_count": 71,
   "id": "1ea0a928",
   "metadata": {
    "ExecuteTime": {
     "end_time": "2022-03-14T03:10:35.608671Z",
     "start_time": "2022-03-14T03:10:35.594650Z"
    }
   },
   "outputs": [
    {
     "data": {
      "text/plain": [
       "array([[1, 2, 3],\n",
       "       [4, 5, 6]])"
      ]
     },
     "metadata": {},
     "output_type": "display_data"
    },
    {
     "data": {
      "text/plain": [
       "array([[ 6, 23],\n",
       "       [-1,  7],\n",
       "       [ 8,  9]])"
      ]
     },
     "metadata": {},
     "output_type": "display_data"
    },
    {
     "name": "stdout",
     "output_type": "stream",
     "text": [
      "[[ 28  64]\n",
      " [ 67 181]] \n",
      "\n",
      "[[ 28  64]\n",
      " [ 67 181]]\n"
     ]
    }
   ],
   "source": [
    "x = np.arange(1, 7).reshape(2, 3)\n",
    "y = np.array([[6, 23], [-1, 7], [8, 9]])\n",
    "display(x, y)\n",
    "\n",
    "print(x @ y, '\\n')\n",
    "print(np.dot(x, y))"
   ]
  },
  {
   "cell_type": "code",
   "execution_count": 87,
   "id": "bfb4351f",
   "metadata": {
    "ExecuteTime": {
     "end_time": "2022-03-14T03:14:55.707140Z",
     "start_time": "2022-03-14T03:14:55.689610Z"
    }
   },
   "outputs": [
    {
     "data": {
      "text/plain": [
       "array([[1, 2, 3]])"
      ]
     },
     "metadata": {},
     "output_type": "display_data"
    },
    {
     "data": {
      "text/plain": [
       "array([[4],\n",
       "       [5],\n",
       "       [6]])"
      ]
     },
     "metadata": {},
     "output_type": "display_data"
    },
    {
     "data": {
      "text/plain": [
       "array([[32]])"
      ]
     },
     "execution_count": 87,
     "metadata": {},
     "output_type": "execute_result"
    }
   ],
   "source": [
    "x = np.array([[1], [2], [3]]).T\n",
    "y = np.array([[4], [5], [6]])\n",
    "display(x, y)\n",
    "\n",
    "x @ y"
   ]
  },
  {
   "cell_type": "markdown",
   "id": "c2b356fe",
   "metadata": {},
   "source": [
    "### # 이미지 벡터화\n",
    "---"
   ]
  },
  {
   "cell_type": "code",
   "execution_count": 146,
   "id": "165c41aa",
   "metadata": {
    "ExecuteTime": {
     "end_time": "2022-03-14T03:38:17.428167Z",
     "start_time": "2022-03-14T03:38:17.286046Z"
    }
   },
   "outputs": [
    {
     "name": "stdout",
     "output_type": "stream",
     "text": [
      "[[ 0.  0.  5. 13.  9.  1.  0.  0.]\n",
      " [ 0.  0. 13. 15. 10. 15.  5.  0.]\n",
      " [ 0.  3. 15.  2.  0. 11.  8.  0.]\n",
      " [ 0.  4. 12.  0.  0.  8.  8.  0.]\n",
      " [ 0.  5.  8.  0.  0.  9.  8.  0.]\n",
      " [ 0.  4. 11.  0.  1. 12.  7.  0.]\n",
      " [ 0.  2. 14.  5. 10. 12.  0.  0.]\n",
      " [ 0.  0.  6. 13. 10.  0.  0.  0.]] \n",
      "\n",
      "[[ 0.]\n",
      " [ 0.]\n",
      " [ 5.]\n",
      " [13.]\n",
      " [ 9.]]\n"
     ]
    },
    {
     "data": {
      "image/png": "[encoded data removed]",
      "text/plain": [
       "<Figure size 100x100 with 1 Axes>"
      ]
     },
     "metadata": {},
     "output_type": "display_data"
    }
   ],
   "source": [
    "from sklearn.datasets import load_digits\n",
    "import matplotlib.gridspec as gridspec\n",
    "import matplotlib.pyplot as plt\n",
    "\n",
    "digits = load_digits()\n",
    "d1 = digits.images[0]\n",
    "print(d1, '\\n')\n",
    "v1 = d1.reshape(-1, 1)\n",
    "print(v1[:5, :])\n",
    "\n",
    "plt.figure(figsize = (1, 1))\n",
    "plt.imshow(d1, aspect = 1,\n",
    "           interpolation = 'nearest', cmap = plt.cm.bone_r)\n",
    "plt.show()"
   ]
  },
  {
   "cell_type": "code",
   "execution_count": 131,
   "id": "3e1cea88",
   "metadata": {
    "ExecuteTime": {
     "end_time": "2022-03-14T03:35:06.494533Z",
     "start_time": "2022-03-14T03:35:06.171248Z"
    }
   },
   "outputs": [
    {
     "data": {
      "image/png": "[encoded data removed]",
      "text/plain": [
       "<Figure size 900x900 with 8 Axes>"
      ]
     },
     "metadata": {},
     "output_type": "display_data"
    }
   ],
   "source": [
    "from sklearn.datasets import load_digits\n",
    "import matplotlib.gridspec as gridspec\n",
    "\n",
    "digits = load_digits()\n",
    "d1 = digits.images[0]\n",
    "d2 = digits.images[10]\n",
    "d3 = digits.images[1]\n",
    "d4 = digits.images[11]\n",
    "v1 = d1.reshape(64, 1)\n",
    "v2 = d2.reshape(64, 1)\n",
    "v3 = d3.reshape(64, 1)\n",
    "v4 = d4.reshape(64, 1)\n",
    "\n",
    "plt.figure(figsize=(9, 9))\n",
    "gs = gridspec.GridSpec(1, 8, height_ratios=[1],\n",
    "                       width_ratios=[9, 1, 9, 1, 9, 1, 9, 1])\n",
    "for i in range(4):\n",
    "    plt.subplot(gs[2 * i])\n",
    "    plt.imshow(eval(\"d\" + str(i + 1)), aspect=1,\n",
    "               interpolation='nearest', cmap=plt.cm.bone_r)\n",
    "    plt.grid(False)\n",
    "    plt.xticks([])\n",
    "    plt.yticks([])\n",
    "    plt.title(\"image {}\".format(i + 1))\n",
    "    plt.subplot(gs[2 * i + 1])\n",
    "    plt.imshow(eval(\"v\" + str(i + 1)), aspect=0.25,\n",
    "               interpolation='nearest', cmap=plt.cm.bone_r)\n",
    "    plt.grid(False)\n",
    "    plt.xticks([])\n",
    "    plt.yticks([])\n",
    "    plt.title(\"vector {}\".format(i + 1))\n",
    "plt.tight_layout()\n",
    "plt.show()"
   ]
  },
  {
   "cell_type": "code",
   "execution_count": 160,
   "id": "82116669",
   "metadata": {
    "ExecuteTime": {
     "end_time": "2022-03-14T03:52:30.767571Z",
     "start_time": "2022-03-14T03:52:30.752549Z"
    }
   },
   "outputs": [
    {
     "name": "stdout",
     "output_type": "stream",
     "text": [
      "[[ 0.  0.  5. 13.  9.  1.  0.  0.  0.  0. 13. 15. 10. 15.  5.  0.  0.  3.\n",
      "  15.  2.  0. 11.  8.  0.  0.  4. 12.  0.  0.  8.  8.  0.  0.  5.  8.  0.\n",
      "   0.  9.  8.  0.  0.  4. 11.  0.  1. 12.  7.  0.  0.  2. 14.  5. 10. 12.\n",
      "   0.  0.  0.  0.  6. 13. 10.  0.  0.  0.]]\n"
     ]
    },
    {
     "data": {
      "text/plain": [
       "array([[1866.]])"
      ]
     },
     "execution_count": 160,
     "metadata": {},
     "output_type": "execute_result"
    }
   ],
   "source": [
    "# 두 벡터의 유사도\n",
    "\n",
    "print(v1.T)\n",
    "(v1.T @ v3)"
   ]
  },
  {
   "cell_type": "markdown",
   "id": "9a703fb4",
   "metadata": {},
   "source": [
    "#### # 벡터를 연산하여 에측\n",
    "---"
   ]
  },
  {
   "cell_type": "code",
   "execution_count": 163,
   "id": "f35e2dd6",
   "metadata": {
    "ExecuteTime": {
     "end_time": "2022-03-14T03:55:57.970644Z",
     "start_time": "2022-03-14T03:55:57.811994Z"
    }
   },
   "outputs": [
    {
     "data": {
      "text/plain": [
       "Text(0.5, 1.0, 'image 3: $0.7x_1 + 0.3x_2$')"
      ]
     },
     "execution_count": 163,
     "metadata": {},
     "output_type": "execute_result"
    },
    {
     "data": {
      "image/png": "[encoded data removed]",
      "text/plain": [
       "<Figure size 640x480 with 3 Axes>"
      ]
     },
     "metadata": {},
     "output_type": "display_data"
    }
   ],
   "source": [
    "from sklearn.datasets import fetch_olivetti_faces\n",
    "faces = fetch_olivetti_faces()\n",
    "\n",
    "f, ax = plt.subplots(1, 3)\n",
    "\n",
    "ax[0].imshow(faces.images[6], cmap = plt.cm.bone)\n",
    "ax[0].grid(False)\n",
    "ax[0].set_xticks([])\n",
    "ax[0].set_yticks([])\n",
    "ax[0].set_title('image 1: $x_1$')\n",
    "\n",
    "ax[1].imshow(faces.images[10], cmap = plt.cm.bone)\n",
    "ax[1].grid(False)\n",
    "ax[1].set_xticks([])\n",
    "ax[1].set_yticks([])\n",
    "ax[1].set_title('image 2: $x_2$')\n",
    "\n",
    "new_face = 0.7 * faces.images[6] + 0.3 * faces.images[10]\n",
    "ax[2].imshow(new_face, cmap = plt.cm.bone)\n",
    "ax[2].grid(False)\n",
    "ax[2].set_xticks([])\n",
    "ax[2].set_yticks([])\n",
    "ax[2].set_title('image 3: $0.7x_1 + 0.3x_2$')"
   ]
  },
  {
   "cell_type": "markdown",
   "id": "63a1eeee",
   "metadata": {},
   "source": [
    "# [3월 15일]\n",
    "---"
   ]
  },
  {
   "cell_type": "markdown",
   "id": "af84a8ae",
   "metadata": {},
   "source": [
    "### # 행렬의 성질\n",
    "---"
   ]
  },
  {
   "cell_type": "markdown",
   "id": "819e56ec",
   "metadata": {},
   "source": [
    "#### # 행렬의 곱셈\n",
    "---"
   ]
  },
  {
   "cell_type": "code",
   "execution_count": 21,
   "id": "2cc82e2a",
   "metadata": {
    "ExecuteTime": {
     "end_time": "2022-03-15T01:12:56.937447Z",
     "start_time": "2022-03-15T01:12:56.904552Z"
    }
   },
   "outputs": [
    {
     "data": {
      "text/plain": [
       "array([[11, 14, 17, 20],\n",
       "       [23, 30, 37, 44],\n",
       "       [35, 46, 57, 68],\n",
       "       [47, 62, 77, 92]])"
      ]
     },
     "metadata": {},
     "output_type": "display_data"
    },
    {
     "data": {
      "text/plain": [
       "array([[ 50,  60],\n",
       "       [114, 140]])"
      ]
     },
     "metadata": {},
     "output_type": "display_data"
    },
    {
     "data": {
      "text/plain": [
       "array([[ 70,  92, 114, 136],\n",
       "       [ 94, 124, 154, 184],\n",
       "       [118, 156, 194, 232],\n",
       "       [142, 188, 234, 280]])"
      ]
     },
     "metadata": {},
     "output_type": "display_data"
    },
    {
     "data": {
      "text/plain": [
       "array([[ 70,  92, 114, 136],\n",
       "       [ 94, 124, 154, 184],\n",
       "       [118, 156, 194, 232],\n",
       "       [142, 188, 234, 280]])"
      ]
     },
     "metadata": {},
     "output_type": "display_data"
    }
   ],
   "source": [
    "# 행렬 곱셈의 교환 법칙과 분배법칙의 사례를 제시\n",
    "\n",
    "A = np.arange(1, 9).reshape(-1, 2)\n",
    "B = np.arange(9, 17).reshape(-1, 2)\n",
    "C = np.arange(1, 9).reshape(-1, 4)\n",
    "\n",
    "display(A @ C, C @ A)\n",
    "display((A + B) @ C, A @ C + B @ C)"
   ]
  },
  {
   "cell_type": "code",
   "execution_count": 42,
   "id": "6a28be1a",
   "metadata": {
    "ExecuteTime": {
     "end_time": "2022-03-15T01:17:34.709613Z",
     "start_time": "2022-03-15T01:17:34.690635Z"
    }
   },
   "outputs": [
    {
     "data": {
      "text/plain": [
       "array([[1, 2],\n",
       "       [3, 4],\n",
       "       [5, 6],\n",
       "       [7, 8]])"
      ]
     },
     "metadata": {},
     "output_type": "display_data"
    },
    {
     "data": {
      "text/plain": [
       "array([[1, 2],\n",
       "       [3, 4],\n",
       "       [5, 6],\n",
       "       [7, 8]])"
      ]
     },
     "metadata": {},
     "output_type": "display_data"
    }
   ],
   "source": [
    "# 항등행렬을 곱하면 그 행렬의 값은 변하지 않는다\n",
    "\n",
    "A = np.arange(1, 9).reshape(-1, 2)\n",
    "I = np.eye(4).astype(int)\n",
    "\n",
    "display(A, I @ A)"
   ]
  },
  {
   "cell_type": "markdown",
   "id": "273125a6",
   "metadata": {},
   "source": [
    "#### # 행렬 놈\n",
    "---\n",
    "- 벡터의 놈은 다음 4가지 성질을 만족하면서 벡터에서 실수 값을 연결하는 함수로 정의하고, \\||x||로 표기한다.\n",
    "\n",
    "           1. ||x||은 음수가 아닌 실수값이다. 즉, ||x||>=0\n",
    "           2. x = 0일때만 ||x|| = 0 이다.\n",
    "           3. 스칼라 a에 대해서 ||ax|| = |a|||x|| 가 성립한다.\n",
    "           4. ||x+y|| <= ||x|| + ||y|| 이 성립한다..\n",
    "\n",
    "- 위 4가지 성질을 만족하기만 하면 놈이라고 할 수 있는데, 많이 사용되는 놈은 다음 세 가지이다. 놈을 구별하기 위하여 아래 첨자를 사용하고, $||x||_1을 1-놈, ||x||_2 를 2-놈, ||x||_\\infty를 3-놈$이라고 한다.\n",
    "- 1-놈은 벡터 x의 성분의 절대값을 모두 더한 것으로, 2-놈은 벡터의 기하학적 길이로, $\\infty-놈$은 벡터 성분 중에서 크기가 제일 큰 값으로 정의한다.\n",
    "- p = 2인 경우가 가장 많이 쓰이므로 p값 표기가 없는 경우 p=2인 프로베니우스 놈을 사용한다.\n",
    "$$$$\n",
    "\n",
    "- 참조  \n",
    "https://bskyvision.com/825  \n",
    "https://pasus.tistory.com/34  \n",
    "https://jimmy-ai.tistory.com/81"
   ]
  },
  {
   "cell_type": "code",
   "execution_count": 85,
   "id": "ee723cb0",
   "metadata": {
    "ExecuteTime": {
     "end_time": "2022-03-15T01:52:09.633664Z",
     "start_time": "2022-03-15T01:52:09.623669Z"
    }
   },
   "outputs": [
    {
     "name": "stdout",
     "output_type": "stream",
     "text": [
      "[[-4 -3 -2]\n",
      " [-1  0  1]\n",
      " [ 2  3  4]]\n"
     ]
    },
    {
     "data": {
      "text/plain": [
       "7.745966692414834"
      ]
     },
     "execution_count": 85,
     "metadata": {},
     "output_type": "execute_result"
    }
   ],
   "source": [
    "A = (np.arange(9) - 4).reshape(3, 3)\n",
    "print(A)\n",
    "\n",
    "np.linalg.norm(A)"
   ]
  },
  {
   "cell_type": "markdown",
   "id": "72db355b",
   "metadata": {},
   "source": [
    "#### # 대각합\n",
    "---\n",
    "- 정방행렬에서만 정의되며 대각원소의 합으로 계산된다"
   ]
  },
  {
   "cell_type": "code",
   "execution_count": 86,
   "id": "e53e17b7",
   "metadata": {
    "ExecuteTime": {
     "end_time": "2022-03-15T01:52:16.686802Z",
     "start_time": "2022-03-15T01:52:16.671851Z"
    }
   },
   "outputs": [
    {
     "data": {
      "text/plain": [
       "3.0"
      ]
     },
     "execution_count": 86,
     "metadata": {},
     "output_type": "execute_result"
    }
   ],
   "source": [
    "np.trace(np.eye(3))"
   ]
  },
  {
   "cell_type": "markdown",
   "id": "f7b59677",
   "metadata": {},
   "source": [
    "#### # 행렬식\n",
    "---\n",
    "- 참조  \n",
    "https://ratsgo.github.io/linear%20algebra/2017/05/21/determinants/  \n",
    "https://www.youtube.com/watch?v=fuVMiyahzH4\n"
   ]
  },
  {
   "cell_type": "code",
   "execution_count": 97,
   "id": "b32ef811",
   "metadata": {
    "ExecuteTime": {
     "end_time": "2022-03-15T02:09:52.909568Z",
     "start_time": "2022-03-15T02:09:52.897569Z"
    }
   },
   "outputs": [
    {
     "name": "stdout",
     "output_type": "stream",
     "text": [
      "[[1 2 3]\n",
      " [4 5 6]\n",
      " [7 8 9]] \n",
      "\n",
      "-9.51619735392994e-16 \n",
      "\n",
      "0\n"
     ]
    }
   ],
   "source": [
    "A = np.array([[1, 2, 3], [4, 5, 6], [7, 8 ,9]])\n",
    "print(A, '\\n')\n",
    "\n",
    "print(np.linalg.det(A), '\\n')\n",
    "\n",
    "det = 1*(5*9 - 6*8) - 4*(2*9 - 8*3) + 7*(2*6 - 5*3)\n",
    "print(np.abs(det))"
   ]
  },
  {
   "cell_type": "markdown",
   "id": "048cd085",
   "metadata": {
    "ExecuteTime": {
     "end_time": "2022-03-15T01:44:45.996547Z",
     "start_time": "2022-03-15T01:44:45.975614Z"
    }
   },
   "source": [
    "#### # 역행렬\n",
    "---\n",
    "선형 연립방정식\n",
    "- 선형예측모형은 입력 데이터 벡터와 가중치 벡터의 내적으로 계산된 예측값이 실제 출력 데이터와 유사한 값을 출력하도록 하는 모형\n",
    "- 연립방정식과 역행렬을 이용하여 선형 예측 모형의 가중치 벡터를 구할 수 있다.\n",
    "역행렬\n",
    "- 정방행렬에 대한 역행렬은 원래의 행렬과 다음 관계를 만족하는 정방행렬을 의미 $A^{-1}A = AA^{-1} = I$, I는 항등행렬"
   ]
  },
  {
   "cell_type": "code",
   "execution_count": 83,
   "id": "2f92dd13",
   "metadata": {
    "ExecuteTime": {
     "end_time": "2022-03-15T01:49:26.260664Z",
     "start_time": "2022-03-15T01:49:26.240688Z"
    }
   },
   "outputs": [
    {
     "name": "stdout",
     "output_type": "stream",
     "text": [
      "[[1 2 1]\n",
      " [2 2 3]\n",
      " [1 3 1]] \n",
      "\n",
      "[[ 7. -1. -4.]\n",
      " [-1.  0.  1.]\n",
      " [-4.  1.  2.]] \n",
      "\n"
     ]
    },
    {
     "data": {
      "text/plain": [
       "array([[1., 0., 0.],\n",
       "       [0., 1., 0.],\n",
       "       [0., 0., 1.]])"
      ]
     },
     "metadata": {},
     "output_type": "display_data"
    }
   ],
   "source": [
    "np.random.seed(0)\n",
    "mt1 = np.random.randint(1, 4, size = (3, 3))\n",
    "print(mt1, '\\n')\n",
    "\n",
    "mt2 = np.linalg.inv(mt1)\n",
    "print(mt2, '\\n')\n",
    "\n",
    "display(np.dot(mt2, mt1))"
   ]
  },
  {
   "cell_type": "markdown",
   "id": "e197a612",
   "metadata": {
    "ExecuteTime": {
     "end_time": "2022-03-15T01:49:46.831092Z",
     "start_time": "2022-03-15T01:49:46.828082Z"
    }
   },
   "source": [
    "#### # np.dot() vs np.matmul()\n",
    "---\n",
    "- 참조  \n",
    "https://m.blog.naver.com/PostView.naver?isHttpsRedirect=true&blogId=cjh226&logNo=221356884894"
   ]
  },
  {
   "cell_type": "code",
   "execution_count": 94,
   "id": "6c82ed97",
   "metadata": {
    "ExecuteTime": {
     "end_time": "2022-03-15T02:08:53.770130Z",
     "start_time": "2022-03-15T02:08:53.750183Z"
    }
   },
   "outputs": [
    {
     "name": "stdout",
     "output_type": "stream",
     "text": [
      "[[[ 0  1  2  3]\n",
      "  [ 4  5  6  7]]\n",
      "\n",
      " [[ 8  9 10 11]\n",
      "  [12 13 14 15]]] \n",
      "\n",
      "[[[ 0  1]\n",
      "  [ 2  3]\n",
      "  [ 4  5]\n",
      "  [ 6  7]]\n",
      "\n",
      " [[ 8  9]\n",
      "  [10 11]\n",
      "  [12 13]\n",
      "  [14 15]]]\n"
     ]
    },
    {
     "data": {
      "text/plain": [
       "array([[[ 28,  34],\n",
       "        [ 76,  98]],\n",
       "\n",
       "       [[428, 466],\n",
       "        [604, 658]]])"
      ]
     },
     "metadata": {},
     "output_type": "display_data"
    },
    {
     "data": {
      "text/plain": [
       "array([[[[ 28,  34],\n",
       "         [ 76,  82]],\n",
       "\n",
       "        [[ 76,  98],\n",
       "         [252, 274]]],\n",
       "\n",
       "\n",
       "       [[[124, 162],\n",
       "         [428, 466]],\n",
       "\n",
       "        [[172, 226],\n",
       "         [604, 658]]]])"
      ]
     },
     "metadata": {},
     "output_type": "display_data"
    }
   ],
   "source": [
    "x = np.arange(2 * 2 * 4).reshape(2, 2, 4)\n",
    "y = np.arange(2 * 4 * 2).reshape(2, 4, 2)\n",
    "print(x, '\\n')\n",
    "print(y)\n",
    "\n",
    "display(x @ y, np.dot(x, y))"
   ]
  },
  {
   "cell_type": "code",
   "execution_count": 101,
   "id": "840730df",
   "metadata": {
    "ExecuteTime": {
     "end_time": "2022-03-15T02:12:32.624920Z",
     "start_time": "2022-03-15T02:12:30.542204Z"
    }
   },
   "outputs": [
    {
     "name": "stdout",
     "output_type": "stream",
     "text": [
      "[[[ 0  1  2]\n",
      "  [ 3  4  5]]\n",
      "\n",
      " [[ 6  7  8]\n",
      "  [ 9 10 11]]\n",
      "\n",
      " [[12 13 14]\n",
      "  [15 16 17]]] \n",
      "\n",
      "[[[ 0  1]\n",
      "  [ 2  3]\n",
      "  [ 4  5]]\n",
      "\n",
      " [[ 6  7]\n",
      "  [ 8  9]\n",
      "  [10 11]]\n",
      "\n",
      " [[12 13]\n",
      "  [14 15]\n",
      "  [16 17]]]\n"
     ]
    },
    {
     "data": {
      "text/plain": [
       "array([[[[ 10,  13],\n",
       "         [ 28,  31],\n",
       "         [ 46,  49]],\n",
       "\n",
       "        [[ 28,  40],\n",
       "         [100, 112],\n",
       "         [172, 184]]],\n",
       "\n",
       "\n",
       "       [[[ 46,  67],\n",
       "         [172, 193],\n",
       "         [298, 319]],\n",
       "\n",
       "        [[ 64,  94],\n",
       "         [244, 274],\n",
       "         [424, 454]]],\n",
       "\n",
       "\n",
       "       [[[ 82, 121],\n",
       "         [316, 355],\n",
       "         [550, 589]],\n",
       "\n",
       "        [[100, 148],\n",
       "         [388, 436],\n",
       "         [676, 724]]]])"
      ]
     },
     "metadata": {},
     "output_type": "display_data"
    },
    {
     "data": {
      "text/plain": [
       "array([[[ 10,  13],\n",
       "        [ 28,  40]],\n",
       "\n",
       "       [[172, 193],\n",
       "        [244, 274]],\n",
       "\n",
       "       [[550, 589],\n",
       "        [676, 724]]])"
      ]
     },
     "metadata": {},
     "output_type": "display_data"
    },
    {
     "data": {
      "text/plain": [
       "(3, 2, 3, 2)"
      ]
     },
     "metadata": {},
     "output_type": "display_data"
    },
    {
     "data": {
      "text/plain": [
       "(3, 2, 2)"
      ]
     },
     "metadata": {},
     "output_type": "display_data"
    }
   ],
   "source": [
    "a1 = np.arange(18).reshape(3,2,3)\n",
    "a2 = np.arange(18).reshape(3,3,2)\n",
    "print(a1,'\\n')\n",
    "print(a2)\n",
    "\n",
    "display(np.dot(a1,a2), np.matmul(a1,a2))\n",
    "display(np.dot(a1,a2).shape, np.matmul(a1,a2).shape)"
   ]
  }
 ],
 "metadata": {
  "hide_input": false,
  "kernelspec": {
   "display_name": "Python 3 (ipykernel)",
   "language": "python",
   "name": "python3"
  },
  "language_info": {
   "codemirror_mode": {
    "name": "ipython",
    "version": 3
   },
   "file_extension": ".py",
   "mimetype": "text/x-python",
   "name": "python",
   "nbconvert_exporter": "python",
   "pygments_lexer": "ipython3",
   "version": "3.8.12"
  },
  "toc": {
   "base_numbering": 1,
   "nav_menu": {},
   "number_sections": false,
   "sideBar": true,
   "skip_h1_title": false,
   "title_cell": "Table of Contents",
   "title_sidebar": "Contents",
   "toc_cell": false,
   "toc_position": {
    "height": "1187px",
    "left": "74px",
    "top": "86px",
    "width": "318px"
   },
   "toc_section_display": true,
   "toc_window_display": true
  },
  "varInspector": {
   "cols": {
    "lenName": "16",
    "lenType": "16",
    "lenVar": 40
   },
   "kernels_config": {
    "python": {
     "delete_cmd_postfix": "",
     "delete_cmd_prefix": "del ",
     "library": "var_list.py",
     "varRefreshCmd": "print(var_dic_list())"
    },
    "r": {
     "delete_cmd_postfix": ") ",
     "delete_cmd_prefix": "rm(",
     "library": "var_list.r",
     "varRefreshCmd": "cat(var_dic_list()) "
    }
   },
   "types_to_exclude": [
    "module",
    "function",
    "builtin_function_or_method",
    "instance",
    "_Feature"
   ],
   "window_display": false
  }
 },
 "nbformat": 4,
 "nbformat_minor": 5
}
