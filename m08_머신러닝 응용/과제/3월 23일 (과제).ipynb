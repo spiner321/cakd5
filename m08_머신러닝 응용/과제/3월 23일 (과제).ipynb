{
 "cells": [
  {
   "cell_type": "markdown",
   "id": "ed1d8807",
   "metadata": {},
   "source": [
    "##### [과제] 아래사항을 수행하세요\n",
    "---\n",
    "- 장르 콘텐츠 필터링을 이용한 영화 추천\n",
    "- 평점에 평가 횟수를 반영하여 새롭게 평점 기준을 정의한 후 적용하여 영화 추천\n",
    "- m값은 평점 투표 횟수가 많은 영화에 더 많은 가중 평점을 부여\n",
    "- m값은 전체 투표 횟수에서 상위 60%에 해당하는 횟수를 기준으로 정함\n",
    "- 가중평점 : (v/(v+m))*R + (m/(v+m))*C\n",
    "  - v : 개별 영화에 평점을 투표한 횟수 \n",
    "  - m : 평점을 부여하기 위한 최소 투표 횟수\n",
    "  - R : 개별 영화에 대한 평균 평점\n",
    "  - C : 전체 영화에 대한 평균 평점\n"
   ]
  },
  {
   "cell_type": "markdown",
   "id": "6fb37790",
   "metadata": {
    "ExecuteTime": {
     "end_time": "2022-03-24T03:22:48.068479Z",
     "start_time": "2022-03-24T03:22:48.063474Z"
    }
   },
   "source": [
    "완성한 데이터는 3월 23일 (콘텐츠 기반 추천).ipynb 파일에 있음"
   ]
  }
 ],
 "metadata": {
  "hide_input": false,
  "kernelspec": {
   "display_name": "Python 3 (ipykernel)",
   "language": "python",
   "name": "python3"
  },
  "language_info": {
   "codemirror_mode": {
    "name": "ipython",
    "version": 3
   },
   "file_extension": ".py",
   "mimetype": "text/x-python",
   "name": "python",
   "nbconvert_exporter": "python",
   "pygments_lexer": "ipython3",
   "version": "3.8.12"
  },
  "toc": {
   "base_numbering": 1,
   "nav_menu": {},
   "number_sections": false,
   "sideBar": true,
   "skip_h1_title": false,
   "title_cell": "Table of Contents",
   "title_sidebar": "Contents",
   "toc_cell": false,
   "toc_position": {},
   "toc_section_display": true,
   "toc_window_display": false
  },
  "varInspector": {
   "cols": {
    "lenName": 16,
    "lenType": 16,
    "lenVar": 40
   },
   "kernels_config": {
    "python": {
     "delete_cmd_postfix": "",
     "delete_cmd_prefix": "del ",
     "library": "var_list.py",
     "varRefreshCmd": "print(var_dic_list())"
    },
    "r": {
     "delete_cmd_postfix": ") ",
     "delete_cmd_prefix": "rm(",
     "library": "var_list.r",
     "varRefreshCmd": "cat(var_dic_list()) "
    }
   },
   "types_to_exclude": [
    "module",
    "function",
    "builtin_function_or_method",
    "instance",
    "_Feature"
   ],
   "window_display": false
  }
 },
 "nbformat": 4,
 "nbformat_minor": 5
}
