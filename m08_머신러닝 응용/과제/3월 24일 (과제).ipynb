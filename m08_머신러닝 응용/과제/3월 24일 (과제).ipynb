{
 "cells": [
  {
   "cell_type": "markdown",
   "id": "f95093c2",
   "metadata": {},
   "source": [
    "##### [과제] 아래사항을 참조하여 아이템 기반 최근접 이웃 협업 필터링으로 개인화된 영화를 추천하세요.\n",
    "---\n",
    "- 개인의 취향을 반영하여 아직 관람하지 않은 영화에 대하여 10개 추천"
   ]
  },
  {
   "cell_type": "markdown",
   "id": "ee3f590a",
   "metadata": {},
   "source": [
    "완성한 데이터는 3월 24일 (아이템 기반 최근접 이웃 협업 필터링).ipynb 파일에 있음"
   ]
  },
  {
   "cell_type": "markdown",
   "id": "cd4ac220",
   "metadata": {},
   "source": [
    "##### [과제] 주어진 데이터로 행렬 분해 기반의 잠재요인 협업필터링 추천을 아래와 같이 수행하세요.\n",
    "---\n",
    "\n",
    "- 행렬분해 사용자 함수 matrix_factorization 이용(steps 200, K 50, L2 계수 0.01)\n",
    "- 예측 사용자-아이템 평점 행렬을 df로 작성\n",
    "- 행렬 정보를 이용, 개인화된 영화 추천"
   ]
  },
  {
   "cell_type": "markdown",
   "id": "2ed0ea18",
   "metadata": {},
   "source": [
    "완성한 데이터는 3월 24일 (행렬 분해 잠재 요인 협업 필터링).ipynb 파일에 있음"
   ]
  }
 ],
 "metadata": {
  "hide_input": false,
  "kernelspec": {
   "display_name": "Python 3 (ipykernel)",
   "language": "python",
   "name": "python3"
  },
  "language_info": {
   "codemirror_mode": {
    "name": "ipython",
    "version": 3
   },
   "file_extension": ".py",
   "mimetype": "text/x-python",
   "name": "python",
   "nbconvert_exporter": "python",
   "pygments_lexer": "ipython3",
   "version": "3.8.12"
  },
  "toc": {
   "base_numbering": 1,
   "nav_menu": {},
   "number_sections": false,
   "sideBar": true,
   "skip_h1_title": false,
   "title_cell": "Table of Contents",
   "title_sidebar": "Contents",
   "toc_cell": false,
   "toc_position": {},
   "toc_section_display": true,
   "toc_window_display": false
  },
  "varInspector": {
   "cols": {
    "lenName": 16,
    "lenType": 16,
    "lenVar": 40
   },
   "kernels_config": {
    "python": {
     "delete_cmd_postfix": "",
     "delete_cmd_prefix": "del ",
     "library": "var_list.py",
     "varRefreshCmd": "print(var_dic_list())"
    },
    "r": {
     "delete_cmd_postfix": ") ",
     "delete_cmd_prefix": "rm(",
     "library": "var_list.r",
     "varRefreshCmd": "cat(var_dic_list()) "
    }
   },
   "types_to_exclude": [
    "module",
    "function",
    "builtin_function_or_method",
    "instance",
    "_Feature"
   ],
   "window_display": false
  }
 },
 "nbformat": 4,
 "nbformat_minor": 5
}
