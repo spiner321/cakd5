{
 "cells": [
  {
   "cell_type": "markdown",
   "id": "13c60b60",
   "metadata": {},
   "source": [
    "##### [과제] 네이버 영화 평가 댓글을 lr로 모델링 및 하이퍼 파라미터 튜닝후 테스트 데이터로 평가하세요.\n",
    "---"
   ]
  },
  {
   "cell_type": "markdown",
   "id": "a09a3227",
   "metadata": {
    "ExecuteTime": {
     "end_time": "2022-03-18T03:08:16.269522Z",
     "start_time": "2022-03-18T03:08:16.243591Z"
    }
   },
   "source": [
    "완성한 데이터는 3월 18일 (영화 평가 감성 분석 - 한국어[네이버]).ipynb 파일에 있음"
   ]
  },
  {
   "cell_type": "markdown",
   "id": "ee4872bc",
   "metadata": {
    "ExecuteTime": {
     "end_time": "2022-03-18T01:51:23.147752Z",
     "start_time": "2022-03-18T01:51:23.129798Z"
    }
   },
   "source": [
    "##### [과제] IDBM 영화 평가 댓글을 lr로 모델링 및 하이퍼 파라미터 튜닝후 테스트 데이터로 평가하세요.\n",
    "---"
   ]
  },
  {
   "cell_type": "markdown",
   "id": "e5acecda",
   "metadata": {},
   "source": [
    "완성한 데이터는 3월 18일 (영화 평가 감성 분석 - 영어[IDBM]).ipynb 파일에 있음"
   ]
  },
  {
   "cell_type": "markdown",
   "id": "b1745202",
   "metadata": {},
   "source": [
    "##### [과제] https:/news.naver.com/ 사이트에서 4개의 뉴스 카테고리를 선택해서 뉴스기사를 크롤링한 후 다음을 수행\n",
    "---\n",
    "- 뉴스기사 카테고리별 저장(파일 도는 DB)\n",
    "- 텍스트 전처리 및 피처 벡터화\n",
    "- 모델링 및 평가(성능개선 포함)\n",
    "- 참조 : https://wikidocs.net/74715"
   ]
  },
  {
   "cell_type": "markdown",
   "id": "ceecf10c",
   "metadata": {},
   "source": [
    "완성한 데이터는 3월 18일 (네이버 뉴스 분석).ipynb 파일에 있음"
   ]
  }
 ],
 "metadata": {
  "hide_input": false,
  "kernelspec": {
   "display_name": "Python 3 (ipykernel)",
   "language": "python",
   "name": "python3"
  },
  "language_info": {
   "codemirror_mode": {
    "name": "ipython",
    "version": 3
   },
   "file_extension": ".py",
   "mimetype": "text/x-python",
   "name": "python",
   "nbconvert_exporter": "python",
   "pygments_lexer": "ipython3",
   "version": "3.8.12"
  },
  "toc": {
   "base_numbering": 1,
   "nav_menu": {},
   "number_sections": false,
   "sideBar": true,
   "skip_h1_title": false,
   "title_cell": "Table of Contents",
   "title_sidebar": "Contents",
   "toc_cell": false,
   "toc_position": {},
   "toc_section_display": true,
   "toc_window_display": false
  },
  "varInspector": {
   "cols": {
    "lenName": "16",
    "lenType": "16",
    "lenVar": 40
   },
   "kernels_config": {
    "python": {
     "delete_cmd_postfix": "",
     "delete_cmd_prefix": "del ",
     "library": "var_list.py",
     "varRefreshCmd": "print(var_dic_list())"
    },
    "r": {
     "delete_cmd_postfix": ") ",
     "delete_cmd_prefix": "rm(",
     "library": "var_list.r",
     "varRefreshCmd": "cat(var_dic_list()) "
    }
   },
   "types_to_exclude": [
    "module",
    "function",
    "builtin_function_or_method",
    "instance",
    "_Feature"
   ],
   "window_display": false
  }
 },
 "nbformat": 4,
 "nbformat_minor": 5
}
