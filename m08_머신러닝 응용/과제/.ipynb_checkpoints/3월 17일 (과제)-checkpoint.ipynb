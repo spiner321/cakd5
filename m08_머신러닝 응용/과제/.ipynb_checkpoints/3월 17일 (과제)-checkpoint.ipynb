{
 "cells": [
  {
   "cell_type": "code",
   "execution_count": 61,
   "id": "6bc5dc43",
   "metadata": {
    "ExecuteTime": {
     "end_time": "2022-03-17T03:46:17.028458Z",
     "start_time": "2022-03-17T03:46:17.023482Z"
    }
   },
   "outputs": [],
   "source": [
    "from nltk import sent_tokenize\n",
    "from nltk import word_tokenize\n",
    "from nltk.stem import LancasterStemmer\n",
    "from sklearn.datasets import fetch_20newsgroups\n",
    "from sklearn.feature_extraction.text import CountVectorizer\n",
    "import pandas as pd\n",
    "from scipy import sparse\n",
    "import numpy as np\n",
    "import nltk"
   ]
  },
  {
   "cell_type": "markdown",
   "id": "870e82d8",
   "metadata": {},
   "source": [
    "##### [과제] 위의 word_tokens에서 stopwords를 제거한 후 출력하세요\n",
    "---"
   ]
  },
  {
   "cell_type": "code",
   "execution_count": 2,
   "id": "f277d49c",
   "metadata": {
    "ExecuteTime": {
     "end_time": "2022-03-17T02:49:22.451884Z",
     "start_time": "2022-03-17T02:49:22.443891Z"
    }
   },
   "outputs": [],
   "source": [
    "# 단어 토큰화 사용자 함수\n",
    "\n",
    "def tokenize_text(text):\n",
    "    sentences = sent_tokenize(text)\n",
    "    words = [word_tokenize(sentence) for sentence in sentences]\n",
    "    return words"
   ]
  },
  {
   "cell_type": "code",
   "execution_count": 6,
   "id": "e877f6dc",
   "metadata": {
    "ExecuteTime": {
     "end_time": "2022-03-17T02:50:16.703328Z",
     "start_time": "2022-03-17T02:50:16.685373Z"
    }
   },
   "outputs": [
    {
     "data": {
      "text/plain": [
       "[['The',\n",
       "  'Matrix',\n",
       "  'is',\n",
       "  'everywhere',\n",
       "  'its',\n",
       "  'all',\n",
       "  'around',\n",
       "  'us',\n",
       "  ',',\n",
       "  'here',\n",
       "  'even',\n",
       "  'in',\n",
       "  'this',\n",
       "  'room',\n",
       "  '.'],\n",
       " ['You',\n",
       "  'can',\n",
       "  'see',\n",
       "  'it',\n",
       "  'out',\n",
       "  'your',\n",
       "  'window',\n",
       "  'or',\n",
       "  'on',\n",
       "  'your',\n",
       "  'television',\n",
       "  '.'],\n",
       " ['You',\n",
       "  'feel',\n",
       "  'it',\n",
       "  'when',\n",
       "  'you',\n",
       "  'go',\n",
       "  'to',\n",
       "  'work',\n",
       "  ',',\n",
       "  'or',\n",
       "  'go',\n",
       "  'to',\n",
       "  'church',\n",
       "  'or',\n",
       "  'pay',\n",
       "  'your',\n",
       "  'taxes',\n",
       "  '.']]"
      ]
     },
     "execution_count": 6,
     "metadata": {},
     "output_type": "execute_result"
    }
   ],
   "source": [
    "text_sample = '''The Matrix is everywhere its all around us, here even in this room.\n",
    "               You can see it out your window or on your television.\n",
    "               You feel it when you go to work, or go to church or pay your taxes.'''\n",
    "\n",
    "tokens = tokenize_text(text_sample)\n",
    "tokens"
   ]
  },
  {
   "cell_type": "code",
   "execution_count": 14,
   "id": "694c6f11",
   "metadata": {
    "ExecuteTime": {
     "end_time": "2022-03-17T03:13:52.323119Z",
     "start_time": "2022-03-17T03:13:52.298181Z"
    }
   },
   "outputs": [
    {
     "name": "stdout",
     "output_type": "stream",
     "text": [
      "['The', 'Matrix', 'is', 'everywhere', 'its', 'all', 'around', 'us', ',', 'here', 'even', 'in', 'this', 'room', '.']\n",
      "['You', 'can', 'see', 'it', 'out', 'your', 'window', 'or', 'on', 'your', 'television', '.']\n",
      "['You', 'feel', 'it', 'when', 'you', 'go', 'to', 'work', ',', 'or', 'go', 'to', 'church', 'or', 'pay', 'your', 'taxes', '.']\n"
     ]
    },
    {
     "data": {
      "text/plain": [
       "[['matrix', 'everywhere', 'around', 'us', ',', 'even', 'room', '.'],\n",
       " ['see', 'window', 'television', '.'],\n",
       " ['feel', 'go', 'work', ',', 'go', 'church', 'pay', 'taxes', '.']]"
      ]
     },
     "execution_count": 14,
     "metadata": {},
     "output_type": "execute_result"
    }
   ],
   "source": [
    "stopwords = nltk.corpus.stopwords.words('english')\n",
    "\n",
    "all_tokens = []\n",
    "\n",
    "for sentence in tokens:\n",
    "    print(sentence)\n",
    "    filtered_words = [] \n",
    "    for word in sentence:\n",
    "        word = word.lower()\n",
    "        if word not in stopwords:\n",
    "            filtered_words.append(word)\n",
    "    all_tokens.append(filtered_words)\n",
    "all_tokens"
   ]
  },
  {
   "cell_type": "markdown",
   "id": "cb58c839",
   "metadata": {},
   "source": [
    "##### [과제] 20 뉴스그룹에 대하여 다음 사항을 수행하세요.\n",
    "---\n",
    "- 피쳐 벡터화(count, tfidf)\n",
    "- 모델 학습/예측평가(Logistic Regression)\n",
    "- 하이퍼 파라미터 튜닝 적용(GridSearchCV)"
   ]
  },
  {
   "cell_type": "code",
   "execution_count": 58,
   "id": "3484ea68",
   "metadata": {
    "ExecuteTime": {
     "end_time": "2022-03-17T03:41:53.357521Z",
     "start_time": "2022-03-17T03:41:50.573256Z"
    }
   },
   "outputs": [],
   "source": [
    "train_news = fetch_20newsgroups(subset = 'train', remove = ('headers', 'footers', 'quotes'), random_state = 156)\n",
    "test_news = fetch_20newsgroups(subset = 'test', remove = ('headers', 'footers', 'quotes'), random_state = 156)"
   ]
  },
  {
   "cell_type": "code",
   "execution_count": 54,
   "id": "8fe8a1cb",
   "metadata": {
    "ExecuteTime": {
     "end_time": "2022-03-17T03:40:06.572240Z",
     "start_time": "2022-03-17T03:40:06.552301Z"
    },
    "scrolled": false
   },
   "outputs": [
    {
     "name": "stdout",
     "output_type": "stream",
     "text": [
      "\n",
      "\n",
      "What I did NOT get with my drive (CD300i) is the System Install CD you\n",
      "listed as #1.  Any ideas about how I can get one?  I bought my IIvx 8/120\n",
      "from Direct Express in Chicago (no complaints at all -- good price & good\n",
      "service).\n",
      "\n",
      "BTW, I've heard that the System Install CD can be used to boot the mac;\n",
      "however, my drive will NOT accept a CD caddy is the machine is off.  How can\n",
      "you boot with it then?\n",
      "\n",
      "--Dave\n",
      "\n",
      "ㅡㅡㅡㅡㅡㅡㅡㅡㅡㅡㅡㅡㅡㅡㅡㅡㅡㅡㅡㅡㅡㅡㅡㅡㅡㅡㅡㅡㅡㅡㅡㅡㅡㅡㅡㅡㅡㅡㅡㅡㅡ\n",
      "\n",
      "The tech support line for GCC is 1-800-231-1570.\n"
     ]
    }
   ],
   "source": [
    "print(train_news.data[0])\n",
    "print('ㅡㅡㅡㅡㅡㅡㅡㅡㅡㅡㅡㅡㅡㅡㅡㅡㅡㅡㅡㅡㅡㅡㅡㅡㅡㅡㅡㅡㅡㅡㅡㅡㅡㅡㅡㅡㅡㅡㅡㅡㅡ')\n",
    "print()\n",
    "print(test_news.data[0])"
   ]
  },
  {
   "cell_type": "code",
   "execution_count": 60,
   "id": "7e858836",
   "metadata": {
    "ExecuteTime": {
     "end_time": "2022-03-17T03:42:17.452905Z",
     "start_time": "2022-03-17T03:42:17.431939Z"
    }
   },
   "outputs": [
    {
     "data": {
      "text/plain": [
       "7532"
      ]
     },
     "execution_count": 60,
     "metadata": {},
     "output_type": "execute_result"
    }
   ],
   "source": [
    "# 훈련, 평가 데이터 만들기\n",
    "\n",
    "X_train = train_news.data\n",
    "X_test = test_news.data\n",
    "y_train = train_news.target\n",
    "y_test = test_news.target"
   ]
  },
  {
   "cell_type": "code",
   "execution_count": null,
   "id": "9f0055d8",
   "metadata": {},
   "outputs": [],
   "source": [
    "from sklearn.feature_extraction.text import CountVectorizer\n",
    "\n",
    "# 피쳐 벡터화 수행\n",
    "cnt_vect = CountVectorizer()"
   ]
  }
 ],
 "metadata": {
  "hide_input": false,
  "kernelspec": {
   "display_name": "Python 3 (ipykernel)",
   "language": "python",
   "name": "python3"
  },
  "language_info": {
   "codemirror_mode": {
    "name": "ipython",
    "version": 3
   },
   "file_extension": ".py",
   "mimetype": "text/x-python",
   "name": "python",
   "nbconvert_exporter": "python",
   "pygments_lexer": "ipython3",
   "version": "3.8.12"
  },
  "toc": {
   "base_numbering": 1,
   "nav_menu": {},
   "number_sections": false,
   "sideBar": true,
   "skip_h1_title": false,
   "title_cell": "Table of Contents",
   "title_sidebar": "Contents",
   "toc_cell": false,
   "toc_position": {},
   "toc_section_display": true,
   "toc_window_display": false
  },
  "varInspector": {
   "cols": {
    "lenName": "16",
    "lenType": "16",
    "lenVar": 40
   },
   "kernels_config": {
    "python": {
     "delete_cmd_postfix": "",
     "delete_cmd_prefix": "del ",
     "library": "var_list.py",
     "varRefreshCmd": "print(var_dic_list())"
    },
    "r": {
     "delete_cmd_postfix": ") ",
     "delete_cmd_prefix": "rm(",
     "library": "var_list.r",
     "varRefreshCmd": "cat(var_dic_list()) "
    }
   },
   "types_to_exclude": [
    "module",
    "function",
    "builtin_function_or_method",
    "instance",
    "_Feature"
   ],
   "window_display": false
  }
 },
 "nbformat": 4,
 "nbformat_minor": 5
}
