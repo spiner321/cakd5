{
 "cells": [
  {
   "cell_type": "code",
   "execution_count": 1,
   "id": "3398334b",
   "metadata": {
    "ExecuteTime": {
     "end_time": "2022-03-24T01:22:17.677845Z",
     "start_time": "2022-03-24T01:22:16.217614Z"
    }
   },
   "outputs": [],
   "source": [
    "import pandas as pd\n",
    "import numpy as np\n",
    "import warnings\n",
    "from ast import literal_eval\n",
    "from sklearn.feature_extraction.text import CountVectorizer\n",
    "from sklearn.metrics.pairwise import cosine_similarity\n",
    "warnings.filterwarnings('ignore')"
   ]
  },
  {
   "cell_type": "markdown",
   "id": "b3236fad",
   "metadata": {},
   "source": [
    "# [3월 23일]\n",
    "---"
   ]
  },
  {
   "cell_type": "markdown",
   "id": "3308c1c7",
   "metadata": {},
   "source": [
    "## # 콘텐츠 기반 추천\n",
    "---"
   ]
  },
  {
   "cell_type": "markdown",
   "id": "0f057b52",
   "metadata": {},
   "source": [
    "### # 데이터 전처리\n",
    "---"
   ]
  },
  {
   "cell_type": "code",
   "execution_count": 2,
   "id": "bab9c019",
   "metadata": {
    "ExecuteTime": {
     "end_time": "2022-03-24T01:22:19.367066Z",
     "start_time": "2022-03-24T01:22:18.990260Z"
    }
   },
   "outputs": [
    {
     "name": "stdout",
     "output_type": "stream",
     "text": [
      "(4803, 20)\n",
      "Index(['budget', 'genres', 'homepage', 'id', 'keywords', 'original_language',\n",
      "       'original_title', 'overview', 'popularity', 'production_companies',\n",
      "       'production_countries', 'release_date', 'revenue', 'runtime',\n",
      "       'spoken_languages', 'status', 'tagline', 'title', 'vote_average',\n",
      "       'vote_count'],\n",
      "      dtype='object')\n"
     ]
    },
    {
     "data": {
      "text/html": [
       "<div>\n",
       "<style scoped>\n",
       "    .dataframe tbody tr th:only-of-type {\n",
       "        vertical-align: middle;\n",
       "    }\n",
       "\n",
       "    .dataframe tbody tr th {\n",
       "        vertical-align: top;\n",
       "    }\n",
       "\n",
       "    .dataframe thead th {\n",
       "        text-align: right;\n",
       "    }\n",
       "</style>\n",
       "<table border=\"1\" class=\"dataframe\">\n",
       "  <thead>\n",
       "    <tr style=\"text-align: right;\">\n",
       "      <th></th>\n",
       "      <th>budget</th>\n",
       "      <th>genres</th>\n",
       "      <th>homepage</th>\n",
       "      <th>id</th>\n",
       "      <th>keywords</th>\n",
       "      <th>original_language</th>\n",
       "      <th>original_title</th>\n",
       "      <th>overview</th>\n",
       "      <th>popularity</th>\n",
       "      <th>production_companies</th>\n",
       "      <th>production_countries</th>\n",
       "      <th>release_date</th>\n",
       "      <th>revenue</th>\n",
       "      <th>runtime</th>\n",
       "      <th>spoken_languages</th>\n",
       "      <th>status</th>\n",
       "      <th>tagline</th>\n",
       "      <th>title</th>\n",
       "      <th>vote_average</th>\n",
       "      <th>vote_count</th>\n",
       "    </tr>\n",
       "  </thead>\n",
       "  <tbody>\n",
       "    <tr>\n",
       "      <th>0</th>\n",
       "      <td>237000000</td>\n",
       "      <td>[{\"id\": 28, \"name\": \"Action\"}, {\"id\": 12, \"nam...</td>\n",
       "      <td>http://www.avatarmovie.com/</td>\n",
       "      <td>19995</td>\n",
       "      <td>[{\"id\": 1463, \"name\": \"culture clash\"}, {\"id\":...</td>\n",
       "      <td>en</td>\n",
       "      <td>Avatar</td>\n",
       "      <td>In the 22nd century, a paraplegic Marine is di...</td>\n",
       "      <td>150.437577</td>\n",
       "      <td>[{\"name\": \"Ingenious Film Partners\", \"id\": 289...</td>\n",
       "      <td>[{\"iso_3166_1\": \"US\", \"name\": \"United States o...</td>\n",
       "      <td>2009-12-10</td>\n",
       "      <td>2787965087</td>\n",
       "      <td>162.0</td>\n",
       "      <td>[{\"iso_639_1\": \"en\", \"name\": \"English\"}, {\"iso...</td>\n",
       "      <td>Released</td>\n",
       "      <td>Enter the World of Pandora.</td>\n",
       "      <td>Avatar</td>\n",
       "      <td>7.2</td>\n",
       "      <td>11800</td>\n",
       "    </tr>\n",
       "    <tr>\n",
       "      <th>1</th>\n",
       "      <td>300000000</td>\n",
       "      <td>[{\"id\": 12, \"name\": \"Adventure\"}, {\"id\": 14, \"...</td>\n",
       "      <td>http://disney.go.com/disneypictures/pirates/</td>\n",
       "      <td>285</td>\n",
       "      <td>[{\"id\": 270, \"name\": \"ocean\"}, {\"id\": 726, \"na...</td>\n",
       "      <td>en</td>\n",
       "      <td>Pirates of the Caribbean: At World's End</td>\n",
       "      <td>Captain Barbossa, long believed to be dead, ha...</td>\n",
       "      <td>139.082615</td>\n",
       "      <td>[{\"name\": \"Walt Disney Pictures\", \"id\": 2}, {\"...</td>\n",
       "      <td>[{\"iso_3166_1\": \"US\", \"name\": \"United States o...</td>\n",
       "      <td>2007-05-19</td>\n",
       "      <td>961000000</td>\n",
       "      <td>169.0</td>\n",
       "      <td>[{\"iso_639_1\": \"en\", \"name\": \"English\"}]</td>\n",
       "      <td>Released</td>\n",
       "      <td>At the end of the world, the adventure begins.</td>\n",
       "      <td>Pirates of the Caribbean: At World's End</td>\n",
       "      <td>6.9</td>\n",
       "      <td>4500</td>\n",
       "    </tr>\n",
       "  </tbody>\n",
       "</table>\n",
       "</div>"
      ],
      "text/plain": [
       "      budget                                             genres  \\\n",
       "0  237000000  [{\"id\": 28, \"name\": \"Action\"}, {\"id\": 12, \"nam...   \n",
       "1  300000000  [{\"id\": 12, \"name\": \"Adventure\"}, {\"id\": 14, \"...   \n",
       "\n",
       "                                       homepage     id  \\\n",
       "0                   http://www.avatarmovie.com/  19995   \n",
       "1  http://disney.go.com/disneypictures/pirates/    285   \n",
       "\n",
       "                                            keywords original_language  \\\n",
       "0  [{\"id\": 1463, \"name\": \"culture clash\"}, {\"id\":...                en   \n",
       "1  [{\"id\": 270, \"name\": \"ocean\"}, {\"id\": 726, \"na...                en   \n",
       "\n",
       "                             original_title  \\\n",
       "0                                    Avatar   \n",
       "1  Pirates of the Caribbean: At World's End   \n",
       "\n",
       "                                            overview  popularity  \\\n",
       "0  In the 22nd century, a paraplegic Marine is di...  150.437577   \n",
       "1  Captain Barbossa, long believed to be dead, ha...  139.082615   \n",
       "\n",
       "                                production_companies  \\\n",
       "0  [{\"name\": \"Ingenious Film Partners\", \"id\": 289...   \n",
       "1  [{\"name\": \"Walt Disney Pictures\", \"id\": 2}, {\"...   \n",
       "\n",
       "                                production_countries release_date     revenue  \\\n",
       "0  [{\"iso_3166_1\": \"US\", \"name\": \"United States o...   2009-12-10  2787965087   \n",
       "1  [{\"iso_3166_1\": \"US\", \"name\": \"United States o...   2007-05-19   961000000   \n",
       "\n",
       "   runtime                                   spoken_languages    status  \\\n",
       "0    162.0  [{\"iso_639_1\": \"en\", \"name\": \"English\"}, {\"iso...  Released   \n",
       "1    169.0           [{\"iso_639_1\": \"en\", \"name\": \"English\"}]  Released   \n",
       "\n",
       "                                          tagline  \\\n",
       "0                     Enter the World of Pandora.   \n",
       "1  At the end of the world, the adventure begins.   \n",
       "\n",
       "                                      title  vote_average  vote_count  \n",
       "0                                    Avatar           7.2       11800  \n",
       "1  Pirates of the Caribbean: At World's End           6.9        4500  "
      ]
     },
     "execution_count": 2,
     "metadata": {},
     "output_type": "execute_result"
    }
   ],
   "source": [
    "movies = pd.read_csv('../data/tmdb_5000_movies.csv')\n",
    "print(movies.shape)\n",
    "print(movies.columns)\n",
    "movies.head(2)"
   ]
  },
  {
   "cell_type": "code",
   "execution_count": 4,
   "id": "6c953408",
   "metadata": {
    "ExecuteTime": {
     "end_time": "2022-03-24T01:22:21.776778Z",
     "start_time": "2022-03-24T01:22:21.763775Z"
    }
   },
   "outputs": [
    {
     "data": {
      "text/plain": [
       "'[{\"id\": 12, \"name\": \"Adventure\"}, {\"id\": 14, \"name\": \"Fantasy\"}, {\"id\": 28, \"name\": \"Action\"}]'"
      ]
     },
     "execution_count": 4,
     "metadata": {},
     "output_type": "execute_result"
    }
   ],
   "source": [
    "movies['genres'][1]"
   ]
  },
  {
   "cell_type": "code",
   "execution_count": 5,
   "id": "bd6aab83",
   "metadata": {
    "ExecuteTime": {
     "end_time": "2022-03-24T01:22:22.647785Z",
     "start_time": "2022-03-24T01:22:22.104609Z"
    }
   },
   "outputs": [
    {
     "data": {
      "text/plain": [
       "[{'id': 12, 'name': 'Adventure'},\n",
       " {'id': 14, 'name': 'Fantasy'},\n",
       " {'id': 28, 'name': 'Action'}]"
      ]
     },
     "execution_count": 5,
     "metadata": {},
     "output_type": "execute_result"
    }
   ],
   "source": [
    "# genres 칼럼은 문자열로 표기되어 있으며 문자열을 분해해서 개별 장르를 파이썬 리스트 객체로 추출 필요\n",
    "\n",
    "from ast import literal_eval # 요소를 리스트 형태로 바꿔준다\n",
    "\n",
    "movies_df = movies[['id','title','genres','vote_average','vote_count','popularity','keywords','overview']]\n",
    "\n",
    "movies_df['genres'] = movies_df['genres'].apply(literal_eval)\n",
    "movies_df['keywords'] = movies_df['keywords'].apply(literal_eval)\n",
    "movies_df['genres'][1]"
   ]
  },
  {
   "cell_type": "code",
   "execution_count": 6,
   "id": "b0934a41",
   "metadata": {
    "ExecuteTime": {
     "end_time": "2022-03-24T01:22:23.038559Z",
     "start_time": "2022-03-24T01:22:23.004536Z"
    }
   },
   "outputs": [
    {
     "data": {
      "text/plain": [
       "['Adventure', 'Fantasy', 'Action']"
      ]
     },
     "execution_count": 6,
     "metadata": {},
     "output_type": "execute_result"
    }
   ],
   "source": [
    "movies_df['genres'] = movies_df['genres'].apply(lambda x:[y['name'] for y in x])\n",
    "movies_df['keywords'] = movies_df['keywords'].apply(lambda x:[y['name'] for y in x])\n",
    "movies_df['genres'][1]"
   ]
  },
  {
   "cell_type": "markdown",
   "id": "5c361961",
   "metadata": {},
   "source": [
    "### # 장르 콘텐츠 유사도 측정\n",
    "---\n",
    "- genres를 피처 벡터화 행렬로 변환한 후 데이터 세트를 코사인 유사도를 통해 비교"
   ]
  },
  {
   "cell_type": "code",
   "execution_count": 7,
   "id": "be6fe69a",
   "metadata": {
    "ExecuteTime": {
     "end_time": "2022-03-24T01:22:23.898736Z",
     "start_time": "2022-03-24T01:22:23.842685Z"
    }
   },
   "outputs": [
    {
     "name": "stdout",
     "output_type": "stream",
     "text": [
      "(4803, 276)\n"
     ]
    }
   ],
   "source": [
    "from sklearn.feature_extraction.text import CountVectorizer\n",
    "\n",
    "# 카운트벡트화를 하기 위해 공백문자로 word 단위가 구분되는 문자열로 변환\n",
    "movies_df['genres_literal'] = movies_df['genres'].apply(lambda x: (' ').join(x))\n",
    "count_vect = CountVectorizer(min_df = 0, ngram_range = (1, 2))\n",
    "genre_mat = count_vect.fit_transform(movies_df['genres_literal'])\n",
    "\n",
    "# display(movies_df.head())\n",
    "print(genre_mat.shape)"
   ]
  },
  {
   "cell_type": "code",
   "execution_count": 8,
   "id": "f713ca3d",
   "metadata": {
    "ExecuteTime": {
     "end_time": "2022-03-24T01:22:24.499734Z",
     "start_time": "2022-03-24T01:22:24.308790Z"
    }
   },
   "outputs": [
    {
     "name": "stdout",
     "output_type": "stream",
     "text": [
      "(4803, 4803)\n",
      "[[1.         0.59628479 0.4472136  ... 0.         0.         0.        ]]\n"
     ]
    }
   ],
   "source": [
    "from sklearn.metrics.pairwise import cosine_similarity\n",
    "\n",
    "# 코사인 유사도 측정\n",
    "genre_sim = cosine_similarity(genre_mat, genre_mat)\n",
    "print(genre_sim.shape)\n",
    "# print(genre_sim)\n",
    "print(genre_sim[:1])"
   ]
  },
  {
   "cell_type": "code",
   "execution_count": 9,
   "id": "e1e09e89",
   "metadata": {
    "ExecuteTime": {
     "end_time": "2022-03-24T01:22:25.296218Z",
     "start_time": "2022-03-24T01:22:24.784818Z"
    }
   },
   "outputs": [
    {
     "name": "stdout",
     "output_type": "stream",
     "text": [
      "[[   0 3494  813 ... 3038 3037 2401]]\n"
     ]
    }
   ],
   "source": [
    "# 값이 높은 순으로 정렬된 대상 행의 위치 인덱스 추출\n",
    "\n",
    "genre_sim_sorted_ind = genre_sim.argsort()[:, ::-1]\n",
    "print(genre_sim_sorted_ind[:1])"
   ]
  },
  {
   "cell_type": "markdown",
   "id": "6c8d0ef3",
   "metadata": {},
   "source": [
    "### # 장르 콘텐츠 필터링을 이용한 영화 추천\n",
    "---"
   ]
  },
  {
   "cell_type": "code",
   "execution_count": 10,
   "id": "fa09b3bc",
   "metadata": {
    "ExecuteTime": {
     "end_time": "2022-03-24T01:22:25.718550Z",
     "start_time": "2022-03-24T01:22:25.705539Z"
    }
   },
   "outputs": [],
   "source": [
    "# 장르 유사도에 따라 영화를 추천하는 사용자 함수를 생성\n",
    "\n",
    "def find_sim_movie(df, sorted_ind, title_name, top_n = 10):\n",
    "    title_movie = df[df['title'] == title_name]\n",
    "    \n",
    "    # title_named를 가진 DataFrame의 index 객체를 배열로 반환\n",
    "    # sorted_ind 인자로 입력된 genre_sim_sorted_ind 객체에서 유사도 순으로 top_n개의 index 추출\n",
    "    title_index = title_movie.index.values\n",
    "    similar_indexes = sorted_ind[title_index, :(top_n)]\n",
    "    \n",
    "    # 추출된 top_n index 출력 (top_n index는 2차원 데이터)\n",
    "    # dataframe에서 index로 사용하기 위해서 1차원 array로 변경\n",
    "    print(similar_indexes)\n",
    "    similar_indexes = similar_indexes.reshape(-1)\n",
    "    \n",
    "    return df.iloc[similar_indexes]"
   ]
  },
  {
   "cell_type": "code",
   "execution_count": 11,
   "id": "6b4a9752",
   "metadata": {
    "ExecuteTime": {
     "end_time": "2022-03-24T01:22:26.274776Z",
     "start_time": "2022-03-24T01:22:26.253757Z"
    }
   },
   "outputs": [
    {
     "name": "stdout",
     "output_type": "stream",
     "text": [
      "[[ 545  239 1111 4693  454 1473 4032 4764  502 4003 3427 1275 2865 4787\n",
      "  2743 1786 1422  632 4691  929]]\n"
     ]
    },
    {
     "data": {
      "text/html": [
       "<div>\n",
       "<style scoped>\n",
       "    .dataframe tbody tr th:only-of-type {\n",
       "        vertical-align: middle;\n",
       "    }\n",
       "\n",
       "    .dataframe tbody tr th {\n",
       "        vertical-align: top;\n",
       "    }\n",
       "\n",
       "    .dataframe thead th {\n",
       "        text-align: right;\n",
       "    }\n",
       "</style>\n",
       "<table border=\"1\" class=\"dataframe\">\n",
       "  <thead>\n",
       "    <tr style=\"text-align: right;\">\n",
       "      <th></th>\n",
       "      <th>title</th>\n",
       "      <th>vote_average</th>\n",
       "      <th>vote_count</th>\n",
       "    </tr>\n",
       "  </thead>\n",
       "  <tbody>\n",
       "    <tr>\n",
       "      <th>545</th>\n",
       "      <td>Unbreakable</td>\n",
       "      <td>6.9</td>\n",
       "      <td>1946</td>\n",
       "    </tr>\n",
       "    <tr>\n",
       "      <th>239</th>\n",
       "      <td>Gravity</td>\n",
       "      <td>7.3</td>\n",
       "      <td>5751</td>\n",
       "    </tr>\n",
       "    <tr>\n",
       "      <th>1111</th>\n",
       "      <td>Victor Frankenstein</td>\n",
       "      <td>5.6</td>\n",
       "      <td>685</td>\n",
       "    </tr>\n",
       "    <tr>\n",
       "      <th>4693</th>\n",
       "      <td>H.</td>\n",
       "      <td>6.5</td>\n",
       "      <td>4</td>\n",
       "    </tr>\n",
       "    <tr>\n",
       "      <th>454</th>\n",
       "      <td>The Day the Earth Stood Still</td>\n",
       "      <td>5.2</td>\n",
       "      <td>1043</td>\n",
       "    </tr>\n",
       "    <tr>\n",
       "      <th>1473</th>\n",
       "      <td>The Astronaut's Wife</td>\n",
       "      <td>5.4</td>\n",
       "      <td>254</td>\n",
       "    </tr>\n",
       "    <tr>\n",
       "      <th>4032</th>\n",
       "      <td>Sleep Dealer</td>\n",
       "      <td>6.0</td>\n",
       "      <td>40</td>\n",
       "    </tr>\n",
       "    <tr>\n",
       "      <th>4764</th>\n",
       "      <td>Dawn of the Crescent Moon</td>\n",
       "      <td>2.0</td>\n",
       "      <td>1</td>\n",
       "    </tr>\n",
       "    <tr>\n",
       "      <th>502</th>\n",
       "      <td>The Invasion</td>\n",
       "      <td>5.7</td>\n",
       "      <td>359</td>\n",
       "    </tr>\n",
       "    <tr>\n",
       "      <th>4003</th>\n",
       "      <td>Timecrimes</td>\n",
       "      <td>7.0</td>\n",
       "      <td>308</td>\n",
       "    </tr>\n",
       "    <tr>\n",
       "      <th>3427</th>\n",
       "      <td>The Andromeda Strain</td>\n",
       "      <td>7.0</td>\n",
       "      <td>190</td>\n",
       "    </tr>\n",
       "    <tr>\n",
       "      <th>1275</th>\n",
       "      <td>Sunshine</td>\n",
       "      <td>7.0</td>\n",
       "      <td>1182</td>\n",
       "    </tr>\n",
       "    <tr>\n",
       "      <th>2865</th>\n",
       "      <td>Project Almanac</td>\n",
       "      <td>6.4</td>\n",
       "      <td>933</td>\n",
       "    </tr>\n",
       "    <tr>\n",
       "      <th>4787</th>\n",
       "      <td>All Superheroes Must Die</td>\n",
       "      <td>4.2</td>\n",
       "      <td>13</td>\n",
       "    </tr>\n",
       "    <tr>\n",
       "      <th>2743</th>\n",
       "      <td>The Butterfly Effect</td>\n",
       "      <td>7.3</td>\n",
       "      <td>2060</td>\n",
       "    </tr>\n",
       "    <tr>\n",
       "      <th>1786</th>\n",
       "      <td>Flatliners</td>\n",
       "      <td>6.3</td>\n",
       "      <td>404</td>\n",
       "    </tr>\n",
       "    <tr>\n",
       "      <th>1422</th>\n",
       "      <td>The X Files: I Want to Believe</td>\n",
       "      <td>5.5</td>\n",
       "      <td>523</td>\n",
       "    </tr>\n",
       "    <tr>\n",
       "      <th>632</th>\n",
       "      <td>Dreamcatcher</td>\n",
       "      <td>5.3</td>\n",
       "      <td>567</td>\n",
       "    </tr>\n",
       "    <tr>\n",
       "      <th>4691</th>\n",
       "      <td>Yesterday Was a Lie</td>\n",
       "      <td>6.0</td>\n",
       "      <td>4</td>\n",
       "    </tr>\n",
       "    <tr>\n",
       "      <th>929</th>\n",
       "      <td>Outbreak</td>\n",
       "      <td>6.3</td>\n",
       "      <td>513</td>\n",
       "    </tr>\n",
       "  </tbody>\n",
       "</table>\n",
       "</div>"
      ],
      "text/plain": [
       "                               title  vote_average  vote_count\n",
       "545                      Unbreakable           6.9        1946\n",
       "239                          Gravity           7.3        5751\n",
       "1111             Victor Frankenstein           5.6         685\n",
       "4693                              H.           6.5           4\n",
       "454    The Day the Earth Stood Still           5.2        1043\n",
       "1473            The Astronaut's Wife           5.4         254\n",
       "4032                    Sleep Dealer           6.0          40\n",
       "4764       Dawn of the Crescent Moon           2.0           1\n",
       "502                     The Invasion           5.7         359\n",
       "4003                      Timecrimes           7.0         308\n",
       "3427            The Andromeda Strain           7.0         190\n",
       "1275                        Sunshine           7.0        1182\n",
       "2865                 Project Almanac           6.4         933\n",
       "4787        All Superheroes Must Die           4.2          13\n",
       "2743            The Butterfly Effect           7.3        2060\n",
       "1786                      Flatliners           6.3         404\n",
       "1422  The X Files: I Want to Believe           5.5         523\n",
       "632                     Dreamcatcher           5.3         567\n",
       "4691             Yesterday Was a Lie           6.0           4\n",
       "929                         Outbreak           6.3         513"
      ]
     },
     "execution_count": 11,
     "metadata": {},
     "output_type": "execute_result"
    }
   ],
   "source": [
    "# 사용자 함수를 이용하여 유사한 영화 10개를 추천\n",
    "\n",
    "similar_movies = find_sim_movie(movies_df, genre_sim_sorted_ind, 'Gravity', 20)\n",
    "\n",
    "similar_movies[['title', 'vote_average', 'vote_count']]"
   ]
  },
  {
   "cell_type": "markdown",
   "id": "381d8b57",
   "metadata": {},
   "source": [
    "#### # 평가 횟수를 반영하는 새로운 평가 방식\n",
    "---\n",
    "\n",
    "- 가중평점(weighted raiting) = (v/(v + m)) * R + (m/(v + m)) * C\n",
    "  - v : 개별 영화에 평점을 투표한 횟수 \n",
    "  - m : 평점을 부여하기 위한 최소 투표 횟수\n",
    "  - R : 개별 영화에 대한 평균 평점\n",
    "  - C : 전체 영화에 대한 평균 평점"
   ]
  },
  {
   "cell_type": "code",
   "execution_count": 12,
   "id": "567d9bc9",
   "metadata": {
    "ExecuteTime": {
     "end_time": "2022-03-24T01:22:27.720167Z",
     "start_time": "2022-03-24T01:22:27.712152Z"
    }
   },
   "outputs": [
    {
     "name": "stdout",
     "output_type": "stream",
     "text": [
      "C : 6.092 / m : 370.2\n"
     ]
    }
   ],
   "source": [
    "C = movies_df['vote_average'].mean()\n",
    "m = movies_df['vote_count'].quantile(0.6)\n",
    "\n",
    "print('C :', round(C, 3), '/ m :', round(m, 3))"
   ]
  },
  {
   "cell_type": "code",
   "execution_count": 16,
   "id": "0d7b816e",
   "metadata": {
    "ExecuteTime": {
     "end_time": "2022-03-24T01:22:58.058362Z",
     "start_time": "2022-03-24T01:22:58.042349Z"
    }
   },
   "outputs": [
    {
     "data": {
      "text/plain": [
       "0.1    12.0\n",
       "0.2    36.0\n",
       "Name: vote_count, dtype: float64"
      ]
     },
     "execution_count": 16,
     "metadata": {},
     "output_type": "execute_result"
    }
   ],
   "source": [
    "m = movies_df['vote_count'].quantile([0.1, 0.2])\n",
    "m"
   ]
  },
  {
   "cell_type": "code",
   "execution_count": 278,
   "id": "a08c9386",
   "metadata": {
    "ExecuteTime": {
     "end_time": "2022-03-23T14:24:01.598962Z",
     "start_time": "2022-03-23T14:24:01.520891Z"
    }
   },
   "outputs": [
    {
     "data": {
      "text/html": [
       "<div>\n",
       "<style scoped>\n",
       "    .dataframe tbody tr th:only-of-type {\n",
       "        vertical-align: middle;\n",
       "    }\n",
       "\n",
       "    .dataframe tbody tr th {\n",
       "        vertical-align: top;\n",
       "    }\n",
       "\n",
       "    .dataframe thead th {\n",
       "        text-align: right;\n",
       "    }\n",
       "</style>\n",
       "<table border=\"1\" class=\"dataframe\">\n",
       "  <thead>\n",
       "    <tr style=\"text-align: right;\">\n",
       "      <th></th>\n",
       "      <th>id</th>\n",
       "      <th>title</th>\n",
       "      <th>genres</th>\n",
       "      <th>vote_average</th>\n",
       "      <th>vote_count</th>\n",
       "      <th>popularity</th>\n",
       "      <th>keywords</th>\n",
       "      <th>overview</th>\n",
       "      <th>genres_literal</th>\n",
       "      <th>weighted_vote</th>\n",
       "    </tr>\n",
       "  </thead>\n",
       "  <tbody>\n",
       "    <tr>\n",
       "      <th>0</th>\n",
       "      <td>19995</td>\n",
       "      <td>Avatar</td>\n",
       "      <td>[Action, Adventure, Fantasy, Science Fiction]</td>\n",
       "      <td>7.2</td>\n",
       "      <td>11800</td>\n",
       "      <td>150.437577</td>\n",
       "      <td>[culture clash, future, space war, space colon...</td>\n",
       "      <td>In the 22nd century, a paraplegic Marine is di...</td>\n",
       "      <td>Action Adventure Fantasy Science Fiction</td>\n",
       "      <td>7.166301</td>\n",
       "    </tr>\n",
       "    <tr>\n",
       "      <th>1</th>\n",
       "      <td>285</td>\n",
       "      <td>Pirates of the Caribbean: At World's End</td>\n",
       "      <td>[Adventure, Fantasy, Action]</td>\n",
       "      <td>6.9</td>\n",
       "      <td>4500</td>\n",
       "      <td>139.082615</td>\n",
       "      <td>[ocean, drug abuse, exotic island, east india ...</td>\n",
       "      <td>Captain Barbossa, long believed to be dead, ha...</td>\n",
       "      <td>Adventure Fantasy Action</td>\n",
       "      <td>6.838594</td>\n",
       "    </tr>\n",
       "    <tr>\n",
       "      <th>2</th>\n",
       "      <td>206647</td>\n",
       "      <td>Spectre</td>\n",
       "      <td>[Action, Adventure, Crime]</td>\n",
       "      <td>6.3</td>\n",
       "      <td>4466</td>\n",
       "      <td>107.376788</td>\n",
       "      <td>[spy, based on novel, secret agent, sequel, mi...</td>\n",
       "      <td>A cryptic message from Bond’s past sends him o...</td>\n",
       "      <td>Action Adventure Crime</td>\n",
       "      <td>6.284091</td>\n",
       "    </tr>\n",
       "    <tr>\n",
       "      <th>3</th>\n",
       "      <td>49026</td>\n",
       "      <td>The Dark Knight Rises</td>\n",
       "      <td>[Action, Crime, Drama, Thriller]</td>\n",
       "      <td>7.6</td>\n",
       "      <td>9106</td>\n",
       "      <td>112.312950</td>\n",
       "      <td>[dc comics, crime fighter, terrorist, secret i...</td>\n",
       "      <td>Following the death of District Attorney Harve...</td>\n",
       "      <td>Action Crime Drama Thriller</td>\n",
       "      <td>7.541095</td>\n",
       "    </tr>\n",
       "    <tr>\n",
       "      <th>4</th>\n",
       "      <td>49529</td>\n",
       "      <td>John Carter</td>\n",
       "      <td>[Action, Adventure, Science Fiction]</td>\n",
       "      <td>6.1</td>\n",
       "      <td>2124</td>\n",
       "      <td>43.926995</td>\n",
       "      <td>[based on novel, mars, medallion, space travel...</td>\n",
       "      <td>John Carter is a war-weary, former military ca...</td>\n",
       "      <td>Action Adventure Science Fiction</td>\n",
       "      <td>6.098838</td>\n",
       "    </tr>\n",
       "  </tbody>\n",
       "</table>\n",
       "</div>"
      ],
      "text/plain": [
       "       id                                     title  \\\n",
       "0   19995                                    Avatar   \n",
       "1     285  Pirates of the Caribbean: At World's End   \n",
       "2  206647                                   Spectre   \n",
       "3   49026                     The Dark Knight Rises   \n",
       "4   49529                               John Carter   \n",
       "\n",
       "                                          genres  vote_average  vote_count  \\\n",
       "0  [Action, Adventure, Fantasy, Science Fiction]           7.2       11800   \n",
       "1                   [Adventure, Fantasy, Action]           6.9        4500   \n",
       "2                     [Action, Adventure, Crime]           6.3        4466   \n",
       "3               [Action, Crime, Drama, Thriller]           7.6        9106   \n",
       "4           [Action, Adventure, Science Fiction]           6.1        2124   \n",
       "\n",
       "   popularity                                           keywords  \\\n",
       "0  150.437577  [culture clash, future, space war, space colon...   \n",
       "1  139.082615  [ocean, drug abuse, exotic island, east india ...   \n",
       "2  107.376788  [spy, based on novel, secret agent, sequel, mi...   \n",
       "3  112.312950  [dc comics, crime fighter, terrorist, secret i...   \n",
       "4   43.926995  [based on novel, mars, medallion, space travel...   \n",
       "\n",
       "                                            overview  \\\n",
       "0  In the 22nd century, a paraplegic Marine is di...   \n",
       "1  Captain Barbossa, long believed to be dead, ha...   \n",
       "2  A cryptic message from Bond’s past sends him o...   \n",
       "3  Following the death of District Attorney Harve...   \n",
       "4  John Carter is a war-weary, former military ca...   \n",
       "\n",
       "                             genres_literal  weighted_vote  \n",
       "0  Action Adventure Fantasy Science Fiction       7.166301  \n",
       "1                  Adventure Fantasy Action       6.838594  \n",
       "2                    Action Adventure Crime       6.284091  \n",
       "3               Action Crime Drama Thriller       7.541095  \n",
       "4          Action Adventure Science Fiction       6.098838  "
      ]
     },
     "execution_count": 278,
     "metadata": {},
     "output_type": "execute_result"
    }
   ],
   "source": [
    "# 가중 평점으로 변경하는 사용자 함수\n",
    "\n",
    "def weighted_vote_average(record):\n",
    "    v = record['vote_count']\n",
    "    R = record['vote_average']\n",
    "    \n",
    "    return ((v/(v+m)) * R) + ((m/(m+v)) * C)\n",
    "\n",
    "movies_df['weighted_vote'] = movies_df.apply(weighted_vote_average, axis = 1)\n",
    "movies_df.head()"
   ]
  },
  {
   "cell_type": "code",
   "execution_count": 301,
   "id": "164137d9",
   "metadata": {
    "ExecuteTime": {
     "end_time": "2022-03-23T14:33:29.576260Z",
     "start_time": "2022-03-23T14:33:29.571256Z"
    }
   },
   "outputs": [],
   "source": [
    "# 가중 평가를 반영한 장르 유사도에 따라 영화를 추천하는 사용자 함수를 생성\n",
    "\n",
    "def new_find_sim_movie(df, sorted_ind, title_name, top_n = 10):\n",
    "    title_movie = df[df['title'] == title_name]\n",
    "    \n",
    "    # title_named를 가진 DataFrame의 index 객체를 배열로 반환\n",
    "    title_index = title_movie.index.values\n",
    "    \n",
    "    # sorted_ind 인자로 입력된 genre_sim_sorted_ind 객체에서 유사도 순으로 top_n개의 index 추출\n",
    "    # top_n의 2배에 해당하는 장르 유사성이 높은 인덱스 추출\n",
    "    similar_indexes = sorted_ind[title_index, :(top_n*2)]\n",
    "    \n",
    "    # dataframe에서 index로 사용하기 위해서 1차원 array로 변경\n",
    "    similar_indexes = similar_indexes.reshape(-1)\n",
    "    \n",
    "    # 기준영화 인덱스는 제외\n",
    "    similar_indexes = similar_indexes[similar_indexes != title_index]\n",
    "    \n",
    "    # top_n의 2배에 해당하는 후보군에서 weighted_vote가 높은 순으로 top_n만큼 추출\n",
    "    return df.iloc[similar_indexes].sort_values('weighted_vote', ascending = False)[:top_n]"
   ]
  },
  {
   "cell_type": "code",
   "execution_count": 297,
   "id": "6c9e4e22",
   "metadata": {
    "ExecuteTime": {
     "end_time": "2022-03-23T14:33:09.554872Z",
     "start_time": "2022-03-23T14:33:09.549873Z"
    }
   },
   "outputs": [
    {
     "data": {
      "text/plain": [
       "Int64Index([239], dtype='int64')"
      ]
     },
     "execution_count": 297,
     "metadata": {},
     "output_type": "execute_result"
    }
   ],
   "source": [
    "movies_df[movies_df['title'] == 'Gravity'].index"
   ]
  },
  {
   "cell_type": "code",
   "execution_count": 308,
   "id": "89de4150",
   "metadata": {
    "ExecuteTime": {
     "end_time": "2022-03-23T14:34:27.232471Z",
     "start_time": "2022-03-23T14:34:27.221469Z"
    }
   },
   "outputs": [
    {
     "data": {
      "text/html": [
       "<div>\n",
       "<style scoped>\n",
       "    .dataframe tbody tr th:only-of-type {\n",
       "        vertical-align: middle;\n",
       "    }\n",
       "\n",
       "    .dataframe tbody tr th {\n",
       "        vertical-align: top;\n",
       "    }\n",
       "\n",
       "    .dataframe thead th {\n",
       "        text-align: right;\n",
       "    }\n",
       "</style>\n",
       "<table border=\"1\" class=\"dataframe\">\n",
       "  <thead>\n",
       "    <tr style=\"text-align: right;\">\n",
       "      <th></th>\n",
       "      <th>title</th>\n",
       "      <th>vote_average</th>\n",
       "      <th>weighted_vote</th>\n",
       "      <th>vote_count</th>\n",
       "    </tr>\n",
       "  </thead>\n",
       "  <tbody>\n",
       "    <tr>\n",
       "      <th>1725</th>\n",
       "      <td>Blade Runner</td>\n",
       "      <td>7.9</td>\n",
       "      <td>7.727475</td>\n",
       "      <td>3509</td>\n",
       "    </tr>\n",
       "    <tr>\n",
       "      <th>2743</th>\n",
       "      <td>The Butterfly Effect</td>\n",
       "      <td>7.3</td>\n",
       "      <td>7.116008</td>\n",
       "      <td>2060</td>\n",
       "    </tr>\n",
       "    <tr>\n",
       "      <th>1275</th>\n",
       "      <td>Sunshine</td>\n",
       "      <td>7.0</td>\n",
       "      <td>6.783483</td>\n",
       "      <td>1182</td>\n",
       "    </tr>\n",
       "    <tr>\n",
       "      <th>545</th>\n",
       "      <td>Unbreakable</td>\n",
       "      <td>6.9</td>\n",
       "      <td>6.770884</td>\n",
       "      <td>1946</td>\n",
       "    </tr>\n",
       "    <tr>\n",
       "      <th>2253</th>\n",
       "      <td>Equilibrium</td>\n",
       "      <td>6.9</td>\n",
       "      <td>6.744419</td>\n",
       "      <td>1552</td>\n",
       "    </tr>\n",
       "    <tr>\n",
       "      <th>3556</th>\n",
       "      <td>10 Cloverfield Lane</td>\n",
       "      <td>6.8</td>\n",
       "      <td>6.707675</td>\n",
       "      <td>2468</td>\n",
       "    </tr>\n",
       "    <tr>\n",
       "      <th>1535</th>\n",
       "      <td>Frequency</td>\n",
       "      <td>7.0</td>\n",
       "      <td>6.596157</td>\n",
       "      <td>462</td>\n",
       "    </tr>\n",
       "    <tr>\n",
       "      <th>4003</th>\n",
       "      <td>Timecrimes</td>\n",
       "      <td>7.0</td>\n",
       "      <td>6.504456</td>\n",
       "      <td>308</td>\n",
       "    </tr>\n",
       "    <tr>\n",
       "      <th>900</th>\n",
       "      <td>The Adjustment Bureau</td>\n",
       "      <td>6.5</td>\n",
       "      <td>6.425340</td>\n",
       "      <td>1652</td>\n",
       "    </tr>\n",
       "    <tr>\n",
       "      <th>3427</th>\n",
       "      <td>The Andromeda Strain</td>\n",
       "      <td>7.0</td>\n",
       "      <td>6.400075</td>\n",
       "      <td>190</td>\n",
       "    </tr>\n",
       "    <tr>\n",
       "      <th>2865</th>\n",
       "      <td>Project Almanac</td>\n",
       "      <td>6.4</td>\n",
       "      <td>6.312555</td>\n",
       "      <td>933</td>\n",
       "    </tr>\n",
       "    <tr>\n",
       "      <th>1938</th>\n",
       "      <td>Blindness</td>\n",
       "      <td>6.4</td>\n",
       "      <td>6.249501</td>\n",
       "      <td>387</td>\n",
       "    </tr>\n",
       "    <tr>\n",
       "      <th>929</th>\n",
       "      <td>Outbreak</td>\n",
       "      <td>6.3</td>\n",
       "      <td>6.212887</td>\n",
       "      <td>513</td>\n",
       "    </tr>\n",
       "    <tr>\n",
       "      <th>1786</th>\n",
       "      <td>Flatliners</td>\n",
       "      <td>6.3</td>\n",
       "      <td>6.200622</td>\n",
       "      <td>404</td>\n",
       "    </tr>\n",
       "    <tr>\n",
       "      <th>249</th>\n",
       "      <td>Insurgent</td>\n",
       "      <td>6.2</td>\n",
       "      <td>6.190494</td>\n",
       "      <td>3829</td>\n",
       "    </tr>\n",
       "    <tr>\n",
       "      <th>720</th>\n",
       "      <td>Contagion</td>\n",
       "      <td>6.2</td>\n",
       "      <td>6.176452</td>\n",
       "      <td>1325</td>\n",
       "    </tr>\n",
       "    <tr>\n",
       "      <th>4555</th>\n",
       "      <td>Enter Nowhere</td>\n",
       "      <td>6.5</td>\n",
       "      <td>6.139842</td>\n",
       "      <td>49</td>\n",
       "    </tr>\n",
       "    <tr>\n",
       "      <th>3323</th>\n",
       "      <td>Code 46</td>\n",
       "      <td>6.2</td>\n",
       "      <td>6.117898</td>\n",
       "      <td>116</td>\n",
       "    </tr>\n",
       "    <tr>\n",
       "      <th>4693</th>\n",
       "      <td>H.</td>\n",
       "      <td>6.5</td>\n",
       "      <td>6.096531</td>\n",
       "      <td>4</td>\n",
       "    </tr>\n",
       "    <tr>\n",
       "      <th>1272</th>\n",
       "      <td>Impostor</td>\n",
       "      <td>6.1</td>\n",
       "      <td>6.094263</td>\n",
       "      <td>135</td>\n",
       "    </tr>\n",
       "  </tbody>\n",
       "</table>\n",
       "</div>"
      ],
      "text/plain": [
       "                      title  vote_average  weighted_vote  vote_count\n",
       "1725           Blade Runner           7.9       7.727475        3509\n",
       "2743   The Butterfly Effect           7.3       7.116008        2060\n",
       "1275               Sunshine           7.0       6.783483        1182\n",
       "545             Unbreakable           6.9       6.770884        1946\n",
       "2253            Equilibrium           6.9       6.744419        1552\n",
       "3556    10 Cloverfield Lane           6.8       6.707675        2468\n",
       "1535              Frequency           7.0       6.596157         462\n",
       "4003             Timecrimes           7.0       6.504456         308\n",
       "900   The Adjustment Bureau           6.5       6.425340        1652\n",
       "3427   The Andromeda Strain           7.0       6.400075         190\n",
       "2865        Project Almanac           6.4       6.312555         933\n",
       "1938              Blindness           6.4       6.249501         387\n",
       "929                Outbreak           6.3       6.212887         513\n",
       "1786             Flatliners           6.3       6.200622         404\n",
       "249               Insurgent           6.2       6.190494        3829\n",
       "720               Contagion           6.2       6.176452        1325\n",
       "4555          Enter Nowhere           6.5       6.139842          49\n",
       "3323                Code 46           6.2       6.117898         116\n",
       "4693                     H.           6.5       6.096531           4\n",
       "1272               Impostor           6.1       6.094263         135"
      ]
     },
     "execution_count": 308,
     "metadata": {},
     "output_type": "execute_result"
    }
   ],
   "source": [
    "new_similar_movies = new_find_sim_movie(movies_df, genre_sim_sorted_ind, 'Gravity', 20)\n",
    "new_similar_movies[['title', 'vote_average', 'weighted_vote', 'vote_count']]"
   ]
  },
  {
   "cell_type": "code",
   "execution_count": null,
   "id": "6296b934",
   "metadata": {},
   "outputs": [],
   "source": []
  },
  {
   "cell_type": "code",
   "execution_count": null,
   "id": "892670eb",
   "metadata": {},
   "outputs": [],
   "source": []
  },
  {
   "cell_type": "code",
   "execution_count": 177,
   "id": "a8fb6cbb",
   "metadata": {
    "ExecuteTime": {
     "end_time": "2022-03-23T13:39:36.677989Z",
     "start_time": "2022-03-23T13:39:36.669990Z"
    }
   },
   "outputs": [
    {
     "data": {
      "text/plain": [
       "array([[2, 1, 0],\n",
       "       [5, 4, 3],\n",
       "       [8, 7, 6]])"
      ]
     },
     "execution_count": 177,
     "metadata": {},
     "output_type": "execute_result"
    }
   ],
   "source": [
    "np.array(np.arange(9)).reshape(3, -1)[:, :-4:-1]"
   ]
  }
 ],
 "metadata": {
  "hide_input": false,
  "kernelspec": {
   "display_name": "Python 3 (ipykernel)",
   "language": "python",
   "name": "python3"
  },
  "language_info": {
   "codemirror_mode": {
    "name": "ipython",
    "version": 3
   },
   "file_extension": ".py",
   "mimetype": "text/x-python",
   "name": "python",
   "nbconvert_exporter": "python",
   "pygments_lexer": "ipython3",
   "version": "3.8.12"
  },
  "toc": {
   "base_numbering": 1,
   "nav_menu": {},
   "number_sections": false,
   "sideBar": true,
   "skip_h1_title": false,
   "title_cell": "Table of Contents",
   "title_sidebar": "Contents",
   "toc_cell": false,
   "toc_position": {
    "height": "1187px",
    "left": "102px",
    "top": "88px",
    "width": "344px"
   },
   "toc_section_display": true,
   "toc_window_display": false
  },
  "varInspector": {
   "cols": {
    "lenName": 16,
    "lenType": 16,
    "lenVar": 40
   },
   "kernels_config": {
    "python": {
     "delete_cmd_postfix": "",
     "delete_cmd_prefix": "del ",
     "library": "var_list.py",
     "varRefreshCmd": "print(var_dic_list())"
    },
    "r": {
     "delete_cmd_postfix": ") ",
     "delete_cmd_prefix": "rm(",
     "library": "var_list.r",
     "varRefreshCmd": "cat(var_dic_list()) "
    }
   },
   "types_to_exclude": [
    "module",
    "function",
    "builtin_function_or_method",
    "instance",
    "_Feature"
   ],
   "window_display": false
  }
 },
 "nbformat": 4,
 "nbformat_minor": 5
}
