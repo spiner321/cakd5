{
 "cells": [
  {
   "cell_type": "code",
   "execution_count": 81,
   "id": "7839d6f8",
   "metadata": {
    "ExecuteTime": {
     "end_time": "2022-03-27T17:25:40.405010Z",
     "start_time": "2022-03-27T17:25:40.397011Z"
    }
   },
   "outputs": [],
   "source": [
    "import surprise\n",
    "import pandas as pd\n",
    "from surprise import SVD\n",
    "from surprise import Dataset\n",
    "from surprise import accuracy\n",
    "from surprise import Reader, Dataset\n",
    "from surprise.model_selection import train_test_split, cross_validate, GridSearchCV\n",
    "from surprise.dataset import DatasetAutoFolds"
   ]
  },
  {
   "cell_type": "markdown",
   "id": "66e3be1c",
   "metadata": {},
   "source": [
    "# [3월 25일]\n",
    "---"
   ]
  },
  {
   "cell_type": "code",
   "execution_count": 23,
   "id": "7d5f10ab",
   "metadata": {
    "ExecuteTime": {
     "end_time": "2022-03-27T16:40:24.869511Z",
     "start_time": "2022-03-27T16:40:23.003547Z"
    }
   },
   "outputs": [
    {
     "name": "stdout",
     "output_type": "stream",
     "text": [
      "Requirement already satisfied: scikit-surprise in c:\\users\\spiner\\anaconda3\\envs\\cakd5\\lib\\site-packages (1.1.1)\n",
      "Requirement already satisfied: scipy>=1.0.0 in c:\\users\\spiner\\anaconda3\\envs\\cakd5\\lib\\site-packages (from scikit-surprise) (1.7.3)\n",
      "Requirement already satisfied: numpy>=1.11.2 in c:\\users\\spiner\\anaconda3\\envs\\cakd5\\lib\\site-packages (from scikit-surprise) (1.21.2)\n",
      "Requirement already satisfied: joblib>=0.11 in c:\\users\\spiner\\anaconda3\\envs\\cakd5\\lib\\site-packages (from scikit-surprise) (1.1.0)\n",
      "Requirement already satisfied: six>=1.10.0 in c:\\users\\spiner\\anaconda3\\envs\\cakd5\\lib\\site-packages (from scikit-surprise) (1.16.0)\n"
     ]
    }
   ],
   "source": [
    "!pip install scikit-surprise"
   ]
  },
  {
   "cell_type": "code",
   "execution_count": 24,
   "id": "9d78c64a",
   "metadata": {
    "ExecuteTime": {
     "end_time": "2022-03-27T16:40:25.169785Z",
     "start_time": "2022-03-27T16:40:25.156772Z"
    }
   },
   "outputs": [
    {
     "name": "stdout",
     "output_type": "stream",
     "text": [
      "1.1.1\n"
     ]
    }
   ],
   "source": [
    "import surprise\n",
    "\n",
    "print(surprise.__version__)"
   ]
  },
  {
   "cell_type": "markdown",
   "id": "91bdc89f",
   "metadata": {},
   "source": [
    "## # Surprise를 이용한 추천 시스템 구축\n",
    "---"
   ]
  },
  {
   "cell_type": "code",
   "execution_count": 25,
   "id": "092a41e8",
   "metadata": {
    "ExecuteTime": {
     "end_time": "2022-03-27T16:40:25.815373Z",
     "start_time": "2022-03-27T16:40:25.441031Z"
    }
   },
   "outputs": [
    {
     "data": {
      "text/plain": [
       "[('196', '242', 3.0, '881250949'),\n",
       " ('186', '302', 3.0, '891717742'),\n",
       " ('22', '377', 1.0, '878887116'),\n",
       " ('244', '51', 2.0, '880606923'),\n",
       " ('166', '346', 1.0, '886397596'),\n",
       " ('298', '474', 4.0, '884182806'),\n",
       " ('115', '265', 2.0, '881171488'),\n",
       " ('253', '465', 5.0, '891628467'),\n",
       " ('305', '451', 3.0, '886324817'),\n",
       " ('6', '86', 3.0, '883603013')]"
      ]
     },
     "execution_count": 25,
     "metadata": {},
     "output_type": "execute_result"
    }
   ],
   "source": [
    "from surprise.model_selection import train_test_split\n",
    "\n",
    "data = Dataset.load_builtin('ml-100k')\n",
    "trainset, testset = train_test_split(data, test_size = .25, random_state = 0)\n",
    "\n",
    "data.raw_ratings[:10]"
   ]
  },
  {
   "cell_type": "code",
   "execution_count": 26,
   "id": "98e399dd",
   "metadata": {
    "ExecuteTime": {
     "end_time": "2022-03-27T16:40:30.983945Z",
     "start_time": "2022-03-27T16:40:27.330532Z"
    }
   },
   "outputs": [
    {
     "name": "stdout",
     "output_type": "stream",
     "text": [
      "25000 \n",
      "\n"
     ]
    },
    {
     "data": {
      "text/plain": [
       "[Prediction(uid='120', iid='282', r_ui=4.0, est=3.8184830418476996, details={'was_impossible': False}),\n",
       " Prediction(uid='882', iid='291', r_ui=4.0, est=3.89371428618134, details={'was_impossible': False}),\n",
       " Prediction(uid='535', iid='507', r_ui=5.0, est=3.912179898864074, details={'was_impossible': False}),\n",
       " Prediction(uid='697', iid='244', r_ui=5.0, est=3.774397217855276, details={'was_impossible': False}),\n",
       " Prediction(uid='751', iid='385', r_ui=4.0, est=3.569851712553813, details={'was_impossible': False})]"
      ]
     },
     "metadata": {},
     "output_type": "display_data"
    },
    {
     "data": {
      "text/plain": [
       "[('120', '282', 3.8184830418476996),\n",
       " ('882', '291', 3.89371428618134),\n",
       " ('535', '507', 3.912179898864074),\n",
       " ('697', '244', 3.774397217855276),\n",
       " ('751', '385', 3.569851712553813)]"
      ]
     },
     "execution_count": 26,
     "metadata": {},
     "output_type": "execute_result"
    }
   ],
   "source": [
    "# SVD 알고리즘을 이용하여 추천 알고리즘을 학습\n",
    "svd = SVD()\n",
    "svd.fit(trainset)\n",
    "\n",
    "# 사용자 id, 아이템 id, 예측 평점\n",
    "predictions = svd.test(testset)\n",
    "\n",
    "# 데이터 세트의 크기\n",
    "print(len(predictions), '\\n')\n",
    "\n",
    "# prediction 결과의 최초 5개 추출\n",
    "display(predictions[:5])\n",
    "\n",
    "[(pred.uid, pred.iid, pred.est) for pred in predictions[:5]]"
   ]
  },
  {
   "cell_type": "code",
   "execution_count": 27,
   "id": "5204fcb2",
   "metadata": {
    "ExecuteTime": {
     "end_time": "2022-03-27T16:40:33.852324Z",
     "start_time": "2022-03-27T16:40:33.840313Z"
    }
   },
   "outputs": [
    {
     "data": {
      "text/plain": [
       "Prediction(uid='196', iid='302', r_ui=None, est=4.205157551625154, details={'was_impossible': False})"
      ]
     },
     "execution_count": 27,
     "metadata": {},
     "output_type": "execute_result"
    }
   ],
   "source": [
    "# 개별 사용자, 아이템의 예측 점수 불러오기\n",
    "\n",
    "# 사용자 아이디, 아이템 아이디는 문자열로 입력\n",
    "uid = str(196)\n",
    "iid = str(302)\n",
    "pred = svd.predict(uid, iid)\n",
    "pred"
   ]
  },
  {
   "cell_type": "code",
   "execution_count": 28,
   "id": "9c26bd80",
   "metadata": {
    "ExecuteTime": {
     "end_time": "2022-03-27T16:40:35.009302Z",
     "start_time": "2022-03-27T16:40:34.978274Z"
    }
   },
   "outputs": [
    {
     "name": "stdout",
     "output_type": "stream",
     "text": [
      "RMSE: 0.9474\n"
     ]
    },
    {
     "data": {
      "text/plain": [
       "0.9474275142444519"
      ]
     },
     "execution_count": 28,
     "metadata": {},
     "output_type": "execute_result"
    }
   ],
   "source": [
    "# rmse 평가\n",
    "\n",
    "from surprise import accuracy\n",
    "\n",
    "accuracy.rmse(predictions)"
   ]
  },
  {
   "cell_type": "markdown",
   "id": "5d60e1c3",
   "metadata": {},
   "source": [
    "## # Surprise 주요 모듈\n",
    "---"
   ]
  },
  {
   "cell_type": "markdown",
   "id": "7b0d8f94",
   "metadata": {},
   "source": [
    "### # OS 파일 데이터를 Surprise 데이터 세트로 로딩\n",
    "---"
   ]
  },
  {
   "cell_type": "code",
   "execution_count": 51,
   "id": "349a7fb9",
   "metadata": {
    "ExecuteTime": {
     "end_time": "2022-03-27T16:56:21.326506Z",
     "start_time": "2022-03-27T16:56:21.106306Z"
    }
   },
   "outputs": [],
   "source": [
    "import pandas as pd\n",
    "\n",
    "ratings = pd.read_csv('../data/ml-latest-small/ratings.csv')\n",
    "\n",
    "# ratings_noh.csv 파일로 언로드 시 인덱스와 헤더를 모두 제거한 새로운 파일 생성\n",
    "ratings.to_csv('../data/ml-latest-small/ratings_noh.csv', index = False, header = False)"
   ]
  },
  {
   "cell_type": "code",
   "execution_count": 82,
   "id": "6b95a954",
   "metadata": {
    "ExecuteTime": {
     "end_time": "2022-03-27T17:26:11.545661Z",
     "start_time": "2022-03-27T17:26:08.799173Z"
    }
   },
   "outputs": [
    {
     "name": "stdout",
     "output_type": "stream",
     "text": [
      "RMSE: 0.8682\n"
     ]
    },
    {
     "data": {
      "text/plain": [
       "0.8681952927143516"
      ]
     },
     "execution_count": 82,
     "metadata": {},
     "output_type": "execute_result"
    }
   ],
   "source": [
    "from surprise import Reader\n",
    "\n",
    "# rating_scale = (평점의 단위, 최대 평점)\n",
    "reader = Reader(line_format = 'user item rating timestamp', sep = ',', rating_scale = (0.5, 5))\n",
    "data = Dataset.load_from_file('../data/ml-latest-small/ratings_noh.csv', reader = reader)\n",
    "\n",
    "# SVD행렬 분해 기법을 이용해 추천\n",
    "trainset, testset = train_test_split(data, test_size = 0.25, random_state = 0)\n",
    "svd = SVD(n_factors = 50, random_state = 0)\n",
    "\n",
    "svd.fit(trainset)\n",
    "pred = svd.test(testset)\n",
    "accuracy.rmse(pred)"
   ]
  },
  {
   "cell_type": "markdown",
   "id": "17fb2e47",
   "metadata": {},
   "source": [
    "### # 판다스 DataFrame에서 Surprise 데이터 세트로 로딩\n",
    "---"
   ]
  },
  {
   "cell_type": "code",
   "execution_count": 61,
   "id": "9cc627af",
   "metadata": {
    "ExecuteTime": {
     "end_time": "2022-03-27T16:59:28.468314Z",
     "start_time": "2022-03-27T16:59:28.428278Z"
    }
   },
   "outputs": [
    {
     "data": {
      "text/html": [
       "<div>\n",
       "<style scoped>\n",
       "    .dataframe tbody tr th:only-of-type {\n",
       "        vertical-align: middle;\n",
       "    }\n",
       "\n",
       "    .dataframe tbody tr th {\n",
       "        vertical-align: top;\n",
       "    }\n",
       "\n",
       "    .dataframe thead th {\n",
       "        text-align: right;\n",
       "    }\n",
       "</style>\n",
       "<table border=\"1\" class=\"dataframe\">\n",
       "  <thead>\n",
       "    <tr style=\"text-align: right;\">\n",
       "      <th></th>\n",
       "      <th>userId</th>\n",
       "      <th>movieId</th>\n",
       "      <th>rating</th>\n",
       "      <th>timestamp</th>\n",
       "    </tr>\n",
       "  </thead>\n",
       "  <tbody>\n",
       "    <tr>\n",
       "      <th>0</th>\n",
       "      <td>1</td>\n",
       "      <td>1</td>\n",
       "      <td>4.0</td>\n",
       "      <td>964982703</td>\n",
       "    </tr>\n",
       "    <tr>\n",
       "      <th>1</th>\n",
       "      <td>1</td>\n",
       "      <td>3</td>\n",
       "      <td>4.0</td>\n",
       "      <td>964981247</td>\n",
       "    </tr>\n",
       "    <tr>\n",
       "      <th>2</th>\n",
       "      <td>1</td>\n",
       "      <td>6</td>\n",
       "      <td>4.0</td>\n",
       "      <td>964982224</td>\n",
       "    </tr>\n",
       "    <tr>\n",
       "      <th>3</th>\n",
       "      <td>1</td>\n",
       "      <td>47</td>\n",
       "      <td>5.0</td>\n",
       "      <td>964983815</td>\n",
       "    </tr>\n",
       "    <tr>\n",
       "      <th>4</th>\n",
       "      <td>1</td>\n",
       "      <td>50</td>\n",
       "      <td>5.0</td>\n",
       "      <td>964982931</td>\n",
       "    </tr>\n",
       "  </tbody>\n",
       "</table>\n",
       "</div>"
      ],
      "text/plain": [
       "   userId  movieId  rating  timestamp\n",
       "0       1        1     4.0  964982703\n",
       "1       1        3     4.0  964981247\n",
       "2       1        6     4.0  964982224\n",
       "3       1       47     5.0  964983815\n",
       "4       1       50     5.0  964982931"
      ]
     },
     "execution_count": 61,
     "metadata": {},
     "output_type": "execute_result"
    }
   ],
   "source": [
    "ratings = pd.read_csv('../data/ml-latest-small/ratings.csv')\n",
    "ratings.head()"
   ]
  },
  {
   "cell_type": "code",
   "execution_count": 62,
   "id": "26b6e6e3",
   "metadata": {
    "ExecuteTime": {
     "end_time": "2022-03-27T17:00:17.458961Z",
     "start_time": "2022-03-27T17:00:14.803560Z"
    }
   },
   "outputs": [
    {
     "name": "stdout",
     "output_type": "stream",
     "text": [
      "RMSE: 0.8682\n"
     ]
    },
    {
     "data": {
      "text/plain": [
       "0.8681952927143516"
      ]
     },
     "execution_count": 62,
     "metadata": {},
     "output_type": "execute_result"
    }
   ],
   "source": [
    "from surprise import Reader, Dataset\n",
    "\n",
    "reader = Reader(rating_scale = (0.5, 5.0))\n",
    "\n",
    "# ratings DataFrame에서 칼럼은 사용자 아읻, 아이템 아이디, 평점 순서를 지켜야 한다\n",
    "data = Dataset.load_from_df(ratings[['userId', 'movieId', 'rating']], reader)\n",
    "trainset, testset = train_test_split(data, test_size = 0.25, random_state = 0)\n",
    "\n",
    "svd = SVD(n_factors = 50, random_state = 0)\n",
    "svd.fit(trainset)\n",
    "pred = svd.test(testset)\n",
    "accuracy.rmse(pred)"
   ]
  },
  {
   "cell_type": "markdown",
   "id": "016de3d6",
   "metadata": {},
   "source": [
    "## # Surprise 추천 알고리즘 클래스\n",
    "---"
   ]
  },
  {
   "cell_type": "markdown",
   "id": "3c02b1ce",
   "metadata": {},
   "source": [
    "## # 베이스 라인 평점\n",
    "---"
   ]
  },
  {
   "cell_type": "markdown",
   "id": "9e6bde50",
   "metadata": {},
   "source": [
    "## # 교차 검증과 하이퍼 파라미터 튜닝\n",
    "---"
   ]
  },
  {
   "cell_type": "code",
   "execution_count": 76,
   "id": "d304e1f2",
   "metadata": {
    "ExecuteTime": {
     "end_time": "2022-03-27T17:20:59.515237Z",
     "start_time": "2022-03-27T17:20:39.647205Z"
    }
   },
   "outputs": [
    {
     "name": "stdout",
     "output_type": "stream",
     "text": [
      "Evaluating RMSE, MAE of algorithm SVD on 5 split(s).\n",
      "\n",
      "                  Fold 1  Fold 2  Fold 3  Fold 4  Fold 5  Mean    Std     \n",
      "RMSE (testset)    0.8633  0.8745  0.8768  0.8746  0.8782  0.8735  0.0053  \n",
      "MAE (testset)     0.6636  0.6706  0.6728  0.6724  0.6765  0.6712  0.0043  \n",
      "Fit time          3.65    3.73    3.74    3.60    3.74    3.69    0.06    \n",
      "Test time         0.11    0.19    0.11    0.19    0.11    0.14    0.04    \n"
     ]
    },
    {
     "data": {
      "text/plain": [
       "{'test_rmse': array([0.86331571, 0.87447316, 0.87683591, 0.8746315 , 0.87815101]),\n",
       " 'test_mae': array([0.66355743, 0.67057289, 0.67275344, 0.67244529, 0.67650882]),\n",
       " 'fit_time': (3.650317430496216,\n",
       "  3.730381965637207,\n",
       "  3.7393901348114014,\n",
       "  3.6042754650115967,\n",
       "  3.7373969554901123),\n",
       " 'test_time': (0.11310267448425293,\n",
       "  0.19018101692199707,\n",
       "  0.11411190032958984,\n",
       "  0.19316744804382324,\n",
       "  0.11409497261047363)}"
      ]
     },
     "execution_count": 76,
     "metadata": {},
     "output_type": "execute_result"
    }
   ],
   "source": [
    "# 교차 검증\n",
    "\n",
    "from surprise.model_selection import cross_validate\n",
    "\n",
    "reader = Reader(rating_scale = (0.5, 5.0))\n",
    "data = Dataset.load_from_df(ratings[['userId', 'movieId', 'rating']], reader)\n",
    "\n",
    "svd = SVD(random_state = 0)\n",
    "cross_validate(svd, data, measures = ['rmse', 'mae'], cv = 5, verbose = True)"
   ]
  },
  {
   "cell_type": "code",
   "execution_count": 73,
   "id": "05a31ecc",
   "metadata": {
    "ExecuteTime": {
     "end_time": "2022-03-27T17:19:35.259607Z",
     "start_time": "2022-03-27T17:16:25.618235Z"
    }
   },
   "outputs": [
    {
     "name": "stdout",
     "output_type": "stream",
     "text": [
      "0.8770543286483549\n",
      "{'n_epochs': 20, 'n_factors': 50}\n",
      "0.8770543286483549\n",
      "{'n_epochs': 20, 'n_factors': 50}\n"
     ]
    }
   ],
   "source": [
    "# 하이퍼 파라미터 튜닝\n",
    "\n",
    "from surprise.model_selection import GridSearchCV\n",
    "\n",
    "# 최적화할 파라미터를 딕셔너리 형태로 지정\n",
    "param_grid = {'n_epochs': [20, 40, 60], 'n_factors': [50, 100, 200]}\n",
    "\n",
    "# GridSearchCV 구성\n",
    "gs = GridSearchCV(SVD, param_grid, measures = ['RMSE', 'MAE'], cv = 3)\n",
    "gs.fit(data)\n",
    "\n",
    "# 최고 RMSE 점수와 그때의 하이퍼 파라미터\n",
    "print(gs.best_score['rmse'])\n",
    "print(gs.best_params['rmse'], '\\n')\n",
    "\n",
    "# 최고 mae 점수와 그때의 하이퍼 파라미터\n",
    "print(gs.best_score['mae'])\n",
    "print(gs.best_params['mae'])"
   ]
  },
  {
   "cell_type": "markdown",
   "id": "825aa4f6",
   "metadata": {},
   "source": [
    "## # Surprise를 이용한 개인화 영화 추천 시스템 구축\n",
    "---"
   ]
  },
  {
   "cell_type": "markdown",
   "id": "530f542f",
   "metadata": {
    "ExecuteTime": {
     "end_time": "2022-03-27T17:28:06.412000Z",
     "start_time": "2022-03-27T17:28:06.397987Z"
    }
   },
   "source": [
    "### # 데이터 세트 전체를 학습 데이터로 사용\n",
    "---"
   ]
  },
  {
   "cell_type": "code",
   "execution_count": 91,
   "id": "f0bff61b",
   "metadata": {
    "ExecuteTime": {
     "end_time": "2022-03-27T17:29:10.301208Z",
     "start_time": "2022-03-27T17:29:09.977903Z"
    }
   },
   "outputs": [],
   "source": [
    "# 파일을 불러와서 적용\n",
    "\n",
    "from surprise.dataset import DatasetAutoFolds\n",
    "\n",
    "reader = Reader(line_format = 'user item rating timestamp', sep = ',', rating_scale = (0.5, 5))\n",
    "data_folds = DatasetAutoFolds(ratings_file = '../data/ml-latest-small/ratings_noh.csv', reader = reader)\n",
    "\n",
    "# 전체 데이터를 학습 데이터로 생성\n",
    "trainset = data_folds.build_full_trainset()"
   ]
  },
  {
   "cell_type": "code",
   "execution_count": 93,
   "id": "99a6988a",
   "metadata": {
    "ExecuteTime": {
     "end_time": "2022-03-27T17:29:47.387310Z",
     "start_time": "2022-03-27T17:29:44.586453Z"
    }
   },
   "outputs": [
    {
     "data": {
      "text/plain": [
       "<surprise.prediction_algorithms.matrix_factorization.SVD at 0x237fdaced30>"
      ]
     },
     "execution_count": 93,
     "metadata": {},
     "output_type": "execute_result"
    }
   ],
   "source": [
    "svd = SVD(n_epochs = 20, n_factors = 50, random_state = 0)\n",
    "svd.fit(trainset)"
   ]
  },
  {
   "cell_type": "code",
   "execution_count": 90,
   "id": "8a5dde1a",
   "metadata": {
    "ExecuteTime": {
     "end_time": "2022-03-27T17:28:57.771277Z",
     "start_time": "2022-03-27T17:28:57.666236Z"
    }
   },
   "outputs": [],
   "source": [
    "# 데이터 프레임으로 적용\n",
    "\n",
    "reader = Reader(rating_scale = (0.5, 5.0))\n",
    "data = Dataset.load_from_df(ratings[['userId', 'movieId', 'rating']], reader)"
   ]
  }
 ],
 "metadata": {
  "hide_input": false,
  "kernelspec": {
   "display_name": "Python 3 (ipykernel)",
   "language": "python",
   "name": "python3"
  },
  "language_info": {
   "codemirror_mode": {
    "name": "ipython",
    "version": 3
   },
   "file_extension": ".py",
   "mimetype": "text/x-python",
   "name": "python",
   "nbconvert_exporter": "python",
   "pygments_lexer": "ipython3",
   "version": "3.8.12"
  },
  "toc": {
   "base_numbering": 1,
   "nav_menu": {},
   "number_sections": false,
   "sideBar": true,
   "skip_h1_title": false,
   "title_cell": "Table of Contents",
   "title_sidebar": "Contents",
   "toc_cell": false,
   "toc_position": {},
   "toc_section_display": true,
   "toc_window_display": false
  },
  "varInspector": {
   "cols": {
    "lenName": 16,
    "lenType": 16,
    "lenVar": 40
   },
   "kernels_config": {
    "python": {
     "delete_cmd_postfix": "",
     "delete_cmd_prefix": "del ",
     "library": "var_list.py",
     "varRefreshCmd": "print(var_dic_list())"
    },
    "r": {
     "delete_cmd_postfix": ") ",
     "delete_cmd_prefix": "rm(",
     "library": "var_list.r",
     "varRefreshCmd": "cat(var_dic_list()) "
    }
   },
   "types_to_exclude": [
    "module",
    "function",
    "builtin_function_or_method",
    "instance",
    "_Feature"
   ],
   "window_display": false
  }
 },
 "nbformat": 4,
 "nbformat_minor": 5
}
