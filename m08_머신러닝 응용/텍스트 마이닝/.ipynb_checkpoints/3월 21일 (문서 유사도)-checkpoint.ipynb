{
 "cells": [
  {
   "cell_type": "code",
   "execution_count": 63,
   "id": "81332ff0",
   "metadata": {
    "ExecuteTime": {
     "end_time": "2022-03-21T03:29:22.534485Z",
     "start_time": "2022-03-21T03:29:22.527479Z"
    }
   },
   "outputs": [],
   "source": [
    "import numpy as np\n",
    "import seaborn as sns\n",
    "import matplotlib.pyplot as plt\n",
    "from sklearn.feature_extraction.text import TfidfVectorizer\n",
    "plt.style.use('seaborn')"
   ]
  },
  {
   "cell_type": "markdown",
   "id": "f3dd0342",
   "metadata": {},
   "source": [
    "# [3월 21일]\n",
    "---"
   ]
  },
  {
   "cell_type": "markdown",
   "id": "f8925e4f",
   "metadata": {},
   "source": [
    "## # 유사도\n",
    "---\n",
    "- 참조 :   \n",
    "http://matrix.skku.ac.kr/math4AI-tools/cosine_similarity/  \n",
    "https://jwmath.tistory.com/500  "
   ]
  },
  {
   "cell_type": "markdown",
   "id": "f0fde261",
   "metadata": {},
   "source": [
    "### # 코사인 유사도\n",
    "---"
   ]
  },
  {
   "cell_type": "code",
   "execution_count": 20,
   "id": "f424fd87",
   "metadata": {
    "ExecuteTime": {
     "end_time": "2022-03-21T03:15:18.917266Z",
     "start_time": "2022-03-21T03:15:18.912262Z"
    }
   },
   "outputs": [],
   "source": [
    "# 코사인 유사도 사용자 함수\n",
    "\n",
    "def cos_similarity(v1, v2):\n",
    "    dot_product = np.dot(v1, v2)\n",
    "    l2_norm = (np.sqrt(sum(np.square(v1))) * np.sqrt(sum(np.square(v2))))\n",
    "    similarity = dot_product / l2_norm\n",
    "    return similarity"
   ]
  },
  {
   "cell_type": "code",
   "execution_count": 26,
   "id": "b82be95d",
   "metadata": {
    "ExecuteTime": {
     "end_time": "2022-03-21T03:17:10.524342Z",
     "start_time": "2022-03-21T03:17:10.509337Z"
    }
   },
   "outputs": [
    {
     "name": "stdout",
     "output_type": "stream",
     "text": [
      "(3, 18) \n",
      "\n",
      "[[0.4155636  0.         0.4155636  0.         0.         0.\n",
      "  0.24543856 0.         0.24543856 0.         0.         0.\n",
      "  0.         0.4155636  0.24543856 0.49087711 0.         0.24543856]\n",
      " [0.         0.         0.         0.         0.         0.\n",
      "  0.23402865 0.39624495 0.23402865 0.         0.3013545  0.\n",
      "  0.39624495 0.         0.23402865 0.23402865 0.39624495 0.4680573 ]\n",
      " [0.         0.30985601 0.         0.30985601 0.30985601 0.30985601\n",
      "  0.18300595 0.         0.18300595 0.30985601 0.23565348 0.30985601\n",
      "  0.         0.         0.18300595 0.3660119  0.         0.3660119 ]] \n",
      "\n",
      "[[0.4155636  0.         0.4155636  0.         0.         0.\n",
      "  0.24543856 0.         0.24543856 0.         0.         0.\n",
      "  0.         0.4155636  0.24543856 0.49087711 0.         0.24543856]\n",
      " [0.         0.         0.         0.         0.         0.\n",
      "  0.23402865 0.39624495 0.23402865 0.         0.3013545  0.\n",
      "  0.39624495 0.         0.23402865 0.23402865 0.39624495 0.4680573 ]\n",
      " [0.         0.30985601 0.         0.30985601 0.30985601 0.30985601\n",
      "  0.18300595 0.         0.18300595 0.30985601 0.23565348 0.30985601\n",
      "  0.         0.         0.18300595 0.3660119  0.         0.3660119 ]]\n"
     ]
    }
   ],
   "source": [
    "from sklearn.feature_extraction.text import TfidfVectorizer\n",
    "\n",
    "doc_list = ['if you take the blue pill, the story ends' ,\n",
    "            'if you take the red pill, you stay in Wonderland',\n",
    "            'if you take the red pill, I show you how deep the rabbit hole goes']\n",
    "\n",
    "tfidf_vect_simple = TfidfVectorizer()\n",
    "feature_vect_simple = tfidf_vect_simple.fit_transform(doc_list)\n",
    "\n",
    "print(feature_vect_simple.shape, '\\n')\n",
    "print(feature_vect_simple.toarray(), '\\n')\n",
    "print(feature_vect_simple.todense())"
   ]
  },
  {
   "cell_type": "code",
   "execution_count": 22,
   "id": "91900033",
   "metadata": {
    "ExecuteTime": {
     "end_time": "2022-03-21T03:15:42.506973Z",
     "start_time": "2022-03-21T03:15:42.498966Z"
    }
   },
   "outputs": [
    {
     "name": "stdout",
     "output_type": "stream",
     "text": [
      "코사인 유사도 : 0.4021\n"
     ]
    }
   ],
   "source": [
    "# 조밀 행렬로 변경후 코사인 유사도 측정\n",
    "\n",
    "feature_vect_dense = feature_vect_simple.todense()\n",
    "vect1 = np.array(feature_vect_dense[0]).reshape(-1)\n",
    "vect2 = np.array(feature_vect_dense[1]).reshape(-1)\n",
    "\n",
    "similarity_simple = cos_similarity(vect1, vect2)\n",
    "print(f'코사인 유사도 : {similarity_simple:.4f}')"
   ]
  },
  {
   "cell_type": "code",
   "execution_count": 85,
   "id": "b73469d1",
   "metadata": {
    "ExecuteTime": {
     "end_time": "2022-03-21T03:42:59.161005Z",
     "start_time": "2022-03-21T03:42:59.027884Z"
    }
   },
   "outputs": [
    {
     "name": "stdout",
     "output_type": "stream",
     "text": [
      "[[0.40207758 0.40425045]]\n"
     ]
    },
    {
     "data": {
      "image/png": "[encoded data removed]",
      "text/plain": [
       "<Figure size 576x396 with 2 Axes>"
      ]
     },
     "metadata": {},
     "output_type": "display_data"
    }
   ],
   "source": [
    "# 사이킷런 라이브러리 이용하여 유사도 측정\n",
    "\n",
    "from sklearn.metrics.pairwise import cosine_similarity\n",
    "\n",
    "sim_pair1 = cosine_similarity(feature_vect_simple[0], feature_vect_simple[1:])\n",
    "print(sim_pair1)\n",
    "sim_pair = cosine_similarity(feature_vect_simple, feature_vect_simple)\n",
    "ax = sns.heatmap(sim_pair, annot = True, annot_kws = {'fontsize': 15}, fmt = '.4f')\n",
    "plt.xticks(fontsize = 15)\n",
    "plt.yticks(fontsize = 15)\n",
    "plt.show()\n",
    "plt.close()"
   ]
  },
  {
   "cell_type": "code",
   "execution_count": 80,
   "id": "2cbed975",
   "metadata": {
    "ExecuteTime": {
     "end_time": "2022-03-21T03:35:52.380774Z",
     "start_time": "2022-03-21T03:35:52.363267Z"
    }
   },
   "outputs": [
    {
     "data": {
      "text/plain": [
       "<AxesSubplot:>"
      ]
     },
     "execution_count": 80,
     "metadata": {},
     "output_type": "execute_result"
    }
   ],
   "source": []
  }
 ],
 "metadata": {
  "hide_input": false,
  "kernelspec": {
   "display_name": "Python 3 (ipykernel)",
   "language": "python",
   "name": "python3"
  },
  "language_info": {
   "codemirror_mode": {
    "name": "ipython",
    "version": 3
   },
   "file_extension": ".py",
   "mimetype": "text/x-python",
   "name": "python",
   "nbconvert_exporter": "python",
   "pygments_lexer": "ipython3",
   "version": "3.8.12"
  },
  "toc": {
   "base_numbering": 1,
   "nav_menu": {},
   "number_sections": false,
   "sideBar": true,
   "skip_h1_title": false,
   "title_cell": "Table of Contents",
   "title_sidebar": "Contents",
   "toc_cell": false,
   "toc_position": {},
   "toc_section_display": true,
   "toc_window_display": false
  },
  "varInspector": {
   "cols": {
    "lenName": 16,
    "lenType": 16,
    "lenVar": 40
   },
   "kernels_config": {
    "python": {
     "delete_cmd_postfix": "",
     "delete_cmd_prefix": "del ",
     "library": "var_list.py",
     "varRefreshCmd": "print(var_dic_list())"
    },
    "r": {
     "delete_cmd_postfix": ") ",
     "delete_cmd_prefix": "rm(",
     "library": "var_list.r",
     "varRefreshCmd": "cat(var_dic_list()) "
    }
   },
   "types_to_exclude": [
    "module",
    "function",
    "builtin_function_or_method",
    "instance",
    "_Feature"
   ],
   "window_display": false
  }
 },
 "nbformat": 4,
 "nbformat_minor": 5
}
