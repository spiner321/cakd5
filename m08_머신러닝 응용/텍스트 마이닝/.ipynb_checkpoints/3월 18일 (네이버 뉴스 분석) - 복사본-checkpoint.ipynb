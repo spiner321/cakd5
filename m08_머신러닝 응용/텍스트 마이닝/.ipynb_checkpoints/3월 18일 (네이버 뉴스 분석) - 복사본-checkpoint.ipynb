{
 "cells": [
  {
   "cell_type": "code",
   "execution_count": 1,
   "id": "1e65af84",
   "metadata": {
    "ExecuteTime": {
     "end_time": "2022-03-21T01:53:05.693409Z",
     "start_time": "2022-03-21T01:53:04.558488Z"
    }
   },
   "outputs": [],
   "source": [
    "import konlpy\n",
    "from konlpy.tag import Okt\n",
    "import warnings\n",
    "import pandas as pd\n",
    "import numpy as np\n",
    "import re\n",
    "from selenium import webdriver\n",
    "from selenium.webdriver.common.keys import Keys\n",
    "from konlpy.tag import Okt\n",
    "from sklearn.model_selection import train_test_split\n",
    "from sklearn.feature_extraction.text import TfidfVectorizer\n",
    "from sklearn.pipeline import Pipeline\n",
    "from sklearn.linear_model import LogisticRegression\n",
    "from sklearn.metrics import accuracy_score, roc_auc_score, f1_score, precision_score, recall_score\n",
    "import urllib\n",
    "import requests\n",
    "import warnings\n",
    "from bs4 import BeautifulSoup\n",
    "from time import sleep\n",
    "warnings.filterwarnings('ignore')"
   ]
  },
  {
   "cell_type": "markdown",
   "id": "a6ee5cb2",
   "metadata": {},
   "source": [
    "# [3월 18일]\n",
    "---"
   ]
  },
  {
   "cell_type": "markdown",
   "id": "a9a80e00",
   "metadata": {},
   "source": [
    "## # 네이버 뉴스 4개 카테고리 분석\n",
    "---\n",
    "- 뉴스기사 카테고리별 저장(파일 도는 DB)\n",
    "- 텍스트 전처리 및 피처 벡터화\n",
    "- 모델링 및 평가(성능개선 포함)\n",
    "- 참조 : https://wikidocs.net/74715"
   ]
  },
  {
   "cell_type": "code",
   "execution_count": 146,
   "id": "30f4fb3f",
   "metadata": {
    "scrolled": true
   },
   "outputs": [
    {
     "data": {
      "text/plain": [
       "[<div class=\"section_body\" id=\"section_body\"></div>]"
      ]
     },
     "execution_count": 146,
     "metadata": {},
     "output_type": "execute_result"
    }
   ],
   "source": [
    "url = 'https://news.naver.com/main/main.naver?mode=LSD&mid=shm&sid1=100#&date=%2000:00:00&page=1'\n",
    "html = urllib.request.urlopen(url)\n",
    "soup = BeautifulSoup(html, 'html.parser')\n",
    "\n",
    "soup.find_all('div', class_ = ['section_body'])"
   ]
  },
  {
   "cell_type": "code",
   "execution_count": 132,
   "id": "f1ca5636",
   "metadata": {
    "scrolled": true
   },
   "outputs": [],
   "source": [
    "path = 'D:\\workspace\\python\\selenium_tool\\chromedriver.exe'\n",
    "driver = webdriver.Chrome(path)\n",
    "\n",
    "article_politics = []\n",
    "article_economy = []\n",
    "article_society = []\n",
    "article_science = []\n",
    "for cat in [100, 101, 102, 105]:\n",
    "    for page in range(1, 26):\n",
    "        url = f'https://news.naver.com/main/main.naver?mode=LSD&mid=shm&sid1={cat}#&date=%2000:00:00&page={page}'\n",
    "        driver.get(url)\n",
    "        sleep(2)\n",
    "        for i in range(1, 5):\n",
    "            try:\n",
    "                for j in range(1, 6):\n",
    "                    driver.find_element_by_xpath(f'//*[@id=\"section_body\"]/ul[{i}]/li[{j}]/dl/dt[2]/a').send_keys(Keys.ENTER)\n",
    "    #                 sleep(0.7)\n",
    "                    article = driver.find_element_by_xpath('//*[@id=\"articleBodyContents\"]')\n",
    "                    a = re.sub('[^a-zA-Z가-힣\\s]+', '', article.text)\n",
    "                    b = re.sub('[\\n]+', ' ', a)\n",
    "                    if cat == 100: article_politics.append(b)\n",
    "                    elif cat == 101: article_economy.append(b)\n",
    "                    elif cat == 102: article_society.append(b)\n",
    "                    elif cat == 105: article_science.append(b)    \n",
    "                    driver.back()\n",
    "    #                 sleep(0.7)\n",
    "            except:\n",
    "                pass\n",
    "            \n",
    "driver.close()"
   ]
  },
  {
   "cell_type": "code",
   "execution_count": 138,
   "id": "a530d9b5",
   "metadata": {},
   "outputs": [
    {
     "data": {
      "text/plain": [
       "(500, 500, 500, 500)"
      ]
     },
     "execution_count": 138,
     "metadata": {},
     "output_type": "execute_result"
    }
   ],
   "source": [
    "len(article_politics), len(article_economy), len(article_society), len(article_science)"
   ]
  },
  {
   "cell_type": "code",
   "execution_count": 133,
   "id": "6a0ff49b",
   "metadata": {},
   "outputs": [],
   "source": [
    "politics_df = pd.DataFrame(article_politics, columns = ['article'])\n",
    "politics_df['target'] = 0\n",
    "economy_df = pd.DataFrame(article_economy, columns = ['article'])\n",
    "economy_df['target'] = 1\n",
    "society_df = pd.DataFrame(article_society, columns = ['article'])\n",
    "society_df['target'] = 2\n",
    "science_df = pd.DataFrame(article_science, columns = ['article'])\n",
    "science_df['target'] = 3\n",
    "\n",
    "politics_df.to_csv('politics_df.csv')\n",
    "economy_df.to_csv('economy_df.csv')\n",
    "society_df.to_csv('society_df.csv')\n",
    "science_df.to_csv('science_df.csv')"
   ]
  },
  {
   "cell_type": "code",
   "execution_count": 2,
   "id": "e893a798",
   "metadata": {
    "ExecuteTime": {
     "end_time": "2022-03-20T23:56:30.396419Z",
     "start_time": "2022-03-20T23:56:29.801367Z"
    }
   },
   "outputs": [],
   "source": [
    "politics_df = pd.read_csv('politics_df.csv', index_col = 0)\n",
    "economy_df = pd.read_csv('economy_df.csv', index_col = 0)\n",
    "society_df = pd.read_csv('society_df.csv', index_col = 0)\n",
    "science_df = pd.read_csv('science_df.csv', index_col = 0)"
   ]
  },
  {
   "cell_type": "code",
   "execution_count": 3,
   "id": "ea4e8c1f",
   "metadata": {
    "ExecuteTime": {
     "end_time": "2022-03-20T23:56:32.882210Z",
     "start_time": "2022-03-20T23:56:32.854186Z"
    }
   },
   "outputs": [
    {
     "data": {
      "text/html": [
       "<div>\n",
       "<style scoped>\n",
       "    .dataframe tbody tr th:only-of-type {\n",
       "        vertical-align: middle;\n",
       "    }\n",
       "\n",
       "    .dataframe tbody tr th {\n",
       "        vertical-align: top;\n",
       "    }\n",
       "\n",
       "    .dataframe thead th {\n",
       "        text-align: right;\n",
       "    }\n",
       "</style>\n",
       "<table border=\"1\" class=\"dataframe\">\n",
       "  <thead>\n",
       "    <tr style=\"text-align: right;\">\n",
       "      <th></th>\n",
       "      <th>article</th>\n",
       "      <th>target</th>\n",
       "    </tr>\n",
       "  </thead>\n",
       "  <tbody>\n",
       "    <tr>\n",
       "      <th>0</th>\n",
       "      <td>이번 대선에서 국민의힘 윤석열 대통령 당선인이  이상을 득표한 해운대구와 수영구 금...</td>\n",
       "      <td>0</td>\n",
       "    </tr>\n",
       "    <tr>\n",
       "      <th>1</th>\n",
       "      <td>동영상 뉴스 앵커 청와대가 아닌 곳에서 업무를 시작한다는 데 방점을 뒀지만 광화문 ...</td>\n",
       "      <td>0</td>\n",
       "    </tr>\n",
       "    <tr>\n",
       "      <th>2</th>\n",
       "      <td>윤 당선인 집무실 용산 이전남은 문제는 경향신문 청와대 바라보는 나들이 나온 시민들...</td>\n",
       "      <td>0</td>\n",
       "    </tr>\n",
       "    <tr>\n",
       "      <th>3</th>\n",
       "      <td>앵커 정치부 기자와 몇 가지 더 짚어보겠습니다 정성호 기자 나와 있습니다 취임 첫날...</td>\n",
       "      <td>0</td>\n",
       "    </tr>\n",
       "    <tr>\n",
       "      <th>4</th>\n",
       "      <td>조감도 가져다 달라기자 질문에 직접 답한  이데일리 권혜미 기자 윤석열 대통령 당선...</td>\n",
       "      <td>0</td>\n",
       "    </tr>\n",
       "  </tbody>\n",
       "</table>\n",
       "</div>"
      ],
      "text/plain": [
       "                                             article  target\n",
       "0  이번 대선에서 국민의힘 윤석열 대통령 당선인이  이상을 득표한 해운대구와 수영구 금...       0\n",
       "1  동영상 뉴스 앵커 청와대가 아닌 곳에서 업무를 시작한다는 데 방점을 뒀지만 광화문 ...       0\n",
       "2  윤 당선인 집무실 용산 이전남은 문제는 경향신문 청와대 바라보는 나들이 나온 시민들...       0\n",
       "3  앵커 정치부 기자와 몇 가지 더 짚어보겠습니다 정성호 기자 나와 있습니다 취임 첫날...       0\n",
       "4  조감도 가져다 달라기자 질문에 직접 답한  이데일리 권혜미 기자 윤석열 대통령 당선...       0"
      ]
     },
     "metadata": {},
     "output_type": "display_data"
    }
   ],
   "source": [
    "article_df = pd.concat((politics_df, economy_df, society_df, science_df)).reset_index(drop = True)\n",
    "display(article_df.head())\n",
    "\n",
    "X_train, X_test, y_train, y_test = train_test_split(article_df['article'], article_df['target'], test_size = 0.25, stratify = article_df['target'])"
   ]
  },
  {
   "cell_type": "code",
   "execution_count": 4,
   "id": "475bd805",
   "metadata": {
    "ExecuteTime": {
     "end_time": "2022-03-20T23:59:53.826725Z",
     "start_time": "2022-03-20T23:56:37.437311Z"
    }
   },
   "outputs": [],
   "source": [
    "from konlpy.tag import Okt\n",
    "from sklearn.feature_extraction.text import TfidfVectorizer\n",
    "from sklearn.linear_model import LogisticRegression\n",
    "from sklearn.model_selection import GridSearchCV\n",
    "\n",
    "okt = Okt()\n",
    "\n",
    "def tw_tokenizer(text):\n",
    "    tokens_ko = okt.morphs(text)\n",
    "    return tokens_ko\n",
    "\n",
    "tfidf_vect = TfidfVectorizer(tokenizer = tw_tokenizer, ngram_range = (1, 2), min_df = 3, max_df = 0.9)\n",
    "tfidf_vect.fit(X_train)\n",
    "tfidf_matrix_train = tfidf_vect.transform(X_train)\n",
    "tfidf_matrix_test = tfidf_vect.transform(X_test)"
   ]
  },
  {
   "cell_type": "code",
   "execution_count": 5,
   "id": "290a01ae",
   "metadata": {
    "ExecuteTime": {
     "end_time": "2022-03-21T00:00:38.870523Z",
     "start_time": "2022-03-20T23:59:53.903796Z"
    }
   },
   "outputs": [
    {
     "name": "stdout",
     "output_type": "stream",
     "text": [
      "최적 파라미터 : {'C': 4.5} / 최적 파라미터의 정확도 : 0.8393\n"
     ]
    }
   ],
   "source": [
    "# 로지스틱레그레션의 최적 파라미터 찾기\n",
    "\n",
    "lg_clf = LogisticRegression(random_state = 0, n_jobs = -1)\n",
    "\n",
    "params = {'C': [1, 3.5, 4.5, 5.5, 10]}\n",
    "\n",
    "grid_cv = GridSearchCV(lg_clf, param_grid = params, cv = 3, scoring = 'accuracy', verbose = 0)\n",
    "grid_cv.fit(tfidf_matrix_train, y_train)\n",
    "print('최적 파라미터 :', grid_cv.best_params_, '/ 최적 파라미터의 정확도 :', round(grid_cv.best_score_, 4))"
   ]
  },
  {
   "cell_type": "code",
   "execution_count": 6,
   "id": "1a998d51",
   "metadata": {
    "ExecuteTime": {
     "end_time": "2022-03-21T00:00:38.960343Z",
     "start_time": "2022-03-21T00:00:38.931578Z"
    }
   },
   "outputs": [
    {
     "name": "stdout",
     "output_type": "stream",
     "text": [
      "정확도 : 0.83, \n",
      "AUC : 0.961\n"
     ]
    }
   ],
   "source": [
    "best_estimator = grid_cv.best_estimator_\n",
    "pred = best_estimator.predict(tfidf_matrix_test)\n",
    "pred_proba = best_estimator.predict_proba(tfidf_matrix_test)\n",
    "\n",
    "def get_clf_eval(y_test, pred, pred_proba):\n",
    "    accuracy = accuracy_score(y_test, pred)\n",
    "    auc = roc_auc_score(y_test, pred_proba, multi_class = 'ovo')\n",
    "    print(f'정확도 : {round(accuracy, 3)}, \\nAUC : {round(auc, 3)}')\n",
    "\n",
    "get_clf_eval(y_test, pred, pred_proba)"
   ]
  },
  {
   "cell_type": "code",
   "execution_count": 8,
   "id": "792d233b",
   "metadata": {
    "ExecuteTime": {
     "end_time": "2022-03-21T00:04:43.690160Z",
     "start_time": "2022-03-21T00:02:01.354645Z"
    }
   },
   "outputs": [
    {
     "name": "stdout",
     "output_type": "stream",
     "text": [
      "정확도 : 0.83, \n",
      "AUC : 0.961\n"
     ]
    }
   ],
   "source": [
    "# 파이프라인 사용\n",
    "\n",
    "pipeline = Pipeline([\n",
    "    ('tfidf_vect', TfidfVectorizer(tokenizer = tw_tokenizer, ngram_range = (1, 2), min_df = 3, max_df = 0.9)),\n",
    "    ('lr_clf', LogisticRegression(random_state = 0, C = 4.5, n_jobs = -1))\n",
    "])\n",
    "\n",
    "pipeline.fit(X_train, y_train)\n",
    "pred = pipeline.predict(X_test)\n",
    "pred_proba = pipeline.predict_proba(X_test)\n",
    "\n",
    "get_clf_eval(y_test, pred, pred_proba)"
   ]
  }
 ],
 "metadata": {
  "hide_input": false,
  "kernelspec": {
   "display_name": "Python 3 (ipykernel)",
   "language": "python",
   "name": "python3"
  },
  "language_info": {
   "codemirror_mode": {
    "name": "ipython",
    "version": 3
   },
   "file_extension": ".py",
   "mimetype": "text/x-python",
   "name": "python",
   "nbconvert_exporter": "python",
   "pygments_lexer": "ipython3",
   "version": "3.8.12"
  },
  "toc": {
   "base_numbering": 1,
   "nav_menu": {},
   "number_sections": false,
   "sideBar": true,
   "skip_h1_title": false,
   "title_cell": "Table of Contents",
   "title_sidebar": "Contents",
   "toc_cell": false,
   "toc_position": {},
   "toc_section_display": true,
   "toc_window_display": false
  },
  "varInspector": {
   "cols": {
    "lenName": "16",
    "lenType": "16",
    "lenVar": 40
   },
   "kernels_config": {
    "python": {
     "delete_cmd_postfix": "",
     "delete_cmd_prefix": "del ",
     "library": "var_list.py",
     "varRefreshCmd": "print(var_dic_list())"
    },
    "r": {
     "delete_cmd_postfix": ") ",
     "delete_cmd_prefix": "rm(",
     "library": "var_list.r",
     "varRefreshCmd": "cat(var_dic_list()) "
    }
   },
   "types_to_exclude": [
    "module",
    "function",
    "builtin_function_or_method",
    "instance",
    "_Feature"
   ],
   "window_display": false
  }
 },
 "nbformat": 4,
 "nbformat_minor": 5
}
