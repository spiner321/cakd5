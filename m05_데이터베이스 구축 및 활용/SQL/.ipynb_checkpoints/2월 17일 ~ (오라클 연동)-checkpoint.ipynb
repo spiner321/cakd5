{
 "cells": [
  {
   "cell_type": "markdown",
   "id": "3484d3d0",
   "metadata": {},
   "source": [
    "# [2월 17일]\n",
    "---"
   ]
  },
  {
   "cell_type": "markdown",
   "id": "51f4f1d0",
   "metadata": {},
   "source": [
    "## # 설치와 기본 사용\n",
    "---"
   ]
  },
  {
   "cell_type": "code",
   "execution_count": 4,
   "id": "3d268726",
   "metadata": {
    "ExecuteTime": {
     "end_time": "2022-02-24T00:30:10.725041Z",
     "start_time": "2022-02-24T00:30:08.823468Z"
    }
   },
   "outputs": [
    {
     "name": "stdout",
     "output_type": "stream",
     "text": [
      "Requirement already satisfied: cx_Oracle in c:\\users\\spiner\\anaconda3\\envs\\cakd5\\lib\\site-packages (8.3.0)\n"
     ]
    }
   ],
   "source": [
    "!pip install cx_Oracle"
   ]
  },
  {
   "cell_type": "code",
   "execution_count": 361,
   "id": "d278e902",
   "metadata": {
    "ExecuteTime": {
     "end_time": "2022-02-24T03:44:36.833298Z",
     "start_time": "2022-02-24T03:44:36.816282Z"
    }
   },
   "outputs": [
    {
     "ename": "NameError",
     "evalue": "name 'plt' is not defined",
     "output_type": "error",
     "traceback": [
      "\u001b[1;31m---------------------------------------------------------------------------\u001b[0m",
      "\u001b[1;31mNameError\u001b[0m                                 Traceback (most recent call last)",
      "\u001b[1;32m~\\AppData\\Local\\Temp/ipykernel_19448/161651154.py\u001b[0m in \u001b[0;36m<module>\u001b[1;34m\u001b[0m\n\u001b[0;32m      3\u001b[0m \u001b[1;32mimport\u001b[0m \u001b[0mnumpy\u001b[0m \u001b[1;32mas\u001b[0m \u001b[0mnp\u001b[0m\u001b[1;33m\u001b[0m\u001b[1;33m\u001b[0m\u001b[0m\n\u001b[0;32m      4\u001b[0m \u001b[1;32mimport\u001b[0m \u001b[0mcsv\u001b[0m\u001b[1;33m\u001b[0m\u001b[1;33m\u001b[0m\u001b[0m\n\u001b[1;32m----> 5\u001b[1;33m \u001b[0mplt\u001b[0m\u001b[1;33m.\u001b[0m\u001b[0mstyle\u001b[0m\u001b[1;33m.\u001b[0m\u001b[0muse\u001b[0m\u001b[1;33m(\u001b[0m\u001b[1;34m'seaborn'\u001b[0m\u001b[1;33m)\u001b[0m\u001b[1;33m\u001b[0m\u001b[1;33m\u001b[0m\u001b[0m\n\u001b[0m",
      "\u001b[1;31mNameError\u001b[0m: name 'plt' is not defined"
     ]
    }
   ],
   "source": [
    "import cx_Oracle\n",
    "import pandas as pd\n",
    "import numpy as np\n",
    "import csv"
   ]
  },
  {
   "cell_type": "code",
   "execution_count": 2,
   "id": "7b6840ec",
   "metadata": {
    "ExecuteTime": {
     "end_time": "2022-02-24T00:30:01.246282Z",
     "start_time": "2022-02-24T00:30:00.711652Z"
    }
   },
   "outputs": [
    {
     "data": {
      "text/plain": [
       "<cx_Oracle.Connection to C##CAKD5@(DESCRIPTION=(ADDRESS=(PROTOCOL=TCP)(HOST=localhost)(PORT=1521))(CONNECT_DATA=(SID=xe)))>"
      ]
     },
     "execution_count": 2,
     "metadata": {},
     "output_type": "execute_result"
    }
   ],
   "source": [
    "dsn  =cx_Oracle.makedsn('localhost',1521,'xe')\n",
    "db = cx_Oracle.connect('C##CAKD5', 'CAKD5', dsn)\n",
    "db"
   ]
  },
  {
   "cell_type": "code",
   "execution_count": 6,
   "id": "233dc070",
   "metadata": {
    "ExecuteTime": {
     "end_time": "2022-02-24T00:30:17.688653Z",
     "start_time": "2022-02-24T00:30:17.660623Z"
    }
   },
   "outputs": [
    {
     "data": {
      "text/html": [
       "<div>\n",
       "<style scoped>\n",
       "    .dataframe tbody tr th:only-of-type {\n",
       "        vertical-align: middle;\n",
       "    }\n",
       "\n",
       "    .dataframe tbody tr th {\n",
       "        vertical-align: top;\n",
       "    }\n",
       "\n",
       "    .dataframe thead th {\n",
       "        text-align: right;\n",
       "    }\n",
       "</style>\n",
       "<table border=\"1\" class=\"dataframe\">\n",
       "  <thead>\n",
       "    <tr style=\"text-align: right;\">\n",
       "      <th></th>\n",
       "      <th>BOOKID</th>\n",
       "      <th>BOOKNAME</th>\n",
       "      <th>PUBLISHER</th>\n",
       "      <th>PRICE</th>\n",
       "    </tr>\n",
       "  </thead>\n",
       "  <tbody>\n",
       "    <tr>\n",
       "      <th>0</th>\n",
       "      <td>1</td>\n",
       "      <td>축구의 역사</td>\n",
       "      <td>굿스포츠</td>\n",
       "      <td>7000</td>\n",
       "    </tr>\n",
       "    <tr>\n",
       "      <th>1</th>\n",
       "      <td>2</td>\n",
       "      <td>축구아는 여자</td>\n",
       "      <td>나무수</td>\n",
       "      <td>13000</td>\n",
       "    </tr>\n",
       "    <tr>\n",
       "      <th>2</th>\n",
       "      <td>3</td>\n",
       "      <td>축구의 이해</td>\n",
       "      <td>대한미디어</td>\n",
       "      <td>22000</td>\n",
       "    </tr>\n",
       "    <tr>\n",
       "      <th>3</th>\n",
       "      <td>4</td>\n",
       "      <td>골프 바이블</td>\n",
       "      <td>대한미디어</td>\n",
       "      <td>35000</td>\n",
       "    </tr>\n",
       "    <tr>\n",
       "      <th>4</th>\n",
       "      <td>5</td>\n",
       "      <td>피겨 교본</td>\n",
       "      <td>굿스포츠</td>\n",
       "      <td>8000</td>\n",
       "    </tr>\n",
       "  </tbody>\n",
       "</table>\n",
       "</div>"
      ],
      "text/plain": [
       "   BOOKID BOOKNAME PUBLISHER  PRICE\n",
       "0       1   축구의 역사      굿스포츠   7000\n",
       "1       2  축구아는 여자       나무수  13000\n",
       "2       3   축구의 이해     대한미디어  22000\n",
       "3       4   골프 바이블     대한미디어  35000\n",
       "4       5    피겨 교본      굿스포츠   8000"
      ]
     },
     "execution_count": 6,
     "metadata": {},
     "output_type": "execute_result"
    }
   ],
   "source": [
    "cursor = db.cursor()\n",
    "cursor.execute('select * from book')\n",
    "x = cursor.fetchall()\n",
    "df = pd.DataFrame(x)\n",
    "df.head()\n",
    "columns = ['BOOKID', 'BOOKNAME', 'PUBLISHER', 'PRICE']\n",
    "df = pd.DataFrame(x, columns = columns)\n",
    "df.head()"
   ]
  },
  {
   "cell_type": "markdown",
   "id": "efb15723",
   "metadata": {},
   "source": [
    "# [2월 24일]\n",
    "---"
   ]
  },
  {
   "cell_type": "markdown",
   "id": "053edaf0",
   "metadata": {},
   "source": [
    "## # create\n",
    "---\n",
    "- 테이블 만들기"
   ]
  },
  {
   "cell_type": "code",
   "execution_count": 25,
   "id": "d23d68b2",
   "metadata": {
    "ExecuteTime": {
     "end_time": "2022-02-24T00:53:38.168844Z",
     "start_time": "2022-02-24T00:53:38.038863Z"
    }
   },
   "outputs": [],
   "source": [
    "import cx_Oracle\n",
    "\n",
    "con = cx_Oracle.connect('C##CAKD5/CAKD5@localhost:1521/xe')\n",
    "cursor = con.cursor()\n",
    "sql = 'create table sample1(id varchar2(10), score number)'\n",
    "cursor.execute(sql)\n",
    "cursor.close()\n",
    "con.commit()\n",
    "con.close()"
   ]
  },
  {
   "cell_type": "markdown",
   "id": "ac1dfbe4",
   "metadata": {},
   "source": [
    "## # insert\n",
    "---\n",
    "- 데이터 삽입"
   ]
  },
  {
   "cell_type": "code",
   "execution_count": 23,
   "id": "a86b7920",
   "metadata": {
    "ExecuteTime": {
     "end_time": "2022-02-24T00:50:50.758850Z",
     "start_time": "2022-02-24T00:50:50.742836Z"
    }
   },
   "outputs": [],
   "source": [
    "# 데이터 한줄 삽입\n",
    "\n",
    "def insert(t):\n",
    "    con = cx_Oracle.connect('C##CAKD5/CAKD5@localhost:1521/xe')\n",
    "    cursor = con.cursor()\n",
    "    sql = 'insert into sample1(id, score) values(:1, :2)'\n",
    "    cursor.execute(sql, t)\n",
    "    cursor.close()\n",
    "    con.commit()\n",
    "    con.close()"
   ]
  },
  {
   "cell_type": "code",
   "execution_count": null,
   "id": "5635ac95",
   "metadata": {},
   "outputs": [],
   "source": [
    "insert(('111', 80))"
   ]
  },
  {
   "cell_type": "code",
   "execution_count": 26,
   "id": "973ff994",
   "metadata": {
    "ExecuteTime": {
     "end_time": "2022-02-24T00:53:40.344701Z",
     "start_time": "2022-02-24T00:53:40.338697Z"
    }
   },
   "outputs": [],
   "source": [
    "# 데이터 여러줄 삽입\n",
    "\n",
    "def insertmany(t):\n",
    "    con = cx_Oracle.connect('C##CAKD5/CAKD5@localhost:1521/xe')\n",
    "    cursor = con.cursor()\n",
    "    sql = 'insert into sample1(id, score) values(:1, :2)'\n",
    "    cursor.executemany(sql, t)\n",
    "    cursor.close()\n",
    "    con.commit()\n",
    "    con.close()\n",
    "    \n",
    "rows = [('112', 90), ('113', 70), ('114', 80), ('115', 90), ('116', 85)]\n",
    "row = [('111', 80)]"
   ]
  },
  {
   "cell_type": "code",
   "execution_count": 27,
   "id": "b97b03ca",
   "metadata": {
    "ExecuteTime": {
     "end_time": "2022-02-24T00:53:41.923940Z",
     "start_time": "2022-02-24T00:53:41.807624Z"
    }
   },
   "outputs": [],
   "source": [
    "insertmany(row)\n",
    "insertmany(rows)"
   ]
  },
  {
   "cell_type": "code",
   "execution_count": 166,
   "id": "fecdd4fb",
   "metadata": {
    "ExecuteTime": {
     "end_time": "2022-02-24T02:14:54.123817Z",
     "start_time": "2022-02-24T02:14:54.062109Z"
    }
   },
   "outputs": [],
   "source": [
    "# 3개의 속성(col01, col02, col03)으로 구성된 테이블 sample2를 생성하고 10개의 데이터를 입력.\n",
    "# 단, col01에 대하여 제약조건 primary key 설정\n",
    "\n",
    "con = cx_Oracle.connect('C##CAKD5/CAKD5@localhost:1521/xe')\n",
    "cursor = con.cursor()\n",
    "# sql = 'create table sample2(col1 number primary key, col2 number, col3 number)'\n",
    "sql = 'create table sample2(col01 varchar2(10), col02 varchar2(10), col03 varchar2(10), constraint sample_pk primary key(col01))'\n",
    "cursor.execute(sql)\n",
    "cursor.close()\n",
    "con.commit()\n",
    "con.close()\n",
    "\n",
    "def insert(table, t):\n",
    "    con = cx_Oracle.connect('C##CAKD5/CAKD5@localhost:1521/xe')\n",
    "    cursor = con.cursor()\n",
    "    sql = f'insert into {table}(col01, col02, col03) values(:1, :2, :3)'\n",
    "    cursor.executemany(sql, t)\n",
    "    cursor.close()\n",
    "    con.commit()\n",
    "    con.close()"
   ]
  },
  {
   "cell_type": "code",
   "execution_count": 167,
   "id": "c90303fc",
   "metadata": {
    "ExecuteTime": {
     "end_time": "2022-02-24T02:14:55.145493Z",
     "start_time": "2022-02-24T02:14:55.077762Z"
    }
   },
   "outputs": [],
   "source": [
    "table = 'sample2'\n",
    "rows = [(1, 1, 1), (2, 2, 2), (3, 3, 3), (4, 4, 4), (5, 5, 5), (6, 6, 6), (7, 7, 7), (8, 8, 8), (9, 9 ,9), (10, 10, None)]\n",
    "\n",
    "insert(table, rows)"
   ]
  },
  {
   "cell_type": "markdown",
   "id": "b073d579",
   "metadata": {},
   "source": [
    "## # update\n",
    "---\n",
    "- 데이터 수정"
   ]
  },
  {
   "cell_type": "code",
   "execution_count": 170,
   "id": "6bbabce0",
   "metadata": {
    "ExecuteTime": {
     "end_time": "2022-02-24T02:15:11.450750Z",
     "start_time": "2022-02-24T02:15:11.393712Z"
    }
   },
   "outputs": [],
   "source": [
    "def updatecol(t):\n",
    "    con = cx_Oracle.connect('C##CAKD5/CAKD5@localhost:1521/xe')\n",
    "    cursor = con.cursor()\n",
    "    sql = 'update sample2 set col03 = :1 where col01 = :2'\n",
    "    cursor.executemany(sql, t)\n",
    "    cursor.close()\n",
    "    con.commit()\n",
    "    con.close()\n",
    "\n",
    "updatecol([(3, 1)])"
   ]
  },
  {
   "cell_type": "markdown",
   "id": "c84565da",
   "metadata": {},
   "source": [
    "## # delete\n",
    "---\n",
    "- 데이터 삭제"
   ]
  },
  {
   "cell_type": "code",
   "execution_count": 171,
   "id": "d053110e",
   "metadata": {
    "ExecuteTime": {
     "end_time": "2022-02-24T02:15:17.013617Z",
     "start_time": "2022-02-24T02:15:16.954902Z"
    }
   },
   "outputs": [],
   "source": [
    "def delectcol(t):\n",
    "    con=cx_Oracle.connect('C##CAKD5/CAKD5@localhost:1521/xe')\n",
    "    cursor=con.cursor()\n",
    "    sql=\"delete from sample2 where col02=:1\"\n",
    "    cursor.executemany(sql,t)\n",
    "    cursor.close()\n",
    "    con.commit()\n",
    "    con.close()\n",
    "delectcol([(9, )])"
   ]
  },
  {
   "cell_type": "markdown",
   "id": "119507bb",
   "metadata": {},
   "source": [
    "## # 데이터프레임 만들기\n",
    "---"
   ]
  },
  {
   "cell_type": "code",
   "execution_count": 172,
   "id": "2906a183",
   "metadata": {
    "ExecuteTime": {
     "end_time": "2022-02-24T02:15:19.617482Z",
     "start_time": "2022-02-24T02:15:19.516390Z"
    }
   },
   "outputs": [
    {
     "data": {
      "text/html": [
       "<div>\n",
       "<style scoped>\n",
       "    .dataframe tbody tr th:only-of-type {\n",
       "        vertical-align: middle;\n",
       "    }\n",
       "\n",
       "    .dataframe tbody tr th {\n",
       "        vertical-align: top;\n",
       "    }\n",
       "\n",
       "    .dataframe thead th {\n",
       "        text-align: right;\n",
       "    }\n",
       "</style>\n",
       "<table border=\"1\" class=\"dataframe\">\n",
       "  <thead>\n",
       "    <tr style=\"text-align: right;\">\n",
       "      <th></th>\n",
       "      <th>COL01</th>\n",
       "      <th>COL02</th>\n",
       "      <th>COL03</th>\n",
       "    </tr>\n",
       "  </thead>\n",
       "  <tbody>\n",
       "    <tr>\n",
       "      <th>0</th>\n",
       "      <td>1</td>\n",
       "      <td>1</td>\n",
       "      <td>3</td>\n",
       "    </tr>\n",
       "    <tr>\n",
       "      <th>1</th>\n",
       "      <td>2</td>\n",
       "      <td>2</td>\n",
       "      <td>2</td>\n",
       "    </tr>\n",
       "    <tr>\n",
       "      <th>2</th>\n",
       "      <td>3</td>\n",
       "      <td>3</td>\n",
       "      <td>3</td>\n",
       "    </tr>\n",
       "    <tr>\n",
       "      <th>3</th>\n",
       "      <td>4</td>\n",
       "      <td>4</td>\n",
       "      <td>4</td>\n",
       "    </tr>\n",
       "    <tr>\n",
       "      <th>4</th>\n",
       "      <td>5</td>\n",
       "      <td>5</td>\n",
       "      <td>5</td>\n",
       "    </tr>\n",
       "    <tr>\n",
       "      <th>5</th>\n",
       "      <td>6</td>\n",
       "      <td>6</td>\n",
       "      <td>6</td>\n",
       "    </tr>\n",
       "    <tr>\n",
       "      <th>6</th>\n",
       "      <td>7</td>\n",
       "      <td>7</td>\n",
       "      <td>7</td>\n",
       "    </tr>\n",
       "    <tr>\n",
       "      <th>7</th>\n",
       "      <td>8</td>\n",
       "      <td>8</td>\n",
       "      <td>8</td>\n",
       "    </tr>\n",
       "    <tr>\n",
       "      <th>8</th>\n",
       "      <td>10</td>\n",
       "      <td>10</td>\n",
       "      <td>None</td>\n",
       "    </tr>\n",
       "  </tbody>\n",
       "</table>\n",
       "</div>"
      ],
      "text/plain": [
       "  COL01 COL02 COL03\n",
       "0     1     1     3\n",
       "1     2     2     2\n",
       "2     3     3     3\n",
       "3     4     4     4\n",
       "4     5     5     5\n",
       "5     6     6     6\n",
       "6     7     7     7\n",
       "7     8     8     8\n",
       "8    10    10  None"
      ]
     },
     "execution_count": 172,
     "metadata": {},
     "output_type": "execute_result"
    }
   ],
   "source": [
    "con = con = cx_Oracle.connect('C##CAKD5/CAKD5@localhost:1521/xe')\n",
    "cursor = con.cursor()\n",
    "cursor.execute('select * from sample2')\n",
    "x = cursor.fetchall()\n",
    "df_col = pd.DataFrame(x)\n",
    "cursor.execute(\"select column_name from user_tab_columns where table_name = 'SAMPLE2'\")\n",
    "col = cursor.fetchall()\n",
    "\n",
    "list_py = []\n",
    "for i in col:\n",
    "    for j in i:\n",
    "        list_py.append(j)\n",
    "        \n",
    "df_col.columns = list_py\n",
    "df_col\n",
    "# col"
   ]
  },
  {
   "cell_type": "code",
   "execution_count": 173,
   "id": "02d522ba",
   "metadata": {
    "ExecuteTime": {
     "end_time": "2022-02-24T02:15:22.204795Z",
     "start_time": "2022-02-24T02:15:22.195788Z"
    }
   },
   "outputs": [],
   "source": [
    "df_col.to_csv('col3.csv', encoding = 'utf8')"
   ]
  },
  {
   "cell_type": "code",
   "execution_count": 264,
   "id": "2d750568",
   "metadata": {
    "ExecuteTime": {
     "end_time": "2022-02-24T02:58:37.315250Z",
     "start_time": "2022-02-24T02:58:37.308245Z"
    }
   },
   "outputs": [
    {
     "data": {
      "text/plain": [
       "[('1', '1', '3'),\n",
       " ('2', '2', '2'),\n",
       " ('3', '3', '3'),\n",
       " ('4', '4', '4'),\n",
       " ('5', '5', '5'),\n",
       " ('6', '6', '6'),\n",
       " ('7', '7', '7'),\n",
       " ('8', '8', '8'),\n",
       " ('10', '10', '')]"
      ]
     },
     "execution_count": 264,
     "metadata": {},
     "output_type": "execute_result"
    }
   ],
   "source": [
    "import csv\n",
    "\n",
    "with open('col3.csv', 'r') as csv_file:\n",
    "    csv_reader = csv.reader(csv_file)\n",
    "    next(csv_reader)\n",
    "    data = []\n",
    "    for line in csv_reader:\n",
    "        data.append(tuple(line[1:4]))\n",
    "data"
   ]
  },
  {
   "cell_type": "markdown",
   "id": "ff7d0fe2",
   "metadata": {},
   "source": [
    "## # 제약조건 삭제\n",
    "---"
   ]
  },
  {
   "cell_type": "code",
   "execution_count": 176,
   "id": "ca97e12a",
   "metadata": {
    "ExecuteTime": {
     "end_time": "2022-02-24T02:15:44.865475Z",
     "start_time": "2022-02-24T02:15:44.732624Z"
    }
   },
   "outputs": [],
   "source": [
    "con = con = cx_Oracle.connect('C##CAKD5/CAKD5@localhost:1521/xe')\n",
    "cursor = con.cursor()\n",
    "sql = 'alter table sample2 drop constraint sample_pk'\n",
    "cursor.execute(sql)\n",
    "cursor.close()\n",
    "con.commit()\n",
    "con.close()"
   ]
  },
  {
   "cell_type": "markdown",
   "id": "9369f560",
   "metadata": {},
   "source": [
    "## # 대량 데이터 입력\n",
    "---"
   ]
  },
  {
   "cell_type": "code",
   "execution_count": null,
   "id": "eadab843",
   "metadata": {},
   "outputs": [],
   "source": [
    "# 예시\n",
    "\n",
    "with open('col3.csv', 'r') as csv_file:\n",
    "    csv_reader = csv.reader(csv_file)\n",
    "    next(csv_reader)\n",
    "    con = con = cx_Oracle.connect('C##CAKD5/CAKD5@localhost:1521/xe')\n",
    "    cursor = con.cursor()\n",
    "    sql = 'insert into sample2 (col01, col02, col03) values(:1, :2, :3)'\n",
    "    data = []\n",
    "    for line in csv_reader:\n",
    "        data.append(tuple(line[1:4]))\n",
    "    cursor.executemany(sql, data)\n",
    "    cursor.close()\n",
    "    con.commit()\n",
    "    con.close()"
   ]
  },
  {
   "cell_type": "code",
   "execution_count": 358,
   "id": "84ba8721",
   "metadata": {
    "ExecuteTime": {
     "end_time": "2022-02-24T03:29:10.252557Z",
     "start_time": "2022-02-24T03:29:10.165629Z"
    }
   },
   "outputs": [],
   "source": [
    "con = cx_Oracle.connect('C##CAKD5/CAKD5@localhost:1521/xe')\n",
    "cursor = con.cursor()\n",
    "sql = 'create table sample3(id varchar2(10), sales number)'\n",
    "cursor.execute(sql)\n",
    "cursor.close()\n",
    "con.commit()\n",
    "con.close()"
   ]
  },
  {
   "cell_type": "code",
   "execution_count": 359,
   "id": "491a7218",
   "metadata": {
    "ExecuteTime": {
     "end_time": "2022-02-24T03:29:11.257644Z",
     "start_time": "2022-02-24T03:29:11.247634Z"
    }
   },
   "outputs": [
    {
     "data": {
      "text/html": [
       "<div>\n",
       "<style scoped>\n",
       "    .dataframe tbody tr th:only-of-type {\n",
       "        vertical-align: middle;\n",
       "    }\n",
       "\n",
       "    .dataframe tbody tr th {\n",
       "        vertical-align: top;\n",
       "    }\n",
       "\n",
       "    .dataframe thead th {\n",
       "        text-align: right;\n",
       "    }\n",
       "</style>\n",
       "<table border=\"1\" class=\"dataframe\">\n",
       "  <thead>\n",
       "    <tr style=\"text-align: right;\">\n",
       "      <th></th>\n",
       "      <th>id</th>\n",
       "      <th>sales</th>\n",
       "    </tr>\n",
       "  </thead>\n",
       "  <tbody>\n",
       "    <tr>\n",
       "      <th>0</th>\n",
       "      <td>0</td>\n",
       "      <td>92</td>\n",
       "    </tr>\n",
       "    <tr>\n",
       "      <th>1</th>\n",
       "      <td>1</td>\n",
       "      <td>99</td>\n",
       "    </tr>\n",
       "    <tr>\n",
       "      <th>2</th>\n",
       "      <td>2</td>\n",
       "      <td>28</td>\n",
       "    </tr>\n",
       "    <tr>\n",
       "      <th>3</th>\n",
       "      <td>3</td>\n",
       "      <td>59</td>\n",
       "    </tr>\n",
       "    <tr>\n",
       "      <th>4</th>\n",
       "      <td>4</td>\n",
       "      <td>14</td>\n",
       "    </tr>\n",
       "    <tr>\n",
       "      <th>...</th>\n",
       "      <td>...</td>\n",
       "      <td>...</td>\n",
       "    </tr>\n",
       "    <tr>\n",
       "      <th>9995</th>\n",
       "      <td>9995</td>\n",
       "      <td>7</td>\n",
       "    </tr>\n",
       "    <tr>\n",
       "      <th>9996</th>\n",
       "      <td>9996</td>\n",
       "      <td>48</td>\n",
       "    </tr>\n",
       "    <tr>\n",
       "      <th>9997</th>\n",
       "      <td>9997</td>\n",
       "      <td>88</td>\n",
       "    </tr>\n",
       "    <tr>\n",
       "      <th>9998</th>\n",
       "      <td>9998</td>\n",
       "      <td>95</td>\n",
       "    </tr>\n",
       "    <tr>\n",
       "      <th>9999</th>\n",
       "      <td>9999</td>\n",
       "      <td>23</td>\n",
       "    </tr>\n",
       "  </tbody>\n",
       "</table>\n",
       "<p>10000 rows × 2 columns</p>\n",
       "</div>"
      ],
      "text/plain": [
       "        id  sales\n",
       "0        0     92\n",
       "1        1     99\n",
       "2        2     28\n",
       "3        3     59\n",
       "4        4     14\n",
       "...    ...    ...\n",
       "9995  9995      7\n",
       "9996  9996     48\n",
       "9997  9997     88\n",
       "9998  9998     95\n",
       "9999  9999     23\n",
       "\n",
       "[10000 rows x 2 columns]"
      ]
     },
     "execution_count": 359,
     "metadata": {},
     "output_type": "execute_result"
    }
   ],
   "source": [
    "import numpy as np\n",
    "import pandas as pd\n",
    "\n",
    "df = pd.DataFrame()\n",
    "df['id'] = np.arange(10000)\n",
    "df['sales'] = np.random.randint(1, 100, size = 10000)\n",
    "df"
   ]
  },
  {
   "cell_type": "code",
   "execution_count": 353,
   "id": "c9e0df00",
   "metadata": {
    "ExecuteTime": {
     "end_time": "2022-02-24T03:27:05.499355Z",
     "start_time": "2022-02-24T03:27:05.480614Z"
    }
   },
   "outputs": [],
   "source": [
    "# df['id'] = df['id'].astype(str)\n",
    "# df['sales'] = df['sales'].astype(str)\n",
    "df = df.astype(str)"
   ]
  },
  {
   "cell_type": "code",
   "execution_count": 360,
   "id": "9b2d0aac",
   "metadata": {
    "ExecuteTime": {
     "end_time": "2022-02-24T03:29:21.447346Z",
     "start_time": "2022-02-24T03:29:20.565409Z"
    }
   },
   "outputs": [],
   "source": [
    "data = [tuple(df.iloc[i]) for i in range(len(df))]    \n",
    "\n",
    "con = con = cx_Oracle.connect('C##CAKD5/CAKD5@localhost:1521/xe')\n",
    "cursor = con.cursor()\n",
    "sql = 'insert into sample3 (id, sales) values(:1, :2)'\n",
    "cursor.executemany(sql, data)\n",
    "cursor.close()\n",
    "con.commit()\n",
    "con.close()"
   ]
  },
  {
   "cell_type": "markdown",
   "id": "f629f4e8",
   "metadata": {},
   "source": [
    "## # 기타\n",
    "---"
   ]
  },
  {
   "cell_type": "markdown",
   "id": "de4fea0f",
   "metadata": {
    "ExecuteTime": {
     "end_time": "2022-02-24T03:03:25.789039Z",
     "start_time": "2022-02-24T03:03:25.785043Z"
    }
   },
   "source": [
    "### # 저장할 때 한글로 인코딩\n",
    "---"
   ]
  },
  {
   "cell_type": "code",
   "execution_count": 268,
   "id": "bab85343",
   "metadata": {
    "ExecuteTime": {
     "end_time": "2022-02-24T02:59:34.482013Z",
     "start_time": "2022-02-24T02:59:34.463997Z"
    }
   },
   "outputs": [],
   "source": [
    "df2 = pd.read_csv('col2.csv', index_col = 0)\n",
    "df2.to_csv('col2_2.csv', encoding = 'cp949')"
   ]
  },
  {
   "cell_type": "code",
   "execution_count": 269,
   "id": "fd53d0cb",
   "metadata": {
    "ExecuteTime": {
     "end_time": "2022-02-24T02:59:35.578239Z",
     "start_time": "2022-02-24T02:59:35.571241Z"
    }
   },
   "outputs": [
    {
     "data": {
      "text/plain": [
       "[('성윤', '33', '남자'),\n",
       " ('기현', '33', '남'),\n",
       " ('광민', '29', '남'),\n",
       " ('종원', '25', '여'),\n",
       " ('남현', '26', '남'),\n",
       " ('정호', '26', '남'),\n",
       " ('경수', '34', '남'),\n",
       " ('동연', '26', '남'),\n",
       " ('꼬북좌', '25', '여')]"
      ]
     },
     "execution_count": 269,
     "metadata": {},
     "output_type": "execute_result"
    }
   ],
   "source": [
    "import csv\n",
    "\n",
    "with open('col2_2.csv', 'r') as csv_file:\n",
    "    csv_reader = csv.reader(csv_file)\n",
    "    next(csv_reader)\n",
    "    data = []\n",
    "    for line in csv_reader:\n",
    "        data.append(tuple(line[1:4]))\n",
    "data"
   ]
  },
  {
   "cell_type": "code",
   "execution_count": 128,
   "id": "d678fbdc",
   "metadata": {
    "ExecuteTime": {
     "end_time": "2022-02-24T02:04:48.508694Z",
     "start_time": "2022-02-24T02:04:48.496684Z"
    }
   },
   "outputs": [
    {
     "data": {
      "text/plain": [
       "['a', ' b', ' c']"
      ]
     },
     "execution_count": 128,
     "metadata": {},
     "output_type": "execute_result"
    }
   ],
   "source": [
    "a = 'col, b, c'\n",
    "a.split(',')"
   ]
  }
 ],
 "metadata": {
  "hide_input": false,
  "kernelspec": {
   "display_name": "Python 3 (ipykernel)",
   "language": "python",
   "name": "python3"
  },
  "language_info": {
   "codemirror_mode": {
    "name": "ipython",
    "version": 3
   },
   "file_extension": ".py",
   "mimetype": "text/x-python",
   "name": "python",
   "nbconvert_exporter": "python",
   "pygments_lexer": "ipython3",
   "version": "3.8.12"
  },
  "toc": {
   "base_numbering": 1,
   "nav_menu": {},
   "number_sections": false,
   "sideBar": true,
   "skip_h1_title": false,
   "title_cell": "Table of Contents",
   "title_sidebar": "Contents",
   "toc_cell": false,
   "toc_position": {},
   "toc_section_display": true,
   "toc_window_display": false
  },
  "varInspector": {
   "cols": {
    "lenName": 16,
    "lenType": 16,
    "lenVar": 40
   },
   "kernels_config": {
    "python": {
     "delete_cmd_postfix": "",
     "delete_cmd_prefix": "del ",
     "library": "var_list.py",
     "varRefreshCmd": "print(var_dic_list())"
    },
    "r": {
     "delete_cmd_postfix": ") ",
     "delete_cmd_prefix": "rm(",
     "library": "var_list.r",
     "varRefreshCmd": "cat(var_dic_list()) "
    }
   },
   "types_to_exclude": [
    "module",
    "function",
    "builtin_function_or_method",
    "instance",
    "_Feature"
   ],
   "window_display": false
  }
 },
 "nbformat": 4,
 "nbformat_minor": 5
}
