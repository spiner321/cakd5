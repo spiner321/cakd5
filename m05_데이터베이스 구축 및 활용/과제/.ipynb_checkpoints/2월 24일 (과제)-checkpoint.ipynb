{
 "cells": [
  {
   "cell_type": "code",
   "execution_count": 1,
   "id": "5de4f29a",
   "metadata": {
    "ExecuteTime": {
     "end_time": "2022-02-25T01:19:50.620131Z",
     "start_time": "2022-02-25T01:19:48.887563Z"
    }
   },
   "outputs": [],
   "source": [
    "import cx_Oracle\n",
    "import pandas as pd\n",
    "import numpy as np\n",
    "import matplotlib.pyplot as plt\n",
    "import seaborn as sns\n",
    "import csv\n",
    "plt.style.use('seaborn')\n",
    "plt.rc('font', family = 'Malgun Gothic') # 한글 입력\n",
    "plt.rcParams['axes.unicode_minus'] = False # 글꼴 변경시 마이너스 표기 가능으로 처리"
   ]
  },
  {
   "cell_type": "markdown",
   "id": "0f15d5aa",
   "metadata": {},
   "source": [
    "##### [과제] employees 테이블을 불러와서 다음사항을 수행하세요\n",
    "---\n",
    "- 컬럼명을 포함하여 employees 테이블을 데이터프레임으로 출력\n",
    "- department_id별 평균 연봉을 출력\n",
    "- 부서별 평균 연봉을 수평 그래프로 시각화\n"
   ]
  },
  {
   "cell_type": "code",
   "execution_count": 6,
   "id": "872740cb",
   "metadata": {
    "ExecuteTime": {
     "end_time": "2022-02-25T00:48:50.918557Z",
     "start_time": "2022-02-25T00:48:50.725389Z"
    }
   },
   "outputs": [
    {
     "data": {
      "text/plain": [
       "[('EMPLOYEE_ID',),\n",
       " ('FIRST_NAME',),\n",
       " ('LAST_NAME',),\n",
       " ('EMAIL',),\n",
       " ('PHONE_NUMBER',),\n",
       " ('HIRE_DATE',),\n",
       " ('JOB_ID',),\n",
       " ('SALARY',),\n",
       " ('COMMISSION_PCT',),\n",
       " ('MANAGER_ID',),\n",
       " ('DEPARTMENT_ID',)]"
      ]
     },
     "execution_count": 6,
     "metadata": {},
     "output_type": "execute_result"
    }
   ],
   "source": [
    "con=cx_Oracle.connect('C##CAKD5/CAKD5@localhost:1521/xe')\n",
    "cursor=con.cursor()\n",
    "sql=\"select * from employees\"\n",
    "cursor.execute(sql)\n",
    "x=cursor.fetchall()\n",
    "df_col=pd.DataFrame(x)\n",
    "cursor.execute(\"select column_name from user_tab_columns where table_name='EMPLOYEES'\")\n",
    "col=cursor.fetchall()\n",
    "list_py=[]\n",
    "for i in col:\n",
    "    for j in i:\n",
    "        list_py.append(j)\n",
    "df_col.columns=list_py\n",
    "cursor.close()\n",
    "con.close()\n",
    "df_col\n",
    "col"
   ]
  },
  {
   "cell_type": "code",
   "execution_count": 7,
   "id": "3e46032e",
   "metadata": {
    "ExecuteTime": {
     "end_time": "2022-02-25T00:48:51.987277Z",
     "start_time": "2022-02-25T00:48:51.935238Z"
    }
   },
   "outputs": [
    {
     "data": {
      "text/plain": [
       "[(10, 4400),\n",
       " (20, 9500),\n",
       " (30, 4150),\n",
       " (40, 6500),\n",
       " (50, 3475.5555555555557),\n",
       " (60, 5760),\n",
       " (70, 10000),\n",
       " (80, 8955.882352941177),\n",
       " (90, 19333.333333333332),\n",
       " (100, 8601.333333333334),\n",
       " (110, 10154),\n",
       " (None, 7000)]"
      ]
     },
     "execution_count": 7,
     "metadata": {},
     "output_type": "execute_result"
    }
   ],
   "source": [
    "con=cx_Oracle.connect('C##CAKD5/CAKD5@localhost:1521/xe')\n",
    "cursor=con.cursor()\n",
    "sql=\"select department_id, avg(salary) from employees group by department_id order by department_id\"\n",
    "x = cursor.execute(sql).fetchall()\n",
    "# cursor.execute(sql)\n",
    "# x=cursor.fetchall()\n",
    "df_col=pd.DataFrame(x)\n",
    "df_col.columns=['부서','평균연봉']\n",
    "cursor.close()\n",
    "con.close()\n",
    "df_col\n",
    "x"
   ]
  },
  {
   "cell_type": "code",
   "execution_count": 52,
   "id": "0af7c50b",
   "metadata": {
    "ExecuteTime": {
     "end_time": "2022-02-25T01:03:06.408601Z",
     "start_time": "2022-02-25T01:03:06.265470Z"
    },
    "scrolled": false
   },
   "outputs": [
    {
     "data": {
      "text/plain": [
       "<AxesSubplot:ylabel='부서'>"
      ]
     },
     "execution_count": 52,
     "metadata": {},
     "output_type": "execute_result"
    },
    {
     "data": {
      "image/png": "[encoded data removed]",
      "text/plain": [
       "<Figure size 576x396 with 1 Axes>"
      ]
     },
     "metadata": {},
     "output_type": "display_data"
    }
   ],
   "source": [
    "df_col.plot.barh(x='부서', y='평균연봉')"
   ]
  },
  {
   "cell_type": "code",
   "execution_count": 39,
   "id": "4d87d417",
   "metadata": {
    "ExecuteTime": {
     "end_time": "2022-02-25T01:01:55.099099Z",
     "start_time": "2022-02-25T01:01:54.969536Z"
    }
   },
   "outputs": [
    {
     "data": {
      "text/plain": [
       "<AxesSubplot:xlabel='평균연봉', ylabel='부서'>"
      ]
     },
     "execution_count": 39,
     "metadata": {},
     "output_type": "execute_result"
    },
    {
     "data": {
      "image/png": "[encoded data removed]",
      "text/plain": [
       "<Figure size 576x396 with 1 Axes>"
      ]
     },
     "metadata": {},
     "output_type": "display_data"
    }
   ],
   "source": [
    "sns.barplot(data = df_col, x='평균연봉', y='부서', orient = 'h')"
   ]
  },
  {
   "cell_type": "markdown",
   "id": "b9c4970e",
   "metadata": {},
   "source": [
    "##### [과제] PURPROD 테이블을 불러와서 다음사항을 수행하세요.\n",
    "---\n",
    "- 고객별 2014년 2015년 총구매액 및 평균구매액 출력\n",
    "- 고객별 2014 VS 2015 총구매액 기준 성장율"
   ]
  },
  {
   "cell_type": "code",
   "execution_count": 11,
   "id": "ffa4c86b",
   "metadata": {
    "ExecuteTime": {
     "end_time": "2022-02-24T11:51:33.235762Z",
     "start_time": "2022-02-24T11:51:24.751358Z"
    }
   },
   "outputs": [
    {
     "data": {
      "text/html": [
       "<div>\n",
       "<style scoped>\n",
       "    .dataframe tbody tr th:only-of-type {\n",
       "        vertical-align: middle;\n",
       "    }\n",
       "\n",
       "    .dataframe tbody tr th {\n",
       "        vertical-align: top;\n",
       "    }\n",
       "\n",
       "    .dataframe thead th {\n",
       "        text-align: right;\n",
       "    }\n",
       "</style>\n",
       "<table border=\"1\" class=\"dataframe\">\n",
       "  <thead>\n",
       "    <tr style=\"text-align: right;\">\n",
       "      <th></th>\n",
       "      <th>custid</th>\n",
       "      <th>year</th>\n",
       "      <th>sum</th>\n",
       "      <th>avg</th>\n",
       "    </tr>\n",
       "  </thead>\n",
       "  <tbody>\n",
       "    <tr>\n",
       "      <th>0</th>\n",
       "      <td>00001</td>\n",
       "      <td>2014</td>\n",
       "      <td>54041667</td>\n",
       "      <td>90979</td>\n",
       "    </tr>\n",
       "    <tr>\n",
       "      <th>1</th>\n",
       "      <td>00001</td>\n",
       "      <td>2015</td>\n",
       "      <td>31000883</td>\n",
       "      <td>66957</td>\n",
       "    </tr>\n",
       "    <tr>\n",
       "      <th>2</th>\n",
       "      <td>00002</td>\n",
       "      <td>2014</td>\n",
       "      <td>46245330</td>\n",
       "      <td>75812</td>\n",
       "    </tr>\n",
       "    <tr>\n",
       "      <th>3</th>\n",
       "      <td>00002</td>\n",
       "      <td>2015</td>\n",
       "      <td>53635430</td>\n",
       "      <td>105999</td>\n",
       "    </tr>\n",
       "    <tr>\n",
       "      <th>4</th>\n",
       "      <td>00003</td>\n",
       "      <td>2014</td>\n",
       "      <td>1893769</td>\n",
       "      <td>2563</td>\n",
       "    </tr>\n",
       "    <tr>\n",
       "      <th>...</th>\n",
       "      <td>...</td>\n",
       "      <td>...</td>\n",
       "      <td>...</td>\n",
       "      <td>...</td>\n",
       "    </tr>\n",
       "    <tr>\n",
       "      <th>38701</th>\n",
       "      <td>19380</td>\n",
       "      <td>2014</td>\n",
       "      <td>522700</td>\n",
       "      <td>30747</td>\n",
       "    </tr>\n",
       "    <tr>\n",
       "      <th>38702</th>\n",
       "      <td>19380</td>\n",
       "      <td>2015</td>\n",
       "      <td>3390277</td>\n",
       "      <td>8015</td>\n",
       "    </tr>\n",
       "    <tr>\n",
       "      <th>38703</th>\n",
       "      <td>19381</td>\n",
       "      <td>2015</td>\n",
       "      <td>6040669</td>\n",
       "      <td>7504</td>\n",
       "    </tr>\n",
       "    <tr>\n",
       "      <th>38704</th>\n",
       "      <td>19382</td>\n",
       "      <td>2015</td>\n",
       "      <td>4401773</td>\n",
       "      <td>4858</td>\n",
       "    </tr>\n",
       "    <tr>\n",
       "      <th>38705</th>\n",
       "      <td>19383</td>\n",
       "      <td>2015</td>\n",
       "      <td>2384400</td>\n",
       "      <td>9171</td>\n",
       "    </tr>\n",
       "  </tbody>\n",
       "</table>\n",
       "<p>38706 rows × 4 columns</p>\n",
       "</div>"
      ],
      "text/plain": [
       "      custid  year       sum     avg\n",
       "0      00001  2014  54041667   90979\n",
       "1      00001  2015  31000883   66957\n",
       "2      00002  2014  46245330   75812\n",
       "3      00002  2015  53635430  105999\n",
       "4      00003  2014   1893769    2563\n",
       "...      ...   ...       ...     ...\n",
       "38701  19380  2014    522700   30747\n",
       "38702  19380  2015   3390277    8015\n",
       "38703  19381  2015   6040669    7504\n",
       "38704  19382  2015   4401773    4858\n",
       "38705  19383  2015   2384400    9171\n",
       "\n",
       "[38706 rows x 4 columns]"
      ]
     },
     "metadata": {},
     "output_type": "display_data"
    }
   ],
   "source": [
    "con = cx_Oracle .connect('LM_PDB/LM@localhost:1521/xepdb1')\n",
    "cursor = con.cursor()\n",
    "sql =\"SELECT 고객번호,year, SUM(구매금액) , ROUND(AVG(구매금액)) FROM purprod GROUP BY year, 고객번호 ORDER BY 고객번호\"\n",
    "cursor.execute(sql)\n",
    "x = cursor.fetchall()\n",
    "columns = ['custid','year','sum','avg']\n",
    "df1 = pd.DataFrame(x,columns=columns)\n",
    "display(df1)\n",
    "cursor.close()\n",
    "con.commit()\n",
    "con.close()"
   ]
  },
  {
   "cell_type": "code",
   "execution_count": 33,
   "id": "8c02f168",
   "metadata": {
    "ExecuteTime": {
     "end_time": "2022-02-25T00:57:01.366641Z",
     "start_time": "2022-02-25T00:56:44.547772Z"
    }
   },
   "outputs": [
    {
     "data": {
      "text/html": [
       "<div>\n",
       "<style scoped>\n",
       "    .dataframe tbody tr th:only-of-type {\n",
       "        vertical-align: middle;\n",
       "    }\n",
       "\n",
       "    .dataframe tbody tr th {\n",
       "        vertical-align: top;\n",
       "    }\n",
       "\n",
       "    .dataframe thead th {\n",
       "        text-align: right;\n",
       "    }\n",
       "</style>\n",
       "<table border=\"1\" class=\"dataframe\">\n",
       "  <thead>\n",
       "    <tr style=\"text-align: right;\">\n",
       "      <th></th>\n",
       "      <th>고객번호</th>\n",
       "      <th>매출 성장률</th>\n",
       "    </tr>\n",
       "  </thead>\n",
       "  <tbody>\n",
       "    <tr>\n",
       "      <th>0</th>\n",
       "      <td>00001</td>\n",
       "      <td>-42.64</td>\n",
       "    </tr>\n",
       "    <tr>\n",
       "      <th>1</th>\n",
       "      <td>00002</td>\n",
       "      <td>15.98</td>\n",
       "    </tr>\n",
       "    <tr>\n",
       "      <th>2</th>\n",
       "      <td>00003</td>\n",
       "      <td>-32.86</td>\n",
       "    </tr>\n",
       "    <tr>\n",
       "      <th>3</th>\n",
       "      <td>00004</td>\n",
       "      <td>-20.49</td>\n",
       "    </tr>\n",
       "    <tr>\n",
       "      <th>4</th>\n",
       "      <td>00005</td>\n",
       "      <td>-27.77</td>\n",
       "    </tr>\n",
       "    <tr>\n",
       "      <th>...</th>\n",
       "      <td>...</td>\n",
       "      <td>...</td>\n",
       "    </tr>\n",
       "    <tr>\n",
       "      <th>19318</th>\n",
       "      <td>19376</td>\n",
       "      <td>2386.40</td>\n",
       "    </tr>\n",
       "    <tr>\n",
       "      <th>19319</th>\n",
       "      <td>19377</td>\n",
       "      <td>2685.22</td>\n",
       "    </tr>\n",
       "    <tr>\n",
       "      <th>19320</th>\n",
       "      <td>19378</td>\n",
       "      <td>3693.11</td>\n",
       "    </tr>\n",
       "    <tr>\n",
       "      <th>19321</th>\n",
       "      <td>19379</td>\n",
       "      <td>285.40</td>\n",
       "    </tr>\n",
       "    <tr>\n",
       "      <th>19322</th>\n",
       "      <td>19380</td>\n",
       "      <td>548.61</td>\n",
       "    </tr>\n",
       "  </tbody>\n",
       "</table>\n",
       "<p>19323 rows × 2 columns</p>\n",
       "</div>"
      ],
      "text/plain": [
       "        고객번호   매출 성장률\n",
       "0      00001   -42.64\n",
       "1      00002    15.98\n",
       "2      00003   -32.86\n",
       "3      00004   -20.49\n",
       "4      00005   -27.77\n",
       "...      ...      ...\n",
       "19318  19376  2386.40\n",
       "19319  19377  2685.22\n",
       "19320  19378  3693.11\n",
       "19321  19379   285.40\n",
       "19322  19380   548.61\n",
       "\n",
       "[19323 rows x 2 columns]"
      ]
     },
     "metadata": {},
     "output_type": "display_data"
    }
   ],
   "source": [
    "con = cx_Oracle .connect('LM_PDB/LM@localhost:1521/xepdb1')\n",
    "cursor = con.cursor()\n",
    "sql ='SELECT a.고객번호, ROUND((\"2015구매\" - \"2014구매\")/\"2014구매\" * 100, 2) \"성장률\" \\\n",
    "FROM (SELECT 고객번호, SUM(구매금액) \"2014구매\" FROM PURPROD WHERE YEAR = 2014 GROUP BY 고객번호 ORDER BY 고객번호) a, \\\n",
    "     (SELECT 고객번호, SUM(구매금액) \"2015구매\" FROM PURPROD WHERE YEAR = 2015 GROUP BY 고객번호 ORDER BY 고객번호) b \\\n",
    "WHERE a.고객번호 = b.고객번호'\n",
    "cursor.execute(sql)\n",
    "x = cursor.fetchall()\n",
    "columns = ['고객번호', '매출 성장률']\n",
    "df1 = pd.DataFrame(x,columns=columns)\n",
    "display(df1)\n",
    "cursor.close()\n",
    "con.commit()\n",
    "con.close()"
   ]
  },
  {
   "cell_type": "code",
   "execution_count": 2,
   "id": "b4c6aa26",
   "metadata": {
    "ExecuteTime": {
     "end_time": "2022-02-25T01:19:54.888969Z",
     "start_time": "2022-02-25T01:19:54.484610Z"
    }
   },
   "outputs": [
    {
     "data": {
      "text/html": [
       "<div>\n",
       "<style scoped>\n",
       "    .dataframe tbody tr th:only-of-type {\n",
       "        vertical-align: middle;\n",
       "    }\n",
       "\n",
       "    .dataframe tbody tr th {\n",
       "        vertical-align: top;\n",
       "    }\n",
       "\n",
       "    .dataframe thead th {\n",
       "        text-align: right;\n",
       "    }\n",
       "</style>\n",
       "<table border=\"1\" class=\"dataframe\">\n",
       "  <thead>\n",
       "    <tr style=\"text-align: right;\">\n",
       "      <th></th>\n",
       "      <th>고객번호</th>\n",
       "      <th>YEAR</th>\n",
       "      <th>구매액</th>\n",
       "    </tr>\n",
       "  </thead>\n",
       "  <tbody>\n",
       "    <tr>\n",
       "      <th>0</th>\n",
       "      <td>00001</td>\n",
       "      <td>2014</td>\n",
       "      <td>54041667</td>\n",
       "    </tr>\n",
       "    <tr>\n",
       "      <th>1</th>\n",
       "      <td>00001</td>\n",
       "      <td>2015</td>\n",
       "      <td>31000883</td>\n",
       "    </tr>\n",
       "    <tr>\n",
       "      <th>2</th>\n",
       "      <td>00002</td>\n",
       "      <td>2014</td>\n",
       "      <td>46245330</td>\n",
       "    </tr>\n",
       "    <tr>\n",
       "      <th>3</th>\n",
       "      <td>00002</td>\n",
       "      <td>2015</td>\n",
       "      <td>53635430</td>\n",
       "    </tr>\n",
       "    <tr>\n",
       "      <th>4</th>\n",
       "      <td>00003</td>\n",
       "      <td>2014</td>\n",
       "      <td>1893769</td>\n",
       "    </tr>\n",
       "  </tbody>\n",
       "</table>\n",
       "</div>"
      ],
      "text/plain": [
       "    고객번호  YEAR       구매액\n",
       "0  00001  2014  54041667\n",
       "1  00001  2015  31000883\n",
       "2  00002  2014  46245330\n",
       "3  00002  2015  53635430\n",
       "4  00003  2014   1893769"
      ]
     },
     "execution_count": 2,
     "metadata": {},
     "output_type": "execute_result"
    }
   ],
   "source": [
    "import cx_Oracle\n",
    "import pandas as pd\n",
    "con = cx_Oracle.connect(\"LM_PDB\",\"LM\",\"localhost:1521/xepdb1\")\n",
    "cursor = con.cursor()\n",
    "cursor.execute(\"select * from PURBYYEAR\")\n",
    "x = cursor.fetchall()\n",
    "\n",
    "cursor.execute(\"select column_name from user_tab_columns where table_name='PURBYYEAR'\")\n",
    "col = cursor.fetchall()\n",
    "col_list = []\n",
    "for i in col:\n",
    "    for j in i:\n",
    "        col_list.append(j)\n",
    "\n",
    "df = pd.DataFrame(x,columns=col_list)\n",
    "df.head()"
   ]
  },
  {
   "cell_type": "code",
   "execution_count": 24,
   "id": "4163ab59",
   "metadata": {
    "ExecuteTime": {
     "end_time": "2022-02-25T01:21:56.112503Z",
     "start_time": "2022-02-25T01:21:56.071154Z"
    }
   },
   "outputs": [
    {
     "data": {
      "text/html": [
       "<div>\n",
       "<style scoped>\n",
       "    .dataframe tbody tr th:only-of-type {\n",
       "        vertical-align: middle;\n",
       "    }\n",
       "\n",
       "    .dataframe tbody tr th {\n",
       "        vertical-align: top;\n",
       "    }\n",
       "\n",
       "    .dataframe thead th {\n",
       "        text-align: right;\n",
       "    }\n",
       "</style>\n",
       "<table border=\"1\" class=\"dataframe\">\n",
       "  <thead>\n",
       "    <tr style=\"text-align: right;\">\n",
       "      <th>YEAR</th>\n",
       "      <th>2014</th>\n",
       "      <th>2015</th>\n",
       "    </tr>\n",
       "    <tr>\n",
       "      <th>고객번호</th>\n",
       "      <th></th>\n",
       "      <th></th>\n",
       "    </tr>\n",
       "  </thead>\n",
       "  <tbody>\n",
       "    <tr>\n",
       "      <th>00001</th>\n",
       "      <td>54041667.0</td>\n",
       "      <td>31000883.0</td>\n",
       "    </tr>\n",
       "    <tr>\n",
       "      <th>00002</th>\n",
       "      <td>46245330.0</td>\n",
       "      <td>53635430.0</td>\n",
       "    </tr>\n",
       "    <tr>\n",
       "      <th>00003</th>\n",
       "      <td>1893769.0</td>\n",
       "      <td>1271398.0</td>\n",
       "    </tr>\n",
       "    <tr>\n",
       "      <th>00004</th>\n",
       "      <td>9299616.0</td>\n",
       "      <td>7394194.0</td>\n",
       "    </tr>\n",
       "    <tr>\n",
       "      <th>00005</th>\n",
       "      <td>7685880.0</td>\n",
       "      <td>5551190.0</td>\n",
       "    </tr>\n",
       "  </tbody>\n",
       "</table>\n",
       "</div>"
      ],
      "text/plain": [
       "YEAR         2014        2015\n",
       "고객번호                         \n",
       "00001  54041667.0  31000883.0\n",
       "00002  46245330.0  53635430.0\n",
       "00003   1893769.0   1271398.0\n",
       "00004   9299616.0   7394194.0\n",
       "00005   7685880.0   5551190.0"
      ]
     },
     "execution_count": 24,
     "metadata": {},
     "output_type": "execute_result"
    }
   ],
   "source": [
    "df_pv1 = df.pivot(index='고객번호',columns='YEAR',values='구매액')\n",
    "df_pv2 = df_pv1.reset_index()\n",
    "df_pv3= df_pv2.set_index(keys=['고객번호'])\n",
    "df_pv3.head()"
   ]
  },
  {
   "cell_type": "code",
   "execution_count": 32,
   "id": "2fd25274",
   "metadata": {
    "ExecuteTime": {
     "end_time": "2022-02-25T00:56:34.399360Z",
     "start_time": "2022-02-25T00:56:34.385356Z"
    }
   },
   "outputs": [
    {
     "data": {
      "text/html": [
       "<div>\n",
       "<style scoped>\n",
       "    .dataframe tbody tr th:only-of-type {\n",
       "        vertical-align: middle;\n",
       "    }\n",
       "\n",
       "    .dataframe tbody tr th {\n",
       "        vertical-align: top;\n",
       "    }\n",
       "\n",
       "    .dataframe thead th {\n",
       "        text-align: right;\n",
       "    }\n",
       "</style>\n",
       "<table border=\"1\" class=\"dataframe\">\n",
       "  <thead>\n",
       "    <tr style=\"text-align: right;\">\n",
       "      <th>YEAR</th>\n",
       "      <th>2014</th>\n",
       "      <th>2015</th>\n",
       "      <th>성장율</th>\n",
       "    </tr>\n",
       "    <tr>\n",
       "      <th>고객번호</th>\n",
       "      <th></th>\n",
       "      <th></th>\n",
       "      <th></th>\n",
       "    </tr>\n",
       "  </thead>\n",
       "  <tbody>\n",
       "    <tr>\n",
       "      <th>00001</th>\n",
       "      <td>54041667.0</td>\n",
       "      <td>31000883.0</td>\n",
       "      <td>-0.426352</td>\n",
       "    </tr>\n",
       "    <tr>\n",
       "      <th>00002</th>\n",
       "      <td>46245330.0</td>\n",
       "      <td>53635430.0</td>\n",
       "      <td>0.159802</td>\n",
       "    </tr>\n",
       "    <tr>\n",
       "      <th>00003</th>\n",
       "      <td>1893769.0</td>\n",
       "      <td>1271398.0</td>\n",
       "      <td>-0.328641</td>\n",
       "    </tr>\n",
       "    <tr>\n",
       "      <th>00004</th>\n",
       "      <td>9299616.0</td>\n",
       "      <td>7394194.0</td>\n",
       "      <td>-0.204893</td>\n",
       "    </tr>\n",
       "    <tr>\n",
       "      <th>00005</th>\n",
       "      <td>7685880.0</td>\n",
       "      <td>5551190.0</td>\n",
       "      <td>-0.277742</td>\n",
       "    </tr>\n",
       "  </tbody>\n",
       "</table>\n",
       "</div>"
      ],
      "text/plain": [
       "YEAR         2014        2015       성장율\n",
       "고객번호                                   \n",
       "00001  54041667.0  31000883.0 -0.426352\n",
       "00002  46245330.0  53635430.0  0.159802\n",
       "00003   1893769.0   1271398.0 -0.328641\n",
       "00004   9299616.0   7394194.0 -0.204893\n",
       "00005   7685880.0   5551190.0 -0.277742"
      ]
     },
     "execution_count": 32,
     "metadata": {},
     "output_type": "execute_result"
    }
   ],
   "source": [
    "df_pv3['성장율'] = (df_pv3[2015]-df_pv3[2014])/df_pv3[2014] \n",
    "df_pv3.head()"
   ]
  }
 ],
 "metadata": {
  "hide_input": false,
  "kernelspec": {
   "display_name": "Python 3 (ipykernel)",
   "language": "python",
   "name": "python3"
  },
  "language_info": {
   "codemirror_mode": {
    "name": "ipython",
    "version": 3
   },
   "file_extension": ".py",
   "mimetype": "text/x-python",
   "name": "python",
   "nbconvert_exporter": "python",
   "pygments_lexer": "ipython3",
   "version": "3.8.12"
  },
  "toc": {
   "base_numbering": 1,
   "nav_menu": {},
   "number_sections": false,
   "sideBar": true,
   "skip_h1_title": false,
   "title_cell": "Table of Contents",
   "title_sidebar": "Contents",
   "toc_cell": false,
   "toc_position": {},
   "toc_section_display": true,
   "toc_window_display": false
  },
  "varInspector": {
   "cols": {
    "lenName": 16,
    "lenType": 16,
    "lenVar": 40
   },
   "kernels_config": {
    "python": {
     "delete_cmd_postfix": "",
     "delete_cmd_prefix": "del ",
     "library": "var_list.py",
     "varRefreshCmd": "print(var_dic_list())"
    },
    "r": {
     "delete_cmd_postfix": ") ",
     "delete_cmd_prefix": "rm(",
     "library": "var_list.r",
     "varRefreshCmd": "cat(var_dic_list()) "
    }
   },
   "types_to_exclude": [
    "module",
    "function",
    "builtin_function_or_method",
    "instance",
    "_Feature"
   ],
   "window_display": false
  }
 },
 "nbformat": 4,
 "nbformat_minor": 5
}
