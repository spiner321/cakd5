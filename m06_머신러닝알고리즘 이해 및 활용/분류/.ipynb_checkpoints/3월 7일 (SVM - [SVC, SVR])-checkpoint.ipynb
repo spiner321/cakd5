{
 "cells": [
  {
   "cell_type": "code",
   "execution_count": 26,
   "id": "b9d7fa00",
   "metadata": {
    "ExecuteTime": {
     "end_time": "2022-03-07T07:20:15.462250Z",
     "start_time": "2022-03-07T07:20:15.441311Z"
    }
   },
   "outputs": [],
   "source": [
    "import pandas as pd\n",
    "import numpy as np\n",
    "from sklearn import preprocessing\n",
    "from sklearn.model_selection import train_test_split\n",
    "from sklearn.metrics import accuracy_score\n",
    "from sklearn.metrics import accuracy_score\n",
    "from sklearn.svm import SVC\n",
    "from sklearn import datasets\n",
    "from sklearn.svm import SVR\n",
    "from sklearn.metrics import mean_squared_error\n",
    "import warnings\n",
    "warnings.filterwarnings('ignore')"
   ]
  },
  {
   "cell_type": "markdown",
   "id": "1f75d6da",
   "metadata": {},
   "source": [
    "# [3월 7일]\n",
    "---"
   ]
  },
  {
   "cell_type": "markdown",
   "id": "57687cc2",
   "metadata": {
    "ExecuteTime": {
     "end_time": "2022-03-07T07:07:57.473181Z",
     "start_time": "2022-03-07T07:07:57.452205Z"
    }
   },
   "source": [
    "## # SVM\n",
    "---\n",
    "- 참고 : https://wooono.tistory.com/111"
   ]
  },
  {
   "cell_type": "code",
   "execution_count": 4,
   "id": "dc81b33b",
   "metadata": {
    "ExecuteTime": {
     "end_time": "2022-03-07T07:10:01.226043Z",
     "start_time": "2022-03-07T07:10:01.211052Z"
    }
   },
   "outputs": [],
   "source": [
    "t_df = pd.read_pickle('../data/t_df.pkl')\n",
    "\n",
    "X = t_df.drop('survived', axis = 1)\n",
    "X = preprocessing.StandardScaler().fit_transform(X)\n",
    "y = t_df['survived']\n",
    "\n",
    "X_train, X_test, y_train, y_test = train_test_split(X, y, test_size = 0.2, random_state = 10)"
   ]
  },
  {
   "cell_type": "markdown",
   "id": "095cebaa",
   "metadata": {},
   "source": [
    "### # SVC\n",
    "---\n",
    "- 분류 모델"
   ]
  },
  {
   "cell_type": "code",
   "execution_count": 16,
   "id": "566d2191",
   "metadata": {
    "ExecuteTime": {
     "end_time": "2022-03-07T07:15:48.468254Z",
     "start_time": "2022-03-07T07:15:48.400134Z"
    }
   },
   "outputs": [
    {
     "name": "stdout",
     "output_type": "stream",
     "text": [
      "svm 정확도 : 0.8091603053435115\n"
     ]
    }
   ],
   "source": [
    "from sklearn.metrics import accuracy_score\n",
    "from sklearn.svm import SVC\n",
    "\n",
    "svm_model = SVC(kernel = 'rbf', random_state = 0)    # 커널 : 벡터 공간으로 매핑하는 함수\n",
    "svm_model.fit(X_train, y_train)\n",
    "svm_pred = svm_model.predict(X_test)\n",
    "svm_accuracy = accuracy_score(y_test, svm_pred)\n",
    "\n",
    "print('svm 정확도 :', svm_accuracy)"
   ]
  },
  {
   "cell_type": "markdown",
   "id": "8be7ccd5",
   "metadata": {},
   "source": [
    "### # SVR\n",
    "---\n",
    "- 회귀 모델"
   ]
  },
  {
   "cell_type": "code",
   "execution_count": 32,
   "id": "acf7dc15",
   "metadata": {
    "ExecuteTime": {
     "end_time": "2022-03-07T07:24:08.451792Z",
     "start_time": "2022-03-07T07:24:06.321060Z"
    }
   },
   "outputs": [
    {
     "name": "stdout",
     "output_type": "stream",
     "text": [
      "mse : 15.377\n",
      "rmse : 3.921\n"
     ]
    }
   ],
   "source": [
    "from sklearn import datasets\n",
    "from sklearn.svm import SVR\n",
    "from sklearn.metrics import mean_squared_error\n",
    "from sklearn.utils import shuffle\n",
    "\n",
    "data = datasets.load_boston()\n",
    "X, y = shuffle(data['data'], data['target'], random_state = 7)\n",
    "num_training = int(0.8 * len(X))\n",
    "X_train, y_train = X[:num_training], y[:num_training]\n",
    "X_test, y_test = X[num_training:], y[num_training:]\n",
    "\n",
    "svr = SVR(kernel = 'linear', C = 1.0, epsilon = 0.1)      # C : 학습 오류에 대한 패널티, C 값이 클 수록 모델이 학습 데이터에 좀 더 최적화 됨, 너무 크면 오버피팅 발생\n",
    "                                                          # Epsilon : 임계값, 예측한 값이 GT 범위 안에 있으면 패널티를 부여하지 않음.\n",
    "svr.fit(X_train, y_train)\n",
    "y_pred = svr.predict(X_test)\n",
    "mse = mean_squared_error(y_test, y_pred)\n",
    "rmse = np.sqrt(mse)\n",
    "\n",
    "print('mse :', np.round(mse, 3))\n",
    "print('rmse :', np.round(rmse, 3))"
   ]
  }
 ],
 "metadata": {
  "hide_input": false,
  "kernelspec": {
   "display_name": "Python 3 (ipykernel)",
   "language": "python",
   "name": "python3"
  },
  "language_info": {
   "codemirror_mode": {
    "name": "ipython",
    "version": 3
   },
   "file_extension": ".py",
   "mimetype": "text/x-python",
   "name": "python",
   "nbconvert_exporter": "python",
   "pygments_lexer": "ipython3",
   "version": "3.8.12"
  },
  "toc": {
   "base_numbering": 1,
   "nav_menu": {},
   "number_sections": false,
   "sideBar": true,
   "skip_h1_title": false,
   "title_cell": "Table of Contents",
   "title_sidebar": "Contents",
   "toc_cell": false,
   "toc_position": {},
   "toc_section_display": true,
   "toc_window_display": false
  },
  "varInspector": {
   "cols": {
    "lenName": "16",
    "lenType": "16",
    "lenVar": 40
   },
   "kernels_config": {
    "python": {
     "delete_cmd_postfix": "",
     "delete_cmd_prefix": "del ",
     "library": "var_list.py",
     "varRefreshCmd": "print(var_dic_list())"
    },
    "r": {
     "delete_cmd_postfix": ") ",
     "delete_cmd_prefix": "rm(",
     "library": "var_list.r",
     "varRefreshCmd": "cat(var_dic_list()) "
    }
   },
   "types_to_exclude": [
    "module",
    "function",
    "builtin_function_or_method",
    "instance",
    "_Feature"
   ],
   "window_display": false
  }
 },
 "nbformat": 4,
 "nbformat_minor": 5
}
