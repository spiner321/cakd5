{
 "cells": [
  {
   "cell_type": "code",
   "execution_count": 11,
   "id": "861a63f5",
   "metadata": {
    "ExecuteTime": {
     "end_time": "2022-03-07T06:49:56.008955Z",
     "start_time": "2022-03-07T06:49:55.989113Z"
    }
   },
   "outputs": [],
   "source": [
    "import pandas as pd\n",
    "from sklearn import preprocessing\n",
    "from sklearn.model_selection import train_test_split\n",
    "from sklearn.metrics import accuracy_score\n",
    "from sklearn.neighbors import KNeighborsClassifier"
   ]
  },
  {
   "cell_type": "markdown",
   "id": "7a357b2e",
   "metadata": {},
   "source": [
    "# [3월 7일]\n",
    "---"
   ]
  },
  {
   "cell_type": "markdown",
   "id": "6389f54f",
   "metadata": {
    "ExecuteTime": {
     "end_time": "2022-03-07T06:40:15.184237Z",
     "start_time": "2022-03-07T06:40:15.164257Z"
    }
   },
   "source": [
    "## # K-NN\n",
    "---\n",
    "- K-최근접 이웃 알고리즘\n",
    "- 참고 : https://velog.io/@jhlee508/%EB%A8%B8%EC%8B%A0%EB%9F%AC%EB%8B%9D-KNNK-Nearest-Neighbor-%EC%95%8C%EA%B3%A0%EB%A6%AC%EC%A6%98\n"
   ]
  },
  {
   "cell_type": "code",
   "execution_count": 9,
   "id": "34f7bd4d",
   "metadata": {
    "ExecuteTime": {
     "end_time": "2022-03-07T06:49:12.028844Z",
     "start_time": "2022-03-07T06:49:12.003924Z"
    }
   },
   "outputs": [],
   "source": [
    "t_df = pd.read_pickle('../data/t_df.pkl')\n",
    "\n",
    "X = t_df.drop('survived', axis = 1)\n",
    "X = preprocessing.StandardScaler().fit_transform(X)\n",
    "y = t_df['survived']\n",
    "\n",
    "X_train, X_test, y_train, y_test = train_test_split(X, y, test_size = 0.2, random_state = 10)"
   ]
  },
  {
   "cell_type": "code",
   "execution_count": 14,
   "id": "c4268776",
   "metadata": {
    "ExecuteTime": {
     "end_time": "2022-03-07T06:52:09.247325Z",
     "start_time": "2022-03-07T06:52:09.218405Z"
    }
   },
   "outputs": [
    {
     "name": "stdout",
     "output_type": "stream",
     "text": [
      "KNN 정확도 : 0.767175572519084\n"
     ]
    }
   ],
   "source": [
    "from sklearn.metrics import accuracy_score\n",
    "from sklearn.neighbors import KNeighborsClassifier\n",
    "\n",
    "k_model = KNeighborsClassifier(n_neighbors = 5)\n",
    "k_model.fit(X_train, y_train)\n",
    "k_pred = k_model.predict(X_test)\n",
    "\n",
    "k_accuracy = accuracy_score(y_test, k_pred)\n",
    "print('KNN 정확도 :', k_accuracy)"
   ]
  }
 ],
 "metadata": {
  "hide_input": false,
  "kernelspec": {
   "display_name": "Python 3 (ipykernel)",
   "language": "python",
   "name": "python3"
  },
  "language_info": {
   "codemirror_mode": {
    "name": "ipython",
    "version": 3
   },
   "file_extension": ".py",
   "mimetype": "text/x-python",
   "name": "python",
   "nbconvert_exporter": "python",
   "pygments_lexer": "ipython3",
   "version": "3.8.12"
  },
  "toc": {
   "base_numbering": 1,
   "nav_menu": {},
   "number_sections": false,
   "sideBar": true,
   "skip_h1_title": false,
   "title_cell": "Table of Contents",
   "title_sidebar": "Contents",
   "toc_cell": false,
   "toc_position": {
    "height": "827px",
    "left": "90px",
    "top": "88px",
    "width": "292px"
   },
   "toc_section_display": true,
   "toc_window_display": true
  },
  "varInspector": {
   "cols": {
    "lenName": "16",
    "lenType": "16",
    "lenVar": 40
   },
   "kernels_config": {
    "python": {
     "delete_cmd_postfix": "",
     "delete_cmd_prefix": "del ",
     "library": "var_list.py",
     "varRefreshCmd": "print(var_dic_list())"
    },
    "r": {
     "delete_cmd_postfix": ") ",
     "delete_cmd_prefix": "rm(",
     "library": "var_list.r",
     "varRefreshCmd": "cat(var_dic_list()) "
    }
   },
   "types_to_exclude": [
    "module",
    "function",
    "builtin_function_or_method",
    "instance",
    "_Feature"
   ],
   "window_display": false
  }
 },
 "nbformat": 4,
 "nbformat_minor": 5
}
