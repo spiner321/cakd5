{
 "cells": [
  {
   "cell_type": "code",
   "execution_count": 7,
   "id": "68ec2eb0",
   "metadata": {
    "ExecuteTime": {
     "end_time": "2022-03-10T03:15:16.475180Z",
     "start_time": "2022-03-10T03:15:11.731053Z"
    }
   },
   "outputs": [],
   "source": [
    "import numpy as np\n",
    "import pandas as pd\n",
    "import matplotlib.pyplot as plt\n",
    "import seaborn as sns\n",
    "plt.style.use('seaborn')"
   ]
  },
  {
   "cell_type": "markdown",
   "id": "26946899",
   "metadata": {},
   "source": [
    "# [3월 10일]\n",
    "---"
   ]
  },
  {
   "cell_type": "markdown",
   "id": "ed14f3ad",
   "metadata": {},
   "source": [
    "## # 경사하강법\n",
    "---\n",
    "[비용 최소화]  \n",
    "\n",
    "- 비용함수 R(w)는 변수가 w 파라미터로 이뤄진 함수이며 R(w)를 최소화하는 w0와 w1의 값은 R(w)를 w0, w1으로 순차적으로 편미분해 얻을 수 있다.  \n",
    " w1 편미분값 : $-2/N*sigmax*diff$, w0 편미분값 : $-2/N*sigma*diff$\n",
    "- 업데이트는 새로운 w1을 이전 w1에서 편미분 결과값을 반영하는데 기울기가 양수이면 감소, 음수이면 증가\n",
    "- 편미분값이 너무 클 수 있기 때문에 보정 계수를 곱하는데 이를 학습률이라고 한다.\n",
    " - learning rate(학습률) : https://blog.naver.com/heetae185/222646465288\n",
    "- 참조 : https://www.youtube.com/watch?v=ve6gtpZV83E, https://angeloyeo.github.io/2020/08/16/gradient_descent.html"
   ]
  },
  {
   "cell_type": "code",
   "execution_count": 15,
   "id": "cacb7ea4",
   "metadata": {
    "ExecuteTime": {
     "end_time": "2022-03-10T03:21:17.407078Z",
     "start_time": "2022-03-10T03:21:17.387107Z"
    }
   },
   "outputs": [],
   "source": [
    "# 경사하강법 사용자 함수\n",
    "def get_weight_updates(w1, w0, X, y, learning_rate = 0.01):\n",
    "    N = len(y)\n",
    "    w1_update = np.zeros_like(w1)\n",
    "    w0_update = np.zeros_like(w0)\n",
    "    y_pred = np.dot(X, w1.T) + w0 # 회귀식\n",
    "    diff = y - y_pred\n",
    "    w0_factors = np.ones((N, 1))\n",
    "    w1_update = -(2/N) * learning_rate * (np.dot(X.T, diff))\n",
    "    w0_update = -(2/N) * learning_rate * (np.dot(w0_factors.T, diff))\n",
    "    return w1_update, w0_update\n",
    "\n",
    "# 경사하강법 연속 반영\n",
    "def gradient_descent_steps(X, y, iters = 10000):\n",
    "    w0 = np.zeros((1, 1))\n",
    "    w1 = np.zeros((1, 1))\n",
    "    \n",
    "    for ind in range(iters):\n",
    "        w1_update, w0_update = get_weight_updates(w1, w0, X, y, learning_rate = 0.01)\n",
    "        w1 = w1 - w1_update\n",
    "        w0 = w1 - w0_update\n",
    "    return w1, w0\n",
    "\n",
    "# 손실 함수 (or 비용 함수)\n",
    "def get_cost(y, y_pred):\n",
    "    N = len(y)\n",
    "    cost = np.sum(np.square(y - y_pred))/N\n",
    "    return cost"
   ]
  },
  {
   "cell_type": "code",
   "execution_count": 11,
   "id": "854f9f94",
   "metadata": {
    "ExecuteTime": {
     "end_time": "2022-03-10T03:16:41.549497Z",
     "start_time": "2022-03-10T03:16:41.350963Z"
    }
   },
   "outputs": [
    {
     "data": {
      "image/png": "[encoded data removed]",
      "text/plain": [
       "<Figure size 576x360 with 1 Axes>"
      ]
     },
     "metadata": {},
     "output_type": "display_data"
    }
   ],
   "source": [
    "# 간단한 회귀 예측 데이터\n",
    "\n",
    "np.random.seed(2)\n",
    "X = np.random.rand(100, 1)\n",
    "y = 6 + 4 * X + np.random.randn(100, 1)\n",
    "\n",
    "plt.figure(figsize = (8, 5))\n",
    "plt.scatter(X, y)\n",
    "plt.show()"
   ]
  },
  {
   "cell_type": "code",
   "execution_count": 16,
   "id": "98940397",
   "metadata": {
    "ExecuteTime": {
     "end_time": "2022-03-10T03:21:20.780873Z",
     "start_time": "2022-03-10T03:21:20.725118Z"
    }
   },
   "outputs": [
    {
     "name": "stdout",
     "output_type": "stream",
     "text": [
      "w1 : 5.380 w0 : 5.382\n",
      "Gradient Descent Total Cost : 1.2624883083815899\n"
     ]
    }
   ],
   "source": [
    "w1, w0 = gradient_descent_steps(X, y, iters = 1000)\n",
    "print(f'w1 : {w1[0, 0]:.3f} w0 : {w0[0, 0]:.3f}')\n",
    "y_pred = w1[0, 0] * X + w0\n",
    "print(f'Gradient Descent Total Cost : {get_cost(y, y_pred)}')"
   ]
  }
 ],
 "metadata": {
  "hide_input": false,
  "kernelspec": {
   "display_name": "Python 3 (ipykernel)",
   "language": "python",
   "name": "python3"
  },
  "language_info": {
   "codemirror_mode": {
    "name": "ipython",
    "version": 3
   },
   "file_extension": ".py",
   "mimetype": "text/x-python",
   "name": "python",
   "nbconvert_exporter": "python",
   "pygments_lexer": "ipython3",
   "version": "3.8.12"
  },
  "toc": {
   "base_numbering": 1,
   "nav_menu": {},
   "number_sections": false,
   "sideBar": true,
   "skip_h1_title": false,
   "title_cell": "Table of Contents",
   "title_sidebar": "Contents",
   "toc_cell": false,
   "toc_position": {},
   "toc_section_display": true,
   "toc_window_display": false
  },
  "varInspector": {
   "cols": {
    "lenName": "16",
    "lenType": "16",
    "lenVar": 40
   },
   "kernels_config": {
    "python": {
     "delete_cmd_postfix": "",
     "delete_cmd_prefix": "del ",
     "library": "var_list.py",
     "varRefreshCmd": "print(var_dic_list())"
    },
    "r": {
     "delete_cmd_postfix": ") ",
     "delete_cmd_prefix": "rm(",
     "library": "var_list.r",
     "varRefreshCmd": "cat(var_dic_list()) "
    }
   },
   "types_to_exclude": [
    "module",
    "function",
    "builtin_function_or_method",
    "instance",
    "_Feature"
   ],
   "window_display": false
  }
 },
 "nbformat": 4,
 "nbformat_minor": 5
}
