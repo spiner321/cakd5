{
 "cells": [
  {
   "cell_type": "code",
   "execution_count": 75,
   "id": "2c31962a",
   "metadata": {
    "ExecuteTime": {
     "end_time": "2022-03-14T01:31:41.969518Z",
     "start_time": "2022-03-14T01:31:41.962512Z"
    }
   },
   "outputs": [],
   "source": [
    "from sklearn.datasets import load_boston\n",
    "from sklearn.model_selection import train_test_split, cross_val_score, KFold\n",
    "from sklearn.ensemble import RandomForestRegressor\n",
    "from xgboost import XGBRegressor\n",
    "from lightgbm import LGBMRegressor\n",
    "from sklearn.linear_model import LinearRegression\n",
    "from sklearn.tree import DecisionTreeRegressor\n",
    "import pandas as pd\n",
    "import numpy as np\n",
    "import warnings\n",
    "import seaborn as sns\n",
    "import matplotlib.pyplot as plt\n",
    "warnings.filterwarnings('ignore')\n",
    "plt.style.use('seaborn')"
   ]
  },
  {
   "cell_type": "markdown",
   "id": "ac521ecd",
   "metadata": {},
   "source": [
    "# [3월 14일]\n",
    "---"
   ]
  },
  {
   "cell_type": "markdown",
   "id": "16dbd61f",
   "metadata": {
    "ExecuteTime": {
     "end_time": "2022-03-14T00:31:44.179808Z",
     "start_time": "2022-03-14T00:31:44.167798Z"
    }
   },
   "source": [
    "## # 회귀 트리\n",
    "- 회귀 함수를 기반으로 하지 않고 결정 트리와 같이 트리를 기반으로 하는 회귀 방식\n",
    "- 회귀를 위한 트리를 생성하고 이를 기반으로 회귀 예측\n",
    "- 리프 노드에서 예측 결정 값을 만드는 과정에서 분류 트리가 특정 클래스 레이블을 결정하는 것과 달리 회귀 트리는 리프 노드에 속한 데이터 값의 평균값을 구해 회귀 예측값을 계산\n",
    "- 결정트리, 랜덤 포레스트, GBM, XGBOOST, LIGHTGBM 등 트리 기반의 알고리즘은 분류뿐만 아니라 회귀도 가능한데 트리 생성이 CART(Classification And Regression Trees)에 기반하고 있기 때문이며 CART는 분류뿐만 아니라 회귀도 가능하게 해주는 트리 생성 알고리즘이다."
   ]
  },
  {
   "cell_type": "code",
   "execution_count": 22,
   "id": "24a1da45",
   "metadata": {
    "ExecuteTime": {
     "end_time": "2022-03-14T00:39:04.703774Z",
     "start_time": "2022-03-14T00:39:04.673754Z"
    }
   },
   "outputs": [
    {
     "data": {
      "text/html": [
       "<div>\n",
       "<style scoped>\n",
       "    .dataframe tbody tr th:only-of-type {\n",
       "        vertical-align: middle;\n",
       "    }\n",
       "\n",
       "    .dataframe tbody tr th {\n",
       "        vertical-align: top;\n",
       "    }\n",
       "\n",
       "    .dataframe thead th {\n",
       "        text-align: right;\n",
       "    }\n",
       "</style>\n",
       "<table border=\"1\" class=\"dataframe\">\n",
       "  <thead>\n",
       "    <tr style=\"text-align: right;\">\n",
       "      <th></th>\n",
       "      <th>CRIM</th>\n",
       "      <th>ZN</th>\n",
       "      <th>INDUS</th>\n",
       "      <th>CHAS</th>\n",
       "      <th>NOX</th>\n",
       "      <th>RM</th>\n",
       "      <th>AGE</th>\n",
       "      <th>DIS</th>\n",
       "      <th>RAD</th>\n",
       "      <th>TAX</th>\n",
       "      <th>PTRATIO</th>\n",
       "      <th>B</th>\n",
       "      <th>LSTAT</th>\n",
       "      <th>PRICE</th>\n",
       "    </tr>\n",
       "  </thead>\n",
       "  <tbody>\n",
       "    <tr>\n",
       "      <th>0</th>\n",
       "      <td>0.00632</td>\n",
       "      <td>18.0</td>\n",
       "      <td>2.31</td>\n",
       "      <td>0.0</td>\n",
       "      <td>0.538</td>\n",
       "      <td>6.575</td>\n",
       "      <td>65.2</td>\n",
       "      <td>4.0900</td>\n",
       "      <td>1.0</td>\n",
       "      <td>296.0</td>\n",
       "      <td>15.3</td>\n",
       "      <td>396.90</td>\n",
       "      <td>4.98</td>\n",
       "      <td>24.0</td>\n",
       "    </tr>\n",
       "    <tr>\n",
       "      <th>1</th>\n",
       "      <td>0.02731</td>\n",
       "      <td>0.0</td>\n",
       "      <td>7.07</td>\n",
       "      <td>0.0</td>\n",
       "      <td>0.469</td>\n",
       "      <td>6.421</td>\n",
       "      <td>78.9</td>\n",
       "      <td>4.9671</td>\n",
       "      <td>2.0</td>\n",
       "      <td>242.0</td>\n",
       "      <td>17.8</td>\n",
       "      <td>396.90</td>\n",
       "      <td>9.14</td>\n",
       "      <td>21.6</td>\n",
       "    </tr>\n",
       "    <tr>\n",
       "      <th>2</th>\n",
       "      <td>0.02729</td>\n",
       "      <td>0.0</td>\n",
       "      <td>7.07</td>\n",
       "      <td>0.0</td>\n",
       "      <td>0.469</td>\n",
       "      <td>7.185</td>\n",
       "      <td>61.1</td>\n",
       "      <td>4.9671</td>\n",
       "      <td>2.0</td>\n",
       "      <td>242.0</td>\n",
       "      <td>17.8</td>\n",
       "      <td>392.83</td>\n",
       "      <td>4.03</td>\n",
       "      <td>34.7</td>\n",
       "    </tr>\n",
       "    <tr>\n",
       "      <th>3</th>\n",
       "      <td>0.03237</td>\n",
       "      <td>0.0</td>\n",
       "      <td>2.18</td>\n",
       "      <td>0.0</td>\n",
       "      <td>0.458</td>\n",
       "      <td>6.998</td>\n",
       "      <td>45.8</td>\n",
       "      <td>6.0622</td>\n",
       "      <td>3.0</td>\n",
       "      <td>222.0</td>\n",
       "      <td>18.7</td>\n",
       "      <td>394.63</td>\n",
       "      <td>2.94</td>\n",
       "      <td>33.4</td>\n",
       "    </tr>\n",
       "    <tr>\n",
       "      <th>4</th>\n",
       "      <td>0.06905</td>\n",
       "      <td>0.0</td>\n",
       "      <td>2.18</td>\n",
       "      <td>0.0</td>\n",
       "      <td>0.458</td>\n",
       "      <td>7.147</td>\n",
       "      <td>54.2</td>\n",
       "      <td>6.0622</td>\n",
       "      <td>3.0</td>\n",
       "      <td>222.0</td>\n",
       "      <td>18.7</td>\n",
       "      <td>396.90</td>\n",
       "      <td>5.33</td>\n",
       "      <td>36.2</td>\n",
       "    </tr>\n",
       "  </tbody>\n",
       "</table>\n",
       "</div>"
      ],
      "text/plain": [
       "      CRIM    ZN  INDUS  CHAS    NOX     RM   AGE     DIS  RAD    TAX  \\\n",
       "0  0.00632  18.0   2.31   0.0  0.538  6.575  65.2  4.0900  1.0  296.0   \n",
       "1  0.02731   0.0   7.07   0.0  0.469  6.421  78.9  4.9671  2.0  242.0   \n",
       "2  0.02729   0.0   7.07   0.0  0.469  7.185  61.1  4.9671  2.0  242.0   \n",
       "3  0.03237   0.0   2.18   0.0  0.458  6.998  45.8  6.0622  3.0  222.0   \n",
       "4  0.06905   0.0   2.18   0.0  0.458  7.147  54.2  6.0622  3.0  222.0   \n",
       "\n",
       "   PTRATIO       B  LSTAT  PRICE  \n",
       "0     15.3  396.90   4.98   24.0  \n",
       "1     17.8  396.90   9.14   21.6  \n",
       "2     17.8  392.83   4.03   34.7  \n",
       "3     18.7  394.63   2.94   33.4  \n",
       "4     18.7  396.90   5.33   36.2  "
      ]
     },
     "execution_count": 22,
     "metadata": {},
     "output_type": "execute_result"
    }
   ],
   "source": [
    "boston = load_boston()\n",
    "\n",
    "boston_df = pd.DataFrame(boston.data, columns = boston.feature_names)\n",
    "boston_df['PRICE'] = boston.target\n",
    "boston_df.head()"
   ]
  },
  {
   "cell_type": "code",
   "execution_count": 39,
   "id": "13870ac0",
   "metadata": {
    "ExecuteTime": {
     "end_time": "2022-03-14T00:45:32.210136Z",
     "start_time": "2022-03-14T00:45:28.251038Z"
    }
   },
   "outputs": [
    {
     "name": "stdout",
     "output_type": "stream",
     "text": [
      "개별 mse :  [ 7.883 13.143 20.574 46.226 18.878]\n",
      "개별 rmse :  [2.808 3.625 4.536 6.799 4.345]\n",
      "평균 mse :  4.423\n"
     ]
    }
   ],
   "source": [
    "X = boston_df.iloc[:, :-1]\n",
    "y = boston_df.iloc[:, -1]\n",
    "\n",
    "kfold = KFold(n_splits = 5, shuffle = True)\n",
    "\n",
    "rf_reg = RandomForestRegressor(random_state = 0, n_estimators = 1000, n_jobs = -1)\n",
    "neg_mse_scores = cross_val_score(rf_reg, X, y, scoring = 'neg_mean_squared_error', cv = 5)\n",
    "rmse_scores = np.sqrt(-1 * neg_mse_scores)\n",
    "avg_rmse = np.mean(rmse_scores)\n",
    "\n",
    "print('개별 mse : ', np.round(-1 * neg_mse_scores, 3))\n",
    "print('개별 rmse : ', np.round(rmse_scores, 3))\n",
    "print('평균 rmse : ', np.round(avg_rmse, 3))"
   ]
  },
  {
   "cell_type": "code",
   "execution_count": 61,
   "id": "c7e030e7",
   "metadata": {
    "ExecuteTime": {
     "end_time": "2022-03-14T01:26:19.527664Z",
     "start_time": "2022-03-14T01:26:11.353626Z"
    }
   },
   "outputs": [
    {
     "name": "stdout",
     "output_type": "stream",
     "text": [
      "***** XGBRegressor *****\n",
      "개별 mse :  [12.592  7.005 11.155 16.423  8.043]\n",
      "개별 rmse :  [3.549 2.647 3.34  4.053 2.836]\n",
      "평균 rmse :  3.285\n",
      "\n",
      "***** LGBMRegressor *****\n",
      "개별 mse :  [21.718 38.003 18.116 19.936 14.507]\n",
      "개별 rmse :  [4.66  6.165 4.256 4.465 3.809]\n",
      "평균 rmse :  4.671\n",
      "\n",
      "***** DecisionTreeRegressor *****\n",
      "개별 mse :  [17.082 38.628 10.506 25.099 24.021]\n",
      "개별 rmse :  [4.133 6.215 3.241 5.01  4.901]\n",
      "평균 rmse :  4.7\n",
      "\n"
     ]
    }
   ],
   "source": [
    "# 교차검증 사용자 함수 작성하고 XGBRegressor 객체를 사용하여 모델링 및 평가\n",
    "\n",
    "def get_eval(model, X_train, y_train):\n",
    "    print('*****', model, '*****')\n",
    "    if model == 'XGBRegressor': \n",
    "        model = XGBRegressor(random_state = 0, n_estimators = 1000, learning_rate = 0.1, max_depth = 3, tree_method ='gpu_hist', gpu_id=0, n_jobs = -1)\n",
    "    elif model == 'LGBMRegressor':\n",
    "        model = LGBMRegressor(random_state = 0, n_estimators = 1000, max_depth = 128, min_child_samples = 100, num_leaves = 32, n_jobs = -1)\n",
    "    elif model == 'DecisionTreeRegressor':\n",
    "        model = DecisionTreeRegressor(random_state = 0, max_depth = 4)\n",
    "    neg_mse_scores = cross_val_score(model, X, y, scoring = 'neg_mean_squared_error', cv = KFold(n_splits = 5, shuffle = True))\n",
    "    rmse_scores = np.sqrt(-1 * neg_mse_scores)\n",
    "    avg_rmse = np.mean(rmse_scores)\n",
    "    print('개별 mse : ', np.round(-1 * neg_mse_scores, 3))\n",
    "    print('개별 rmse : ', np.round(rmse_scores, 3))\n",
    "    print('평균 rmse : ', np.round(avg_rmse, 3))\n",
    "       \n",
    "        \n",
    "for i in ['XGBRegressor', 'LGBMRegressor', 'DecisionTreeRegressor']:\n",
    "    get_eval(i, X, y)\n",
    "    print()"
   ]
  },
  {
   "cell_type": "code",
   "execution_count": 74,
   "id": "c9519e17",
   "metadata": {
    "ExecuteTime": {
     "end_time": "2022-03-14T01:29:52.335051Z",
     "start_time": "2022-03-14T01:29:50.913770Z"
    }
   },
   "outputs": [
    {
     "data": {
      "image/png": "[encoded data removed]",
      "text/plain": [
       "<Figure size 576x396 with 1 Axes>"
      ]
     },
     "metadata": {},
     "output_type": "display_data"
    }
   ],
   "source": [
    "# 독립변수 중요도 시각화\n",
    "\n",
    "rf_reg = RandomForestRegressor(random_state = 0, n_estimators = 1000, n_jobs = -1)\n",
    "rf_reg.fit(X, y)\n",
    "\n",
    "feature_series = pd.Series(data = rf_reg.feature_importances_, index = X.columns)\n",
    "feature_series = feature_series.sort_values(ascending = False)\n",
    "sns.barplot(x = feature_series, y = feature_series.index)\n",
    "plt.show()"
   ]
  },
  {
   "cell_type": "code",
   "execution_count": 73,
   "id": "ebb57bc3",
   "metadata": {
    "ExecuteTime": {
     "end_time": "2022-03-14T01:29:18.226721Z",
     "start_time": "2022-03-14T01:29:18.137648Z"
    }
   },
   "outputs": [
    {
     "data": {
      "text/plain": [
       "<matplotlib.collections.PathCollection at 0x1e02bc6cfa0>"
      ]
     },
     "execution_count": 73,
     "metadata": {},
     "output_type": "execute_result"
    },
    {
     "data": {
      "image/png": "[encoded data removed]",
      "text/plain": [
       "<Figure size 576x396 with 1 Axes>"
      ]
     },
     "metadata": {},
     "output_type": "display_data"
    }
   ],
   "source": [
    "boston_sample = boston_df[['RM', 'PRICE']]\n",
    "boston_sample = boston_sample.sample(n = 100, random_state = 0)\n",
    "plt.figure()\n",
    "plt.scatter(boston_sample.RM, boston_sample.PRICE, c = 'darkorange')"
   ]
  },
  {
   "cell_type": "code",
   "execution_count": 93,
   "id": "76eb0a30",
   "metadata": {
    "ExecuteTime": {
     "end_time": "2022-03-14T01:56:54.852722Z",
     "start_time": "2022-03-14T01:56:54.613506Z"
    }
   },
   "outputs": [
    {
     "data": {
      "image/png": "[encoded data removed]",
      "text/plain": [
       "<Figure size 1512x432 with 3 Axes>"
      ]
     },
     "metadata": {},
     "output_type": "display_data"
    }
   ],
   "source": [
    "lr_reg = LinearRegression()\n",
    "dt_reg2 = DecisionTreeRegressor(max_depth = 2)\n",
    "dt_reg7 = DecisionTreeRegressor(max_depth = 7)\n",
    "\n",
    "# 테스트용 데이터 셋 : 4.5 ~ 8.5\n",
    "X_test = np.arange(4.5, 8.5, 0.04).reshape(-1, 1)\n",
    "\n",
    "X_feature = boston_sample['RM'].values.reshape(-1, 1)\n",
    "y_target = boston_sample['PRICE'].values.reshape(-1, 1)\n",
    "\n",
    "models = [lr_reg, dt_reg2, dt_reg7]\n",
    "fig = plt.figure(figsize = (21, 6))\n",
    "for i, model in enumerate(models):\n",
    "    model.fit(X_feature, y_target)\n",
    "    pred = model.predict(X_test)\n",
    "    ax = f'ax{i+1}'\n",
    "    ax = fig.add_subplot(1, 3, i+1)\n",
    "    ax.set_title(model)\n",
    "    ax.scatter(boston_sample['RM'], boston_sample['PRICE'], c = 'darkorange')\n",
    "    ax.plot(X_test, pred, label = model, linewidth = 2)\n",
    "plt.show()"
   ]
  }
 ],
 "metadata": {
  "hide_input": false,
  "kernelspec": {
   "display_name": "Python 3 (ipykernel)",
   "language": "python",
   "name": "python3"
  },
  "language_info": {
   "codemirror_mode": {
    "name": "ipython",
    "version": 3
   },
   "file_extension": ".py",
   "mimetype": "text/x-python",
   "name": "python",
   "nbconvert_exporter": "python",
   "pygments_lexer": "ipython3",
   "version": "3.8.12"
  },
  "toc": {
   "base_numbering": 1,
   "nav_menu": {},
   "number_sections": false,
   "sideBar": true,
   "skip_h1_title": false,
   "title_cell": "Table of Contents",
   "title_sidebar": "Contents",
   "toc_cell": false,
   "toc_position": {
    "height": "1187px",
    "left": "117px",
    "top": "88px",
    "width": "280px"
   },
   "toc_section_display": true,
   "toc_window_display": true
  },
  "varInspector": {
   "cols": {
    "lenName": 16,
    "lenType": 16,
    "lenVar": 40
   },
   "kernels_config": {
    "python": {
     "delete_cmd_postfix": "",
     "delete_cmd_prefix": "del ",
     "library": "var_list.py",
     "varRefreshCmd": "print(var_dic_list())"
    },
    "r": {
     "delete_cmd_postfix": ") ",
     "delete_cmd_prefix": "rm(",
     "library": "var_list.r",
     "varRefreshCmd": "cat(var_dic_list()) "
    }
   },
   "types_to_exclude": [
    "module",
    "function",
    "builtin_function_or_method",
    "instance",
    "_Feature"
   ],
   "window_display": false
  }
 },
 "nbformat": 4,
 "nbformat_minor": 5
}
