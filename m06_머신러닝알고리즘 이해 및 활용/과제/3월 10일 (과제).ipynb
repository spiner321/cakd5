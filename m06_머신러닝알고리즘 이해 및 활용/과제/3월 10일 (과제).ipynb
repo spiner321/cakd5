{
 "cells": [
  {
   "cell_type": "code",
   "execution_count": 2,
   "id": "0061cac5",
   "metadata": {
    "ExecuteTime": {
     "end_time": "2022-03-10T07:54:16.756033Z",
     "start_time": "2022-03-10T07:54:16.739317Z"
    }
   },
   "outputs": [],
   "source": [
    "import pandas as pd\n",
    "import numpy as np\n",
    "import matplotlib.pyplot as plt\n",
    "import seaborn as sns\n",
    "import warnings\n",
    "from sklearn.model_selection import train_test_split\n",
    "from sklearn.linear_model import LinearRegression\n",
    "from sklearn.preprocessing import PolynomialFeatures\n",
    "from sklearn.metrics import mean_squared_error, r2_score\n",
    "from sklearn.linear_model import Ridge, Lasso, ElasticNet\n",
    "from sklearn.model_selection import cross_val_score\n",
    "\n",
    "warnings.filterwarnings('ignore')\n",
    "plt.style.use('seaborn')\n",
    "# plt.style.use('default')\n",
    "plt.rc('font', family = 'Malgun Gothic') # 한글 입력\n",
    "plt.rcParams['axes.unicode_minus'] = False # 글꼴 변경시 마이너스 표기 가능으로 처리"
   ]
  },
  {
   "cell_type": "code",
   "execution_count": 4,
   "id": "aa83fefb",
   "metadata": {
    "ExecuteTime": {
     "end_time": "2022-03-10T07:55:03.264942Z",
     "start_time": "2022-03-10T07:55:03.242004Z"
    }
   },
   "outputs": [],
   "source": [
    "from sklearn.datasets import load_boston\n",
    "\n",
    "boston = load_boston()\n",
    "boston_df = pd.DataFrame(boston.data, columns = boston.feature_names)\n",
    "boston_df['PRICE'] = boston.target\n",
    "\n",
    "X = boston_df[['RM', 'ZN', 'INDUS', 'NOX', 'AGE', 'PTRATIO', 'LSTAT', 'RAD']]\n",
    "y = boston_df['PRICE']"
   ]
  },
  {
   "cell_type": "markdown",
   "id": "51b99782",
   "metadata": {},
   "source": [
    "##### [과제] 모델이름과 alpha 리스트를 대입하면 각 alpha별로 rmse를 구해주는 사용자 함수를 작성하여 아래를 수행하세요\n",
    "---\n",
    "- lasso : [0.07, 0.1, 0.5, 1.3]\n",
    "- elasticnet : [0.07, 0.1, 0.5, 1.3]"
   ]
  },
  {
   "cell_type": "code",
   "execution_count": 124,
   "id": "c50f08bf",
   "metadata": {
    "ExecuteTime": {
     "end_time": "2022-03-10T08:35:39.123055Z",
     "start_time": "2022-03-10T08:35:39.102125Z"
    }
   },
   "outputs": [],
   "source": [
    "def get_linear_reg_eval(model_name, params, X_data_n, y_target_n, verbose = True, return_coeff = True):\n",
    "    coeff_df = pd.DataFrame()\n",
    "    if verbose == True: print('####', model_name, '#####')\n",
    "    for param in params:\n",
    "        if model_name == 'Ridge': model = Ridge(alpha = param)\n",
    "        elif model_name == 'Lasso': model = Lasso(alpha = param)\n",
    "        elif model_name == 'ElasticNet': model = ElasticNet(alpha = param, l1_ratio = 0.7)\n",
    "        neg_mse_scores = cross_val_score(model, X_data_n, y_target_n, scoring = 'neg_mean_squared_error', cv = 5)\n",
    "        avg_rmse = np.mean(np.sqrt(-1 * neg_mse_scores))\n",
    "        print(f'alpha{param}일 때 5폴드 세트의 평균 RMSE : {round(avg_rmse, 3)}')\n",
    "        \n",
    "        model.fit(X_data_n, y_target_n)\n",
    "        if return_coeff == True:\n",
    "            coeff = pd.Series(data = model.coef_, index = X_data_n.columns)\n",
    "            colname = f'alpha: {param}'\n",
    "            coeff_df[colname] = coeff\n",
    "    return coeff_df"
   ]
  },
  {
   "cell_type": "code",
   "execution_count": 125,
   "id": "f28bd577",
   "metadata": {
    "ExecuteTime": {
     "end_time": "2022-03-10T08:35:50.297460Z",
     "start_time": "2022-03-10T08:35:50.178261Z"
    }
   },
   "outputs": [
    {
     "name": "stdout",
     "output_type": "stream",
     "text": [
      "#### Lasso #####\n",
      "alpha0.07일 때 5폴드 세트의 평균 RMSE : 5.998\n",
      "alpha0.1일 때 5폴드 세트의 평균 RMSE : 5.999\n",
      "alpha0.5일 때 5폴드 세트의 평균 RMSE : 6.054\n",
      "alpha1.3일 때 5폴드 세트의 평균 RMSE : 6.062\n"
     ]
    },
    {
     "data": {
      "text/html": [
       "<div>\n",
       "<style scoped>\n",
       "    .dataframe tbody tr th:only-of-type {\n",
       "        vertical-align: middle;\n",
       "    }\n",
       "\n",
       "    .dataframe tbody tr th {\n",
       "        vertical-align: top;\n",
       "    }\n",
       "\n",
       "    .dataframe thead th {\n",
       "        text-align: right;\n",
       "    }\n",
       "</style>\n",
       "<table border=\"1\" class=\"dataframe\">\n",
       "  <thead>\n",
       "    <tr style=\"text-align: right;\">\n",
       "      <th></th>\n",
       "      <th>alpha: 0.07</th>\n",
       "      <th>alpha: 0.1</th>\n",
       "      <th>alpha: 0.5</th>\n",
       "      <th>alpha: 1.3</th>\n",
       "    </tr>\n",
       "  </thead>\n",
       "  <tbody>\n",
       "    <tr>\n",
       "      <th>RM</th>\n",
       "      <td>4.086844</td>\n",
       "      <td>3.991926</td>\n",
       "      <td>2.731116</td>\n",
       "      <td>0.198991</td>\n",
       "    </tr>\n",
       "    <tr>\n",
       "      <th>ZN</th>\n",
       "      <td>-0.000613</td>\n",
       "      <td>-0.000000</td>\n",
       "      <td>0.006849</td>\n",
       "      <td>0.021448</td>\n",
       "    </tr>\n",
       "    <tr>\n",
       "      <th>INDUS</th>\n",
       "      <td>-0.038434</td>\n",
       "      <td>-0.038484</td>\n",
       "      <td>-0.040171</td>\n",
       "      <td>-0.044186</td>\n",
       "    </tr>\n",
       "    <tr>\n",
       "      <th>NOX</th>\n",
       "      <td>-0.000000</td>\n",
       "      <td>-0.000000</td>\n",
       "      <td>-0.000000</td>\n",
       "      <td>-0.000000</td>\n",
       "    </tr>\n",
       "    <tr>\n",
       "      <th>AGE</th>\n",
       "      <td>0.020217</td>\n",
       "      <td>0.020774</td>\n",
       "      <td>0.027730</td>\n",
       "      <td>0.041949</td>\n",
       "    </tr>\n",
       "    <tr>\n",
       "      <th>PTRATIO</th>\n",
       "      <td>-0.945481</td>\n",
       "      <td>-0.941245</td>\n",
       "      <td>-0.888191</td>\n",
       "      <td>-0.782938</td>\n",
       "    </tr>\n",
       "    <tr>\n",
       "      <th>LSTAT</th>\n",
       "      <td>-0.629861</td>\n",
       "      <td>-0.635686</td>\n",
       "      <td>-0.712994</td>\n",
       "      <td>-0.868743</td>\n",
       "    </tr>\n",
       "    <tr>\n",
       "      <th>RAD</th>\n",
       "      <td>0.014574</td>\n",
       "      <td>0.014129</td>\n",
       "      <td>0.008604</td>\n",
       "      <td>0.000000</td>\n",
       "    </tr>\n",
       "  </tbody>\n",
       "</table>\n",
       "</div>"
      ],
      "text/plain": [
       "         alpha: 0.07  alpha: 0.1  alpha: 0.5  alpha: 1.3\n",
       "RM          4.086844    3.991926    2.731116    0.198991\n",
       "ZN         -0.000613   -0.000000    0.006849    0.021448\n",
       "INDUS      -0.038434   -0.038484   -0.040171   -0.044186\n",
       "NOX        -0.000000   -0.000000   -0.000000   -0.000000\n",
       "AGE         0.020217    0.020774    0.027730    0.041949\n",
       "PTRATIO    -0.945481   -0.941245   -0.888191   -0.782938\n",
       "LSTAT      -0.629861   -0.635686   -0.712994   -0.868743\n",
       "RAD         0.014574    0.014129    0.008604    0.000000"
      ]
     },
     "execution_count": 125,
     "metadata": {},
     "output_type": "execute_result"
    }
   ],
   "source": [
    "lasso_alpha = [0.07, 0.1, 0.5, 1.3]\n",
    "get_linear_reg_eval('Lasso', lasso_alpha, X, y)"
   ]
  },
  {
   "cell_type": "code",
   "execution_count": 127,
   "id": "32ccd280",
   "metadata": {
    "ExecuteTime": {
     "end_time": "2022-03-10T08:35:54.832494Z",
     "start_time": "2022-03-10T08:35:54.704479Z"
    }
   },
   "outputs": [
    {
     "name": "stdout",
     "output_type": "stream",
     "text": [
      "#### ElasticNet #####\n",
      "alpha0.07일 때 5폴드 세트의 평균 RMSE : 5.955\n",
      "alpha0.1일 때 5폴드 세트의 평균 RMSE : 5.94\n",
      "alpha0.5일 때 5폴드 세트의 평균 RMSE : 5.896\n",
      "alpha1.3일 때 5폴드 세트의 평균 RMSE : 5.971\n"
     ]
    },
    {
     "data": {
      "text/html": [
       "<div>\n",
       "<style scoped>\n",
       "    .dataframe tbody tr th:only-of-type {\n",
       "        vertical-align: middle;\n",
       "    }\n",
       "\n",
       "    .dataframe tbody tr th {\n",
       "        vertical-align: top;\n",
       "    }\n",
       "\n",
       "    .dataframe thead th {\n",
       "        text-align: right;\n",
       "    }\n",
       "</style>\n",
       "<table border=\"1\" class=\"dataframe\">\n",
       "  <thead>\n",
       "    <tr style=\"text-align: right;\">\n",
       "      <th></th>\n",
       "      <th>alpha: 0.07</th>\n",
       "      <th>alpha: 0.1</th>\n",
       "      <th>alpha: 0.5</th>\n",
       "      <th>alpha: 1.3</th>\n",
       "    </tr>\n",
       "  </thead>\n",
       "  <tbody>\n",
       "    <tr>\n",
       "      <th>RM</th>\n",
       "      <td>3.855576</td>\n",
       "      <td>3.682434</td>\n",
       "      <td>2.082871</td>\n",
       "      <td>0.640414</td>\n",
       "    </tr>\n",
       "    <tr>\n",
       "      <th>ZN</th>\n",
       "      <td>-0.000027</td>\n",
       "      <td>0.000466</td>\n",
       "      <td>0.008822</td>\n",
       "      <td>0.019535</td>\n",
       "    </tr>\n",
       "    <tr>\n",
       "      <th>INDUS</th>\n",
       "      <td>-0.043734</td>\n",
       "      <td>-0.046001</td>\n",
       "      <td>-0.060007</td>\n",
       "      <td>-0.058207</td>\n",
       "    </tr>\n",
       "    <tr>\n",
       "      <th>NOX</th>\n",
       "      <td>-0.000000</td>\n",
       "      <td>-0.000000</td>\n",
       "      <td>-0.000000</td>\n",
       "      <td>-0.000000</td>\n",
       "    </tr>\n",
       "    <tr>\n",
       "      <th>AGE</th>\n",
       "      <td>0.021983</td>\n",
       "      <td>0.023046</td>\n",
       "      <td>0.033367</td>\n",
       "      <td>0.041022</td>\n",
       "    </tr>\n",
       "    <tr>\n",
       "      <th>PTRATIO</th>\n",
       "      <td>-0.958580</td>\n",
       "      <td>-0.959653</td>\n",
       "      <td>-0.927169</td>\n",
       "      <td>-0.785582</td>\n",
       "    </tr>\n",
       "    <tr>\n",
       "      <th>LSTAT</th>\n",
       "      <td>-0.645507</td>\n",
       "      <td>-0.656602</td>\n",
       "      <td>-0.757044</td>\n",
       "      <td>-0.838687</td>\n",
       "    </tr>\n",
       "    <tr>\n",
       "      <th>RAD</th>\n",
       "      <td>0.019085</td>\n",
       "      <td>0.020351</td>\n",
       "      <td>0.024360</td>\n",
       "      <td>0.005735</td>\n",
       "    </tr>\n",
       "  </tbody>\n",
       "</table>\n",
       "</div>"
      ],
      "text/plain": [
       "         alpha: 0.07  alpha: 0.1  alpha: 0.5  alpha: 1.3\n",
       "RM          3.855576    3.682434    2.082871    0.640414\n",
       "ZN         -0.000027    0.000466    0.008822    0.019535\n",
       "INDUS      -0.043734   -0.046001   -0.060007   -0.058207\n",
       "NOX        -0.000000   -0.000000   -0.000000   -0.000000\n",
       "AGE         0.021983    0.023046    0.033367    0.041022\n",
       "PTRATIO    -0.958580   -0.959653   -0.927169   -0.785582\n",
       "LSTAT      -0.645507   -0.656602   -0.757044   -0.838687\n",
       "RAD         0.019085    0.020351    0.024360    0.005735"
      ]
     },
     "execution_count": 127,
     "metadata": {},
     "output_type": "execute_result"
    }
   ],
   "source": [
    "elasticnet_alpha = [0.07, 0.1, 0.5, 1.3]\n",
    "get_linear_reg_eval('ElasticNet', elasticnet_alpha, X, y)"
   ]
  }
 ],
 "metadata": {
  "hide_input": false,
  "kernelspec": {
   "display_name": "Python 3 (ipykernel)",
   "language": "python",
   "name": "python3"
  },
  "language_info": {
   "codemirror_mode": {
    "name": "ipython",
    "version": 3
   },
   "file_extension": ".py",
   "mimetype": "text/x-python",
   "name": "python",
   "nbconvert_exporter": "python",
   "pygments_lexer": "ipython3",
   "version": "3.8.12"
  },
  "toc": {
   "base_numbering": 1,
   "nav_menu": {},
   "number_sections": false,
   "sideBar": true,
   "skip_h1_title": false,
   "title_cell": "Table of Contents",
   "title_sidebar": "Contents",
   "toc_cell": false,
   "toc_position": {},
   "toc_section_display": true,
   "toc_window_display": false
  },
  "varInspector": {
   "cols": {
    "lenName": "16",
    "lenType": "16",
    "lenVar": 40
   },
   "kernels_config": {
    "python": {
     "delete_cmd_postfix": "",
     "delete_cmd_prefix": "del ",
     "library": "var_list.py",
     "varRefreshCmd": "print(var_dic_list())"
    },
    "r": {
     "delete_cmd_postfix": ") ",
     "delete_cmd_prefix": "rm(",
     "library": "var_list.r",
     "varRefreshCmd": "cat(var_dic_list()) "
    }
   },
   "types_to_exclude": [
    "module",
    "function",
    "builtin_function_or_method",
    "instance",
    "_Feature"
   ],
   "window_display": false
  }
 },
 "nbformat": 4,
 "nbformat_minor": 5
}
