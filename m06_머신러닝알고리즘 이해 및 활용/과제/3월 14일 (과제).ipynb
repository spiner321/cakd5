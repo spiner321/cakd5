{
 "cells": [
  {
   "cell_type": "code",
   "execution_count": 1,
   "id": "49a3defb",
   "metadata": {
    "ExecuteTime": {
     "end_time": "2022-03-15T00:07:14.032341Z",
     "start_time": "2022-03-15T00:07:07.462823Z"
    }
   },
   "outputs": [],
   "source": [
    "import pandas as pd\n",
    "import numpy as np\n",
    "import seaborn as sns\n",
    "import matplotlib.pyplot as plt\n",
    "from sklearn.model_selection import cross_val_score, train_test_split\n",
    "from sklearn.linear_model import LinearRegression, Ridge, Lasso\n",
    "from sklearn.metrics import mean_squared_log_error, mean_squared_error, mean_absolute_error\n",
    "from sklearn.preprocessing import MinMaxScaler\n",
    "plt.style.use('seaborn')"
   ]
  },
  {
   "cell_type": "markdown",
   "id": "e7e7c57a",
   "metadata": {},
   "source": [
    "##### [과제] bike_train.csv를 불어와서 다음 사항들을 고려하여 자전거 대여횟수를 예측하는 모델을 생성 후 평가하세요.\n",
    "---\n",
    "\n",
    "- datetime 타입에서 년, 월, 일, 시간 추출하여 반영 후 선형회귀 모델링 및 평가 \n",
    "    - 평가 사용자 함수 : RMSLE, RMSE, MAE\n",
    "- 종속변수 정규성 개선위한 로그 변환\n",
    "    - 'year', month', 'day', hour'등의 피처들을 One Hot Encoding\n",
    "    - 로그 변환된 y_target_log를 반영하여 학습/테스트 데이터 셋 분할 \n",
    "    - 선형회귀, ridge, lasso model 별로 평가 수행\n",
    "    - 회귀계수 중요도 시각화"
   ]
  },
  {
   "cell_type": "code",
   "execution_count": 2,
   "id": "acc84ef3",
   "metadata": {
    "ExecuteTime": {
     "end_time": "2022-03-15T00:51:00.962257Z",
     "start_time": "2022-03-15T00:50:58.710207Z"
    }
   },
   "outputs": [
    {
     "name": "stdout",
     "output_type": "stream",
     "text": [
      "<class 'pandas.core.frame.DataFrame'>\n",
      "RangeIndex: 10886 entries, 0 to 10885\n",
      "Data columns (total 12 columns):\n",
      " #   Column      Non-Null Count  Dtype  \n",
      "---  ------      --------------  -----  \n",
      " 0   datetime    10886 non-null  object \n",
      " 1   season      10886 non-null  int64  \n",
      " 2   holiday     10886 non-null  int64  \n",
      " 3   workingday  10886 non-null  int64  \n",
      " 4   weather     10886 non-null  int64  \n",
      " 5   temp        10886 non-null  float64\n",
      " 6   atemp       10886 non-null  float64\n",
      " 7   humidity    10886 non-null  int64  \n",
      " 8   windspeed   10886 non-null  float64\n",
      " 9   casual      10886 non-null  int64  \n",
      " 10  registered  10886 non-null  int64  \n",
      " 11  count       10886 non-null  int64  \n",
      "dtypes: float64(3), int64(8), object(1)\n",
      "memory usage: 1020.7+ KB\n"
     ]
    },
    {
     "data": {
      "text/html": [
       "<div>\n",
       "<style scoped>\n",
       "    .dataframe tbody tr th:only-of-type {\n",
       "        vertical-align: middle;\n",
       "    }\n",
       "\n",
       "    .dataframe tbody tr th {\n",
       "        vertical-align: top;\n",
       "    }\n",
       "\n",
       "    .dataframe thead th {\n",
       "        text-align: right;\n",
       "    }\n",
       "</style>\n",
       "<table border=\"1\" class=\"dataframe\">\n",
       "  <thead>\n",
       "    <tr style=\"text-align: right;\">\n",
       "      <th></th>\n",
       "      <th>datetime</th>\n",
       "      <th>season</th>\n",
       "      <th>holiday</th>\n",
       "      <th>workingday</th>\n",
       "      <th>weather</th>\n",
       "      <th>temp</th>\n",
       "      <th>atemp</th>\n",
       "      <th>humidity</th>\n",
       "      <th>windspeed</th>\n",
       "      <th>casual</th>\n",
       "      <th>registered</th>\n",
       "      <th>count</th>\n",
       "    </tr>\n",
       "  </thead>\n",
       "  <tbody>\n",
       "    <tr>\n",
       "      <th>0</th>\n",
       "      <td>2011-01-01 00:00:00</td>\n",
       "      <td>1</td>\n",
       "      <td>0</td>\n",
       "      <td>0</td>\n",
       "      <td>1</td>\n",
       "      <td>9.84</td>\n",
       "      <td>14.395</td>\n",
       "      <td>81</td>\n",
       "      <td>0.0</td>\n",
       "      <td>3</td>\n",
       "      <td>13</td>\n",
       "      <td>16</td>\n",
       "    </tr>\n",
       "    <tr>\n",
       "      <th>1</th>\n",
       "      <td>2011-01-01 01:00:00</td>\n",
       "      <td>1</td>\n",
       "      <td>0</td>\n",
       "      <td>0</td>\n",
       "      <td>1</td>\n",
       "      <td>9.02</td>\n",
       "      <td>13.635</td>\n",
       "      <td>80</td>\n",
       "      <td>0.0</td>\n",
       "      <td>8</td>\n",
       "      <td>32</td>\n",
       "      <td>40</td>\n",
       "    </tr>\n",
       "    <tr>\n",
       "      <th>2</th>\n",
       "      <td>2011-01-01 02:00:00</td>\n",
       "      <td>1</td>\n",
       "      <td>0</td>\n",
       "      <td>0</td>\n",
       "      <td>1</td>\n",
       "      <td>9.02</td>\n",
       "      <td>13.635</td>\n",
       "      <td>80</td>\n",
       "      <td>0.0</td>\n",
       "      <td>5</td>\n",
       "      <td>27</td>\n",
       "      <td>32</td>\n",
       "    </tr>\n",
       "    <tr>\n",
       "      <th>3</th>\n",
       "      <td>2011-01-01 03:00:00</td>\n",
       "      <td>1</td>\n",
       "      <td>0</td>\n",
       "      <td>0</td>\n",
       "      <td>1</td>\n",
       "      <td>9.84</td>\n",
       "      <td>14.395</td>\n",
       "      <td>75</td>\n",
       "      <td>0.0</td>\n",
       "      <td>3</td>\n",
       "      <td>10</td>\n",
       "      <td>13</td>\n",
       "    </tr>\n",
       "    <tr>\n",
       "      <th>4</th>\n",
       "      <td>2011-01-01 04:00:00</td>\n",
       "      <td>1</td>\n",
       "      <td>0</td>\n",
       "      <td>0</td>\n",
       "      <td>1</td>\n",
       "      <td>9.84</td>\n",
       "      <td>14.395</td>\n",
       "      <td>75</td>\n",
       "      <td>0.0</td>\n",
       "      <td>0</td>\n",
       "      <td>1</td>\n",
       "      <td>1</td>\n",
       "    </tr>\n",
       "  </tbody>\n",
       "</table>\n",
       "</div>"
      ],
      "text/plain": [
       "              datetime  season  holiday  workingday  weather  temp   atemp  \\\n",
       "0  2011-01-01 00:00:00       1        0           0        1  9.84  14.395   \n",
       "1  2011-01-01 01:00:00       1        0           0        1  9.02  13.635   \n",
       "2  2011-01-01 02:00:00       1        0           0        1  9.02  13.635   \n",
       "3  2011-01-01 03:00:00       1        0           0        1  9.84  14.395   \n",
       "4  2011-01-01 04:00:00       1        0           0        1  9.84  14.395   \n",
       "\n",
       "   humidity  windspeed  casual  registered  count  \n",
       "0        81        0.0       3          13     16  \n",
       "1        80        0.0       8          32     40  \n",
       "2        80        0.0       5          27     32  \n",
       "3        75        0.0       3          10     13  \n",
       "4        75        0.0       0           1      1  "
      ]
     },
     "execution_count": 2,
     "metadata": {},
     "output_type": "execute_result"
    }
   ],
   "source": [
    "bike_df = pd.read_csv('../data/bike_train.csv')\n",
    "bike_test = pd.read_csv('../data/bike_test.csv')\n",
    "\n",
    "bike_df.info()\n",
    "bike_df.head()"
   ]
  },
  {
   "cell_type": "code",
   "execution_count": 3,
   "id": "52fdeb24",
   "metadata": {
    "ExecuteTime": {
     "end_time": "2022-03-15T00:51:01.089528Z",
     "start_time": "2022-03-15T00:51:01.012645Z"
    }
   },
   "outputs": [
    {
     "data": {
      "text/html": [
       "<div>\n",
       "<style scoped>\n",
       "    .dataframe tbody tr th:only-of-type {\n",
       "        vertical-align: middle;\n",
       "    }\n",
       "\n",
       "    .dataframe tbody tr th {\n",
       "        vertical-align: top;\n",
       "    }\n",
       "\n",
       "    .dataframe thead th {\n",
       "        text-align: right;\n",
       "    }\n",
       "</style>\n",
       "<table border=\"1\" class=\"dataframe\">\n",
       "  <thead>\n",
       "    <tr style=\"text-align: right;\">\n",
       "      <th></th>\n",
       "      <th>season</th>\n",
       "      <th>holiday</th>\n",
       "      <th>workingday</th>\n",
       "      <th>weather</th>\n",
       "      <th>temp</th>\n",
       "      <th>atemp</th>\n",
       "      <th>humidity</th>\n",
       "      <th>windspeed</th>\n",
       "      <th>casual</th>\n",
       "      <th>registered</th>\n",
       "      <th>count</th>\n",
       "      <th>year</th>\n",
       "      <th>month</th>\n",
       "      <th>day</th>\n",
       "      <th>hour</th>\n",
       "    </tr>\n",
       "  </thead>\n",
       "  <tbody>\n",
       "    <tr>\n",
       "      <th>0</th>\n",
       "      <td>1</td>\n",
       "      <td>0</td>\n",
       "      <td>0</td>\n",
       "      <td>1</td>\n",
       "      <td>9.84</td>\n",
       "      <td>14.395</td>\n",
       "      <td>81</td>\n",
       "      <td>0.0</td>\n",
       "      <td>3</td>\n",
       "      <td>13</td>\n",
       "      <td>16</td>\n",
       "      <td>2011</td>\n",
       "      <td>1</td>\n",
       "      <td>1</td>\n",
       "      <td>0</td>\n",
       "    </tr>\n",
       "    <tr>\n",
       "      <th>1</th>\n",
       "      <td>1</td>\n",
       "      <td>0</td>\n",
       "      <td>0</td>\n",
       "      <td>1</td>\n",
       "      <td>9.02</td>\n",
       "      <td>13.635</td>\n",
       "      <td>80</td>\n",
       "      <td>0.0</td>\n",
       "      <td>8</td>\n",
       "      <td>32</td>\n",
       "      <td>40</td>\n",
       "      <td>2011</td>\n",
       "      <td>1</td>\n",
       "      <td>1</td>\n",
       "      <td>1</td>\n",
       "    </tr>\n",
       "    <tr>\n",
       "      <th>2</th>\n",
       "      <td>1</td>\n",
       "      <td>0</td>\n",
       "      <td>0</td>\n",
       "      <td>1</td>\n",
       "      <td>9.02</td>\n",
       "      <td>13.635</td>\n",
       "      <td>80</td>\n",
       "      <td>0.0</td>\n",
       "      <td>5</td>\n",
       "      <td>27</td>\n",
       "      <td>32</td>\n",
       "      <td>2011</td>\n",
       "      <td>1</td>\n",
       "      <td>1</td>\n",
       "      <td>2</td>\n",
       "    </tr>\n",
       "    <tr>\n",
       "      <th>3</th>\n",
       "      <td>1</td>\n",
       "      <td>0</td>\n",
       "      <td>0</td>\n",
       "      <td>1</td>\n",
       "      <td>9.84</td>\n",
       "      <td>14.395</td>\n",
       "      <td>75</td>\n",
       "      <td>0.0</td>\n",
       "      <td>3</td>\n",
       "      <td>10</td>\n",
       "      <td>13</td>\n",
       "      <td>2011</td>\n",
       "      <td>1</td>\n",
       "      <td>1</td>\n",
       "      <td>3</td>\n",
       "    </tr>\n",
       "    <tr>\n",
       "      <th>4</th>\n",
       "      <td>1</td>\n",
       "      <td>0</td>\n",
       "      <td>0</td>\n",
       "      <td>1</td>\n",
       "      <td>9.84</td>\n",
       "      <td>14.395</td>\n",
       "      <td>75</td>\n",
       "      <td>0.0</td>\n",
       "      <td>0</td>\n",
       "      <td>1</td>\n",
       "      <td>1</td>\n",
       "      <td>2011</td>\n",
       "      <td>1</td>\n",
       "      <td>1</td>\n",
       "      <td>4</td>\n",
       "    </tr>\n",
       "  </tbody>\n",
       "</table>\n",
       "</div>"
      ],
      "text/plain": [
       "   season  holiday  workingday  weather  temp   atemp  humidity  windspeed  \\\n",
       "0       1        0           0        1  9.84  14.395        81        0.0   \n",
       "1       1        0           0        1  9.02  13.635        80        0.0   \n",
       "2       1        0           0        1  9.02  13.635        80        0.0   \n",
       "3       1        0           0        1  9.84  14.395        75        0.0   \n",
       "4       1        0           0        1  9.84  14.395        75        0.0   \n",
       "\n",
       "   casual  registered  count  year  month  day  hour  \n",
       "0       3          13     16  2011      1    1     0  \n",
       "1       8          32     40  2011      1    1     1  \n",
       "2       5          27     32  2011      1    1     2  \n",
       "3       3          10     13  2011      1    1     3  \n",
       "4       0           1      1  2011      1    1     4  "
      ]
     },
     "metadata": {},
     "output_type": "display_data"
    },
    {
     "data": {
      "text/html": [
       "<div>\n",
       "<style scoped>\n",
       "    .dataframe tbody tr th:only-of-type {\n",
       "        vertical-align: middle;\n",
       "    }\n",
       "\n",
       "    .dataframe tbody tr th {\n",
       "        vertical-align: top;\n",
       "    }\n",
       "\n",
       "    .dataframe thead th {\n",
       "        text-align: right;\n",
       "    }\n",
       "</style>\n",
       "<table border=\"1\" class=\"dataframe\">\n",
       "  <thead>\n",
       "    <tr style=\"text-align: right;\">\n",
       "      <th></th>\n",
       "      <th>season</th>\n",
       "      <th>holiday</th>\n",
       "      <th>workingday</th>\n",
       "      <th>weather</th>\n",
       "      <th>temp</th>\n",
       "      <th>atemp</th>\n",
       "      <th>humidity</th>\n",
       "      <th>windspeed</th>\n",
       "      <th>year</th>\n",
       "      <th>month</th>\n",
       "      <th>day</th>\n",
       "      <th>hour</th>\n",
       "    </tr>\n",
       "  </thead>\n",
       "  <tbody>\n",
       "    <tr>\n",
       "      <th>0</th>\n",
       "      <td>1</td>\n",
       "      <td>0</td>\n",
       "      <td>1</td>\n",
       "      <td>1</td>\n",
       "      <td>10.66</td>\n",
       "      <td>11.365</td>\n",
       "      <td>56</td>\n",
       "      <td>26.0027</td>\n",
       "      <td>2011</td>\n",
       "      <td>1</td>\n",
       "      <td>1</td>\n",
       "      <td>0</td>\n",
       "    </tr>\n",
       "    <tr>\n",
       "      <th>1</th>\n",
       "      <td>1</td>\n",
       "      <td>0</td>\n",
       "      <td>1</td>\n",
       "      <td>1</td>\n",
       "      <td>10.66</td>\n",
       "      <td>13.635</td>\n",
       "      <td>56</td>\n",
       "      <td>0.0000</td>\n",
       "      <td>2011</td>\n",
       "      <td>1</td>\n",
       "      <td>1</td>\n",
       "      <td>1</td>\n",
       "    </tr>\n",
       "    <tr>\n",
       "      <th>2</th>\n",
       "      <td>1</td>\n",
       "      <td>0</td>\n",
       "      <td>1</td>\n",
       "      <td>1</td>\n",
       "      <td>10.66</td>\n",
       "      <td>13.635</td>\n",
       "      <td>56</td>\n",
       "      <td>0.0000</td>\n",
       "      <td>2011</td>\n",
       "      <td>1</td>\n",
       "      <td>1</td>\n",
       "      <td>2</td>\n",
       "    </tr>\n",
       "    <tr>\n",
       "      <th>3</th>\n",
       "      <td>1</td>\n",
       "      <td>0</td>\n",
       "      <td>1</td>\n",
       "      <td>1</td>\n",
       "      <td>10.66</td>\n",
       "      <td>12.880</td>\n",
       "      <td>56</td>\n",
       "      <td>11.0014</td>\n",
       "      <td>2011</td>\n",
       "      <td>1</td>\n",
       "      <td>1</td>\n",
       "      <td>3</td>\n",
       "    </tr>\n",
       "    <tr>\n",
       "      <th>4</th>\n",
       "      <td>1</td>\n",
       "      <td>0</td>\n",
       "      <td>1</td>\n",
       "      <td>1</td>\n",
       "      <td>10.66</td>\n",
       "      <td>12.880</td>\n",
       "      <td>56</td>\n",
       "      <td>11.0014</td>\n",
       "      <td>2011</td>\n",
       "      <td>1</td>\n",
       "      <td>1</td>\n",
       "      <td>4</td>\n",
       "    </tr>\n",
       "  </tbody>\n",
       "</table>\n",
       "</div>"
      ],
      "text/plain": [
       "   season  holiday  workingday  weather   temp   atemp  humidity  windspeed  \\\n",
       "0       1        0           1        1  10.66  11.365        56    26.0027   \n",
       "1       1        0           1        1  10.66  13.635        56     0.0000   \n",
       "2       1        0           1        1  10.66  13.635        56     0.0000   \n",
       "3       1        0           1        1  10.66  12.880        56    11.0014   \n",
       "4       1        0           1        1  10.66  12.880        56    11.0014   \n",
       "\n",
       "   year  month  day  hour  \n",
       "0  2011      1    1     0  \n",
       "1  2011      1    1     1  \n",
       "2  2011      1    1     2  \n",
       "3  2011      1    1     3  \n",
       "4  2011      1    1     4  "
      ]
     },
     "metadata": {},
     "output_type": "display_data"
    }
   ],
   "source": [
    "bike_df['datetime'] = pd.to_datetime(bike_df.datetime)\n",
    "bike_test['datetime'] = pd.to_datetime(bike_test.datetime)\n",
    "\n",
    "bike_df['year'] = bike_df['datetime'].dt.year\n",
    "bike_df['month'] = bike_df['datetime'].dt.month\n",
    "bike_df['day'] = bike_df['datetime'].dt.day\n",
    "bike_df['hour'] = bike_df['datetime'].dt.hour\n",
    "bike_df['hour'] = bike_df['datetime'].dt.hour\n",
    "\n",
    "bike_test['year'] = bike_df['datetime'].dt.year\n",
    "bike_test['month'] = bike_df['datetime'].dt.month\n",
    "bike_test['day'] = bike_df['datetime'].dt.day\n",
    "bike_test['hour'] = bike_df['datetime'].dt.hour\n",
    "bike_test['hour'] = bike_df['datetime'].dt.hour\n",
    "\n",
    "bike_df1 = bike_df.drop('datetime', axis = 1)\n",
    "display(bike_df1.head())\n",
    "\n",
    "bike_test1 = bike_test.drop('datetime', axis = 1)\n",
    "display(bike_test1.head())"
   ]
  },
  {
   "cell_type": "code",
   "execution_count": 4,
   "id": "be2e5ac6",
   "metadata": {
    "ExecuteTime": {
     "end_time": "2022-03-15T00:51:05.089627Z",
     "start_time": "2022-03-15T00:51:04.974853Z"
    }
   },
   "outputs": [
    {
     "name": "stdout",
     "output_type": "stream",
     "text": [
      "rmse : 140.9\n",
      "mae : 105.924\n",
      "rmsle : 1.165\n"
     ]
    },
    {
     "name": "stderr",
     "output_type": "stream",
     "text": [
      "C:\\Users\\spiner\\AppData\\Local\\Temp/ipykernel_1568/1003797188.py:16: RuntimeWarning: invalid value encountered in log1p\n",
      "  rmsle = np.sqrt(np.mean(np.square(np.log1p(y_test) - np.log1p(pred))))\n"
     ]
    }
   ],
   "source": [
    "X = bike_df1.drop(['count', 'casual', 'registered'], axis = 1)\n",
    "# y = np.log1p(bike_df1['count'])\n",
    "y = bike_df1['count']\n",
    "\n",
    "lr_reg = LinearRegression()\n",
    "X_train, X_test, y_train, y_test = train_test_split(X, y, test_size = 0.3, random_state = 0)\n",
    "lr_reg.fit(X_train, y_train)\n",
    "pred = lr_reg.predict(X_test)\n",
    "# pred = np.expm1(pred)\n",
    "# y_test\n",
    "\n",
    "def get_eval(y_test, pred):\n",
    "    rmse = mean_squared_error(y_test, pred, squared = False)\n",
    "#     msle = mean_squared_log_error(y_test, pred, squared = False)\n",
    "    mae = mean_absolute_error(y_test, pred)\n",
    "    rmsle = np.sqrt(np.mean(np.square(np.log1p(y_test) - np.log1p(pred))))\n",
    "    print('rmse :', round(rmse, 3))\n",
    "    print('mae :', round(mae, 3))    \n",
    "    print('rmsle :', round(rmsle, 3))\n",
    "\n",
    "\n",
    "get_eval(y_test, pred)"
   ]
  },
  {
   "cell_type": "code",
   "execution_count": 97,
   "id": "78533a7c",
   "metadata": {
    "ExecuteTime": {
     "end_time": "2022-03-15T01:58:36.202794Z",
     "start_time": "2022-03-15T01:58:36.088509Z"
    }
   },
   "outputs": [
    {
     "name": "stdout",
     "output_type": "stream",
     "text": [
      "Index(['temp', 'atemp', 'humidity', 'windspeed', 'season_1', 'season_2',\n",
      "       'season_3', 'season_4', 'holiday_0', 'holiday_1', 'workingday_0',\n",
      "       'workingday_1', 'weather_1', 'weather_2', 'weather_3', 'weather_4',\n",
      "       'year_2011', 'year_2012', 'month_1', 'month_10', 'month_11', 'month_12',\n",
      "       'month_2', 'month_3', 'month_4', 'month_5', 'month_6', 'month_7',\n",
      "       'month_8', 'month_9', 'day_1', 'day_10', 'day_11', 'day_12', 'day_13',\n",
      "       'day_14', 'day_15', 'day_16', 'day_17', 'day_18', 'day_19', 'day_2',\n",
      "       'day_3', 'day_4', 'day_5', 'day_6', 'day_7', 'day_8', 'day_9', 'hour_0',\n",
      "       'hour_1', 'hour_10', 'hour_11', 'hour_12', 'hour_13', 'hour_14',\n",
      "       'hour_15', 'hour_16', 'hour_17', 'hour_18', 'hour_19', 'hour_2',\n",
      "       'hour_20', 'hour_21', 'hour_22', 'hour_23', 'hour_3', 'hour_4',\n",
      "       'hour_5', 'hour_6', 'hour_7', 'hour_8', 'hour_9'],\n",
      "      dtype='object')\n"
     ]
    },
    {
     "data": {
      "text/plain": [
       "Int64Index([4055, 4056, 4057, 4058, 4059, 4060, 4061, 4062, 4063, 4064,\n",
       "            ...\n",
       "            9965, 9966, 9967, 9968, 9969, 9970, 9971, 9972, 9973, 9974],\n",
       "           dtype='int64', length=911)"
      ]
     },
     "execution_count": 97,
     "metadata": {},
     "output_type": "execute_result"
    }
   ],
   "source": [
    "X_re = X.copy()\n",
    "y_re = np.log1p(y)\n",
    "\n",
    "for i in ['year', 'month', 'day', 'hour', 'season', 'holiday', 'workingday', 'weather']:\n",
    "    X_re[i] = X[i].astype(str)\n",
    "\n",
    "# X_re = pd.get_dummies(X_re, columns = ['year', 'month', 'day', 'hour', 'season', 'holiday', 'workingday', 'weather'])\n",
    "X_re = pd.get_dummies(X_re)\n",
    "print(X_re.columns)\n",
    "X_re['month_10'][X_re['month_10'] == 1].index"
   ]
  },
  {
   "cell_type": "code",
   "execution_count": 96,
   "id": "ad7f8299",
   "metadata": {
    "ExecuteTime": {
     "end_time": "2022-03-15T01:58:27.894584Z",
     "start_time": "2022-03-15T01:58:27.861643Z"
    }
   },
   "outputs": [
    {
     "name": "stdout",
     "output_type": "stream",
     "text": [
      "Index(['temp', 'atemp', 'humidity', 'windspeed', 'year_2011', 'year_2012',\n",
      "       'month_1', 'month_2', 'month_3', 'month_4', 'month_5', 'month_6',\n",
      "       'month_7', 'month_8', 'month_9', 'month_10', 'month_11', 'month_12',\n",
      "       'day_1', 'day_2', 'day_3', 'day_4', 'day_5', 'day_6', 'day_7', 'day_8',\n",
      "       'day_9', 'day_10', 'day_11', 'day_12', 'day_13', 'day_14', 'day_15',\n",
      "       'day_16', 'day_17', 'day_18', 'day_19', 'hour_0', 'hour_1', 'hour_2',\n",
      "       'hour_3', 'hour_4', 'hour_5', 'hour_6', 'hour_7', 'hour_8', 'hour_9',\n",
      "       'hour_10', 'hour_11', 'hour_12', 'hour_13', 'hour_14', 'hour_15',\n",
      "       'hour_16', 'hour_17', 'hour_18', 'hour_19', 'hour_20', 'hour_21',\n",
      "       'hour_22', 'hour_23', 'season_1', 'season_2', 'season_3', 'season_4',\n",
      "       'holiday_0', 'holiday_1', 'workingday_0', 'workingday_1', 'weather_1',\n",
      "       'weather_2', 'weather_3', 'weather_4'],\n",
      "      dtype='object')\n"
     ]
    },
    {
     "data": {
      "text/plain": [
       "Int64Index([4055, 4056, 4057, 4058, 4059, 4060, 4061, 4062, 4063, 4064,\n",
       "            ...\n",
       "            9965, 9966, 9967, 9968, 9969, 9970, 9971, 9972, 9973, 9974],\n",
       "           dtype='int64', length=911)"
      ]
     },
     "execution_count": 96,
     "metadata": {},
     "output_type": "execute_result"
    }
   ],
   "source": [
    "X_re1 = X.copy()\n",
    "\n",
    "X_re1 = pd.get_dummies(X_re1, columns = ['year', 'month', 'day', 'hour', 'season', 'holiday', 'workingday', 'weather'])\n",
    "print(X_re1.columns)\n",
    "X_re1['month_10'][X_re1['month_10'] == 1].index"
   ]
  },
  {
   "cell_type": "code",
   "execution_count": 58,
   "id": "144747f8",
   "metadata": {
    "ExecuteTime": {
     "end_time": "2022-03-15T01:03:50.053318Z",
     "start_time": "2022-03-15T01:03:48.293002Z"
    }
   },
   "outputs": [
    {
     "name": "stdout",
     "output_type": "stream",
     "text": [
      "*** Ridge(alpha=10, random_state=0) ***\n",
      "rmse : 98.529\n",
      "mae : 63.893\n",
      "rmsle : 0.59\n",
      "\n",
      "*** Lasso(alpha=0.005, random_state=0) ***\n",
      "rmse : 104.066\n",
      "mae : 66.671\n",
      "rmsle : 0.602\n",
      "\n",
      "*** LinearRegression(n_jobs=-1) ***\n",
      "rmse : 97.688\n",
      "mae : 63.382\n",
      "rmsle : 0.59\n",
      "\n"
     ]
    },
    {
     "data": {
      "image/png": "[encoded data removed]",
      "text/plain": [
       "<Figure size 1800x720 with 3 Axes>"
      ]
     },
     "metadata": {},
     "output_type": "display_data"
    }
   ],
   "source": [
    "ridge = Ridge(alpha = 10, random_state = 0)\n",
    "lasso = Lasso(alpha = 0.005, random_state = 0)\n",
    "lr_reg = LinearRegression(n_jobs = -1)\n",
    "\n",
    "X_train, X_test, y_train, y_test = train_test_split(X_re, y_re, test_size = 0.3, random_state = 0)\n",
    "\n",
    "for i in [ridge, lasso, lr_reg]:\n",
    "    i.fit(X_train, y_train)\n",
    "    pred = i.predict(X_test)\n",
    "    pred_re = np.expm1(pred)\n",
    "    y_test_re = np.expm1(y_test)\n",
    "    print('***', i, '***')\n",
    "    get_eval(y_test_re, pred_re)\n",
    "    print()\n",
    "    \n",
    "fig = plt.figure(figsize = (25, 10))   \n",
    "for i, j in enumerate([ridge, lasso, lr_reg]):\n",
    "    j.fit(X_train, y_train)\n",
    "    coef = pd.Series(j.coef_, index = X_re.columns).sort_values(ascending = False)\n",
    "    coef_re = pd.concat([coef[:10], coef[-10:]])\n",
    "    fig.add_subplot(1, 3, i+1)\n",
    "    sns.barplot(x = coef_re, y = coef_re.index)\n",
    "    plt.title(f'{j} / Top, Bottom 10', fontsize = 15)\n",
    "plt.show()"
   ]
  },
  {
   "cell_type": "code",
   "execution_count": 95,
   "id": "bf16e407",
   "metadata": {
    "ExecuteTime": {
     "end_time": "2022-03-15T01:57:37.878770Z",
     "start_time": "2022-03-15T01:57:36.691833Z"
    }
   },
   "outputs": [
    {
     "name": "stdout",
     "output_type": "stream",
     "text": [
      "*** Ridge(alpha=10, random_state=0) ***\n",
      "rmse : 98.529\n",
      "mae : 63.893\n",
      "rmsle : 0.59\n",
      "\n",
      "*** Lasso(alpha=0.005, random_state=0) ***\n",
      "rmse : 104.068\n",
      "mae : 66.672\n",
      "rmsle : 0.602\n",
      "\n",
      "*** LinearRegression(n_jobs=-1) ***\n",
      "rmse : 97.69\n",
      "mae : 63.383\n",
      "rmsle : 0.59\n",
      "\n"
     ]
    },
    {
     "data": {
      "image/png": "[encoded data removed]",
      "text/plain": [
       "<Figure size 1800x720 with 3 Axes>"
      ]
     },
     "metadata": {},
     "output_type": "display_data"
    }
   ],
   "source": [
    "ridge = Ridge(alpha = 10, random_state = 0)\n",
    "lasso = Lasso(alpha = 0.005, random_state = 0)\n",
    "lr_reg = LinearRegression(n_jobs = -1)\n",
    "\n",
    "X_train, X_test, y_train, y_test = train_test_split(X_re1, y_re, test_size = 0.3, random_state = 0)\n",
    "\n",
    "for i in [ridge, lasso, lr_reg]:\n",
    "    i.fit(X_train, y_train)\n",
    "    pred = i.predict(X_test)\n",
    "    pred_re = np.expm1(pred)\n",
    "    y_test_re = np.expm1(y_test)\n",
    "    print('***', i, '***')\n",
    "    get_eval(y_test_re, pred_re)\n",
    "    print()\n",
    "    \n",
    "fig = plt.figure(figsize = (25, 10))   \n",
    "for i, j in enumerate([ridge, lasso, lr_reg]):\n",
    "    j.fit(X_train, y_train)\n",
    "    coef = pd.Series(j.coef_, index = X_re1.columns).sort_values(ascending = False)\n",
    "    coef_re = pd.concat([coef[:10], coef[-10:]])\n",
    "    fig.add_subplot(1, 3, i+1)\n",
    "    sns.barplot(x = coef_re, y = coef_re.index)\n",
    "    plt.title(f'{j} / Top, Bottom 10', fontsize = 15)\n",
    "plt.show()"
   ]
  },
  {
   "cell_type": "code",
   "execution_count": 406,
   "id": "ecf24835",
   "metadata": {
    "ExecuteTime": {
     "end_time": "2022-03-14T15:48:05.756518Z",
     "start_time": "2022-03-14T15:48:05.744516Z"
    }
   },
   "outputs": [
    {
     "data": {
      "text/plain": [
       "season_3        9.821539e+09\n",
       "month_10        5.171756e+09\n",
       "month_11        5.171756e+09\n",
       "month_12        5.171756e+09\n",
       "weather_1       1.977515e+09\n",
       "weather_2       1.977515e+09\n",
       "weather_4       1.977515e+09\n",
       "weather_3       1.977515e+09\n",
       "hour_17         1.968356e+09\n",
       "hour_18         1.968356e+09\n",
       "day_7          -1.820156e+08\n",
       "year_2012      -1.243782e+09\n",
       "year_2011      -1.243782e+09\n",
       "season_2       -1.511286e+09\n",
       "workingday_0   -3.342079e+09\n",
       "workingday_1   -3.342079e+09\n",
       "season_4       -4.997085e+09\n",
       "month_9        -9.646868e+09\n",
       "month_8        -9.646868e+09\n",
       "month_7        -9.646868e+09\n",
       "dtype: float64"
      ]
     },
     "execution_count": 406,
     "metadata": {},
     "output_type": "execute_result"
    }
   ],
   "source": [
    "coef = pd.Series(lr_reg.coef_, X_re.columns).sort_values(ascending = False)\n",
    "pd.concat([coef[:10], coef[-10:]])"
   ]
  },
  {
   "cell_type": "markdown",
   "id": "577c4568",
   "metadata": {},
   "source": [
    "##### [도전과제] 캐글 주택가격 예측 및 평가를 아래 사이트를 참조하여 수행하세요.\n",
    "---\n",
    "\n",
    "https://www.kaggle.com/c/house-prices-advanced-regression-techniques\n"
   ]
  },
  {
   "cell_type": "code",
   "execution_count": null,
   "id": "351fe3f5",
   "metadata": {},
   "outputs": [],
   "source": []
  }
 ],
 "metadata": {
  "hide_input": false,
  "kernelspec": {
   "display_name": "Python 3 (ipykernel)",
   "language": "python",
   "name": "python3"
  },
  "language_info": {
   "codemirror_mode": {
    "name": "ipython",
    "version": 3
   },
   "file_extension": ".py",
   "mimetype": "text/x-python",
   "name": "python",
   "nbconvert_exporter": "python",
   "pygments_lexer": "ipython3",
   "version": "3.8.12"
  },
  "toc": {
   "base_numbering": 1,
   "nav_menu": {},
   "number_sections": false,
   "sideBar": true,
   "skip_h1_title": false,
   "title_cell": "Table of Contents",
   "title_sidebar": "Contents",
   "toc_cell": false,
   "toc_position": {},
   "toc_section_display": true,
   "toc_window_display": false
  },
  "varInspector": {
   "cols": {
    "lenName": "16",
    "lenType": "16",
    "lenVar": 40
   },
   "kernels_config": {
    "python": {
     "delete_cmd_postfix": "",
     "delete_cmd_prefix": "del ",
     "library": "var_list.py",
     "varRefreshCmd": "print(var_dic_list())"
    },
    "r": {
     "delete_cmd_postfix": ") ",
     "delete_cmd_prefix": "rm(",
     "library": "var_list.r",
     "varRefreshCmd": "cat(var_dic_list()) "
    }
   },
   "types_to_exclude": [
    "module",
    "function",
    "builtin_function_or_method",
    "instance",
    "_Feature"
   ],
   "window_display": false
  }
 },
 "nbformat": 4,
 "nbformat_minor": 5
}
