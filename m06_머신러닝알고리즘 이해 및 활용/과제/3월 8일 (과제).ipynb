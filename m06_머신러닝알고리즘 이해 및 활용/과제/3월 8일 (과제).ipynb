{
 "cells": [
  {
   "cell_type": "code",
   "execution_count": 6,
   "id": "b92b8da7",
   "metadata": {
    "ExecuteTime": {
     "end_time": "2022-03-09T23:57:13.782953Z",
     "start_time": "2022-03-09T23:57:11.601060Z"
    }
   },
   "outputs": [],
   "source": [
    "import pandas as pd\n",
    "import numpy as np\n",
    "from sklearn.preprocessing import StandardScaler\n",
    "from sklearn.model_selection import train_test_split\n",
    "from sklearn.model_selection import GridSearchCV\n",
    "from sklearn.model_selection import cross_validate\n",
    "from sklearn.metrics import accuracy_score, precision_score, recall_score, f1_score, roc_auc_score, confusion_matrix\n",
    "from sklearn.linear_model import LogisticRegression\n",
    "from xgboost import XGBClassifier\n",
    "from xgboost import plot_importance as xgbplot\n",
    "from lightgbm import LGBMClassifier\n",
    "from lightgbm import plot_importance as lgbmplot\n",
    "from imblearn.over_sampling import SMOTE\n",
    "import matplotlib.pyplot as plt\n",
    "import seaborn as sns\n",
    "import warnings\n",
    "warnings.filterwarnings('ignore')\n",
    "plt.style.use('seaborn')\n",
    "plt.rc('font', family = 'Malgun Gothic')\n",
    "plt.rcParams['axes.unicode_minus'] = False"
   ]
  },
  {
   "cell_type": "code",
   "execution_count": 422,
   "id": "b0f7f482",
   "metadata": {
    "ExecuteTime": {
     "end_time": "2022-03-09T13:32:48.943730Z",
     "start_time": "2022-03-09T13:32:48.933721Z"
    }
   },
   "outputs": [],
   "source": [
    "def get_clf_eval(y_test, pred, pred_proba):\n",
    "    accuracy = accuracy_score(y_test, pred)\n",
    "    precision = precision_score(y_test, pred)\n",
    "    recall = recall_score(y_test, pred)\n",
    "    f1 = f1_score(y_test, pred)\n",
    "    auc = roc_auc_score(y_test, pred_proba)\n",
    "    print(f'정확도 : {round(accuracy, 3)} \\n정밀도 : {round(precision, 3)} \\n재현율 : {round(recall, 3)}, \\nf1 score : {round(f1, 3)}, \\nAUC : {round(auc, 3)}')"
   ]
  },
  {
   "cell_type": "markdown",
   "id": "5a45b13f",
   "metadata": {},
   "source": [
    "##### [과제] GBM을 하이퍼 파라미터 튜닝 하세요\n",
    "---"
   ]
  },
  {
   "cell_type": "code",
   "execution_count": null,
   "id": "5ad1f134",
   "metadata": {},
   "outputs": [],
   "source": [
    "feature_name_df = pd.read_csv('../data/human_activity/features.txt', sep='\\s+', header=None, \\\n",
    "                              names = ['column_index','column_name'])\n",
    "# print(feature_name_df.head())\n",
    "feature_name = feature_name_df.iloc[:,1].values.tolist()\n",
    "# print(feature_name[:10])\n",
    "\n",
    "feature_dup_df = feature_name_df.groupby('column_name').count()\n",
    "# print(feature_dup_df[feature_dup_df['column_index']>1].count())\n",
    "feature_dup_df[feature_dup_df['column_index']>1].head()\n",
    "\n",
    "def get_new_feature_name_df(old_feature_name_df):\n",
    "    feature_dup_df = pd.DataFrame(data=old_feature_name_df.groupby('column_name').cumcount(),\n",
    "                                 columns=['dup_cnt'])\n",
    "    feature_dup_df = feature_dup_df.reset_index() \n",
    "    new_feature_name_df = pd.merge(old_feature_name_df.reset_index(),feature_dup_df,how='outer')\n",
    "    new_feature_name_df['column_name'] = new_feature_name_df[['column_name',\n",
    "                                                             'dup_cnt']].apply(lambda x:x[0]+'_'+str(x[1])\n",
    "                                                                              if x[1]>0 else x[0], axis=1)\n",
    "    new_feature_name_df = new_feature_name_df.drop(['index'],axis=1)\n",
    "    return new_feature_name_df\n",
    "\n",
    "def get_human_dataset():\n",
    "    feature_name_df = pd.read_csv('../data/human_activity/features.txt', sep='\\s+', header=None, \\\n",
    "                              names = ['column_index','column_name'])\n",
    "    \n",
    "    new_feature_name_df = get_new_feature_name_df(feature_name_df)\n",
    "    \n",
    "    feature_name = new_feature_name_df.iloc[:,1].values.tolist()\n",
    "    \n",
    "    X_train = pd.read_csv('../data/human_activity/train/X_train.txt', sep='\\s+', header=None)\n",
    "    X_train.columns = feature_name\n",
    "    X_test = pd.read_csv('../data/human_activity/test/X_test.txt', sep='\\s+', header=None)\n",
    "    X_test.columns = feature_name\n",
    "    \n",
    "    y_train = pd.read_csv('../data/human_activity/train/y_train.txt', sep='\\s+', header=None, names=['action'])\n",
    "    y_test = pd.read_csv('../data/human_activity/test/y_test.txt', sep='\\s+', header=None, names=['action'])\n",
    "    \n",
    "    return X_train, X_test, y_train, y_test\n",
    "\n",
    "X_train, X_test, y_train, y_test = get_human_dataset()"
   ]
  },
  {
   "cell_type": "code",
   "execution_count": 84,
   "id": "ac76cddb",
   "metadata": {
    "ExecuteTime": {
     "end_time": "2022-03-09T10:00:40.594186Z",
     "start_time": "2022-03-09T10:00:40.440554Z"
    }
   },
   "outputs": [
    {
     "ename": "NameError",
     "evalue": "name 'get_human_dataset' is not defined",
     "output_type": "error",
     "traceback": [
      "\u001b[1;31m---------------------------------------------------------------------------\u001b[0m",
      "\u001b[1;31mNameError\u001b[0m                                 Traceback (most recent call last)",
      "\u001b[1;32m~\\AppData\\Local\\Temp/ipykernel_17056/809041757.py\u001b[0m in \u001b[0;36m<module>\u001b[1;34m\u001b[0m\n\u001b[0;32m      3\u001b[0m \u001b[1;32mimport\u001b[0m \u001b[0mtime\u001b[0m\u001b[1;33m\u001b[0m\u001b[1;33m\u001b[0m\u001b[0m\n\u001b[0;32m      4\u001b[0m \u001b[1;33m\u001b[0m\u001b[0m\n\u001b[1;32m----> 5\u001b[1;33m \u001b[0mX_train\u001b[0m\u001b[1;33m,\u001b[0m \u001b[0mX_test\u001b[0m\u001b[1;33m,\u001b[0m \u001b[0my_train\u001b[0m\u001b[1;33m,\u001b[0m \u001b[0my_test\u001b[0m \u001b[1;33m=\u001b[0m \u001b[0mget_human_dataset\u001b[0m\u001b[1;33m(\u001b[0m\u001b[1;33m)\u001b[0m\u001b[1;33m\u001b[0m\u001b[1;33m\u001b[0m\u001b[0m\n\u001b[0m\u001b[0;32m      6\u001b[0m \u001b[1;33m\u001b[0m\u001b[0m\n\u001b[0;32m      7\u001b[0m \u001b[0mstart_time\u001b[0m \u001b[1;33m=\u001b[0m \u001b[0mtime\u001b[0m\u001b[1;33m.\u001b[0m\u001b[0mtime\u001b[0m\u001b[1;33m(\u001b[0m\u001b[1;33m)\u001b[0m\u001b[1;33m\u001b[0m\u001b[1;33m\u001b[0m\u001b[0m\n",
      "\u001b[1;31mNameError\u001b[0m: name 'get_human_dataset' is not defined"
     ]
    }
   ],
   "source": [
    "from sklearn.ensemble import GradientBoostingClassifier\n",
    "from sklearn.metrics import accuracy_score\n",
    "import time\n",
    "\n",
    "X_train, X_test, y_train, y_test = get_human_dataset()\n",
    "\n",
    "start_time = time.time()\n",
    "\n",
    "gb_clf = GradientBoostingClassifier(random_state = 0)\n",
    "gb_clf.fit(X_train, y_train)\n",
    "pred = gb_clf.predict(X_test)\n",
    "accuracy = accuracy_score(y_test, gb_pred)\n",
    "\n",
    "print(f'GBM 정확도 :', round(accuracy, 3))\n",
    "print(f'GBM 수행시간 :', time.time() - start_time)"
   ]
  },
  {
   "cell_type": "markdown",
   "id": "4f755d02",
   "metadata": {},
   "source": [
    "##### [과제] 산탄데르 고객만족 데이터 세트에 대해서 고객만족 여부를 XGBoost와 LightGBM을 활용해 예측을 수행\n",
    "---\n",
    "- GridSearchCV도 사용해볼 것\n",
    "- 독립변수 중요도 시각화"
   ]
  },
  {
   "cell_type": "code",
   "execution_count": 149,
   "id": "91065896",
   "metadata": {
    "ExecuteTime": {
     "end_time": "2022-03-09T10:39:45.984265Z",
     "start_time": "2022-03-09T10:39:44.877152Z"
    }
   },
   "outputs": [
    {
     "data": {
      "text/html": [
       "<div>\n",
       "<style scoped>\n",
       "    .dataframe tbody tr th:only-of-type {\n",
       "        vertical-align: middle;\n",
       "    }\n",
       "\n",
       "    .dataframe tbody tr th {\n",
       "        vertical-align: top;\n",
       "    }\n",
       "\n",
       "    .dataframe thead th {\n",
       "        text-align: right;\n",
       "    }\n",
       "</style>\n",
       "<table border=\"1\" class=\"dataframe\">\n",
       "  <thead>\n",
       "    <tr style=\"text-align: right;\">\n",
       "      <th></th>\n",
       "      <th>ID</th>\n",
       "      <th>var3</th>\n",
       "      <th>var15</th>\n",
       "      <th>imp_ent_var16_ult1</th>\n",
       "      <th>imp_op_var39_comer_ult1</th>\n",
       "      <th>imp_op_var39_comer_ult3</th>\n",
       "      <th>imp_op_var40_comer_ult1</th>\n",
       "      <th>imp_op_var40_comer_ult3</th>\n",
       "      <th>imp_op_var40_efect_ult1</th>\n",
       "      <th>imp_op_var40_efect_ult3</th>\n",
       "      <th>...</th>\n",
       "      <th>saldo_medio_var33_hace2</th>\n",
       "      <th>saldo_medio_var33_hace3</th>\n",
       "      <th>saldo_medio_var33_ult1</th>\n",
       "      <th>saldo_medio_var33_ult3</th>\n",
       "      <th>saldo_medio_var44_hace2</th>\n",
       "      <th>saldo_medio_var44_hace3</th>\n",
       "      <th>saldo_medio_var44_ult1</th>\n",
       "      <th>saldo_medio_var44_ult3</th>\n",
       "      <th>var38</th>\n",
       "      <th>TARGET</th>\n",
       "    </tr>\n",
       "  </thead>\n",
       "  <tbody>\n",
       "    <tr>\n",
       "      <th>0</th>\n",
       "      <td>1</td>\n",
       "      <td>2</td>\n",
       "      <td>23</td>\n",
       "      <td>0.0</td>\n",
       "      <td>0.0</td>\n",
       "      <td>0.0</td>\n",
       "      <td>0.0</td>\n",
       "      <td>0.0</td>\n",
       "      <td>0.0</td>\n",
       "      <td>0.0</td>\n",
       "      <td>...</td>\n",
       "      <td>0.0</td>\n",
       "      <td>0.0</td>\n",
       "      <td>0.0</td>\n",
       "      <td>0.0</td>\n",
       "      <td>0.0</td>\n",
       "      <td>0.0</td>\n",
       "      <td>0.0</td>\n",
       "      <td>0.0</td>\n",
       "      <td>39205.170000</td>\n",
       "      <td>0</td>\n",
       "    </tr>\n",
       "    <tr>\n",
       "      <th>1</th>\n",
       "      <td>3</td>\n",
       "      <td>2</td>\n",
       "      <td>34</td>\n",
       "      <td>0.0</td>\n",
       "      <td>0.0</td>\n",
       "      <td>0.0</td>\n",
       "      <td>0.0</td>\n",
       "      <td>0.0</td>\n",
       "      <td>0.0</td>\n",
       "      <td>0.0</td>\n",
       "      <td>...</td>\n",
       "      <td>0.0</td>\n",
       "      <td>0.0</td>\n",
       "      <td>0.0</td>\n",
       "      <td>0.0</td>\n",
       "      <td>0.0</td>\n",
       "      <td>0.0</td>\n",
       "      <td>0.0</td>\n",
       "      <td>0.0</td>\n",
       "      <td>49278.030000</td>\n",
       "      <td>0</td>\n",
       "    </tr>\n",
       "    <tr>\n",
       "      <th>2</th>\n",
       "      <td>4</td>\n",
       "      <td>2</td>\n",
       "      <td>23</td>\n",
       "      <td>0.0</td>\n",
       "      <td>0.0</td>\n",
       "      <td>0.0</td>\n",
       "      <td>0.0</td>\n",
       "      <td>0.0</td>\n",
       "      <td>0.0</td>\n",
       "      <td>0.0</td>\n",
       "      <td>...</td>\n",
       "      <td>0.0</td>\n",
       "      <td>0.0</td>\n",
       "      <td>0.0</td>\n",
       "      <td>0.0</td>\n",
       "      <td>0.0</td>\n",
       "      <td>0.0</td>\n",
       "      <td>0.0</td>\n",
       "      <td>0.0</td>\n",
       "      <td>67333.770000</td>\n",
       "      <td>0</td>\n",
       "    </tr>\n",
       "    <tr>\n",
       "      <th>3</th>\n",
       "      <td>8</td>\n",
       "      <td>2</td>\n",
       "      <td>37</td>\n",
       "      <td>0.0</td>\n",
       "      <td>195.0</td>\n",
       "      <td>195.0</td>\n",
       "      <td>0.0</td>\n",
       "      <td>0.0</td>\n",
       "      <td>0.0</td>\n",
       "      <td>0.0</td>\n",
       "      <td>...</td>\n",
       "      <td>0.0</td>\n",
       "      <td>0.0</td>\n",
       "      <td>0.0</td>\n",
       "      <td>0.0</td>\n",
       "      <td>0.0</td>\n",
       "      <td>0.0</td>\n",
       "      <td>0.0</td>\n",
       "      <td>0.0</td>\n",
       "      <td>64007.970000</td>\n",
       "      <td>0</td>\n",
       "    </tr>\n",
       "    <tr>\n",
       "      <th>4</th>\n",
       "      <td>10</td>\n",
       "      <td>2</td>\n",
       "      <td>39</td>\n",
       "      <td>0.0</td>\n",
       "      <td>0.0</td>\n",
       "      <td>0.0</td>\n",
       "      <td>0.0</td>\n",
       "      <td>0.0</td>\n",
       "      <td>0.0</td>\n",
       "      <td>0.0</td>\n",
       "      <td>...</td>\n",
       "      <td>0.0</td>\n",
       "      <td>0.0</td>\n",
       "      <td>0.0</td>\n",
       "      <td>0.0</td>\n",
       "      <td>0.0</td>\n",
       "      <td>0.0</td>\n",
       "      <td>0.0</td>\n",
       "      <td>0.0</td>\n",
       "      <td>117310.979016</td>\n",
       "      <td>0</td>\n",
       "    </tr>\n",
       "  </tbody>\n",
       "</table>\n",
       "<p>5 rows × 371 columns</p>\n",
       "</div>"
      ],
      "text/plain": [
       "   ID  var3  var15  imp_ent_var16_ult1  imp_op_var39_comer_ult1  \\\n",
       "0   1     2     23                 0.0                      0.0   \n",
       "1   3     2     34                 0.0                      0.0   \n",
       "2   4     2     23                 0.0                      0.0   \n",
       "3   8     2     37                 0.0                    195.0   \n",
       "4  10     2     39                 0.0                      0.0   \n",
       "\n",
       "   imp_op_var39_comer_ult3  imp_op_var40_comer_ult1  imp_op_var40_comer_ult3  \\\n",
       "0                      0.0                      0.0                      0.0   \n",
       "1                      0.0                      0.0                      0.0   \n",
       "2                      0.0                      0.0                      0.0   \n",
       "3                    195.0                      0.0                      0.0   \n",
       "4                      0.0                      0.0                      0.0   \n",
       "\n",
       "   imp_op_var40_efect_ult1  imp_op_var40_efect_ult3  ...  \\\n",
       "0                      0.0                      0.0  ...   \n",
       "1                      0.0                      0.0  ...   \n",
       "2                      0.0                      0.0  ...   \n",
       "3                      0.0                      0.0  ...   \n",
       "4                      0.0                      0.0  ...   \n",
       "\n",
       "   saldo_medio_var33_hace2  saldo_medio_var33_hace3  saldo_medio_var33_ult1  \\\n",
       "0                      0.0                      0.0                     0.0   \n",
       "1                      0.0                      0.0                     0.0   \n",
       "2                      0.0                      0.0                     0.0   \n",
       "3                      0.0                      0.0                     0.0   \n",
       "4                      0.0                      0.0                     0.0   \n",
       "\n",
       "   saldo_medio_var33_ult3  saldo_medio_var44_hace2  saldo_medio_var44_hace3  \\\n",
       "0                     0.0                      0.0                      0.0   \n",
       "1                     0.0                      0.0                      0.0   \n",
       "2                     0.0                      0.0                      0.0   \n",
       "3                     0.0                      0.0                      0.0   \n",
       "4                     0.0                      0.0                      0.0   \n",
       "\n",
       "   saldo_medio_var44_ult1  saldo_medio_var44_ult3          var38  TARGET  \n",
       "0                     0.0                     0.0   39205.170000       0  \n",
       "1                     0.0                     0.0   49278.030000       0  \n",
       "2                     0.0                     0.0   67333.770000       0  \n",
       "3                     0.0                     0.0   64007.970000       0  \n",
       "4                     0.0                     0.0  117310.979016       0  \n",
       "\n",
       "[5 rows x 371 columns]"
      ]
     },
     "metadata": {},
     "output_type": "display_data"
    },
    {
     "name": "stdout",
     "output_type": "stream",
     "text": [
      "<class 'pandas.core.frame.DataFrame'>\n",
      "RangeIndex: 76020 entries, 0 to 76019\n",
      "Columns: 371 entries, ID to TARGET\n",
      "dtypes: float64(111), int64(260)\n",
      "memory usage: 215.2 MB\n",
      "None \n",
      "\n",
      "ID                         0\n",
      "var3                       0\n",
      "var15                      0\n",
      "imp_ent_var16_ult1         0\n",
      "imp_op_var39_comer_ult1    0\n",
      "                          ..\n",
      "saldo_medio_var44_hace3    0\n",
      "saldo_medio_var44_ult1     0\n",
      "saldo_medio_var44_ult3     0\n",
      "var38                      0\n",
      "TARGET                     0\n",
      "Length: 371, dtype: int64 \n",
      "\n",
      "0\n"
     ]
    }
   ],
   "source": [
    "cust_df = pd.read_csv('../data/santander/train_santander.csv')\n",
    "\n",
    "display(cust_df.head())\n",
    "print(cust_df.info(), '\\n')\n",
    "print(cust_df.isnull().sum(), '\\n')\n",
    "print(cust_df.isnull().sum().sum())"
   ]
  },
  {
   "cell_type": "code",
   "execution_count": 145,
   "id": "6c36163f",
   "metadata": {
    "ExecuteTime": {
     "end_time": "2022-03-09T10:12:07.905466Z",
     "start_time": "2022-03-09T10:12:07.900461Z"
    },
    "scrolled": true
   },
   "outputs": [
    {
     "data": {
      "text/plain": [
       "0    0.960431\n",
       "1    0.039569\n",
       "Name: TARGET, dtype: float64"
      ]
     },
     "execution_count": 145,
     "metadata": {},
     "output_type": "execute_result"
    }
   ],
   "source": [
    "cust_df['TARGET'].value_counts(normalize = True)"
   ]
  },
  {
   "cell_type": "code",
   "execution_count": 146,
   "id": "1041886c",
   "metadata": {
    "ExecuteTime": {
     "end_time": "2022-03-09T10:12:10.384517Z",
     "start_time": "2022-03-09T10:12:09.648856Z"
    }
   },
   "outputs": [
    {
     "data": {
      "text/html": [
       "<div>\n",
       "<style scoped>\n",
       "    .dataframe tbody tr th:only-of-type {\n",
       "        vertical-align: middle;\n",
       "    }\n",
       "\n",
       "    .dataframe tbody tr th {\n",
       "        vertical-align: top;\n",
       "    }\n",
       "\n",
       "    .dataframe thead th {\n",
       "        text-align: right;\n",
       "    }\n",
       "</style>\n",
       "<table border=\"1\" class=\"dataframe\">\n",
       "  <thead>\n",
       "    <tr style=\"text-align: right;\">\n",
       "      <th></th>\n",
       "      <th>ID</th>\n",
       "      <th>var3</th>\n",
       "      <th>var15</th>\n",
       "      <th>imp_ent_var16_ult1</th>\n",
       "      <th>imp_op_var39_comer_ult1</th>\n",
       "      <th>imp_op_var39_comer_ult3</th>\n",
       "      <th>imp_op_var40_comer_ult1</th>\n",
       "      <th>imp_op_var40_comer_ult3</th>\n",
       "      <th>imp_op_var40_efect_ult1</th>\n",
       "      <th>imp_op_var40_efect_ult3</th>\n",
       "      <th>...</th>\n",
       "      <th>saldo_medio_var33_hace2</th>\n",
       "      <th>saldo_medio_var33_hace3</th>\n",
       "      <th>saldo_medio_var33_ult1</th>\n",
       "      <th>saldo_medio_var33_ult3</th>\n",
       "      <th>saldo_medio_var44_hace2</th>\n",
       "      <th>saldo_medio_var44_hace3</th>\n",
       "      <th>saldo_medio_var44_ult1</th>\n",
       "      <th>saldo_medio_var44_ult3</th>\n",
       "      <th>var38</th>\n",
       "      <th>TARGET</th>\n",
       "    </tr>\n",
       "  </thead>\n",
       "  <tbody>\n",
       "    <tr>\n",
       "      <th>count</th>\n",
       "      <td>76020.000000</td>\n",
       "      <td>76020.000000</td>\n",
       "      <td>76020.000000</td>\n",
       "      <td>76020.000000</td>\n",
       "      <td>76020.000000</td>\n",
       "      <td>76020.000000</td>\n",
       "      <td>76020.000000</td>\n",
       "      <td>76020.000000</td>\n",
       "      <td>76020.000000</td>\n",
       "      <td>76020.000000</td>\n",
       "      <td>...</td>\n",
       "      <td>76020.000000</td>\n",
       "      <td>76020.000000</td>\n",
       "      <td>76020.000000</td>\n",
       "      <td>76020.000000</td>\n",
       "      <td>76020.000000</td>\n",
       "      <td>76020.000000</td>\n",
       "      <td>76020.000000</td>\n",
       "      <td>76020.000000</td>\n",
       "      <td>7.602000e+04</td>\n",
       "      <td>76020.000000</td>\n",
       "    </tr>\n",
       "    <tr>\n",
       "      <th>mean</th>\n",
       "      <td>75964.050723</td>\n",
       "      <td>-1523.199277</td>\n",
       "      <td>33.212865</td>\n",
       "      <td>86.208265</td>\n",
       "      <td>72.363067</td>\n",
       "      <td>119.529632</td>\n",
       "      <td>3.559130</td>\n",
       "      <td>6.472698</td>\n",
       "      <td>0.412946</td>\n",
       "      <td>0.567352</td>\n",
       "      <td>...</td>\n",
       "      <td>7.935824</td>\n",
       "      <td>1.365146</td>\n",
       "      <td>12.215580</td>\n",
       "      <td>8.784074</td>\n",
       "      <td>31.505324</td>\n",
       "      <td>1.858575</td>\n",
       "      <td>76.026165</td>\n",
       "      <td>56.614351</td>\n",
       "      <td>1.172358e+05</td>\n",
       "      <td>0.039569</td>\n",
       "    </tr>\n",
       "    <tr>\n",
       "      <th>std</th>\n",
       "      <td>43781.947379</td>\n",
       "      <td>39033.462364</td>\n",
       "      <td>12.956486</td>\n",
       "      <td>1614.757313</td>\n",
       "      <td>339.315831</td>\n",
       "      <td>546.266294</td>\n",
       "      <td>93.155749</td>\n",
       "      <td>153.737066</td>\n",
       "      <td>30.604864</td>\n",
       "      <td>36.513513</td>\n",
       "      <td>...</td>\n",
       "      <td>455.887218</td>\n",
       "      <td>113.959637</td>\n",
       "      <td>783.207399</td>\n",
       "      <td>538.439211</td>\n",
       "      <td>2013.125393</td>\n",
       "      <td>147.786584</td>\n",
       "      <td>4040.337842</td>\n",
       "      <td>2852.579397</td>\n",
       "      <td>1.826646e+05</td>\n",
       "      <td>0.194945</td>\n",
       "    </tr>\n",
       "    <tr>\n",
       "      <th>min</th>\n",
       "      <td>1.000000</td>\n",
       "      <td>-999999.000000</td>\n",
       "      <td>5.000000</td>\n",
       "      <td>0.000000</td>\n",
       "      <td>0.000000</td>\n",
       "      <td>0.000000</td>\n",
       "      <td>0.000000</td>\n",
       "      <td>0.000000</td>\n",
       "      <td>0.000000</td>\n",
       "      <td>0.000000</td>\n",
       "      <td>...</td>\n",
       "      <td>0.000000</td>\n",
       "      <td>0.000000</td>\n",
       "      <td>0.000000</td>\n",
       "      <td>0.000000</td>\n",
       "      <td>0.000000</td>\n",
       "      <td>0.000000</td>\n",
       "      <td>0.000000</td>\n",
       "      <td>0.000000</td>\n",
       "      <td>5.163750e+03</td>\n",
       "      <td>0.000000</td>\n",
       "    </tr>\n",
       "    <tr>\n",
       "      <th>25%</th>\n",
       "      <td>38104.750000</td>\n",
       "      <td>2.000000</td>\n",
       "      <td>23.000000</td>\n",
       "      <td>0.000000</td>\n",
       "      <td>0.000000</td>\n",
       "      <td>0.000000</td>\n",
       "      <td>0.000000</td>\n",
       "      <td>0.000000</td>\n",
       "      <td>0.000000</td>\n",
       "      <td>0.000000</td>\n",
       "      <td>...</td>\n",
       "      <td>0.000000</td>\n",
       "      <td>0.000000</td>\n",
       "      <td>0.000000</td>\n",
       "      <td>0.000000</td>\n",
       "      <td>0.000000</td>\n",
       "      <td>0.000000</td>\n",
       "      <td>0.000000</td>\n",
       "      <td>0.000000</td>\n",
       "      <td>6.787061e+04</td>\n",
       "      <td>0.000000</td>\n",
       "    </tr>\n",
       "    <tr>\n",
       "      <th>50%</th>\n",
       "      <td>76043.000000</td>\n",
       "      <td>2.000000</td>\n",
       "      <td>28.000000</td>\n",
       "      <td>0.000000</td>\n",
       "      <td>0.000000</td>\n",
       "      <td>0.000000</td>\n",
       "      <td>0.000000</td>\n",
       "      <td>0.000000</td>\n",
       "      <td>0.000000</td>\n",
       "      <td>0.000000</td>\n",
       "      <td>...</td>\n",
       "      <td>0.000000</td>\n",
       "      <td>0.000000</td>\n",
       "      <td>0.000000</td>\n",
       "      <td>0.000000</td>\n",
       "      <td>0.000000</td>\n",
       "      <td>0.000000</td>\n",
       "      <td>0.000000</td>\n",
       "      <td>0.000000</td>\n",
       "      <td>1.064092e+05</td>\n",
       "      <td>0.000000</td>\n",
       "    </tr>\n",
       "    <tr>\n",
       "      <th>75%</th>\n",
       "      <td>113748.750000</td>\n",
       "      <td>2.000000</td>\n",
       "      <td>40.000000</td>\n",
       "      <td>0.000000</td>\n",
       "      <td>0.000000</td>\n",
       "      <td>0.000000</td>\n",
       "      <td>0.000000</td>\n",
       "      <td>0.000000</td>\n",
       "      <td>0.000000</td>\n",
       "      <td>0.000000</td>\n",
       "      <td>...</td>\n",
       "      <td>0.000000</td>\n",
       "      <td>0.000000</td>\n",
       "      <td>0.000000</td>\n",
       "      <td>0.000000</td>\n",
       "      <td>0.000000</td>\n",
       "      <td>0.000000</td>\n",
       "      <td>0.000000</td>\n",
       "      <td>0.000000</td>\n",
       "      <td>1.187563e+05</td>\n",
       "      <td>0.000000</td>\n",
       "    </tr>\n",
       "    <tr>\n",
       "      <th>max</th>\n",
       "      <td>151838.000000</td>\n",
       "      <td>238.000000</td>\n",
       "      <td>105.000000</td>\n",
       "      <td>210000.000000</td>\n",
       "      <td>12888.030000</td>\n",
       "      <td>21024.810000</td>\n",
       "      <td>8237.820000</td>\n",
       "      <td>11073.570000</td>\n",
       "      <td>6600.000000</td>\n",
       "      <td>6600.000000</td>\n",
       "      <td>...</td>\n",
       "      <td>50003.880000</td>\n",
       "      <td>20385.720000</td>\n",
       "      <td>138831.630000</td>\n",
       "      <td>91778.730000</td>\n",
       "      <td>438329.220000</td>\n",
       "      <td>24650.010000</td>\n",
       "      <td>681462.900000</td>\n",
       "      <td>397884.300000</td>\n",
       "      <td>2.203474e+07</td>\n",
       "      <td>1.000000</td>\n",
       "    </tr>\n",
       "  </tbody>\n",
       "</table>\n",
       "<p>8 rows × 371 columns</p>\n",
       "</div>"
      ],
      "text/plain": [
       "                  ID           var3         var15  imp_ent_var16_ult1  \\\n",
       "count   76020.000000   76020.000000  76020.000000        76020.000000   \n",
       "mean    75964.050723   -1523.199277     33.212865           86.208265   \n",
       "std     43781.947379   39033.462364     12.956486         1614.757313   \n",
       "min         1.000000 -999999.000000      5.000000            0.000000   \n",
       "25%     38104.750000       2.000000     23.000000            0.000000   \n",
       "50%     76043.000000       2.000000     28.000000            0.000000   \n",
       "75%    113748.750000       2.000000     40.000000            0.000000   \n",
       "max    151838.000000     238.000000    105.000000       210000.000000   \n",
       "\n",
       "       imp_op_var39_comer_ult1  imp_op_var39_comer_ult3  \\\n",
       "count             76020.000000             76020.000000   \n",
       "mean                 72.363067               119.529632   \n",
       "std                 339.315831               546.266294   \n",
       "min                   0.000000                 0.000000   \n",
       "25%                   0.000000                 0.000000   \n",
       "50%                   0.000000                 0.000000   \n",
       "75%                   0.000000                 0.000000   \n",
       "max               12888.030000             21024.810000   \n",
       "\n",
       "       imp_op_var40_comer_ult1  imp_op_var40_comer_ult3  \\\n",
       "count             76020.000000             76020.000000   \n",
       "mean                  3.559130                 6.472698   \n",
       "std                  93.155749               153.737066   \n",
       "min                   0.000000                 0.000000   \n",
       "25%                   0.000000                 0.000000   \n",
       "50%                   0.000000                 0.000000   \n",
       "75%                   0.000000                 0.000000   \n",
       "max                8237.820000             11073.570000   \n",
       "\n",
       "       imp_op_var40_efect_ult1  imp_op_var40_efect_ult3  ...  \\\n",
       "count             76020.000000             76020.000000  ...   \n",
       "mean                  0.412946                 0.567352  ...   \n",
       "std                  30.604864                36.513513  ...   \n",
       "min                   0.000000                 0.000000  ...   \n",
       "25%                   0.000000                 0.000000  ...   \n",
       "50%                   0.000000                 0.000000  ...   \n",
       "75%                   0.000000                 0.000000  ...   \n",
       "max                6600.000000              6600.000000  ...   \n",
       "\n",
       "       saldo_medio_var33_hace2  saldo_medio_var33_hace3  \\\n",
       "count             76020.000000             76020.000000   \n",
       "mean                  7.935824                 1.365146   \n",
       "std                 455.887218               113.959637   \n",
       "min                   0.000000                 0.000000   \n",
       "25%                   0.000000                 0.000000   \n",
       "50%                   0.000000                 0.000000   \n",
       "75%                   0.000000                 0.000000   \n",
       "max               50003.880000             20385.720000   \n",
       "\n",
       "       saldo_medio_var33_ult1  saldo_medio_var33_ult3  \\\n",
       "count            76020.000000            76020.000000   \n",
       "mean                12.215580                8.784074   \n",
       "std                783.207399              538.439211   \n",
       "min                  0.000000                0.000000   \n",
       "25%                  0.000000                0.000000   \n",
       "50%                  0.000000                0.000000   \n",
       "75%                  0.000000                0.000000   \n",
       "max             138831.630000            91778.730000   \n",
       "\n",
       "       saldo_medio_var44_hace2  saldo_medio_var44_hace3  \\\n",
       "count             76020.000000             76020.000000   \n",
       "mean                 31.505324                 1.858575   \n",
       "std                2013.125393               147.786584   \n",
       "min                   0.000000                 0.000000   \n",
       "25%                   0.000000                 0.000000   \n",
       "50%                   0.000000                 0.000000   \n",
       "75%                   0.000000                 0.000000   \n",
       "max              438329.220000             24650.010000   \n",
       "\n",
       "       saldo_medio_var44_ult1  saldo_medio_var44_ult3         var38  \\\n",
       "count            76020.000000            76020.000000  7.602000e+04   \n",
       "mean                76.026165               56.614351  1.172358e+05   \n",
       "std               4040.337842             2852.579397  1.826646e+05   \n",
       "min                  0.000000                0.000000  5.163750e+03   \n",
       "25%                  0.000000                0.000000  6.787061e+04   \n",
       "50%                  0.000000                0.000000  1.064092e+05   \n",
       "75%                  0.000000                0.000000  1.187563e+05   \n",
       "max             681462.900000           397884.300000  2.203474e+07   \n",
       "\n",
       "             TARGET  \n",
       "count  76020.000000  \n",
       "mean       0.039569  \n",
       "std        0.194945  \n",
       "min        0.000000  \n",
       "25%        0.000000  \n",
       "50%        0.000000  \n",
       "75%        0.000000  \n",
       "max        1.000000  \n",
       "\n",
       "[8 rows x 371 columns]"
      ]
     },
     "execution_count": 146,
     "metadata": {},
     "output_type": "execute_result"
    }
   ],
   "source": [
    "cust_df.describe()"
   ]
  },
  {
   "cell_type": "code",
   "execution_count": 147,
   "id": "564c5ae9",
   "metadata": {
    "ExecuteTime": {
     "end_time": "2022-03-09T10:12:12.645699Z",
     "start_time": "2022-03-09T10:12:12.598955Z"
    }
   },
   "outputs": [],
   "source": [
    "cust_df['var3'].replace(-999999, 2, inplace = True)\n",
    "cust_df1 = cust_df.drop('ID', axis = 1)"
   ]
  },
  {
   "cell_type": "code",
   "execution_count": 185,
   "id": "0d979f11",
   "metadata": {
    "ExecuteTime": {
     "end_time": "2022-03-09T11:46:22.433092Z",
     "start_time": "2022-03-09T11:46:22.165849Z"
    }
   },
   "outputs": [
    {
     "name": "stdout",
     "output_type": "stream",
     "text": [
      "0    0.960438\n",
      "1    0.039562\n",
      "Name: TARGET, dtype: float64\n",
      "0    0.960405\n",
      "1    0.039595\n",
      "Name: TARGET, dtype: float64\n"
     ]
    }
   ],
   "source": [
    "# 학습, 검증 세트 분리\n",
    "\n",
    "X = cust_df1.iloc[:, :-1]\n",
    "y = cust_df1['TARGET']\n",
    "\n",
    "X_train, X_test, y_train, y_test = train_test_split(X, y, test_size = 0.2, random_state = 0, stratify = y)\n",
    "\n",
    "print(y_train.value_counts(normalize = True))\n",
    "print(y_test.value_counts(normalize = True))"
   ]
  },
  {
   "cell_type": "code",
   "execution_count": 412,
   "id": "d32cc350",
   "metadata": {
    "ExecuteTime": {
     "end_time": "2022-03-09T13:29:22.102345Z",
     "start_time": "2022-03-09T13:29:19.857067Z"
    }
   },
   "outputs": [
    {
     "name": "stdout",
     "output_type": "stream",
     "text": [
      "정확도 : 0.96 \n",
      "정밀도 : 0.2 \n",
      "재현율 : 0.002, \n",
      "f1 score : 0.003, \n",
      "AUC : 0.828\n"
     ]
    }
   ],
   "source": [
    "# XGboost\n",
    "\n",
    "evals = [(X_test, y_test)]\n",
    "xgb_clf = XGBClassifier(n_estimators = 500, n_jobs = -1, tree_method ='gpu_hist', gpu_id=0, random_state = 156)\n",
    "xgb_clf.fit(X_train, y_train, early_stopping_rounds = 100, eval_metric = 'logloss', eval_set = evals, verbose = False)\n",
    "\n",
    "pred = xgb_clf.predict(X_test)\n",
    "pred_proba = xgb_clf.predict_proba(X_test)[:, 1]\n",
    "\n",
    "get_clf_eval(y_test, pred, pred_proba)"
   ]
  },
  {
   "cell_type": "code",
   "execution_count": 434,
   "id": "727c87ae",
   "metadata": {
    "ExecuteTime": {
     "end_time": "2022-03-09T13:39:29.350835Z",
     "start_time": "2022-03-09T13:39:07.332946Z"
    }
   },
   "outputs": [
    {
     "name": "stdout",
     "output_type": "stream",
     "text": [
      "최적 파라미터 : {'colsample_bytree': 0.75, 'max_depth': 7, 'min_child_weight': 3}\n",
      "정확도 : 0.96 \n",
      "정밀도 : 0.6 \n",
      "재현율 : 0.005, \n",
      "f1 score : 0.01, \n",
      "AUC : 0.825\n"
     ]
    }
   ],
   "source": [
    "# XGboost gridsearch\n",
    "\n",
    "xgb_clf1 = XGBClassifier(n_estimators = 100, random_state = 156, n_jobs = -1, tree_method ='gpu_hist', gpu_id=0)\n",
    "params = {'max_depth': [5, 7],\n",
    "          'min_child_weight': [1, 3],\n",
    "          'colsample_bytree': [0.5, 0.75]}\n",
    "gridcv = GridSearchCV(xgb_clf1, param_grid = params, cv = 3, n_jobs = -1)\n",
    "gridcv.fit(X_train, y_train, early_stopping_rounds = 30, eval_metric = 'logloss', eval_set = evals, verbose = False)\n",
    "# estimator = gridcv.best_estimator_\n",
    "# gridpred = estimator.predict(X_test)\n",
    "# gridpred_proba = estimator.predict_proba(X_test)[:, 1]\n",
    "gridpred = gridcv.predict(X_test)\n",
    "gridpred_proba = gridcv.predict_proba(X_test)[:, 1]\n",
    "\n",
    "print('최적 파라미터 :', gridcv.best_params_)\n",
    "get_clf_eval(y_test, gridpred, gridpred_proba)"
   ]
  },
  {
   "cell_type": "code",
   "execution_count": 442,
   "id": "22bb281f",
   "metadata": {
    "ExecuteTime": {
     "end_time": "2022-03-09T13:42:56.435939Z",
     "start_time": "2022-03-09T13:42:54.152239Z"
    }
   },
   "outputs": [
    {
     "name": "stdout",
     "output_type": "stream",
     "text": [
      "정확도 : 0.96 \n",
      "정밀도 : 0.6 \n",
      "재현율 : 0.005, \n",
      "f1 score : 0.01, \n",
      "AUC : 0.825\n"
     ]
    }
   ],
   "source": [
    "# XGboost 파라미터 수정\n",
    "\n",
    "evals = [(X_test, y_test)]\n",
    "xgb_clf = XGBClassifier(n_estimators = 1000, n_jobs = -1, tree_method ='gpu_hist', gpu_id=0, random_state = 156, colsample_bytree = 0.75, max_depth = 7, min_child_weight = 3)\n",
    "xgb_clf.fit(X_train, y_train, early_stopping_rounds = 100, eval_metric = 'logloss', eval_set = evals, verbose = False)\n",
    "\n",
    "pred = xgb_clf.predict(X_test)\n",
    "pred_proba = xgb_clf.predict_proba(X_test)[:, 1]\n",
    "\n",
    "get_clf_eval(y_test, pred, pred_proba)"
   ]
  },
  {
   "cell_type": "code",
   "execution_count": 444,
   "id": "dfcabfdf",
   "metadata": {
    "ExecuteTime": {
     "end_time": "2022-03-09T13:43:05.500772Z",
     "start_time": "2022-03-09T13:43:05.048361Z"
    },
    "scrolled": false
   },
   "outputs": [
    {
     "data": {
      "text/plain": [
       "<AxesSubplot:title={'center':'Feature importance'}, xlabel='F score', ylabel='Features'>"
      ]
     },
     "execution_count": 444,
     "metadata": {},
     "output_type": "execute_result"
    },
    {
     "data": {
      "image/png": "[encoded data removed]",
      "text/plain": [
       "<Figure size 1080x864 with 1 Axes>"
      ]
     },
     "metadata": {},
     "output_type": "display_data"
    },
    {
     "data": {
      "image/png": "[encoded data removed]",
      "text/plain": [
       "<Figure size 1080x864 with 1 Axes>"
      ]
     },
     "metadata": {},
     "output_type": "display_data"
    }
   ],
   "source": [
    "# xgboost 변수 중요도 시각화\n",
    "\n",
    "importances = pd.Series(xgb_clf.feature_importances_, index = X_train.columns)\n",
    "importances_top20 = importances.sort_values(ascending = False)[:20]\n",
    "\n",
    "plt.figure(figsize = (15, 12))\n",
    "plt.title('importance Top 20')\n",
    "sns.barplot(x = importances_top20, y = importances_top20.index)\n",
    "\n",
    "fig, ax = plt.subplots(1, 1, figsize = (15, 12))\n",
    "xgbplot(xgb_clf, ax = ax, max_num_features = 20, height = 0.4)"
   ]
  },
  {
   "cell_type": "code",
   "execution_count": 379,
   "id": "2e387840",
   "metadata": {
    "ExecuteTime": {
     "end_time": "2022-03-09T13:21:15.677846Z",
     "start_time": "2022-03-09T13:21:15.659830Z"
    }
   },
   "outputs": [
    {
     "data": {
      "text/plain": [
       "Index(['saldo_var30', 'var15', 'ind_var25_cte', 'num_var42_0',\n",
       "       'imp_aport_var13_hace3', 'ind_var30', 'num_var39_0', 'ind_var13',\n",
       "       'imp_op_var39_efect_ult1', 'ind_var9_ult1', 'num_var25_0',\n",
       "       'saldo_var25', 'imp_op_var41_efect_ult3', 'ind_var8_0', 'ind_var41_0',\n",
       "       'saldo_medio_var5_ult1', 'saldo_medio_var5_hace2',\n",
       "       'imp_op_var39_efect_ult3', 'saldo_var37', 'var38'],\n",
       "      dtype='object')"
      ]
     },
     "execution_count": 379,
     "metadata": {},
     "output_type": "execute_result"
    }
   ],
   "source": [
    "a = importances_top20.index"
   ]
  },
  {
   "cell_type": "code",
   "execution_count": 419,
   "id": "edfc23ce",
   "metadata": {
    "ExecuteTime": {
     "end_time": "2022-03-09T13:31:19.179145Z",
     "start_time": "2022-03-09T13:31:17.963047Z"
    }
   },
   "outputs": [
    {
     "name": "stdout",
     "output_type": "stream",
     "text": [
      "정확도 : 0.96 \n",
      "정밀도 : 0.2 \n",
      "재현율 : 0.002, \n",
      "f1 score : 0.003, \n",
      "AUC : 0.828\n"
     ]
    }
   ],
   "source": [
    "# LightGBM\n",
    "\n",
    "evals = [(X_test, y_test)]\n",
    "lgbm_clf = LGBMClassifier(n_estimators = 100, n_jobs = -1, random_state = 156)\n",
    "lgbm_clf.fit(X_train, y_train, early_stopping_rounds = 300, eval_metric = 'logloss', eval_set = evals, verbose = False)\n",
    "\n",
    "pred = xgb_clf.predict(X_test)\n",
    "pred_proba = xgb_clf.predict_proba(X_test)[:, 1]\n",
    "\n",
    "get_clf_eval(y_test, pred, pred_proba)"
   ]
  },
  {
   "cell_type": "code",
   "execution_count": 446,
   "id": "4570887c",
   "metadata": {
    "ExecuteTime": {
     "end_time": "2022-03-09T13:45:51.134253Z",
     "start_time": "2022-03-09T13:45:40.705130Z"
    }
   },
   "outputs": [
    {
     "name": "stdout",
     "output_type": "stream",
     "text": [
      "최적 파라미터 : {'max_depth': 128, 'min_child_samples': 100, 'num_leaves': 32}\n",
      "정확도 : 0.96 \n",
      "정밀도 : 1.0 \n",
      "재현율 : 0.002, \n",
      "f1 score : 0.003, \n",
      "AUC : 0.826\n"
     ]
    }
   ],
   "source": [
    "# LightGBM gridsearch\n",
    "\n",
    "lgbm_clf1 = LGBMClassifier(n_estimators = 100, n_jobs = -1, random_state = 156)\n",
    "params = {'num_leaves': [32, 64],\n",
    "          'max_depth': [128, 160],\n",
    "          'min_child_samples': [60, 100]}\n",
    "gridcv1 = GridSearchCV(lgbm_clf1, param_grid = params, cv = 3, n_jobs = -1)\n",
    "gridcv1.fit(X_train, y_train, early_stopping_rounds = 30, eval_metric = 'logloss', eval_set = evals, verbose = False)\n",
    "# estimator = gridcv.best_estimator_\n",
    "# gridpred = estimator.predict(X_test)\n",
    "# gridpred_proba = estimator.predict_proba(X_test)[:, 1]\n",
    "gridpred = gridcv.predict(X_test)\n",
    "gridpred_proba = gridcv.predict_proba(X_test)[:, 1]\n",
    "\n",
    "print('최적 파라미터 :', gridcv1.best_params_)\n",
    "get_clf_eval(y_test, gridpred, gridpred_proba)"
   ]
  },
  {
   "cell_type": "code",
   "execution_count": 428,
   "id": "3cdde597",
   "metadata": {
    "ExecuteTime": {
     "end_time": "2022-03-09T13:36:03.029928Z",
     "start_time": "2022-03-09T13:36:01.801812Z"
    }
   },
   "outputs": [
    {
     "name": "stdout",
     "output_type": "stream",
     "text": [
      "정확도 : 0.96 \n",
      "정밀도 : 0.2 \n",
      "재현율 : 0.002, \n",
      "f1 score : 0.003, \n",
      "AUC : 0.828\n"
     ]
    }
   ],
   "source": [
    "# LightGBM 파라미터 수정\n",
    "\n",
    "evals = [(X_test, y_test)]\n",
    "lgbm_clf = LGBMClassifier(n_estimators = 1000, n_jobs = -1, max_depth = 128, min_child_samples = 100, num_leaves = 32, random_state = 156)\n",
    "lgbm_clf.fit(X_train, y_train, early_stopping_rounds = 100, eval_metric = 'logloss', eval_set = evals, verbose = False)\n",
    "\n",
    "pred = xgb_clf.predict(X_test)\n",
    "pred_proba = xgb_clf.predict_proba(X_test)[:, 1]\n",
    "\n",
    "get_clf_eval(y_test, pred, pred_proba)"
   ]
  },
  {
   "cell_type": "code",
   "execution_count": 382,
   "id": "84187cb2",
   "metadata": {
    "ExecuteTime": {
     "end_time": "2022-03-09T13:21:30.593391Z",
     "start_time": "2022-03-09T13:21:30.136977Z"
    }
   },
   "outputs": [
    {
     "data": {
      "image/png": "[encoded data removed]",
      "text/plain": [
       "<Figure size 1080x864 with 1 Axes>"
      ]
     },
     "metadata": {},
     "output_type": "display_data"
    },
    {
     "data": {
      "image/png": "[encoded data removed]",
      "text/plain": [
       "<Figure size 1080x864 with 1 Axes>"
      ]
     },
     "metadata": {},
     "output_type": "display_data"
    }
   ],
   "source": [
    "# LightGBM 변수 중요도 시각화\n",
    "\n",
    "importances = pd.Series(lgbm_clf.feature_importances_, index = X_train.columns)\n",
    "importances_top20 = importances.sort_values(ascending = False)[:20]\n",
    "\n",
    "plt.figure(figsize = (15, 12))\n",
    "plt.title('importance Top 20')\n",
    "sns.barplot(x = importances_top20, y = importances_top20.index)\n",
    "\n",
    "fig, ax = plt.subplots(1, 1, figsize = (15, 12))\n",
    "lgbmplot(lgbm_clf, ax = ax, max_num_features = 20, height = 0.4)\n",
    "plt.show()"
   ]
  },
  {
   "cell_type": "markdown",
   "id": "5db4d01b",
   "metadata": {},
   "source": [
    "##### [과제] 캐글 신용카드 사기 검출\n",
    "---\n",
    "캐글 신용카드 거래내용이 포함된 데이터 셋을 아래 사이트에서 다운받아 다음 사항을 수행하세요.\n",
    "\n",
    "https://www.kaggle.com/mlg-ulb/creditcardfraud\n",
    "$$$$\n",
    "\n",
    "<데이터 설명>\n",
    "\n",
    "데이터 세트에는 유럽 카드 소지자가 2013년 9월에 신용 카드로 거래한 내용이 포함되어 있습니다. 이 데이터 세트는 284,807건의 거래 중 492건의 사기가 발생한 이틀 동안 발생한 거래를 보여줍니다. 데이터 세트는 매우 불균형하며 긍정적 클래스(사기)는 모든 거래의 0.172%를 차지합니다.\n",
    "\n",
    "여기에는 PCA 변환의 결과인 숫자 입력 변수만 포함됩니다. 안타깝게도 기밀 문제로 인해 데이터에 대한 원래 기능과 추가 배경 정보를 제공할 수 없습니다. 기능 V1, V2, … V28은 PCA로 얻은 주요 구성 요소이며 PCA로 변환되지 않은 유일한 기능은 '시간'과 '양'입니다. 기능 '시간'에는 각 트랜잭션과 데이터 세트의 첫 번째 트랜잭션 사이에 경과된 초가 포함됩니다. 'Amount' 기능은 거래 금액이며, 이 기능은 예제 종속 비용에 민감한 학습에 사용할 수 있습니다. 기능 'Class'는 응답 변수이며 사기의 경우 값 1, 그렇지 않은 경우 0을 취합니다.\n",
    "$$$$\n",
    "\n",
    "- 데이터 전처리 후 로지스틱 리그레션을 적용한 모델 학습 및 평가(정확도, 정밀도, 재현율, F1 score, AUC)\n",
    "- Amount 피처를 정규분포 및 로그 변환 후 모델 학습 및 평가\n",
    "- 상관성이 높은 피처 한개를 선택하여 이상치 데이터 제거 후 모델 학습 및 평가\n",
    "- SMOTE 오버 샘플링 적용 후 모델 학습 및 평가\n",
    "- SMOTE 적용 시 인사이트 요약"
   ]
  },
  {
   "cell_type": "code",
   "execution_count": 5,
   "id": "c2a9cd03",
   "metadata": {
    "ExecuteTime": {
     "end_time": "2022-03-09T23:56:56.990898Z",
     "start_time": "2022-03-09T23:56:53.228395Z"
    }
   },
   "outputs": [
    {
     "name": "stdout",
     "output_type": "stream",
     "text": [
      "Collecting imbalanced-learn\n",
      "  Downloading imbalanced_learn-0.9.0-py3-none-any.whl (199 kB)\n",
      "Requirement already satisfied: numpy>=1.14.6 in c:\\users\\spiner\\anaconda3\\envs\\cakd5\\lib\\site-packages (from imbalanced-learn) (1.21.2)\n",
      "Requirement already satisfied: joblib>=0.11 in c:\\users\\spiner\\anaconda3\\envs\\cakd5\\lib\\site-packages (from imbalanced-learn) (1.1.0)\n",
      "Requirement already satisfied: scikit-learn>=1.0.1 in c:\\users\\spiner\\anaconda3\\envs\\cakd5\\lib\\site-packages (from imbalanced-learn) (1.0.2)\n",
      "Requirement already satisfied: threadpoolctl>=2.0.0 in c:\\users\\spiner\\anaconda3\\envs\\cakd5\\lib\\site-packages (from imbalanced-learn) (3.0.0)\n",
      "Requirement already satisfied: scipy>=1.1.0 in c:\\users\\spiner\\anaconda3\\envs\\cakd5\\lib\\site-packages (from imbalanced-learn) (1.7.1)\n",
      "Installing collected packages: imbalanced-learn\n",
      "Successfully installed imbalanced-learn-0.9.0\n"
     ]
    }
   ],
   "source": [
    "!pip install imbalanced-learn"
   ]
  },
  {
   "cell_type": "code",
   "execution_count": 450,
   "id": "43394ad3",
   "metadata": {
    "ExecuteTime": {
     "end_time": "2022-03-09T14:24:04.145775Z",
     "start_time": "2022-03-09T14:24:03.020752Z"
    }
   },
   "outputs": [
    {
     "data": {
      "text/html": [
       "<div>\n",
       "<style scoped>\n",
       "    .dataframe tbody tr th:only-of-type {\n",
       "        vertical-align: middle;\n",
       "    }\n",
       "\n",
       "    .dataframe tbody tr th {\n",
       "        vertical-align: top;\n",
       "    }\n",
       "\n",
       "    .dataframe thead th {\n",
       "        text-align: right;\n",
       "    }\n",
       "</style>\n",
       "<table border=\"1\" class=\"dataframe\">\n",
       "  <thead>\n",
       "    <tr style=\"text-align: right;\">\n",
       "      <th></th>\n",
       "      <th>Time</th>\n",
       "      <th>V1</th>\n",
       "      <th>V2</th>\n",
       "      <th>V3</th>\n",
       "      <th>V4</th>\n",
       "      <th>V5</th>\n",
       "      <th>V6</th>\n",
       "      <th>V7</th>\n",
       "      <th>V8</th>\n",
       "      <th>V9</th>\n",
       "      <th>...</th>\n",
       "      <th>V21</th>\n",
       "      <th>V22</th>\n",
       "      <th>V23</th>\n",
       "      <th>V24</th>\n",
       "      <th>V25</th>\n",
       "      <th>V26</th>\n",
       "      <th>V27</th>\n",
       "      <th>V28</th>\n",
       "      <th>Amount</th>\n",
       "      <th>Class</th>\n",
       "    </tr>\n",
       "  </thead>\n",
       "  <tbody>\n",
       "    <tr>\n",
       "      <th>0</th>\n",
       "      <td>0.0</td>\n",
       "      <td>-1.359807</td>\n",
       "      <td>-0.072781</td>\n",
       "      <td>2.536347</td>\n",
       "      <td>1.378155</td>\n",
       "      <td>-0.338321</td>\n",
       "      <td>0.462388</td>\n",
       "      <td>0.239599</td>\n",
       "      <td>0.098698</td>\n",
       "      <td>0.363787</td>\n",
       "      <td>...</td>\n",
       "      <td>-0.018307</td>\n",
       "      <td>0.277838</td>\n",
       "      <td>-0.110474</td>\n",
       "      <td>0.066928</td>\n",
       "      <td>0.128539</td>\n",
       "      <td>-0.189115</td>\n",
       "      <td>0.133558</td>\n",
       "      <td>-0.021053</td>\n",
       "      <td>149.62</td>\n",
       "      <td>0</td>\n",
       "    </tr>\n",
       "    <tr>\n",
       "      <th>1</th>\n",
       "      <td>0.0</td>\n",
       "      <td>1.191857</td>\n",
       "      <td>0.266151</td>\n",
       "      <td>0.166480</td>\n",
       "      <td>0.448154</td>\n",
       "      <td>0.060018</td>\n",
       "      <td>-0.082361</td>\n",
       "      <td>-0.078803</td>\n",
       "      <td>0.085102</td>\n",
       "      <td>-0.255425</td>\n",
       "      <td>...</td>\n",
       "      <td>-0.225775</td>\n",
       "      <td>-0.638672</td>\n",
       "      <td>0.101288</td>\n",
       "      <td>-0.339846</td>\n",
       "      <td>0.167170</td>\n",
       "      <td>0.125895</td>\n",
       "      <td>-0.008983</td>\n",
       "      <td>0.014724</td>\n",
       "      <td>2.69</td>\n",
       "      <td>0</td>\n",
       "    </tr>\n",
       "    <tr>\n",
       "      <th>2</th>\n",
       "      <td>1.0</td>\n",
       "      <td>-1.358354</td>\n",
       "      <td>-1.340163</td>\n",
       "      <td>1.773209</td>\n",
       "      <td>0.379780</td>\n",
       "      <td>-0.503198</td>\n",
       "      <td>1.800499</td>\n",
       "      <td>0.791461</td>\n",
       "      <td>0.247676</td>\n",
       "      <td>-1.514654</td>\n",
       "      <td>...</td>\n",
       "      <td>0.247998</td>\n",
       "      <td>0.771679</td>\n",
       "      <td>0.909412</td>\n",
       "      <td>-0.689281</td>\n",
       "      <td>-0.327642</td>\n",
       "      <td>-0.139097</td>\n",
       "      <td>-0.055353</td>\n",
       "      <td>-0.059752</td>\n",
       "      <td>378.66</td>\n",
       "      <td>0</td>\n",
       "    </tr>\n",
       "    <tr>\n",
       "      <th>3</th>\n",
       "      <td>1.0</td>\n",
       "      <td>-0.966272</td>\n",
       "      <td>-0.185226</td>\n",
       "      <td>1.792993</td>\n",
       "      <td>-0.863291</td>\n",
       "      <td>-0.010309</td>\n",
       "      <td>1.247203</td>\n",
       "      <td>0.237609</td>\n",
       "      <td>0.377436</td>\n",
       "      <td>-1.387024</td>\n",
       "      <td>...</td>\n",
       "      <td>-0.108300</td>\n",
       "      <td>0.005274</td>\n",
       "      <td>-0.190321</td>\n",
       "      <td>-1.175575</td>\n",
       "      <td>0.647376</td>\n",
       "      <td>-0.221929</td>\n",
       "      <td>0.062723</td>\n",
       "      <td>0.061458</td>\n",
       "      <td>123.50</td>\n",
       "      <td>0</td>\n",
       "    </tr>\n",
       "    <tr>\n",
       "      <th>4</th>\n",
       "      <td>2.0</td>\n",
       "      <td>-1.158233</td>\n",
       "      <td>0.877737</td>\n",
       "      <td>1.548718</td>\n",
       "      <td>0.403034</td>\n",
       "      <td>-0.407193</td>\n",
       "      <td>0.095921</td>\n",
       "      <td>0.592941</td>\n",
       "      <td>-0.270533</td>\n",
       "      <td>0.817739</td>\n",
       "      <td>...</td>\n",
       "      <td>-0.009431</td>\n",
       "      <td>0.798278</td>\n",
       "      <td>-0.137458</td>\n",
       "      <td>0.141267</td>\n",
       "      <td>-0.206010</td>\n",
       "      <td>0.502292</td>\n",
       "      <td>0.219422</td>\n",
       "      <td>0.215153</td>\n",
       "      <td>69.99</td>\n",
       "      <td>0</td>\n",
       "    </tr>\n",
       "  </tbody>\n",
       "</table>\n",
       "<p>5 rows × 31 columns</p>\n",
       "</div>"
      ],
      "text/plain": [
       "   Time        V1        V2        V3        V4        V5        V6        V7  \\\n",
       "0   0.0 -1.359807 -0.072781  2.536347  1.378155 -0.338321  0.462388  0.239599   \n",
       "1   0.0  1.191857  0.266151  0.166480  0.448154  0.060018 -0.082361 -0.078803   \n",
       "2   1.0 -1.358354 -1.340163  1.773209  0.379780 -0.503198  1.800499  0.791461   \n",
       "3   1.0 -0.966272 -0.185226  1.792993 -0.863291 -0.010309  1.247203  0.237609   \n",
       "4   2.0 -1.158233  0.877737  1.548718  0.403034 -0.407193  0.095921  0.592941   \n",
       "\n",
       "         V8        V9  ...       V21       V22       V23       V24       V25  \\\n",
       "0  0.098698  0.363787  ... -0.018307  0.277838 -0.110474  0.066928  0.128539   \n",
       "1  0.085102 -0.255425  ... -0.225775 -0.638672  0.101288 -0.339846  0.167170   \n",
       "2  0.247676 -1.514654  ...  0.247998  0.771679  0.909412 -0.689281 -0.327642   \n",
       "3  0.377436 -1.387024  ... -0.108300  0.005274 -0.190321 -1.175575  0.647376   \n",
       "4 -0.270533  0.817739  ... -0.009431  0.798278 -0.137458  0.141267 -0.206010   \n",
       "\n",
       "        V26       V27       V28  Amount  Class  \n",
       "0 -0.189115  0.133558 -0.021053  149.62      0  \n",
       "1  0.125895 -0.008983  0.014724    2.69      0  \n",
       "2 -0.139097 -0.055353 -0.059752  378.66      0  \n",
       "3 -0.221929  0.062723  0.061458  123.50      0  \n",
       "4  0.502292  0.219422  0.215153   69.99      0  \n",
       "\n",
       "[5 rows x 31 columns]"
      ]
     },
     "metadata": {},
     "output_type": "display_data"
    },
    {
     "name": "stdout",
     "output_type": "stream",
     "text": [
      "<class 'pandas.core.frame.DataFrame'>\n",
      "RangeIndex: 284807 entries, 0 to 284806\n",
      "Data columns (total 31 columns):\n",
      " #   Column  Non-Null Count   Dtype  \n",
      "---  ------  --------------   -----  \n",
      " 0   Time    284807 non-null  float64\n",
      " 1   V1      284807 non-null  float64\n",
      " 2   V2      284807 non-null  float64\n",
      " 3   V3      284807 non-null  float64\n",
      " 4   V4      284807 non-null  float64\n",
      " 5   V5      284807 non-null  float64\n",
      " 6   V6      284807 non-null  float64\n",
      " 7   V7      284807 non-null  float64\n",
      " 8   V8      284807 non-null  float64\n",
      " 9   V9      284807 non-null  float64\n",
      " 10  V10     284807 non-null  float64\n",
      " 11  V11     284807 non-null  float64\n",
      " 12  V12     284807 non-null  float64\n",
      " 13  V13     284807 non-null  float64\n",
      " 14  V14     284807 non-null  float64\n",
      " 15  V15     284807 non-null  float64\n",
      " 16  V16     284807 non-null  float64\n",
      " 17  V17     284807 non-null  float64\n",
      " 18  V18     284807 non-null  float64\n",
      " 19  V19     284807 non-null  float64\n",
      " 20  V20     284807 non-null  float64\n",
      " 21  V21     284807 non-null  float64\n",
      " 22  V22     284807 non-null  float64\n",
      " 23  V23     284807 non-null  float64\n",
      " 24  V24     284807 non-null  float64\n",
      " 25  V25     284807 non-null  float64\n",
      " 26  V26     284807 non-null  float64\n",
      " 27  V27     284807 non-null  float64\n",
      " 28  V28     284807 non-null  float64\n",
      " 29  Amount  284807 non-null  float64\n",
      " 30  Class   284807 non-null  int64  \n",
      "dtypes: float64(30), int64(1)\n",
      "memory usage: 67.4 MB\n",
      "None\n"
     ]
    }
   ],
   "source": [
    "card_df = pd.read_csv('../data/creditcard.csv')\n",
    "display(card_df.head())\n",
    "print(card_df.info())"
   ]
  },
  {
   "cell_type": "code",
   "execution_count": 455,
   "id": "385daf81",
   "metadata": {
    "ExecuteTime": {
     "end_time": "2022-03-09T14:26:14.144282Z",
     "start_time": "2022-03-09T14:26:14.130269Z"
    }
   },
   "outputs": [
    {
     "data": {
      "text/plain": [
       "0    0.998273\n",
       "1    0.001727\n",
       "Name: Class, dtype: float64"
      ]
     },
     "execution_count": 455,
     "metadata": {},
     "output_type": "execute_result"
    }
   ],
   "source": [
    "card_df['Class'].value_counts(normalize = True)"
   ]
  },
  {
   "cell_type": "code",
   "execution_count": 545,
   "id": "4b4fb525",
   "metadata": {
    "ExecuteTime": {
     "end_time": "2022-03-09T15:28:10.045490Z",
     "start_time": "2022-03-09T15:28:10.025471Z"
    }
   },
   "outputs": [],
   "source": [
    "# 학습, 검증 세트\n",
    "def get_train_test(df):\n",
    "    df1 = df.copy()\n",
    "    df1.drop('Time', axis = 1, inplace = True)\n",
    "    X = df1.iloc[:, :-1]\n",
    "    y = df1.iloc[:, -1]\n",
    "    X_train, X_test, y_train, y_test = train_test_split(X, y, test_size = 0.3, random_state = 44, stratify = y)\n",
    "    return X_train, X_test, y_train, y_test\n",
    "\n",
    "# 예측/평가 수행\n",
    "def get_model_eval(model, X_train, X_test, y_train, y_test):\n",
    "    model.fit(X_train, y_train)\n",
    "    pred = model.predict(X_test)\n",
    "    pred_proba = model.predict_proba(X_test)[:, 1]\n",
    "    confusion = confusion_matrix(y_test, pred)\n",
    "    accuracy = accuracy_score(y_test, pred)\n",
    "    precision = precision_score(y_test, pred)\n",
    "    recall = recall_score(y_test, pred)\n",
    "    f1 = f1_score(y_test, pred)\n",
    "    auc = roc_auc_score(y_test, pred_proba)\n",
    "    print(f'오차행렬 : \\n{confusion} \\n\\n정확도 : {round(accuracy, 3)} \\n정밀도 : {round(precision, 3)} \\n재현율 : {round(recall, 3)}, \\nf1 score : {round(f1, 3)}, \\nAUC : {round(auc, 3)}')\n",
    "    \n",
    "# 피쳐 스케일링\n",
    "def get_scaled(method, df):\n",
    "    df1 = df.copy()\n",
    "    X = df1.iloc[:, :-1]\n",
    "    if method == 'Standard':\n",
    "        scaled = pd.DataFrame(StandardScaler().fit_transform(X), columns = X.columns)\n",
    "    elif method == 'Log':\n",
    "        scaled = np.log1p(X)\n",
    "    else:\n",
    "        scaled = X\n",
    "    scaled_df = pd.concat([scaled, df1.iloc[:, -1]], axis = 1)\n",
    "    return scaled_df"
   ]
  },
  {
   "cell_type": "code",
   "execution_count": 496,
   "id": "bb21663d",
   "metadata": {
    "ExecuteTime": {
     "end_time": "2022-03-09T14:43:53.847306Z",
     "start_time": "2022-03-09T14:43:53.670145Z"
    }
   },
   "outputs": [
    {
     "data": {
      "text/plain": [
       "(85443, 85443)"
      ]
     },
     "execution_count": 496,
     "metadata": {},
     "output_type": "execute_result"
    }
   ],
   "source": [
    "# 학습, 검증 세트 만들기\n",
    "\n",
    "X_train, X_test, y_train, y_test = get_train_test(card_df)\n",
    "y_train.value_counts(normalize = True), y_test.value_counts(normalize = True)"
   ]
  },
  {
   "cell_type": "code",
   "execution_count": 503,
   "id": "7d70b865",
   "metadata": {
    "ExecuteTime": {
     "end_time": "2022-03-09T14:46:25.657887Z",
     "start_time": "2022-03-09T14:46:11.694788Z"
    }
   },
   "outputs": [
    {
     "name": "stdout",
     "output_type": "stream",
     "text": [
      "오차행렬 : \n",
      "[[85273    22]\n",
      " [   57    91]] \n",
      "\n",
      "정확도 : 0.999 \n",
      "정밀도 : 0.805 \n",
      "재현율 : 0.615, \n",
      "f1 score : 0.697, \n",
      "AUC : 0.967\n"
     ]
    }
   ],
   "source": [
    "# 로지스틱 회귀 평가\n",
    "lr_clf = LogisticRegression(random_state = 44, n_jobs = -1)\n",
    "get_model_eval(lr_clf, X_train, X_test, y_train, y_test)\n",
    "print()\n",
    "\n",
    "# LightGBM 평가\n",
    "lgbm_clf = LGBMClassifier(n_estimators = 1000, num_leaves = 64, n_jobs = -1, boost_from_average = False) # 본 경우와 같이 극도로 불균형한 분포를 이루는 경우 boost_from_average를 False로 설정해줘야 한다.\n",
    "get_model_eval(lgbm_clf, X_train, X_test, y_train, y_test)"
   ]
  },
  {
   "cell_type": "code",
   "execution_count": 551,
   "id": "c6ec3768",
   "metadata": {
    "ExecuteTime": {
     "end_time": "2022-03-09T15:32:07.891851Z",
     "start_time": "2022-03-09T15:32:04.951171Z"
    },
    "scrolled": false
   },
   "outputs": [
    {
     "data": {
      "text/plain": [
       "<AxesSubplot:xlabel='Amount', ylabel='Density'>"
      ]
     },
     "execution_count": 551,
     "metadata": {},
     "output_type": "execute_result"
    },
    {
     "data": {
      "image/png": "[encoded data removed]",
      "text/plain": [
       "<Figure size 1080x288 with 1 Axes>"
      ]
     },
     "metadata": {},
     "output_type": "display_data"
    }
   ],
   "source": [
    "# amount 변환\n",
    "\n",
    "from sklearn.preprocessing import StandardScaler\n",
    "\n",
    "plt.figure(figsize = (15, 4))\n",
    "plt.xticks(range(0, 30000, 1000), rotation = 60)\n",
    "sns.distplot(card_df['Amount'])\n",
    "plt.show()"
   ]
  },
  {
   "cell_type": "code",
   "execution_count": 559,
   "id": "55efecf7",
   "metadata": {
    "ExecuteTime": {
     "end_time": "2022-03-09T15:42:10.001237Z",
     "start_time": "2022-03-09T15:41:56.025626Z"
    }
   },
   "outputs": [
    {
     "name": "stdout",
     "output_type": "stream",
     "text": [
      "LogisticRegression(n_jobs=-1, random_state=44)\n",
      "오차행렬 : \n",
      "[[85283    12]\n",
      " [   62    86]] \n",
      "\n",
      "정확도 : 0.999 \n",
      "정밀도 : 0.878 \n",
      "재현율 : 0.581, \n",
      "f1 score : 0.699, \n",
      "AUC : 0.974\n",
      "\n",
      "LGBMClassifier(boost_from_average=False, n_estimators=1000, num_leaves=64,\n",
      "               random_state=44)\n",
      "오차행렬 : \n",
      "[[85290     5]\n",
      " [   28   120]] \n",
      "\n",
      "정확도 : 1.0 \n",
      "정밀도 : 0.96 \n",
      "재현율 : 0.811, \n",
      "f1 score : 0.879, \n",
      "AUC : 0.976\n",
      "\n"
     ]
    }
   ],
   "source": [
    "# Amount 표준화 후 평가\n",
    "\n",
    "card_df1 = card_df.copy()\n",
    "card_df1['Amount'] = get_scaled('Standard', card_df1)['Amount']\n",
    "X_train, X_test, y_train, y_test = get_train_test(card_df1)\n",
    "\n",
    "lr_clf = LogisticRegression(random_state = 44, n_jobs = -1)\n",
    "lgbm_clf = LGBMClassifier(n_estimators = 1000, num_leaves = 64, n_jobs = -1, boost_from_average = False, random_state = 44) # 본 경우와 같이 극도로 불균형한 분포를 이루는 경우 boost_from_average를 False로 설정해줘야 한다.\n",
    "\n",
    "for i in [lr_clf, lgbm_clf]:\n",
    "    print(i)\n",
    "    get_model_eval(i, X_train, X_test, y_train, y_test)\n",
    "    print()\n",
    "    print('ㅡㅡㅡㅡㅡㅡㅡㅡㅡㅡㅡㅡㅡㅡㅡㅡㅡㅡㅡㅡㅡㅡㅡㅡㅡㅡㅡ')"
   ]
  },
  {
   "cell_type": "code",
   "execution_count": 560,
   "id": "5a527b46",
   "metadata": {
    "ExecuteTime": {
     "end_time": "2022-03-09T15:42:50.390322Z",
     "start_time": "2022-03-09T15:42:36.945543Z"
    }
   },
   "outputs": [
    {
     "name": "stdout",
     "output_type": "stream",
     "text": [
      "LogisticRegression(n_jobs=-1, random_state=44)\n",
      "오차행렬 : \n",
      "[[85283    12]\n",
      " [   62    86]] \n",
      "\n",
      "정확도 : 0.999 \n",
      "정밀도 : 0.878 \n",
      "재현율 : 0.581, \n",
      "f1 score : 0.699, \n",
      "AUC : 0.971\n",
      "\n",
      "ㅡㅡㅡㅡㅡㅡㅡㅡㅡㅡㅡㅡㅡㅡㅡㅡㅡㅡㅡㅡㅡㅡㅡㅡㅡㅡㅡ\n",
      "LGBMClassifier(boost_from_average=False, n_estimators=1000, num_leaves=64,\n",
      "               random_state=44)\n",
      "오차행렬 : \n",
      "[[85290     5]\n",
      " [   28   120]] \n",
      "\n",
      "정확도 : 1.0 \n",
      "정밀도 : 0.96 \n",
      "재현율 : 0.811, \n",
      "f1 score : 0.879, \n",
      "AUC : 0.976\n",
      "\n",
      "ㅡㅡㅡㅡㅡㅡㅡㅡㅡㅡㅡㅡㅡㅡㅡㅡㅡㅡㅡㅡㅡㅡㅡㅡㅡㅡㅡ\n"
     ]
    }
   ],
   "source": [
    "# Amount 로그변환 후 평가\n",
    "\n",
    "card_df1 = card_df.copy()\n",
    "card_df1['Amount'] = get_scaled('Log', card_df1)['Amount']\n",
    "X_train, X_test, y_train, y_test = get_train_test(card_df1)\n",
    "\n",
    "lr_clf = LogisticRegression(random_state = 44, n_jobs = -1)\n",
    "lgbm_clf = LGBMClassifier(n_estimators = 1000, num_leaves = 64, n_jobs = -1, boost_from_average = False, random_state = 44) # 본 경우와 같이 극도로 불균형한 분포를 이루는 경우 boost_from_average를 False로 설정해줘야 한다.\n",
    "\n",
    "for i in [lr_clf, lgbm_clf]:\n",
    "    print(i)\n",
    "    get_model_eval(i, X_train, X_test, y_train, y_test)\n",
    "    print()\n",
    "    print('ㅡㅡㅡㅡㅡㅡㅡㅡㅡㅡㅡㅡㅡㅡㅡㅡㅡㅡㅡㅡㅡㅡㅡㅡㅡㅡㅡ')"
   ]
  },
  {
   "cell_type": "code",
   "execution_count": 623,
   "id": "c10bf906",
   "metadata": {
    "ExecuteTime": {
     "end_time": "2022-03-09T16:19:49.781159Z",
     "start_time": "2022-03-09T16:19:48.971416Z"
    }
   },
   "outputs": [
    {
     "data": {
      "text/plain": [
       "V17      -0.326481\n",
       "V14      -0.302544\n",
       "V12      -0.260593\n",
       "V10      -0.216883\n",
       "V16      -0.196539\n",
       "V3       -0.192961\n",
       "V7       -0.187257\n",
       "V18      -0.111485\n",
       "V1       -0.101347\n",
       "V9       -0.097733\n",
       "V5       -0.094974\n",
       "V6       -0.043643\n",
       "Time     -0.012323\n",
       "V24      -0.007221\n",
       "V13      -0.004570\n",
       "V15      -0.004223\n",
       "V23      -0.002685\n",
       "V22       0.000805\n",
       "V25       0.003308\n",
       "V26       0.004455\n",
       "Amount    0.005632\n",
       "V28       0.009536\n",
       "V27       0.017580\n",
       "V8        0.019875\n",
       "V20       0.020090\n",
       "V19       0.034783\n",
       "V21       0.040413\n",
       "V2        0.091289\n",
       "V4        0.133447\n",
       "V11       0.154876\n",
       "Class     1.000000\n",
       "Name: Class, dtype: float64"
      ]
     },
     "execution_count": 623,
     "metadata": {},
     "output_type": "execute_result"
    },
    {
     "data": {
      "image/png": "[encoded data removed]",
      "text/plain": [
       "<Figure size 792x648 with 2 Axes>"
      ]
     },
     "metadata": {},
     "output_type": "display_data"
    }
   ],
   "source": [
    "# 이상치 확인\n",
    "\n",
    "plt.figure(figsize = (11, 9))\n",
    "corr = card_df.corr()\n",
    "sns.heatmap(corr)\n",
    "corr['Class'].sort_values()"
   ]
  },
  {
   "cell_type": "code",
   "execution_count": 640,
   "id": "c199df97",
   "metadata": {
    "ExecuteTime": {
     "end_time": "2022-03-09T16:36:13.235661Z",
     "start_time": "2022-03-09T16:36:13.169601Z"
    }
   },
   "outputs": [
    {
     "name": "stdout",
     "output_type": "stream",
     "text": [
      "284803 284807\n"
     ]
    }
   ],
   "source": [
    "# 이상치 제거\n",
    "\n",
    "card_df1 = card_df.copy()\n",
    "\n",
    "for i in ['V14', 'V17']:\n",
    "    fraud = card_df1[card_df1['Class'] == 1][i]\n",
    "    quantile_25 = np.percentile(fraud.values, 25)\n",
    "    quantile_75 = np.percentile(fraud.values, 75)\n",
    "\n",
    "    iqr = quantile_75 - quantile_25\n",
    "    lowest_val = quantile_25 - iqr * 1.5\n",
    "    highest_val = quantile_75 + iqr * 1.5\n",
    "\n",
    "    fraud_index = fraud[(fraud < lowest_val) | (fraud > highest_val)].index\n",
    "    card_df1.drop(fraud_index, axis = 0, inplace = True)\n",
    "print(len(card_df1), len(card_df))"
   ]
  },
  {
   "cell_type": "code",
   "execution_count": 641,
   "id": "ae191746",
   "metadata": {
    "ExecuteTime": {
     "end_time": "2022-03-09T16:36:32.566390Z",
     "start_time": "2022-03-09T16:36:18.182315Z"
    }
   },
   "outputs": [
    {
     "name": "stdout",
     "output_type": "stream",
     "text": [
      "LogisticRegression(n_jobs=-1, random_state=44)\n",
      "오차행렬 : \n",
      "[[85283    12]\n",
      " [   61    85]] \n",
      "\n",
      "정확도 : 0.999 \n",
      "정밀도 : 0.876 \n",
      "재현율 : 0.582, \n",
      "f1 score : 0.7, \n",
      "AUC : 0.976\n",
      "\n",
      "ㅡㅡㅡㅡㅡㅡㅡㅡㅡㅡㅡㅡㅡㅡㅡㅡㅡㅡㅡㅡㅡㅡㅡㅡㅡㅡㅡ\n",
      "LGBMClassifier(boost_from_average=False, n_estimators=1000, num_leaves=64,\n",
      "               random_state=44)\n",
      "오차행렬 : \n",
      "[[85288     7]\n",
      " [   34   112]] \n",
      "\n",
      "정확도 : 1.0 \n",
      "정밀도 : 0.941 \n",
      "재현율 : 0.767, \n",
      "f1 score : 0.845, \n",
      "AUC : 0.97\n",
      "\n",
      "ㅡㅡㅡㅡㅡㅡㅡㅡㅡㅡㅡㅡㅡㅡㅡㅡㅡㅡㅡㅡㅡㅡㅡㅡㅡㅡㅡ\n"
     ]
    }
   ],
   "source": [
    "# 이상치 제거 후 평가\n",
    "\n",
    "card_df1['Amount'] = get_scaled('Log', card_df1)['Amount']\n",
    "X_train, X_test, y_train, y_test = get_train_test(card_df1)\n",
    "\n",
    "lr_clf = LogisticRegression(random_state = 44, n_jobs = -1)\n",
    "lgbm_clf = LGBMClassifier(n_estimators = 1000, num_leaves = 64, n_jobs = -1, boost_from_average = False, random_state = 44) # 본 경우와 같이 극도로 불균형한 분포를 이루는 경우 boost_from_average를 False로 설정해줘야 한다.\n",
    "\n",
    "for i in [lr_clf, lgbm_clf]:\n",
    "    print(i)\n",
    "    get_model_eval(i, X_train, X_test, y_train, y_test)\n",
    "    print()\n",
    "    print('ㅡㅡㅡㅡㅡㅡㅡㅡㅡㅡㅡㅡㅡㅡㅡㅡㅡㅡㅡㅡㅡㅡㅡㅡㅡㅡㅡ')"
   ]
  },
  {
   "cell_type": "code",
   "execution_count": 643,
   "id": "5d0a7499",
   "metadata": {
    "ExecuteTime": {
     "end_time": "2022-03-09T16:40:46.768663Z",
     "start_time": "2022-03-09T16:40:17.634063Z"
    }
   },
   "outputs": [
    {
     "name": "stdout",
     "output_type": "stream",
     "text": [
      "199364 199364 398040 398040 \n",
      "\n",
      "LogisticRegression(n_jobs=-1, random_state=44)\n",
      "오차행렬 : \n",
      "[[83097  2198]\n",
      " [   13   135]] \n",
      "\n",
      "정확도 : 0.974 \n",
      "정밀도 : 0.058 \n",
      "재현율 : 0.912, \n",
      "f1 score : 0.109, \n",
      "AUC : 0.976\n",
      "\n",
      "ㅡㅡㅡㅡㅡㅡㅡㅡㅡㅡㅡㅡㅡㅡㅡㅡㅡㅡㅡㅡㅡㅡㅡㅡㅡㅡㅡ\n",
      "LGBMClassifier(boost_from_average=False, n_estimators=1000, num_leaves=64,\n",
      "               random_state=44)\n",
      "오차행렬 : \n",
      "[[85276    19]\n",
      " [   25   123]] \n",
      "\n",
      "정확도 : 0.999 \n",
      "정밀도 : 0.866 \n",
      "재현율 : 0.831, \n",
      "f1 score : 0.848, \n",
      "AUC : 0.968\n",
      "\n",
      "ㅡㅡㅡㅡㅡㅡㅡㅡㅡㅡㅡㅡㅡㅡㅡㅡㅡㅡㅡㅡㅡㅡㅡㅡㅡㅡㅡ\n"
     ]
    }
   ],
   "source": [
    "# 오버 샘플링 적용 후 평가\n",
    "\n",
    "from imblearn.over_sampling import SMOTE\n",
    "\n",
    "smote = SMOTE(random_state = 44)\n",
    "X_train, X_test, y_train, y_test = get_train_test(card_df)\n",
    "# card_df1['Amount'] = get_scaled('Log', card_df1)['Amount']\n",
    "# X_train, X_test, y_train, y_test = get_train_test(card_df1)\n",
    "X_train_over, y_train_over = smote.fit_resample(X_train, y_train)\n",
    "print(len(X_train), len(y_train), len(X_train_over), len(y_train_over), '\\n')\n",
    "\n",
    "lr_clf = LogisticRegression(random_state = 44, n_jobs = -1)\n",
    "lgbm_clf = LGBMClassifier(n_estimators = 1000, num_leaves = 64, n_jobs = -1, boost_from_average = False, random_state = 44) # 본 경우와 같이 극도로 불균형한 분포를 이루는 경우 boost_from_average를 False로 설정해줘야 한다.\n",
    "\n",
    "for i in [lr_clf, lgbm_clf]:\n",
    "    print(i)\n",
    "    get_model_eval(i, X_train_over, X_test, y_train_over, y_test)\n",
    "    print()\n",
    "    print('ㅡㅡㅡㅡㅡㅡㅡㅡㅡㅡㅡㅡㅡㅡㅡㅡㅡㅡㅡㅡㅡㅡㅡㅡㅡㅡㅡ')"
   ]
  },
  {
   "cell_type": "code",
   "execution_count": 647,
   "id": "57d714af",
   "metadata": {
    "ExecuteTime": {
     "end_time": "2022-03-09T16:45:27.086792Z",
     "start_time": "2022-03-09T16:45:26.898621Z"
    }
   },
   "outputs": [
    {
     "data": {
      "image/png": "[encoded data removed]",
      "text/plain": [
       "<Figure size 720x576 with 1 Axes>"
      ]
     },
     "metadata": {},
     "output_type": "display_data"
    }
   ],
   "source": [
    "# 로지스틱 회귀 정밀도, 재현율 확인\n",
    "\n",
    "from sklearn.metrics import precision_recall_curve\n",
    "\n",
    "def precision_recall_curve_plot(y_test, pred_proba):\n",
    "    precisions, recalls, thresholds = precision_recall_curve(y_test, pred_proba)\n",
    "    plt.figure(figsize =(10, 8))\n",
    "    threshold_boundary = thresholds.shape[0]\n",
    "    plt.plot(thresholds, precisions[0:threshold_boundary], 'k--', label = 'precision')\n",
    "    plt.plot(thresholds, recalls[0:threshold_boundary], label = 'recall')\n",
    "    start, end = plt.xlim()\n",
    "    plt.xticks(np.round(np.arange(start, end, 0.1), 2))\n",
    "    plt.xlabel('Threashold value'); plt.ylabel('Precision and Recall value')\n",
    "    plt.legend(fontsize = 15)\n",
    "    plt.show()\n",
    "    \n",
    "precision_recall_curve_plot(y_test, lr_clf.predict_proba(X_test)[:, 1])"
   ]
  }
 ],
 "metadata": {
  "hide_input": false,
  "kernelspec": {
   "display_name": "Python 3 (ipykernel)",
   "language": "python",
   "name": "python3"
  },
  "language_info": {
   "codemirror_mode": {
    "name": "ipython",
    "version": 3
   },
   "file_extension": ".py",
   "mimetype": "text/x-python",
   "name": "python",
   "nbconvert_exporter": "python",
   "pygments_lexer": "ipython3",
   "version": "3.8.12"
  },
  "toc": {
   "base_numbering": 1,
   "nav_menu": {},
   "number_sections": false,
   "sideBar": true,
   "skip_h1_title": false,
   "title_cell": "Table of Contents",
   "title_sidebar": "Contents",
   "toc_cell": false,
   "toc_position": {},
   "toc_section_display": true,
   "toc_window_display": false
  },
  "varInspector": {
   "cols": {
    "lenName": "16",
    "lenType": "16",
    "lenVar": 40
   },
   "kernels_config": {
    "python": {
     "delete_cmd_postfix": "",
     "delete_cmd_prefix": "del ",
     "library": "var_list.py",
     "varRefreshCmd": "print(var_dic_list())"
    },
    "r": {
     "delete_cmd_postfix": ") ",
     "delete_cmd_prefix": "rm(",
     "library": "var_list.r",
     "varRefreshCmd": "cat(var_dic_list()) "
    }
   },
   "types_to_exclude": [
    "module",
    "function",
    "builtin_function_or_method",
    "instance",
    "_Feature"
   ],
   "window_display": false
  }
 },
 "nbformat": 4,
 "nbformat_minor": 5
}
