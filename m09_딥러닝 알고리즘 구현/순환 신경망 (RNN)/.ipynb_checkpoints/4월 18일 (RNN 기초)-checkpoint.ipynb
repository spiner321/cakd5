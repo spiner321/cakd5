{
 "cells": [
  {
   "cell_type": "code",
   "execution_count": 30,
   "metadata": {
    "executionInfo": {
     "elapsed": 4,
     "status": "ok",
     "timestamp": 1650252189849,
     "user": {
      "displayName": "Gi Hyun Kim",
      "userId": "11256749016024023822"
     },
     "user_tz": -540
    },
    "id": "yIrm-c-EYFNK"
   },
   "outputs": [],
   "source": [
    "from tensorflow.keras.layers import SimpleRNN, Embedding, Dense, LSTM, GRU\n",
    "from tensorflow.keras.models import Sequential\n",
    "from tensorflow.keras.datasets import imdb\n",
    "from tensorflow.keras.preprocessing import sequence\n",
    "import matplotlib.pyplot as plt\n",
    "plt.style.use('seaborn')"
   ]
  },
  {
   "cell_type": "markdown",
   "metadata": {
    "id": "RQln34k4O_1H"
   },
   "source": [
    "# [4월 18일]\n",
    "---"
   ]
  },
  {
   "cell_type": "markdown",
   "metadata": {
    "id": "QiT2ILKdQOzZ"
   },
   "source": [
    "## # 순환 신경망 이해하기\n",
    "---\n",
    "- 참고 :  \n",
    "https://reniew.github.io/12/  \n",
    "https://jimmy-ai.tistory.com/104"
   ]
  },
  {
   "cell_type": "code",
   "execution_count": 1,
   "metadata": {
    "colab": {
     "base_uri": "https://localhost:8080/",
     "height": 1000,
     "output_embedded_package_id": "1Cd1Ld2aLg8sW0Ce5dE9uh1z6E32QW0Vd"
    },
    "executionInfo": {
     "elapsed": 1237,
     "status": "ok",
     "timestamp": 1650246831921,
     "user": {
      "displayName": "Gi Hyun Kim",
      "userId": "11256749016024023822"
     },
     "user_tz": -540
    },
    "id": "Ye95bfuAM13f",
    "outputId": "70568479-40d6-4931-b26e-501cd784bb55"
   },
   "outputs": [
    {
     "data": {
      "text/plain": [
       "Output hidden; open in https://colab.research.google.com to view."
      ]
     },
     "metadata": {},
     "output_type": "display_data"
    }
   ],
   "source": [
    "from IPython.display import Image\n",
    "\n",
    "for i in range(1, 10):\n",
    "    display(Image(f'/content/drive/MyDrive/workspace/cakd5/m9_딥러닝 알고리즘 구현/순환 신경망 (RNN)/rnn{i}.jpg'))"
   ]
  },
  {
   "cell_type": "markdown",
   "metadata": {
    "id": "pFkEjjxvWiNW"
   },
   "source": [
    "### # 케라스의 순환 층\n",
    "---"
   ]
  },
  {
   "cell_type": "code",
   "execution_count": 2,
   "metadata": {
    "colab": {
     "base_uri": "https://localhost:8080/"
    },
    "executionInfo": {
     "elapsed": 1160,
     "status": "ok",
     "timestamp": 1650246833078,
     "user": {
      "displayName": "Gi Hyun Kim",
      "userId": "11256749016024023822"
     },
     "user_tz": -540
    },
    "id": "4E8UUvCxQE24",
    "outputId": "9a3217e4-8260-4f84-f19b-455d0dee8236"
   },
   "outputs": [
    {
     "name": "stdout",
     "output_type": "stream",
     "text": [
      "Model: \"sequential\"\n",
      "_________________________________________________________________\n",
      " Layer (type)                Output Shape              Param #   \n",
      "=================================================================\n",
      " embedding (Embedding)       (None, None, 32)          320000    \n",
      "                                                                 \n",
      " simple_rnn (SimpleRNN)      (None, 32)                2080      \n",
      "                                                                 \n",
      "=================================================================\n",
      "Total params: 322,080\n",
      "Trainable params: 322,080\n",
      "Non-trainable params: 0\n",
      "_________________________________________________________________\n"
     ]
    }
   ],
   "source": [
    "# 마지막 타임스텝의 출력만 얻는 예제\n",
    "\n",
    "from tensorflow.keras.layers import SimpleRNN, Embedding\n",
    "from tensorflow.keras.models import Sequential\n",
    "\n",
    "model = Sequential()\n",
    "model.add(Embedding(10000, 32))\n",
    "model.add(SimpleRNN(32))\n",
    "model.summary()"
   ]
  },
  {
   "cell_type": "code",
   "execution_count": 3,
   "metadata": {
    "colab": {
     "base_uri": "https://localhost:8080/"
    },
    "executionInfo": {
     "elapsed": 9,
     "status": "ok",
     "timestamp": 1650246833080,
     "user": {
      "displayName": "Gi Hyun Kim",
      "userId": "11256749016024023822"
     },
     "user_tz": -540
    },
    "id": "8c62GclGXW0U",
    "outputId": "b9b50bea-97df-423d-a094-98f9ab10fd33"
   },
   "outputs": [
    {
     "name": "stdout",
     "output_type": "stream",
     "text": [
      "Model: \"sequential_1\"\n",
      "_________________________________________________________________\n",
      " Layer (type)                Output Shape              Param #   \n",
      "=================================================================\n",
      " embedding_1 (Embedding)     (None, None, 32)          320000    \n",
      "                                                                 \n",
      " simple_rnn_1 (SimpleRNN)    (None, None, 32)          2080      \n",
      "                                                                 \n",
      "=================================================================\n",
      "Total params: 322,080\n",
      "Trainable params: 322,080\n",
      "Non-trainable params: 0\n",
      "_________________________________________________________________\n"
     ]
    }
   ],
   "source": [
    "# 전체 상태 시퀀스를 반환\n",
    "\n",
    "from tensorflow.keras.layers import SimpleRNN, Embedding\n",
    "from tensorflow.keras.models import Sequential\n",
    "\n",
    "model = Sequential()\n",
    "model.add(Embedding(10000, 32))\n",
    "model.add(SimpleRNN(32, return_sequences = True))\n",
    "model.summary()"
   ]
  },
  {
   "cell_type": "code",
   "execution_count": 4,
   "metadata": {
    "colab": {
     "base_uri": "https://localhost:8080/"
    },
    "executionInfo": {
     "elapsed": 712,
     "status": "ok",
     "timestamp": 1650247737933,
     "user": {
      "displayName": "Gi Hyun Kim",
      "userId": "11256749016024023822"
     },
     "user_tz": -540
    },
    "id": "3pIh2NlxbaVm",
    "outputId": "03e78931-d9e0-463e-cf5d-000724794efc"
   },
   "outputs": [
    {
     "name": "stdout",
     "output_type": "stream",
     "text": [
      "Model: \"sequential_2\"\n",
      "_________________________________________________________________\n",
      " Layer (type)                Output Shape              Param #   \n",
      "=================================================================\n",
      " embedding_2 (Embedding)     (None, None, 32)          320000    \n",
      "                                                                 \n",
      " simple_rnn_2 (SimpleRNN)    (None, None, 32)          2080      \n",
      "                                                                 \n",
      " simple_rnn_3 (SimpleRNN)    (None, None, 32)          2080      \n",
      "                                                                 \n",
      " simple_rnn_4 (SimpleRNN)    (None, None, 32)          2080      \n",
      "                                                                 \n",
      " simple_rnn_5 (SimpleRNN)    (None, None, 32)          2080      \n",
      "                                                                 \n",
      " simple_rnn_6 (SimpleRNN)    (None, 32)                2080      \n",
      "                                                                 \n",
      "=================================================================\n",
      "Total params: 330,400\n",
      "Trainable params: 330,400\n",
      "Non-trainable params: 0\n",
      "_________________________________________________________________\n"
     ]
    }
   ],
   "source": [
    "# 네트워크의 표현력을 증가시키기 위해 여러 개의 순환 층을 차례대로 쌓는다.\n",
    "\n",
    "model = Sequential()\n",
    "model.add(Embedding(10000,32))\n",
    "model.add(SimpleRNN(32,return_sequences=True))\n",
    "model.add(SimpleRNN(32,return_sequences=True))\n",
    "model.add(SimpleRNN(32,return_sequences=True))\n",
    "model.add(SimpleRNN(32,return_sequences=True))\n",
    "model.add(SimpleRNN(32))\n",
    "model.summary()"
   ]
  },
  {
   "cell_type": "markdown",
   "metadata": {
    "id": "dVk-zqVBbih8"
   },
   "source": [
    "### # IMDB 데이터\n",
    "---"
   ]
  },
  {
   "cell_type": "markdown",
   "metadata": {
    "id": "I6tbMOztdxgI"
   },
   "source": [
    "#### # 데이터 전처리\n",
    "---"
   ]
  },
  {
   "cell_type": "code",
   "execution_count": 8,
   "metadata": {
    "colab": {
     "base_uri": "https://localhost:8080/"
    },
    "executionInfo": {
     "elapsed": 4945,
     "status": "ok",
     "timestamp": 1650248306749,
     "user": {
      "displayName": "Gi Hyun Kim",
      "userId": "11256749016024023822"
     },
     "user_tz": -540
    },
    "id": "ESf_nGBgbsD3",
    "outputId": "1398b8b7-05a4-4174-a8e5-94d05b2f456a"
   },
   "outputs": [
    {
     "name": "stdout",
     "output_type": "stream",
     "text": [
      "25000 훈련 시퀀스\n",
      "25000 테스트 시퀀스\n",
      "input_train 크기: (25000, 500)\n",
      "input_test 크기: (25000, 500)\n"
     ]
    }
   ],
   "source": [
    "from tensorflow.keras.datasets import imdb\n",
    "from tensorflow.keras.preprocessing import sequence\n",
    "\n",
    "max_features = 10000 # 특성으로 사용할 단어의 수\n",
    "max_len = 500 # 사용할 텍스트의 길이\n",
    "batch_size = 32\n",
    "\n",
    "(input_train, y_train), (input_test, y_test) = imdb.load_data(num_words = max_features)\n",
    "print(len(input_train), '훈련 시퀀스')\n",
    "print(len(input_test), '테스트 시퀀스')\n",
    "\n",
    "input_train = sequence.pad_sequences(input_train, maxlen = max_len)\n",
    "input_test = sequence.pad_sequences(input_test, maxlen = max_len)\n",
    "\n",
    "print('input_train 크기:', input_train.shape)\n",
    "print('input_test 크기:', input_test.shape)"
   ]
  },
  {
   "cell_type": "markdown",
   "metadata": {
    "id": "yPuNqpIbdsUW"
   },
   "source": [
    "#### # 모델 구성\n",
    "---"
   ]
  },
  {
   "cell_type": "code",
   "execution_count": 13,
   "metadata": {
    "colab": {
     "base_uri": "https://localhost:8080/"
    },
    "executionInfo": {
     "elapsed": 522437,
     "status": "ok",
     "timestamp": 1650249140978,
     "user": {
      "displayName": "Gi Hyun Kim",
      "userId": "11256749016024023822"
     },
     "user_tz": -540
    },
    "id": "FHFDd6C4d22L",
    "outputId": "9d12a85c-e9eb-40aa-97f8-169ad1cc6d9e"
   },
   "outputs": [
    {
     "name": "stdout",
     "output_type": "stream",
     "text": [
      "Epoch 1/10\n",
      "157/157 [==============================] - 55s 330ms/step - loss: 0.6037 - acc: 0.6568 - val_loss: 0.4473 - val_acc: 0.8120\n",
      "Epoch 2/10\n",
      "157/157 [==============================] - 55s 350ms/step - loss: 0.3889 - acc: 0.8392 - val_loss: 0.3970 - val_acc: 0.8276\n",
      "Epoch 3/10\n",
      "157/157 [==============================] - 52s 333ms/step - loss: 0.2976 - acc: 0.8827 - val_loss: 0.3546 - val_acc: 0.8508\n",
      "Epoch 4/10\n",
      "157/157 [==============================] - 51s 327ms/step - loss: 0.2321 - acc: 0.9132 - val_loss: 0.3397 - val_acc: 0.8716\n",
      "Epoch 5/10\n",
      "157/157 [==============================] - 52s 330ms/step - loss: 0.1725 - acc: 0.9377 - val_loss: 0.3831 - val_acc: 0.8458\n",
      "Epoch 6/10\n",
      "157/157 [==============================] - 51s 325ms/step - loss: 0.1313 - acc: 0.9535 - val_loss: 0.3855 - val_acc: 0.8618\n",
      "Epoch 7/10\n",
      "157/157 [==============================] - 52s 333ms/step - loss: 0.0795 - acc: 0.9732 - val_loss: 0.5509 - val_acc: 0.8474\n",
      "Epoch 8/10\n",
      "157/157 [==============================] - 51s 324ms/step - loss: 0.0505 - acc: 0.9847 - val_loss: 0.7097 - val_acc: 0.7486\n",
      "Epoch 9/10\n",
      "157/157 [==============================] - 51s 326ms/step - loss: 0.0337 - acc: 0.9903 - val_loss: 0.6570 - val_acc: 0.7872\n",
      "Epoch 10/10\n",
      "157/157 [==============================] - 51s 326ms/step - loss: 0.0188 - acc: 0.9950 - val_loss: 0.7637 - val_acc: 0.7674\n"
     ]
    }
   ],
   "source": [
    "# 훈련 및 학습\n",
    "\n",
    "from tensorflow.keras.layers import Dense\n",
    "\n",
    "model = Sequential()\n",
    "model.add(Embedding(max_features, 32))\n",
    "model.add(SimpleRNN(32))\n",
    "model.add(Dense(1, activation = 'sigmoid'))\n",
    "\n",
    "model.compile(optimizer = 'rmsprop',\n",
    "              loss = 'binary_crossentropy',\n",
    "              metrics = ['acc'])\n",
    "\n",
    "history = model.fit(input_train, y_train,\n",
    "                    epochs = 10,\n",
    "                    batch_size = 128,\n",
    "                    validation_split = 0.2)"
   ]
  },
  {
   "cell_type": "code",
   "execution_count": 16,
   "metadata": {
    "colab": {
     "base_uri": "https://localhost:8080/"
    },
    "executionInfo": {
     "elapsed": 14,
     "status": "ok",
     "timestamp": 1650249169088,
     "user": {
      "displayName": "Gi Hyun Kim",
      "userId": "11256749016024023822"
     },
     "user_tz": -540
    },
    "id": "GoYK8meCf2zr",
    "outputId": "9c15cc95-1a14-4c2e-d34d-16d4b931d49c"
   },
   "outputs": [
    {
     "name": "stdout",
     "output_type": "stream",
     "text": [
      "Model: \"sequential_4\"\n",
      "_________________________________________________________________\n",
      " Layer (type)                Output Shape              Param #   \n",
      "=================================================================\n",
      " embedding_4 (Embedding)     (None, None, 32)          320000    \n",
      "                                                                 \n",
      " simple_rnn_8 (SimpleRNN)    (None, 32)                2080      \n",
      "                                                                 \n",
      " dense (Dense)               (None, 1)                 33        \n",
      "                                                                 \n",
      "=================================================================\n",
      "Total params: 322,113\n",
      "Trainable params: 322,113\n",
      "Non-trainable params: 0\n",
      "_________________________________________________________________\n"
     ]
    }
   ],
   "source": [
    "model.summary()"
   ]
  },
  {
   "cell_type": "code",
   "execution_count": 15,
   "metadata": {
    "colab": {
     "base_uri": "https://localhost:8080/",
     "height": 461
    },
    "executionInfo": {
     "elapsed": 27181,
     "status": "ok",
     "timestamp": 1650249169087,
     "user": {
      "displayName": "Gi Hyun Kim",
      "userId": "11256749016024023822"
     },
     "user_tz": -540
    },
    "id": "vpDC1V1SejVJ",
    "outputId": "c2a5a5e2-47ef-445e-b357-dc06bbe6cc29"
   },
   "outputs": [
    {
     "name": "stdout",
     "output_type": "stream",
     "text": [
      "782/782 [==============================] - 26s 34ms/step - loss: 0.7494 - acc: 0.7642\n"
     ]
    },
    {
     "data": {
      "image/png": "[encoded data removed]",
      "text/plain": [
       "<Figure size 1656x504 with 2 Axes>"
      ]
     },
     "metadata": {},
     "output_type": "display_data"
    }
   ],
   "source": [
    "# 검증 시각화\n",
    "\n",
    "model.evaluate(input_test, y_test)\n",
    "\n",
    "acc = history.history['acc']\n",
    "val_acc = history.history['val_acc']\n",
    "loss = history.history['loss']\n",
    "val_loss = history.history['val_loss']\n",
    "\n",
    "epochs = range(1, len(acc) + 1)\n",
    "\n",
    "fig = plt.figure(figsize = (23, 7))\n",
    "\n",
    "fig.add_subplot(1, 2, 1)\n",
    "plt.plot(epochs, loss, 'bo', label='Training loss')\n",
    "plt.plot(epochs, val_loss, 'b', label='Validation loss')\n",
    "plt.title('Training and validation loss')\n",
    "plt.legend(fontsize = 13)\n",
    "\n",
    "fig.add_subplot(1, 2, 2)\n",
    "plt.plot(epochs, acc, 'bo', label='Training acc')\n",
    "plt.plot(epochs, val_acc, 'b', label='Validation acc')\n",
    "plt.title('Training and validation accuracy')\n",
    "plt.legend(fontsize = 13)\n",
    "\n",
    "plt.show()"
   ]
  },
  {
   "cell_type": "markdown",
   "metadata": {
    "id": "wQu1xMStgOTz"
   },
   "source": [
    "## # LSTM, GRU\n",
    "---\n",
    "- LSTM구조의 의사코드 1\n",
    " - output_t = activation(c_t) * activation(dot(input_t, Wo) + dot(state_t, Uo) + (bo)  \n",
    " i_t = activation(dot(state_t, Ui) + dot(input_t, Wi) + bi)  \n",
    " f_t = activation(dot(state_u, Uf) + dot(input_t, Wf) + bf)  \n",
    " k_t = activation(dot(state_t, Uk) + dot(input_t, Wk) + bK)\n",
    "$$$$\n",
    "\n",
    " - output_t에 적용되는 활성화 함수는 순서대로 tanh와 sigmoid\n",
    " - i_t, f_t에는 sigmoid함수가 적용되고 k_t에는 tanh함수가 적용\n",
    "$$$$\n",
    "\n",
    "- LSTM구조의 의사코드 2\n",
    " - C_t + i = i_t * k_t + c_t * f_t"
   ]
  },
  {
   "cell_type": "markdown",
   "metadata": {
    "id": "_Eyrc_qRonj1"
   },
   "source": [
    "### # 케라스의 LSTM\n",
    "---"
   ]
  },
  {
   "cell_type": "code",
   "execution_count": 29,
   "metadata": {
    "colab": {
     "base_uri": "https://localhost:8080/"
    },
    "executionInfo": {
     "elapsed": 41550,
     "status": "ok",
     "timestamp": 1650252179425,
     "user": {
      "displayName": "Gi Hyun Kim",
      "userId": "11256749016024023822"
     },
     "user_tz": -540
    },
    "id": "AcMncr6qpIil",
    "outputId": "79d082bf-2fef-4b72-ff37-6de1e0845161"
   },
   "outputs": [
    {
     "name": "stdout",
     "output_type": "stream",
     "text": [
      "Epoch 1/10\n",
      "157/157 [==============================] - 7s 26ms/step - loss: 0.5124 - acc: 0.7637 - val_loss: 0.3698 - val_acc: 0.8588\n",
      "Epoch 2/10\n",
      "157/157 [==============================] - 4s 24ms/step - loss: 0.2911 - acc: 0.8866 - val_loss: 0.2852 - val_acc: 0.8802\n",
      "Epoch 3/10\n",
      "157/157 [==============================] - 4s 24ms/step - loss: 0.2308 - acc: 0.9112 - val_loss: 0.3456 - val_acc: 0.8746\n",
      "Epoch 4/10\n",
      "157/157 [==============================] - 4s 24ms/step - loss: 0.2020 - acc: 0.9266 - val_loss: 0.2874 - val_acc: 0.8766\n",
      "Epoch 5/10\n",
      "157/157 [==============================] - 4s 24ms/step - loss: 0.1774 - acc: 0.9362 - val_loss: 0.3115 - val_acc: 0.8868\n",
      "Epoch 6/10\n",
      "157/157 [==============================] - 4s 24ms/step - loss: 0.1580 - acc: 0.9444 - val_loss: 0.3300 - val_acc: 0.8894\n",
      "Epoch 7/10\n",
      "157/157 [==============================] - 4s 24ms/step - loss: 0.1466 - acc: 0.9482 - val_loss: 0.2923 - val_acc: 0.8854\n",
      "Epoch 8/10\n",
      "157/157 [==============================] - 4s 24ms/step - loss: 0.1312 - acc: 0.9538 - val_loss: 0.4173 - val_acc: 0.8762\n",
      "Epoch 9/10\n",
      "157/157 [==============================] - 4s 24ms/step - loss: 0.1237 - acc: 0.9554 - val_loss: 0.3564 - val_acc: 0.8866\n",
      "Epoch 10/10\n",
      "157/157 [==============================] - 4s 24ms/step - loss: 0.1107 - acc: 0.9618 - val_loss: 0.3878 - val_acc: 0.8846\n"
     ]
    }
   ],
   "source": [
    "from tensorflow.keras.layers import LSTM\n",
    "\n",
    "model = Sequential()\n",
    "model.add(Embedding(max_features, 32))\n",
    "model.add(LSTM(32))\n",
    "model.add(Dense(1, activation = 'sigmoid'))\n",
    "\n",
    "model.compile(optimizer = 'rmsprop',\n",
    "              loss = 'binary_crossentropy',\n",
    "              metrics = ['acc'])\n",
    "\n",
    "history = model.fit(input_train, y_train,\n",
    "                    epochs = 10,\n",
    "                    batch_size = 128,\n",
    "                    validation_split = 0.2)"
   ]
  },
  {
   "cell_type": "code",
   "execution_count": 31,
   "metadata": {
    "colab": {
     "base_uri": "https://localhost:8080/",
     "height": 461
    },
    "executionInfo": {
     "elapsed": 7550,
     "status": "ok",
     "timestamp": 1650252209400,
     "user": {
      "displayName": "Gi Hyun Kim",
      "userId": "11256749016024023822"
     },
     "user_tz": -540
    },
    "id": "8zR_h7NhrRuT",
    "outputId": "77b89ce6-b53e-4d0a-fac1-8479fd285f78"
   },
   "outputs": [
    {
     "name": "stdout",
     "output_type": "stream",
     "text": [
      "782/782 [==============================] - 7s 8ms/step - loss: 0.4585 - acc: 0.8634\n"
     ]
    },
    {
     "data": {
      "image/png": "[encoded data removed]",
      "text/plain": [
       "<Figure size 1656x504 with 2 Axes>"
      ]
     },
     "metadata": {},
     "output_type": "display_data"
    }
   ],
   "source": [
    "# 검증 시각화\n",
    "\n",
    "model.evaluate(input_test, y_test)\n",
    "\n",
    "acc = history.history['acc']\n",
    "val_acc = history.history['val_acc']\n",
    "loss = history.history['loss']\n",
    "val_loss = history.history['val_loss']\n",
    "\n",
    "epochs = range(1, len(acc) + 1)\n",
    "\n",
    "fig = plt.figure(figsize = (23, 7))\n",
    "\n",
    "fig.add_subplot(1, 2, 1)\n",
    "plt.plot(epochs, loss, 'bo', label='Training loss')\n",
    "plt.plot(epochs, val_loss, 'b', label='Validation loss')\n",
    "plt.title('Training and validation loss')\n",
    "plt.legend(fontsize = 13)\n",
    "\n",
    "fig.add_subplot(1, 2, 2)\n",
    "plt.plot(epochs, acc, 'bo', label='Training acc')\n",
    "plt.plot(epochs, val_acc, 'b', label='Validation acc')\n",
    "plt.title('Training and validation accuracy')\n",
    "plt.legend(fontsize = 13)\n",
    "\n",
    "plt.show()"
   ]
  },
  {
   "cell_type": "markdown",
   "metadata": {
    "id": "9M6BluYhsYTa"
   },
   "source": [
    "### # 케라스의 GRU\n",
    "---"
   ]
  },
  {
   "cell_type": "code",
   "execution_count": 32,
   "metadata": {
    "colab": {
     "base_uri": "https://localhost:8080/"
    },
    "executionInfo": {
     "elapsed": 39339,
     "status": "ok",
     "timestamp": 1650252255327,
     "user": {
      "displayName": "Gi Hyun Kim",
      "userId": "11256749016024023822"
     },
     "user_tz": -540
    },
    "id": "2NcLlXQtsas9",
    "outputId": "67142a7e-52d0-4495-c0fc-464a43b94a2f"
   },
   "outputs": [
    {
     "name": "stdout",
     "output_type": "stream",
     "text": [
      "Epoch 1/10\n",
      "157/157 [==============================] - 6s 26ms/step - loss: 0.5642 - acc: 0.7058 - val_loss: 1.5233 - val_acc: 0.6620\n",
      "Epoch 2/10\n",
      "157/157 [==============================] - 4s 23ms/step - loss: 0.3489 - acc: 0.8568 - val_loss: 0.3335 - val_acc: 0.8600\n",
      "Epoch 3/10\n",
      "157/157 [==============================] - 4s 23ms/step - loss: 0.2706 - acc: 0.8917 - val_loss: 0.3078 - val_acc: 0.8746\n",
      "Epoch 4/10\n",
      "157/157 [==============================] - 4s 24ms/step - loss: 0.2255 - acc: 0.9121 - val_loss: 0.3343 - val_acc: 0.8688\n",
      "Epoch 5/10\n",
      "157/157 [==============================] - 4s 24ms/step - loss: 0.2031 - acc: 0.9244 - val_loss: 0.3114 - val_acc: 0.8816\n",
      "Epoch 6/10\n",
      "157/157 [==============================] - 4s 23ms/step - loss: 0.1734 - acc: 0.9384 - val_loss: 0.3770 - val_acc: 0.8638\n",
      "Epoch 7/10\n",
      "157/157 [==============================] - 4s 24ms/step - loss: 0.1597 - acc: 0.9418 - val_loss: 0.3291 - val_acc: 0.8632\n",
      "Epoch 8/10\n",
      "157/157 [==============================] - 4s 24ms/step - loss: 0.1445 - acc: 0.9478 - val_loss: 0.3466 - val_acc: 0.8822\n",
      "Epoch 9/10\n",
      "157/157 [==============================] - 4s 23ms/step - loss: 0.1344 - acc: 0.9516 - val_loss: 0.3422 - val_acc: 0.8848\n",
      "Epoch 10/10\n",
      "157/157 [==============================] - 4s 24ms/step - loss: 0.1230 - acc: 0.9564 - val_loss: 0.3376 - val_acc: 0.8802\n"
     ]
    }
   ],
   "source": [
    "from tensorflow.keras.layers import GRU\n",
    "\n",
    "model = Sequential()\n",
    "model.add(Embedding(max_features, 32))\n",
    "model.add(GRU(32))\n",
    "model.add(Dense(1, activation = 'sigmoid'))\n",
    "\n",
    "model.compile(optimizer = 'rmsprop',\n",
    "              loss = 'binary_crossentropy',\n",
    "              metrics = ['acc'])\n",
    "\n",
    "history = model.fit(input_train, y_train,\n",
    "                    epochs = 10,\n",
    "                    batch_size = 128,\n",
    "                    validation_split = 0.2)"
   ]
  },
  {
   "cell_type": "code",
   "execution_count": 33,
   "metadata": {
    "colab": {
     "base_uri": "https://localhost:8080/",
     "height": 461
    },
    "executionInfo": {
     "elapsed": 7009,
     "status": "ok",
     "timestamp": 1650252262320,
     "user": {
      "displayName": "Gi Hyun Kim",
      "userId": "11256749016024023822"
     },
     "user_tz": -540
    },
    "id": "sI5SS1ibsiq4",
    "outputId": "85dd4490-fbdd-47e0-cdb1-5ef52d9dbec9"
   },
   "outputs": [
    {
     "name": "stdout",
     "output_type": "stream",
     "text": [
      "782/782 [==============================] - 7s 8ms/step - loss: 0.3791 - acc: 0.8656\n"
     ]
    },
    {
     "data": {
      "image/png": "[encoded data removed]",
      "text/plain": [
       "<Figure size 1656x504 with 2 Axes>"
      ]
     },
     "metadata": {},
     "output_type": "display_data"
    }
   ],
   "source": [
    "# 검증 시각화\n",
    "\n",
    "model.evaluate(input_test, y_test)\n",
    "\n",
    "acc = history.history['acc']\n",
    "val_acc = history.history['val_acc']\n",
    "loss = history.history['loss']\n",
    "val_loss = history.history['val_loss']\n",
    "\n",
    "epochs = range(1, len(acc) + 1)\n",
    "\n",
    "fig = plt.figure(figsize = (23, 7))\n",
    "\n",
    "fig.add_subplot(1, 2, 1)\n",
    "plt.plot(epochs, loss, 'bo', label='Training loss')\n",
    "plt.plot(epochs, val_loss, 'b', label='Validation loss')\n",
    "plt.title('Training and validation loss')\n",
    "plt.legend(fontsize = 13)\n",
    "\n",
    "fig.add_subplot(1, 2, 2)\n",
    "plt.plot(epochs, acc, 'bo', label='Training acc')\n",
    "plt.plot(epochs, val_acc, 'b', label='Validation acc')\n",
    "plt.title('Training and validation accuracy')\n",
    "plt.legend(fontsize = 13)\n",
    "\n",
    "plt.show()"
   ]
  }
 ],
 "metadata": {
  "accelerator": "GPU",
  "colab": {
   "authorship_tag": "ABX9TyOknP8KONMf9N6Pu5gseTOo",
   "collapsed_sections": [],
   "machine_shape": "hm",
   "mount_file_id": "1lX6QYNTYB3NRe6A3wDns8fruPhns6tty",
   "name": "4월 18일 (RNN 기초).ipynb",
   "provenance": [],
   "toc_visible": true
  },
  "hide_input": false,
  "kernelspec": {
   "display_name": "Python 3 (ipykernel)",
   "language": "python",
   "name": "python3"
  },
  "language_info": {
   "codemirror_mode": {
    "name": "ipython",
    "version": 3
   },
   "file_extension": ".py",
   "mimetype": "text/x-python",
   "name": "python",
   "nbconvert_exporter": "python",
   "pygments_lexer": "ipython3",
   "version": "3.8.12"
  },
  "toc": {
   "base_numbering": 1,
   "nav_menu": {},
   "number_sections": false,
   "sideBar": true,
   "skip_h1_title": false,
   "title_cell": "Table of Contents",
   "title_sidebar": "Contents",
   "toc_cell": false,
   "toc_position": {},
   "toc_section_display": true,
   "toc_window_display": false
  },
  "varInspector": {
   "cols": {
    "lenName": "16",
    "lenType": "16",
    "lenVar": 40
   },
   "kernels_config": {
    "python": {
     "delete_cmd_postfix": "",
     "delete_cmd_prefix": "del ",
     "library": "var_list.py",
     "varRefreshCmd": "print(var_dic_list())"
    },
    "r": {
     "delete_cmd_postfix": ") ",
     "delete_cmd_prefix": "rm(",
     "library": "var_list.r",
     "varRefreshCmd": "cat(var_dic_list()) "
    }
   },
   "types_to_exclude": [
    "module",
    "function",
    "builtin_function_or_method",
    "instance",
    "_Feature"
   ],
   "window_display": false
  }
 },
 "nbformat": 4,
 "nbformat_minor": 1
}
