{
 "cells": [
  {
   "cell_type": "code",
   "execution_count": 510,
   "id": "d5e8628a",
   "metadata": {
    "ExecuteTime": {
     "end_time": "2022-03-03T08:02:00.534974Z",
     "start_time": "2022-03-03T08:02:00.519017Z"
    }
   },
   "outputs": [],
   "source": [
    "from sklearn.metrics import accuracy_score, precision_score, recall_score, confusion_matrix, f1_score, roc_auc_score\n",
    "from sklearn.preprocessing import LabelEncoder\n",
    "from sklearn.preprocessing import MinMaxScaler\n",
    "from sklearn.model_selection import train_test_split\n",
    "from sklearn.linear_model import LogisticRegression\n",
    "import pandas as pd\n",
    "import numpy as np\n",
    "import re\n",
    "import warnings\n",
    "import matplotlib.pyplot as plt\n",
    "plt.style.use('seaborn')\n",
    "plt.rc('font', family = 'Malgun Gothic') # 한글 입력\n",
    "plt.rcParams['axes.unicode_minus'] = False # 글꼴 변경시 마이너스 표기 가능으로 처리"
   ]
  },
  {
   "cell_type": "markdown",
   "id": "0975efbe",
   "metadata": {},
   "source": [
    "# [3월 3일]\n",
    "---"
   ]
  },
  {
   "cell_type": "markdown",
   "id": "41a3b8d3",
   "metadata": {
    "ExecuteTime": {
     "end_time": "2022-03-03T01:36:47.004643Z",
     "start_time": "2022-03-03T01:36:46.984695Z"
    }
   },
   "source": [
    "## # 분류평가\n",
    "---\n",
    "- 정확도만으로 불균형한 레이블 데이터 세트에서 평가지표로 사용하기에는 부적합\n",
    "- 정확도가 가지는 분류 평가 지표로의 한계점을 극복하기 위해 여러가지 분류 지표와 함께 적용해야 함"
   ]
  },
  {
   "cell_type": "markdown",
   "id": "787fc9d0",
   "metadata": {
    "ExecuteTime": {
     "end_time": "2022-03-03T01:40:07.462621Z",
     "start_time": "2022-03-03T01:40:07.443707Z"
    }
   },
   "source": [
    "### # Confusion Matrix (혼동행렬, 오차행렬)\n",
    "---\n",
    "- 이진분류에서 성능 지표로 잘 활용되는 오차행렬은 학습된 분류 모델이 예측을 수행하면 얼마나 혼동될 수 있는지도 함게 보여주는 지표\n",
    "- 이진 분류의 예측 오류가 얼마인지와 더불어 어떠한 유형의 예측 오류가 발생하고 있는지를 함께 보여줌\n",
    "$$$$\n",
    "\n",
    "### # 평가 지표\n",
    "---\n",
    "- TP, FP, FN, TN는 예측클래스와 실제 클래스의 Positive 결정 값과 Negative 결정 값의 결함에 따라 결정\n",
    "- 앞문자 True/False는 예측값과 실제값이 같은가/틀린가를 의미하고 뒤 문자 N/P는 예측 결과값이 부정/긍정을 의미\n",
    "- 정확도 = (TP + TN) / (TP + TN + FP + FN)\n",
    "- 정밀도 = TP / (TP + FP) : P로 예측한 것 중에서 실제도 P\n",
    "- 재현율 = TP / (TP + FN) : 실제 P인 것 중에서 예측도 P\n",
    "- $F1 = 2×\\frac{정밀도×재현율}{정밀도+재현율}$ : 정밀도와 재현율이 어느 한쪽으로 치우치지 않는 수치를 나타낼 때 높아짐\n",
    "- 정밀도와 재현율은 Positive 데이터 세트의 예측 성능에 좀 더 초점을 맞춘 평가 지표\n",
    "- 재현율이 중요 지표인 경우 : 양성 데이터를 음성으로 잘못 판단하면 업무상 큰 영향이 발생하는 경우 (암진단, 보험사기)\n",
    "- 정밀도가 더 중요한 지표인 사례 : 음성 데이터를 양성으로 잘못 판단하면 업무상 큰 영향이 발생하는 경우 (스팸 메일, 생체 인증)\n",
    "$$$$\n",
    "\n",
    "\n",
    "### # 정밀도 및 재현율 활용 시 유의사항\n",
    "---\n",
    "- 정밀도와 재현율 성능 수치는 어느 한쪽만 참조하면 극단적인 수치 조작이 가능\n",
    "- 정밀도 100%가 되는 방법 : 확실한 기준이 되는 경우만 P로 예측하고 나머지는 모두 N으로 예측 : TP / (TP + FP) = 1/(1 + 0) = 1\n",
    "- 재현율 100%가 되는 방법 : 실제 양성 1000명 중 30명 : TP / (TP + FN) = 30/(30 + 0) = 1\n",
    "- 분류할 때 정밀도, 재현율 중 하나에 상대적인 중요도를 부여할 수 있지만 하나만 강조해서는 안된다.\n",
    " - 암 예측 모델에서 재현율을 높이기 위해 주로 양성만 판정한다면 환자의 불만과 불평이 커질 수 있다.\n"
   ]
  },
  {
   "cell_type": "markdown",
   "id": "31f0f9ec",
   "metadata": {},
   "source": [
    "### # 평가 지표 사용자 함수\n",
    "---"
   ]
  },
  {
   "cell_type": "code",
   "execution_count": 1,
   "id": "0e980db6",
   "metadata": {
    "ExecuteTime": {
     "end_time": "2022-03-03T12:54:28.583802Z",
     "start_time": "2022-03-03T12:54:28.106375Z"
    }
   },
   "outputs": [],
   "source": [
    "from sklearn.metrics import accuracy_score, precision_score, recall_score, confusion_matrix, f1_score\n",
    "\n",
    "def get_clf_eval(y_test, pred = None, pred_proba = None):\n",
    "    confusion = confusion_matrix(y_test, pred) # 오차행렬\n",
    "    accuracy = accuracy_score(y_test, pred) # 정확도\n",
    "    precision = precision_score(y_test, pred) # 정밀도\n",
    "    recall = recall_score(y_test, pred) # 재현율\n",
    "    f1 = f1_score(y_test, pred) # f1 score\n",
    "    roc = roc_auc_score(y_test, pred_proba)\n",
    "\n",
    "    print(f'오차행렬 : \\n{confusion}\\n\\nTN = {confusion[0, 0]}, FP = {confusion[0, 1]}\\nFN = {confusion[1, 0]}, TP = {confusion[1, 1]}\\n')\n",
    "    print(f'정확도 : {round(accuracy, 4)} \\n정밀도 : {round(precision, 4)} \\n재현율 : {round(recall, 4)} \\nF1 score : {round(f1, 4)} \\nAUC : {round(roc, 4)}')"
   ]
  },
  {
   "cell_type": "code",
   "execution_count": 586,
   "id": "77a4ccad",
   "metadata": {
    "ExecuteTime": {
     "end_time": "2022-03-03T08:16:38.346174Z",
     "start_time": "2022-03-03T08:16:38.086212Z"
    }
   },
   "outputs": [
    {
     "data": {
      "text/html": [
       "<div>\n",
       "<style scoped>\n",
       "    .dataframe tbody tr th:only-of-type {\n",
       "        vertical-align: middle;\n",
       "    }\n",
       "\n",
       "    .dataframe tbody tr th {\n",
       "        vertical-align: top;\n",
       "    }\n",
       "\n",
       "    .dataframe thead th {\n",
       "        text-align: right;\n",
       "    }\n",
       "</style>\n",
       "<table border=\"1\" class=\"dataframe\">\n",
       "  <thead>\n",
       "    <tr style=\"text-align: right;\">\n",
       "      <th></th>\n",
       "      <th>Pclass</th>\n",
       "      <th>Sex</th>\n",
       "      <th>Age</th>\n",
       "      <th>SibSp</th>\n",
       "      <th>Parch</th>\n",
       "      <th>Fare</th>\n",
       "      <th>Cabin</th>\n",
       "      <th>Embarked</th>\n",
       "    </tr>\n",
       "  </thead>\n",
       "  <tbody>\n",
       "    <tr>\n",
       "      <th>0</th>\n",
       "      <td>3</td>\n",
       "      <td>1</td>\n",
       "      <td>22.0</td>\n",
       "      <td>1</td>\n",
       "      <td>0</td>\n",
       "      <td>0.014151</td>\n",
       "      <td>5</td>\n",
       "      <td>2</td>\n",
       "    </tr>\n",
       "    <tr>\n",
       "      <th>1</th>\n",
       "      <td>1</td>\n",
       "      <td>0</td>\n",
       "      <td>38.0</td>\n",
       "      <td>1</td>\n",
       "      <td>0</td>\n",
       "      <td>0.139136</td>\n",
       "      <td>2</td>\n",
       "      <td>0</td>\n",
       "    </tr>\n",
       "    <tr>\n",
       "      <th>2</th>\n",
       "      <td>3</td>\n",
       "      <td>0</td>\n",
       "      <td>26.0</td>\n",
       "      <td>0</td>\n",
       "      <td>0</td>\n",
       "      <td>0.015469</td>\n",
       "      <td>4</td>\n",
       "      <td>2</td>\n",
       "    </tr>\n",
       "    <tr>\n",
       "      <th>3</th>\n",
       "      <td>1</td>\n",
       "      <td>0</td>\n",
       "      <td>35.0</td>\n",
       "      <td>1</td>\n",
       "      <td>0</td>\n",
       "      <td>0.103644</td>\n",
       "      <td>2</td>\n",
       "      <td>2</td>\n",
       "    </tr>\n",
       "    <tr>\n",
       "      <th>4</th>\n",
       "      <td>3</td>\n",
       "      <td>1</td>\n",
       "      <td>35.0</td>\n",
       "      <td>0</td>\n",
       "      <td>0</td>\n",
       "      <td>0.015713</td>\n",
       "      <td>4</td>\n",
       "      <td>2</td>\n",
       "    </tr>\n",
       "  </tbody>\n",
       "</table>\n",
       "</div>"
      ],
      "text/plain": [
       "   Pclass  Sex   Age  SibSp  Parch      Fare  Cabin  Embarked\n",
       "0       3    1  22.0      1      0  0.014151      5         2\n",
       "1       1    0  38.0      1      0  0.139136      2         0\n",
       "2       3    0  26.0      0      0  0.015469      4         2\n",
       "3       1    0  35.0      1      0  0.103644      2         2\n",
       "4       3    1  35.0      0      0  0.015713      4         2"
      ]
     },
     "execution_count": 586,
     "metadata": {},
     "output_type": "execute_result"
    }
   ],
   "source": [
    "import re\n",
    "from sklearn.preprocessing import LabelEncoder\n",
    "from sklearn.preprocessing import MinMaxScaler\n",
    "\n",
    "def fillnas(df):\n",
    "    def callname(x):\n",
    "        m = re.compile('[A-Za-z]+[.]')\n",
    "        p = re.findall(m,x)\n",
    "        return p[0]\n",
    "    \n",
    "    df['Callname']=df.Name.apply(lambda x:callname(x))\n",
    "    \n",
    "    df1 = df.loc[df.Age.isnull()]\n",
    "    age_nulllist = list(set(df1.Callname.values.tolist()))\n",
    "    \n",
    "    df2 = df.loc[df.Age.notnull()]\n",
    "    pivot = pd.pivot_table(df2, index = 'Callname', values = 'Age',aggfunc = 'mean')\n",
    "    \n",
    "    for age in age_nulllist:\n",
    "        df.loc[(df.Age.isnull())&(df.Callname == age),['Age']]=(pivot.loc[age][0])\n",
    "        \n",
    "    df['Embarked'].fillna(method = 'ffill',inplace=True)\n",
    "    \n",
    "    df3 = df.loc[df.Cabin.notnull()]\n",
    "\n",
    "    df3['Cabins'] = df3['Cabin'].str[:1]\n",
    "    df4 = df.loc[df.Cabin.isnull()]\n",
    "    \n",
    "    for i in range(1,4):\n",
    "        df33 = df3.loc[df3.Pclass == i]\n",
    "        cabin_fill_list=list(set(df33.Cabins.values.tolist()))\n",
    "        df44 = df4.loc[df4.Pclass == i]\n",
    "        fill_index = list(df44.index)\n",
    "        for index in fill_index:\n",
    "            df.loc[index,'Cabin'] = np.random.choice(cabin_fill_list)\n",
    "            \n",
    "    return df\n",
    "\n",
    "# 불필요 항목 제거\n",
    "def drop_feat(df):\n",
    "    df.drop(['PassengerId','Name','Ticket','Callname'],axis=1,inplace = True)\n",
    "    return df\n",
    "\n",
    "def format_features(df):\n",
    "    df['Cabin'] = df['Cabin'].str[:1]\n",
    "    features = ['Cabin','Sex','Embarked']\n",
    "    for feature in features:\n",
    "        le = LabelEncoder()\n",
    "        le = le.fit(df[feature])\n",
    "        df[feature] = le.transform(df[feature])\n",
    "    scaler = MinMaxScaler()\n",
    "    scaler.fit(df[['Fare']])\n",
    "    fare_scaled = scaler.transform(df[['Fare']])\n",
    "    df['Fare'] = fare_scaled\n",
    "    \n",
    "    return df\n",
    "\n",
    "def transform_features(df):\n",
    "    df = fillnas(df)\n",
    "    df = drop_feat(df)\n",
    "    df = format_features(df)\n",
    "    return df\n",
    "\n",
    "t_df = pd.read_csv('../data/train.csv')\n",
    "\n",
    "y_t_df = t_df['Survived']\n",
    "X_t_df = t_df.drop('Survived', axis = 1)\n",
    "X_t_df = transform_features(X_t_df)\n",
    "X_t_df.head()"
   ]
  },
  {
   "cell_type": "code",
   "execution_count": 680,
   "id": "0e099bfc",
   "metadata": {
    "ExecuteTime": {
     "end_time": "2022-03-03T08:35:36.928494Z",
     "start_time": "2022-03-03T08:35:36.860677Z"
    }
   },
   "outputs": [],
   "source": [
    "from sklearn.model_selection import train_test_split\n",
    "from sklearn.linear_model import LogisticRegression\n",
    "\n",
    "X_train, X_test, y_train, y_test = train_test_split(X_t_df, y_t_df, test_size = 0.2, random_state = 11)\n",
    "\n",
    "lr_clf = LogisticRegression()\n",
    "lr_clf.fit(X_train, y_train)\n",
    "pred = lr_clf.predict(X_test)\n",
    "pred_proba = lr_clf.predict_proba(X_test)[:, 1]"
   ]
  },
  {
   "cell_type": "code",
   "execution_count": 681,
   "id": "d9ee3120",
   "metadata": {
    "ExecuteTime": {
     "end_time": "2022-03-03T08:35:37.447116Z",
     "start_time": "2022-03-03T08:35:37.426169Z"
    }
   },
   "outputs": [
    {
     "name": "stdout",
     "output_type": "stream",
     "text": [
      "오차행렬 : \n",
      "[[108  10]\n",
      " [ 15  46]]\n",
      "\n",
      "TN = 108, FP = 10\n",
      "FN = 15, TP = 46\n",
      "\n",
      "정확도 : 0.8603 \n",
      "정밀도 : 0.8214 \n",
      "재현율 : 0.7541 \n",
      "F1 score : 0.7863 \n",
      "AUC : 0.9079\n"
     ]
    }
   ],
   "source": [
    "get_clf_eval(y_test, pred, pred_proba)"
   ]
  },
  {
   "cell_type": "code",
   "execution_count": 609,
   "id": "dc499958",
   "metadata": {
    "ExecuteTime": {
     "end_time": "2022-03-03T08:17:46.217125Z",
     "start_time": "2022-03-03T08:17:46.199184Z"
    }
   },
   "outputs": [
    {
     "name": "stdout",
     "output_type": "stream",
     "text": [
      "accuracy : 0.8659\n",
      "precision : 0.8364\n",
      "recall : 0.7541\n",
      "F1 Score:  0.7931\n"
     ]
    }
   ],
   "source": [
    "# 오차행렬을 보고 수작업으로 계산하여 아래를 구하세요\n",
    "\n",
    "TN = 109; FP = 9; FN = 15; TP = 46;\n",
    "accuracy = round((TP + TN) / (TP + TN + FP + FN), 4)\n",
    "precision = round((TP) / (TP + FP), 4)\n",
    "recall = round((TP) / (TP + FN), 4)\n",
    "\n",
    "print('accuracy :', accuracy)\n",
    "print('precision :', precision)\n",
    "print('recall :', recall)\n",
    "print('F1 Score: ',round(2 * ((precision * recall) / (precision + recall)),4))"
   ]
  },
  {
   "cell_type": "markdown",
   "id": "42287719",
   "metadata": {},
   "source": [
    "### # 정밀도/재현율 트레이드오프\n",
    "---\n",
    "- Precision/Reclal Trade-off"
   ]
  },
  {
   "cell_type": "code",
   "execution_count": 7,
   "id": "86caf3b0",
   "metadata": {
    "ExecuteTime": {
     "end_time": "2022-03-03T16:47:30.358138Z",
     "start_time": "2022-03-03T16:47:30.339128Z"
    }
   },
   "outputs": [
    {
     "ename": "NameError",
     "evalue": "name 'lr_clf' is not defined",
     "output_type": "error",
     "traceback": [
      "\u001b[1;31m---------------------------------------------------------------------------\u001b[0m",
      "\u001b[1;31mNameError\u001b[0m                                 Traceback (most recent call last)",
      "\u001b[1;32m~\\AppData\\Local\\Temp/ipykernel_11904/3228504237.py\u001b[0m in \u001b[0;36m<module>\u001b[1;34m\u001b[0m\n\u001b[1;32m----> 1\u001b[1;33m \u001b[0mpred_proba\u001b[0m \u001b[1;33m=\u001b[0m \u001b[0mlr_clf\u001b[0m\u001b[1;33m.\u001b[0m\u001b[0mpredict_proba\u001b[0m\u001b[1;33m(\u001b[0m\u001b[0mX_test\u001b[0m\u001b[1;33m)\u001b[0m\u001b[1;33m\u001b[0m\u001b[1;33m\u001b[0m\u001b[0m\n\u001b[0m\u001b[0;32m      2\u001b[0m \u001b[0mpred\u001b[0m \u001b[1;33m=\u001b[0m \u001b[0mlr_clf\u001b[0m\u001b[1;33m.\u001b[0m\u001b[0mpredict\u001b[0m\u001b[1;33m(\u001b[0m\u001b[0mX_test\u001b[0m\u001b[1;33m)\u001b[0m\u001b[1;33m\u001b[0m\u001b[1;33m\u001b[0m\u001b[0m\n\u001b[0;32m      3\u001b[0m \u001b[0mpred_proba_result\u001b[0m \u001b[1;33m=\u001b[0m \u001b[0mnp\u001b[0m\u001b[1;33m.\u001b[0m\u001b[0mconcatenate\u001b[0m\u001b[1;33m(\u001b[0m\u001b[1;33m[\u001b[0m\u001b[0mpred_proba\u001b[0m\u001b[1;33m,\u001b[0m \u001b[0mpred\u001b[0m\u001b[1;33m.\u001b[0m\u001b[0mreshape\u001b[0m\u001b[1;33m(\u001b[0m\u001b[1;33m-\u001b[0m\u001b[1;36m1\u001b[0m\u001b[1;33m,\u001b[0m \u001b[1;36m1\u001b[0m\u001b[1;33m)\u001b[0m\u001b[1;33m]\u001b[0m\u001b[1;33m,\u001b[0m \u001b[0maxis\u001b[0m \u001b[1;33m=\u001b[0m \u001b[1;36m1\u001b[0m\u001b[1;33m)\u001b[0m\u001b[1;33m\u001b[0m\u001b[1;33m\u001b[0m\u001b[0m\n\u001b[0;32m      4\u001b[0m \u001b[0mpred_proba_result\u001b[0m\u001b[1;33m[\u001b[0m\u001b[1;33m:\u001b[0m\u001b[1;36m3\u001b[0m\u001b[1;33m]\u001b[0m\u001b[1;33m\u001b[0m\u001b[1;33m\u001b[0m\u001b[0m\n",
      "\u001b[1;31mNameError\u001b[0m: name 'lr_clf' is not defined"
     ]
    }
   ],
   "source": [
    "pred_proba = lr_clf.predict_proba(X_test)\n",
    "pred = lr_clf.predict(X_test)\n",
    "pred_proba_result = np.concatenate([pred_proba, pred.reshape(-1, 1)], axis = 1)\n",
    "pred_proba_result[:3]"
   ]
  },
  {
   "cell_type": "markdown",
   "id": "545cf75a",
   "metadata": {
    "ExecuteTime": {
     "end_time": "2022-03-03T03:20:10.562241Z",
     "start_time": "2022-03-03T03:20:10.543283Z"
    }
   },
   "source": [
    "#### # Binaraizer\n",
    "---\n",
    "- 정밀도와 재현율을 인위적으로 조정하여 원하는 값을 뽑기 위해 사용"
   ]
  },
  {
   "cell_type": "code",
   "execution_count": 4,
   "id": "6f325a38",
   "metadata": {
    "ExecuteTime": {
     "end_time": "2022-03-03T16:47:20.969181Z",
     "start_time": "2022-03-03T16:47:20.961181Z"
    }
   },
   "outputs": [
    {
     "name": "stdout",
     "output_type": "stream",
     "text": [
      "[[0. 0. 1.]\n",
      " [1. 0. 0.]\n",
      " [0. 0. 1.]]\n"
     ]
    }
   ],
   "source": [
    "from sklearn.preprocessing import Binarizer\n",
    "\n",
    "X = [[1, -1, 2],\n",
    "    [2, 0, 0],\n",
    "    [0, 1.1, 1.2]]\n",
    "\n",
    "binarizer = Binarizer(threshold = 1.1) # threshold 기준으로 작으면 0, 크면 1로 반환\n",
    "print(binarizer.fit_transform(X))"
   ]
  },
  {
   "cell_type": "code",
   "execution_count": 5,
   "id": "4ab06388",
   "metadata": {
    "ExecuteTime": {
     "end_time": "2022-03-03T16:47:21.346533Z",
     "start_time": "2022-03-03T16:47:21.336524Z"
    }
   },
   "outputs": [
    {
     "ename": "NameError",
     "evalue": "name 'pred_proba' is not defined",
     "output_type": "error",
     "traceback": [
      "\u001b[1;31m---------------------------------------------------------------------------\u001b[0m",
      "\u001b[1;31mNameError\u001b[0m                                 Traceback (most recent call last)",
      "\u001b[1;32m~\\AppData\\Local\\Temp/ipykernel_11904/4028363919.py\u001b[0m in \u001b[0;36m<module>\u001b[1;34m\u001b[0m\n\u001b[0;32m      1\u001b[0m \u001b[0mcustom_threshold\u001b[0m \u001b[1;33m=\u001b[0m \u001b[1;36m0.5\u001b[0m\u001b[1;33m\u001b[0m\u001b[1;33m\u001b[0m\u001b[0m\n\u001b[1;32m----> 2\u001b[1;33m \u001b[0mpred_proba_1\u001b[0m \u001b[1;33m=\u001b[0m \u001b[0mpred_proba\u001b[0m\u001b[1;33m[\u001b[0m\u001b[1;33m:\u001b[0m\u001b[1;33m,\u001b[0m \u001b[1;36m1\u001b[0m\u001b[1;33m]\u001b[0m\u001b[1;33m.\u001b[0m\u001b[0mreshape\u001b[0m\u001b[1;33m(\u001b[0m\u001b[1;33m-\u001b[0m\u001b[1;36m1\u001b[0m\u001b[1;33m,\u001b[0m \u001b[1;36m1\u001b[0m\u001b[1;33m)\u001b[0m\u001b[1;33m\u001b[0m\u001b[1;33m\u001b[0m\u001b[0m\n\u001b[0m\u001b[0;32m      3\u001b[0m \u001b[1;33m\u001b[0m\u001b[0m\n\u001b[0;32m      4\u001b[0m \u001b[0mbinarizer\u001b[0m \u001b[1;33m=\u001b[0m \u001b[0mBinarizer\u001b[0m\u001b[1;33m(\u001b[0m\u001b[0mthreshold\u001b[0m \u001b[1;33m=\u001b[0m \u001b[0mcustom_threshold\u001b[0m\u001b[1;33m)\u001b[0m\u001b[1;33m.\u001b[0m\u001b[0mfit\u001b[0m\u001b[1;33m(\u001b[0m\u001b[0mpred_proba_1\u001b[0m\u001b[1;33m)\u001b[0m\u001b[1;33m\u001b[0m\u001b[1;33m\u001b[0m\u001b[0m\n\u001b[0;32m      5\u001b[0m \u001b[0mcustom_predict\u001b[0m \u001b[1;33m=\u001b[0m \u001b[0mbinarizer\u001b[0m\u001b[1;33m.\u001b[0m\u001b[0mtransform\u001b[0m\u001b[1;33m(\u001b[0m\u001b[0mpred_proba_1\u001b[0m\u001b[1;33m)\u001b[0m\u001b[1;33m\u001b[0m\u001b[1;33m\u001b[0m\u001b[0m\n",
      "\u001b[1;31mNameError\u001b[0m: name 'pred_proba' is not defined"
     ]
    }
   ],
   "source": [
    "custom_threshold = 0.5\n",
    "pred_proba_1 = pred_proba[:, 1].reshape(-1, 1)\n",
    "\n",
    "binarizer = Binarizer(threshold = custom_threshold).fit(pred_proba_1)\n",
    "custom_predict = binarizer.transform(pred_proba_1)\n",
    "\n",
    "get_clf_eval(y_test, custom_predict)"
   ]
  },
  {
   "cell_type": "code",
   "execution_count": 6,
   "id": "77277b33",
   "metadata": {
    "ExecuteTime": {
     "end_time": "2022-03-03T16:47:22.631354Z",
     "start_time": "2022-03-03T16:47:22.621345Z"
    }
   },
   "outputs": [
    {
     "ename": "NameError",
     "evalue": "name 'pred_proba' is not defined",
     "output_type": "error",
     "traceback": [
      "\u001b[1;31m---------------------------------------------------------------------------\u001b[0m",
      "\u001b[1;31mNameError\u001b[0m                                 Traceback (most recent call last)",
      "\u001b[1;32m~\\AppData\\Local\\Temp/ipykernel_11904/2729278264.py\u001b[0m in \u001b[0;36m<module>\u001b[1;34m\u001b[0m\n\u001b[0;32m      2\u001b[0m \u001b[1;33m\u001b[0m\u001b[0m\n\u001b[0;32m      3\u001b[0m \u001b[0mcustom_threshold\u001b[0m \u001b[1;33m=\u001b[0m \u001b[1;36m0.4\u001b[0m\u001b[1;33m\u001b[0m\u001b[1;33m\u001b[0m\u001b[0m\n\u001b[1;32m----> 4\u001b[1;33m \u001b[0mpred_proba_1\u001b[0m \u001b[1;33m=\u001b[0m \u001b[0mpred_proba\u001b[0m\u001b[1;33m[\u001b[0m\u001b[1;33m:\u001b[0m\u001b[1;33m,\u001b[0m \u001b[1;36m1\u001b[0m\u001b[1;33m]\u001b[0m\u001b[1;33m.\u001b[0m\u001b[0mreshape\u001b[0m\u001b[1;33m(\u001b[0m\u001b[1;33m-\u001b[0m\u001b[1;36m1\u001b[0m\u001b[1;33m,\u001b[0m \u001b[1;36m1\u001b[0m\u001b[1;33m)\u001b[0m\u001b[1;33m\u001b[0m\u001b[1;33m\u001b[0m\u001b[0m\n\u001b[0m\u001b[0;32m      5\u001b[0m \u001b[1;33m\u001b[0m\u001b[0m\n\u001b[0;32m      6\u001b[0m \u001b[0mbinarizer\u001b[0m \u001b[1;33m=\u001b[0m \u001b[0mBinarizer\u001b[0m\u001b[1;33m(\u001b[0m\u001b[0mthreshold\u001b[0m \u001b[1;33m=\u001b[0m \u001b[0mcustom_threshold\u001b[0m\u001b[1;33m)\u001b[0m\u001b[1;33m.\u001b[0m\u001b[0mfit\u001b[0m\u001b[1;33m(\u001b[0m\u001b[0mpred_proba_1\u001b[0m\u001b[1;33m)\u001b[0m\u001b[1;33m\u001b[0m\u001b[1;33m\u001b[0m\u001b[0m\n",
      "\u001b[1;31mNameError\u001b[0m: name 'pred_proba' is not defined"
     ]
    }
   ],
   "source": [
    "# 분류 결졍 임계값을 0.5 -> 0.4\n",
    "\n",
    "custom_threshold = 0.4\n",
    "pred_proba_1 = pred_proba[:, 1].reshape(-1, 1)\n",
    "\n",
    "binarizer = Binarizer(threshold = custom_threshold).fit(pred_proba_1)\n",
    "custom_predict = binarizer.transform(pred_proba_1)\n",
    "custom_predict\n",
    "\n",
    "custom_predict"
   ]
  },
  {
   "cell_type": "code",
   "execution_count": 2,
   "id": "912089d9",
   "metadata": {
    "ExecuteTime": {
     "end_time": "2022-03-04T01:45:06.979490Z",
     "start_time": "2022-03-04T01:45:06.960481Z"
    }
   },
   "outputs": [
    {
     "ename": "NameError",
     "evalue": "name 'pred_proba' is not defined",
     "output_type": "error",
     "traceback": [
      "\u001b[1;31m---------------------------------------------------------------------------\u001b[0m",
      "\u001b[1;31mNameError\u001b[0m                                 Traceback (most recent call last)",
      "\u001b[1;32m~\\AppData\\Local\\Temp/ipykernel_9060/3353644510.py\u001b[0m in \u001b[0;36m<module>\u001b[1;34m\u001b[0m\n\u001b[0;32m      2\u001b[0m \u001b[1;33m\u001b[0m\u001b[0m\n\u001b[0;32m      3\u001b[0m \u001b[1;32mfor\u001b[0m \u001b[0mcustom_threshold\u001b[0m \u001b[1;32min\u001b[0m \u001b[1;33m[\u001b[0m\u001b[1;36m0.4\u001b[0m\u001b[1;33m,\u001b[0m \u001b[1;36m0.45\u001b[0m\u001b[1;33m,\u001b[0m \u001b[1;36m0.50\u001b[0m\u001b[1;33m,\u001b[0m \u001b[1;36m0.55\u001b[0m\u001b[1;33m,\u001b[0m \u001b[1;36m0.60\u001b[0m\u001b[1;33m]\u001b[0m\u001b[1;33m:\u001b[0m\u001b[1;33m\u001b[0m\u001b[1;33m\u001b[0m\u001b[0m\n\u001b[1;32m----> 4\u001b[1;33m     \u001b[0mpred_proba_1\u001b[0m \u001b[1;33m=\u001b[0m \u001b[0mpred_proba\u001b[0m\u001b[1;33m[\u001b[0m\u001b[1;33m:\u001b[0m\u001b[1;33m,\u001b[0m \u001b[1;36m1\u001b[0m\u001b[1;33m]\u001b[0m\u001b[1;33m.\u001b[0m\u001b[0mreshape\u001b[0m\u001b[1;33m(\u001b[0m\u001b[1;33m-\u001b[0m\u001b[1;36m1\u001b[0m\u001b[1;33m,\u001b[0m \u001b[1;36m1\u001b[0m\u001b[1;33m)\u001b[0m\u001b[1;33m\u001b[0m\u001b[1;33m\u001b[0m\u001b[0m\n\u001b[0m\u001b[0;32m      5\u001b[0m \u001b[1;33m\u001b[0m\u001b[0m\n\u001b[0;32m      6\u001b[0m     \u001b[0mbinarizer\u001b[0m \u001b[1;33m=\u001b[0m \u001b[0mBinarizer\u001b[0m\u001b[1;33m(\u001b[0m\u001b[0mthreshold\u001b[0m \u001b[1;33m=\u001b[0m \u001b[0mcustom_threshold\u001b[0m\u001b[1;33m)\u001b[0m\u001b[1;33m.\u001b[0m\u001b[0mfit\u001b[0m\u001b[1;33m(\u001b[0m\u001b[0mpred_proba_1\u001b[0m\u001b[1;33m)\u001b[0m\u001b[1;33m\u001b[0m\u001b[1;33m\u001b[0m\u001b[0m\n",
      "\u001b[1;31mNameError\u001b[0m: name 'pred_proba' is not defined"
     ]
    }
   ],
   "source": [
    "# 임계값을 [0.4, 0.45, 0.50, 0.55, 0.60] 으로 변경 시 평가지표의 변화를 출력하세요\n",
    "\n",
    "for custom_threshold in [0.4, 0.45, 0.50, 0.55, 0.60]:\n",
    "    pred_proba_1 = pred_proba[:, 1].reshape(-1, 1)\n",
    "\n",
    "    binarizer = Binarizer(threshold = custom_threshold).fit(pred_proba_1)\n",
    "    custom_predict = binarizer.transform(pred_proba_1)\n",
    "    custom_predict\n",
    "    print('ㅡㅡㅡㅡㅡㅡㅡㅡㅡㅡㅡㅡㅡㅡㅡㅡㅡ')    \n",
    "    print(f'임계값 : {custom_threshold}\\n')\n",
    "    get_clf_eval(y_test, custom_predict)\n",
    "    print('ㅡㅡㅡㅡㅡㅡㅡㅡㅡㅡㅡㅡㅡㅡㅡㅡㅡ\\n')"
   ]
  },
  {
   "cell_type": "markdown",
   "id": "bc23887e",
   "metadata": {},
   "source": [
    "### # ROC 곡선과 AUC\n",
    "---\n",
    "- ROC(Receiver Operation Characteristic Curve)는 수신자 판단 곡선이라고 하며 ML의 이진 분류 모델의 예측 성능을 판단하는 중요성 평가 지표\n",
    "- AUC(Area Under Curve)는 ROC 곡선 밑의 면적을 구한 것으로 일반적으로 1에 가까울수록 좋은 수치\n",
    "- FPR이 변할 때 TPR이 어떻게 변하는지를 나타내는 곡선으로 FPR = 1 - TNR(특이성)\n",
    " - TNR = TN / (TN + FP)\n",
    " - FPR = FP / (TN + FP)\n",
    "- ROC 곡선은 FPR을 0부터 1까지 변경하면서 FPR을 구하고 이 FPR 값의 변화에 따른 TPR의 변화 값을 구한다.\n",
    "- FPR을 0에서 1까지 변경하는 것은 P 예측값을 결정하는 기준인 분류 결정 임계값을 변경하면 된다.\n",
    "- FPR을 0으로 만들려면 임계값을 1로 지정하고 반대로 FPR을 1로 만들려면 임계값을 0으로 지정한다.\n",
    " - 임계값이 증가 : FP값 하락 / 임계값이 감소 : FN값 하락"
   ]
  },
  {
   "cell_type": "code",
   "execution_count": 574,
   "id": "40750069",
   "metadata": {
    "ExecuteTime": {
     "end_time": "2022-03-03T08:15:32.464909Z",
     "start_time": "2022-03-03T08:15:32.442957Z"
    }
   },
   "outputs": [
    {
     "name": "stdout",
     "output_type": "stream",
     "text": [
      "[1.96815509 0.96815509 0.95433078 0.9525766 ] 49\n",
      "[0. 0. 0. 0.] 49\n",
      "[0.         0.01639344 0.03278689 0.06557377] 49\n"
     ]
    }
   ],
   "source": [
    "from sklearn.metrics import roc_curve\n",
    "\n",
    "pred_proba = lr_clf.predict_proba(X_test)[:, 1]\n",
    "fprs, tprs, thresholds = roc_curve(y_test, pred_proba)\n",
    "print(thresholds[:4],len(thresholds))\n",
    "print(fprs[:4],len(thresholds))\n",
    "print(tprs[:4],len(thresholds))\n",
    "\n",
    "def roc_curve_plot(y_test, pred_proba_c1):\n",
    "    fprs, tprs, thresholds = roc_curve(y_test, pred_proba)\n",
    "    \n",
    "    plt.plot(fprs, tprs, label = 'ROC')\n",
    "    plt.plot([0, 1], [0, 1], 'k--', label = 'Random')\n",
    "\n",
    "    start, end = plt.xlim()\n",
    "    plt.xticks(np.round(np.arange(start, end, 0.1), 2))\n",
    "    plt.xlim(0, 1)\n",
    "    plt.ylim(0, 1)\n",
    "    plt.xlabel('FPR(1 - Specificity)')\n",
    "    plt.ylabel('TPR(Recall)')\n",
    "    plt.legend(fontsize = 13)\n",
    "    plt.show()"
   ]
  },
  {
   "cell_type": "code",
   "execution_count": 575,
   "id": "38cf096c",
   "metadata": {
    "ExecuteTime": {
     "end_time": "2022-03-03T08:15:33.541906Z",
     "start_time": "2022-03-03T08:15:33.323272Z"
    }
   },
   "outputs": [
    {
     "data": {
      "image/png": "[encoded data removed]",
      "text/plain": [
       "<Figure size 700x700 with 1 Axes>"
      ]
     },
     "metadata": {},
     "output_type": "display_data"
    }
   ],
   "source": [
    "fig = plt.figure(figsize = (7, 7))\n",
    "roc_curve_plot(y_test, pred_proba_c1)"
   ]
  },
  {
   "cell_type": "code",
   "execution_count": 637,
   "id": "f124f83a",
   "metadata": {
    "ExecuteTime": {
     "end_time": "2022-03-03T08:20:24.532802Z",
     "start_time": "2022-03-03T08:20:24.514850Z"
    }
   },
   "outputs": [
    {
     "data": {
      "text/plain": [
       "0.9079"
      ]
     },
     "execution_count": 637,
     "metadata": {},
     "output_type": "execute_result"
    }
   ],
   "source": [
    "from sklearn.metrics import roc_auc_score\n",
    "\n",
    "pred_proba = lr_clf.predict_proba(X_test)[:, 1]\n",
    "roc_score = roc_auc_score(y_test, pred_proba)\n",
    "round(roc_score, 4)"
   ]
  },
  {
   "cell_type": "code",
   "execution_count": 638,
   "id": "19554fd0",
   "metadata": {
    "ExecuteTime": {
     "end_time": "2022-03-03T08:20:26.207661Z",
     "start_time": "2022-03-03T08:20:26.189711Z"
    }
   },
   "outputs": [
    {
     "name": "stdout",
     "output_type": "stream",
     "text": [
      "오차행렬 : \n",
      "[[108  10]\n",
      " [ 15  46]]\n",
      "\n",
      "TN = 108, FP = 10\n",
      "FN = 15, TP = 46\n",
      "\n",
      "정확도 : 0.8603 \n",
      "정밀도 : 0.8214 \n",
      "재현율 : 0.7541 \n",
      "F1 score : 0.7863 \n",
      "AUC : 0.9079\n"
     ]
    }
   ],
   "source": [
    "get_clf_eval(y_test, pred, pred_proba)"
   ]
  }
 ],
 "metadata": {
  "hide_input": false,
  "kernelspec": {
   "display_name": "Python 3 (ipykernel)",
   "language": "python",
   "name": "python3"
  },
  "language_info": {
   "codemirror_mode": {
    "name": "ipython",
    "version": 3
   },
   "file_extension": ".py",
   "mimetype": "text/x-python",
   "name": "python",
   "nbconvert_exporter": "python",
   "pygments_lexer": "ipython3",
   "version": "3.8.12"
  },
  "toc": {
   "base_numbering": 1,
   "nav_menu": {},
   "number_sections": false,
   "sideBar": true,
   "skip_h1_title": false,
   "title_cell": "Table of Contents",
   "title_sidebar": "Contents",
   "toc_cell": false,
   "toc_position": {
    "height": "827px",
    "left": "118px",
    "top": "86px",
    "width": "303px"
   },
   "toc_section_display": true,
   "toc_window_display": true
  },
  "varInspector": {
   "cols": {
    "lenName": "16",
    "lenType": "16",
    "lenVar": 40
   },
   "kernels_config": {
    "python": {
     "delete_cmd_postfix": "",
     "delete_cmd_prefix": "del ",
     "library": "var_list.py",
     "varRefreshCmd": "print(var_dic_list())"
    },
    "r": {
     "delete_cmd_postfix": ") ",
     "delete_cmd_prefix": "rm(",
     "library": "var_list.r",
     "varRefreshCmd": "cat(var_dic_list()) "
    }
   },
   "types_to_exclude": [
    "module",
    "function",
    "builtin_function_or_method",
    "instance",
    "_Feature"
   ],
   "window_display": false
  }
 },
 "nbformat": 4,
 "nbformat_minor": 5
}
