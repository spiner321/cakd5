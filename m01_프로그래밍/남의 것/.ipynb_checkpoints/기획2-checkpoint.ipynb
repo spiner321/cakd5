{
 "cells": [
  {
   "cell_type": "code",
   "execution_count": 1,
   "id": "8caf4e25",
   "metadata": {},
   "outputs": [
    {
     "name": "stdout",
     "output_type": "stream",
     "text": [
      "\t전기료 예측,분석 프로그램 입니다.\n",
      "\n",
      "(1):사용자 설정, (2):시나리오 예측, (3):옵션(미구현), (4)프로그램 종료 : 4\n",
      "\n"
     ]
    }
   ],
   "source": [
    "machine=[\"에어컨\",\"보일러\",\"컴퓨터\",\"밥솥\",\"TV\"]\n",
    "runtime=[[5,11],[5,18],[13,21],[21,5],[6,23]]\n",
    "cost=[2,4.5,0.85,1.077,2.2]\n",
    "report_sava_time=0\n",
    "import time\n",
    "def save_report(data,report_save_time):\n",
    "    if report_save_time==0:\n",
    "        f=open(\"전기료 예측 분석 보고서.txt\",'w')\n",
    "        f.write(data)\n",
    "        f.close()\n",
    "    elif report_save_time>0:\n",
    "        f=open(\"전기료 예측 분석 보고서.txt\",'a')\n",
    "        f.write(data)\n",
    "        f.close()\n",
    "    else:\n",
    "        print(\"오류발생\")\n",
    "def check_num(num, times):\n",
    "    while 1:\n",
    "        try:\n",
    "            num=int(num)\n",
    "            if 1<=num<=times:\n",
    "                return num\n",
    "            else:\n",
    "                print(f'범위안의 수를 입력하세요. : ',end='')\n",
    "                num=input()               \n",
    "        except:\n",
    "            print(f'범위안의 수를 입력하세요. : ')\n",
    "            num=input()\n",
    "def yes_or_no(char):\n",
    "    while 1:\n",
    "        try:\n",
    "            if char==\"y\" or char==\"Y\" or char=='n' or char=='N':\n",
    "                return char\n",
    "            else:\n",
    "                print(f'[Y/N]만 선택하세요. : ',end='')\n",
    "                char=input()\n",
    "        except:\n",
    "            print(f'[Y/N]만 선택하세요. : ',end='')\n",
    "            char=input()   \n",
    "def eco_price(x):\n",
    "    return int(x*5.3)\n",
    "def tex_price(x):   \n",
    "    result=int(x*0.1)\n",
    "    result1=int(x*0.037) \n",
    "    temp=result1\n",
    "    temp=temp%10\n",
    "    result1=result1-temp\n",
    "    return result+result1\n",
    "def print_price():\n",
    "    print()\n",
    "    for i in range(5):\n",
    "        print(f'{machine[i]}의 전기사용량 : \"{get_amount(i)}\"kWh')\n",
    "        price,tex,result=ele_price(get_amount(i),discount)\n",
    "        print(f'전기요금 : {price}원, 세금 : {tex}원, 청구액 : {result}원\\n')\n",
    "def ele_price(x,discount):\n",
    "    if x==0:\n",
    "        return print(\"사용량이 없습니다.\")\n",
    "    elif x <=200:\n",
    "        b=910\n",
    "        y=88.3\n",
    "        tmp_result=b+int(x*y)+eco_price(x)\n",
    "    elif 200<x<=400:\n",
    "        b=1600\n",
    "        y=182.9\n",
    "        tmp_result= b+int((x-200)*y)+int(200*88.3)+eco_price(x)\n",
    "    elif 400<x<=1000:\n",
    "        b=7300\n",
    "        y=275.6\n",
    "        tmp_result= b+int((x-400)*y)+int(200*182.9)+int(200*88.3)+eco_price(x)\n",
    "    else:\n",
    "        y=704.5\n",
    "        tmp_result= int((x-1000)*704.5)+int(600*275.6)+int(200*182.9)+int(200*88.3)+eco_price(x)     \n",
    "    tex=tex_price(tmp_result)\n",
    "    result=tmp_result+tex\n",
    "    temp=result\n",
    "    temp=temp%10\n",
    "    result=result-temp\n",
    "    return tmp_result, tex, result*discount\n",
    "def get_machine_time(i):\n",
    "    print(f'선택된 제품은 {machine[i-1]}입니다.')\n",
    "    while 1:\n",
    "        try:\n",
    "            num1,num2=input(f'제품의 시작 시간과 종료 시간을 입력해 주세요.(0~24)').split()\n",
    "            num1=int(num1)\n",
    "            num2=int(num2)\n",
    "            if(0<=num1<=24 and 0<=num2<=24):\n",
    "                #op=False\n",
    "                runtime.pop(i-1)\n",
    "                runtime.insert(i-1,[num1,num2])\n",
    "                print(runtime)\n",
    "                break\n",
    "        except:\n",
    "            print(f'잘못된 값을 입력하였습니다. 공백을 이용하여 두 수를 입력하여 주세요.')  \n",
    "\n",
    "def get_amount(x):\n",
    "    amount=runtime[x][1]-runtime[x][0]\n",
    "    if amount==0:\n",
    "        return 0\n",
    "    elif amount<0:\n",
    "        amount=amount+24\n",
    "    amount=amount*cost[x]\n",
    "    return int(amount)\n",
    "def get_am(x):\n",
    "    am=0\n",
    "    num2=runtime[x][1]\n",
    "    num1=runtime[x][0]\n",
    "    if num1<=12 and num2<=12:\n",
    "        if num2>num1:\n",
    "            am=num2-num1\n",
    "        elif num1>num2:\n",
    "            am=(12-num1)+num2\n",
    "        else:\n",
    "            am=0\n",
    "    elif num1 <=12 and num2>=13:\n",
    "        am=12-num1\n",
    "    elif num1>=13 and num2>=13:\n",
    "        if num1<num2:\n",
    "            am=0\n",
    "        elif num2<num1:\n",
    "            am=12\n",
    "        else:\n",
    "            am=0\n",
    "    elif num1>=12 and num2<=12:\n",
    "        am=num2\n",
    "    else:\n",
    "        am=0\n",
    "    return am\n",
    "def get_pm(x):\n",
    "    pm=0\n",
    "    num2=runtime[x][1]\n",
    "    num1=runtime[x][0]\n",
    "    if num1>=12 and num2>=12:\n",
    "        if num2>num1:\n",
    "            pm=num2-num1\n",
    "        elif num1>num2:\n",
    "            pm=(24-num1)+(num2-12)\n",
    "        else:\n",
    "            pm=0\n",
    "    elif num1 <= 12 and num2 >=13:\n",
    "        pm=num2-12\n",
    "    elif num1>13 and num2<=12:\n",
    "        pm=24-num1\n",
    "    else:\n",
    "        pm=0\n",
    "    return pm\n",
    "print(\"\\t전기료 예측,분석 프로그램 입니다.\\n\")\n",
    "while 1:\n",
    "    choice=input(\"(1):사용자 설정, (2):시나리오 예측, (3):옵션(미구현), (4)프로그램 종료 : \")\n",
    "    choice=check_num(choice,4)\n",
    "    print()\n",
    "    if choice==1: \n",
    "        while 1:\n",
    "            se_choice=input(\"(1):작동시간 설정, (2):제품 변경(미구현), (3):전기소모량 변경(미구현), (4):이전단계\")\n",
    "            se_choice=check_num(se_choice, 4)\n",
    "            print()\n",
    "            if se_choice==1: \n",
    "                print(\"(1):에어컨, (2):보일러, (3):컴퓨터, (4):밥솥, (5):TV\\n\")\n",
    "                s_co=True\n",
    "                while s_co:\n",
    "                    m_ch=input(\"시간설정 제품번호를 선택하세요.: \")\n",
    "                    m_ch=check_num(m_ch, 5)\n",
    "                    print()\n",
    "                    get_machine_time(m_ch)\n",
    "                    ex_ch=input(\"추가적인 제품을 선택하시겠습니까? [Y/N] :\")\n",
    "                    ex_ch=yes_or_no(ex_ch)\n",
    "                    if ex_ch=='Y'or ex_ch=='y':\n",
    "                        s_co=True\n",
    "                    else:\n",
    "                        s_co=False   \n",
    "            elif se_choice==4:\n",
    "                break\n",
    "    elif choice==2:\n",
    "        while 1:\n",
    "            tr_choice=input(\"(1):전기료 예측, (2):오전/오후 분석, (3):기간설정 요금(한달), (4):보고서 불러오기, (5):이전단계\")\n",
    "            tr_choice=check_num(tr_choice, 5)\n",
    "            if tr_choice==1:\n",
    "                print(\"현재 입력된 설정으로 전기료를 예측합니다.\")\n",
    "                time.sleep(2)\n",
    "                print_price()\n",
    "            elif tr_choice==2:\n",
    "                print(f'각 제품별로 분석을 실시합니다.\\n')\n",
    "                time.sleep(2)\n",
    "                sum_am=0\n",
    "                sum_pm=0 \n",
    "                data=\"오전 오후 분석 결과\"\n",
    "                for i in range(5):\n",
    "                    data+=(f'{machine[i]}의 오전 사용시간은 {get_am(i)}시간이고,오후 사용시간은 {get_pm(i)}시간 입니다.\\n\\n')   \n",
    "                    sum_am+=get_am(i)\n",
    "                    sum_pm+=get_pm(i)\n",
    "                data+=(f'오전 사용시간 : {sum_am}, 오후 사용시간 : {sum_pm}\\n')\n",
    "                print(data)\n",
    "                ch_report=input(\"현재의 결과를 보고서에 저장하시겠습니까?[Y/N] : \")\n",
    "                ch_report=yes_or_no(ch_report)\n",
    "                if ch_report=='Y'or ch_report=='y':\n",
    "                    save_report(data,report_sava_time)\n",
    "                    report_sava_time+=1\n",
    "                else:\n",
    "                    continue              \n",
    "            elif tr_choice==3:\n",
    "                print()\n",
    "                day=input(\"현재 상태에서 한달안에 사용될 가상의 사용일을 입력하세요( 최대 : 365 ) ) : \\n\")\n",
    "                day=check_num(day,365)\n",
    "                total_amount=0\n",
    "                for i in range(5):\n",
    "                    total_amount+=get_amount(i)               \n",
    "                final_amount=total_amount*day\n",
    "                a,b,result=ele_price(final_amount)\n",
    "                print(f'30일동안 현재 사용량 기준{day}일 사용시 소모전력량은 \"{final_amount}\"kwh 이며, 청구액은 \"{result}\"원 입니다.\\n')   \n",
    "            elif tr_choice==4:\n",
    "                f=open(\"전기료 예측 분석 보고서.txt\",'r')\n",
    "                data=f.read()\n",
    "                print(data)\n",
    "                f.close()\n",
    "            elif tr_choice==5:\n",
    "                break\n",
    "    elif choice==3:\n",
    "        while 1:\n",
    "            fo_choice=input(\"(1):수급자 여부(미구현), (2):이전 메뉴\")\n",
    "            fo_choice=check_num(fo_choice, 2)\n",
    "            if fo_choice==1:\n",
    "                discount=input(\"수급자 [Y/N] : \")\n",
    "                discount=yes_or_no(discount)\n",
    "                if discount=='Y' or discount=='y':\n",
    "                    discount=0.7\n",
    "                else:\n",
    "                    discount=1\n",
    "    elif choice==4:\n",
    "        break"
   ]
  },
  {
   "cell_type": "code",
   "execution_count": 19,
   "id": "b1018363",
   "metadata": {},
   "outputs": [
    {
     "name": "stdout",
     "output_type": "stream",
     "text": [
      "의 오전 사용시간은 시간이고,오후 사용시간은 시간 입니다.\n",
      "의 오전 사용시간은시간이고,오후 사용시간은오전 사용시간 : {1}, 오후 사용시간 : {5}오전 사용시간 : {1}, 오후 사용시간 : {5}의 오전 사용시간은 시간이고,오후 사용시간은 시간 입니다.\n",
      "의 오전 사용시간은시간이고,오후 사용시간은오전 사용시간 : {1}, 오후 사용시간 : {5}오전 사용시간 : {1}, 오후 사용시간 : {5}의 오전 사용시간은 시간이고,오후 사용시간은 시간 입니다.\n",
      "의 오전 사용시간은시간이고,오후 사용시간은오전 사용시간 : {1}, 오후 사용시간 : {5}오전 사용시간 : {1}, 오후 사용시간 : {5}의 오전 사용시간은 시간이고,오후 사용시간은 시간 입니다.\n",
      "의 오전 사용시간은시간이고,오후 사용시간은오전 사용시간 : {1}, 오후 사용시간 : {5}오전 사용시간 : {1}, 오후 사용시간 : {5}의 오전 사용시간은 시간이고,오후 사용시간은 시간 입니다.\n",
      "의 오전 사용시간은시간이고,오후 사용시간은오전 사용시간 : {1}, 오후 사용시간 : {5}오전 사용시간 : {1}, 오후 사용시간 : {5}\n"
     ]
    }
   ],
   "source": [
    "sum_am=1\n",
    "sum_pm=5\n",
    "data=\"\"\n",
    "for i in range(5):\n",
    "    data+=(\"의 오전 사용시간은 시간이고,오후 사용시간은 시간 입니다.\\n\")   \n",
    "    data+=(\"의 오전 사용시간은시간이고,오후 사용시간은\")\n",
    "    data+=(\"오전 사용시간 : {%d}, 오후 사용시간 : {%d}\"%(sum_am,sum_pm))\n",
    "    data+=(\"오전 사용시간 : {%d}, 오후 사용시간 : {%d}\"%(sum_am,sum_pm))\n",
    "print(data)\n",
    "f=open(\"오전오후 분석.txt\",'w')\n",
    "f.write(data)\n",
    "f.close()"
   ]
  },
  {
   "cell_type": "code",
   "execution_count": null,
   "id": "301eb8ef",
   "metadata": {},
   "outputs": [],
   "source": [
    "for i in range(5)"
   ]
  },
  {
   "cell_type": "code",
   "execution_count": 75,
   "id": "29d4af6f",
   "metadata": {},
   "outputs": [
    {
     "ename": "SyntaxError",
     "evalue": "invalid syntax (Temp/ipykernel_5684/1728095353.py, line 3)",
     "output_type": "error",
     "traceback": [
      "\u001b[1;36m  File \u001b[1;32m\"C:\\Users\\qkrrh\\AppData\\Local\\Temp/ipykernel_5684/1728095353.py\"\u001b[1;36m, line \u001b[1;32m3\u001b[0m\n\u001b[1;33m    elif tr_choice==1:\u001b[0m\n\u001b[1;37m    ^\u001b[0m\n\u001b[1;31mSyntaxError\u001b[0m\u001b[1;31m:\u001b[0m invalid syntax\n"
     ]
    }
   ],
   "source": [
    "  while 1:\n",
    "            tr_choice=int(input(\"(1):전기료 예측, (2):오전/오후 분석, (3):기간설정 요금, (4):이전단계\"))\n",
    "            elif tr_choice==1:\n",
    "                print(\"현재 입력된 설정으로 전기료를 예측합니다.\")\n",
    "                print_price()\n",
    "            elif tr_choice==2:\n",
    "                print(f'각 제품별로 분석을 실시합니다.')\n",
    "                sum_am=0\n",
    "                sum_pm=0\n",
    "                for i in range(5):\n",
    "                    print(f'{machine[i]}의 오전 사용시간은 {get_am(i)}시간이고,오후 사용시간은 {get_pm(i)}시간 입니다.')   \n",
    "                    sum_am+=get_am(i)\n",
    "                    sum_pm+=get_pm(i)\n",
    "                print(f'오전 사용시간 : {sum_am}, 오후 사용시간 : {sum_pm}')\n",
    "            elif tr_choice==3:\n",
    "                break\n",
    "            elif tr_choice==4:\n",
    "                break"
   ]
  },
  {
   "cell_type": "code",
   "execution_count": 46,
   "id": "85681cc0",
   "metadata": {},
   "outputs": [
    {
     "name": "stdout",
     "output_type": "stream",
     "text": [
      "10270\n"
     ]
    }
   ],
   "source": [
    "def ele_price(x):\n",
    "    if x==0:\n",
    "        return print(\"사용량이 없습니다.\")\n",
    "    elif x <=200:\n",
    "        b=910\n",
    "        y=88.3\n",
    "        tmp_result=b+int(x*y)+eco_price(x)\n",
    "    elif 200<x<=400:\n",
    "        b=1600\n",
    "        y=182.9\n",
    "        tmp_result= b+int((x-200)*y)+int(200*88.3)+eco_price(x)\n",
    "    elif 400<x<=1000:\n",
    "        b=7300\n",
    "        y=275.6\n",
    "        tmp_result= b+int((x-400)*y)+int(200*182.9)+int(200*88.3)+eco_price(x)\n",
    "    else:\n",
    "        y=704.5\n",
    "        tmp_result= int((x-1000)*704.5)+int(600*275.6)+int(200*182.9)+int(200*88.3)+eco_price(x)     \n",
    "    tex=tex_price(tmp_result)\n",
    "    result=tmp_result+tex\n",
    "    temp=result\n",
    "    temp=temp%10\n",
    "    result=result-temp\n",
    "    return tmp_result, tex, result\n",
    "price,tex,result=ele_price(100)\n",
    "print(price)"
   ]
  },
  {
   "cell_type": "code",
   "execution_count": 35,
   "id": "32ae86fc",
   "metadata": {
    "scrolled": true
   },
   "outputs": [
    {
     "name": "stdout",
     "output_type": "stream",
     "text": [
      "8\n",
      "11\n",
      "11\n",
      "0\n",
      "0\n"
     ]
    }
   ],
   "source": [
    "machine=[\"에어컨\",\"보일러\",\"컴퓨터\",\"밥솥\",\"TV\"]\n",
    "runtime=[[10,20],[6,23],[2,23],[3,10],[5,8]]\n",
    "cost=[2,4.5,0.85,1.077,2.2]\n",
    "\n",
    "def get_pm(x):\n",
    "    pm=0\n",
    "    num2=runtime[x][1]\n",
    "    num1=runtime[x][0]\n",
    "    if num1>=12 and num2>=12:\n",
    "        if num2>num1:\n",
    "            pm=num2-num1\n",
    "        elif num1>num2:\n",
    "            pm=(24-num1)+(num2-12)\n",
    "        else:\n",
    "            pm=0\n",
    "    elif num1 <= 12 and num2 >=13:\n",
    "        pm=num2-12\n",
    "    else:\n",
    "        pm=0\n",
    "    return pm\n",
    "for i in range(5):\n",
    "    print(get_pm(i))"
   ]
  },
  {
   "cell_type": "code",
   "execution_count": 17,
   "id": "8e16165a",
   "metadata": {},
   "outputs": [
    {
     "name": "stdout",
     "output_type": "stream",
     "text": [
      "2\n",
      "15\n"
     ]
    },
    {
     "data": {
      "text/plain": [
       "10"
      ]
     },
     "execution_count": 17,
     "metadata": {},
     "output_type": "execute_result"
    }
   ],
   "source": [
    "runtime=[[2,15]]\n",
    "def get_am(x):\n",
    "    am=0\n",
    "    num2=runtime[x][1]\n",
    "    num1=runtime[x][0]\n",
    "    print(num1)\n",
    "    print(num2)\n",
    "    if num1<=12 and num2<=12:\n",
    "        if num2>num1:\n",
    "            am=num2-num1\n",
    "        elif num1>num2:\n",
    "            am=(12-num1)+num2\n",
    "        else:\n",
    "            am=0\n",
    "    elif num1 <=12 and num2>=13:\n",
    "        am=12-num1\n",
    "    else:\n",
    "        am=0\n",
    "    return am\n",
    "get_am(0)"
   ]
  },
  {
   "cell_type": "code",
   "execution_count": 18,
   "id": "b98718d7",
   "metadata": {},
   "outputs": [
    {
     "name": "stdout",
     "output_type": "stream",
     "text": [
      "15\n",
      "13\n"
     ]
    },
    {
     "data": {
      "text/plain": [
       "10"
      ]
     },
     "execution_count": 18,
     "metadata": {},
     "output_type": "execute_result"
    }
   ],
   "source": [
    "runtime=[[15, 13]]\n",
    "def get_am(x):\n",
    "    pm=0\n",
    "    num2=runtime[x][1]\n",
    "    num1=runtime[x][0]\n",
    "    print(num1)\n",
    "    print(num2)\n",
    "    if num1>=12 and num2>=12:\n",
    "        if num2>num1:\n",
    "            pm=num2-num1\n",
    "        elif num1>num2:\n",
    "            pm=(24-num1)+(num2-12)\n",
    "        else:\n",
    "            pm=0\n",
    "    elif num1 <= 12 and num2 >=13:\n",
    "        pm=num2-12\n",
    "    else:\n",
    "        pm=0\n",
    "    return pm\n",
    "get_am(0)"
   ]
  },
  {
   "cell_type": "code",
   "execution_count": null,
   "id": "604db659",
   "metadata": {},
   "outputs": [],
   "source": []
  },
  {
   "cell_type": "code",
   "execution_count": 39,
   "id": "3d2ebb48",
   "metadata": {},
   "outputs": [
    {
     "data": {
      "text/plain": [
       "42"
      ]
     },
     "execution_count": 39,
     "metadata": {},
     "output_type": "execute_result"
    }
   ],
   "source": [
    "machine=[\"에어컨\",\"보일러\",\"컴퓨터\",\"밥솥\",\"TV\"]\n",
    "runtime=[[10,8],[0,0],[0,0],[0,0],[0,0]]\n",
    "cost=[1.91,4.5,0.85,1.077,2.2]\n",
    "def get_amount(x):\n",
    "    x-=1\n",
    "    amount=runtime[x][1]-runtime[x][0]\n",
    "    if amount<0:\n",
    "        amount=amount+24\n",
    "    amount=amount*cost[x]\n",
    "    return int(amount)\n",
    "get_amount(1)"
   ]
  },
  {
   "cell_type": "code",
   "execution_count": null,
   "id": "c340b307",
   "metadata": {},
   "outputs": [],
   "source": []
  },
  {
   "cell_type": "code",
   "execution_count": 35,
   "id": "a20e201a",
   "metadata": {},
   "outputs": [
    {
     "data": {
      "text/plain": [
       "6"
      ]
     },
     "execution_count": 35,
     "metadata": {},
     "output_type": "execute_result"
    }
   ],
   "source": [
    "runtime=[[1,2],[10,8],[5,6],[24,6],[9,10]]\n",
    "\n",
    "def get_amount(x):\n",
    "    x-=1\n",
    "    amount=runtime[x][1]-runtime[x][0]\n",
    "    if amount<0:\n",
    "        amount=amount+24\n",
    "    return amount\n",
    "get_amount(4)"
   ]
  },
  {
   "cell_type": "code",
   "execution_count": null,
   "id": "002d306a",
   "metadata": {},
   "outputs": [],
   "source": [
    "import time\n",
    "time.slow(1)\n",
    "print(1)"
   ]
  },
  {
   "cell_type": "code",
   "execution_count": null,
   "id": "a4bb61e4",
   "metadata": {},
   "outputs": [
    {
     "name": "stdout",
     "output_type": "stream",
     "text": [
      "(1):전자제품 작동 시간 설정 (2):전기료 예측 (3):시나리오로 저장 (4):분석 (5):이전 단계1\n",
      "14\n",
      "(1):전자제품 작동 시간 설정 (2):전기료 예측 (3):시나리오로 저장 (4):분석 (5):이전 단계7\n",
      "14\n",
      "(1):전자제품 작동 시간 설정 (2):전기료 예측 (3):시나리오로 저장 (4):분석 (5):이전 단계1\n",
      "14\n",
      "(1):전자제품 작동 시간 설정 (2):전기료 예측 (3):시나리오로 저장 (4):분석 (5):이전 단계2\n",
      "14\n",
      "(1):전자제품 작동 시간 설정 (2):전기료 예측 (3):시나리오로 저장 (4):분석 (5):이전 단계3\n",
      "14\n",
      "(1):전자제품 작동 시간 설정 (2):전기료 예측 (3):시나리오로 저장 (4):분석 (5):이전 단계4\n",
      "14\n",
      "(1):전자제품 작동 시간 설정 (2):전기료 예측 (3):시나리오로 저장 (4):분석 (5):이전 단계5\n",
      "14\n",
      "(1):전자제품 작동 시간 설정 (2):전기료 예측 (3):시나리오로 저장 (4):분석 (5):이전 단계a\n",
      "잘못된 값을 입력하였습니다. 1~5사이의 숫자를 입력해 주세요.\n",
      "(1):전자제품 작동 시간 설정 (2):전기료 예측 (3):시나리오로 저장 (4):분석 (5):이전 단계a\n",
      "잘못된 값을 입력하였습니다. 1~5사이의 숫자를 입력해 주세요.\n"
     ]
    }
   ],
   "source": [
    "while 1:\n",
    "    try:\n",
    "        se_choice=int(input(\"(1):전자제품 작동 시간 설정 (2):전기료 예측 (3):시나리오로 저장 (4):분석 (5):이전 단계\"))\n",
    "        if se_choice<0 or se_choice>5:\n",
    "            print(f'잘못된 값을 입력하였습니다. 1~5사이의 숫자를 입력해 주세요.')         \n",
    "    except:\n",
    "        print(f'잘못된 값을 입력하였습니다. 1~5사이의 숫자를 입력해 주세요.')   \n",
    "        \n",
    "        "
   ]
  },
  {
   "cell_type": "code",
   "execution_count": 11,
   "id": "f2d94507",
   "metadata": {},
   "outputs": [
    {
     "name": "stdout",
     "output_type": "stream",
     "text": [
      "2\n",
      "3\n",
      "4\n",
      "5\n"
     ]
    },
    {
     "ename": "IndexError",
     "evalue": "list index out of range",
     "output_type": "error",
     "traceback": [
      "\u001b[1;31m---------------------------------------------------------------------------\u001b[0m",
      "\u001b[1;31mIndexError\u001b[0m                                Traceback (most recent call last)",
      "\u001b[1;32m~\\AppData\\Local\\Temp/ipykernel_12912/1807520735.py\u001b[0m in \u001b[0;36m<module>\u001b[1;34m\u001b[0m\n\u001b[0;32m      3\u001b[0m     \u001b[1;32mfor\u001b[0m \u001b[0mi\u001b[0m \u001b[1;32min\u001b[0m \u001b[0mlist\u001b[0m\u001b[1;33m:\u001b[0m\u001b[1;33m\u001b[0m\u001b[1;33m\u001b[0m\u001b[0m\n\u001b[0;32m      4\u001b[0m         \u001b[0mprint\u001b[0m\u001b[1;33m(\u001b[0m\u001b[0mlist\u001b[0m\u001b[1;33m[\u001b[0m\u001b[0mi\u001b[0m\u001b[1;33m]\u001b[0m\u001b[1;33m)\u001b[0m\u001b[1;33m\u001b[0m\u001b[1;33m\u001b[0m\u001b[0m\n\u001b[1;32m----> 5\u001b[1;33m \u001b[0mprint_list\u001b[0m\u001b[1;33m(\u001b[0m\u001b[0mlist\u001b[0m\u001b[1;33m)\u001b[0m\u001b[1;33m\u001b[0m\u001b[1;33m\u001b[0m\u001b[0m\n\u001b[0m",
      "\u001b[1;32m~\\AppData\\Local\\Temp/ipykernel_12912/1807520735.py\u001b[0m in \u001b[0;36mprint_list\u001b[1;34m(list)\u001b[0m\n\u001b[0;32m      2\u001b[0m \u001b[1;32mdef\u001b[0m \u001b[0mprint_list\u001b[0m\u001b[1;33m(\u001b[0m\u001b[0mlist\u001b[0m\u001b[1;33m)\u001b[0m\u001b[1;33m:\u001b[0m\u001b[1;33m\u001b[0m\u001b[1;33m\u001b[0m\u001b[0m\n\u001b[0;32m      3\u001b[0m     \u001b[1;32mfor\u001b[0m \u001b[0mi\u001b[0m \u001b[1;32min\u001b[0m \u001b[0mlist\u001b[0m\u001b[1;33m:\u001b[0m\u001b[1;33m\u001b[0m\u001b[1;33m\u001b[0m\u001b[0m\n\u001b[1;32m----> 4\u001b[1;33m         \u001b[0mprint\u001b[0m\u001b[1;33m(\u001b[0m\u001b[0mlist\u001b[0m\u001b[1;33m[\u001b[0m\u001b[0mi\u001b[0m\u001b[1;33m]\u001b[0m\u001b[1;33m)\u001b[0m\u001b[1;33m\u001b[0m\u001b[1;33m\u001b[0m\u001b[0m\n\u001b[0m\u001b[0;32m      5\u001b[0m \u001b[0mprint_list\u001b[0m\u001b[1;33m(\u001b[0m\u001b[0mlist\u001b[0m\u001b[1;33m)\u001b[0m\u001b[1;33m\u001b[0m\u001b[1;33m\u001b[0m\u001b[0m\n",
      "\u001b[1;31mIndexError\u001b[0m: list index out of range"
     ]
    }
   ],
   "source": [
    "list=[1,2,3,4,5]\n",
    "def print_list(list):\n",
    "    for i in list:\n",
    "        print(list[i])\n",
    "print_list(list)"
   ]
  },
  {
   "cell_type": "code",
   "execution_count": 10,
   "id": "ab046bd9",
   "metadata": {},
   "outputs": [
    {
     "name": "stdout",
     "output_type": "stream",
     "text": [
      "15\n",
      "None\n"
     ]
    }
   ],
   "source": [
    "def check_num(x):\n",
    "    if chr(48)<=x<=chr(57):\n",
    "        True\n",
    "    else:\n",
    "        False \n",
    "print(check_num(input()))"
   ]
  },
  {
   "cell_type": "code",
   "execution_count": 125,
   "id": "022cb37a",
   "metadata": {},
   "outputs": [
    {
     "ename": "TypeError",
     "evalue": "an integer is required (got type str)",
     "output_type": "error",
     "traceback": [
      "\u001b[1;31m---------------------------------------------------------------------------\u001b[0m",
      "\u001b[1;31mTypeError\u001b[0m                                 Traceback (most recent call last)",
      "\u001b[1;32m~\\AppData\\Local\\Temp/ipykernel_20636/3032439006.py\u001b[0m in \u001b[0;36m<module>\u001b[1;34m\u001b[0m\n\u001b[1;32m----> 1\u001b[1;33m \u001b[0mchr\u001b[0m\u001b[1;33m(\u001b[0m\u001b[1;34m\"A\"\u001b[0m\u001b[1;33m)\u001b[0m\u001b[1;33m\u001b[0m\u001b[1;33m\u001b[0m\u001b[0m\n\u001b[0m",
      "\u001b[1;31mTypeError\u001b[0m: an integer is required (got type str)"
     ]
    }
   ],
   "source": [
    "chr(\"A\")"
   ]
  },
  {
   "cell_type": "code",
   "execution_count": 1,
   "id": "ed0962a6",
   "metadata": {
    "scrolled": true
   },
   "outputs": [
    {
     "name": "stdout",
     "output_type": "stream",
     "text": [
      "11111\n",
      "전기요금:7401687 부가세:740168, 기반기금:273860, 세금총액:1014028, 청구액:8415710\n"
     ]
    }
   ],
   "source": [
    "def tex_price(x):   \n",
    "    result=int(x*0.1)    #부가세\n",
    "    result1=int(x*0.037) #기반기금\n",
    "    temp=result1\n",
    "    temp=temp%10\n",
    "    result1=result1-temp\n",
    "    print(f'부가세:{result},',end=' ')\n",
    "    print(f'기반기금:{result1},',end=' ')\n",
    "    print(f'세금총액:{result+result1},',end=' ')\n",
    "    return result+result1\n",
    "def eco_price(x):\n",
    "    return int(x*5.3)\n",
    "def ele_price(x):\n",
    "    if x <=200:\n",
    "        b=910\n",
    "        y=88.3\n",
    "        result=b+int(x*y)+eco_price(x)\n",
    "    elif 200<x<=400:\n",
    "        b=1600\n",
    "        y=182.9\n",
    "        result= b+int((x-200)*y)+int(200*88.3)+eco_price(x)\n",
    "    elif 400<x<=1000:\n",
    "        b=7300\n",
    "        y=275.6\n",
    "        result= b+int((x-400)*y)+int(200*182.9)+int(200*88.3)+eco_price(x)\n",
    "    else:\n",
    "        y=704.5\n",
    "        result= int((x-1000)*704.5)+int(600*275.6)+int(200*182.9)+int(200*88.3)+eco_price(x)     \n",
    "    print(f'전기요금:{result}',end=' ')\n",
    "    result=result+tex_price(result)\n",
    "    temp=result\n",
    "    temp=temp%10\n",
    "    return result-temp\n",
    "price=0\n",
    "ele_amount=int(input())\n",
    "print(f'청구액:{ele_price(ele_amount)}')\n",
    "\n"
   ]
  }
 ],
 "metadata": {
  "kernelspec": {
   "display_name": "Python 3 (ipykernel)",
   "language": "python",
   "name": "python3"
  },
  "language_info": {
   "codemirror_mode": {
    "name": "ipython",
    "version": 3
   },
   "file_extension": ".py",
   "mimetype": "text/x-python",
   "name": "python",
   "nbconvert_exporter": "python",
   "pygments_lexer": "ipython3",
   "version": "3.8.12"
  }
 },
 "nbformat": 4,
 "nbformat_minor": 5
}
