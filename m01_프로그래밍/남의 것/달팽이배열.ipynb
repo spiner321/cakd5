{
 "cells": [
  {
   "cell_type": "code",
   "execution_count": 60,
   "id": "0557264f",
   "metadata": {
    "scrolled": true
   },
   "outputs": [
    {
     "name": "stdout",
     "output_type": "stream",
     "text": [
      "  0   1   2   3   4   5   6   7   8   9 \n",
      " 35  36  37  38  39  40  41  42  43  10 \n",
      " 34  63  64  65  66  67  68  69  44  11 \n",
      " 33  62  83  84  85  86  87  70  45  12 \n",
      " 32  61  82  95  96  97  88  71  46  13 \n",
      " 31  60  81  94  99  98  89  72  47  14 \n",
      " 30  59  80  93  92  91  90  73  48  15 \n",
      " 29  58  79  78  77  76  75  74  49  16 \n",
      " 28  57  56  55  54  53  52  51  50  17 \n",
      " 27  26  25  24  23  22  21  20  19  18 \n"
     ]
    }
   ],
   "source": [
    "\n",
    "a=10   #배열 길이 입력\n",
    "\n",
    "size=[[0 for i in range(a)]for i in range(a)]\n",
    "cnt=0\n",
    "x=0\n",
    "y=0\n",
    "turn=-1\n",
    "rule=0\n",
    "n=0\n",
    "def tc():\n",
    "    global rule\n",
    "    global turn\n",
    "    if rule>=2 and rule%2==0:turn-=1\n",
    "    rule+=1\n",
    "    \n",
    "for i in range(a+turn):\n",
    "    x=x\n",
    "    y=y+1\n",
    "    cnt+=1\n",
    "    size[x][y]=cnt\n",
    "    \n",
    "while n<a:\n",
    "    n+=1\n",
    "\n",
    "    tc()\n",
    "    for i in range(a+turn):\n",
    "        x=x+1\n",
    "        y=y\n",
    "        cnt+=1\n",
    "        size[x][y]=cnt\n",
    "        \n",
    "    tc()\n",
    "    for l in range(a+turn):\n",
    "        x= x\n",
    "        y= y-1\n",
    "        cnt+=1\n",
    "        size[x][y]=cnt\n",
    "\n",
    "    tc()\n",
    "    for m in range(a+turn):\n",
    "        x=x-1\n",
    "        y=y\n",
    "        cnt+=1\n",
    "        size[x][y]=cnt\n",
    "        \n",
    "    tc()\n",
    "    for i in range(a+turn):\n",
    "        x=x\n",
    "        y=y+1\n",
    "        cnt+=1\n",
    "        size[x][y]=cnt\n",
    "    \n",
    "for i in size:\n",
    "    for j in i:\n",
    "        print (f'{j:3d}', end=' ')\n",
    "    print()\n",
    "\n",
    "\n",
    "\n",
    "\n"
   ]
  },
  {
   "cell_type": "code",
   "execution_count": null,
   "id": "91699723",
   "metadata": {},
   "outputs": [],
   "source": []
  }
 ],
 "metadata": {
  "kernelspec": {
   "display_name": "Python 3",
   "language": "python",
   "name": "python3"
  },
  "language_info": {
   "codemirror_mode": {
    "name": "ipython",
    "version": 3
   },
   "file_extension": ".py",
   "mimetype": "text/x-python",
   "name": "python",
   "nbconvert_exporter": "python",
   "pygments_lexer": "ipython3",
   "version": "3.8.10"
  }
 },
 "nbformat": 4,
 "nbformat_minor": 5
}
