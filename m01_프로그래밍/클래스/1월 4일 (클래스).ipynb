{
 "cells": [
  {
   "cell_type": "markdown",
   "id": "830351f5",
   "metadata": {},
   "source": [
    "### 클래스\n",
    "    \n",
    "클래스(class)란 똑같은 무엇인가를 계속해서 만들어 낼 수 있는 설계 도면이고(과자 틀), 객체(object)란 클래스로 만든 피조물(과자 틀을 사용해 만든 과자)을 뜻한다.\n",
    "과자 틀 → 클래스 (class)\n",
    "과자 틀에 의해서 만들어진 과자 → 객체 (object)\n",
    "\n",
    "- class : 함수 + 변수 모아놓은 것\n",
    "- 오브젝트(object) : 클래스를 써서 만든 것\n",
    "- 오브젝트(object) == 인스턴스(instance)\n",
    "- 클래스를 정의한 후, 그 클래스를 사용해서 데이터 객체(인스턴스)를 만들 수 있다.\n",
    "- 동일한 클래스에 의해 만들어진 각 객체들은 유사한 특징을 공유한다.\n",
    "- 모든 인스턴스에서 메소드(=코드)는 동일하지만, 속성(데이터)는 다르다.\n",
    "    - 메소드 : 코드\n",
    "    - 속성 : 데이터\n",
    "    - 인스턴스 : 클래스에 의해 만들어진 데이터 객체\n",
    "    - a = 클래스() 이렇게 만든 a는 객체이다. 그리고 a 객체는 클래스의 인스턴스이다. 즉 인스턴스라는 말은 특정 객체(a)가 어떤 클래스의 객체인지를 관계 위주로 설명할 때 사용\n"
   ]
  },
  {
   "cell_type": "code",
   "execution_count": 142,
   "id": "fb38c57d",
   "metadata": {},
   "outputs": [
    {
     "name": "stdout",
     "output_type": "stream",
     "text": [
      "김기현은 33세이며 culinary을/를 전공했습니다.\n",
      "김기현\n",
      "33\n",
      "culinary\n"
     ]
    }
   ],
   "source": [
    "# 클래스 생성자(인자가 있는 경우)\n",
    "\n",
    "class Cakd:\n",
    "    def __init__(self, name, age, major):\n",
    "        self.name = name\n",
    "        self.age = age\n",
    "        self.major = major\n",
    "        print(f'{self.name}은 {self.age}세이며 {self.major}을/를 전공했습니다.')\n",
    "\n",
    "K = Cakd('김기현', 33, 'culinary')\n",
    "print(K.name)\n",
    "print(K.age)\n",
    "print(K.major)"
   ]
  },
  {
   "cell_type": "code",
   "execution_count": 28,
   "id": "ef8a9420",
   "metadata": {},
   "outputs": [
    {
     "name": "stdout",
     "output_type": "stream",
     "text": [
      "Cakd 인스턴스 객체가 메모리에서 제거됩니다.\n"
     ]
    }
   ],
   "source": [
    "# 클래스 소멸자\n",
    "# 클래스 인스턴트 객체가 메모리에서 제거될 때 자동으로 호출되는 클래스 메소드\n",
    "\n",
    "class Cakd:\n",
    "    def __del__(self):\n",
    "        print('Cakd 인스턴스 객체가 메모리에서 제거됩니다.')\n",
    "        \n",
    "obj = Cakd()\n",
    "del obj"
   ]
  },
  {
   "cell_type": "markdown",
   "id": "b1bfd5f9",
   "metadata": {},
   "source": [
    "## 클래스 멤버, 클래스 메소드\n",
    "\n",
    "- 클래스를 구성하는 주요 요소는 클래스 멤버(변수)와 클래스 메소드 (함수)로 클래스 공간내에서 정의\n",
    "- 클래스 멤버는 클래스 메소드 내에서 정의되는 지역변수나 인스턴스 멤버와는 다름\n",
    "- 클래스 메소드는 첫번째 인자가 반드시 self로 시작한다.\n",
    "- self는 이 클래스의 인스턴스 객체를 가지는 가리키는 참조자\n",
    "- 인스턴스 객체에서 클래스 메소드를 호출 시 첫번째 인자인 self생략"
   ]
  },
  {
   "cell_type": "code",
   "execution_count": 8,
   "id": "5663099b",
   "metadata": {},
   "outputs": [
    {
     "name": "stdout",
     "output_type": "stream",
     "text": [
      "안녕하세요\n",
      "안녕하세요\n"
     ]
    }
   ],
   "source": [
    "class MyClass:\n",
    "    var = '안녕하세요' # 클래스 멤버\n",
    "    def sayHello(self): # 클래스 메소드\n",
    "        return self.var\n",
    "\n",
    "obj = MyClass() # 객체\n",
    "print(obj.var)\n",
    "print(obj.sayHello())"
   ]
  },
  {
   "cell_type": "code",
   "execution_count": 82,
   "id": "d4fff5d4",
   "metadata": {},
   "outputs": [
    {
     "name": "stdout",
     "output_type": "stream",
     "text": [
      "안녕하세요\n",
      "안녕\n",
      "안녕하세요\n",
      "\n",
      "안녕\n",
      "안녕하세요\n",
      "None\n"
     ]
    }
   ],
   "source": [
    "# 클래스 멤버와 인스턴스 멤버\n",
    "# 클래스 멤버는 클래스 메소드 바깥에서 선언되고 인스턴스 멤버는 클래스 메소드 안에서 self와 함께 선언\n",
    "\n",
    "class MyClass:\n",
    "    var = '안녕하세요' # 클래스 멤버\n",
    "    def sayHello(self): # 클래스 메소드\n",
    "        param1 = '안녕'  # 지역 변수\n",
    "        self.param2 = '하이' # 인스턴스 멤버\n",
    "        print(param1)\n",
    "        print(self.var)\n",
    "        \n",
    "obj = MyClass()\n",
    "print(obj.var)\n",
    "obj.sayHello()\n",
    "print()\n",
    "print(obj.sayHello())"
   ]
  },
  {
   "cell_type": "code",
   "execution_count": 3,
   "id": "ac548139",
   "metadata": {},
   "outputs": [
    {
     "name": "stdout",
     "output_type": "stream",
     "text": [
      "안녕\n",
      "안녕하세요\n",
      "None\n"
     ]
    }
   ],
   "source": [
    "class MyClass:\n",
    "    var = '안녕하세요' # 클래스 멤버\n",
    "    def sayHello(self): # 클래스 메소드\n",
    "        param1 = '안녕'  # 지역 변수\n",
    "        self.param2 = '하이' # 인스턴스 멤버\n",
    "        print(param1)\n",
    "        print(self.var)\n",
    "        \n",
    "        \n",
    "obj = MyClass()\n",
    "obj.sayHello()\n"
   ]
  },
  {
   "cell_type": "code",
   "execution_count": 8,
   "id": "5662416b",
   "metadata": {},
   "outputs": [
    {
     "name": "stdout",
     "output_type": "stream",
     "text": [
      "안녕하세요\n",
      "김기현! 다음에 보자\n"
     ]
    }
   ],
   "source": [
    "# 클래스 메소드\n",
    "# 클래스 내에서 정의되는 클래스 메소드는 첫번째 인자가 반드시 self여야 한다.\n",
    "\n",
    "class MyClass:\n",
    "    def sayHello(self):\n",
    "        print('안녕하세요')\n",
    "    def sayBye(self, name):\n",
    "        print(f'{name}! 다음에 보자')\n",
    "               \n",
    "obj = MyClass()\n",
    "obj.sayHello()\n",
    "obj.sayBye('김기현')"
   ]
  },
  {
   "cell_type": "markdown",
   "id": "2ca72e89",
   "metadata": {},
   "source": [
    "## 객체 지향 프로그래밍 (Object-Oriendted Programming)\n",
    "\n",
    "- 클래스 인스턴스는 객체(Object)라고도 하며 이렇게 클래스를 정의하고 객체를 만드는 패턴을 _객체 지향 프로그래밍(OOP)_ 이라고 함\n",
    "- 인스턴스를 불러온다느 것은 클래스를 가져와 객체로 바꿔준다는 의미인데 type() 함수를 사용하는 것은 그 반대\n",
    "- 객체의 type을 확인해혀 보면 해당 객체가 어떤 클래스의 인스턴스인지를 확인\n",
    "- 파이썬에서 main은 \"현재 실행중인 파일\"을 의미"
   ]
  },
  {
   "cell_type": "code",
   "execution_count": 14,
   "id": "f771f97d",
   "metadata": {},
   "outputs": [
    {
     "name": "stdout",
     "output_type": "stream",
     "text": [
      "<class '__main__.Test'>\n"
     ]
    }
   ],
   "source": [
    "# 임의의 클래스를 작성한 후 인스턴스를 생성하고 그것의 타입을 확인\n",
    "\n",
    "class Test:\n",
    "    pass\n",
    "\n",
    "test = Test()\n",
    "3print(type(test))"
   ]
  },
  {
   "cell_type": "markdown",
   "id": "597516f4",
   "metadata": {},
   "source": [
    "## 클래스 상속\n",
    "\n",
    "- 어떤 클래스가 가지고 있는 모든 멤버나 메소드에 대해서 상속받는 클래스가 모두 사용할 수 있도록 해주는 것)\n",
    "- 상속을 해주는 클래스가 부모클래스(슈퍼), 상속을 받는 클래스가 자식클래스(서브)라 함. class 자식클래스명(부모클래스)\n",
    "- 자식 클래스는 여러 부모클래스로부터 상속받을 수 있으며 다중상속이라 함. class 자식클래스명(부모클래스1, 부모클래스2, ...)"
   ]
  },
  {
   "cell_type": "code",
   "execution_count": 21,
   "id": "55ea408e",
   "metadata": {},
   "outputs": [
    {
     "name": "stdout",
     "output_type": "stream",
     "text": [
      "3\n",
      "6\n",
      "2\n"
     ]
    }
   ],
   "source": [
    "class Sum:\n",
    "    def sum(self, n1, n2):\n",
    "        return n1 + n2\n",
    "    \n",
    "class Mul:\n",
    "    def mul(self, n1, n2):\n",
    "        return n1 * n2\n",
    "\n",
    "class Cal(Sum, Mul):\n",
    "    def sub(self, n1, n2):\n",
    "        return n1 - n2\n",
    "    \n",
    "obj = Cal()\n",
    "print(obj.sum(1, 2))\n",
    "print(obj.mul(3, 2))\n",
    "print(obj.sub(5, 3))"
   ]
  },
  {
   "cell_type": "code",
   "execution_count": 42,
   "id": "73c685ed",
   "metadata": {},
   "outputs": [
    {
     "name": "stdout",
     "output_type": "stream",
     "text": [
      "k, 안녕하세요\n",
      "k! 다음에 보자\n"
     ]
    }
   ],
   "source": [
    "# 클래스 MyClass를 작성하고 객체를 생성하여 아래와 같이 출력하세요 (생성자 사용)\n",
    "# K, 안녕하세요.\n",
    "# K! 다음에 보자.\n",
    "\n",
    "class Cakd:\n",
    "    def __init__(self, name):\n",
    "        self.name = name\n",
    "        print(f'{name}, 안녕하세요')\n",
    "        print(f'{name}! 다음에 보자')\n",
    "\n",
    "obj = Cakd('k')"
   ]
  },
  {
   "cell_type": "code",
   "execution_count": 141,
   "id": "f8987f22",
   "metadata": {},
   "outputs": [
    {
     "ename": "TypeError",
     "evalue": "myclass() takes no arguments",
     "output_type": "error",
     "traceback": [
      "\u001b[1;31m---------------------------------------------------------------------------\u001b[0m",
      "\u001b[1;31mTypeError\u001b[0m                                 Traceback (most recent call last)",
      "\u001b[1;32m~\\AppData\\Local\\Temp/ipykernel_5916/1327301963.py\u001b[0m in \u001b[0;36m<module>\u001b[1;34m\u001b[0m\n\u001b[0;32m      4\u001b[0m         \u001b[0mprint\u001b[0m\u001b[1;33m(\u001b[0m\u001b[1;34mf'{name}! 다음에 보자'\u001b[0m\u001b[1;33m)\u001b[0m\u001b[1;33m\u001b[0m\u001b[1;33m\u001b[0m\u001b[0m\n\u001b[0;32m      5\u001b[0m \u001b[1;33m\u001b[0m\u001b[0m\n\u001b[1;32m----> 6\u001b[1;33m \u001b[0mobj\u001b[0m \u001b[1;33m=\u001b[0m \u001b[0mmyclass\u001b[0m\u001b[1;33m(\u001b[0m\u001b[1;34m'K'\u001b[0m\u001b[1;33m)\u001b[0m\u001b[1;33m\u001b[0m\u001b[1;33m\u001b[0m\u001b[0m\n\u001b[0m\u001b[0;32m      7\u001b[0m \u001b[1;31m# obj.say('K')\u001b[0m\u001b[1;33m\u001b[0m\u001b[1;33m\u001b[0m\u001b[1;33m\u001b[0m\u001b[0m\n",
      "\u001b[1;31mTypeError\u001b[0m: myclass() takes no arguments"
     ]
    }
   ],
   "source": [
    "class MyClass:\n",
    "    def say(self, name):\n",
    "        print(f'{name}, 안녕하세요')\n",
    "        print(f'{name}! 다음에 보자')\n",
    "        \n",
    "obj = myclass()\n",
    "obj.say('K')\n"
   ]
  },
  {
   "cell_type": "code",
   "execution_count": 35,
   "id": "19b3e136",
   "metadata": {},
   "outputs": [
    {
     "name": "stdout",
     "output_type": "stream",
     "text": [
      "박광민, 안녕하세요\n",
      "박광민, 다음에 보자\n"
     ]
    }
   ],
   "source": [
    "class MyClass:\n",
    "    def __init__(self, name):\n",
    "        self.name = name\n",
    "    def sayHello(self):\n",
    "        print(f'{self.name}, 안녕하세요')\n",
    "    def sayBye(self):\n",
    "        print(f'{self.name}, 다음에 보자')\n",
    "obj=MyClass('박광민')\n",
    "obj.sayHello()\n",
    "obj.sayBye()\n"
   ]
  }
 ],
 "metadata": {
  "kernelspec": {
   "display_name": "Python 3 (ipykernel)",
   "language": "python",
   "name": "python3"
  },
  "language_info": {
   "codemirror_mode": {
    "name": "ipython",
    "version": 3
   },
   "file_extension": ".py",
   "mimetype": "text/x-python",
   "name": "python",
   "nbconvert_exporter": "python",
   "pygments_lexer": "ipython3",
   "version": "3.8.12"
  }
 },
 "nbformat": 4,
 "nbformat_minor": 5
}
