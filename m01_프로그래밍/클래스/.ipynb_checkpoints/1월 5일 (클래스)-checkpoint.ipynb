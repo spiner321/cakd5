{
 "cells": [
  {
   "cell_type": "code",
   "execution_count": null,
   "id": "01260540",
   "metadata": {},
   "outputs": [],
   "source": [
    "# 기본가격 1000원인 3개의 상품에 대하여 임의의 추가 가격을 인수로 대입시 더한 가격을 산출하세요. (클래스 이용)\n",
    "\n",
    "class Order:\n",
    "    def __init__(self, a, b, c):\n",
    "        self.a = a\n",
    "        self.b = b\n",
    "        self.c = c\n",
    "        self.d = 1000\n",
    "    \n",
    "    def price_1(self):\n",
    "        result = self.a + self.d\n",
    "        return result\n",
    "    \n",
    "    def price_2(self):\n",
    "        result = self.b + self.d\n",
    "        return result\n",
    "    \n",
    "    def price_3(self):\n",
    "        result = self.c + self.d\n",
    "        return result\n",
    "    \n",
    "pd = Order(1000, 2000, 3000)\n",
    "\n",
    "print(pd.price_1(), pd.price_2(), pd.price_3())"
   ]
  },
  {
   "cell_type": "code",
   "execution_count": null,
   "id": "1504a2de",
   "metadata": {},
   "outputs": [],
   "source": [
    "class Order:\n",
    "    def __init__(self):\n",
    "        self.p = 1000\n",
    "        \n",
    "    def order(self, price):\n",
    "        self.p += price\n",
    "        return self.p\n",
    "    \n",
    "pd1 = Order()\n",
    "pd2 = Order()\n",
    "pd3 = Order()\n",
    "\n",
    "print(pd1.order(1000))\n",
    "print(pd2.order(2000))\n",
    "print(pd3.order(3000))"
   ]
  },
  {
   "cell_type": "code",
   "execution_count": null,
   "id": "41c4ce8b",
   "metadata": {},
   "outputs": [],
   "source": [
    "# 기본가격 1000원인 2개의 상품에 대하여 임의의 추가 가격을 입력시 아래 두개의 방식으로 산출하세요\n",
    "\n",
    "# price1 : 기본가격 + 추가가격\n",
    "# price2 : (기본가격 + 추가가격) * 90%\n",
    "\n",
    "class Order:\n",
    "    def __init__(self):\n",
    "        self.p = 1000\n",
    "        \n",
    "    def order_1(self, price):\n",
    "        return self.p + price\n",
    "    \n",
    "    def order_2(self, price):\n",
    "        return round((self.p + price) * 0.9)\n",
    "    \n",
    "while 1:\n",
    "    try:\n",
    "        num = int(input('추가 가격 : '))\n",
    "        \n",
    "        if num >= 0:\n",
    "            pd = Order()\n",
    "            print(f'가격 : {pd.order_1(num)}')\n",
    "            print(f'가격(할인) : {pd.order_2(num)}')\n",
    "        \n",
    "        else:\n",
    "            print('다시 입력해주세요')\n",
    "\n",
    "    except:\n",
    "        print('다시 입력해주세요')\n",
    "        \n",
    "    finally:\n",
    "        print()"
   ]
  },
  {
   "cell_type": "code",
   "execution_count": 67,
   "id": "e17a0f63",
   "metadata": {},
   "outputs": [
    {
     "name": "stdout",
     "output_type": "stream",
     "text": [
      "k : 1000\n"
     ]
    }
   ],
   "source": [
    "# 오버라이딩\n",
    "# Order 클래스를 상속받아 extraOrder 클래스에서 메소드 오버라이딩하여 출력가격에 원이 추가되도록 출력하세요.\n",
    "\n",
    "class Order:\n",
    "    def __init__(self, name):\n",
    "        self.customer = 0\n",
    "        self.name = name\n",
    "        \n",
    "    def order(self, price):\n",
    "        self.customer += price\n",
    "        return self.customer\n",
    "    \n",
    "class ExtraOrder(Order):\n",
    "    def order(self, price):\n",
    "        self.customer += price\n",
    "        return self.customer\n",
    "        \n",
    "# order = Order('kevin')\n",
    "# print(order.order(1000))\n",
    "\n",
    "# extra = ExtraOrder('k')\n",
    "# extra.order(1000)\n",
    "\n",
    "extra = ExtraOrder('k')\n",
    "print(order.name, ':', extra.order(1000))"
   ]
  },
  {
   "cell_type": "code",
   "execution_count": 42,
   "id": "1293dbcc",
   "metadata": {},
   "outputs": [
    {
     "data": {
      "text/plain": [
       "2"
      ]
     },
     "execution_count": 42,
     "metadata": {},
     "output_type": "execute_result"
    }
   ],
   "source": [
    "# 인터프리터에서 마지막 실행결과 갑승ㄹ 가지는 변수로 사용\n",
    "\n",
    "1 + 1\n",
    "_"
   ]
  },
  {
   "cell_type": "code",
   "execution_count": 44,
   "id": "3fc3af1c",
   "metadata": {},
   "outputs": [
    {
     "name": "stdout",
     "output_type": "stream",
     "text": [
      "hello world!\n",
      "hello world!\n",
      "hello world!\n",
      "hello world!\n",
      "hello world!\n",
      "\n",
      "0\n",
      "1\n",
      "2\n",
      "\n",
      "1 2\n"
     ]
    }
   ],
   "source": [
    "# 변수 값을 굳이 사용할 필요가 없는 경우\n",
    "\n",
    "for _ in range(5):\n",
    "    print('hello world!')\n",
    "print()\n",
    "for _ in range(3):\n",
    "    print(_)\n",
    "print()\n",
    "def value():\n",
    "    return (1, 2, 3, 4) # 튜플을 반환\n",
    "\n",
    "a, b, _, _ = value() # 반환된 튜플 값 중 2개만 필요\n",
    "print(a, b)"
   ]
  },
  {
   "cell_type": "code",
   "execution_count": 52,
   "id": "951fa8d4",
   "metadata": {},
   "outputs": [
    {
     "name": "stdout",
     "output_type": "stream",
     "text": [
      "<class '__main__.Order'>\n"
     ]
    }
   ],
   "source": [
    "# 예약어를 변수명으로 사용할 수 없는 경우\n",
    "\n",
    "class Order:\n",
    "    def __init__(self):\n",
    "        self.coffee = 'Americano'\n",
    "        self.price = 3000\n",
    "        \n",
    "def printClassName(class_):\n",
    "        print(class_)\n",
    "        \n",
    "order = Order()\n",
    "printClassName(order.__class__)"
   ]
  },
  {
   "cell_type": "code",
   "execution_count": 78,
   "id": "8aaf0083",
   "metadata": {},
   "outputs": [
    {
     "name": "stdout",
     "output_type": "stream",
     "text": [
      "abc\n"
     ]
    }
   ],
   "source": [
    "# 클래스 변수 : 인스턴스 변수와 달리 모든 인스턴스 사이에 공유된 값을 가진 변수\n",
    "\n",
    "class MyClass:\n",
    "    value = 'abc' # 클래스 변수를 선언\n",
    "    \n",
    "if __name__ == \"__main__\":\n",
    "    print(MyClass.value)"
   ]
  },
  {
   "cell_type": "code",
   "execution_count": 8,
   "id": "a979e765",
   "metadata": {},
   "outputs": [
    {
     "name": "stdout",
     "output_type": "stream",
     "text": [
      "1\n",
      "2\n",
      "3\n"
     ]
    }
   ],
   "source": [
    "# 인스턴스 변수를 생성할 때마다 value +1\n",
    "\n",
    "class MyClass:\n",
    "    value = 0 # 클래스 변수\n",
    "    def __init__(self):\n",
    "        MyClass.value += 1\n",
    "        \n",
    "if __name__ == \"__main__\":\n",
    "    a = MyClass() # 인스턴스 a 생성\n",
    "    print(MyClass.value)\n",
    "    b = MyClass() # 인스턴스 b 생성\n",
    "    print(MyClass.value)\n",
    "    c = MyClass() # 인스턴스 c 생성\n",
    "    print(MyClass.value)"
   ]
  },
  {
   "cell_type": "code",
   "execution_count": 74,
   "id": "6ab4f15f",
   "metadata": {},
   "outputs": [
    {
     "name": "stdout",
     "output_type": "stream",
     "text": [
      "1 honux\n",
      "2 honux\n"
     ]
    }
   ],
   "source": [
    "# 인스턴스 변수\n",
    "\n",
    "class User:\n",
    "    num_users = 0\n",
    "    def __init__(self, name):\n",
    "        self.name = name # 인스턴스 변수\n",
    "        User.num_users += 1\n",
    "        \n",
    "u = User('honux')\n",
    "print(User.num_users, u.name)\n",
    "\n",
    "u2 = User('crong')\n",
    "print(User.num_users, u.name)\n"
   ]
  },
  {
   "cell_type": "code",
   "execution_count": 16,
   "id": "1626cceb",
   "metadata": {},
   "outputs": [
    {
     "name": "stdout",
     "output_type": "stream",
     "text": [
      "I am a Rockstar!\n"
     ]
    }
   ],
   "source": [
    "# 메소드 : 메소드는 클래스 안에서 정의된 함수. 첫번째 인수를 항상 self로 지정\n",
    "\n",
    "class Musician:\n",
    "    title = 'Rockstar'\n",
    "    def explanation(self):\n",
    "        print(f'I am a {self.title}!')\n",
    "        \n",
    "drummer = Musician()\n",
    "drummer.explanation()"
   ]
  },
  {
   "cell_type": "code",
   "execution_count": 75,
   "id": "c68d5c33",
   "metadata": {},
   "outputs": [
    {
     "name": "stdout",
     "output_type": "stream",
     "text": [
      "113.04\n"
     ]
    }
   ],
   "source": [
    "# 다른 인수가 있는 메소드\n",
    "\n",
    "class Circle():\n",
    "    pi = 3.14\n",
    "    def area(self, radius):\n",
    "        return self.pi * (radius ** 2)\n",
    "\n",
    "circle = Circle()\n",
    "pizza_area = circle.area(6)\n",
    "\n",
    "print(pizza_area)"
   ]
  },
  {
   "cell_type": "code",
   "execution_count": 84,
   "id": "88723123",
   "metadata": {},
   "outputs": [
    {
     "name": "stdout",
     "output_type": "stream",
     "text": [
      "hello?!\n"
     ]
    }
   ],
   "source": [
    "# 생성자(Constructor)\n",
    "# 클래스를 호출할 때 자동으로 어떤 함수를 실행하거나 값을 호출하고 싶은 경우 __init__을 사용\n",
    "# Shouter라는 클래스를 객체로 불러올 때마다 \"Hello?!\" 라는 문자열을 출력\n",
    "\n",
    "class Shouter:\n",
    "    def __init__(self):\n",
    "        print('hello?!')\n",
    "shout = Shouter()\n"
   ]
  },
  {
   "cell_type": "code",
   "execution_count": null,
   "id": "1448c7a8",
   "metadata": {},
   "outputs": [],
   "source": []
  }
 ],
 "metadata": {
  "kernelspec": {
   "display_name": "Python 3 (ipykernel)",
   "language": "python",
   "name": "python3"
  },
  "language_info": {
   "codemirror_mode": {
    "name": "ipython",
    "version": 3
   },
   "file_extension": ".py",
   "mimetype": "text/x-python",
   "name": "python",
   "nbconvert_exporter": "python",
   "pygments_lexer": "ipython3",
   "version": "3.8.12"
  }
 },
 "nbformat": 4,
 "nbformat_minor": 5
}
