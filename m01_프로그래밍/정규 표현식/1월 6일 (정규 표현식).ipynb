{
 "cells": [
  {
   "cell_type": "code",
   "execution_count": 8,
   "id": "f8690216",
   "metadata": {},
   "outputs": [
    {
     "name": "stdout",
     "output_type": "stream",
     "text": [
      "[]\n",
      "\n",
      "[]\n",
      "kim 900321 - 1234567\n",
      "[]\n",
      "kim2 921112 - 1234567\n",
      "[]\n",
      "\n",
      "\n",
      "kim 900321 - 1234567\n",
      "kim2 921112 - 1234567\n",
      "\n"
     ]
    }
   ],
   "source": [
    "data = '''\n",
    "kim 900321 - 1234567\n",
    "kim2 921112 - 1234567\n",
    "'''\n",
    "\n",
    "result = []\n",
    "for line in data.split('\\n'):\n",
    "    word_result = []\n",
    "    print(word_result)\n",
    "    print(line)\n",
    "    for word in line.split(' '):\n",
    "        if len(word) == 14 and word[:6].isdigit() and word[7:].isdigit():\n",
    "            word = word[:6] + '-' + '*******'\n",
    "        word_result.append(word)\n",
    "    result.append(' '.join(word_result))\n",
    "print('\\n'.join(result))\n",
    "#     for word in lin.split(' '):\n",
    "        "
   ]
  },
  {
   "cell_type": "code",
   "execution_count": 114,
   "id": "ab22a0a0",
   "metadata": {},
   "outputs": [
    {
     "name": "stdout",
     "output_type": "stream",
     "text": [
      "\n",
      "kim 900321 - \t1234567\n",
      "kim2 921112 - 1234567\n",
      "\n"
     ]
    }
   ],
   "source": [
    "data = '''\n",
    "kim 900321 - \\t1234567\n",
    "kim2 921112 - 1234567\n",
    "'''\n",
    "\n",
    "print(data)"
   ]
  },
  {
   "cell_type": "markdown",
   "id": "72e38545",
   "metadata": {},
   "source": [
    "정규표현식의 기초, 메타 문자\n",
    "\n",
    "- . ^ $ * + ? {} [] \\ | ()\n",
    "- [] 문자 클래스\n",
    " - \\d 숫자와 매치, [0-9]와 동일한 표현식\n",
    " - \\D 숫자가 아닌 것과 매치, [^0-9]와 동일한 표현식\n",
    " - \\s whitespace 문자와 매치, [ \\t\\n\\r\\f\\v]와 동일한 표현식\n",
    " - \\S whitespace 문자가 아닌 것과 매치, [^ \\t\\n\\r\\f\\v]와 동일한 표현식\n",
    " - \\w 문자 + 숫자와 매치, [a-zA-Z0-9]와 동일한 표현\n",
    " - \\W 문자 + 숫자가 아닌 문자와 매치, [^a-zA-Z0-9]와 동일한 표현식\n",
    "\n",
    "- whitespace\n",
    " - 스페이스 바(아스키코드 32)\n",
    " - \\b 뒤로 한 칸 이동(Backspace) (아스키코드 8)\n",
    " - \\t 수평탭 간격 띄우기\n",
    " - \\n 줄바꿈 \n",
    " - \\v 수직탭 간격 띄우기\n",
    " - \\f 프린트 출력 용지를 한 페이지 넘김\n",
    " - \\r 동일한 줄의 맨 앞에서 커서 이동\n",
    " \n",
    "- Dot(.) 메타 문자는 줄바꿈 문자인 \\n를 제외한 모든 문자와 매치됨을 의미\n",
    "- 반복(\\*) ca*t 0부터 무한대로 반복 caaaaa*t, c*t\n",
    "- 반복(\\+) ca+t 최소 1번 이상 반복 \n",
    "- ca{m,n} a 반복 횟수가 m부터 n까지인 것을 매치\n",
    "- ca{2}t는 c+a(2번 반복)+t의 의미\n",
    "- 반복 횟수가 {1,}은 1 이상, {0,}은 0 이상인 경우로 +, * 와 동일하며 {,1}은 반복 횟수가 1 이하를 의미\n",
    "- ab?c b가 0~1번 사용되면 매치되는 것으로 ?은 앞에 b가 있어도 되고 없어도 된다.\n",
    "\n",
    "re 모듈 : 파이썬은 정규표현식을 지원하기 위해 기본으로 제공\n",
    "- re.compile의 결과로 리턴되는 객체를 이용하여 그 이후 작업 수행\n",
    "\n",
    "정규식을 이용한 문자열 검색\n",
    "- match() : 문자열의 처음부터 정규식과 매치되는지를 조사\n",
    "- search() : 문자열의 전체를 검색하여 정규식과 매치되는지 조사\n",
    "- findall() : 정규식과 매치되는 모든 문자열을 리스트로 리턴\n",
    "- finditer() : 정규식과 매치되는 모든 문자열을 반복 가능한 객체로 리턴"
   ]
  },
  {
   "cell_type": "code",
   "execution_count": 18,
   "id": "f27c05c7",
   "metadata": {},
   "outputs": [
    {
     "name": "stdout",
     "output_type": "stream",
     "text": [
      "<re.Match object; span=(0, 7), match='python '>\n"
     ]
    }
   ],
   "source": [
    "import re\n",
    "\n",
    "p = re.compile('[a-z]+\\s')\n",
    "m = p.match('python python')\n",
    "print(m)"
   ]
  },
  {
   "cell_type": "code",
   "execution_count": null,
   "id": "49057a2d",
   "metadata": {},
   "outputs": [],
   "source": [
    "re.match('[a-z]+\\s', 'python python')"
   ]
  },
  {
   "cell_type": "code",
   "execution_count": 19,
   "id": "b2c7244e",
   "metadata": {},
   "outputs": [
    {
     "data": {
      "text/plain": [
       "['python ']"
      ]
     },
     "execution_count": 19,
     "metadata": {},
     "output_type": "execute_result"
    }
   ],
   "source": [
    "p.findall('python python')"
   ]
  },
  {
   "cell_type": "code",
   "execution_count": 20,
   "id": "2c2c8511",
   "metadata": {},
   "outputs": [
    {
     "data": {
      "text/plain": [
       "['python ', 'python ']"
      ]
     },
     "execution_count": 20,
     "metadata": {},
     "output_type": "execute_result"
    }
   ],
   "source": [
    "p.findall('python python ')"
   ]
  },
  {
   "cell_type": "code",
   "execution_count": null,
   "id": "5b6fb40b",
   "metadata": {},
   "outputs": [],
   "source": [
    "m = p.match('3python ')\n",
    "print(m)"
   ]
  },
  {
   "cell_type": "code",
   "execution_count": null,
   "id": "6bb85e57",
   "metadata": {},
   "outputs": [],
   "source": [
    "m = p.search('3python ')\n",
    "print(m)"
   ]
  },
  {
   "cell_type": "code",
   "execution_count": 21,
   "id": "37c8da6a",
   "metadata": {},
   "outputs": [
    {
     "name": "stdout",
     "output_type": "stream",
     "text": [
      "<re.Match object; span=(1, 6), match='anker'>\n",
      "<re.Match object; span=(0, 6), match='banker'>\n"
     ]
    }
   ],
   "source": [
    "# 문자 클래스 : []\n",
    "\n",
    "import re\n",
    "\n",
    "pattern = re.compile('[a-z]+')\n",
    "p1 = pattern.search('Banker')\n",
    "p2 = pattern.search('banker')\n",
    "print(p1)\n",
    "print(p2)"
   ]
  },
  {
   "cell_type": "code",
   "execution_count": 22,
   "id": "3ac5e817",
   "metadata": {},
   "outputs": [
    {
     "name": "stdout",
     "output_type": "stream",
     "text": [
      "a\n",
      "a\n"
     ]
    }
   ],
   "source": [
    "# '12345abc'에서 'a'만 출력하세요.\n",
    "\n",
    "\n",
    "import re\n",
    "\n",
    "pattern = re.compile('[a]')\n",
    "text = '12345abc'\n",
    "m = pattern.search(text)\n",
    "print(m.group())\n",
    "\n",
    "p = re.compile('[1-5a-c]')\n",
    "s = p.findall('a')\n",
    "print(s[0])\n"
   ]
  },
  {
   "cell_type": "code",
   "execution_count": 30,
   "id": "6a526ee9",
   "metadata": {},
   "outputs": [
    {
     "data": {
      "text/plain": [
       "'122333c'"
      ]
     },
     "execution_count": 30,
     "metadata": {},
     "output_type": "execute_result"
    }
   ],
   "source": [
    "import re\n",
    "\n",
    "p = re.compile('12{2}3{3}c')\n",
    "text = '122333c'\n",
    "m = p.search(text)\n",
    "m.group()"
   ]
  },
  {
   "cell_type": "code",
   "execution_count": 31,
   "id": "bb5134f1",
   "metadata": {},
   "outputs": [
    {
     "name": "stdout",
     "output_type": "stream",
     "text": [
      "['life', 'is', 'so', 'bad']\n",
      "<re.Match object; span=(0, 4), match='life'>\n",
      "<re.Match object; span=(0, 4), match='life'>\n",
      "life\n",
      "life\n"
     ]
    }
   ],
   "source": [
    "import re\n",
    "\n",
    "p = re.compile('[a-z]+')\n",
    "print(p.findall('life is so bad'))\n",
    "print(p.match('life is so bad'))\n",
    "print(p.search('life is so bad'))\n",
    "print(p.match('life is so bad').group())\n",
    "print(p.search('life is so bad').group())"
   ]
  },
  {
   "cell_type": "code",
   "execution_count": 16,
   "id": "882919d7",
   "metadata": {},
   "outputs": [
    {
     "name": "stdout",
     "output_type": "stream",
     "text": [
      "life\n",
      "is\n",
      "so\n",
      "bad\n"
     ]
    }
   ],
   "source": [
    "# finditer는 findall과 동일하지만 그 결과로 반복 가능한 객체를 돌려준다.\n",
    "\n",
    "import re\n",
    "\n",
    "p = re.compile('[a-z]+')\n",
    "\n",
    "result = p.finditer('life is so bad')\n",
    "\n",
    "for r in result:\n",
    "    b = r.group()\n",
    "    print(b)\n",
    "    \n",
    "# c = [i.group() for i in result]\n",
    "# print(c)\n"
   ]
  },
  {
   "cell_type": "code",
   "execution_count": 14,
   "id": "9505ef21",
   "metadata": {},
   "outputs": [
    {
     "name": "stdout",
     "output_type": "stream",
     "text": [
      "['life', 'is', 'so', 'bad']\n"
     ]
    }
   ],
   "source": [
    "import re\n",
    "\n",
    "p = re.compile('[a-z]+')\n",
    "result = p.finditer('life is so bad')\n",
    "\n",
    "a = []\n",
    "for r in result:\n",
    "    b = r.group()\n",
    "    a.append(b)\n",
    "    \n",
    "print(a)"
   ]
  },
  {
   "cell_type": "code",
   "execution_count": null,
   "id": "27fb8a94",
   "metadata": {},
   "outputs": [],
   "source": [
    "# '1234a1234'에서 '1', '2', '3', '4'를 모두 출력하세요 (중복 없이)\n",
    "\n",
    "import re\n",
    "\n",
    "text = '1234a1234'\n",
    "t = re.compile('[0-9]')\n",
    "tx = t.findall(text)\n",
    "print(set(tx))\n",
    "print(sorted(set(tx)))"
   ]
  },
  {
   "cell_type": "code",
   "execution_count": 17,
   "id": "0a5c66d6",
   "metadata": {},
   "outputs": [
    {
     "name": "stdout",
     "output_type": "stream",
     "text": [
      "['Python', 'is', 'very', 'good', 'programming', 'language']\n",
      "['3 ', ' ', ' ', ' ', ' ', '!']\n"
     ]
    }
   ],
   "source": [
    "# 'Python3 is very good programming language!' 에서 ['Python', 'is', 'very', 'good' 'programming', 'language']를 모두 출력하세요.\n",
    "\n",
    "import re\n",
    "\n",
    "text = 'Python3 is very good programming language!'\n",
    "p = re.compile('[A-Za-z]+')\n",
    "q = re.compile('[^A-Za-z]+')\n",
    "\n",
    "print(p.findall(text))\n",
    "print(q.findall(text))"
   ]
  },
  {
   "cell_type": "code",
   "execution_count": null,
   "id": "db69ce92",
   "metadata": {},
   "outputs": [],
   "source": [
    "# match 객체의 메소드\n",
    "\n",
    "import re\n",
    "\n",
    "p = re.compile('[a-z]+')\n",
    "m = p.match('python')\n",
    "print(m)\n",
    "print(m.group())\n",
    "print(m.start())\n",
    "print(m.end())\n",
    "print(m.span())\n"
   ]
  },
  {
   "cell_type": "code",
   "execution_count": 2,
   "id": "7ca19fff",
   "metadata": {},
   "outputs": [
    {
     "name": "stdout",
     "output_type": "stream",
     "text": [
      "python\n",
      "2\n",
      "8\n",
      "(2, 8)\n"
     ]
    }
   ],
   "source": [
    "import re\n",
    "\n",
    "p = re.compile('[a-z]+')\n",
    "m = p.search('3 python')\n",
    "print(m.group())\n",
    "print(m.start())\n",
    "print(m.end())\n",
    "print(m.span())"
   ]
  },
  {
   "cell_type": "code",
   "execution_count": 3,
   "id": "849ded9b",
   "metadata": {},
   "outputs": [
    {
     "name": "stdout",
     "output_type": "stream",
     "text": [
      "python\n"
     ]
    }
   ],
   "source": [
    "# 모듈 단위로 수행하기\n",
    "\n",
    "m = re.match('[a-z]+', 'python')\n",
    "print(m.group())"
   ]
  },
  {
   "cell_type": "code",
   "execution_count": 5,
   "id": "7626d37f",
   "metadata": {},
   "outputs": [
    {
     "name": "stdout",
     "output_type": "stream",
     "text": [
      "None\n",
      "acb\n",
      "a12?Ab\n"
     ]
    }
   ],
   "source": [
    "# Dot(.) 메타 문자\n",
    "\n",
    "import re\n",
    "\n",
    "p = re.compile('a.+b')\n",
    "m1 = p.match('a\\nb')\n",
    "m2 = p.match('acb')\n",
    "m3 = p.match('a12?Ab')\n",
    "print(m1)\n",
    "print(m2.group())\n",
    "print(m3.group())"
   ]
  },
  {
   "cell_type": "code",
   "execution_count": 6,
   "id": "bfbc6868",
   "metadata": {},
   "outputs": [
    {
     "data": {
      "text/plain": [
       "'a\\nb'"
      ]
     },
     "execution_count": 6,
     "metadata": {},
     "output_type": "execute_result"
    }
   ],
   "source": [
    "import re\n",
    "\n",
    "p = re.compile('a.b', re.DOTALL)\n",
    "m = p.match('a\\nb')\n",
    "m.group()"
   ]
  },
  {
   "cell_type": "code",
   "execution_count": 21,
   "id": "1a54ee60",
   "metadata": {},
   "outputs": [
    {
     "name": "stdout",
     "output_type": "stream",
     "text": [
      "<re.Match object; span=(0, 6), match='python'>\n",
      "<re.Match object; span=(0, 6), match='Python'>\n",
      "<re.Match object; span=(0, 6), match='PYTHON'>\n",
      "<re.Match object; span=(0, 6), match='PYthon'>\n"
     ]
    }
   ],
   "source": [
    "# re.IGNORANCE 또는 re.I 옵션은 대소문자 구분업이 매치를 수행시 사용\n",
    "\n",
    "import re\n",
    "\n",
    "p = re.compile('[a-z]+', re.I)\n",
    "print(p.match('python'))\n",
    "print(p.match('Python'))\n",
    "print(p.match('PYTHON'))\n",
    "\n",
    "p = re.search('[a-z]+', 'PYthon', re.I)\n",
    "print(p)"
   ]
  },
  {
   "cell_type": "code",
   "execution_count": 92,
   "id": "d645b4af",
   "metadata": {},
   "outputs": [
    {
     "name": "stdout",
     "output_type": "stream",
     "text": [
      "<re.Match object; span=(0, 7), match='apython'>\n",
      "<re.Match object; span=(0, 6), match='Python'>\n",
      "<re.Match object; span=(0, 6), match='PYTHON'>\n"
     ]
    }
   ],
   "source": [
    "import re\n",
    "\n",
    "p = re.compile('[a-z]+', re.I)\n",
    "print(p.search('python'))\n",
    "print(p.search('Python'))\n",
    "print(p.search('PYTHON'))"
   ]
  },
  {
   "cell_type": "code",
   "execution_count": 25,
   "id": "aacd3bef",
   "metadata": {},
   "outputs": [
    {
     "name": "stdout",
     "output_type": "stream",
     "text": [
      "['python one']\n"
     ]
    }
   ],
   "source": [
    "# 문자열의 처음과 매치 : ^\n",
    "\n",
    "p = re.compile('^python\\s\\w+')\n",
    "\n",
    "data = '''python one\n",
    "life is too short\n",
    "python two\n",
    "you need python\n",
    "python three'''\n",
    "\n",
    "print(p.findall(data))"
   ]
  },
  {
   "cell_type": "code",
   "execution_count": 29,
   "id": "4dd35aa5",
   "metadata": {},
   "outputs": [
    {
     "name": "stdout",
     "output_type": "stream",
     "text": [
      "['python three']\n"
     ]
    }
   ],
   "source": [
    "# 문자열의 끝과 매치 : $\n",
    "\n",
    "p = re.compile('python\\s\\w+$')\n",
    "\n",
    "data = '''python one\n",
    "life is too short\n",
    "python two\n",
    "you need python\n",
    "python three'''\n",
    "\n",
    "print(p.findall(data))"
   ]
  },
  {
   "cell_type": "code",
   "execution_count": 80,
   "id": "def4dc18",
   "metadata": {},
   "outputs": [
    {
     "name": "stdout",
     "output_type": "stream",
     "text": [
      "None\n"
     ]
    }
   ],
   "source": [
    "# Raw String 규칙\n",
    "\n",
    "import re\n",
    "\n",
    "p = re.compile(r'\\\\section')\n",
    "# q = re.compile(r'\\section')\n",
    "               \n",
    "print(p.search('\\\\\\\\\\\\section'))\n",
    "# p.findall('\\section\\section')"
   ]
  },
  {
   "cell_type": "code",
   "execution_count": 103,
   "id": "a2152b6b",
   "metadata": {
    "scrolled": true
   },
   "outputs": [
    {
     "name": "stdout",
     "output_type": "stream",
     "text": [
      "home\n",
      "home\n"
     ]
    }
   ],
   "source": [
    "import re\n",
    "\n",
    "text = 'we are going home'\n",
    "p1 = re.search('home$', text)\n",
    "print(p1.group())\n",
    "\n",
    "\n",
    "p = re.compile('home$')\n",
    "mol = p.search('we ae going home')\n",
    "print(mol.group())"
   ]
  },
  {
   "cell_type": "code",
   "execution_count": 54,
   "id": "119e4a3e",
   "metadata": {},
   "outputs": [
    {
     "name": "stdout",
     "output_type": "stream",
     "text": [
      "<re.Match object; span=(3, 9), match='ABCDEF'>\n",
      "ABCDEF\n",
      "ABCDEF\n",
      "AB\n",
      "CD\n",
      "EF\n"
     ]
    }
   ],
   "source": [
    "# 그룹핑 : 매치된 문자열 중에서 특정 부분의 문자열만 뽑아내는 경우 ()을 만들어준다\n",
    "# group(0) : 매치된 전체 문자열\n",
    "# group(i) : 매치된 i 번째 그룹\n",
    "\n",
    "import re\n",
    "\n",
    "p = re.compile('((AB)(CD)(EF))+')\n",
    "m = p.search('DEFABCDEFDEF OK?')\n",
    "\n",
    "print(m)\n",
    "print(m.group(0))\n",
    "print(m.group(1))\n",
    "print(m.group(2))\n",
    "print(m.group(3))\n",
    "print(m.group(4))"
   ]
  },
  {
   "cell_type": "code",
   "execution_count": null,
   "id": "209f60b3",
   "metadata": {},
   "outputs": [],
   "source": []
  }
 ],
 "metadata": {
  "hide_input": false,
  "kernelspec": {
   "display_name": "Python 3 (ipykernel)",
   "language": "python",
   "name": "python3"
  },
  "language_info": {
   "codemirror_mode": {
    "name": "ipython",
    "version": 3
   },
   "file_extension": ".py",
   "mimetype": "text/x-python",
   "name": "python",
   "nbconvert_exporter": "python",
   "pygments_lexer": "ipython3",
   "version": "3.8.12"
  },
  "toc": {
   "base_numbering": 1,
   "nav_menu": {},
   "number_sections": false,
   "sideBar": true,
   "skip_h1_title": false,
   "title_cell": "Table of Contents",
   "title_sidebar": "Contents",
   "toc_cell": false,
   "toc_position": {},
   "toc_section_display": true,
   "toc_window_display": false
  },
  "varInspector": {
   "cols": {
    "lenName": "16",
    "lenType": "16",
    "lenVar": 40
   },
   "kernels_config": {
    "python": {
     "delete_cmd_postfix": "",
     "delete_cmd_prefix": "del ",
     "library": "var_list.py",
     "varRefreshCmd": "print(var_dic_list())"
    },
    "r": {
     "delete_cmd_postfix": ") ",
     "delete_cmd_prefix": "rm(",
     "library": "var_list.r",
     "varRefreshCmd": "cat(var_dic_list()) "
    }
   },
   "types_to_exclude": [
    "module",
    "function",
    "builtin_function_or_method",
    "instance",
    "_Feature"
   ],
   "window_display": false
  }
 },
 "nbformat": 4,
 "nbformat_minor": 5
}
