{
 "cells": [
  {
   "cell_type": "markdown",
   "id": "7915aded",
   "metadata": {},
   "source": [
    "## 모듈\n",
    "- 특정 기능들(함수, 변수, 클래스 등)이 구현되어 있는 파이썬 파일(.py)\n",
    "\n",
    "\n",
    "## 패키지\n",
    "- 특정 기능과 관련된 여러 모듈들을 하나의 상위 폴더에 넣어놓은 것을 의미\n",
    "- 패키지 안에 여러가지 폴더 존재 가능\n",
    "- 패키지를 표현해주기 위해 \\_init_.py가 존재\n",
    "\n",
    "\n",
    "## 라이브러리\n",
    "- 여러 모듈과 패키지를 묶어 라이브러리라고 함\n",
    "- 파이썬 설치시 기본적으로 설치되는 라이브러리를 표준 라이브러리라고 함\n",
    "- 외부(3rd party)에서 개발한 모듈과 패키지를 묶어 외부 라이브러리라고 함"
   ]
  },
  {
   "cell_type": "code",
   "execution_count": 1,
   "id": "d4f706d4",
   "metadata": {},
   "outputs": [],
   "source": [
    "# 모듈 mod1 만들기\n",
    "\n",
    "with open('mod1.py', 'w') as f:\n",
    "    f.write('''\n",
    "def add(x, y):\n",
    "    return x + y\n",
    "\n",
    "print(add(3, 4))\n",
    "''')"
   ]
  },
  {
   "cell_type": "code",
   "execution_count": 2,
   "id": "11e9b758",
   "metadata": {},
   "outputs": [
    {
     "name": "stdout",
     "output_type": "stream",
     "text": [
      "\n",
      "def add(x, y):\n",
      "    return x + y\n",
      "\n",
      "print(add(3, 4))\n",
      "\n"
     ]
    }
   ],
   "source": [
    "with open('mod1.py', 'r') as f:\n",
    "    print(f.read())"
   ]
  },
  {
   "cell_type": "code",
   "execution_count": 3,
   "id": "7ad35348",
   "metadata": {},
   "outputs": [
    {
     "name": "stdout",
     "output_type": "stream",
     "text": [
      "7\n"
     ]
    }
   ],
   "source": [
    "!python mod1.py"
   ]
  },
  {
   "cell_type": "code",
   "execution_count": 1,
   "id": "743d41fd",
   "metadata": {},
   "outputs": [
    {
     "name": "stdout",
     "output_type": "stream",
     "text": [
      "7\n"
     ]
    }
   ],
   "source": [
    "import mod1"
   ]
  },
  {
   "cell_type": "code",
   "execution_count": 5,
   "id": "11323103",
   "metadata": {},
   "outputs": [],
   "source": [
    "# 모듈 mod2 만들기\n",
    "\n",
    "with open('mod2.py', 'w') as f:\n",
    "    f.write('''\n",
    "def add(x, y): \n",
    "    return x + y\n",
    "    \n",
    "if __name__ == \"__main__\":\n",
    "    print(add(3, 4))\n",
    "''')"
   ]
  },
  {
   "cell_type": "code",
   "execution_count": 6,
   "id": "bababd4b",
   "metadata": {},
   "outputs": [
    {
     "name": "stdout",
     "output_type": "stream",
     "text": [
      "\n",
      "def add(x, y): \n",
      "    return x + y\n",
      "    \n",
      "if __name__ == \"__main__\":\n",
      "    print(add(3, 4))\n",
      "\n"
     ]
    }
   ],
   "source": [
    "with open('mod2.py', 'r') as f:\n",
    "    print(f.read())"
   ]
  },
  {
   "cell_type": "code",
   "execution_count": 7,
   "id": "581c3c0c",
   "metadata": {},
   "outputs": [
    {
     "name": "stdout",
     "output_type": "stream",
     "text": [
      "7\n"
     ]
    }
   ],
   "source": [
    "!python mod2.py"
   ]
  },
  {
   "cell_type": "code",
   "execution_count": 2,
   "id": "88b24c59",
   "metadata": {},
   "outputs": [
    {
     "data": {
      "text/plain": [
       "5"
      ]
     },
     "execution_count": 2,
     "metadata": {},
     "output_type": "execute_result"
    }
   ],
   "source": [
    "import mod2\n",
    "\n",
    "mod2.add(2, 3)"
   ]
  },
  {
   "cell_type": "code",
   "execution_count": 4,
   "id": "af252014",
   "metadata": {},
   "outputs": [
    {
     "name": "stdout",
     "output_type": "stream",
     "text": [
      " D 드라이브의 볼륨: 새 볼륨\n",
      " 볼륨 일련 번호: 3432-6760\n",
      "\n",
      " D:\\python\\cakd5\\m1_programming\\함수 응용 디렉터리\n",
      "\n",
      "2022-01-04  오전 10:42    <DIR>          .\n",
      "2022-01-04  오전 10:42    <DIR>          ..\n",
      "2022-01-04  오전 10:14    <DIR>          .ipynb_checkpoints\n",
      "2022-01-03  오후 05:51           132,742 1월 3일.ipynb\n",
      "2022-01-04  오전 10:42             4,032 1월 4일 (모듈).ipynb\n",
      "2022-01-03  오후 02:33            15,000 info.txt\n",
      "2022-01-04  오전 10:44                56 mod1.py\n",
      "2022-01-04  오전 10:42                93 mod2.py\n",
      "2022-01-04  오전 10:44    <DIR>          __pycache__\n",
      "               5개 파일             151,923 바이트\n",
      "               4개 디렉터리  1,000,018,259,968 바이트 남음\n",
      "\n"
     ]
    }
   ],
   "source": [
    "# 시스템 명령어의 결과값 리턴 받기\n",
    "\n",
    "import os\n",
    "f = os.popen('dir')\n",
    "print(f.read())"
   ]
  },
  {
   "cell_type": "code",
   "execution_count": 6,
   "id": "dd7a2783",
   "metadata": {},
   "outputs": [
    {
     "data": {
      "text/plain": [
       "'test.shutil.txt'"
      ]
     },
     "execution_count": 6,
     "metadata": {},
     "output_type": "execute_result"
    }
   ],
   "source": [
    "# 파일 복사\n",
    "\n",
    "import shutil\n",
    "shutil.copy('info.txt', 'test.shutil.txt')"
   ]
  },
  {
   "cell_type": "code",
   "execution_count": 12,
   "id": "4c915abd",
   "metadata": {},
   "outputs": [
    {
     "name": "stdout",
     "output_type": "stream",
     "text": [
      "Start\n",
      "working : 0\n",
      "\n",
      "working : 1\n",
      "\n",
      "working : 2\n",
      "\n",
      "working : 3\n",
      "\n",
      "working : 4\n",
      "\n",
      "working : 0\n",
      "\n",
      "working : 1\n",
      "\n",
      "working : 2\n",
      "\n",
      "working : 3\n",
      "\n",
      "working : 4\n",
      "\n",
      "working : 0\n",
      "\n",
      "working : 1\n",
      "\n",
      "working : 2\n",
      "\n",
      "working : 3\n",
      "\n",
      "working : 4\n",
      "\n",
      "working : 0\n",
      "\n"
     ]
    },
    {
     "ename": "KeyboardInterrupt",
     "evalue": "",
     "output_type": "error",
     "traceback": [
      "\u001b[1;31m---------------------------------------------------------------------------\u001b[0m",
      "\u001b[1;31mKeyboardInterrupt\u001b[0m                         Traceback (most recent call last)",
      "\u001b[1;32m~\\AppData\\Local\\Temp/ipykernel_3136/1460116198.py\u001b[0m in \u001b[0;36m<module>\u001b[1;34m\u001b[0m\n\u001b[0;32m      8\u001b[0m \u001b[0mprint\u001b[0m\u001b[1;33m(\u001b[0m\u001b[1;34m'Start'\u001b[0m\u001b[1;33m)\u001b[0m\u001b[1;33m\u001b[0m\u001b[1;33m\u001b[0m\u001b[0m\n\u001b[0;32m      9\u001b[0m \u001b[1;32mfor\u001b[0m \u001b[0mi\u001b[0m \u001b[1;32min\u001b[0m \u001b[0mrange\u001b[0m\u001b[1;33m(\u001b[0m\u001b[1;36m5\u001b[0m\u001b[1;33m)\u001b[0m\u001b[1;33m:\u001b[0m\u001b[1;33m\u001b[0m\u001b[1;33m\u001b[0m\u001b[0m\n\u001b[1;32m---> 10\u001b[1;33m     \u001b[0mlong_task\u001b[0m\u001b[1;33m(\u001b[0m\u001b[1;33m)\u001b[0m\u001b[1;33m\u001b[0m\u001b[1;33m\u001b[0m\u001b[0m\n\u001b[0m\u001b[0;32m     11\u001b[0m \u001b[0mprint\u001b[0m\u001b[1;33m(\u001b[0m\u001b[1;34m'End'\u001b[0m\u001b[1;33m)\u001b[0m\u001b[1;33m\u001b[0m\u001b[1;33m\u001b[0m\u001b[0m\n",
      "\u001b[1;32m~\\AppData\\Local\\Temp/ipykernel_3136/1460116198.py\u001b[0m in \u001b[0;36mlong_task\u001b[1;34m()\u001b[0m\n\u001b[0;32m      3\u001b[0m \u001b[1;32mdef\u001b[0m \u001b[0mlong_task\u001b[0m\u001b[1;33m(\u001b[0m\u001b[1;33m)\u001b[0m\u001b[1;33m:\u001b[0m \u001b[1;31m# 5초의 시간이 걸리는 함수\u001b[0m\u001b[1;33m\u001b[0m\u001b[1;33m\u001b[0m\u001b[0m\n\u001b[0;32m      4\u001b[0m     \u001b[1;32mfor\u001b[0m \u001b[0mi\u001b[0m \u001b[1;32min\u001b[0m \u001b[0mrange\u001b[0m\u001b[1;33m(\u001b[0m\u001b[1;36m5\u001b[0m\u001b[1;33m)\u001b[0m\u001b[1;33m:\u001b[0m\u001b[1;33m\u001b[0m\u001b[1;33m\u001b[0m\u001b[0m\n\u001b[1;32m----> 5\u001b[1;33m         \u001b[0mtime\u001b[0m\u001b[1;33m.\u001b[0m\u001b[0msleep\u001b[0m\u001b[1;33m(\u001b[0m\u001b[1;36m1\u001b[0m\u001b[1;33m)\u001b[0m \u001b[1;31m# 1초간 대기\u001b[0m\u001b[1;33m\u001b[0m\u001b[1;33m\u001b[0m\u001b[0m\n\u001b[0m\u001b[0;32m      6\u001b[0m         \u001b[0mprint\u001b[0m\u001b[1;33m(\u001b[0m\u001b[1;34mf'working : {i}\\n'\u001b[0m\u001b[1;33m)\u001b[0m\u001b[1;33m\u001b[0m\u001b[1;33m\u001b[0m\u001b[0m\n\u001b[0;32m      7\u001b[0m \u001b[1;33m\u001b[0m\u001b[0m\n",
      "\u001b[1;31mKeyboardInterrupt\u001b[0m: "
     ]
    }
   ],
   "source": [
    "import time\n",
    "\n",
    "def long_task(): # 5초의 시간이 걸리는 함수\n",
    "    for i in range(5):\n",
    "        time.sleep(1) # 1초간 대기\n",
    "        print(f'working : {i}\\n')\n",
    "        \n",
    "print('Start')\n",
    "    long_task()\n",
    "print('End')"
   ]
  },
  {
   "cell_type": "code",
   "execution_count": 20,
   "id": "ea6010db",
   "metadata": {},
   "outputs": [
    {
     "name": "stdout",
     "output_type": "stream",
     "text": [
      "Start\n",
      "working : 0\n",
      "working : 0\n",
      "\n",
      "working : 0\n",
      "working : 0\n",
      "\n",
      "\n",
      "working : 0\n",
      "\n",
      "\n",
      "working : 1\n",
      "working : 1\n",
      "working : 1\n",
      "working : 1\n",
      "\n",
      "\n",
      "\n",
      "\n",
      "working : 1\n",
      "\n",
      "working : 2\n",
      "working : 2\n",
      "\n",
      "working : 2\n",
      "\n",
      "\n",
      "working : 2\n",
      "working : 2\n",
      "\n",
      "\n",
      "working : 3\n",
      "\n",
      "working : 3\n",
      "working : 3\n",
      "\n",
      "working : 3\n",
      "\n",
      "\n",
      "working : 3\n",
      "\n",
      "working : 4\n",
      "\n",
      "working : 4\n",
      "working : 4\n",
      "\n",
      "working : 4\n",
      "\n",
      "working : 4\n",
      "\n",
      "\n",
      "End\n"
     ]
    }
   ],
   "source": [
    "import time\n",
    "import threading\n",
    "\n",
    "def long_task():\n",
    "    for i in range(5):\n",
    "        time.sleep(1)\n",
    "        print(f'working : {i}\\n')\n",
    "print('Start')\n",
    "threads = []\n",
    "for i in range(5): # 일꾼 묶음 만들기\n",
    "    t = threading.Thread(target = long_task)\n",
    "    threads.append(t)\n",
    "    \n",
    "for t in threads:\n",
    "    t.start()\n",
    "    \n",
    "for t in threads:\n",
    "    t.join() # join으로 스레드가 종료될 때까지 기다린다.\n",
    "\n",
    "print('End')"
   ]
  }
 ],
 "metadata": {
  "kernelspec": {
   "display_name": "Python 3 (ipykernel)",
   "language": "python",
   "name": "python3"
  },
  "language_info": {
   "codemirror_mode": {
    "name": "ipython",
    "version": 3
   },
   "file_extension": ".py",
   "mimetype": "text/x-python",
   "name": "python",
   "nbconvert_exporter": "python",
   "pygments_lexer": "ipython3",
   "version": "3.8.12"
  }
 },
 "nbformat": 4,
 "nbformat_minor": 5
}
