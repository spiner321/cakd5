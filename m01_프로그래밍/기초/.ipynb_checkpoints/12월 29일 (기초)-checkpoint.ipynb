{
 "cells": [
  {
   "cell_type": "code",
   "execution_count": 2,
   "id": "6712a7b7",
   "metadata": {},
   "outputs": [
    {
     "name": "stdout",
     "output_type": "stream",
     "text": [
      "Python 3.8.12\n"
     ]
    }
   ],
   "source": [
    "!python -V"
   ]
  },
  {
   "cell_type": "code",
   "execution_count": 9,
   "id": "80b077b3",
   "metadata": {},
   "outputs": [
    {
     "name": "stdout",
     "output_type": "stream",
     "text": [
      "273\n"
     ]
    },
    {
     "data": {
      "text/plain": [
       "60"
      ]
     },
     "execution_count": 9,
     "metadata": {},
     "output_type": "execute_result"
    }
   ],
   "source": [
    "# 표현식\n",
    "print(\"273\")\n",
    "10+20+30"
   ]
  },
  {
   "cell_type": "code",
   "execution_count": 6,
   "id": "0521d286",
   "metadata": {},
   "outputs": [
    {
     "name": "stdout",
     "output_type": "stream",
     "text": [
      "Hello to Python\n",
      "52 hello Python 8\n"
     ]
    }
   ],
   "source": [
    "# 표현식이 하나 이상씩 모이면 문장\n",
    "print(\"Hello to Python\")\n",
    "print(52, \"hello Python\", 5+3)"
   ]
  },
  {
   "cell_type": "code",
   "execution_count": 16,
   "id": "2df17a0c",
   "metadata": {},
   "outputs": [
    {
     "name": "stdout",
     "output_type": "stream",
     "text": [
      "2\n"
     ]
    }
   ],
   "source": [
    "# 문장이 모여서 프로그램\n",
    "a = 1\n",
    "b = 1\n",
    "c = a+b\n",
    "print(c)"
   ]
  },
  {
   "cell_type": "code",
   "execution_count": 23,
   "id": "384e2337",
   "metadata": {},
   "outputs": [
    {
     "name": "stdout",
     "output_type": "stream",
     "text": [
      "['False', 'None', 'True', 'and', 'as', 'assert', 'async', 'await', 'break', 'class', 'continue', 'def', 'del', 'elif', 'else', 'except', 'finally', 'for', 'from', 'global', 'if', 'import', 'in', 'is', 'lambda', 'nonlocal', 'not', 'or', 'pass', 'raise', 'return', 'try', 'while', 'with', 'yield'] \n",
      "\n",
      "\n",
      "35\n"
     ]
    }
   ],
   "source": [
    "# python keword\n",
    "\n",
    "import keyword\n",
    "print(keyword.kwlist, '\\n')\n",
    "print()\n",
    "print(len(keyword.kwlist))"
   ]
  },
  {
   "cell_type": "markdown",
   "id": "112446cd",
   "metadata": {},
   "source": [
    "식별자 기본 규칙\n",
    "\n",
    "- 키워드를 사용하면 안된다\n",
    "- 특수문자는 언더 바(_)만 사용한다.\n",
    "- 숫자로 시작하면 안된다.\n",
    "- 공백을 포함할 수 없다."
   ]
  },
  {
   "cell_type": "markdown",
   "id": "22ebae1a",
   "metadata": {},
   "source": [
    "https://bibi6666667.tistory.com/277\n",
    "파이썬은 snake_case와 CamelCase를 모두 사용\n",
    "\n",
    "- itemlist item_list itemList\n",
    "- loginstatus login_status LoginStatus\n",
    "- 캐멀 케이스(대문자로 시작)클래스\n",
    "- 스네이크 케이스(소문자로 시작) 뒤에()가 있다 - 함수\n",
    "- 스네이크 케이스(소문자로 시작) 뒤에()가 없다 - 변수"
   ]
  },
  {
   "cell_type": "code",
   "execution_count": 3,
   "id": "3176b792",
   "metadata": {},
   "outputs": [
    {
     "name": "stdout",
     "output_type": "stream",
     "text": [
      "3이 있습니다.\n"
     ]
    }
   ],
   "source": [
    "# 사람이 생각하는 방식을 그대로 표현할 수 있는 언어\n",
    "if 3 in [1, 2, 3, 4]:\n",
    "    print('3이 있습니다.')"
   ]
  },
  {
   "cell_type": "code",
   "execution_count": 88,
   "id": "9a2ee9b2",
   "metadata": {},
   "outputs": [
    {
     "name": "stdout",
     "output_type": "stream",
     "text": [
      "다시\n",
      "다시\n",
      "다시\n",
      "다시\n",
      "끝\n"
     ]
    }
   ],
   "source": [
    "a = 1\n",
    "while a < 5:\n",
    "    print(\"다시\")\n",
    "    a += 1\n",
    "if a == 5:\n",
    "    print(\"끝\")"
   ]
  },
  {
   "cell_type": "code",
   "execution_count": 71,
   "id": "231327fb",
   "metadata": {},
   "outputs": [
    {
     "name": "stdout",
     "output_type": "stream",
     "text": [
      "123 -123 0 1.23 127 2748 26\n"
     ]
    }
   ],
   "source": [
    "# 파이썬 자료형 - 숫자형 (정수, 실수, 8진수, 16진수)\n",
    "\n",
    "a = 123\n",
    "b = -123\n",
    "c = 0\n",
    "d = 1.23\n",
    "e = 0o177 # 8진수 : 0o로 시작\n",
    "f = 0xABC # 16진수 : 0x로 시작\n",
    "g = 0b11010 # 2진수 : 0b로 시작\n",
    "\n",
    "print(a, b, c, d, e, f, g)\n"
   ]
  },
  {
   "cell_type": "code",
   "execution_count": 37,
   "id": "1c40814c",
   "metadata": {},
   "outputs": [
    {
     "name": "stdout",
     "output_type": "stream",
     "text": [
      "10\n",
      "2\n",
      "12\n",
      "1.23\n",
      "5.0\n",
      "0\n",
      "5\n",
      "8\n"
     ]
    }
   ],
   "source": [
    "# 사칙연산\n",
    "\n",
    "a = 10\n",
    "b = 2\n",
    "c = a + b\n",
    "d + a * b\n",
    "e = a / b\n",
    "f = a % b # 나머지\n",
    "g = a // b # 몫\n",
    "h = b ** 3 # 제곱\n",
    "\n",
    "print(a)\n",
    "print(b)\n",
    "print(c)\n",
    "print(d)\n",
    "print(e)\n",
    "print(f)\n",
    "print(g)\n",
    "print(h)\n"
   ]
  },
  {
   "cell_type": "code",
   "execution_count": 44,
   "id": "fda12efb",
   "metadata": {},
   "outputs": [
    {
     "ename": "TypeError",
     "evalue": "can only concatenate str (not \"int\") to str",
     "output_type": "error",
     "traceback": [
      "\u001b[1;31m---------------------------------------------------------------------------\u001b[0m",
      "\u001b[1;31mTypeError\u001b[0m                                 Traceback (most recent call last)",
      "\u001b[1;32m~\\AppData\\Local\\Temp/ipykernel_2064/719277987.py\u001b[0m in \u001b[0;36m<module>\u001b[1;34m\u001b[0m\n\u001b[0;32m      3\u001b[0m \u001b[0mstring\u001b[0m \u001b[1;33m=\u001b[0m \u001b[1;34m\"문자열\"\u001b[0m\u001b[1;33m\u001b[0m\u001b[1;33m\u001b[0m\u001b[0m\n\u001b[0;32m      4\u001b[0m \u001b[0mnumber\u001b[0m \u001b[1;33m=\u001b[0m \u001b[1;36m273\u001b[0m\u001b[1;33m\u001b[0m\u001b[1;33m\u001b[0m\u001b[0m\n\u001b[1;32m----> 5\u001b[1;33m \u001b[0mstring\u001b[0m \u001b[1;33m+\u001b[0m \u001b[0mnumber\u001b[0m\u001b[1;33m\u001b[0m\u001b[1;33m\u001b[0m\u001b[0m\n\u001b[0m",
      "\u001b[1;31mTypeError\u001b[0m: can only concatenate str (not \"int\") to str"
     ]
    }
   ],
   "source": [
    "# 다른 타입간 연산은 안됨\n",
    "\n",
    "string = \"문자열\"\n",
    "number = 273\n",
    "string + number"
   ]
  },
  {
   "cell_type": "code",
   "execution_count": 72,
   "id": "e5b249fe",
   "metadata": {},
   "outputs": [
    {
     "data": {
      "text/plain": [
       "str"
      ]
     },
     "execution_count": 72,
     "metadata": {},
     "output_type": "execute_result"
    }
   ],
   "source": [
    "a = 10\n",
    "a = \"문자\"\n",
    "\n",
    "type(a)"
   ]
  },
  {
   "cell_type": "code",
   "execution_count": 89,
   "id": "ba28ad2a",
   "metadata": {},
   "outputs": [
    {
     "data": {
      "text/plain": [
       "200"
      ]
     },
     "execution_count": 89,
     "metadata": {},
     "output_type": "execute_result"
    }
   ],
   "source": [
    "# 복합 대입 연산자\n",
    "\n",
    "num = 10\n",
    "num += 10\n",
    "num *= 10\n",
    "num"
   ]
  },
  {
   "cell_type": "code",
   "execution_count": 91,
   "id": "b6a8efc5",
   "metadata": {},
   "outputs": [
    {
     "data": {
      "text/plain": [
       "10.0"
      ]
     },
     "execution_count": 91,
     "metadata": {},
     "output_type": "execute_result"
    }
   ],
   "source": [
    "num = 100\n",
    "num -= 50\n",
    "num /= 5\n",
    "num"
   ]
  },
  {
   "cell_type": "code",
   "execution_count": 94,
   "id": "c2240ef6",
   "metadata": {},
   "outputs": [
    {
     "name": "stdout",
     "output_type": "stream",
     "text": [
      "인사말을 입력하세요: ㄹㅇㄴㅁ\n"
     ]
    },
    {
     "data": {
      "text/plain": [
       "'ㄹㅇㄴㅁ'"
      ]
     },
     "execution_count": 94,
     "metadata": {},
     "output_type": "execute_result"
    }
   ],
   "source": [
    "# 사용자 입력\n",
    "\n",
    "input(\"인사말을 입력하세요: \")"
   ]
  },
  {
   "cell_type": "code",
   "execution_count": null,
   "id": "47c1b156",
   "metadata": {},
   "outputs": [
    {
     "name": "stdout",
     "output_type": "stream",
     "text": [
      "숫자를 입력하세요: 11\n"
     ]
    }
   ],
   "source": [
    "num = input(\"숫자를 입력하세요: \")\n",
    "print(num)\n",
    "type(num)"
   ]
  },
  {
   "cell_type": "code",
   "execution_count": 4,
   "id": "3e6658f1",
   "metadata": {},
   "outputs": [
    {
     "name": "stdout",
     "output_type": "stream",
     "text": [
      "숫자를 입력하세요: 5\n",
      "숫자를 입력하세요: 5\n",
      "55\n"
     ]
    }
   ],
   "source": [
    "num1 = input(\"숫자를 입력하세요: \")\n",
    "num2 = input(\"숫자를 입력하세요: \")\n",
    "print(num1 + num2)"
   ]
  },
  {
   "cell_type": "code",
   "execution_count": 9,
   "id": "bf80e2b0",
   "metadata": {},
   "outputs": [
    {
     "name": "stdout",
     "output_type": "stream",
     "text": [
      "숫자를 입력하세요: 5\n",
      "숫자를 입력하세요: 5\n",
      "10\n"
     ]
    }
   ],
   "source": [
    "num1 = input(\"숫자를 입력하세요: \")\n",
    "num2 = input(\"숫자를 입력하세요: \")\n",
    "num1_1 = int(num1)\n",
    "num2_1 = int(num2)\n",
    "print(num1_1 + num2_1)"
   ]
  },
  {
   "cell_type": "code",
   "execution_count": 22,
   "id": "e0fabd6c",
   "metadata": {},
   "outputs": [
    {
     "name": "stdout",
     "output_type": "stream",
     "text": [
      "숫자를 입력하세요: 3\n",
      "숫자를 입력하세요: 3.3\n",
      "6.3\n"
     ]
    }
   ],
   "source": [
    "num1 = input(\"숫자를 입력하세요: \")\n",
    "num2 = input(\"숫자를 입력하세요: \")\n",
    "\n",
    "print(int(num1) + float(num2))"
   ]
  },
  {
   "cell_type": "code",
   "execution_count": 25,
   "id": "5eb17494",
   "metadata": {},
   "outputs": [
    {
     "name": "stdout",
     "output_type": "stream",
     "text": [
      "숫자를 입력하세요: fdsa\n",
      "숫자를 입력하세요: fd\n",
      "fdsafd\n"
     ]
    }
   ],
   "source": [
    "a = input(\"숫자를 입력하세요: \")\n",
    "b = input(\"숫자를 입력하세요: \")\n",
    "a = str(a)\n",
    "b = str(b)\n",
    "\n",
    "print(a + b)\n"
   ]
  },
  {
   "cell_type": "code",
   "execution_count": 32,
   "id": "e5fcf7ee",
   "metadata": {},
   "outputs": [
    {
     "name": "stdout",
     "output_type": "stream",
     "text": [
      "python's value is great\n"
     ]
    }
   ],
   "source": [
    "# 문자열 : \"\", '', \"\"\"\"\"\", ''''''\n",
    "\n",
    "p2 = \"python's value is great\"\n",
    "print(p2)"
   ]
  },
  {
   "cell_type": "code",
   "execution_count": 44,
   "id": "a3e7fbea",
   "metadata": {},
   "outputs": [
    {
     "name": "stdout",
     "output_type": "stream",
     "text": [
      "\"python is valuable\" he says\n"
     ]
    }
   ],
   "source": [
    "print(\"\\\"python is valuable\\\" he says\")"
   ]
  },
  {
   "cell_type": "code",
   "execution_count": 47,
   "id": "b7b1cd6c",
   "metadata": {},
   "outputs": [
    {
     "name": "stdout",
     "output_type": "stream",
     "text": [
      "Once you study data analysis\n",
      "You need Python\n",
      "\n",
      "Once you study date analysis\n",
      "You need python\n"
     ]
    }
   ],
   "source": [
    "print(\"Once you study data analysis\\nYou need Python\")\n",
    "print()\n",
    "print(\"\"\"Once you study date analysis\n",
    "You need python\"\"\")"
   ]
  },
  {
   "cell_type": "code",
   "execution_count": 50,
   "id": "f68142af",
   "metadata": {},
   "outputs": [
    {
     "name": "stdout",
     "output_type": "stream",
     "text": [
      "python is useful tool.\n",
      "'python' is useful tool.\n",
      "\"python\"\n",
      " is useful tool.\n",
      "python\n",
      "is useful tool.\n"
     ]
    }
   ],
   "source": [
    "print(\"python is useful tool.\")\n",
    "print(\"'python' is useful tool.\")\n",
    "print(\"\\\"python\\\"\\n is useful tool.\")\n",
    "print(\"\"\"python\n",
    "is useful tool.\"\"\")"
   ]
  },
  {
   "cell_type": "code",
   "execution_count": 52,
   "id": "c424a0a3",
   "metadata": {},
   "outputs": [
    {
     "name": "stdout",
     "output_type": "stream",
     "text": [
      "Python is easy to learn\n",
      "PythonPythonPython\n",
      "====================\n"
     ]
    }
   ],
   "source": [
    "# 문자열 연산\n",
    "\n",
    "a = \"Python\"\n",
    "b = \" is easy to learn\"\n",
    "print(a + b)\n",
    "print(a * 3)\n",
    "print(\"=\" * 20)"
   ]
  },
  {
   "cell_type": "code",
   "execution_count": 57,
   "id": "93e59d1b",
   "metadata": {},
   "outputs": [
    {
     "name": "stdout",
     "output_type": "stream",
     "text": [
      "[1, 'a', 'abc', [1, 2, 3, 4, 5], ['a', 'b', 'c']]\n",
      "[1, 2, 3, 4, 5] ['a', 'b', 'c']\n"
     ]
    }
   ],
   "source": [
    "# 자료형 - List\n",
    "# 리스트는 [] 로 표시하며 [] 안의 요소를 콤마로 구분하여 순서있게 나열\n",
    "\n",
    "list1 = [1, 2, 3, 4, 5]\n",
    "list2 = [\"a\", \"b\", \"c\"]\n",
    "list3 = [1, \"a\", \"abc\", [1, 2, 3, 4, 5], [\"a\", \"b\", \"c\"]]\n",
    "\n",
    "print(list3)\n",
    "print(list1, list2)"
   ]
  },
  {
   "cell_type": "code",
   "execution_count": 73,
   "id": "6b204e65",
   "metadata": {},
   "outputs": [
    {
     "name": "stdout",
     "output_type": "stream",
     "text": [
      "[3, 4, 5]\n",
      "4\n"
     ]
    }
   ],
   "source": [
    "# 인덱싱\n",
    "\n",
    "list1 = [1, 2, 3, 4, 5]\n",
    "print(list1[2:])\n",
    "\n",
    "list3 = [1, \"a\", \"abc\", [1, 2, 3, 4, 5], [\"a\", \"b\", \"c\"]]\n",
    "print(list3[3][3]) # 리스트 안의 리스트는 대괄호 두 번"
   ]
  },
  {
   "cell_type": "code",
   "execution_count": 83,
   "id": "be15fc0e",
   "metadata": {},
   "outputs": [
    {
     "name": "stdout",
     "output_type": "stream",
     "text": [
      "[1, 1, 2, 3, 4, 5, 6, 7, 8, 9]\n",
      "['a', 'c']\n"
     ]
    }
   ],
   "source": [
    "# 리스트 수정, 삭제\n",
    "\n",
    "a = [0, 1, 2, 3, 4, 5, 6, 7, 8, 9]\n",
    "b = [\"a\", \"b\", \"c\",]\n",
    "\n",
    "a[0] = 1\n",
    "b[1] = \"c\"\n",
    "del b[1]\n",
    "\n",
    "print(a)\n",
    "print(b)"
   ]
  },
  {
   "cell_type": "code",
   "execution_count": 92,
   "id": "a73ae8b8",
   "metadata": {},
   "outputs": [
    {
     "name": "stdout",
     "output_type": "stream",
     "text": [
      "[0, 1, 2, 3, 4, 5, 6, 7, 8, 9, 'a', 'b', 'c']\n",
      "[0, 1, 2, 3, 4, 5, 6, 7, 1, 9, 'a', 'b', 1]\n"
     ]
    }
   ],
   "source": [
    "a = [0, 1, 2, 3, 4, 5, 6, 7, 8, 9]\n",
    "b = [\"a\", \"b\", \"c\",]\n",
    "c = a + b\n",
    "\n",
    "print(c)\n",
    "\n",
    "c[-5] = 1\n",
    "c[-1] = 1\n",
    "\n",
    "print(c)"
   ]
  },
  {
   "cell_type": "code",
   "execution_count": null,
   "id": "39ecb0ab",
   "metadata": {},
   "outputs": [],
   "source": [
    "x"
   ]
  },
  {
   "cell_type": "code",
   "execution_count": 101,
   "id": "e5f3a661",
   "metadata": {},
   "outputs": [
    {
     "name": "stdout",
     "output_type": "stream",
     "text": [
      "[1, 2, 3, 4]\n",
      "[4, 3, 2, 1]\n",
      "[4, 3, 2, 1]\n"
     ]
    }
   ],
   "source": [
    "# 정렬\n",
    "\n",
    "b = [2, 4, 3, 1]\n",
    "b.sort()\n",
    "print(b)\n",
    "\n",
    "# 내림차순\n",
    "\n",
    "b_r = sorted(b, reverse=True)\n",
    "print(b_r)\n",
    "\n",
    "b.reverse()\n",
    "print(b)\n"
   ]
  },
  {
   "cell_type": "code",
   "execution_count": 103,
   "id": "83b4f0fc",
   "metadata": {},
   "outputs": [
    {
     "name": "stdout",
     "output_type": "stream",
     "text": [
      "[9, 8, 7, 6, 5, 4, 3, 2, 2, 1, 1, 1]\n"
     ]
    }
   ],
   "source": [
    "s = [1, 1, 2, 3, 4, 5, 6, 7, 8, 9, 2, 1]\n",
    "s.sort()\n",
    "s.reverse()\n",
    "print(s)\n"
   ]
  },
  {
   "cell_type": "code",
   "execution_count": 105,
   "id": "3a150d58",
   "metadata": {},
   "outputs": [
    {
     "name": "stdout",
     "output_type": "stream",
     "text": [
      "2\n"
     ]
    }
   ],
   "source": [
    "# 인덱스 위치 반환\n",
    "\n",
    "c = [1, 2, 3, 1, 5]\n",
    "print(c.index(3))"
   ]
  },
  {
   "cell_type": "code",
   "execution_count": 341,
   "id": "6e6ac3f6",
   "metadata": {},
   "outputs": [
    {
     "name": "stdout",
     "output_type": "stream",
     "text": [
      "[4, 24, 84, 22, 75, 33, 80, 63, 68, 46, 42, 14, 98, 26, 58, 8, 58, 31, 52, 43, 13, 12, 20, 34, 35, 79, 40, 67, 82, 62, 71, 51, 26, 33, 15, 95, 57, 65, 47, 92, 56, 91, 28, 12, 62, 96, 20, 70, 11, 51, 75, 57, 66, 90, 69, 12, 19, 84, 61, 84, 75, 71, 33, 92, 45, 69, 20, 60, 48, 29, 54, 11, 39, 22, 81, 56, 40, 82, 54, 17, 75, 51, 23, 45, 18, 20, 46, 2, 77, 49, 28, 19, 89, 20, 90, 97, 27, 62, 9, 75]\n"
     ]
    }
   ],
   "source": [
    "import numpy as np\n",
    "c = np.random.randint(100, size = 100).tolist()\n",
    "print(c)\n",
    "c.index()"
   ]
  },
  {
   "cell_type": "code",
   "execution_count": 127,
   "id": "635a0892",
   "metadata": {},
   "outputs": [
    {
     "name": "stdout",
     "output_type": "stream",
     "text": [
      "3\n"
     ]
    }
   ],
   "source": [
    "# 개수 반환\n",
    "\n",
    "c = [1, 1, 3, 3, 3, 5, 5]\n",
    "print(c.count(3))"
   ]
  },
  {
   "cell_type": "code",
   "execution_count": 139,
   "id": "78dcdbde",
   "metadata": {},
   "outputs": [
    {
     "name": "stdout",
     "output_type": "stream",
     "text": [
      "[1, 2, 3, 4, 5]\n",
      "[1, 2, 3, 4, 5, 6]\n",
      "[5, 1, 2, 3, 4, 5, 6]\n",
      "[5, 1, 2, 3, 4, 5, 6, 7]\n"
     ]
    }
   ],
   "source": [
    "# 리스트 확장\n",
    "\n",
    "h = [1, 2, 3]\n",
    "h.extend([4, 5])\n",
    "print(h)\n",
    "\n",
    "h.append(6)\n",
    "print(h)\n",
    "\n",
    "h.insert(0, 5)\n",
    "print(h)\n",
    "\n",
    "h.insert(7, 7)\n",
    "print(h)"
   ]
  },
  {
   "cell_type": "code",
   "execution_count": 150,
   "id": "fc596094",
   "metadata": {},
   "outputs": [
    {
     "name": "stdout",
     "output_type": "stream",
     "text": [
      "(2, 3, 4, 5)\n",
      "abc\n",
      "b\n"
     ]
    }
   ],
   "source": [
    "# 튜플\n",
    "\n",
    "tuple1 = (1, 2, 3, 4, 5)\n",
    "tuple2 = (\"a\", \"b\", \"c\")\n",
    "tuple3 = (1, \"a\", \"abc\", [1, 2, 3, 4, 5], [\"a\", \"b\", \"c\"])\n",
    "\n",
    "print(tuple1[1:])\n",
    "print(tuple3[2])\n",
    "print(tuple3[4][1])"
   ]
  },
  {
   "cell_type": "code",
   "execution_count": 148,
   "id": "bfc0209a",
   "metadata": {},
   "outputs": [
    {
     "ename": "TypeError",
     "evalue": "'tuple' object does not support item assignment",
     "output_type": "error",
     "traceback": [
      "\u001b[1;31m---------------------------------------------------------------------------\u001b[0m",
      "\u001b[1;31mTypeError\u001b[0m                                 Traceback (most recent call last)",
      "\u001b[1;32m~\\AppData\\Local\\Temp/ipykernel_13984/839667107.py\u001b[0m in \u001b[0;36m<module>\u001b[1;34m\u001b[0m\n\u001b[0;32m      1\u001b[0m \u001b[0mtuple1\u001b[0m \u001b[1;33m=\u001b[0m \u001b[1;33m(\u001b[0m\u001b[1;36m1\u001b[0m\u001b[1;33m,\u001b[0m \u001b[1;36m2\u001b[0m\u001b[1;33m,\u001b[0m \u001b[1;36m3\u001b[0m\u001b[1;33m,\u001b[0m \u001b[1;36m4\u001b[0m\u001b[1;33m,\u001b[0m \u001b[1;36m5\u001b[0m\u001b[1;33m)\u001b[0m\u001b[1;33m\u001b[0m\u001b[1;33m\u001b[0m\u001b[0m\n\u001b[1;32m----> 2\u001b[1;33m \u001b[0mtuple1\u001b[0m\u001b[1;33m[\u001b[0m\u001b[1;36m0\u001b[0m\u001b[1;33m]\u001b[0m \u001b[1;33m=\u001b[0m \u001b[1;36m6\u001b[0m\u001b[1;33m\u001b[0m\u001b[1;33m\u001b[0m\u001b[0m\n\u001b[0m\u001b[0;32m      3\u001b[0m \u001b[1;33m\u001b[0m\u001b[0m\n\u001b[0;32m      4\u001b[0m \u001b[1;31m# 튜플의 요소 값은 변경할 수 없음\u001b[0m\u001b[1;33m\u001b[0m\u001b[1;33m\u001b[0m\u001b[1;33m\u001b[0m\u001b[0m\n\u001b[0;32m      5\u001b[0m \u001b[1;31m# 프로그램에서 그 값이 항상 변하지 않아야 하는 경우 사용\u001b[0m\u001b[1;33m\u001b[0m\u001b[1;33m\u001b[0m\u001b[1;33m\u001b[0m\u001b[0m\n",
      "\u001b[1;31mTypeError\u001b[0m: 'tuple' object does not support item assignment"
     ]
    }
   ],
   "source": [
    "tuple1 = (1, 2, 3, 4, 5)\n",
    "tuple1[0] = 6\n",
    "\n",
    "# 튜플의 요소 값은 변경할 수 없음\n",
    "# 프로그램에서 그 값이 항상 변하지 않아야 하는 경우 사용"
   ]
  },
  {
   "cell_type": "code",
   "execution_count": 157,
   "id": "d96ae7a8",
   "metadata": {},
   "outputs": [
    {
     "name": "stdout",
     "output_type": "stream",
     "text": [
      "(1,)\n",
      "<class 'tuple'>\n"
     ]
    }
   ],
   "source": [
    "t1 = (1, ) # 튜플에서 1개의 요소만 가질 때에는 요소 뒤에 콤마를 붙여야 한다.\n",
    "print(t1)\n",
    "print(type(t1))"
   ]
  },
  {
   "cell_type": "code",
   "execution_count": 218,
   "id": "e465ec70",
   "metadata": {},
   "outputs": [
    {
     "name": "stdout",
     "output_type": "stream",
     "text": [
      "1\n",
      "{'a': 1, 'b': 5, 'c': 3}\n",
      "dict_keys(['a', 'b', 'c'])\n",
      "dict_values([4, 5, 3])\n",
      "dict_items([('a', 4), ('b', 5), ('c', 3)])\n"
     ]
    },
    {
     "data": {
      "text/plain": [
       "dict"
      ]
     },
     "execution_count": 218,
     "metadata": {},
     "output_type": "execute_result"
    }
   ],
   "source": [
    "# 자료형 - 사전(키와 값을 하나의 요소로 하는 순서가 없는 집합)\n",
    "\n",
    "d1 = {\"a\":1, \"b\":2, \"c\":3}\n",
    "print(d1[\"a\"])\n",
    "d1[\"b\"] = 5\n",
    "print(d1)\n",
    "\n",
    "d1[\"a\"] = 4\n",
    "\n",
    "print(d1.keys())\n",
    "print(d1.values())\n",
    "print(d1.items())\n",
    "\n",
    "type(d1)"
   ]
  },
  {
   "cell_type": "code",
   "execution_count": 233,
   "id": "9dc01d60",
   "metadata": {},
   "outputs": [
    {
     "name": "stdout",
     "output_type": "stream",
     "text": [
      "{1, 2, 3, 4, 5}\n",
      "{'hello'}\n",
      "{'o', 'l', 'e', 'h'}\n",
      "<class 'set'>\n",
      "<class 'set'>\n",
      "<class 'set'>\n",
      "<class 'list'>\n"
     ]
    }
   ],
   "source": [
    "# 자료형 - 집합, set(중복을 허용하지 않으며 순서가 없다.)\n",
    "\n",
    "s1 = {1, 2, 5, 4, 3}\n",
    "s2 = {\"hello\"}\n",
    "s3 = set(\"hello\")\n",
    "print(s1)\n",
    "print(s2)\n",
    "print(s3)\n",
    "\n",
    "print(type(s1))\n",
    "print(type(s2))\n",
    "print(type(s3))\n",
    "\n",
    "s_1 = list(s1)\n",
    "print(type(s_1))\n",
    "\n"
   ]
  },
  {
   "cell_type": "code",
   "execution_count": 310,
   "id": "971f1cfe",
   "metadata": {},
   "outputs": [
    {
     "name": "stdout",
     "output_type": "stream",
     "text": [
      "[1, 2, 3, 4, 5, 6, 7, 8, 9]\n",
      "[4, 5, 6]\n"
     ]
    }
   ],
   "source": [
    "s1 = {1, 2, 3, 4, 5, 6}\n",
    "s2 = {4, 5, 6, 7, 8, 9}\n",
    "\n",
    "print(list(s1|s2))\n",
    "print(list(s1&s2))"
   ]
  },
  {
   "cell_type": "code",
   "execution_count": 236,
   "id": "1e263a1a",
   "metadata": {},
   "outputs": [
    {
     "name": "stdout",
     "output_type": "stream",
     "text": [
      "a가 la에 있습니다.\n"
     ]
    }
   ],
   "source": [
    "la = [\"a\", \"b\", \"c\"]\n",
    "if \"a\" in la:\n",
    "    print(\"a가 la에 있습니다.\")\n",
    "else:\n",
    "    print(\"a가 la에 없습니다.\")"
   ]
  },
  {
   "cell_type": "code",
   "execution_count": 261,
   "id": "d5d83cdf",
   "metadata": {},
   "outputs": [
    {
     "data": {
      "text/plain": [
       "'나의 이름은 홍길동입니다. 나이는 30입니다.'"
      ]
     },
     "execution_count": 261,
     "metadata": {},
     "output_type": "execute_result"
    }
   ],
   "source": [
    "# 문자열 포맷\n",
    "\n",
    "name = \"홍길동\"\n",
    "age = 30\n",
    "f\"나의 이름은 {name}입니다. 나이는 {age}입니다.\"\n"
   ]
  },
  {
   "cell_type": "code",
   "execution_count": 337,
   "id": "d7f70f77",
   "metadata": {},
   "outputs": [
    {
     "name": "stdout",
     "output_type": "stream",
     "text": [
      "나의 이름은 홍길동입니다. 나이는 30입니다.\n"
     ]
    }
   ],
   "source": [
    "d = {\"name\":\"홍길동\", \"age\":30}\n",
    "\n",
    "print(f\"나의 이름은 {d['name']}입니다. 나이는 {d['age']}입니다.\")"
   ]
  },
  {
   "cell_type": "code",
   "execution_count": 291,
   "id": "a93b4e15",
   "metadata": {},
   "outputs": [
    {
     "name": "stdout",
     "output_type": "stream",
     "text": [
      "파이썬은 자바보다 2배 쉽습니다.\n"
     ]
    }
   ],
   "source": [
    "print(\"{0}은 {1}보다 {2}배 쉽습니다.\".format(\"파이썬\", \"자바\", 2))"
   ]
  },
  {
   "cell_type": "code",
   "execution_count": 295,
   "id": "5c242ac9",
   "metadata": {},
   "outputs": [
    {
     "name": "stdout",
     "output_type": "stream",
     "text": [
      "3.4213\n",
      "    3.4213\n"
     ]
    }
   ],
   "source": [
    "y = 3.42134234\n",
    "print(f'{y:0.4f}')\n",
    "print(f'{y:10.4f}')"
   ]
  },
  {
   "cell_type": "code",
   "execution_count": 345,
   "id": "62e96508",
   "metadata": {},
   "outputs": [
    {
     "name": "stdout",
     "output_type": "stream",
     "text": [
      "현상 유지\n"
     ]
    }
   ],
   "source": [
    "# 제어문 - if, elif, else\n",
    "# 수입과 지출금액을 비교해서 수입이 많으면 저축 증가, 반대이면 빚이 증가, 같으면 현상 유지\n",
    "\n",
    "i = 5,000,000\n",
    "e = 5,000,000\n",
    "\n",
    "if i > e:\n",
    "    print(\"저축 증가\")\n",
    "elif i < e:\n",
    "    print(\"빚이 증가\")\n",
    "else:\n",
    "    print(\"현상 유지\")"
   ]
  },
  {
   "cell_type": "code",
   "execution_count": 350,
   "id": "e1172d47",
   "metadata": {},
   "outputs": [
    {
     "name": "stdout",
     "output_type": "stream",
     "text": [
      "5 15 6 20 7 25 "
     ]
    }
   ],
   "source": [
    "# for 반복문\n",
    "numbers = [5, 15, 6, 20, 7, 25]\n",
    "for number in numbers:\n",
    "    print(number, end = \" \")"
   ]
  },
  {
   "cell_type": "code",
   "execution_count": 357,
   "id": "bee60bfd",
   "metadata": {},
   "outputs": [
    {
     "name": "stdout",
     "output_type": "stream",
     "text": [
      "2\n",
      "1\n"
     ]
    }
   ],
   "source": [
    "print(5//2)\n",
    "print(5%2)"
   ]
  },
  {
   "cell_type": "code",
   "execution_count": 358,
   "id": "aebb8701",
   "metadata": {},
   "outputs": [
    {
     "name": "stdout",
     "output_type": "stream",
     "text": [
      "1030301\n"
     ]
    }
   ],
   "source": [
    "print(101**3)"
   ]
  },
  {
   "cell_type": "code",
   "execution_count": 373,
   "id": "132af4ea",
   "metadata": {},
   "outputs": [
    {
     "name": "stdout",
     "output_type": "stream",
     "text": [
      "Python 3.8.3\n"
     ]
    }
   ],
   "source": [
    "a = \"Python \"\n",
    "b = \"3.8.3\"\n",
    "\n",
    "print(a + b)"
   ]
  },
  {
   "cell_type": "code",
   "execution_count": 25,
   "id": "22043a3f",
   "metadata": {},
   "outputs": [
    {
     "name": "stdout",
     "output_type": "stream",
     "text": [
      "<class 'int'>\n",
      "<class 'str'>\n",
      "<class 'int'>\n"
     ]
    }
   ],
   "source": [
    "a = 5\n",
    "print(type(a))\n",
    "     \n",
    "a = \"10\"\n",
    "print(type(a))\n",
    "\n",
    "a = 15\n",
    "print(type(a))"
   ]
  },
  {
   "cell_type": "code",
   "execution_count": null,
   "id": "69be66bd",
   "metadata": {},
   "outputs": [],
   "source": [
    "print((5**3)%3)\n",
    "\n",
    "tmp = (5**3%3\n",
    "# tmp %= 3\n",
    "print(tmp)"
   ]
  },
  {
   "cell_type": "code",
   "execution_count": null,
   "id": "8285710f",
   "metadata": {},
   "outputs": [],
   "source": [
    "name = input(\"성함이 무엇인가요? : \")\n",
    "print(f\"{name} 입니다.\")\n",
    "\n"
   ]
  },
  {
   "cell_type": "code",
   "execution_count": 44,
   "id": "17a5baf3",
   "metadata": {},
   "outputs": [
    {
     "name": "stdout",
     "output_type": "stream",
     "text": [
      "첫번째 숫자를 입력하시오 : 5\n",
      "두번째 숫자를 입력하시오 : 5\n",
      "세번째 숫자를 입력하시오 : 5\n",
      "결과 값은 625입니다.\n"
     ]
    }
   ],
   "source": [
    "a = input(\"첫번째 숫자를 입력하시오 : \")\n",
    "b = input(\"두번째 숫자를 입력하시오 : \")\n",
    "c = input(\"세번째 숫자를 입력하시오 : \")\n",
    "\n",
    "a = int(a)\n",
    "b = int(b)\n",
    "c = int(c)\n",
    "\n",
    "print(f\"결과 값은 {round(a**b/c)}입니다.\")\n",
    "# print(f.\"계산의 결과는 {'(a**b)/c'}입니다.\")"
   ]
  },
  {
   "cell_type": "code",
   "execution_count": 48,
   "id": "6f65ca73",
   "metadata": {},
   "outputs": [
    {
     "name": "stdout",
     "output_type": "stream",
     "text": [
      "1 2 3 4 5 "
     ]
    }
   ],
   "source": [
    "# for ~ continue ~ break\n",
    "# 1~10 범위의 정수에서 1부터 5까지만 출력하세요.\n",
    "\n",
    "for i in range(1, 11):\n",
    "    print(i, end = \" \")\n",
    "    if i < 5:\n",
    "        continue\n",
    "    else:\n",
    "        break"
   ]
  },
  {
   "cell_type": "code",
   "execution_count": 72,
   "id": "3744f36a",
   "metadata": {},
   "outputs": [
    {
     "ename": "SyntaxError",
     "evalue": "invalid syntax (Temp/ipykernel_15156/698724260.py, line 8)",
     "output_type": "error",
     "traceback": [
      "\u001b[1;36m  File \u001b[1;32m\"C:\\Users\\admin\\AppData\\Local\\Temp/ipykernel_15156/698724260.py\"\u001b[1;36m, line \u001b[1;32m8\u001b[0m\n\u001b[1;33m    if i_1 >= 15\u001b[0m\n\u001b[1;37m                ^\u001b[0m\n\u001b[1;31mSyntaxError\u001b[0m\u001b[1;31m:\u001b[0m invalid syntax\n"
     ]
    }
   ],
   "source": [
    "# numbers 리스트에서 15, 20, 25를 출력하세요.\n",
    "\n",
    "numbers = [5, 15, 6, 20, 7, 25]\n",
    "\n",
    "for i in numbers:\n",
    "    i_1 = 5 * n\n",
    "    n = range(1, 100)\n",
    "    if i_1 >= 15\n",
    "        print(i_1, end = \" \")"
   ]
  },
  {
   "cell_type": "code",
   "execution_count": 100,
   "id": "985271b7",
   "metadata": {},
   "outputs": [
    {
     "name": "stdout",
     "output_type": "stream",
     "text": [
      "45\n",
      "1035\n"
     ]
    }
   ],
   "source": [
    "# while\n",
    "# 정수 1부터 n까지 더할 때 그 합이 1000보다 커지게 되는 n과 합을 구하세요\n",
    "\n",
    "x = 1\n",
    "sum = 0\n",
    "while a:\n",
    "    sum = sum + x\n",
    "    if sum > 1000:\n",
    "        print(x)\n",
    "        print(sum)\n",
    "        break\n",
    "    x = x + 1"
   ]
  },
  {
   "cell_type": "code",
   "execution_count": 112,
   "id": "e0bf0e38",
   "metadata": {},
   "outputs": [
    {
     "name": "stdout",
     "output_type": "stream",
     "text": [
      "166833\n"
     ]
    }
   ],
   "source": [
    "x = 0\n",
    "sum = 0\n",
    "while x < 1000:\n",
    "    x += 1\n",
    "    if x%3 == 0:\n",
    "        sum = sum + x\n",
    "\n",
    "print(sum)"
   ]
  },
  {
   "cell_type": "code",
   "execution_count": null,
   "id": "5cf67ed6",
   "metadata": {},
   "outputs": [],
   "source": [
    "# 1~100까지의 정수중 5에서 95까지의 합을 구하시오\n",
    "\n",
    "for i in range(1, 101)\n",
    "sum = 0\n",
    "while 4 < i < 96:\n",
    "    i = i\n"
   ]
  }
 ],
 "metadata": {
  "kernelspec": {
   "display_name": "Python 3 (ipykernel)",
   "language": "python",
   "name": "python3"
  },
  "language_info": {
   "codemirror_mode": {
    "name": "ipython",
    "version": 3
   },
   "file_extension": ".py",
   "mimetype": "text/x-python",
   "name": "python",
   "nbconvert_exporter": "python",
   "pygments_lexer": "ipython3",
   "version": "3.8.12"
  }
 },
 "nbformat": 4,
 "nbformat_minor": 5
}
