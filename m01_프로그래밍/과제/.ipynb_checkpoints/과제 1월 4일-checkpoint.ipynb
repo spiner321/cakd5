{
 "cells": [
  {
   "cell_type": "code",
   "execution_count": 1,
   "id": "ad0a9af0",
   "metadata": {},
   "outputs": [
    {
     "ename": "SyntaxError",
     "evalue": "invalid syntax (Temp/ipykernel_5580/721258101.py, line 1)",
     "output_type": "error",
     "traceback": [
      "\u001b[1;36m  File \u001b[1;32m\"C:\\Users\\spiner\\AppData\\Local\\Temp/ipykernel_5580/721258101.py\"\u001b[1;36m, line \u001b[1;32m1\u001b[0m\n\u001b[1;33m    숫자 대신 문자를 입력 시 예외가 발생하는데 아래 코드를 수정해서 예외 객체의 자료형과 예외 객체 자체를 출력하세요.\u001b[0m\n\u001b[1;37m       ^\u001b[0m\n\u001b[1;31mSyntaxError\u001b[0m\u001b[1;31m:\u001b[0m invalid syntax\n"
     ]
    }
   ],
   "source": [
    "# 숫자 대신 문자를 입력 시 예외가 발생하는데 아래 코드를 수정해서 예외 객체의 자료형과 예외 객체 자체를 출력하세요.\n",
    "\n",
    "num_input = int(input('정수 입력 > '))\n",
    "print('원의 반지름 : ', num_input)\n",
    "print('원의 둘레: ', 2 * 3.14 * num_input)\n",
    "print('원의 넓이: ', 3.14 * num_input * num_input)"
   ]
  },
  {
   "cell_type": "code",
   "execution_count": null,
   "id": "e581dac5",
   "metadata": {},
   "outputs": [],
   "source": [
    "# 아래 코드를 보완하여 발생 가능한 모든 예외(정수, 인덱스, 미리 파악하지 못한 예외)를 처리한 후 마지막에 \"모든 예외처리 완료\"를 출력하세요.\n",
    "\n",
    "list_num = [52, 273, 32, 72, 100]\n",
    "\n",
    "num_input = int(input('정수 입력 > '))\n",
    "print('{}번재 요소 : {}'.format(num_input, list_num[num_input - 1]))"
   ]
  },
  {
   "cell_type": "code",
   "execution_count": null,
   "id": "7a36bc38",
   "metadata": {},
   "outputs": [],
   "source": [
    "# [도전 과제] 지유 주제로 프로그래밍을 수행하세요. 단 예외처리 3건 이상\n"
   ]
  }
 ],
 "metadata": {
  "kernelspec": {
   "display_name": "Python 3 (ipykernel)",
   "language": "python",
   "name": "python3"
  },
  "language_info": {
   "codemirror_mode": {
    "name": "ipython",
    "version": 3
   },
   "file_extension": ".py",
   "mimetype": "text/x-python",
   "name": "python",
   "nbconvert_exporter": "python",
   "pygments_lexer": "ipython3",
   "version": "3.8.12"
  }
 },
 "nbformat": 4,
 "nbformat_minor": 5
}
