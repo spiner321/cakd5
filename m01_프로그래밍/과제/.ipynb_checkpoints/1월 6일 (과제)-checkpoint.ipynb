{
 "cells": [
  {
   "cell_type": "code",
   "execution_count": 19,
   "id": "a24748fc",
   "metadata": {},
   "outputs": [
    {
     "name": "stdout",
     "output_type": "stream",
     "text": [
      "<re.Match object; span=(6, 7), match='대'>\n",
      "대\n"
     ]
    }
   ],
   "source": [
    "## [과제] 'KOREA 대한민국'에서 '대'만 출력하세요\n",
    "\n",
    "import re\n",
    "\n",
    "text = 'KOREA 대한민국'\n",
    "p = re.compile('대')\n",
    "print(p.search(text))\n",
    "print(p.search(text).group())"
   ]
  },
  {
   "cell_type": "code",
   "execution_count": 2,
   "id": "673d2941",
   "metadata": {},
   "outputs": [],
   "source": [
    "## [과제] 'aaaaBBBcccDDDeee'를 모두 출력하세요\n",
    "\n"
   ]
  },
  {
   "cell_type": "code",
   "execution_count": 44,
   "id": "b6511623",
   "metadata": {},
   "outputs": [
    {
     "name": "stdout",
     "output_type": "stream",
     "text": [
      "<re.Match object; span=(1, 2), match='C'>\n",
      "<re.Match object; span=(0, 1), match='C'>\n",
      "<re.Match object; span=(2, 3), match='C'>\n"
     ]
    }
   ],
   "source": [
    "## [과제] BC, CC, ABC 모두 C가 출력되는 정규 표현식을 ()에 작성하세요\n",
    "\n",
    "import re\n",
    "\n",
    "pattern = re.compile('[C]')\n",
    "text1 = 'BC'\n",
    "text2 = 'CC'\n",
    "text3 = 'ABC'\n",
    "p1 = pattern.search(text1)\n",
    "p2 = pattern.search(text2)\n",
    "p3 = pattern.search(text3)\n",
    "print(p1)\n",
    "print(p2)\n",
    "print(p3)"
   ]
  },
  {
   "cell_type": "code",
   "execution_count": 7,
   "id": "b3e4f39c",
   "metadata": {},
   "outputs": [
    {
     "name": "stdout",
     "output_type": "stream",
     "text": [
      "032-232-3245\n",
      "032-232-3245\n"
     ]
    }
   ],
   "source": [
    "## [과제] 정규표현식을 사용하여 text에서 전화번호만 출력하세요.\n",
    "\n",
    "import re\n",
    "\n",
    "text = '문의사항이 있으면 032-232-3245로 연락주시기 바랍니다.'\n",
    "pattern = re.compile('[0-9]+\\-[0-9]+\\-[0-9]+')\n",
    "p1 = pattern.search(text)\n",
    "print(p1.group())\n",
    "\n",
    "print((re.search('[0-9]+\\-[0-9]+\\-[0-9]+', text)).group())\n"
   ]
  },
  {
   "cell_type": "code",
   "execution_count": 35,
   "id": "fa325d80",
   "metadata": {},
   "outputs": [
    {
     "name": "stdout",
     "output_type": "stream",
     "text": [
      "abcdefghij\n",
      "abcdefghij\n",
      "abcdefghi\n",
      "b\n",
      "e\n",
      "fghi\n"
     ]
    }
   ],
   "source": [
    "## [과제] 'abcdefghij'에 대하여 중첩을 적용한 서브그룹 5개로 컴파일하여 group()함수를 이용하여 'abcdefghi'와 'e'를 출력하세요\n",
    "\n",
    "import re\n",
    "\n",
    "p = re.compile('((a(b)cd(e)(fghi))j)')\n",
    "a = p.search('abcdefghij')\n",
    "\n",
    "print(a.group())\n",
    "print(a.group(1))\n",
    "print(a.group(2))\n",
    "print(a.group(3))\n",
    "print(a.group(4))\n",
    "print(a.group(5))"
   ]
  },
  {
   "cell_type": "code",
   "execution_count": 66,
   "id": "9103626a",
   "metadata": {},
   "outputs": [
    {
     "name": "stdout",
     "output_type": "stream",
     "text": [
      "home\n"
     ]
    }
   ],
   "source": [
    "## [과제] 'home sweet'에서 home만 출력하세요\n",
    "\n",
    "import re\n",
    "\n",
    "p = re.compile('home')\n",
    "m = p.findall('home sweet')\n",
    "print(''.join(m))"
   ]
  },
  {
   "cell_type": "code",
   "execution_count": 16,
   "id": "79c1ca26",
   "metadata": {},
   "outputs": [
    {
     "name": "stdout",
     "output_type": "stream",
     "text": [
      "<re.Match object; span=(0, 6), match='199305'>\n",
      "199305\n"
     ]
    }
   ],
   "source": [
    "## [과제] '199305, 1923A a93247'에서 '199305' 출력하세요\n",
    "\n",
    "import re\n",
    "\n",
    "p = re.compile('\\w+')\n",
    "m = p.search('199305, 1923A a93247')\n",
    "print(m)\n",
    "print(m.group())"
   ]
  }
 ],
 "metadata": {
  "kernelspec": {
   "display_name": "Python 3 (ipykernel)",
   "language": "python",
   "name": "python3"
  },
  "language_info": {
   "codemirror_mode": {
    "name": "ipython",
    "version": 3
   },
   "file_extension": ".py",
   "mimetype": "text/x-python",
   "name": "python",
   "nbconvert_exporter": "python",
   "pygments_lexer": "ipython3",
   "version": "3.8.12"
  }
 },
 "nbformat": 4,
 "nbformat_minor": 5
}
