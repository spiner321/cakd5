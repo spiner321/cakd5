{
 "cells": [
  {
   "cell_type": "code",
   "execution_count": 4,
   "id": "b8685244",
   "metadata": {},
   "outputs": [
    {
     "name": "stdout",
     "output_type": "stream",
     "text": [
      "['a', 'aaaa', 'ca', 'ababa', 'bar']\n"
     ]
    }
   ],
   "source": [
    "# [과제] strings를 다양한 문자가 포함된 순서로 정렬하세요.\n",
    "\n",
    "strings = ['a', 'ca', 'bar', 'aaaa', 'ababa']\n",
    "           \n",
    "strings.sort(key = lambda x: len(set(x)))\n",
    "strings[::-1]\n",
    "print(strings)\n"
   ]
  },
  {
   "cell_type": "code",
   "execution_count": 84,
   "id": "b6f9c01e",
   "metadata": {},
   "outputs": [
    {
     "name": "stdout",
     "output_type": "stream",
     "text": [
      "['a', 'aaaa', 'ca', 'ababa', 'bar']\n"
     ]
    }
   ],
   "source": [
    "# [과제] 튜플 형태인 strings를 다양한 문자가 포함된 순서로 정렬하세요.\n",
    "\n",
    "strings = ('a', 'ca', 'bar', 'aaaa', 'ababa')\n",
    "strings = list(strings)\n",
    "\n",
    "strings_1.sort(key = lambda x: len(set(x)))\n",
    "strings_1[::-1]\n",
    "print(strings_1)\n"
   ]
  },
  {
   "cell_type": "code",
   "execution_count": 30,
   "id": "f47f84d3",
   "metadata": {},
   "outputs": [
    {
     "name": "stdout",
     "output_type": "stream",
     "text": [
      "gfedcba\n"
     ]
    }
   ],
   "source": [
    "s = 'abcdefg'\n",
    "s_list = list(s)\n",
    "s_list.reverse()\n",
    "s_list\n",
    "print(''.join(s_list))"
   ]
  },
  {
   "cell_type": "code",
   "execution_count": 29,
   "id": "8635398b",
   "metadata": {},
   "outputs": [
    {
     "name": "stdout",
     "output_type": "stream",
     "text": [
      "Original String: abcdefg\n",
      "Reversed String: gfedcba\n"
     ]
    }
   ],
   "source": [
    "string = 'abcdefg'\n",
    "reversed_str = string[::-1]\n",
    "\n",
    "print(f'Original String: {string}')\n",
    "print(f'Reversed String: {reversed_str}')\n"
   ]
  },
  {
   "cell_type": "code",
   "execution_count": 45,
   "id": "e3920e79",
   "metadata": {},
   "outputs": [
    {
     "name": "stdout",
     "output_type": "stream",
     "text": [
      "dcb\n"
     ]
    }
   ],
   "source": [
    "s = 'abcdefg'\n",
    "\n",
    "print(s[3:0:-1])\n"
   ]
  },
  {
   "cell_type": "code",
   "execution_count": null,
   "id": "36c7d75b",
   "metadata": {},
   "outputs": [
    {
     "name": "stdout",
     "output_type": "stream",
     "text": [
      "(80, 0)\n"
     ]
    }
   ],
   "source": [
    "# 예약 시스템\n",
    "\n",
    "import datetime\n",
    "\n",
    "q_a = 0\n",
    "q_b = 0\n",
    "p_a = 80000\n",
    "p_b = 120000\n",
    "p_w = 30000\n",
    "p_tl = 0\n",
    "\n",
    "while 1:\n",
    "    date = input('예약한 날짜 (고객의 입장에서 임의로 선택)')\n",
    "    book = input('예약하실 날짜를 선택해주세요.(24 or 25)')\n",
    "    name = input('성함을 입력해주세요.')\n",
    "    menu = input('코스를 선택해주세요.(A/B)')\n",
    "    wine = input('추가요금을 지불하고 와인페어링 하시겠습니까? (y/n)')\n",
    "    alle = input('혹시 알러지가 있으신가요? (1 - 갑각류, 2 - 땅콩, 3 - 모두)')\n",
    "    \n",
    "    \n",
    "\n",
    "\n"
   ]
  },
  {
   "cell_type": "code",
   "execution_count": null,
   "id": "9d8d3182",
   "metadata": {},
   "outputs": [],
   "source": [
    "# 예약 재확인\n",
    "\n",
    "ques = (\"()일 예약 확정하시겠습니까? (y/n)\")\n",
    "ques2 = (\"()일 예약 확정하시겠습니까? 무응답시 예약이 취소됩니다.(y/n)\")"
   ]
  },
  {
   "cell_type": "code",
   "execution_count": null,
   "id": "8e9b4080",
   "metadata": {},
   "outputs": [],
   "source": [
    "# 취소\n",
    "\n",
    "ques3 = (\"예약을 취소하시겠습니까? (y/n)\")\n",
    "name2 = (\"성함을 입력해주세요\")"
   ]
  },
  {
   "cell_type": "code",
   "execution_count": null,
   "id": "22f863b8",
   "metadata": {},
   "outputs": [],
   "source": [
    "# 예약 확정 내역"
   ]
  }
 ],
 "metadata": {
  "kernelspec": {
   "display_name": "Python 3 (ipykernel)",
   "language": "python",
   "name": "python3"
  },
  "language_info": {
   "codemirror_mode": {
    "name": "ipython",
    "version": 3
   },
   "file_extension": ".py",
   "mimetype": "text/x-python",
   "name": "python",
   "nbconvert_exporter": "python",
   "pygments_lexer": "ipython3",
   "version": "3.8.12"
  }
 },
 "nbformat": 4,
 "nbformat_minor": 5
}
