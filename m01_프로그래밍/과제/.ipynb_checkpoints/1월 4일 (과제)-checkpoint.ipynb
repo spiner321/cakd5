{
 "cells": [
  {
   "cell_type": "code",
   "execution_count": null,
   "id": "f911508a",
   "metadata": {},
   "outputs": [],
   "source": [
    "# # 과제 : 숫자 대신 문자를 입력 시 예외가 발생하는데 아래 코드를 수정해서 예외 객체의 자료형과 예외 객체 자체를 출력하세요. \n",
    "\n",
    "num_input = int(input('정수 입력 > '))\n",
    "\n",
    "print('원의 반지름 : ', num_input)\n",
    "print('원의 둘레: ', 2 * 3.14 * num_input)\n",
    "print('원의 넓이: ', 3.14 * num_input * num_input)"
   ]
  },
  {
   "cell_type": "code",
   "execution_count": 27,
   "id": "471b98a2",
   "metadata": {},
   "outputs": [
    {
     "name": "stdout",
     "output_type": "stream",
     "text": [
      "정수 입력 > ffffff\n",
      "<class 'str'>\n",
      "ffffff\n"
     ]
    }
   ],
   "source": [
    "num_input = input('정수 입력 > ')\n",
    "\n",
    "try:\n",
    "    print('원의 반지름 : ', int(num_input))\n",
    "    print('원의 둘레: ', 2 * 3.14 * int(num_input))\n",
    "    print('원의 넓이: ', 3.14 * int(num_input) * int(num_input))\n",
    "\n",
    "except:\n",
    "    print(type(num_input))\n",
    "    print(num_input)\n"
   ]
  },
  {
   "cell_type": "code",
   "execution_count": 28,
   "id": "5cdb282b",
   "metadata": {},
   "outputs": [
    {
     "name": "stdout",
     "output_type": "stream",
     "text": [
      "정수 입력 > ffffffff\n",
      "<class 'ValueError'>\n",
      "invalid literal for int() with base 10: 'ffffffff'\n"
     ]
    }
   ],
   "source": [
    "try:\n",
    "    num_input = int(input('정수 입력 > '))\n",
    "    print('원의 반지름 : ', num_input)\n",
    "    print('원의 둘레: ', 2 * 3.14 * num_input)\n",
    "    print('원의 넓이: ', 3.14 * num_input * num_input)\n",
    "    \n",
    "except Exception as e:\n",
    "    print(type(e))\n",
    "    print(e)"
   ]
  },
  {
   "cell_type": "code",
   "execution_count": 20,
   "id": "590f3086",
   "metadata": {},
   "outputs": [
    {
     "ename": "KeyboardInterrupt",
     "evalue": "Interrupted by user",
     "output_type": "error",
     "traceback": [
      "\u001b[1;31m---------------------------------------------------------------------------\u001b[0m",
      "\u001b[1;31mKeyboardInterrupt\u001b[0m                         Traceback (most recent call last)",
      "\u001b[1;32m~\\AppData\\Local\\Temp/ipykernel_12892/4149156258.py\u001b[0m in \u001b[0;36m<module>\u001b[1;34m\u001b[0m\n\u001b[0;32m      3\u001b[0m \u001b[0mlist_num\u001b[0m \u001b[1;33m=\u001b[0m \u001b[1;33m[\u001b[0m\u001b[1;36m52\u001b[0m\u001b[1;33m,\u001b[0m \u001b[1;36m273\u001b[0m\u001b[1;33m,\u001b[0m \u001b[1;36m32\u001b[0m\u001b[1;33m,\u001b[0m \u001b[1;36m72\u001b[0m\u001b[1;33m,\u001b[0m \u001b[1;36m100\u001b[0m\u001b[1;33m]\u001b[0m\u001b[1;33m\u001b[0m\u001b[1;33m\u001b[0m\u001b[0m\n\u001b[0;32m      4\u001b[0m \u001b[1;33m\u001b[0m\u001b[0m\n\u001b[1;32m----> 5\u001b[1;33m \u001b[0mnum_input\u001b[0m \u001b[1;33m=\u001b[0m \u001b[0mint\u001b[0m\u001b[1;33m(\u001b[0m\u001b[0minput\u001b[0m\u001b[1;33m(\u001b[0m\u001b[1;34m'정수 입력 > '\u001b[0m\u001b[1;33m)\u001b[0m\u001b[1;33m)\u001b[0m\u001b[1;33m\u001b[0m\u001b[1;33m\u001b[0m\u001b[0m\n\u001b[0m\u001b[0;32m      6\u001b[0m \u001b[0mprint\u001b[0m\u001b[1;33m(\u001b[0m\u001b[1;34m'{}번재 요소 : {}'\u001b[0m\u001b[1;33m.\u001b[0m\u001b[0mformat\u001b[0m\u001b[1;33m(\u001b[0m\u001b[0mnum_input\u001b[0m\u001b[1;33m,\u001b[0m \u001b[0mlist_num\u001b[0m\u001b[1;33m[\u001b[0m\u001b[0mnum_input\u001b[0m \u001b[1;33m-\u001b[0m \u001b[1;36m1\u001b[0m\u001b[1;33m]\u001b[0m\u001b[1;33m)\u001b[0m\u001b[1;33m)\u001b[0m\u001b[1;33m\u001b[0m\u001b[1;33m\u001b[0m\u001b[0m\n",
      "\u001b[1;32m~\\anaconda3\\envs\\cakd5\\lib\\site-packages\\ipykernel\\kernelbase.py\u001b[0m in \u001b[0;36mraw_input\u001b[1;34m(self, prompt)\u001b[0m\n\u001b[0;32m   1004\u001b[0m                 \u001b[1;34m\"raw_input was called, but this frontend does not support input requests.\"\u001b[0m\u001b[1;33m\u001b[0m\u001b[1;33m\u001b[0m\u001b[0m\n\u001b[0;32m   1005\u001b[0m             )\n\u001b[1;32m-> 1006\u001b[1;33m         return self._input_request(\n\u001b[0m\u001b[0;32m   1007\u001b[0m             \u001b[0mstr\u001b[0m\u001b[1;33m(\u001b[0m\u001b[0mprompt\u001b[0m\u001b[1;33m)\u001b[0m\u001b[1;33m,\u001b[0m\u001b[1;33m\u001b[0m\u001b[1;33m\u001b[0m\u001b[0m\n\u001b[0;32m   1008\u001b[0m             \u001b[0mself\u001b[0m\u001b[1;33m.\u001b[0m\u001b[0m_parent_ident\u001b[0m\u001b[1;33m[\u001b[0m\u001b[1;34m\"shell\"\u001b[0m\u001b[1;33m]\u001b[0m\u001b[1;33m,\u001b[0m\u001b[1;33m\u001b[0m\u001b[1;33m\u001b[0m\u001b[0m\n",
      "\u001b[1;32m~\\anaconda3\\envs\\cakd5\\lib\\site-packages\\ipykernel\\kernelbase.py\u001b[0m in \u001b[0;36m_input_request\u001b[1;34m(self, prompt, ident, parent, password)\u001b[0m\n\u001b[0;32m   1049\u001b[0m             \u001b[1;32mexcept\u001b[0m \u001b[0mKeyboardInterrupt\u001b[0m\u001b[1;33m:\u001b[0m\u001b[1;33m\u001b[0m\u001b[1;33m\u001b[0m\u001b[0m\n\u001b[0;32m   1050\u001b[0m                 \u001b[1;31m# re-raise KeyboardInterrupt, to truncate traceback\u001b[0m\u001b[1;33m\u001b[0m\u001b[1;33m\u001b[0m\u001b[1;33m\u001b[0m\u001b[0m\n\u001b[1;32m-> 1051\u001b[1;33m                 \u001b[1;32mraise\u001b[0m \u001b[0mKeyboardInterrupt\u001b[0m\u001b[1;33m(\u001b[0m\u001b[1;34m\"Interrupted by user\"\u001b[0m\u001b[1;33m)\u001b[0m \u001b[1;32mfrom\u001b[0m \u001b[1;32mNone\u001b[0m\u001b[1;33m\u001b[0m\u001b[1;33m\u001b[0m\u001b[0m\n\u001b[0m\u001b[0;32m   1052\u001b[0m             \u001b[1;32mexcept\u001b[0m \u001b[0mException\u001b[0m\u001b[1;33m:\u001b[0m\u001b[1;33m\u001b[0m\u001b[1;33m\u001b[0m\u001b[0m\n\u001b[0;32m   1053\u001b[0m                 \u001b[0mself\u001b[0m\u001b[1;33m.\u001b[0m\u001b[0mlog\u001b[0m\u001b[1;33m.\u001b[0m\u001b[0mwarning\u001b[0m\u001b[1;33m(\u001b[0m\u001b[1;34m\"Invalid Message:\"\u001b[0m\u001b[1;33m,\u001b[0m \u001b[0mexc_info\u001b[0m\u001b[1;33m=\u001b[0m\u001b[1;32mTrue\u001b[0m\u001b[1;33m)\u001b[0m\u001b[1;33m\u001b[0m\u001b[1;33m\u001b[0m\u001b[0m\n",
      "\u001b[1;31mKeyboardInterrupt\u001b[0m: Interrupted by user"
     ]
    }
   ],
   "source": [
    "# # 과제 : 아래 코드를 보완하여 발생 가능한 모든 예외(정수, 인덱스, 미리 파악하지 못한 예외)를 처리한 후 마지막에 \"모든 예외처리 완료\"를 출력하세요.\n",
    "\n",
    "list_num = [52, 273, 32, 72, 100]\n",
    "\n",
    "num_input = int(input('정수 입력 > '))\n",
    "print('{}번재 요소 : {}'.format(num_input, list_num[num_input - 1]))"
   ]
  },
  {
   "cell_type": "code",
   "execution_count": 29,
   "id": "b3d9d30f",
   "metadata": {},
   "outputs": [
    {
     "name": "stdout",
     "output_type": "stream",
     "text": [
      "모든 예외처리 완료\n"
     ]
    },
    {
     "ename": "NameError",
     "evalue": "name 'Excetion' is not defined",
     "output_type": "error",
     "traceback": [
      "\u001b[1;31m---------------------------------------------------------------------------\u001b[0m",
      "\u001b[1;31mKeyboardInterrupt\u001b[0m                         Traceback (most recent call last)",
      "\u001b[1;32m~\\AppData\\Local\\Temp/ipykernel_12892/2456997622.py\u001b[0m in \u001b[0;36m<module>\u001b[1;34m\u001b[0m\n\u001b[0;32m      3\u001b[0m \u001b[1;32mtry\u001b[0m\u001b[1;33m:\u001b[0m\u001b[1;33m\u001b[0m\u001b[1;33m\u001b[0m\u001b[0m\n\u001b[1;32m----> 4\u001b[1;33m     \u001b[0mnum_input\u001b[0m \u001b[1;33m=\u001b[0m \u001b[0mint\u001b[0m\u001b[1;33m(\u001b[0m\u001b[0minput\u001b[0m\u001b[1;33m(\u001b[0m\u001b[1;34m'정수 입력 > '\u001b[0m\u001b[1;33m)\u001b[0m\u001b[1;33m)\u001b[0m\u001b[1;33m\u001b[0m\u001b[1;33m\u001b[0m\u001b[0m\n\u001b[0m\u001b[0;32m      5\u001b[0m     \u001b[0mprint\u001b[0m\u001b[1;33m(\u001b[0m\u001b[1;34m'{}번째 요소: {}'\u001b[0m\u001b[1;33m.\u001b[0m\u001b[0mformat\u001b[0m\u001b[1;33m(\u001b[0m\u001b[0mnum_input\u001b[0m\u001b[1;33m,\u001b[0m \u001b[0mlist_num\u001b[0m\u001b[1;33m[\u001b[0m\u001b[0mnum_input\u001b[0m \u001b[1;33m-\u001b[0m\u001b[1;36m1\u001b[0m\u001b[1;33m]\u001b[0m\u001b[1;33m)\u001b[0m\u001b[1;33m)\u001b[0m\u001b[1;33m\u001b[0m\u001b[1;33m\u001b[0m\u001b[0m\n",
      "\u001b[1;32m~\\anaconda3\\envs\\cakd5\\lib\\site-packages\\ipykernel\\kernelbase.py\u001b[0m in \u001b[0;36mraw_input\u001b[1;34m(self, prompt)\u001b[0m\n\u001b[0;32m   1005\u001b[0m             )\n\u001b[1;32m-> 1006\u001b[1;33m         return self._input_request(\n\u001b[0m\u001b[0;32m   1007\u001b[0m             \u001b[0mstr\u001b[0m\u001b[1;33m(\u001b[0m\u001b[0mprompt\u001b[0m\u001b[1;33m)\u001b[0m\u001b[1;33m,\u001b[0m\u001b[1;33m\u001b[0m\u001b[1;33m\u001b[0m\u001b[0m\n",
      "\u001b[1;32m~\\anaconda3\\envs\\cakd5\\lib\\site-packages\\ipykernel\\kernelbase.py\u001b[0m in \u001b[0;36m_input_request\u001b[1;34m(self, prompt, ident, parent, password)\u001b[0m\n\u001b[0;32m   1050\u001b[0m                 \u001b[1;31m# re-raise KeyboardInterrupt, to truncate traceback\u001b[0m\u001b[1;33m\u001b[0m\u001b[1;33m\u001b[0m\u001b[1;33m\u001b[0m\u001b[0m\n\u001b[1;32m-> 1051\u001b[1;33m                 \u001b[1;32mraise\u001b[0m \u001b[0mKeyboardInterrupt\u001b[0m\u001b[1;33m(\u001b[0m\u001b[1;34m\"Interrupted by user\"\u001b[0m\u001b[1;33m)\u001b[0m \u001b[1;32mfrom\u001b[0m \u001b[1;32mNone\u001b[0m\u001b[1;33m\u001b[0m\u001b[1;33m\u001b[0m\u001b[0m\n\u001b[0m\u001b[0;32m   1052\u001b[0m             \u001b[1;32mexcept\u001b[0m \u001b[0mException\u001b[0m\u001b[1;33m:\u001b[0m\u001b[1;33m\u001b[0m\u001b[1;33m\u001b[0m\u001b[0m\n",
      "\u001b[1;31mKeyboardInterrupt\u001b[0m: Interrupted by user",
      "\nDuring handling of the above exception, another exception occurred:\n",
      "\u001b[1;31mNameError\u001b[0m                                 Traceback (most recent call last)",
      "\u001b[1;32m~\\AppData\\Local\\Temp/ipykernel_12892/2456997622.py\u001b[0m in \u001b[0;36m<module>\u001b[1;34m\u001b[0m\n\u001b[0;32m      8\u001b[0m \u001b[1;32mexcept\u001b[0m \u001b[0mValueError\u001b[0m\u001b[1;33m:\u001b[0m\u001b[1;33m\u001b[0m\u001b[1;33m\u001b[0m\u001b[0m\n\u001b[0;32m      9\u001b[0m     \u001b[0mprint\u001b[0m\u001b[1;33m(\u001b[0m\u001b[1;34m\"정수 값을 입력하세요\"\u001b[0m\u001b[1;33m)\u001b[0m\u001b[1;33m\u001b[0m\u001b[1;33m\u001b[0m\u001b[0m\n\u001b[1;32m---> 10\u001b[1;33m \u001b[1;32mexcept\u001b[0m \u001b[0mExcetion\u001b[0m\u001b[1;33m:\u001b[0m\u001b[1;33m\u001b[0m\u001b[1;33m\u001b[0m\u001b[0m\n\u001b[0m\u001b[0;32m     11\u001b[0m     \u001b[0mprint\u001b[0m\u001b[1;33m(\u001b[0m\u001b[1;34m\"정수 값을 입력하세요\"\u001b[0m\u001b[1;33m)\u001b[0m\u001b[1;33m\u001b[0m\u001b[1;33m\u001b[0m\u001b[0m\n\u001b[0;32m     12\u001b[0m \u001b[1;32mfinally\u001b[0m\u001b[1;33m:\u001b[0m\u001b[1;33m\u001b[0m\u001b[1;33m\u001b[0m\u001b[0m\n",
      "\u001b[1;31mNameError\u001b[0m: name 'Excetion' is not defined"
     ]
    }
   ],
   "source": [
    "list_num = [52, 273, 32, 72, 100]\n",
    "\n",
    "while 1:\n",
    "    try:\n",
    "        num_input = int(input('정수 입력 > '))\n",
    "        print('{}번째 요소: {}'.format(num_input, list_num[num_input -1]))\n",
    "        break\n",
    "    except IndexError:\n",
    "        print(\"인덱스 오류, 범위 안의 값을 입력하세요\")\n",
    "    except ValueError:\n",
    "        print(\"정수 값을 입력하세요\")\n",
    "    except Excetion:\n",
    "        print(\"정수 값을 입력하세요\")\n",
    "    finally:\n",
    "        print(\"모든 예외처리 완료\")"
   ]
  },
  {
   "cell_type": "code",
   "execution_count": null,
   "id": "a844b3f7",
   "metadata": {},
   "outputs": [],
   "source": [
    "# # 과제 : [도전] 지유 주제로 프로그래밍을 수행하세요. 단 예외처리 3건 이상 # #"
   ]
  },
  {
   "cell_type": "code",
   "execution_count": null,
   "id": "e406424d",
   "metadata": {},
   "outputs": [],
   "source": [
    "print(\"3가지 수 더하기\")\n",
    "while 1:\n",
    "    try:\n",
    "        a=input(\"첫번째 : \")\n",
    "        a=int(a)\n",
    "    except (ZeroDivisionError, IndexError, ValueError) as e:\n",
    "        print(e)\n",
    "\n",
    "    try:    \n",
    "        b=input(\"두번째 : \")\n",
    "        b=int(b)\n",
    "    except (ZeroDivisionError, IndexError, ValueError) as e:\n",
    "        print(e)    \n",
    "        \n",
    "    try:    \n",
    "        c=input(\"세번째 : \")\n",
    "        c=int(c)\n",
    "    except (ZeroDivisionError, IndexError, ValueError) as e:\n",
    "        print(e)   \n",
    "\n",
    "    print(f\"더한값 : {a+b+c}\\n\")"
   ]
  },
  {
   "cell_type": "code",
   "execution_count": 1,
   "id": "d6109026",
   "metadata": {},
   "outputs": [],
   "source": [
    "# 클래스에 대해서 정의해서 설명하기"
   ]
  },
  {
   "cell_type": "code",
   "execution_count": 54,
   "id": "05f50384",
   "metadata": {},
   "outputs": [
    {
     "name": "stdout",
     "output_type": "stream",
     "text": [
      "추가 가격을 입력해 주세요 : 1000\n",
      "가격 : 2000원\n",
      "추가 가격을 입력해 주세요 : 2000\n",
      "가격 : 3000원\n"
     ]
    }
   ],
   "source": [
    "# # 과제 : 사용자 함수를 작성하여 기본가격 1000에 입력 받은 값을 추가한 가격을 산출하세요. (지역변수, 전역변수 2가지 방법) - global 사용\n",
    "\n",
    "\n",
    "# 지역 변수\n",
    "\n",
    "p = int(input('추가 가격을 입력해 주세요 : '))\n",
    "\n",
    "def price(p):\n",
    "    b = 1000\n",
    "    b += p\n",
    "    return b\n",
    "print(f'가격 : {price(p)}원')\n",
    "\n",
    "\n",
    "# 전역 변수\n",
    "\n",
    "b = 1000\n",
    "def price():\n",
    "    global b\n",
    "    p = int(input('추가 가격을 입력해 주세요 : '))\n",
    "    b += p\n",
    "    return b\n",
    "print(f'가격 : {price()}원')    \n"
   ]
  },
  {
   "cell_type": "code",
   "execution_count": 39,
   "id": "69c41278",
   "metadata": {},
   "outputs": [
    {
     "name": "stdout",
     "output_type": "stream",
     "text": [
      "2500\n",
      "2500\n"
     ]
    }
   ],
   "source": [
    "# ==== 전역변수 사용\n",
    "money = 1000\n",
    "\n",
    "class Calmoney:\n",
    "    def cal(self, give):\n",
    "        global money\n",
    "        money = money + give\n",
    "    \n",
    "돈계산 = Calmoney()\n",
    "돈계산.cal(1500)\n",
    "print(money)\n",
    "\n",
    "# ==== 지역변수 사용\n",
    "class Calmoney2:\n",
    "    def cal2(self, give):\n",
    "        money = 1000\n",
    "        return money + give\n",
    "\n",
    "돈계산2 = Calmoney2()\n",
    "print(돈계산2.cal2(1500))\n"
   ]
  },
  {
   "cell_type": "code",
   "execution_count": null,
   "id": "f22f9a1c",
   "metadata": {},
   "outputs": [
    {
     "name": "stdout",
     "output_type": "stream",
     "text": [
      "입력1 : 5\n",
      "입력2 : 1\n",
      "6\n",
      "5\n",
      "입력1 : -1\n",
      "입력2 : 1\n",
      "0\n",
      "-1\n",
      "입력1 : -1\n",
      "입력2 : 0\n",
      "-1\n",
      "0\n"
     ]
    }
   ],
   "source": [
    "# # 과제 : 사칙 연산 기능을 포함한 Cal4 클래스(생성자 이용)을 작성하고 이 클래스를 이용하여 Cal 계산기 객체를 만든 후 적절한 수를 적용하여 사칙연산 수행 결과를 출력하세요.\n",
    "\n",
    "class Cal4:\n",
    "    def __init__(self, num_1, num_2):\n",
    "        self.num_1 = num_1\n",
    "        self.num_2 = num_2\n",
    "    \n",
    "    def add(self):\n",
    "        result = self.num_1 + self.num_2\n",
    "        return result\n",
    "    \n",
    "    def mul(self):\n",
    "        result = self.num_1 * self.num_2\n",
    "        return result\n",
    "    \n",
    "    def sub(self):\n",
    "        result = self.num_1 - self.num_2\n",
    "        return result\n",
    "    \n",
    "    def div(self):\n",
    "        result = self.num_1 / self.num_2\n",
    "        return result\n",
    "\n",
    "while 1: \n",
    "    num_1 = int(input('입력1 : '))\n",
    "    num_2 = int(input('입력2 : '))\n",
    "    \n",
    "    if num_1 == 0 & num_2 == 0:\n",
    "        print('다시 입력하세요')\n",
    "    \n",
    "    else:\n",
    "        cal = Cal4(num_1, num_2)\n",
    "        print(cal.add())\n",
    "        print(cal.mul())"
   ]
  },
  {
   "cell_type": "code",
   "execution_count": 73,
   "id": "f7392551",
   "metadata": {},
   "outputs": [
    {
     "name": "stdout",
     "output_type": "stream",
     "text": [
      "첫 번째 숫자 입력: 1\n",
      "두 번째 숫자 입력: 0\n",
      "0이 아닌 수를 입력하세요\n",
      "첫 번째 숫자 입력: 5\n",
      "두 번째 숫자 입력: 1\n",
      "5 + 1 = 6\n",
      "5 - 1 = 4\n",
      "5 * 1 = 5\n",
      "5 / 1 = 5.0\n"
     ]
    }
   ],
   "source": [
    "class Cal():\n",
    "    def __init__(cal, x, y):\n",
    "        cal.x=x\n",
    "        cal.y=y\n",
    "        \n",
    "    def getSum(cal):\n",
    "        print(f'{cal.x} + {cal.y} = {cal.x+cal.y}')\n",
    "    def getSub(cal):\n",
    "        print(f'{cal.x} - {cal.y} = {cal.x-cal.y}')\n",
    "    def getMul(cal):\n",
    "        print(f'{cal.x} * {cal.y} = {cal.x*cal.y}')\n",
    "    def getDiv(cal):\n",
    "        print(f'{cal.x} / {cal.y} = {cal.x/cal.y}')\n",
    "            \n",
    "    def getAll(cal):\n",
    "        cal.getSum()\n",
    "        cal.getSub()\n",
    "        cal.getMul()\n",
    "        cal.getDiv()       \n",
    "\n",
    "while 1:\n",
    "    x = int(input(\"첫 번째 숫자 입력: \"))\n",
    "    y = int(input(\"두 번째 숫자 입력: \"))\n",
    "    \n",
    "    if x == 0 or y == 0:\n",
    "        print('0이 아닌 수를 입력하세요')\n",
    "    else:\n",
    "        cal = Cal(x, y)\n",
    "        cal.getAll()\n",
    "        break"
   ]
  },
  {
   "cell_type": "code",
   "execution_count": null,
   "id": "13506440",
   "metadata": {},
   "outputs": [],
   "source": [
    "class Cal4:\n",
    "    def __init__(self,num1,num2):\n",
    "        self.num1=num1\n",
    "        self.num2=num2\n",
    "    def add(self):\n",
    "        return self.num1+self.num2\n",
    "    def sub(self):\n",
    "        return self.num1-self.num2\n",
    "    def mul(self):\n",
    "        return self.num1*self.num2\n",
    "    def div(self):\n",
    "        return round(self.num1/self.num2,2)\n",
    "while 1:\n",
    "    try:\n",
    "        num1=int(input(\"첫번째 정수 입력>\"))\n",
    "        num2=int(input(\"두번째 정수 입력>\"))\n",
    "        break\n",
    "    except:\n",
    "        print(\"올바른 값을 입력하세요.\")\n",
    "cal=Cal4(num1,num2)\n",
    "print(f'add : {cal.add()}, sub : {cal.sub()}, mul : {cal.mul()}, div : {cal.div()}')\n"
   ]
  },
  {
   "cell_type": "code",
   "execution_count": 3,
   "id": "9d9135d1",
   "metadata": {},
   "outputs": [],
   "source": [
    "# [도전] 관심 주제에 대하여 100 ~ 200라인 정도의 프로그램을 구조지향적으로 작성하신 후 클래스를 이요한 객체지향 프로그래밍으로 수정하세요. (필요시 상속 이용)"
   ]
  }
 ],
 "metadata": {
  "kernelspec": {
   "display_name": "Python 3 (ipykernel)",
   "language": "python",
   "name": "python3"
  },
  "language_info": {
   "codemirror_mode": {
    "name": "ipython",
    "version": 3
   },
   "file_extension": ".py",
   "mimetype": "text/x-python",
   "name": "python",
   "nbconvert_exporter": "python",
   "pygments_lexer": "ipython3",
   "version": "3.8.12"
  }
 },
 "nbformat": 4,
 "nbformat_minor": 5
}
