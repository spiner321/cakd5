{
 "cells": [
  {
   "cell_type": "markdown",
   "id": "311b88a5",
   "metadata": {},
   "source": [
    "# # 1월 24일"
   ]
  },
  {
   "cell_type": "code",
   "execution_count": 130,
   "id": "3d0061cf",
   "metadata": {
    "ExecuteTime": {
     "end_time": "2022-01-28T08:31:32.679797Z",
     "start_time": "2022-01-28T08:31:32.663835Z"
    }
   },
   "outputs": [],
   "source": [
    "import numpy as np\n",
    "import pandas as pd\n",
    "import matplotlib.pyplot as plt\n",
    "import seaborn as sns\n",
    "import warnings\n",
    "plt.style.use('seaborn')\n",
    "warnings.filterwarnings('ignore')"
   ]
  },
  {
   "cell_type": "markdown",
   "id": "ef984f65",
   "metadata": {},
   "source": [
    "## # 1차원 데이터\n",
    "---\n",
    "- 평균값(기대값), 표본 분산, 불편 분산(ddof = 1), 표준 편차\n",
    "- 표본 분산은 표본의 평균을 사용해서 분산을 계산한 값으로 분산을 과소 추정하는 경향이 있으며 그 경향을 없애기 위한 것이 불편 분산. 표본 분산보다 조금 큰 값이 된다.\n",
    "- 표준화 : 평균값이 큰 변수와 작은 변수가 섞여 있으면 다루기 어려우므로 표준화로 데이터를 비교하기 쉽게 한다.\n",
    "- 최대값, 최소값, 중앙값, 사분위수\n",
    "- 표본 분산과 불편 분산(비편향 분산)\n",
    " - 표본 분산은 표본에서 계산된 분산이며 모집단에 비해 표본수가 적을 때는 표본 분산이 모분산보다 작아진다.\n",
    " - 즉 표본 분산이 모집단 분산에 맞춰서 동일하게 보정한 것을 비편향 분산이라 한다.\n",
    " - 통계학에서는 이 비편향 분산을 사용하는 경우가 많다.\n",
    " - 불편분산은 n대신 n-1로 나누어 구할 수 있다.\n",
    "\n",
    "[표본분산이 분산을 과소 평가하는 이유]\n",
    " - https://m.blog.naver.com/ao9364/222023124818\n",
    " - https://m.blog.naver.com/sw4r/221021838997"
   ]
  },
  {
   "cell_type": "code",
   "execution_count": 3,
   "id": "7d8cf7ce",
   "metadata": {
    "ExecuteTime": {
     "end_time": "2022-01-28T06:50:06.227696Z",
     "start_time": "2022-01-28T06:50:04.106989Z"
    }
   },
   "outputs": [
    {
     "data": {
      "text/html": [
       "<div>\n",
       "<style scoped>\n",
       "    .dataframe tbody tr th:only-of-type {\n",
       "        vertical-align: middle;\n",
       "    }\n",
       "\n",
       "    .dataframe tbody tr th {\n",
       "        vertical-align: top;\n",
       "    }\n",
       "\n",
       "    .dataframe thead th {\n",
       "        text-align: right;\n",
       "    }\n",
       "</style>\n",
       "<table border=\"1\" class=\"dataframe\">\n",
       "  <thead>\n",
       "    <tr style=\"text-align: right;\">\n",
       "      <th></th>\n",
       "      <th>student number</th>\n",
       "      <th>english</th>\n",
       "      <th>mathematics</th>\n",
       "    </tr>\n",
       "  </thead>\n",
       "  <tbody>\n",
       "    <tr>\n",
       "      <th>0</th>\n",
       "      <td>1</td>\n",
       "      <td>42</td>\n",
       "      <td>65</td>\n",
       "    </tr>\n",
       "    <tr>\n",
       "      <th>1</th>\n",
       "      <td>2</td>\n",
       "      <td>69</td>\n",
       "      <td>80</td>\n",
       "    </tr>\n",
       "    <tr>\n",
       "      <th>2</th>\n",
       "      <td>3</td>\n",
       "      <td>56</td>\n",
       "      <td>63</td>\n",
       "    </tr>\n",
       "    <tr>\n",
       "      <th>3</th>\n",
       "      <td>4</td>\n",
       "      <td>41</td>\n",
       "      <td>63</td>\n",
       "    </tr>\n",
       "    <tr>\n",
       "      <th>4</th>\n",
       "      <td>5</td>\n",
       "      <td>57</td>\n",
       "      <td>76</td>\n",
       "    </tr>\n",
       "  </tbody>\n",
       "</table>\n",
       "</div>"
      ],
      "text/plain": [
       "   student number  english  mathematics\n",
       "0               1       42           65\n",
       "1               2       69           80\n",
       "2               3       56           63\n",
       "3               4       41           63\n",
       "4               5       57           76"
      ]
     },
     "execution_count": 3,
     "metadata": {},
     "output_type": "execute_result"
    }
   ],
   "source": [
    "df = pd.read_csv('D:/python/cakd5/m3_통계/data/ch2_scores_em.csv')\n",
    "df.head()"
   ]
  },
  {
   "cell_type": "code",
   "execution_count": 4,
   "id": "f37877a5",
   "metadata": {
    "ExecuteTime": {
     "end_time": "2022-01-28T06:50:06.275560Z",
     "start_time": "2022-01-28T06:50:06.263564Z"
    }
   },
   "outputs": [
    {
     "data": {
      "text/plain": [
       "array([42, 69, 56, 41, 57, 48, 65, 49, 65, 58], dtype=int64)"
      ]
     },
     "execution_count": 4,
     "metadata": {},
     "output_type": "execute_result"
    }
   ],
   "source": [
    "scores = np.array(df.english)[:10]\n",
    "scores"
   ]
  },
  {
   "cell_type": "code",
   "execution_count": 5,
   "id": "c1fbb3ed",
   "metadata": {
    "ExecuteTime": {
     "end_time": "2022-01-28T06:50:06.339376Z",
     "start_time": "2022-01-28T06:50:06.309457Z"
    }
   },
   "outputs": [
    {
     "data": {
      "text/html": [
       "<div>\n",
       "<style scoped>\n",
       "    .dataframe tbody tr th:only-of-type {\n",
       "        vertical-align: middle;\n",
       "    }\n",
       "\n",
       "    .dataframe tbody tr th {\n",
       "        vertical-align: top;\n",
       "    }\n",
       "\n",
       "    .dataframe thead th {\n",
       "        text-align: right;\n",
       "    }\n",
       "</style>\n",
       "<table border=\"1\" class=\"dataframe\">\n",
       "  <thead>\n",
       "    <tr style=\"text-align: right;\">\n",
       "      <th></th>\n",
       "      <th>score</th>\n",
       "    </tr>\n",
       "  </thead>\n",
       "  <tbody>\n",
       "    <tr>\n",
       "      <th>A</th>\n",
       "      <td>42</td>\n",
       "    </tr>\n",
       "    <tr>\n",
       "      <th>B</th>\n",
       "      <td>69</td>\n",
       "    </tr>\n",
       "    <tr>\n",
       "      <th>C</th>\n",
       "      <td>56</td>\n",
       "    </tr>\n",
       "    <tr>\n",
       "      <th>D</th>\n",
       "      <td>41</td>\n",
       "    </tr>\n",
       "    <tr>\n",
       "      <th>E</th>\n",
       "      <td>57</td>\n",
       "    </tr>\n",
       "    <tr>\n",
       "      <th>F</th>\n",
       "      <td>48</td>\n",
       "    </tr>\n",
       "    <tr>\n",
       "      <th>G</th>\n",
       "      <td>65</td>\n",
       "    </tr>\n",
       "    <tr>\n",
       "      <th>H</th>\n",
       "      <td>49</td>\n",
       "    </tr>\n",
       "    <tr>\n",
       "      <th>I</th>\n",
       "      <td>65</td>\n",
       "    </tr>\n",
       "    <tr>\n",
       "      <th>J</th>\n",
       "      <td>58</td>\n",
       "    </tr>\n",
       "  </tbody>\n",
       "</table>\n",
       "</div>"
      ],
      "text/plain": [
       "   score\n",
       "A     42\n",
       "B     69\n",
       "C     56\n",
       "D     41\n",
       "E     57\n",
       "F     48\n",
       "G     65\n",
       "H     49\n",
       "I     65\n",
       "J     58"
      ]
     },
     "execution_count": 5,
     "metadata": {},
     "output_type": "execute_result"
    }
   ],
   "source": [
    "index = list('ABCDEFGHIJ')\n",
    "score_df = pd.DataFrame({'score' : scores}, index = index)\n",
    "# score_df = pd.DataFrame({'score' : scores}, index = pd.index(index, name = 'student'))\n",
    "score_df"
   ]
  },
  {
   "cell_type": "markdown",
   "id": "b09911fe",
   "metadata": {},
   "source": [
    "### # 평균값\n",
    "---"
   ]
  },
  {
   "cell_type": "code",
   "execution_count": 7,
   "id": "30a5790e",
   "metadata": {
    "ExecuteTime": {
     "end_time": "2022-01-28T06:50:23.811071Z",
     "start_time": "2022-01-28T06:50:23.795117Z"
    }
   },
   "outputs": [
    {
     "name": "stdout",
     "output_type": "stream",
     "text": [
      "55.0\n",
      "55.0\n"
     ]
    },
    {
     "data": {
      "text/plain": [
       "score    55.0\n",
       "dtype: float64"
      ]
     },
     "execution_count": 7,
     "metadata": {},
     "output_type": "execute_result"
    }
   ],
   "source": [
    "print(sum(scores) / len(scores))\n",
    "print(np.mean(scores))\n",
    "score_df.mean()"
   ]
  },
  {
   "cell_type": "markdown",
   "id": "7ce3260b",
   "metadata": {},
   "source": [
    "### # 중앙값\n",
    "---"
   ]
  },
  {
   "cell_type": "code",
   "execution_count": 9,
   "id": "6321eadd",
   "metadata": {
    "ExecuteTime": {
     "end_time": "2022-01-28T06:52:47.810922Z",
     "start_time": "2022-01-28T06:52:47.783993Z"
    }
   },
   "outputs": [
    {
     "name": "stdout",
     "output_type": "stream",
     "text": [
      "56.5\n",
      "56.5\n"
     ]
    },
    {
     "data": {
      "text/plain": [
       "score    56.5\n",
       "dtype: float64"
      ]
     },
     "execution_count": 9,
     "metadata": {},
     "output_type": "execute_result"
    }
   ],
   "source": [
    "sorted_scores = np.sort(scores)\n",
    "sorted_scores\n",
    "\n",
    "n = len(sorted_scores)\n",
    "if n % 2 == 0:\n",
    "    m0 = sorted_scores[n // 2 - 1]\n",
    "    m1 = sorted_scores[n // 2]\n",
    "    median = (m0 + m1) / 2\n",
    "else:\n",
    "    median = sorted_scores[n // 2 + 1]\n",
    "    \n",
    "print(median)\n",
    "\n",
    "print(np.median(scores))\n",
    "score_df.median()"
   ]
  },
  {
   "cell_type": "markdown",
   "id": "3ebce931",
   "metadata": {},
   "source": [
    "### # 최빈값\n",
    "---"
   ]
  },
  {
   "cell_type": "code",
   "execution_count": 11,
   "id": "8105868b",
   "metadata": {
    "ExecuteTime": {
     "end_time": "2022-01-28T06:53:32.625981Z",
     "start_time": "2022-01-28T06:53:32.613011Z"
    }
   },
   "outputs": [
    {
     "data": {
      "text/plain": [
       "0    1\n",
       "dtype: int64"
      ]
     },
     "execution_count": 11,
     "metadata": {},
     "output_type": "execute_result"
    }
   ],
   "source": [
    "pd.Series([1, 1, 1, 2, 2, 3]).mode()"
   ]
  },
  {
   "cell_type": "markdown",
   "id": "8d9b2d3d",
   "metadata": {},
   "source": [
    "### # 분산과 표준편차\n",
    "---"
   ]
  },
  {
   "cell_type": "code",
   "execution_count": 12,
   "id": "ed5f8954",
   "metadata": {
    "ExecuteTime": {
     "end_time": "2022-01-28T06:56:14.376225Z",
     "start_time": "2022-01-28T06:56:14.358270Z"
    }
   },
   "outputs": [
    {
     "data": {
      "text/plain": [
       "array([42, 69, 56, 41, 57, 48, 65, 49, 65, 58], dtype=int64)"
      ]
     },
     "execution_count": 12,
     "metadata": {},
     "output_type": "execute_result"
    }
   ],
   "source": [
    "scores"
   ]
  },
  {
   "cell_type": "markdown",
   "id": "a74d122a",
   "metadata": {},
   "source": [
    "#### # 편차\n",
    "---"
   ]
  },
  {
   "cell_type": "code",
   "execution_count": 82,
   "id": "6237b74e",
   "metadata": {
    "ExecuteTime": {
     "end_time": "2022-01-25T01:08:47.598206Z",
     "start_time": "2022-01-25T01:08:47.584245Z"
    }
   },
   "outputs": [
    {
     "name": "stdout",
     "output_type": "stream",
     "text": [
      "55.0\n"
     ]
    },
    {
     "data": {
      "text/plain": [
       "array([-13.,  14.,   1., -14.,   2.,  -7.,  10.,  -6.,  10.,   3.])"
      ]
     },
     "execution_count": 82,
     "metadata": {},
     "output_type": "execute_result"
    }
   ],
   "source": [
    "mean = np.mean(scores)\n",
    "print(mean)\n",
    "deviation = scores - mean\n",
    "deviation"
   ]
  },
  {
   "cell_type": "code",
   "execution_count": 83,
   "id": "750e6c71",
   "metadata": {
    "ExecuteTime": {
     "end_time": "2022-01-25T01:08:47.629123Z",
     "start_time": "2022-01-25T01:08:47.607186Z"
    }
   },
   "outputs": [
    {
     "name": "stdout",
     "output_type": "stream",
     "text": [
      "[ 78  63  95  95  70  52  63 100  86  88  55  70  89  73  65  66  99  95\n",
      "  84  50] \n",
      "\n",
      "76.8 \n",
      "\n",
      "[  1.2 -13.8  18.2  18.2  -6.8 -24.8 -13.8  23.2   9.2  11.2 -21.8  -6.8\n",
      "  12.2  -3.8 -11.8 -10.8  22.2  18.2   7.2 -26.8] \n",
      "\n",
      "5.684341886080802e-14 \n",
      "\n",
      "2.842170943040401e-15\n"
     ]
    }
   ],
   "source": [
    "# 20개 원소로 구성되는 배열을 만든 후 평균, 편차 및 편차의 합을 구하세요\n",
    "\n",
    "a = np.random.randint(50, 101, 20)\n",
    "print(a, '\\n')\n",
    "print(a.mean(), '\\n')\n",
    "print((a - a.mean()), '\\n')\n",
    "print((a - a.mean()).sum(), '\\n')\n",
    "print((a - a.mean()).mean())"
   ]
  },
  {
   "cell_type": "markdown",
   "id": "f8c9972c",
   "metadata": {},
   "source": [
    "#### # 분산\n",
    "---\n",
    "- Numpy와 Pandas는 서로 다른 분산을 기본으로 설정하여 게산\n",
    " * Numpy는 표본 분산, Pandas는 불편 분산 \n",
    " * Pandas에서 표본 분산을 계산하려면 var 메소드의 인수를 ddof = 0이라고 설정, 불편 분산은 ddof = 1일 때 해당 (ddof : 자유도)\n",
    " * 불편 분산이 정확도가 더 높다 (불편 : 편향이 되지 않은)"
   ]
  },
  {
   "cell_type": "markdown",
   "id": "25533587",
   "metadata": {},
   "source": [
    "##### # 표본 분산\n",
    "---"
   ]
  },
  {
   "cell_type": "code",
   "execution_count": 34,
   "id": "68f22352",
   "metadata": {
    "ExecuteTime": {
     "end_time": "2022-01-28T08:00:45.665227Z",
     "start_time": "2022-01-28T08:00:45.644281Z"
    },
    "scrolled": true
   },
   "outputs": [
    {
     "ename": "NameError",
     "evalue": "name 'deviation' is not defined",
     "output_type": "error",
     "traceback": [
      "\u001b[1;31m---------------------------------------------------------------------------\u001b[0m",
      "\u001b[1;31mNameError\u001b[0m                                 Traceback (most recent call last)",
      "\u001b[1;32m~\\AppData\\Local\\Temp/ipykernel_9312/3166409112.py\u001b[0m in \u001b[0;36m<module>\u001b[1;34m\u001b[0m\n\u001b[1;32m----> 1\u001b[1;33m \u001b[0mprint\u001b[0m\u001b[1;33m(\u001b[0m\u001b[0mdeviation\u001b[0m\u001b[1;33m)\u001b[0m\u001b[1;33m\u001b[0m\u001b[1;33m\u001b[0m\u001b[0m\n\u001b[0m\u001b[0;32m      2\u001b[0m \u001b[0mprint\u001b[0m\u001b[1;33m(\u001b[0m\u001b[0mnp\u001b[0m\u001b[1;33m.\u001b[0m\u001b[0mmean\u001b[0m\u001b[1;33m(\u001b[0m\u001b[0mdeviation\u001b[0m \u001b[1;33m**\u001b[0m \u001b[1;36m2\u001b[0m\u001b[1;33m)\u001b[0m\u001b[1;33m)\u001b[0m\u001b[1;33m\u001b[0m\u001b[1;33m\u001b[0m\u001b[0m\n\u001b[0;32m      3\u001b[0m \u001b[0mprint\u001b[0m\u001b[1;33m(\u001b[0m\u001b[0mnp\u001b[0m\u001b[1;33m.\u001b[0m\u001b[0mvar\u001b[0m\u001b[1;33m(\u001b[0m\u001b[0mscores\u001b[0m\u001b[1;33m)\u001b[0m\u001b[1;33m)\u001b[0m\u001b[1;33m\u001b[0m\u001b[1;33m\u001b[0m\u001b[0m\n",
      "\u001b[1;31mNameError\u001b[0m: name 'deviation' is not defined"
     ]
    }
   ],
   "source": [
    "print(deviation)\n",
    "print(np.mean(deviation ** 2))\n",
    "print(np.var(scores))"
   ]
  },
  {
   "cell_type": "code",
   "execution_count": 35,
   "id": "b3a18454",
   "metadata": {
    "ExecuteTime": {
     "end_time": "2022-01-28T08:00:47.152939Z",
     "start_time": "2022-01-28T08:00:47.134006Z"
    }
   },
   "outputs": [
    {
     "data": {
      "text/plain": [
       "1.2"
      ]
     },
     "execution_count": 35,
     "metadata": {},
     "output_type": "execute_result"
    }
   ],
   "source": [
    "data = np.array([2, 3, 3, 4, 4, 4, 4, 5, 5, 6])\n",
    "mu = np.sum(data) / len(data)\n",
    "s = np.sum((data - mu) ** 2) / len(data)\n",
    "s"
   ]
  },
  {
   "cell_type": "markdown",
   "id": "98458ad7",
   "metadata": {
    "ExecuteTime": {
     "end_time": "2022-01-28T06:57:56.090997Z",
     "start_time": "2022-01-28T06:57:56.080025Z"
    }
   },
   "source": [
    "##### # 불편 분산\n",
    "---"
   ]
  },
  {
   "cell_type": "code",
   "execution_count": 85,
   "id": "2927046d",
   "metadata": {
    "ExecuteTime": {
     "end_time": "2022-01-25T01:08:47.661039Z",
     "start_time": "2022-01-25T01:08:47.647076Z"
    }
   },
   "outputs": [
    {
     "data": {
      "text/plain": [
       "score    95.555556\n",
       "dtype: float64"
      ]
     },
     "execution_count": 85,
     "metadata": {},
     "output_type": "execute_result"
    }
   ],
   "source": [
    "score_df.var()"
   ]
  },
  {
   "cell_type": "code",
   "execution_count": 86,
   "id": "57f8bd59",
   "metadata": {
    "ExecuteTime": {
     "end_time": "2022-01-25T01:08:47.691964Z",
     "start_time": "2022-01-25T01:08:47.665033Z"
    }
   },
   "outputs": [
    {
     "data": {
      "text/html": [
       "<div>\n",
       "<style scoped>\n",
       "    .dataframe tbody tr th:only-of-type {\n",
       "        vertical-align: middle;\n",
       "    }\n",
       "\n",
       "    .dataframe tbody tr th {\n",
       "        vertical-align: top;\n",
       "    }\n",
       "\n",
       "    .dataframe thead th {\n",
       "        text-align: right;\n",
       "    }\n",
       "</style>\n",
       "<table border=\"1\" class=\"dataframe\">\n",
       "  <thead>\n",
       "    <tr style=\"text-align: right;\">\n",
       "      <th></th>\n",
       "      <th>score</th>\n",
       "      <th>deviation</th>\n",
       "      <th>square of deviation</th>\n",
       "    </tr>\n",
       "  </thead>\n",
       "  <tbody>\n",
       "    <tr>\n",
       "      <th>A</th>\n",
       "      <td>42</td>\n",
       "      <td>-13.0</td>\n",
       "      <td>169.0</td>\n",
       "    </tr>\n",
       "    <tr>\n",
       "      <th>B</th>\n",
       "      <td>69</td>\n",
       "      <td>14.0</td>\n",
       "      <td>196.0</td>\n",
       "    </tr>\n",
       "    <tr>\n",
       "      <th>C</th>\n",
       "      <td>56</td>\n",
       "      <td>1.0</td>\n",
       "      <td>1.0</td>\n",
       "    </tr>\n",
       "    <tr>\n",
       "      <th>D</th>\n",
       "      <td>41</td>\n",
       "      <td>-14.0</td>\n",
       "      <td>196.0</td>\n",
       "    </tr>\n",
       "    <tr>\n",
       "      <th>E</th>\n",
       "      <td>57</td>\n",
       "      <td>2.0</td>\n",
       "      <td>4.0</td>\n",
       "    </tr>\n",
       "    <tr>\n",
       "      <th>F</th>\n",
       "      <td>48</td>\n",
       "      <td>-7.0</td>\n",
       "      <td>49.0</td>\n",
       "    </tr>\n",
       "    <tr>\n",
       "      <th>G</th>\n",
       "      <td>65</td>\n",
       "      <td>10.0</td>\n",
       "      <td>100.0</td>\n",
       "    </tr>\n",
       "    <tr>\n",
       "      <th>H</th>\n",
       "      <td>49</td>\n",
       "      <td>-6.0</td>\n",
       "      <td>36.0</td>\n",
       "    </tr>\n",
       "    <tr>\n",
       "      <th>I</th>\n",
       "      <td>65</td>\n",
       "      <td>10.0</td>\n",
       "      <td>100.0</td>\n",
       "    </tr>\n",
       "    <tr>\n",
       "      <th>J</th>\n",
       "      <td>58</td>\n",
       "      <td>3.0</td>\n",
       "      <td>9.0</td>\n",
       "    </tr>\n",
       "  </tbody>\n",
       "</table>\n",
       "</div>"
      ],
      "text/plain": [
       "   score  deviation  square of deviation\n",
       "A     42      -13.0                169.0\n",
       "B     69       14.0                196.0\n",
       "C     56        1.0                  1.0\n",
       "D     41      -14.0                196.0\n",
       "E     57        2.0                  4.0\n",
       "F     48       -7.0                 49.0\n",
       "G     65       10.0                100.0\n",
       "H     49       -6.0                 36.0\n",
       "I     65       10.0                100.0\n",
       "J     58        3.0                  9.0"
      ]
     },
     "execution_count": 86,
     "metadata": {},
     "output_type": "execute_result"
    }
   ],
   "source": [
    "df = score_df.copy()\n",
    "df['deviation'] = deviation\n",
    "df['square of deviation'] = np.square(deviation)\n",
    "df"
   ]
  },
  {
   "cell_type": "code",
   "execution_count": 36,
   "id": "22f51a45",
   "metadata": {
    "ExecuteTime": {
     "end_time": "2022-01-28T08:01:05.317875Z",
     "start_time": "2022-01-28T08:01:05.297874Z"
    }
   },
   "outputs": [
    {
     "data": {
      "text/plain": [
       "english        58.38\n",
       "mathematics    78.88\n",
       "dtype: float64"
      ]
     },
     "execution_count": 36,
     "metadata": {},
     "output_type": "execute_result"
    }
   ],
   "source": [
    "df.mean()"
   ]
  },
  {
   "cell_type": "code",
   "execution_count": 37,
   "id": "427bbd10",
   "metadata": {
    "ExecuteTime": {
     "end_time": "2022-01-28T08:01:06.331299Z",
     "start_time": "2022-01-28T08:01:06.321292Z"
    }
   },
   "outputs": [
    {
     "data": {
      "text/plain": [
       "1.3333333333333333"
      ]
     },
     "execution_count": 37,
     "metadata": {},
     "output_type": "execute_result"
    }
   ],
   "source": [
    "s1 = np.sum((data - mu) ** 2) / (len(data) - 1)\n",
    "s1"
   ]
  },
  {
   "cell_type": "markdown",
   "id": "d6f117b6",
   "metadata": {
    "ExecuteTime": {
     "end_time": "2022-01-28T06:58:18.973087Z",
     "start_time": "2022-01-28T06:58:18.966104Z"
    }
   },
   "source": [
    "##### # 표준편차\n",
    "---"
   ]
  },
  {
   "cell_type": "code",
   "execution_count": 88,
   "id": "5c16d919",
   "metadata": {
    "ExecuteTime": {
     "end_time": "2022-01-25T01:08:47.737834Z",
     "start_time": "2022-01-25T01:08:47.712902Z"
    }
   },
   "outputs": [
    {
     "data": {
      "text/plain": [
       "9.273618495495704"
      ]
     },
     "execution_count": 88,
     "metadata": {},
     "output_type": "execute_result"
    }
   ],
   "source": [
    "np.sqrt(np.var(scores, ddof = 0))"
   ]
  },
  {
   "cell_type": "code",
   "execution_count": 89,
   "id": "19be06e5",
   "metadata": {
    "ExecuteTime": {
     "end_time": "2022-01-25T01:08:47.753791Z",
     "start_time": "2022-01-25T01:08:47.739830Z"
    }
   },
   "outputs": [
    {
     "data": {
      "text/plain": [
       "9.273618495495704"
      ]
     },
     "execution_count": 89,
     "metadata": {},
     "output_type": "execute_result"
    }
   ],
   "source": [
    "np.std(scores, ddof = 1) # 불편 분산\n",
    "np.std(scores) # 표본 분산"
   ]
  },
  {
   "cell_type": "code",
   "execution_count": 17,
   "id": "00c2778d",
   "metadata": {
    "ExecuteTime": {
     "end_time": "2022-01-28T06:58:35.335808Z",
     "start_time": "2022-01-28T06:58:35.314870Z"
    }
   },
   "outputs": [
    {
     "data": {
      "text/plain": [
       "student number    14.430870\n",
       "english            9.701319\n",
       "mathematics        8.329802\n",
       "dtype: float64"
      ]
     },
     "execution_count": 17,
     "metadata": {},
     "output_type": "execute_result"
    }
   ],
   "source": [
    "df.std(ddof = 0)"
   ]
  },
  {
   "cell_type": "markdown",
   "id": "2cab312f",
   "metadata": {},
   "source": [
    "##### # 범위와 4분위수 범위\n",
    "---"
   ]
  },
  {
   "cell_type": "code",
   "execution_count": 91,
   "id": "911388aa",
   "metadata": {
    "ExecuteTime": {
     "end_time": "2022-01-25T01:08:47.799668Z",
     "start_time": "2022-01-25T01:08:47.786704Z"
    }
   },
   "outputs": [
    {
     "data": {
      "text/plain": [
       "28"
      ]
     },
     "execution_count": 91,
     "metadata": {},
     "output_type": "execute_result"
    }
   ],
   "source": [
    "np.max(scores) - np.min(scores)"
   ]
  },
  {
   "cell_type": "code",
   "execution_count": 18,
   "id": "6ba82dee",
   "metadata": {
    "ExecuteTime": {
     "end_time": "2022-01-28T06:59:15.498637Z",
     "start_time": "2022-01-28T06:59:15.490626Z"
    }
   },
   "outputs": [
    {
     "name": "stdout",
     "output_type": "stream",
     "text": [
      "[48.25 63.25]\n",
      "15.0\n"
     ]
    }
   ],
   "source": [
    "scores_Q = np.percentile(scores, [25, 75])\n",
    "print(scores_Q)\n",
    "scores_IQR = scores_Q[1] - scores_Q[0]\n",
    "print(scores_IQR)"
   ]
  },
  {
   "cell_type": "code",
   "execution_count": 27,
   "id": "148cbe33",
   "metadata": {
    "ExecuteTime": {
     "end_time": "2022-01-28T07:55:13.518345Z",
     "start_time": "2022-01-28T07:55:13.497369Z"
    }
   },
   "outputs": [
    {
     "data": {
      "text/plain": [
       "count    10.000000\n",
       "mean     55.000000\n",
       "std       9.775252\n",
       "min      41.000000\n",
       "25%      48.250000\n",
       "50%      56.500000\n",
       "75%      63.250000\n",
       "max      69.000000\n",
       "dtype: float64"
      ]
     },
     "execution_count": 27,
     "metadata": {},
     "output_type": "execute_result"
    }
   ],
   "source": [
    "# 요약 통계표\n",
    "\n",
    "pd.Series(scores).describe()"
   ]
  },
  {
   "cell_type": "markdown",
   "id": "10bd9e5c",
   "metadata": {},
   "source": [
    "### # 데이터 정규화, 시각화\n",
    "---"
   ]
  },
  {
   "cell_type": "code",
   "execution_count": 23,
   "id": "f53050fc",
   "metadata": {
    "ExecuteTime": {
     "end_time": "2022-01-28T07:51:08.759553Z",
     "start_time": "2022-01-28T07:51:08.752572Z"
    }
   },
   "outputs": [
    {
     "name": "stdout",
     "output_type": "stream",
     "text": [
      "평균 : 55.0, 표준편차 : 9.2736\n"
     ]
    }
   ],
   "source": [
    "print(f'평균 : {scores.mean()}, 표준편차 : {scores.std().round(4)}')"
   ]
  },
  {
   "cell_type": "markdown",
   "id": "acf88e47",
   "metadata": {},
   "source": [
    "#### # 표준화\n",
    "---"
   ]
  },
  {
   "cell_type": "code",
   "execution_count": 25,
   "id": "e21e6423",
   "metadata": {
    "ExecuteTime": {
     "end_time": "2022-01-28T07:51:53.522813Z",
     "start_time": "2022-01-28T07:51:53.507846Z"
    }
   },
   "outputs": [
    {
     "name": "stdout",
     "output_type": "stream",
     "text": [
      "[-1.40182605  1.50965882  0.10783277 -1.50965882  0.21566555 -0.75482941\n",
      "  1.07832773 -0.64699664  1.07832773  0.32349832] \n",
      "\n",
      "-1.6653345369377347e-17 \n",
      "\n",
      "0.9999999999999999 \n",
      "\n"
     ]
    }
   ],
   "source": [
    "z = (scores - np.mean(scores)) / np.std(scores)\n",
    "print(z, '\\n') # 표준정규분포\n",
    "print(z.mean(), '\\n') # 평균\n",
    "print(z.std(), '\\n') # 표준 편차"
   ]
  },
  {
   "cell_type": "code",
   "execution_count": 96,
   "id": "833bfe8b",
   "metadata": {
    "ExecuteTime": {
     "end_time": "2022-01-25T01:08:47.894423Z",
     "start_time": "2022-01-25T01:08:47.864497Z"
    }
   },
   "outputs": [
    {
     "name": "stdout",
     "output_type": "stream",
     "text": [
      "(-1.6653345369377347e-17, 0.9999999999999999) \n",
      "\n",
      "[35.98173948 65.09658825 51.07832773 34.90341175 52.15665546 42.45170588\n",
      " 60.78327732 43.53003361 60.78327732 53.2349832 ] \n",
      "\n"
     ]
    },
    {
     "data": {
      "text/html": [
       "<div>\n",
       "<style scoped>\n",
       "    .dataframe tbody tr th:only-of-type {\n",
       "        vertical-align: middle;\n",
       "    }\n",
       "\n",
       "    .dataframe tbody tr th {\n",
       "        vertical-align: top;\n",
       "    }\n",
       "\n",
       "    .dataframe thead th {\n",
       "        text-align: right;\n",
       "    }\n",
       "</style>\n",
       "<table border=\"1\" class=\"dataframe\">\n",
       "  <thead>\n",
       "    <tr style=\"text-align: right;\">\n",
       "      <th></th>\n",
       "      <th>score</th>\n",
       "      <th>deviation_value</th>\n",
       "    </tr>\n",
       "  </thead>\n",
       "  <tbody>\n",
       "    <tr>\n",
       "      <th>A</th>\n",
       "      <td>42</td>\n",
       "      <td>35.981739</td>\n",
       "    </tr>\n",
       "    <tr>\n",
       "      <th>B</th>\n",
       "      <td>69</td>\n",
       "      <td>65.096588</td>\n",
       "    </tr>\n",
       "    <tr>\n",
       "      <th>C</th>\n",
       "      <td>56</td>\n",
       "      <td>51.078328</td>\n",
       "    </tr>\n",
       "    <tr>\n",
       "      <th>D</th>\n",
       "      <td>41</td>\n",
       "      <td>34.903412</td>\n",
       "    </tr>\n",
       "    <tr>\n",
       "      <th>E</th>\n",
       "      <td>57</td>\n",
       "      <td>52.156655</td>\n",
       "    </tr>\n",
       "    <tr>\n",
       "      <th>F</th>\n",
       "      <td>48</td>\n",
       "      <td>42.451706</td>\n",
       "    </tr>\n",
       "    <tr>\n",
       "      <th>G</th>\n",
       "      <td>65</td>\n",
       "      <td>60.783277</td>\n",
       "    </tr>\n",
       "    <tr>\n",
       "      <th>H</th>\n",
       "      <td>49</td>\n",
       "      <td>43.530034</td>\n",
       "    </tr>\n",
       "    <tr>\n",
       "      <th>I</th>\n",
       "      <td>65</td>\n",
       "      <td>60.783277</td>\n",
       "    </tr>\n",
       "    <tr>\n",
       "      <th>J</th>\n",
       "      <td>58</td>\n",
       "      <td>53.234983</td>\n",
       "    </tr>\n",
       "  </tbody>\n",
       "</table>\n",
       "</div>"
      ],
      "text/plain": [
       "   score  deviation_value\n",
       "A     42        35.981739\n",
       "B     69        65.096588\n",
       "C     56        51.078328\n",
       "D     41        34.903412\n",
       "E     57        52.156655\n",
       "F     48        42.451706\n",
       "G     65        60.783277\n",
       "H     49        43.530034\n",
       "I     65        60.783277\n",
       "J     58        53.234983"
      ]
     },
     "execution_count": 96,
     "metadata": {},
     "output_type": "execute_result"
    }
   ],
   "source": [
    "print((np.mean(z), np.std(z)), '\\n')\n",
    "z = 50 + 10 * (scores - np.mean(scores)) / np.std(scores) # 분포의 변경\n",
    "print(z, '\\n')\n",
    "\n",
    "score_df['deviation_value'] = z\n",
    "score_df "
   ]
  },
  {
   "cell_type": "code",
   "execution_count": 97,
   "id": "22a1a735",
   "metadata": {
    "ExecuteTime": {
     "end_time": "2022-01-25T01:08:47.925850Z",
     "start_time": "2022-01-25T01:08:47.897407Z"
    }
   },
   "outputs": [
    {
     "data": {
      "text/plain": [
       "count    50.000000\n",
       "mean     58.380000\n",
       "std       9.799813\n",
       "min      37.000000\n",
       "25%      54.000000\n",
       "50%      57.500000\n",
       "75%      65.000000\n",
       "max      79.000000\n",
       "dtype: float64"
      ]
     },
     "execution_count": 97,
     "metadata": {},
     "output_type": "execute_result"
    }
   ],
   "source": [
    "df = pd.read_csv('D:/python/cakd5/m3_통계/data/ch2_scores_em.csv')\n",
    "eng_scores = np.array(df.english)\n",
    "pd.Series(eng_scores).describe()"
   ]
  },
  {
   "cell_type": "code",
   "execution_count": 98,
   "id": "69429171",
   "metadata": {
    "ExecuteTime": {
     "end_time": "2022-01-25T01:08:47.940810Z",
     "start_time": "2022-01-25T01:08:47.927849Z"
    }
   },
   "outputs": [
    {
     "data": {
      "text/plain": [
       "array([ 0,  0,  0,  2,  8, 16, 18,  6,  0,  0], dtype=int64)"
      ]
     },
     "execution_count": 98,
     "metadata": {},
     "output_type": "execute_result"
    }
   ],
   "source": [
    "freq, _ = np.histogram(eng_scores, bins = 10, range = (0, 100))\n",
    "freq"
   ]
  },
  {
   "cell_type": "code",
   "execution_count": 28,
   "id": "28c970f6",
   "metadata": {
    "ExecuteTime": {
     "end_time": "2022-01-28T07:56:42.233830Z",
     "start_time": "2022-01-28T07:56:42.206918Z"
    }
   },
   "outputs": [
    {
     "ename": "NameError",
     "evalue": "name 'freq' is not defined",
     "output_type": "error",
     "traceback": [
      "\u001b[1;31m---------------------------------------------------------------------------\u001b[0m",
      "\u001b[1;31mNameError\u001b[0m                                 Traceback (most recent call last)",
      "\u001b[1;32m~\\AppData\\Local\\Temp/ipykernel_9312/358567639.py\u001b[0m in \u001b[0;36m<module>\u001b[1;34m\u001b[0m\n\u001b[0;32m      1\u001b[0m \u001b[0mfreq_class\u001b[0m \u001b[1;33m=\u001b[0m \u001b[1;33m[\u001b[0m\u001b[1;34mf'{i} ~ {i + 10}'\u001b[0m \u001b[1;32mfor\u001b[0m \u001b[0mi\u001b[0m \u001b[1;32min\u001b[0m \u001b[0mrange\u001b[0m\u001b[1;33m(\u001b[0m\u001b[1;36m0\u001b[0m\u001b[1;33m,\u001b[0m \u001b[1;36m100\u001b[0m\u001b[1;33m,\u001b[0m \u001b[1;36m10\u001b[0m\u001b[1;33m)\u001b[0m\u001b[1;33m]\u001b[0m\u001b[1;33m\u001b[0m\u001b[1;33m\u001b[0m\u001b[0m\n\u001b[1;32m----> 2\u001b[1;33m freq_dist_df = pd.DataFrame({'frequency' : freq},\n\u001b[0m\u001b[0;32m      3\u001b[0m                              index = pd.Index(freq_class, name = 'class')) # 대소문자 유의\n\u001b[0;32m      4\u001b[0m \u001b[1;31m# pd.index(freq_class, name = 'class')\u001b[0m\u001b[1;33m\u001b[0m\u001b[1;33m\u001b[0m\u001b[1;33m\u001b[0m\u001b[0m\n\u001b[0;32m      5\u001b[0m \u001b[0mfreq_dist_df\u001b[0m\u001b[1;33m\u001b[0m\u001b[1;33m\u001b[0m\u001b[0m\n",
      "\u001b[1;31mNameError\u001b[0m: name 'freq' is not defined"
     ]
    }
   ],
   "source": [
    "freq_class = [f'{i} ~ {i + 10}' for i in range(0, 100, 10)]\n",
    "freq_dist_df = pd.DataFrame({'frequency' : freq},\n",
    "                             index = pd.Index(freq_class, name = 'class')) # 대소문자 유의\n",
    "# pd.index(freq_class, name = 'class')\n",
    "freq_dist_df"
   ]
  },
  {
   "cell_type": "markdown",
   "id": "44653650",
   "metadata": {},
   "source": [
    "#### # 계급값 \n",
    "---\n",
    "- 각 계급을 대표하는 값으로 계급의 중앙값이 이용됨"
   ]
  },
  {
   "cell_type": "code",
   "execution_count": 30,
   "id": "298f47f4",
   "metadata": {
    "ExecuteTime": {
     "end_time": "2022-01-28T07:57:20.527406Z",
     "start_time": "2022-01-28T07:57:20.510452Z"
    }
   },
   "outputs": [
    {
     "data": {
      "text/plain": [
       "[5, 15, 25, 35, 45, 55, 65, 75, 85, 95]"
      ]
     },
     "execution_count": 30,
     "metadata": {},
     "output_type": "execute_result"
    }
   ],
   "source": [
    "class_value = [(i + (i + 10)) // 2 for i in range(0, 100, 10)]\n",
    "class_value"
   ]
  },
  {
   "cell_type": "markdown",
   "id": "4641e7ab",
   "metadata": {},
   "source": [
    "#### # 상대도수\n",
    "---\n",
    "- 해당 계급의 데이터의 상대적인 비율\n"
   ]
  },
  {
   "cell_type": "code",
   "execution_count": 31,
   "id": "b65d8f39",
   "metadata": {
    "ExecuteTime": {
     "end_time": "2022-01-28T07:57:52.576764Z",
     "start_time": "2022-01-28T07:57:52.554796Z"
    }
   },
   "outputs": [
    {
     "ename": "NameError",
     "evalue": "name 'freq' is not defined",
     "output_type": "error",
     "traceback": [
      "\u001b[1;31m---------------------------------------------------------------------------\u001b[0m",
      "\u001b[1;31mNameError\u001b[0m                                 Traceback (most recent call last)",
      "\u001b[1;32m~\\AppData\\Local\\Temp/ipykernel_9312/2319876614.py\u001b[0m in \u001b[0;36m<module>\u001b[1;34m\u001b[0m\n\u001b[1;32m----> 1\u001b[1;33m \u001b[0mrel_freq\u001b[0m \u001b[1;33m=\u001b[0m \u001b[0mfreq\u001b[0m \u001b[1;33m/\u001b[0m \u001b[0mfreq\u001b[0m\u001b[1;33m.\u001b[0m\u001b[0msum\u001b[0m\u001b[1;33m(\u001b[0m\u001b[1;33m)\u001b[0m\u001b[1;33m\u001b[0m\u001b[1;33m\u001b[0m\u001b[0m\n\u001b[0m\u001b[0;32m      2\u001b[0m \u001b[0mrel_freq\u001b[0m\u001b[1;33m\u001b[0m\u001b[1;33m\u001b[0m\u001b[0m\n",
      "\u001b[1;31mNameError\u001b[0m: name 'freq' is not defined"
     ]
    }
   ],
   "source": [
    "rel_freq = freq / freq.sum()\n",
    "rel_freq"
   ]
  },
  {
   "cell_type": "markdown",
   "id": "aa0476a6",
   "metadata": {
    "ExecuteTime": {
     "end_time": "2022-01-28T07:58:01.404574Z",
     "start_time": "2022-01-28T07:58:01.383621Z"
    }
   },
   "source": [
    "#### # 누적상대도수\n",
    "---\n",
    "-  해당 계급까지의 상대도수 합"
   ]
  },
  {
   "cell_type": "code",
   "execution_count": 102,
   "id": "1e9d3cf1",
   "metadata": {
    "ExecuteTime": {
     "end_time": "2022-01-25T01:08:48.004655Z",
     "start_time": "2022-01-25T01:08:47.990679Z"
    }
   },
   "outputs": [
    {
     "data": {
      "text/plain": [
       "array([0.  , 0.  , 0.  , 0.04, 0.2 , 0.52, 0.88, 1.  , 1.  , 1.  ])"
      ]
     },
     "execution_count": 102,
     "metadata": {},
     "output_type": "execute_result"
    }
   ],
   "source": [
    "cum_rel_freq = np.cumsum(rel_freq)\n",
    "cum_rel_freq"
   ]
  },
  {
   "cell_type": "code",
   "execution_count": 33,
   "id": "71440d11",
   "metadata": {
    "ExecuteTime": {
     "end_time": "2022-01-28T07:58:28.344514Z",
     "start_time": "2022-01-28T07:58:28.322540Z"
    }
   },
   "outputs": [
    {
     "ename": "NameError",
     "evalue": "name 'freq_dist_df' is not defined",
     "output_type": "error",
     "traceback": [
      "\u001b[1;31m---------------------------------------------------------------------------\u001b[0m",
      "\u001b[1;31mNameError\u001b[0m                                 Traceback (most recent call last)",
      "\u001b[1;32m~\\AppData\\Local\\Temp/ipykernel_9312/4188272341.py\u001b[0m in \u001b[0;36m<module>\u001b[1;34m\u001b[0m\n\u001b[1;32m----> 1\u001b[1;33m \u001b[0mfreq_dist_df\u001b[0m\u001b[1;33m[\u001b[0m\u001b[1;34m'class value'\u001b[0m\u001b[1;33m]\u001b[0m \u001b[1;33m=\u001b[0m \u001b[0mclass_value\u001b[0m\u001b[1;33m\u001b[0m\u001b[1;33m\u001b[0m\u001b[0m\n\u001b[0m\u001b[0;32m      2\u001b[0m \u001b[0mfreq_dist_df\u001b[0m\u001b[1;33m[\u001b[0m\u001b[1;34m'relative frequency'\u001b[0m\u001b[1;33m]\u001b[0m \u001b[1;33m=\u001b[0m \u001b[0mrel_freq\u001b[0m\u001b[1;33m\u001b[0m\u001b[1;33m\u001b[0m\u001b[0m\n\u001b[0;32m      3\u001b[0m \u001b[0mfreq_dist_df\u001b[0m\u001b[1;33m[\u001b[0m\u001b[1;34m'cumulative relative frequency'\u001b[0m\u001b[1;33m]\u001b[0m \u001b[1;33m=\u001b[0m \u001b[0mcum_rel_freq\u001b[0m\u001b[1;33m\u001b[0m\u001b[1;33m\u001b[0m\u001b[0m\n\u001b[0;32m      4\u001b[0m \u001b[0mfreq_dist_df\u001b[0m\u001b[1;33m\u001b[0m\u001b[1;33m\u001b[0m\u001b[0m\n",
      "\u001b[1;31mNameError\u001b[0m: name 'freq_dist_df' is not defined"
     ]
    }
   ],
   "source": [
    "freq_dist_df['class value'] = class_value\n",
    "freq_dist_df['relative frequency'] = rel_freq\n",
    "freq_dist_df['cumulative relative frequency'] = cum_rel_freq\n",
    "freq_dist_df"
   ]
  },
  {
   "cell_type": "markdown",
   "id": "85b11dc9",
   "metadata": {},
   "source": [
    "#### # 최빈값\n",
    "---"
   ]
  },
  {
   "cell_type": "code",
   "execution_count": 104,
   "id": "f915c9f5",
   "metadata": {
    "ExecuteTime": {
     "end_time": "2022-01-25T01:08:48.052044Z",
     "start_time": "2022-01-25T01:08:48.038066Z"
    }
   },
   "outputs": [
    {
     "data": {
      "text/plain": [
       "65"
      ]
     },
     "execution_count": 104,
     "metadata": {},
     "output_type": "execute_result"
    }
   ],
   "source": [
    "freq_dist_df.loc[freq_dist_df['frequency'].idxmax(), 'class value']"
   ]
  },
  {
   "cell_type": "code",
   "execution_count": 108,
   "id": "a9178c2d",
   "metadata": {
    "ExecuteTime": {
     "end_time": "2022-01-28T08:28:27.161923Z",
     "start_time": "2022-01-28T08:28:26.805425Z"
    }
   },
   "outputs": [
    {
     "data": {
      "image/png": "[encoded data removed]",
      "text/plain": [
       "<Figure size 2000x600 with 2 Axes>"
      ]
     },
     "metadata": {},
     "output_type": "display_data"
    }
   ],
   "source": [
    "import matplotlib.pyplot as plt\n",
    "\n",
    "fig = plt.figure(figsize = (20, 6))\n",
    "ax1 = fig.add_subplot(121)\n",
    "ax2 = fig.add_subplot(122)\n",
    "freq, _, _ = ax1.hist(eng_scores, bins = 10,range = (0,100))\n",
    "freq, _, _ = ax2.hist(eng_scores, bins = 50,range = (0,100))\n",
    "# ax.set_xlabel('score')\n",
    "# ax.set_ylabel('person number')\n",
    "# ax.set_xticks(np.linspace(0, 100, 10 + 1))\n",
    "# ax.set_yticks(np.arange(0, freq.max() +1))\n",
    "\n",
    "plt.show()\n",
    "plt.close()\n"
   ]
  },
  {
   "cell_type": "code",
   "execution_count": 106,
   "id": "9b65f513",
   "metadata": {
    "ExecuteTime": {
     "end_time": "2022-01-25T01:08:48.860110Z",
     "start_time": "2022-01-25T01:08:48.498860Z"
    }
   },
   "outputs": [
    {
     "data": {
      "image/png": "[encoded data removed]",
      "text/plain": [
       "<Figure size 720x432 with 2 Axes>"
      ]
     },
     "metadata": {
      "needs_background": "light"
     },
     "output_type": "display_data"
    }
   ],
   "source": [
    "import matplotlib.pyplot as plt\n",
    "\n",
    "fig = plt.figure(figsize = (10, 6))\n",
    "ax1 = fig.add_subplot(111)\n",
    "\n",
    "ax2 = ax1.twinx() # y축의 스케일이 다른 그래프를 ax1과 동일한 영역에 생성\n",
    "weights = np.ones_like(eng_scores) / len(eng_scores) # 상대도수의 히스토그램으로 하기 위해서는 도수를 데이터의 수로 나눌 필요가 있음\n",
    "rel_freq, _, _ = ax1.hist(eng_scores, bins = 25, range = (0, 100), weights = weights)\n",
    "\n",
    "cum_rel_freq = np.cumsum(rel_freq)\n",
    "class_value = [(i + (i + 4)) // 2 for i in range(0, 100, 4)]\n",
    "\n",
    "ax2.plot(class_value, cum_rel_freq, ls = '--', marker = 'o', color = 'gray')\n",
    "ax2.grid(visible = False)\n",
    "\n",
    "ax1.set_xlabel('score')\n",
    "ax1.set_ylabel('person number')\n",
    "ax1.set_xticks(np.linspace(0, 100, 25 + 1))\n",
    "\n",
    "plt.show()\n",
    "plt.close()"
   ]
  },
  {
   "cell_type": "code",
   "execution_count": 107,
   "id": "46d635cb",
   "metadata": {
    "ExecuteTime": {
     "end_time": "2022-01-25T01:08:49.003246Z",
     "start_time": "2022-01-25T01:08:48.862068Z"
    }
   },
   "outputs": [
    {
     "data": {
      "image/png": "[encoded data removed]",
      "text/plain": [
       "<Figure size 360x432 with 1 Axes>"
      ]
     },
     "metadata": {
      "needs_background": "light"
     },
     "output_type": "display_data"
    }
   ],
   "source": [
    "# 상자 그림\n",
    "\n",
    "fig = plt.figure(figsize = (5, 6))\n",
    "ax = fig.add_subplot(111)\n",
    "ax.boxplot(eng_scores, labels = ['english'])\n",
    "plt.show()\n",
    "plt.close()"
   ]
  },
  {
   "cell_type": "code",
   "execution_count": 108,
   "id": "34ae04ba",
   "metadata": {
    "ExecuteTime": {
     "end_time": "2022-01-25T01:08:49.019204Z",
     "start_time": "2022-01-25T01:08:49.006244Z"
    }
   },
   "outputs": [
    {
     "data": {
      "text/plain": [
       "1.2"
      ]
     },
     "execution_count": 108,
     "metadata": {},
     "output_type": "execute_result"
    }
   ],
   "source": [
    "# 표본 분산\n",
    "\n"
   ]
  },
  {
   "cell_type": "code",
   "execution_count": 109,
   "id": "bd4f5b8a",
   "metadata": {
    "ExecuteTime": {
     "end_time": "2022-01-25T01:08:49.052114Z",
     "start_time": "2022-01-25T01:08:49.022197Z"
    }
   },
   "outputs": [
    {
     "data": {
      "text/plain": [
       "1.3333333333333333"
      ]
     },
     "execution_count": 109,
     "metadata": {},
     "output_type": "execute_result"
    }
   ],
   "source": [
    "# 불편 분산\n",
    "\n"
   ]
  },
  {
   "cell_type": "markdown",
   "id": "662c9978",
   "metadata": {},
   "source": [
    "## # 2차원 데이터\n",
    "---"
   ]
  },
  {
   "cell_type": "code",
   "execution_count": 21,
   "id": "58840bf7",
   "metadata": {
    "ExecuteTime": {
     "end_time": "2022-01-28T07:08:09.015282Z",
     "start_time": "2022-01-28T07:08:08.993341Z"
    }
   },
   "outputs": [
    {
     "data": {
      "text/html": [
       "<div>\n",
       "<style scoped>\n",
       "    .dataframe tbody tr th:only-of-type {\n",
       "        vertical-align: middle;\n",
       "    }\n",
       "\n",
       "    .dataframe tbody tr th {\n",
       "        vertical-align: top;\n",
       "    }\n",
       "\n",
       "    .dataframe thead th {\n",
       "        text-align: right;\n",
       "    }\n",
       "</style>\n",
       "<table border=\"1\" class=\"dataframe\">\n",
       "  <thead>\n",
       "    <tr style=\"text-align: right;\">\n",
       "      <th></th>\n",
       "      <th>english</th>\n",
       "      <th>mathematics</th>\n",
       "    </tr>\n",
       "    <tr>\n",
       "      <th>student number</th>\n",
       "      <th></th>\n",
       "      <th></th>\n",
       "    </tr>\n",
       "  </thead>\n",
       "  <tbody>\n",
       "    <tr>\n",
       "      <th>1</th>\n",
       "      <td>42</td>\n",
       "      <td>65</td>\n",
       "    </tr>\n",
       "    <tr>\n",
       "      <th>2</th>\n",
       "      <td>69</td>\n",
       "      <td>80</td>\n",
       "    </tr>\n",
       "    <tr>\n",
       "      <th>3</th>\n",
       "      <td>56</td>\n",
       "      <td>63</td>\n",
       "    </tr>\n",
       "    <tr>\n",
       "      <th>4</th>\n",
       "      <td>41</td>\n",
       "      <td>63</td>\n",
       "    </tr>\n",
       "    <tr>\n",
       "      <th>5</th>\n",
       "      <td>57</td>\n",
       "      <td>76</td>\n",
       "    </tr>\n",
       "  </tbody>\n",
       "</table>\n",
       "</div>"
      ],
      "text/plain": [
       "                english  mathematics\n",
       "student number                      \n",
       "1                    42           65\n",
       "2                    69           80\n",
       "3                    56           63\n",
       "4                    41           63\n",
       "5                    57           76"
      ]
     },
     "execution_count": 21,
     "metadata": {},
     "output_type": "execute_result"
    }
   ],
   "source": [
    "df = pd.read_csv('D:/python/cakd5/m3_통계/data/ch2_scores_em.csv', index_col = 'student number')\n",
    "\n",
    "en_scores = np.array(df.english)[:10]\n",
    "ms_scores = np.array(df.mathematics)[:10]\n",
    "sdf = pd.DataFrame({'english' : en_scores, 'mathematics' : ms_scores}, index = pd.Index(list('ABCDEFGHIJ'), name = 'students'))\n",
    "df.head()"
   ]
  },
  {
   "cell_type": "markdown",
   "id": "a5022ede",
   "metadata": {},
   "source": [
    "### # 공분산\n",
    "---\n",
    " - np.cov(a, b) : 불편분산으로 계산한다"
   ]
  },
  {
   "cell_type": "code",
   "execution_count": 22,
   "id": "1d6d4800",
   "metadata": {
    "ExecuteTime": {
     "end_time": "2022-01-28T07:08:18.621062Z",
     "start_time": "2022-01-28T07:08:18.583163Z"
    },
    "scrolled": true
   },
   "outputs": [
    {
     "data": {
      "text/html": [
       "<div>\n",
       "<style scoped>\n",
       "    .dataframe tbody tr th:only-of-type {\n",
       "        vertical-align: middle;\n",
       "    }\n",
       "\n",
       "    .dataframe tbody tr th {\n",
       "        vertical-align: top;\n",
       "    }\n",
       "\n",
       "    .dataframe thead th {\n",
       "        text-align: right;\n",
       "    }\n",
       "</style>\n",
       "<table border=\"1\" class=\"dataframe\">\n",
       "  <thead>\n",
       "    <tr style=\"text-align: right;\">\n",
       "      <th></th>\n",
       "      <th>english</th>\n",
       "      <th>mathematics</th>\n",
       "      <th>eng_deviation</th>\n",
       "      <th>math_deviation</th>\n",
       "      <th>product of deviation</th>\n",
       "    </tr>\n",
       "    <tr>\n",
       "      <th>students</th>\n",
       "      <th></th>\n",
       "      <th></th>\n",
       "      <th></th>\n",
       "      <th></th>\n",
       "      <th></th>\n",
       "    </tr>\n",
       "  </thead>\n",
       "  <tbody>\n",
       "    <tr>\n",
       "      <th>A</th>\n",
       "      <td>42</td>\n",
       "      <td>65</td>\n",
       "      <td>-13.0</td>\n",
       "      <td>-6.4</td>\n",
       "      <td>83.2</td>\n",
       "    </tr>\n",
       "    <tr>\n",
       "      <th>B</th>\n",
       "      <td>69</td>\n",
       "      <td>80</td>\n",
       "      <td>14.0</td>\n",
       "      <td>8.6</td>\n",
       "      <td>120.4</td>\n",
       "    </tr>\n",
       "    <tr>\n",
       "      <th>C</th>\n",
       "      <td>56</td>\n",
       "      <td>63</td>\n",
       "      <td>1.0</td>\n",
       "      <td>-8.4</td>\n",
       "      <td>-8.4</td>\n",
       "    </tr>\n",
       "    <tr>\n",
       "      <th>D</th>\n",
       "      <td>41</td>\n",
       "      <td>63</td>\n",
       "      <td>-14.0</td>\n",
       "      <td>-8.4</td>\n",
       "      <td>117.6</td>\n",
       "    </tr>\n",
       "    <tr>\n",
       "      <th>E</th>\n",
       "      <td>57</td>\n",
       "      <td>76</td>\n",
       "      <td>2.0</td>\n",
       "      <td>4.6</td>\n",
       "      <td>9.2</td>\n",
       "    </tr>\n",
       "    <tr>\n",
       "      <th>F</th>\n",
       "      <td>48</td>\n",
       "      <td>60</td>\n",
       "      <td>-7.0</td>\n",
       "      <td>-11.4</td>\n",
       "      <td>79.8</td>\n",
       "    </tr>\n",
       "    <tr>\n",
       "      <th>G</th>\n",
       "      <td>65</td>\n",
       "      <td>81</td>\n",
       "      <td>10.0</td>\n",
       "      <td>9.6</td>\n",
       "      <td>96.0</td>\n",
       "    </tr>\n",
       "    <tr>\n",
       "      <th>H</th>\n",
       "      <td>49</td>\n",
       "      <td>66</td>\n",
       "      <td>-6.0</td>\n",
       "      <td>-5.4</td>\n",
       "      <td>32.4</td>\n",
       "    </tr>\n",
       "    <tr>\n",
       "      <th>I</th>\n",
       "      <td>65</td>\n",
       "      <td>78</td>\n",
       "      <td>10.0</td>\n",
       "      <td>6.6</td>\n",
       "      <td>66.0</td>\n",
       "    </tr>\n",
       "    <tr>\n",
       "      <th>J</th>\n",
       "      <td>58</td>\n",
       "      <td>82</td>\n",
       "      <td>3.0</td>\n",
       "      <td>10.6</td>\n",
       "      <td>31.8</td>\n",
       "    </tr>\n",
       "  </tbody>\n",
       "</table>\n",
       "</div>"
      ],
      "text/plain": [
       "          english  mathematics  eng_deviation  math_deviation  \\\n",
       "students                                                        \n",
       "A              42           65          -13.0            -6.4   \n",
       "B              69           80           14.0             8.6   \n",
       "C              56           63            1.0            -8.4   \n",
       "D              41           63          -14.0            -8.4   \n",
       "E              57           76            2.0             4.6   \n",
       "F              48           60           -7.0           -11.4   \n",
       "G              65           81           10.0             9.6   \n",
       "H              49           66           -6.0            -5.4   \n",
       "I              65           78           10.0             6.6   \n",
       "J              58           82            3.0            10.6   \n",
       "\n",
       "          product of deviation  \n",
       "students                        \n",
       "A                         83.2  \n",
       "B                        120.4  \n",
       "C                         -8.4  \n",
       "D                        117.6  \n",
       "E                          9.2  \n",
       "F                         79.8  \n",
       "G                         96.0  \n",
       "H                         32.4  \n",
       "I                         66.0  \n",
       "J                         31.8  "
      ]
     },
     "metadata": {},
     "output_type": "display_data"
    },
    {
     "data": {
      "text/plain": [
       "62.8"
      ]
     },
     "execution_count": 22,
     "metadata": {},
     "output_type": "execute_result"
    }
   ],
   "source": [
    "dfc = sdf.copy()\n",
    "dfc['eng_deviation'] = dfc.english - dfc.english.mean()\n",
    "dfc['math_deviation'] = dfc.mathematics - dfc.mathematics.mean()\n",
    "dfc['product of deviation'] = dfc['eng_deviation'] * dfc['math_deviation']\n",
    "display(dfc)\n",
    "\n",
    "dfc['product of deviation'].mean()"
   ]
  },
  {
   "cell_type": "code",
   "execution_count": 112,
   "id": "5ad83dd8",
   "metadata": {
    "ExecuteTime": {
     "end_time": "2022-01-25T01:08:49.145384Z",
     "start_time": "2022-01-25T01:08:49.133414Z"
    }
   },
   "outputs": [
    {
     "data": {
      "text/plain": [
       "86.0"
      ]
     },
     "execution_count": 112,
     "metadata": {},
     "output_type": "execute_result"
    }
   ],
   "source": [
    "dfc.english.var(ddof = 0)"
   ]
  },
  {
   "cell_type": "code",
   "execution_count": 113,
   "id": "de3bb52b",
   "metadata": {
    "ExecuteTime": {
     "end_time": "2022-01-25T01:08:49.161339Z",
     "start_time": "2022-01-25T01:08:49.149386Z"
    }
   },
   "outputs": [
    {
     "data": {
      "text/plain": [
       "array([[86.  , 62.8 ],\n",
       "       [62.8 , 68.44]])"
      ]
     },
     "execution_count": 113,
     "metadata": {},
     "output_type": "execute_result"
    }
   ],
   "source": [
    "# cov 함수는 기본값이 불편 분산\n",
    "\n",
    "cov_mat = np.cov(en_scores, ms_scores, ddof = 0)\n",
    "cov_mat"
   ]
  },
  {
   "cell_type": "code",
   "execution_count": 38,
   "id": "870ae0f9",
   "metadata": {
    "ExecuteTime": {
     "end_time": "2022-01-28T08:04:26.398662Z",
     "start_time": "2022-01-28T08:04:26.379683Z"
    }
   },
   "outputs": [
    {
     "data": {
      "text/plain": [
       "(86.0, 68.44000000000001)"
      ]
     },
     "execution_count": 38,
     "metadata": {},
     "output_type": "execute_result"
    }
   ],
   "source": [
    "np.var(en_scores, ddof = 0), np.var(ms_scores, ddof = 0)"
   ]
  },
  {
   "cell_type": "markdown",
   "id": "0f1933d7",
   "metadata": {},
   "source": [
    "### # 상관계수\n",
    "---"
   ]
  },
  {
   "cell_type": "code",
   "execution_count": 115,
   "id": "6b817bbb",
   "metadata": {
    "ExecuteTime": {
     "end_time": "2022-01-25T01:08:49.207216Z",
     "start_time": "2022-01-25T01:08:49.193258Z"
    }
   },
   "outputs": [
    {
     "data": {
      "text/plain": [
       "0.8185692341186713"
      ]
     },
     "execution_count": 115,
     "metadata": {},
     "output_type": "execute_result"
    }
   ],
   "source": [
    "np.cov(en_scores, ms_scores, ddof = 0)[0, 1] / (np.std(en_scores) * np.std(ms_scores))"
   ]
  },
  {
   "cell_type": "code",
   "execution_count": 116,
   "id": "adf6b5a2",
   "metadata": {
    "ExecuteTime": {
     "end_time": "2022-01-25T01:08:49.223173Z",
     "start_time": "2022-01-25T01:08:49.210210Z"
    }
   },
   "outputs": [
    {
     "data": {
      "text/plain": [
       "array([[1.        , 0.81856923],\n",
       "       [0.81856923, 1.        ]])"
      ]
     },
     "execution_count": 116,
     "metadata": {},
     "output_type": "execute_result"
    }
   ],
   "source": [
    "np.corrcoef(en_scores, ms_scores)"
   ]
  },
  {
   "cell_type": "code",
   "execution_count": 39,
   "id": "1b75c446",
   "metadata": {
    "ExecuteTime": {
     "end_time": "2022-01-28T08:05:54.252231Z",
     "start_time": "2022-01-28T08:05:54.230272Z"
    }
   },
   "outputs": [
    {
     "data": {
      "text/html": [
       "<div>\n",
       "<style scoped>\n",
       "    .dataframe tbody tr th:only-of-type {\n",
       "        vertical-align: middle;\n",
       "    }\n",
       "\n",
       "    .dataframe tbody tr th {\n",
       "        vertical-align: top;\n",
       "    }\n",
       "\n",
       "    .dataframe thead th {\n",
       "        text-align: right;\n",
       "    }\n",
       "</style>\n",
       "<table border=\"1\" class=\"dataframe\">\n",
       "  <thead>\n",
       "    <tr style=\"text-align: right;\">\n",
       "      <th></th>\n",
       "      <th>english</th>\n",
       "      <th>mathematics</th>\n",
       "    </tr>\n",
       "  </thead>\n",
       "  <tbody>\n",
       "    <tr>\n",
       "      <th>english</th>\n",
       "      <td>1.000000</td>\n",
       "      <td>0.818569</td>\n",
       "    </tr>\n",
       "    <tr>\n",
       "      <th>mathematics</th>\n",
       "      <td>0.818569</td>\n",
       "      <td>1.000000</td>\n",
       "    </tr>\n",
       "  </tbody>\n",
       "</table>\n",
       "</div>"
      ],
      "text/plain": [
       "              english  mathematics\n",
       "english      1.000000     0.818569\n",
       "mathematics  0.818569     1.000000"
      ]
     },
     "execution_count": 39,
     "metadata": {},
     "output_type": "execute_result"
    }
   ],
   "source": [
    "dfc[['english', 'mathematics']].corr()"
   ]
  },
  {
   "cell_type": "markdown",
   "id": "7528ca33",
   "metadata": {},
   "source": [
    "### # 데이터 시각화\n",
    "---"
   ]
  },
  {
   "cell_type": "code",
   "execution_count": 40,
   "id": "568292f9",
   "metadata": {
    "ExecuteTime": {
     "end_time": "2022-01-28T08:06:30.757609Z",
     "start_time": "2022-01-28T08:06:30.733724Z"
    }
   },
   "outputs": [
    {
     "ename": "NameError",
     "evalue": "name 'plt' is not defined",
     "output_type": "error",
     "traceback": [
      "\u001b[1;31m---------------------------------------------------------------------------\u001b[0m",
      "\u001b[1;31mNameError\u001b[0m                                 Traceback (most recent call last)",
      "\u001b[1;32m~\\AppData\\Local\\Temp/ipykernel_9312/1995566795.py\u001b[0m in \u001b[0;36m<module>\u001b[1;34m\u001b[0m\n\u001b[0;32m      1\u001b[0m \u001b[0mdf2\u001b[0m \u001b[1;33m=\u001b[0m \u001b[0mdfc\u001b[0m\u001b[1;33m[\u001b[0m\u001b[1;33m[\u001b[0m\u001b[1;34m'english'\u001b[0m\u001b[1;33m,\u001b[0m \u001b[1;34m'mathematics'\u001b[0m\u001b[1;33m]\u001b[0m\u001b[1;33m]\u001b[0m\u001b[1;33m\u001b[0m\u001b[1;33m\u001b[0m\u001b[0m\n\u001b[1;32m----> 2\u001b[1;33m \u001b[0mfig\u001b[0m \u001b[1;33m=\u001b[0m \u001b[0mplt\u001b[0m\u001b[1;33m.\u001b[0m\u001b[0mfigure\u001b[0m\u001b[1;33m(\u001b[0m\u001b[0mfigsize\u001b[0m \u001b[1;33m=\u001b[0m \u001b[1;33m(\u001b[0m\u001b[1;36m8\u001b[0m\u001b[1;33m,\u001b[0m \u001b[1;36m8\u001b[0m\u001b[1;33m)\u001b[0m\u001b[1;33m)\u001b[0m\u001b[1;33m\u001b[0m\u001b[1;33m\u001b[0m\u001b[0m\n\u001b[0m\u001b[0;32m      3\u001b[0m \u001b[0max\u001b[0m \u001b[1;33m=\u001b[0m \u001b[0mfig\u001b[0m\u001b[1;33m.\u001b[0m\u001b[0madd_subplot\u001b[0m\u001b[1;33m(\u001b[0m\u001b[1;36m111\u001b[0m\u001b[1;33m)\u001b[0m\u001b[1;33m\u001b[0m\u001b[1;33m\u001b[0m\u001b[0m\n\u001b[0;32m      4\u001b[0m \u001b[0max\u001b[0m\u001b[1;33m.\u001b[0m\u001b[0mscatter\u001b[0m\u001b[1;33m(\u001b[0m\u001b[0mdf2\u001b[0m\u001b[1;33m.\u001b[0m\u001b[0menglish\u001b[0m\u001b[1;33m,\u001b[0m \u001b[0mdf2\u001b[0m\u001b[1;33m.\u001b[0m\u001b[0mmathematics\u001b[0m\u001b[1;33m)\u001b[0m\u001b[1;33m\u001b[0m\u001b[1;33m\u001b[0m\u001b[0m\n\u001b[0;32m      5\u001b[0m \u001b[0mplt\u001b[0m\u001b[1;33m.\u001b[0m\u001b[0mshow\u001b[0m\u001b[1;33m(\u001b[0m\u001b[1;33m)\u001b[0m \u001b[1;31m# jupyter notebook은 자동으로 처리해주기 때문에 필요가 없지만 다른 프로그램에서는 이 코드를 입력해야 보여준다\u001b[0m\u001b[1;33m\u001b[0m\u001b[1;33m\u001b[0m\u001b[0m\n",
      "\u001b[1;31mNameError\u001b[0m: name 'plt' is not defined"
     ]
    }
   ],
   "source": [
    "df2 = dfc[['english', 'mathematics']]\n",
    "fig = plt.figure(figsize = (8, 8))\n",
    "ax = fig.add_subplot(111)\n",
    "ax.scatter(df2.english, df2.mathematics)\n",
    "plt.show() # jupyter notebook은 자동으로 처리해주기 때문에 필요가 없지만 다른 프로그램에서는 이 코드를 입력해야 보여준다\n",
    "plt.close() # 메모리에 남아있는 것을 지우기 위해 사용"
   ]
  },
  {
   "cell_type": "markdown",
   "id": "c779febd",
   "metadata": {},
   "source": [
    "# # 1월 25일\n",
    "---"
   ]
  },
  {
   "cell_type": "markdown",
   "id": "70590a8b",
   "metadata": {},
   "source": [
    "## # 2차원 데이터\n",
    "---"
   ]
  },
  {
   "cell_type": "markdown",
   "id": "06eacb82",
   "metadata": {},
   "source": [
    "### # 다항곡선 회귀분석\n",
    "---\n",
    "https://qlsenddl-lab.tistory.com/48\n",
    "- 기본문법 : np.polyfit(x, y, n)"
   ]
  },
  {
   "cell_type": "code",
   "execution_count": 128,
   "id": "d723d72d",
   "metadata": {
    "ExecuteTime": {
     "end_time": "2022-01-28T08:31:00.369211Z",
     "start_time": "2022-01-28T08:31:00.340296Z"
    }
   },
   "outputs": [
    {
     "data": {
      "text/html": [
       "<div>\n",
       "<style scoped>\n",
       "    .dataframe tbody tr th:only-of-type {\n",
       "        vertical-align: middle;\n",
       "    }\n",
       "\n",
       "    .dataframe tbody tr th {\n",
       "        vertical-align: top;\n",
       "    }\n",
       "\n",
       "    .dataframe thead th {\n",
       "        text-align: right;\n",
       "    }\n",
       "</style>\n",
       "<table border=\"1\" class=\"dataframe\">\n",
       "  <thead>\n",
       "    <tr style=\"text-align: right;\">\n",
       "      <th></th>\n",
       "      <th>english</th>\n",
       "      <th>mathematics</th>\n",
       "    </tr>\n",
       "    <tr>\n",
       "      <th>student number</th>\n",
       "      <th></th>\n",
       "      <th></th>\n",
       "    </tr>\n",
       "  </thead>\n",
       "  <tbody>\n",
       "    <tr>\n",
       "      <th>1</th>\n",
       "      <td>42</td>\n",
       "      <td>65</td>\n",
       "    </tr>\n",
       "    <tr>\n",
       "      <th>2</th>\n",
       "      <td>69</td>\n",
       "      <td>80</td>\n",
       "    </tr>\n",
       "    <tr>\n",
       "      <th>3</th>\n",
       "      <td>56</td>\n",
       "      <td>63</td>\n",
       "    </tr>\n",
       "    <tr>\n",
       "      <th>4</th>\n",
       "      <td>41</td>\n",
       "      <td>63</td>\n",
       "    </tr>\n",
       "    <tr>\n",
       "      <th>5</th>\n",
       "      <td>57</td>\n",
       "      <td>76</td>\n",
       "    </tr>\n",
       "  </tbody>\n",
       "</table>\n",
       "</div>"
      ],
      "text/plain": [
       "                english  mathematics\n",
       "student number                      \n",
       "1                    42           65\n",
       "2                    69           80\n",
       "3                    56           63\n",
       "4                    41           63\n",
       "5                    57           76"
      ]
     },
     "execution_count": 128,
     "metadata": {},
     "output_type": "execute_result"
    }
   ],
   "source": [
    "df = pd.read_csv('D:/python/cakd5/m3_통계/data/ch2_scores_em.csv', index_col = 'student number')\n",
    "\n",
    "en_scores = np.array(df.english)[:10]\n",
    "ms_scores = np.array(df.mathematics)[:10]\n",
    "sdf = pd.DataFrame({'english' : en_scores, 'mathematics' : ms_scores}, index = pd.Index(list('ABCDEFGHIJ'), name = 'students'))\n",
    "df.head()"
   ]
  },
  {
   "cell_type": "markdown",
   "id": "b1757cac",
   "metadata": {},
   "source": [
    "#### # 회귀직선\n",
    "---"
   ]
  },
  {
   "cell_type": "code",
   "execution_count": 109,
   "id": "fb59131c",
   "metadata": {
    "ExecuteTime": {
     "end_time": "2022-01-28T08:28:35.811149Z",
     "start_time": "2022-01-28T08:28:35.551507Z"
    }
   },
   "outputs": [
    {
     "data": {
      "image/png": "[encoded data removed]",
      "text/plain": [
       "<Figure size 1500x500 with 2 Axes>"
      ]
     },
     "metadata": {},
     "output_type": "display_data"
    }
   ],
   "source": [
    "eng_scores = np.array(df['english'])\n",
    "math_scores = np.array(df['mathematics'])\n",
    "\n",
    "# 계수 구하기\n",
    "poly_fit = np.polyfit(eng_scores, math_scores, 1)\n",
    "poly_1d = np.poly1d(poly_fit)\n",
    "xs = np.linspace(eng_scores.min(), eng_scores.max())\n",
    "ys = poly_1d(xs)\n",
    "\n",
    "fig = plt.figure(figsize = (15, 5))\n",
    "ax1 = fig.add_subplot(121)\n",
    "ax2 = fig.add_subplot(122)\n",
    "ax1.scatter(eng_scores, math_scores)\n",
    "ax2.plot(xs, ys)\n",
    "# ax.set_xlabel('english')\n",
    "# ax.set_ylabel('mathematics')\n",
    "plt.show()"
   ]
  },
  {
   "cell_type": "code",
   "execution_count": 132,
   "id": "04e675d0",
   "metadata": {
    "ExecuteTime": {
     "end_time": "2022-01-28T08:31:51.746687Z",
     "start_time": "2022-01-28T08:31:51.296613Z"
    }
   },
   "outputs": [
    {
     "name": "stdout",
     "output_type": "stream",
     "text": [
      "Figure(1800x600) [<AxesSubplot:> <AxesSubplot:>]\n"
     ]
    },
    {
     "data": {
      "text/plain": [
       "<AxesSubplot:xlabel='english', ylabel='mathematics'>"
      ]
     },
     "execution_count": 132,
     "metadata": {},
     "output_type": "execute_result"
    },
    {
     "data": {
      "image/png": "[encoded data removed]",
      "text/plain": [
       "<Figure size 1800x600 with 2 Axes>"
      ]
     },
     "metadata": {},
     "output_type": "display_data"
    }
   ],
   "source": [
    "fig, axes = plt.subplots(1, 2, figsize = (18, 6), sharex = True)\n",
    "print(fig, axes)\n",
    "sns.regplot(ax = axes[0], x = eng_scores, y = math_scores, fit_reg = False)\n",
    "sns.regplot(ax = axes[1], x = df.english, y = df.mathematics)"
   ]
  },
  {
   "cell_type": "markdown",
   "id": "683dfa9d",
   "metadata": {},
   "source": [
    "#### # 히트맵\n",
    "---"
   ]
  },
  {
   "cell_type": "code",
   "execution_count": 117,
   "id": "a7fbb21e",
   "metadata": {
    "ExecuteTime": {
     "end_time": "2022-01-28T08:29:33.718599Z",
     "start_time": "2022-01-28T08:29:33.463176Z"
    }
   },
   "outputs": [
    {
     "name": "stdout",
     "output_type": "stream",
     "text": [
      "(array([[1., 0., 0., 1., 0., 0., 0., 0.],\n",
      "       [0., 1., 1., 0., 1., 0., 0., 0.],\n",
      "       [0., 1., 1., 1., 2., 0., 0., 0.],\n",
      "       [0., 0., 0., 1., 2., 1., 1., 0.],\n",
      "       [0., 1., 0., 0., 4., 6., 0., 0.],\n",
      "       [0., 0., 1., 0., 2., 4., 1., 0.],\n",
      "       [0., 0., 0., 0., 2., 3., 3., 2.],\n",
      "       [0., 0., 0., 0., 0., 2., 0., 2.],\n",
      "       [0., 0., 0., 0., 0., 0., 2., 0.]]), array([35., 40., 45., 50., 55., 60., 65., 70., 75., 80.]), array([55., 60., 65., 70., 75., 80., 85., 90., 95.]), <matplotlib.collections.QuadMesh object at 0x000001FE5C970250>)\n"
     ]
    },
    {
     "data": {
      "text/plain": [
       "<matplotlib.colorbar.Colorbar at 0x1fe5c649d90>"
      ]
     },
     "execution_count": 117,
     "metadata": {},
     "output_type": "execute_result"
    },
    {
     "data": {
      "image/png": "[encoded data removed]",
      "text/plain": [
       "<Figure size 1000x800 with 2 Axes>"
      ]
     },
     "metadata": {},
     "output_type": "display_data"
    }
   ],
   "source": [
    "plt.style.use('default')\n",
    "fig = plt.figure(figsize = (10, 8))\n",
    "ax = fig.add_subplot(111)\n",
    "\n",
    "c = ax.hist2d(eng_scores, math_scores, bins = [9, 8], range = [(35, 80), (55, 95)])\n",
    "print(c)\n",
    "ax.set_xlabel('english')\n",
    "ax.set_ylabel('mathematics')\n",
    "ax.set_xticks(c[1])\n",
    "ax.set_yticks(c[2])\n",
    "fig.colorbar(c[3], ax = ax)"
   ]
  },
  {
   "cell_type": "code",
   "execution_count": 118,
   "id": "adb0cb64",
   "metadata": {
    "ExecuteTime": {
     "end_time": "2022-01-28T08:29:34.660307Z",
     "start_time": "2022-01-28T08:29:34.461143Z"
    }
   },
   "outputs": [
    {
     "data": {
      "image/png": "[encoded data removed]",
      "text/plain": [
       "<Figure size 500x400 with 2 Axes>"
      ]
     },
     "metadata": {},
     "output_type": "display_data"
    }
   ],
   "source": [
    "plt.figure(figsize=(5,4))\n",
    "sns.heatmap(df.corr(), annot=True)\n",
    "plt.title('Heatmap', fontsize = 25)\n",
    "plt.show()\n",
    "plt.close()"
   ]
  },
  {
   "cell_type": "code",
   "execution_count": 133,
   "id": "f755d24d",
   "metadata": {
    "ExecuteTime": {
     "end_time": "2022-01-28T08:33:21.275537Z",
     "start_time": "2022-01-28T08:33:21.265556Z"
    }
   },
   "outputs": [
    {
     "name": "stdout",
     "output_type": "stream",
     "text": [
      "(4, 11, 2)\n"
     ]
    },
    {
     "data": {
      "text/plain": [
       "array([[10.  ,  8.04],\n",
       "       [ 8.  ,  6.95],\n",
       "       [13.  ,  7.58],\n",
       "       [ 9.  ,  8.81],\n",
       "       [11.  ,  8.33],\n",
       "       [14.  ,  9.96],\n",
       "       [ 6.  ,  7.24],\n",
       "       [ 4.  ,  4.26],\n",
       "       [12.  , 10.84],\n",
       "       [ 7.  ,  4.82],\n",
       "       [ 5.  ,  5.68]])"
      ]
     },
     "execution_count": 133,
     "metadata": {},
     "output_type": "execute_result"
    }
   ],
   "source": [
    "anscombe_data = np.load('D:/python/cakd5/m3_통계/data/ch3_anscombe.npy')\n",
    "print(anscombe_data.shape)\n",
    "anscombe_data[0]"
   ]
  },
  {
   "cell_type": "markdown",
   "id": "6ba6aedf",
   "metadata": {},
   "source": [
    "#### # 상관계수와 관계성\n",
    "---\n",
    "- 상관계수가 같은 데이터라도 그래프를 그려보면 모양이 다르다"
   ]
  },
  {
   "cell_type": "code",
   "execution_count": 120,
   "id": "2c9da5ba",
   "metadata": {
    "ExecuteTime": {
     "end_time": "2022-01-28T08:29:45.299588Z",
     "start_time": "2022-01-28T08:29:45.263656Z"
    }
   },
   "outputs": [
    {
     "data": {
      "text/html": [
       "<div>\n",
       "<style scoped>\n",
       "    .dataframe tbody tr th:only-of-type {\n",
       "        vertical-align: middle;\n",
       "    }\n",
       "\n",
       "    .dataframe tbody tr th {\n",
       "        vertical-align: top;\n",
       "    }\n",
       "\n",
       "    .dataframe thead th {\n",
       "        text-align: right;\n",
       "    }\n",
       "</style>\n",
       "<table border=\"1\" class=\"dataframe\">\n",
       "  <thead>\n",
       "    <tr style=\"text-align: right;\">\n",
       "      <th></th>\n",
       "      <th>data1</th>\n",
       "      <th>data2</th>\n",
       "      <th>data3</th>\n",
       "      <th>data4</th>\n",
       "    </tr>\n",
       "  </thead>\n",
       "  <tbody>\n",
       "    <tr>\n",
       "      <th>X_mean</th>\n",
       "      <td>9.00</td>\n",
       "      <td>9.00</td>\n",
       "      <td>9.00</td>\n",
       "      <td>9.00</td>\n",
       "    </tr>\n",
       "    <tr>\n",
       "      <th>X_variance</th>\n",
       "      <td>10.00</td>\n",
       "      <td>10.00</td>\n",
       "      <td>10.00</td>\n",
       "      <td>10.00</td>\n",
       "    </tr>\n",
       "    <tr>\n",
       "      <th>Y_mean</th>\n",
       "      <td>7.50</td>\n",
       "      <td>7.50</td>\n",
       "      <td>7.50</td>\n",
       "      <td>7.50</td>\n",
       "    </tr>\n",
       "    <tr>\n",
       "      <th>Y_variance</th>\n",
       "      <td>3.75</td>\n",
       "      <td>3.75</td>\n",
       "      <td>3.75</td>\n",
       "      <td>3.75</td>\n",
       "    </tr>\n",
       "    <tr>\n",
       "      <th>X&amp;Y_correlation</th>\n",
       "      <td>0.82</td>\n",
       "      <td>0.82</td>\n",
       "      <td>0.82</td>\n",
       "      <td>0.82</td>\n",
       "    </tr>\n",
       "    <tr>\n",
       "      <th>X&amp;Y_regression line</th>\n",
       "      <td>3.00 + 0.50x</td>\n",
       "      <td>3.00 + 0.50x</td>\n",
       "      <td>3.00 + 0.50x</td>\n",
       "      <td>3.00 + 0.50x</td>\n",
       "    </tr>\n",
       "  </tbody>\n",
       "</table>\n",
       "</div>"
      ],
      "text/plain": [
       "                            data1         data2         data3         data4\n",
       "X_mean                       9.00          9.00          9.00          9.00\n",
       "X_variance                  10.00         10.00         10.00         10.00\n",
       "Y_mean                       7.50          7.50          7.50          7.50\n",
       "Y_variance                   3.75          3.75          3.75          3.75\n",
       "X&Y_correlation              0.82          0.82          0.82          0.82\n",
       "X&Y_regression line  3.00 + 0.50x  3.00 + 0.50x  3.00 + 0.50x  3.00 + 0.50x"
      ]
     },
     "execution_count": 120,
     "metadata": {},
     "output_type": "execute_result"
    }
   ],
   "source": [
    "stats_df = pd.DataFrame(index = ['X_mean', 'X_variance', 'Y_mean', 'Y_variance', 'X&Y_correlation', 'X&Y_regression line'])\n",
    "for i, data in enumerate(anscombe_data):\n",
    "    dataX = data[:, 0]\n",
    "    dataY = data[:, 1]\n",
    "    poly_fit = np.polyfit(dataX, dataY, 1)\n",
    "    stats_df[f'data{i + 1}'] = [f'{np.mean(dataX):.2f}',\n",
    "                                f'{np.var(dataX):.2f}',\n",
    "                                f'{np.mean(dataY):.2f}',\n",
    "                                f'{np.var(dataY):.2f}',\n",
    "                                f'{np.corrcoef(dataX, dataY)[0, 1]:.2f}',\n",
    "                                f'{poly_fit[1]:.2f} + {poly_fit[0]:.2f}x']\n",
    "                                \n",
    "stats_df"
   ]
  },
  {
   "cell_type": "code",
   "execution_count": 121,
   "id": "498b9837",
   "metadata": {
    "ExecuteTime": {
     "end_time": "2022-01-28T08:29:51.067186Z",
     "start_time": "2022-01-28T08:29:50.597915Z"
    }
   },
   "outputs": [
    {
     "data": {
      "image/png": "[encoded data removed]",
      "text/plain": [
       "<Figure size 1000x1000 with 4 Axes>"
      ]
     },
     "metadata": {},
     "output_type": "display_data"
    }
   ],
   "source": [
    "fig, axes = plt.subplots(nrows = 2, ncols = 2, figsize = (10, 10), sharex = True, sharey = True)\n",
    "xs = np.linspace(0, 30, 100)\n",
    "for i, data in enumerate(anscombe_data):\n",
    "    poly_fit = np.polyfit(data[:, 0], data[:, 1], 1)\n",
    "    poly_1d = np.poly1d(poly_fit)\n",
    "    ys = poly_1d(xs)\n",
    "    ax = axes[i // 2, i % 2]\n",
    "    ax.set_xlim([4, 20])\n",
    "    ax.set_ylim([3, 13])\n",
    "    ax.set_title(f'data{i + 1}')\n",
    "    ax.scatter(data[:,0],data[:,1])\n",
    "    ax.plot(xs, ys, color = 'gray')\n",
    "\n",
    "plt.show()"
   ]
  },
  {
   "cell_type": "code",
   "execution_count": 122,
   "id": "4bd3cfde",
   "metadata": {
    "ExecuteTime": {
     "end_time": "2022-01-28T08:30:07.290168Z",
     "start_time": "2022-01-28T08:30:07.147339Z"
    }
   },
   "outputs": [
    {
     "data": {
      "text/html": [
       "<div>\n",
       "<style scoped>\n",
       "    .dataframe tbody tr th:only-of-type {\n",
       "        vertical-align: middle;\n",
       "    }\n",
       "\n",
       "    .dataframe tbody tr th {\n",
       "        vertical-align: top;\n",
       "    }\n",
       "\n",
       "    .dataframe thead th {\n",
       "        text-align: right;\n",
       "    }\n",
       "</style>\n",
       "<table border=\"1\" class=\"dataframe\">\n",
       "  <thead>\n",
       "    <tr style=\"text-align: right;\">\n",
       "      <th></th>\n",
       "      <th>species</th>\n",
       "      <th>length</th>\n",
       "    </tr>\n",
       "  </thead>\n",
       "  <tbody>\n",
       "    <tr>\n",
       "      <th>0</th>\n",
       "      <td>A</td>\n",
       "      <td>2</td>\n",
       "    </tr>\n",
       "    <tr>\n",
       "      <th>1</th>\n",
       "      <td>A</td>\n",
       "      <td>3</td>\n",
       "    </tr>\n",
       "    <tr>\n",
       "      <th>2</th>\n",
       "      <td>A</td>\n",
       "      <td>4</td>\n",
       "    </tr>\n",
       "    <tr>\n",
       "      <th>3</th>\n",
       "      <td>B</td>\n",
       "      <td>6</td>\n",
       "    </tr>\n",
       "    <tr>\n",
       "      <th>4</th>\n",
       "      <td>B</td>\n",
       "      <td>8</td>\n",
       "    </tr>\n",
       "    <tr>\n",
       "      <th>5</th>\n",
       "      <td>B</td>\n",
       "      <td>10</td>\n",
       "    </tr>\n",
       "  </tbody>\n",
       "</table>\n",
       "</div>"
      ],
      "text/plain": [
       "  species  length\n",
       "0       A       2\n",
       "1       A       3\n",
       "2       A       4\n",
       "3       B       6\n",
       "4       B       8\n",
       "5       B      10"
      ]
     },
     "metadata": {},
     "output_type": "display_data"
    }
   ],
   "source": [
    "# species 그룹별 통계량을 구하세요\n",
    "\n",
    "fdf = pd.read_csv('D:/python/cakd5/m3_통계/data/5_2_fm.csv')\n",
    "display(fdf)"
   ]
  },
  {
   "cell_type": "code",
   "execution_count": 124,
   "id": "4a856da8",
   "metadata": {
    "ExecuteTime": {
     "end_time": "2022-01-28T08:30:27.359401Z",
     "start_time": "2022-01-28T08:30:27.312494Z"
    }
   },
   "outputs": [
    {
     "name": "stdout",
     "output_type": "stream",
     "text": [
      "3.0 \n",
      "\n",
      "3.0 \n",
      "\n",
      "1.0 \n",
      "\n",
      "1.0 \n",
      "\n",
      "0.00    2.0\n",
      "0.25    2.5\n",
      "0.50    3.0\n",
      "0.75    3.5\n",
      "1.00    4.0\n",
      "Name: length, dtype: float64 \n",
      "\n",
      "8.0 \n",
      "\n",
      "8.0 \n",
      "\n",
      "4.0 \n",
      "\n",
      "2.0 \n",
      "\n",
      "0.00     6.0\n",
      "0.25     7.0\n",
      "0.50     8.0\n",
      "0.75     9.0\n",
      "1.00    10.0\n",
      "Name: length, dtype: float64\n"
     ]
    },
    {
     "data": {
      "text/html": [
       "<div>\n",
       "<style scoped>\n",
       "    .dataframe tbody tr th:only-of-type {\n",
       "        vertical-align: middle;\n",
       "    }\n",
       "\n",
       "    .dataframe tbody tr th {\n",
       "        vertical-align: top;\n",
       "    }\n",
       "\n",
       "    .dataframe thead tr th {\n",
       "        text-align: left;\n",
       "    }\n",
       "\n",
       "    .dataframe thead tr:last-of-type th {\n",
       "        text-align: right;\n",
       "    }\n",
       "</style>\n",
       "<table border=\"1\" class=\"dataframe\">\n",
       "  <thead>\n",
       "    <tr>\n",
       "      <th></th>\n",
       "      <th colspan=\"8\" halign=\"left\">length</th>\n",
       "    </tr>\n",
       "    <tr>\n",
       "      <th></th>\n",
       "      <th>count</th>\n",
       "      <th>mean</th>\n",
       "      <th>std</th>\n",
       "      <th>min</th>\n",
       "      <th>25%</th>\n",
       "      <th>50%</th>\n",
       "      <th>75%</th>\n",
       "      <th>max</th>\n",
       "    </tr>\n",
       "    <tr>\n",
       "      <th>species</th>\n",
       "      <th></th>\n",
       "      <th></th>\n",
       "      <th></th>\n",
       "      <th></th>\n",
       "      <th></th>\n",
       "      <th></th>\n",
       "      <th></th>\n",
       "      <th></th>\n",
       "    </tr>\n",
       "  </thead>\n",
       "  <tbody>\n",
       "    <tr>\n",
       "      <th>A</th>\n",
       "      <td>3.0</td>\n",
       "      <td>3.0</td>\n",
       "      <td>1.0</td>\n",
       "      <td>2.0</td>\n",
       "      <td>2.5</td>\n",
       "      <td>3.0</td>\n",
       "      <td>3.5</td>\n",
       "      <td>4.0</td>\n",
       "    </tr>\n",
       "    <tr>\n",
       "      <th>B</th>\n",
       "      <td>3.0</td>\n",
       "      <td>8.0</td>\n",
       "      <td>2.0</td>\n",
       "      <td>6.0</td>\n",
       "      <td>7.0</td>\n",
       "      <td>8.0</td>\n",
       "      <td>9.0</td>\n",
       "      <td>10.0</td>\n",
       "    </tr>\n",
       "  </tbody>\n",
       "</table>\n",
       "</div>"
      ],
      "text/plain": [
       "        length                                    \n",
       "         count mean  std  min  25%  50%  75%   max\n",
       "species                                           \n",
       "A          3.0  3.0  1.0  2.0  2.5  3.0  3.5   4.0\n",
       "B          3.0  8.0  2.0  6.0  7.0  8.0  9.0  10.0"
      ]
     },
     "execution_count": 124,
     "metadata": {},
     "output_type": "execute_result"
    }
   ],
   "source": [
    "# A\n",
    "A = fdf.loc[fdf['species'] == 'A']\n",
    "\n",
    "# 평균\n",
    "print(A['length'].mean(), '\\n')\n",
    "\n",
    "# 중앙값\n",
    "print(A['length'].median(), '\\n')\n",
    "\n",
    "# 분산\n",
    "print(A['length'].var(), '\\n')\n",
    "\n",
    "# 표준편차\n",
    "print(A['length'].std(), '\\n')\n",
    "\n",
    "# 4분위값\n",
    "print(A['length'].quantile((0, 0.25, 0.5, 0.75, 1)), '\\n')\n",
    "\n",
    "\n",
    "# B \n",
    "B = fdf.loc[fdf['species'] == 'B']\n",
    "\n",
    "# 평균\n",
    "print(B['length'].mean(), '\\n')\n",
    "\n",
    "# 중앙값\n",
    "print(B['length'].median(), '\\n')\n",
    "\n",
    "# 분산\n",
    "print(B['length'].var(), '\\n')\n",
    "\n",
    "# 표준편차\n",
    "print(B['length'].std(), '\\n')\n",
    "\n",
    "# 4분위값\n",
    "print(B['length'].quantile((0, 0.25, 0.5, 0.75, 1)))\n",
    "\n",
    "fdf.groupby(fdf['species']).describe()"
   ]
  },
  {
   "cell_type": "code",
   "execution_count": 126,
   "id": "47cca452",
   "metadata": {
    "ExecuteTime": {
     "end_time": "2022-01-28T08:30:35.862266Z",
     "start_time": "2022-01-28T08:30:35.666745Z"
    }
   },
   "outputs": [
    {
     "data": {
      "text/html": [
       "<div>\n",
       "<style scoped>\n",
       "    .dataframe tbody tr th:only-of-type {\n",
       "        vertical-align: middle;\n",
       "    }\n",
       "\n",
       "    .dataframe tbody tr th {\n",
       "        vertical-align: top;\n",
       "    }\n",
       "\n",
       "    .dataframe thead th {\n",
       "        text-align: right;\n",
       "    }\n",
       "</style>\n",
       "<table border=\"1\" class=\"dataframe\">\n",
       "  <thead>\n",
       "    <tr style=\"text-align: right;\">\n",
       "      <th></th>\n",
       "      <th>store</th>\n",
       "      <th>color</th>\n",
       "      <th>sales</th>\n",
       "    </tr>\n",
       "  </thead>\n",
       "  <tbody>\n",
       "    <tr>\n",
       "      <th>0</th>\n",
       "      <td>tokyo</td>\n",
       "      <td>blue</td>\n",
       "      <td>10</td>\n",
       "    </tr>\n",
       "    <tr>\n",
       "      <th>1</th>\n",
       "      <td>tokyo</td>\n",
       "      <td>red</td>\n",
       "      <td>15</td>\n",
       "    </tr>\n",
       "    <tr>\n",
       "      <th>2</th>\n",
       "      <td>osaka</td>\n",
       "      <td>blue</td>\n",
       "      <td>13</td>\n",
       "    </tr>\n",
       "    <tr>\n",
       "      <th>3</th>\n",
       "      <td>osaka</td>\n",
       "      <td>red</td>\n",
       "      <td>9</td>\n",
       "    </tr>\n",
       "  </tbody>\n",
       "</table>\n",
       "</div>"
      ],
      "text/plain": [
       "   store color  sales\n",
       "0  tokyo  blue     10\n",
       "1  tokyo   red     15\n",
       "2  osaka  blue     13\n",
       "3  osaka   red      9"
      ]
     },
     "metadata": {},
     "output_type": "display_data"
    },
    {
     "data": {
      "text/html": [
       "<div>\n",
       "<style scoped>\n",
       "    .dataframe tbody tr th:only-of-type {\n",
       "        vertical-align: middle;\n",
       "    }\n",
       "\n",
       "    .dataframe tbody tr th {\n",
       "        vertical-align: top;\n",
       "    }\n",
       "\n",
       "    .dataframe thead th {\n",
       "        text-align: right;\n",
       "    }\n",
       "</style>\n",
       "<table border=\"1\" class=\"dataframe\">\n",
       "  <thead>\n",
       "    <tr style=\"text-align: right;\">\n",
       "      <th></th>\n",
       "      <th></th>\n",
       "      <th>sales</th>\n",
       "    </tr>\n",
       "    <tr>\n",
       "      <th>store</th>\n",
       "      <th>color</th>\n",
       "      <th></th>\n",
       "    </tr>\n",
       "  </thead>\n",
       "  <tbody>\n",
       "    <tr>\n",
       "      <th rowspan=\"2\" valign=\"top\">osaka</th>\n",
       "      <th>blue</th>\n",
       "      <td>13</td>\n",
       "    </tr>\n",
       "    <tr>\n",
       "      <th>red</th>\n",
       "      <td>9</td>\n",
       "    </tr>\n",
       "    <tr>\n",
       "      <th rowspan=\"2\" valign=\"top\">tokyo</th>\n",
       "      <th>blue</th>\n",
       "      <td>10</td>\n",
       "    </tr>\n",
       "    <tr>\n",
       "      <th>red</th>\n",
       "      <td>15</td>\n",
       "    </tr>\n",
       "  </tbody>\n",
       "</table>\n",
       "</div>"
      ],
      "text/plain": [
       "             sales\n",
       "store color       \n",
       "osaka blue      13\n",
       "      red        9\n",
       "tokyo blue      10\n",
       "      red       15"
      ]
     },
     "execution_count": 126,
     "metadata": {},
     "output_type": "execute_result"
    },
    {
     "data": {
      "image/png": "[encoded data removed]",
      "text/plain": [
       "<Figure size 640x480 with 1 Axes>"
      ]
     },
     "metadata": {},
     "output_type": "display_data"
    }
   ],
   "source": [
    "# 각 store의 컬러별 판매량을 파악할 수 있는 피봇 테이블을 작성\n",
    "\n",
    "sdf = pd.read_csv('D:/python/cakd5/m3_통계/data/5_2_shoes.csv')\n",
    "display(sdf)\n",
    "\n",
    "sdf1 = sdf.pivot_table(values = 'sales',\n",
    "                       index = ['store', 'color'])\n",
    "sdf1.plot(kind = 'bar')\n",
    "sdf1"
   ]
  },
  {
   "cell_type": "code",
   "execution_count": 127,
   "id": "38354f45",
   "metadata": {
    "ExecuteTime": {
     "end_time": "2022-01-28T08:30:36.570194Z",
     "start_time": "2022-01-28T08:30:36.536252Z"
    }
   },
   "outputs": [
    {
     "data": {
      "text/html": [
       "<div>\n",
       "<style scoped>\n",
       "    .dataframe tbody tr th:only-of-type {\n",
       "        vertical-align: middle;\n",
       "    }\n",
       "\n",
       "    .dataframe tbody tr th {\n",
       "        vertical-align: top;\n",
       "    }\n",
       "\n",
       "    .dataframe thead th {\n",
       "        text-align: right;\n",
       "    }\n",
       "</style>\n",
       "<table border=\"1\" class=\"dataframe\">\n",
       "  <thead>\n",
       "    <tr style=\"text-align: right;\">\n",
       "      <th></th>\n",
       "      <th>x</th>\n",
       "      <th>y</th>\n",
       "    </tr>\n",
       "  </thead>\n",
       "  <tbody>\n",
       "    <tr>\n",
       "      <th>0</th>\n",
       "      <td>18.5</td>\n",
       "      <td>34</td>\n",
       "    </tr>\n",
       "    <tr>\n",
       "      <th>1</th>\n",
       "      <td>18.7</td>\n",
       "      <td>39</td>\n",
       "    </tr>\n",
       "    <tr>\n",
       "      <th>2</th>\n",
       "      <td>19.1</td>\n",
       "      <td>41</td>\n",
       "    </tr>\n",
       "    <tr>\n",
       "      <th>3</th>\n",
       "      <td>19.7</td>\n",
       "      <td>38</td>\n",
       "    </tr>\n",
       "    <tr>\n",
       "      <th>4</th>\n",
       "      <td>21.5</td>\n",
       "      <td>45</td>\n",
       "    </tr>\n",
       "  </tbody>\n",
       "</table>\n",
       "</div>"
      ],
      "text/plain": [
       "      x   y\n",
       "0  18.5  34\n",
       "1  18.7  39\n",
       "2  19.1  41\n",
       "3  19.7  38\n",
       "4  21.5  45"
      ]
     },
     "metadata": {},
     "output_type": "display_data"
    },
    {
     "data": {
      "text/html": [
       "<div>\n",
       "<style scoped>\n",
       "    .dataframe tbody tr th:only-of-type {\n",
       "        vertical-align: middle;\n",
       "    }\n",
       "\n",
       "    .dataframe tbody tr th {\n",
       "        vertical-align: top;\n",
       "    }\n",
       "\n",
       "    .dataframe thead th {\n",
       "        text-align: right;\n",
       "    }\n",
       "</style>\n",
       "<table border=\"1\" class=\"dataframe\">\n",
       "  <thead>\n",
       "    <tr style=\"text-align: right;\">\n",
       "      <th></th>\n",
       "      <th>x</th>\n",
       "      <th>y</th>\n",
       "    </tr>\n",
       "  </thead>\n",
       "  <tbody>\n",
       "    <tr>\n",
       "      <th>x</th>\n",
       "      <td>3.646222</td>\n",
       "      <td>7.673333</td>\n",
       "    </tr>\n",
       "    <tr>\n",
       "      <th>y</th>\n",
       "      <td>7.673333</td>\n",
       "      <td>28.011111</td>\n",
       "    </tr>\n",
       "  </tbody>\n",
       "</table>\n",
       "</div>"
      ],
      "text/plain": [
       "          x          y\n",
       "x  3.646222   7.673333\n",
       "y  7.673333  28.011111"
      ]
     },
     "metadata": {},
     "output_type": "display_data"
    },
    {
     "data": {
      "text/html": [
       "<div>\n",
       "<style scoped>\n",
       "    .dataframe tbody tr th:only-of-type {\n",
       "        vertical-align: middle;\n",
       "    }\n",
       "\n",
       "    .dataframe tbody tr th {\n",
       "        vertical-align: top;\n",
       "    }\n",
       "\n",
       "    .dataframe thead th {\n",
       "        text-align: right;\n",
       "    }\n",
       "</style>\n",
       "<table border=\"1\" class=\"dataframe\">\n",
       "  <thead>\n",
       "    <tr style=\"text-align: right;\">\n",
       "      <th></th>\n",
       "      <th>x</th>\n",
       "      <th>y</th>\n",
       "    </tr>\n",
       "  </thead>\n",
       "  <tbody>\n",
       "    <tr>\n",
       "      <th>x</th>\n",
       "      <td>1.000000</td>\n",
       "      <td>0.759272</td>\n",
       "    </tr>\n",
       "    <tr>\n",
       "      <th>y</th>\n",
       "      <td>0.759272</td>\n",
       "      <td>1.000000</td>\n",
       "    </tr>\n",
       "  </tbody>\n",
       "</table>\n",
       "</div>"
      ],
      "text/plain": [
       "          x         y\n",
       "x  1.000000  0.759272\n",
       "y  0.759272  1.000000"
      ]
     },
     "metadata": {},
     "output_type": "display_data"
    }
   ],
   "source": [
    "# x, y의 공분산과 상관행렬\n",
    "\n",
    "cdf = pd.read_csv('D:/python/cakd5/m3_통계/data/4_cov.csv')\n",
    "display(cdf.head())\n",
    "\n",
    "display(cdf.cov())\n",
    "display(cdf.corr())"
   ]
  },
  {
   "cell_type": "markdown",
   "id": "30cfe5cb",
   "metadata": {},
   "source": [
    "## # 그래프 배경 타입\n",
    "---\n",
    "- plt.style.available\n",
    "- import matplotlib as mpl / mpl.rcParams.update(mpl.rcParamsDefault) - 초기화"
   ]
  },
  {
   "cell_type": "code",
   "execution_count": 90,
   "id": "966b0c1d",
   "metadata": {
    "ExecuteTime": {
     "end_time": "2022-01-28T08:25:03.655082Z",
     "start_time": "2022-01-28T08:25:03.636144Z"
    }
   },
   "outputs": [
    {
     "data": {
      "text/plain": [
       "['Solarize_Light2',\n",
       " '_classic_test_patch',\n",
       " '_mpl-gallery',\n",
       " '_mpl-gallery-nogrid',\n",
       " 'bmh',\n",
       " 'classic',\n",
       " 'dark_background',\n",
       " 'fast',\n",
       " 'fivethirtyeight',\n",
       " 'ggplot',\n",
       " 'grayscale',\n",
       " 'seaborn',\n",
       " 'seaborn-bright',\n",
       " 'seaborn-colorblind',\n",
       " 'seaborn-dark',\n",
       " 'seaborn-dark-palette',\n",
       " 'seaborn-darkgrid',\n",
       " 'seaborn-deep',\n",
       " 'seaborn-muted',\n",
       " 'seaborn-notebook',\n",
       " 'seaborn-paper',\n",
       " 'seaborn-pastel',\n",
       " 'seaborn-poster',\n",
       " 'seaborn-talk',\n",
       " 'seaborn-ticks',\n",
       " 'seaborn-white',\n",
       " 'seaborn-whitegrid',\n",
       " 'tableau-colorblind10']"
      ]
     },
     "execution_count": 90,
     "metadata": {},
     "output_type": "execute_result"
    }
   ],
   "source": [
    "plt.style.available"
   ]
  }
 ],
 "metadata": {
  "hide_input": false,
  "kernelspec": {
   "display_name": "Python 3 (ipykernel)",
   "language": "python",
   "name": "python3"
  },
  "language_info": {
   "codemirror_mode": {
    "name": "ipython",
    "version": 3
   },
   "file_extension": ".py",
   "mimetype": "text/x-python",
   "name": "python",
   "nbconvert_exporter": "python",
   "pygments_lexer": "ipython3",
   "version": "3.8.12"
  },
  "toc": {
   "base_numbering": 1,
   "nav_menu": {},
   "number_sections": false,
   "sideBar": true,
   "skip_h1_title": false,
   "title_cell": "Table of Contents",
   "title_sidebar": "Contents",
   "toc_cell": false,
   "toc_position": {
    "height": "827px",
    "left": "144px",
    "top": "156px",
    "width": "184px"
   },
   "toc_section_display": true,
   "toc_window_display": true
  },
  "varInspector": {
   "cols": {
    "lenName": "16",
    "lenType": "16",
    "lenVar": 40
   },
   "kernels_config": {
    "python": {
     "delete_cmd_postfix": "",
     "delete_cmd_prefix": "del ",
     "library": "var_list.py",
     "varRefreshCmd": "print(var_dic_list())"
    },
    "r": {
     "delete_cmd_postfix": ") ",
     "delete_cmd_prefix": "rm(",
     "library": "var_list.r",
     "varRefreshCmd": "cat(var_dic_list()) "
    }
   },
   "types_to_exclude": [
    "module",
    "function",
    "builtin_function_or_method",
    "instance",
    "_Feature"
   ],
   "window_display": false
  }
 },
 "nbformat": 4,
 "nbformat_minor": 5
}
