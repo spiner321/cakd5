{
 "cells": [
  {
   "cell_type": "markdown",
   "id": "b5607573",
   "metadata": {},
   "source": [
    "# # 1월 25일\n",
    "---"
   ]
  },
  {
   "cell_type": "markdown",
   "id": "0acc8901",
   "metadata": {},
   "source": [
    "## # 확률의 수학적 정의와 의미\n",
    "--- "
   ]
  },
  {
   "cell_type": "markdown",
   "id": "56126b53",
   "metadata": {},
   "source": [
    "### # 표본공간과 확률표본\n",
    "---\n",
    "- 확률표본 또는 표본은 풀고자 하는 문제에서 발생할 수 있는 하나의 현상\n",
    "- 표본공간은 가능한 모든 표본의 집합을 말하며 고려하는 범위에서 어떤 표본(경우, 현상)이 가능하고 어떤 표본이 가능하지 않은가를 정의하는 작업\n",
    "- 사건은 표본공간의 부분집합 : 전체 표본공간 중에서 관심을 가지는 일부 표본의 집합\n",
    "$$$$\n",
    "\n",
    "### # 확률\n",
    "---\n",
    "- 확률이란 사건(부분집합)을 입력하면 숫자(확률값)가 출력되는 함수\n",
    "- 모든 각각의 사건(부분집합)에 어떤 숫자를 할당하는 함수\n",
    "- 확률은 표본이 아닌 사건을 입력으로 가지는 함수\n",
    "- 빈도주의 관점 : 반복적으로 선택된 표본이 사건 A의 원소가 될 경향. 동전을 던져 앞면이 나오는 사건의 확률값은 0.5\n",
    "- 베이지안 관점 : 선택된 표본이 특정한 사건에 속한다는 가설. 명제 혹은 주장의 신뢰도로 반복이라는 개념은 사용하지 않음.\n",
    " - 예) 새가 날 수 있는 가능성은 95%. '앞면이 나왓다'는 주장의 신뢰도가 0.5\n",
    " - 베이지안 확률론에서 사건이 일어났다 혹은 발생했다는 그 사건의 원소 중에 정말로 선택된 표본이 있따는 사실을 알게되었다는 의미\n",
    "$$$$\n",
    "\n",
    "### # 확률의 성질\n",
    "---\n",
    " - 공집합의 확률 : 공집합인 사건의 합은 0이다. p(0) = 0\n",
    " - 여집합의 확률 : 어떤 사건의 여집합인 사건의 확률은 1 - 원래 사건의 확률과 같다.\n",
    " - 포함-배제의 원리 : 두 사건의 합집합의 확률은 각 사건의 확률의 합에서 두 사건의 교집합의 확률을 뺀 것과 같다.\n",
    " - 전체 확률의 법칙 : 생일이 1월인 남자라는 사건의 확률과 생일이 2월인 남자라는 사건의 확률, 이외에도 각각의 월을 생일로 가지는 남자라는 사건들의 확률을 모두 합하면 남자라는 사건의 확률이 된다. 각각의 월에 있는 남자의 생일이 서로 공통 원소가 없다.\n",
    "$$$$\n",
    "\n",
    "### # 확률분포함수\n",
    "---\n",
    "- 확률이 어디에 어느 정도 분포되어 있는지를 수학적으로 명시하고 전달하는 도구\n",
    "- 만약 표본의 개수가 무한하다면 현실적으로 모든 사건을 하나하나 기술하는 것은 불가능하며 호가률분표함수를 이용하여 이 문제를 해결\n",
    " - 확률질향함수 : 사건이 유한하면 경우 각 단수사건에 대한 확률만 정의하는 함수\n",
    " - 누적분포함수 : 시작점을 모두 똑같이 음의 무한대로 통일한 특수한 구간을 사용하는 사건의 확률분포를 묘사하는 함수\n",
    " - 확률밀도함수 : 누적분포함수를 미분하여 구한 도함수를 의미하며 특정한 구간의 확률이 다른 구간에 비해 상대적으로 얼마나 높은가를 나타내는 것이며 그 값 자체가 확률은 아니다\n",
    "$$$$\n",
    "\n",
    "### # 확률변수\n",
    "---\n",
    "- 확률적인 숫자 값을 출력하는 변수"
   ]
  },
  {
   "cell_type": "markdown",
   "id": "73b91fe8",
   "metadata": {},
   "source": [
    "### # 추측통계\n",
    "---\n",
    "- 확률을 사용하여 모집단의 통계적 성질을 추측하는 기법\n",
    "$$$$\n",
    "\n",
    "[모집단 분포와 표본분포]\n",
    "- 모집단 : 어떤 통계적 실험의 대상이 되는 모든 대상물\n",
    " - 예) 대한민국 모든 남성의 키 데이터, 2018 수능점수 데이터\n",
    "- 모집단 분포 : 모집단은 데이터 집단이므로 어떠한 분포를 이루며 이 데이터가 이루는 확률 분포가 모집단 분포\n",
    "- 모수 : 모집단의 특성을 나타내는 수치로 모평균, 모분산, 모표준편차, 모비율, 모상관관계 등\n",
    "- 표본 : 모집단의 모수(특성)을 알기 위하여 표본을 추출해서 모집단의 모수를 추정\n",
    "- 확률표본 : 모집단을 구성하는 모든 구성원이 표본으로 뽑힐 확률을 동일하게 하여 추출한 표본. 무작위란 어떠한 의도를 가지지 않는다는 것을 의미하며 모든 구성원이 뽑힐 확률이 동일하다는 개념.\n",
    "- 통계량 : 확률표본의 특성을 설명하는 값으로 표본평균, 표본분산, 표본표준편차, 표본비율, 표본상관관계 등\n",
    " - 모수는 모집단이 변하지 않기 때문에 그 값이 변하지 않으나 통계량은 표본을 어떻게 추출하느냐에 따라서 그 값이 다르게 나타난다.\n",
    "- 확률변수 : 무작위 실험을 했을 때 특정 확률로 발생하는 각각의 결과를 수치값으로 표현한 변수\n",
    " - 예) 동전의 앞과 뒤\n",
    "- 확률분포 : 확률변수 X의 모든 값과 그에 대응하는 확률값들의 분포\n",
    "- 통계량이 확률변수라는 의미 : 확률변수의 확률분포가 수학적으로 설명가능한 분포(예) 정규분포)를 따른다고 가정하면 특정 확률변수와 확률함수를 알고 있을때 특정 사건이 일어날 확률을 계산할 수 있으며 더 나아가 모수와 통계량의 관게를 알고 있다면 그것을 통해 모수에 대한 통계적인 추정을 할 수 있다. 즉, 통계량의 확률함수 또는 표본분포를 안다고 가정하면 이를 이용해 모수를 추정할 수 있다.\n",
    "$$$$\n",
    "\n",
    "[표본통계량 성질]\n",
    "- 샘플사이즈가 크면 표본평균은 모평균에 가까워진다.\n",
    "- 샘플사이즈가 커질수록 표본평균의 표준편차가 작아진다. 샘플사이즈를 크게하면 흩어짐이 적은 신뢰할 수 있는 표본평균을 얻을 수 있다.\n",
    "- 표준오차는 이론상 표본평균의 표준편차 크기인데 샘플사이즈가 커지면 표준오차는 작아진다.\n",
    "- 만약 모분산은 0.64, 표본분산의 평균값은 0.575로 분산이 과소평가 되면 불편분산을 사용하여 편향을 제거한다.(ddof = 1)\n",
    "- 샘플사이즈가 커질수록 불편분산은 모분산에 가까워진다.\n",
    "- 불편성 : 추정량의 기대값이 진짜 모수가 되는 특성. 편향이 없는 추정량.\n",
    "- 일치성 : 샘플사이즈가 커지면 추정량이 진짜 모수에 가까워지는 특성\n",
    "- 표본평균과 불편분산은 불편성을 가지고 있다고 볼 수 있다.\n",
    "- 샘플사이즈를 크게하면 표본평균은 모평균에 가까워지고 불편분산은 모분산에 가까워지므로 일치성을 가진다.\n",
    "- 큰 수의 법칙 : 표본의 크기가 커지면 표본평균이 모평균에 가까워지는 방법을 표현한 법칙\n",
    "- 중심극한정리 : 모집단분포와 상관없이 샘플사이즈가 커지면 표본 평균들이 이루는 분포가 모집단의 평균 $\\mu, 표준편차 \\sigma/sqrt(n)$인 정규분포에 가까워진다."
   ]
  },
  {
   "cell_type": "code",
   "execution_count": 2,
   "id": "a1f635a2",
   "metadata": {
    "ExecuteTime": {
     "end_time": "2022-02-04T04:10:30.265759Z",
     "start_time": "2022-02-04T04:10:28.750175Z"
    }
   },
   "outputs": [],
   "source": [
    "import numpy as np\n",
    "import pandas as pd\n",
    "import matplotlib.pyplot as plt\n",
    "import seaborn as sns\n",
    "import warnings\n",
    "warnings.filterwarnings('ignore')"
   ]
  },
  {
   "cell_type": "markdown",
   "id": "540d8893",
   "metadata": {},
   "source": [
    "#### # 모집단과 표본"
   ]
  },
  {
   "cell_type": "code",
   "execution_count": 3,
   "id": "eb498ad9",
   "metadata": {
    "ExecuteTime": {
     "end_time": "2022-02-04T04:10:30.310797Z",
     "start_time": "2022-02-04T04:10:30.296784Z"
    }
   },
   "outputs": [
    {
     "data": {
      "text/plain": [
       "array([76, 55, 80, 80, 74, 61, 81, 76, 23, 80], dtype=int64)"
      ]
     },
     "execution_count": 3,
     "metadata": {},
     "output_type": "execute_result"
    }
   ],
   "source": [
    "df = pd.read_csv('D:\\python\\cakd5\\m3_통계\\data\\ch4_scores400.csv')\n",
    "df.shape\n",
    "scores = np.array(df['score'])\n",
    "scores[:10]"
   ]
  },
  {
   "cell_type": "markdown",
   "id": "07e85dbd",
   "metadata": {},
   "source": [
    "#### # 복원추출"
   ]
  },
  {
   "cell_type": "code",
   "execution_count": 4,
   "id": "6770f725",
   "metadata": {
    "ExecuteTime": {
     "end_time": "2022-02-04T04:10:30.900291Z",
     "start_time": "2022-02-04T04:10:30.893285Z"
    }
   },
   "outputs": [
    {
     "data": {
      "text/plain": [
       "array([1, 1, 1])"
      ]
     },
     "execution_count": 4,
     "metadata": {},
     "output_type": "execute_result"
    }
   ],
   "source": [
    "np.random.choice([1,2,3],3)"
   ]
  },
  {
   "cell_type": "markdown",
   "id": "61004d0f",
   "metadata": {},
   "source": [
    "#### # 비복원추출"
   ]
  },
  {
   "cell_type": "code",
   "execution_count": 5,
   "id": "707e3fea",
   "metadata": {
    "ExecuteTime": {
     "end_time": "2022-02-04T04:10:37.497340Z",
     "start_time": "2022-02-04T04:10:37.484336Z"
    }
   },
   "outputs": [
    {
     "data": {
      "text/plain": [
       "array([2, 1, 3])"
      ]
     },
     "execution_count": 5,
     "metadata": {},
     "output_type": "execute_result"
    }
   ],
   "source": [
    "np.random.choice([1,2,3],3,replace = False)"
   ]
  },
  {
   "cell_type": "code",
   "execution_count": 6,
   "id": "f84ce48c",
   "metadata": {
    "ExecuteTime": {
     "end_time": "2022-02-04T04:10:37.996010Z",
     "start_time": "2022-02-04T04:10:37.980997Z"
    }
   },
   "outputs": [
    {
     "data": {
      "text/plain": [
       "70.4"
      ]
     },
     "execution_count": 6,
     "metadata": {},
     "output_type": "execute_result"
    }
   ],
   "source": [
    "np.random.seed(0)\n",
    "sample = np.random.choice(scores,20)\n",
    "sample.mean()"
   ]
  },
  {
   "cell_type": "code",
   "execution_count": 7,
   "id": "f9d41932",
   "metadata": {
    "ExecuteTime": {
     "end_time": "2022-02-04T04:10:38.465102Z",
     "start_time": "2022-02-04T04:10:38.447094Z"
    }
   },
   "outputs": [
    {
     "name": "stdout",
     "output_type": "stream",
     "text": [
      "[56 55 79 91 86 79 83 55 85 76 81 57 77 99 61 57 81 73 59 59]\n",
      "1번쨰 무작위 추출로 얻은 표본평균 72.45 \n",
      "\n",
      "[80 50 85 86 85 59 72 58 31 60 56 64 49 88 66 63 63 47 67 45]\n",
      "2번쨰 무작위 추출로 얻은 표본평균 63.7 \n",
      "\n",
      "[31 55 77 61 54 57 72 46 52 76 92 63 63 80 94 70 76 61 80 61]\n",
      "3번쨰 무작위 추출로 얻은 표본평균 66.05 \n",
      "\n",
      "[47 60 65 86 65 74 76 60 85 78 73 70 68 86 58 74 67 67 83 92]\n",
      "4번쨰 무작위 추출로 얻은 표본평균 71.7 \n",
      "\n",
      "[54 73 92 81 87 56 96 57 93 67 90 54 90 75 46 80 63 57 78 94]\n",
      "5번쨰 무작위 추출로 얻은 표본평균 74.15 \n",
      "\n"
     ]
    }
   ],
   "source": [
    "for i in range(5):\n",
    "    sample = np.random.choice(scores,20)\n",
    "    print(sample)\n",
    "    print(f'{i+1}번쨰 무작위 추출로 얻은 표본평균',sample.mean(),'\\n')"
   ]
  },
  {
   "cell_type": "markdown",
   "id": "2516d4ab",
   "metadata": {},
   "source": [
    "#### # 확률분포 (균형이 안 맞는 주사위)"
   ]
  },
  {
   "cell_type": "code",
   "execution_count": 8,
   "id": "26fb9341",
   "metadata": {
    "ExecuteTime": {
     "end_time": "2022-02-04T04:10:39.279158Z",
     "start_time": "2022-02-04T04:10:39.264151Z"
    }
   },
   "outputs": [],
   "source": [
    "dice = [1, 2, 3, 4, 5, 6]\n",
    "prob = [1/21, 2/21, 3/21, 4/21, 5/21, 6/21]"
   ]
  },
  {
   "cell_type": "code",
   "execution_count": 9,
   "id": "c89a1395",
   "metadata": {
    "ExecuteTime": {
     "end_time": "2022-02-04T04:10:39.626200Z",
     "start_time": "2022-02-04T04:10:39.618194Z"
    }
   },
   "outputs": [
    {
     "data": {
      "text/plain": [
       "1"
      ]
     },
     "execution_count": 9,
     "metadata": {},
     "output_type": "execute_result"
    }
   ],
   "source": [
    "np.random.choice(dice, p = prob)"
   ]
  },
  {
   "cell_type": "code",
   "execution_count": 10,
   "id": "84923b47",
   "metadata": {
    "ExecuteTime": {
     "end_time": "2022-02-04T04:10:40.019606Z",
     "start_time": "2022-02-04T04:10:40.009597Z"
    }
   },
   "outputs": [
    {
     "data": {
      "text/plain": [
       "array([4, 6, 1, 4, 3, 2, 3, 4, 4, 5, 4, 5, 3, 6, 1, 5, 4, 5, 2, 3, 6, 6,\n",
       "       4, 5, 6, 6, 2, 1, 3, 6, 2, 4, 6, 5, 5, 4, 5, 6, 1, 6, 6, 6, 3, 6,\n",
       "       2, 4, 6, 4, 4, 2, 1, 5, 3, 3, 5, 2, 5, 3, 5, 5, 2, 4, 5, 4, 2, 5,\n",
       "       5, 5, 6, 5, 6, 2, 2, 6, 4, 3, 6, 4, 6, 6, 6, 5, 6, 4, 3, 6, 4, 6,\n",
       "       5, 5, 2, 6, 4, 5, 4, 3, 6, 5, 1, 5])"
      ]
     },
     "execution_count": 10,
     "metadata": {},
     "output_type": "execute_result"
    }
   ],
   "source": [
    "np.random.seed(1)\n",
    "num_trial = 100\n",
    "sample = np.random.choice(dice, num_trial, p = prob)\n",
    "# sample = np.random.choice(dice, 100, p = prob) # 시행 횟수를 확률 앞에 적어줘야 출력가능\n",
    "sample"
   ]
  },
  {
   "cell_type": "code",
   "execution_count": 11,
   "id": "824712e0",
   "metadata": {
    "ExecuteTime": {
     "end_time": "2022-02-04T04:10:40.396270Z",
     "start_time": "2022-02-04T04:10:40.381264Z"
    }
   },
   "outputs": [
    {
     "name": "stdout",
     "output_type": "stream",
     "text": [
      "[ 6 12 12 20 24 26] \n",
      "\n"
     ]
    },
    {
     "data": {
      "text/html": [
       "<div>\n",
       "<style scoped>\n",
       "    .dataframe tbody tr th:only-of-type {\n",
       "        vertical-align: middle;\n",
       "    }\n",
       "\n",
       "    .dataframe tbody tr th {\n",
       "        vertical-align: top;\n",
       "    }\n",
       "\n",
       "    .dataframe thead th {\n",
       "        text-align: right;\n",
       "    }\n",
       "</style>\n",
       "<table border=\"1\" class=\"dataframe\">\n",
       "  <thead>\n",
       "    <tr style=\"text-align: right;\">\n",
       "      <th></th>\n",
       "      <th>frequency</th>\n",
       "      <th>relative frequency</th>\n",
       "    </tr>\n",
       "    <tr>\n",
       "      <th>dice</th>\n",
       "      <th></th>\n",
       "      <th></th>\n",
       "    </tr>\n",
       "  </thead>\n",
       "  <tbody>\n",
       "    <tr>\n",
       "      <th>1</th>\n",
       "      <td>6</td>\n",
       "      <td>0.06</td>\n",
       "    </tr>\n",
       "    <tr>\n",
       "      <th>2</th>\n",
       "      <td>12</td>\n",
       "      <td>0.12</td>\n",
       "    </tr>\n",
       "    <tr>\n",
       "      <th>3</th>\n",
       "      <td>12</td>\n",
       "      <td>0.12</td>\n",
       "    </tr>\n",
       "    <tr>\n",
       "      <th>4</th>\n",
       "      <td>20</td>\n",
       "      <td>0.20</td>\n",
       "    </tr>\n",
       "    <tr>\n",
       "      <th>5</th>\n",
       "      <td>24</td>\n",
       "      <td>0.24</td>\n",
       "    </tr>\n",
       "    <tr>\n",
       "      <th>6</th>\n",
       "      <td>26</td>\n",
       "      <td>0.26</td>\n",
       "    </tr>\n",
       "  </tbody>\n",
       "</table>\n",
       "</div>"
      ],
      "text/plain": [
       "      frequency  relative frequency\n",
       "dice                               \n",
       "1             6                0.06\n",
       "2            12                0.12\n",
       "3            12                0.12\n",
       "4            20                0.20\n",
       "5            24                0.24\n",
       "6            26                0.26"
      ]
     },
     "execution_count": 11,
     "metadata": {},
     "output_type": "execute_result"
    }
   ],
   "source": [
    "freq, _ = np.histogram(sample, bins = 6, range = (1, 7))\n",
    "\n",
    "print(freq, '\\n')\n",
    "rdf = pd.DataFrame({'frequency' : freq,'relative frequency' : freq / num_trial},\n",
    "                    index = pd.Index(np.arange(1, 7), name = 'dice'))\n",
    "rdf"
   ]
  },
  {
   "cell_type": "code",
   "execution_count": 12,
   "id": "a9136d30",
   "metadata": {
    "ExecuteTime": {
     "end_time": "2022-02-04T04:10:40.727311Z",
     "start_time": "2022-02-04T04:10:40.712298Z"
    }
   },
   "outputs": [
    {
     "data": {
      "text/plain": [
       "array([1.5, 2.5, 3.5, 4.5, 5.5, 6.5])"
      ]
     },
     "execution_count": 12,
     "metadata": {},
     "output_type": "execute_result"
    }
   ],
   "source": [
    "np.linspace(1.5, 6.5, 6)"
   ]
  },
  {
   "cell_type": "code",
   "execution_count": 13,
   "id": "51d29520",
   "metadata": {
    "ExecuteTime": {
     "end_time": "2022-02-04T04:10:41.254074Z",
     "start_time": "2022-02-04T04:10:41.116427Z"
    }
   },
   "outputs": [
    {
     "data": {
      "text/plain": [
       "Text(0, 0.5, 'relative frequency')"
      ]
     },
     "execution_count": 13,
     "metadata": {},
     "output_type": "execute_result"
    },
    {
     "data": {
      "image/png": "[encoded data removed]",
      "text/plain": [
       "<Figure size 576x432 with 1 Axes>"
      ]
     },
     "metadata": {},
     "output_type": "display_data"
    }
   ],
   "source": [
    "plt.style.use('seaborn')\n",
    "fig = plt.figure(figsize = (8, 6))\n",
    "ax = fig.add_subplot(111)\n",
    "ax.hist(sample, bins = 6, range = (1,7), density = True, rwidth = 0.8)\n",
    "\n",
    "# 실제 확률분포를 가로선으로 표시\n",
    "ax.hlines(prob, np.arange(1, 7), np.arange(2, 8), colors = 'gray')\n",
    "\n",
    "# 막대 그래프\n",
    "ax.set_xticks(np.linspace(1.5, 6.5, 6))\n",
    "ax.set_xticklabels(np.arange(1, 7))\n",
    "ax.set_xlabel('dice')\n",
    "ax.set_ylabel('relative frequency')"
   ]
  },
  {
   "cell_type": "code",
   "execution_count": 14,
   "id": "52b0cc8c",
   "metadata": {
    "ExecuteTime": {
     "end_time": "2022-02-04T04:10:41.631599Z",
     "start_time": "2022-02-04T04:10:41.530516Z"
    }
   },
   "outputs": [
    {
     "data": {
      "text/plain": [
       "Text(0, 0.5, 'relative frequency')"
      ]
     },
     "execution_count": 14,
     "metadata": {},
     "output_type": "execute_result"
    },
    {
     "data": {
      "image/png": "[encoded data removed]",
      "text/plain": [
       "<Figure size 576x432 with 1 Axes>"
      ]
     },
     "metadata": {},
     "output_type": "display_data"
    }
   ],
   "source": [
    "sample = np.random.choice(dice, 10000, p = prob)\n",
    "\n",
    "plt.style.use('seaborn-darkgrid')\n",
    "fig = plt.figure(figsize = (8, 6))\n",
    "ax = fig.add_subplot(111)\n",
    "ax.hist(sample, bins = 6, range = (1,7), density = True, rwidth = 0.8)\n",
    "\n",
    "# 실제 확률분포를 가로선으로 표시\n",
    "ax.hlines(prob, np.arange(1, 7), np.arange(2, 8), colors = 'orange', linewidth = 3)\n",
    "\n",
    "# 막대 그래프\n",
    "ax.set_xticks(np.linspace(1.5, 6.5, 6))\n",
    "ax.set_xticklabels(np.arange(1, 7))\n",
    "ax.set_xlabel('dice')\n",
    "ax.set_ylabel('relative frequency')"
   ]
  },
  {
   "cell_type": "markdown",
   "id": "faa3fd9a",
   "metadata": {
    "ExecuteTime": {
     "end_time": "2022-01-25T06:50:20.962190Z",
     "start_time": "2022-01-25T06:50:20.957217Z"
    }
   },
   "source": [
    "#### # 추측통계에서의 확률"
   ]
  },
  {
   "cell_type": "code",
   "execution_count": 15,
   "id": "904b06ce",
   "metadata": {
    "ExecuteTime": {
     "end_time": "2022-02-04T04:10:42.685503Z",
     "start_time": "2022-02-04T04:10:42.668488Z"
    }
   },
   "outputs": [
    {
     "data": {
      "text/html": [
       "<div>\n",
       "<style scoped>\n",
       "    .dataframe tbody tr th:only-of-type {\n",
       "        vertical-align: middle;\n",
       "    }\n",
       "\n",
       "    .dataframe tbody tr th {\n",
       "        vertical-align: top;\n",
       "    }\n",
       "\n",
       "    .dataframe thead th {\n",
       "        text-align: right;\n",
       "    }\n",
       "</style>\n",
       "<table border=\"1\" class=\"dataframe\">\n",
       "  <thead>\n",
       "    <tr style=\"text-align: right;\">\n",
       "      <th></th>\n",
       "      <th>score</th>\n",
       "    </tr>\n",
       "  </thead>\n",
       "  <tbody>\n",
       "    <tr>\n",
       "      <th>0</th>\n",
       "      <td>76</td>\n",
       "    </tr>\n",
       "    <tr>\n",
       "      <th>1</th>\n",
       "      <td>55</td>\n",
       "    </tr>\n",
       "    <tr>\n",
       "      <th>2</th>\n",
       "      <td>80</td>\n",
       "    </tr>\n",
       "    <tr>\n",
       "      <th>3</th>\n",
       "      <td>80</td>\n",
       "    </tr>\n",
       "    <tr>\n",
       "      <th>4</th>\n",
       "      <td>74</td>\n",
       "    </tr>\n",
       "  </tbody>\n",
       "</table>\n",
       "</div>"
      ],
      "text/plain": [
       "   score\n",
       "0     76\n",
       "1     55\n",
       "2     80\n",
       "3     80\n",
       "4     74"
      ]
     },
     "metadata": {},
     "output_type": "display_data"
    },
    {
     "data": {
      "text/plain": [
       "array([76, 55, 80, 80, 74, 61, 81, 76, 23, 80], dtype=int64)"
      ]
     },
     "execution_count": 15,
     "metadata": {},
     "output_type": "execute_result"
    }
   ],
   "source": [
    "df = pd.read_csv('D:\\python\\cakd5\\m3_통계\\data\\ch4_scores400.csv')\n",
    "display(df.head())\n",
    "scores = np.array(df['score'])\n",
    "scores[:10]"
   ]
  },
  {
   "cell_type": "code",
   "execution_count": 16,
   "id": "0e5fb786",
   "metadata": {
    "ExecuteTime": {
     "end_time": "2022-02-04T04:10:43.483196Z",
     "start_time": "2022-02-04T04:10:43.247554Z"
    }
   },
   "outputs": [
    {
     "data": {
      "text/plain": [
       "<AxesSubplot:ylabel='Count'>"
      ]
     },
     "execution_count": 16,
     "metadata": {},
     "output_type": "execute_result"
    },
    {
     "data": {
      "image/png": "[encoded data removed]",
      "text/plain": [
       "<Figure size 576x396 with 1 Axes>"
      ]
     },
     "metadata": {},
     "output_type": "display_data"
    }
   ],
   "source": [
    "sns.set_style('darkgrid')\n",
    "sns.histplot(scores, kde = True)"
   ]
  },
  {
   "cell_type": "code",
   "execution_count": 17,
   "id": "e05c8ce5",
   "metadata": {
    "ExecuteTime": {
     "end_time": "2022-02-04T04:10:44.417627Z",
     "start_time": "2022-02-04T04:10:44.170647Z"
    }
   },
   "outputs": [
    {
     "data": {
      "text/plain": [
       "(20.0, 120.0, 0.0, 0.042)"
      ]
     },
     "execution_count": 17,
     "metadata": {},
     "output_type": "execute_result"
    },
    {
     "data": {
      "image/png": "[encoded data removed]",
      "text/plain": [
       "<Figure size 720x432 with 1 Axes>"
      ]
     },
     "metadata": {},
     "output_type": "display_data"
    }
   ],
   "source": [
    "plt.figure(figsize = (10, 6))\n",
    "plt.hist(scores, bins = 100, range = (0, 100), density = True)\n",
    "plt.xlabel('score')\n",
    "plt.ylabel('relative frequency')\n",
    "plt.axis([20, 120, 0, 0.042])"
   ]
  },
  {
   "cell_type": "code",
   "execution_count": 20,
   "id": "37f51785",
   "metadata": {
    "ExecuteTime": {
     "end_time": "2022-02-04T04:10:53.099061Z",
     "start_time": "2022-02-04T04:10:52.612619Z"
    }
   },
   "outputs": [
    {
     "data": {
      "image/png": "[encoded data removed]",
      "text/plain": [
       "<Figure size 1152x504 with 2 Axes>"
      ]
     },
     "metadata": {},
     "output_type": "display_data"
    }
   ],
   "source": [
    "# y축을 빈도, 상대빈도로 표시하여 그래프를 비교\n",
    "\n",
    "fig = plt.figure(figsize = (16, 7))\n",
    "ax1 = fig.add_subplot(121)\n",
    "ax2 = fig.add_subplot(122)\n",
    "\n",
    "ax1.hist(scores, bins=100, range=(20,100))\n",
    "ax2.hist(scores, bins=100, range=(20,100), density=True)\n",
    "plt.show()"
   ]
  },
  {
   "cell_type": "code",
   "execution_count": 19,
   "id": "73b8303a",
   "metadata": {
    "ExecuteTime": {
     "end_time": "2022-02-04T04:10:47.995984Z",
     "start_time": "2022-02-04T04:10:46.393526Z"
    }
   },
   "outputs": [
    {
     "name": "stdout",
     "output_type": "stream",
     "text": [
      "69.53\n"
     ]
    },
    {
     "data": {
      "text/plain": [
       "Text(0, 0.5, 'relative frequency')"
      ]
     },
     "execution_count": 19,
     "metadata": {},
     "output_type": "execute_result"
    },
    {
     "data": {
      "image/png": "[encoded data removed]",
      "text/plain": [
       "<Figure size 1152x504 with 1 Axes>"
      ]
     },
     "metadata": {},
     "output_type": "display_data"
    }
   ],
   "source": [
    "# 무작위 추출로 표본크기가 20인 표본을 추출하여 표본평균을 계산하는 작업을 10000번 수행해서 그 결과를 히스토그램으로 그리고 모평균을 중심으로 분포하는지 여부를 확인하고 모평균 추정의 근거를 설명하세요\n",
    "\n",
    "df = pd.read_csv('D:\\python\\cakd5\\m3_통계\\data\\ch4_scores400.csv')\n",
    "scores = np.array(df.score)\n",
    "\n",
    "print(scores.mean())\n",
    "\n",
    "# for i in range(10000):\n",
    "#     samples = np.random.choice(scores, 20)\n",
    "    \n",
    "samples_mean = [np.random.choice(scores, 20).mean() for i in range(10000)]\n",
    "\n",
    "plt.style.use('seaborn')\n",
    "fig = plt.figure(figsize = (16, 7))\n",
    "ax1 = fig.add_subplot(111)    \n",
    "plt.hist(samples_mean, bins = 1000, range = (0, 100), density = True)\n",
    "plt.vlines(scores.mean(), 0, 0.2, 'yellow')\n",
    "plt.axis([50, 90, 0, 0.25])\n",
    "plt.xlabel('score')\n",
    "plt.ylabel('relative frequency')"
   ]
  },
  {
   "cell_type": "markdown",
   "id": "620dbce9",
   "metadata": {},
   "source": [
    "## # 그래프 배경 타입\n",
    "---\n",
    "- plt.style.available\n",
    "- import matplotlib as mpl / mpl.rcParams.update(mpl.rcParamsDefault) - 초기화"
   ]
  },
  {
   "cell_type": "code",
   "execution_count": 27,
   "id": "2b8c06c0",
   "metadata": {
    "ExecuteTime": {
     "end_time": "2022-01-28T08:23:09.905555Z",
     "start_time": "2022-01-28T08:23:09.893556Z"
    }
   },
   "outputs": [
    {
     "data": {
      "text/plain": [
       "['Solarize_Light2',\n",
       " '_classic_test_patch',\n",
       " '_mpl-gallery',\n",
       " '_mpl-gallery-nogrid',\n",
       " 'bmh',\n",
       " 'classic',\n",
       " 'dark_background',\n",
       " 'fast',\n",
       " 'fivethirtyeight',\n",
       " 'ggplot',\n",
       " 'grayscale',\n",
       " 'seaborn',\n",
       " 'seaborn-bright',\n",
       " 'seaborn-colorblind',\n",
       " 'seaborn-dark',\n",
       " 'seaborn-dark-palette',\n",
       " 'seaborn-darkgrid',\n",
       " 'seaborn-deep',\n",
       " 'seaborn-muted',\n",
       " 'seaborn-notebook',\n",
       " 'seaborn-paper',\n",
       " 'seaborn-pastel',\n",
       " 'seaborn-poster',\n",
       " 'seaborn-talk',\n",
       " 'seaborn-ticks',\n",
       " 'seaborn-white',\n",
       " 'seaborn-whitegrid',\n",
       " 'tableau-colorblind10']"
      ]
     },
     "execution_count": 27,
     "metadata": {},
     "output_type": "execute_result"
    }
   ],
   "source": [
    "plt.style.available"
   ]
  }
 ],
 "metadata": {
  "hide_input": false,
  "kernelspec": {
   "display_name": "Python 3 (ipykernel)",
   "language": "python",
   "name": "python3"
  },
  "language_info": {
   "codemirror_mode": {
    "name": "ipython",
    "version": 3
   },
   "file_extension": ".py",
   "mimetype": "text/x-python",
   "name": "python",
   "nbconvert_exporter": "python",
   "pygments_lexer": "ipython3",
   "version": "3.8.12"
  },
  "toc": {
   "base_numbering": 1,
   "nav_menu": {},
   "number_sections": false,
   "sideBar": true,
   "skip_h1_title": false,
   "title_cell": "Table of Contents",
   "title_sidebar": "Contents",
   "toc_cell": false,
   "toc_position": {
    "height": "827px",
    "left": "113px",
    "top": "86px",
    "width": "257px"
   },
   "toc_section_display": true,
   "toc_window_display": false
  },
  "varInspector": {
   "cols": {
    "lenName": "16",
    "lenType": "16",
    "lenVar": 40
   },
   "kernels_config": {
    "python": {
     "delete_cmd_postfix": "",
     "delete_cmd_prefix": "del ",
     "library": "var_list.py",
     "varRefreshCmd": "print(var_dic_list())"
    },
    "r": {
     "delete_cmd_postfix": ") ",
     "delete_cmd_prefix": "rm(",
     "library": "var_list.r",
     "varRefreshCmd": "cat(var_dic_list()) "
    }
   },
   "types_to_exclude": [
    "module",
    "function",
    "builtin_function_or_method",
    "instance",
    "_Feature"
   ],
   "window_display": false
  }
 },
 "nbformat": 4,
 "nbformat_minor": 5
}
