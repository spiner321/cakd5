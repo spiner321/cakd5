{
 "cells": [
  {
   "cell_type": "markdown",
   "id": "0f62e120",
   "metadata": {
    "ExecuteTime": {
     "end_time": "2022-01-28T05:43:53.995792Z",
     "start_time": "2022-01-28T05:43:53.987837Z"
    }
   },
   "source": [
    "# # 1월 28일"
   ]
  },
  {
   "cell_type": "markdown",
   "id": "c4ac7de6",
   "metadata": {
    "ExecuteTime": {
     "end_time": "2022-01-28T05:42:46.643928Z",
     "start_time": "2022-01-28T05:42:46.629967Z"
    }
   },
   "source": [
    "## # 독립동일분포\n",
    "---\n",
    "- 확률변수가 서로 독립이라는 것은 호가률변수가 다른 확률변수에 영향을 끼치지 않는다는 의미이다.\n",
    "- 통계분석에서 취급하는 데이터 중 상당수가 독립이면서 다차원인 확률변수의 실현값으로 간주될 수 있다.\n",
    "- 서로 독립이고 각각 동일한 확률분포를 따르는 다차원 확률변수를 독립동일분포라 한다"
   ]
  },
  {
   "cell_type": "markdown",
   "id": "5c9b7553",
   "metadata": {
    "ExecuteTime": {
     "end_time": "2022-01-28T05:43:17.463250Z",
     "start_time": "2022-01-28T05:43:17.456266Z"
    }
   },
   "source": [
    "### # 독립성\n",
    "---\n",
    "- 2개 이상의 확률변수가 서로 영향을 끼치지 않으며 관게가 없음을 나타내는 개념\n",
    "- 2차원 확률변수 (X, Y)의 경우 다음과 같은 관계가 성립할 때 X, Y는 독립이라고 함\n",
    " - $f_{X, Y}(x,y) = f_X(x)f_Y(y)$\n",
    "- 확률변수가 독립일 때 결합확률은 주변확률의 곱으로 작성할 수 있다.\n",
    "- 일반화\n",
    " - $f_{X_1, X_2, ..., X_n}(x_1, x_2, ..., x_n) = f_{X-1}(x_1)f_{X_2}(x_2)...f_{X_n}(x_n)$\n",
    "- 함수 f가 이산형이면 확률함수, 연속형이면 밀도함수를 나타낸다."
   ]
  },
  {
   "cell_type": "code",
   "execution_count": null,
   "id": "34aef443",
   "metadata": {},
   "outputs": [],
   "source": []
  }
 ],
 "metadata": {
  "hide_input": false,
  "kernelspec": {
   "display_name": "Python 3 (ipykernel)",
   "language": "python",
   "name": "python3"
  },
  "language_info": {
   "codemirror_mode": {
    "name": "ipython",
    "version": 3
   },
   "file_extension": ".py",
   "mimetype": "text/x-python",
   "name": "python",
   "nbconvert_exporter": "python",
   "pygments_lexer": "ipython3",
   "version": "3.8.12"
  },
  "toc": {
   "base_numbering": 1,
   "nav_menu": {},
   "number_sections": false,
   "sideBar": true,
   "skip_h1_title": false,
   "title_cell": "Table of Contents",
   "title_sidebar": "Contents",
   "toc_cell": false,
   "toc_position": {
    "height": "827px",
    "left": "113px",
    "top": "88px",
    "width": "264px"
   },
   "toc_section_display": true,
   "toc_window_display": true
  },
  "varInspector": {
   "cols": {
    "lenName": "16",
    "lenType": "16",
    "lenVar": 40
   },
   "kernels_config": {
    "python": {
     "delete_cmd_postfix": "",
     "delete_cmd_prefix": "del ",
     "library": "var_list.py",
     "varRefreshCmd": "print(var_dic_list())"
    },
    "r": {
     "delete_cmd_postfix": ") ",
     "delete_cmd_prefix": "rm(",
     "library": "var_list.r",
     "varRefreshCmd": "cat(var_dic_list()) "
    }
   },
   "types_to_exclude": [
    "module",
    "function",
    "builtin_function_or_method",
    "instance",
    "_Feature"
   ],
   "window_display": false
  }
 },
 "nbformat": 4,
 "nbformat_minor": 5
}
