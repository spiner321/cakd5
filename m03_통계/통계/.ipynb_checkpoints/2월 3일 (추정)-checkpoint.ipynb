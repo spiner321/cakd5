{
 "cells": [
  {
   "cell_type": "markdown",
   "id": "339c6cfe",
   "metadata": {},
   "source": [
    "# [2월 4일]\n",
    "---"
   ]
  },
  {
   "cell_type": "markdown",
   "id": "c898db53",
   "metadata": {},
   "source": [
    "## # 통계적 추정\n",
    "---\n",
    "- 점추정\n",
    " - 모평균이나 모분산 등의 모수를 하나의 수치로 추정\n",
    " - 추정량의 기댓값이 추측하려는 모수가 되는 성질을 불편성이라고 하며 불편성을 가진 추정량을 불편추정량이라고 한다.\n",
    " - 표본평균이 모평균을 잘 추정할 수 있는 근거 중 하나가 바로 이 불편성이다.\n",
    " - 표본크기 n을 증가시키면 추측하기 원하는 모수에 수렴해 가는 성질을 일치성이라고 하며 일치성을 지닌 추정량을 일치 추정량이라고 한다.\n",
    " - 표본평균은 불편성과 일치성을 모두 가지고 있기 때문에 모평균을 잘 추정한다고 볼 수 있다.\n",
    " - 모분산의 불편 추정량이 되는 표본통계량은 불편분산이다.\n",
    " - 불편분산의 분모는 표본분산에서 나누는 수 n에 -1을 하여 n-1로 계산하며, 표본분산은 $S^2$로 나타내고 불편분산은 $s^2$로 나타낸다.\n",
    " $$$$\n",
    "- 구간추정\n",
    " - 모분산을 알고 있는 경우의 모평균 구간추정\n",
    " - 모분산을 알고 있는 경우의 모분산 구간추정\n",
    " - 모분산을 알지 못하는 경우의 모평균 구간추정\n",
    " - 베르누이 분포의 모평균의 구간추정\n",
    " - 포아송 분포의 모평균의 구간추정"
   ]
  },
  {
   "cell_type": "markdown",
   "id": "3fcf2242",
   "metadata": {},
   "source": [
    "### # 점추정\n",
    "---"
   ]
  }
 ],
 "metadata": {
  "hide_input": false,
  "kernelspec": {
   "display_name": "Python 3 (ipykernel)",
   "language": "python",
   "name": "python3"
  },
  "language_info": {
   "codemirror_mode": {
    "name": "ipython",
    "version": 3
   },
   "file_extension": ".py",
   "mimetype": "text/x-python",
   "name": "python",
   "nbconvert_exporter": "python",
   "pygments_lexer": "ipython3",
   "version": "3.8.12"
  },
  "toc": {
   "base_numbering": 1,
   "nav_menu": {},
   "number_sections": false,
   "sideBar": true,
   "skip_h1_title": false,
   "title_cell": "Table of Contents",
   "title_sidebar": "Contents",
   "toc_cell": false,
   "toc_position": {
    "height": "1187px",
    "left": "115px",
    "top": "88px",
    "width": "335px"
   },
   "toc_section_display": true,
   "toc_window_display": false
  },
  "varInspector": {
   "cols": {
    "lenName": 16,
    "lenType": 16,
    "lenVar": 40
   },
   "kernels_config": {
    "python": {
     "delete_cmd_postfix": "",
     "delete_cmd_prefix": "del ",
     "library": "var_list.py",
     "varRefreshCmd": "print(var_dic_list())"
    },
    "r": {
     "delete_cmd_postfix": ") ",
     "delete_cmd_prefix": "rm(",
     "library": "var_list.r",
     "varRefreshCmd": "cat(var_dic_list()) "
    }
   },
   "types_to_exclude": [
    "module",
    "function",
    "builtin_function_or_method",
    "instance",
    "_Feature"
   ],
   "window_display": false
  }
 },
 "nbformat": 4,
 "nbformat_minor": 5
}
