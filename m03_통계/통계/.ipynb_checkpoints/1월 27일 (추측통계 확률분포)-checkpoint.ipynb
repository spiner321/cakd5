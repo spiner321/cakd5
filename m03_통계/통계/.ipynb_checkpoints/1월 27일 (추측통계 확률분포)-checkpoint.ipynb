{
 "cells": [
  {
   "cell_type": "code",
   "execution_count": 1,
   "id": "abac7aef",
   "metadata": {
    "ExecuteTime": {
     "end_time": "2022-01-28T00:22:52.222908Z",
     "start_time": "2022-01-28T00:22:49.911630Z"
    }
   },
   "outputs": [],
   "source": [
    "import numpy as np\n",
    "import pandas as pd\n",
    "import matplotlib.pyplot as plt\n",
    "from scipy import integrate\n",
    "from scipy import stats\n",
    "import seaborn as sns\n",
    "import scipy as sp\n",
    "import warnings\n",
    "warnings.filterwarnings('ignore')\n",
    "plt.style.use('seaborn')"
   ]
  },
  {
   "cell_type": "markdown",
   "id": "0f502f6d",
   "metadata": {},
   "source": [
    "### # 연속형 확률변수\n",
    "---\n",
    "- 이산형 확률변수와 연속형 확률변수의 주된 차이는 확률변수가 취할 수 있는 값이 이산적인가 연속적인가이다.\n",
    "- 연속형 확률변수의 경우 계산 과정에 적분이 포함된다. 적분은 Scipy의 integral 모듈을 사용하여 구현한다.\n",
    "- 연속형 확률변수에서는 확률의 성질이 수식을 만족해야 함\n",
    " - f(x)는 확률함수이므로 (확률은) 무조건 0이상 값을 가진다.\n",
    " - f(x)에 대하여 무한대 범위의 적분 결과는 1"
   ]
  },
  {
   "cell_type": "markdown",
   "id": "c11f868a",
   "metadata": {},
   "source": [
    "#### # 확률함수\n",
    "---"
   ]
  },
  {
   "cell_type": "code",
   "execution_count": 66,
   "id": "919c3e18",
   "metadata": {
    "ExecuteTime": {
     "end_time": "2022-01-27T06:59:44.598335Z",
     "start_time": "2022-01-27T06:59:44.580383Z"
    }
   },
   "outputs": [],
   "source": [
    "x_range = np.array([0, 1])\n",
    "\n",
    "def f(x):\n",
    "    if x_range[0] <= x <= x_range[1]:\n",
    "        return x * 2\n",
    "    else:\n",
    "        return 0\n",
    "\n",
    "X = [x_range, f]"
   ]
  },
  {
   "cell_type": "code",
   "execution_count": 67,
   "id": "b34de7b9",
   "metadata": {
    "ExecuteTime": {
     "end_time": "2022-01-27T06:59:45.085920Z",
     "start_time": "2022-01-27T06:59:44.921185Z"
    }
   },
   "outputs": [
    {
     "data": {
      "text/plain": [
       "<matplotlib.legend.Legend at 0x229fda977c0>"
      ]
     },
     "execution_count": 67,
     "metadata": {},
     "output_type": "execute_result"
    },
    {
     "data": {
      "image/png": "[encoded data removed]",
      "text/plain": [
       "<Figure size 720x432 with 1 Axes>"
      ]
     },
     "metadata": {},
     "output_type": "display_data"
    }
   ],
   "source": [
    "xs = np.linspace(x_range[0], x_range[1], 100)\n",
    "fig = plt.figure(figsize = (10, 6))\n",
    "ax = fig.add_subplot(111)\n",
    "\n",
    "ax.plot(xs, [f(x) for x in xs], label = 'f(x)', color = 'gray')\n",
    "ax.hlines(0, -0.2, 1.2, alpha = 0.3)\n",
    "ax.vlines(0, -0.2, 2.2, alpha = 0.3)\n",
    "ax.vlines(xs.max(), 0, 2.2, linestyles = ':', color = 'gray')\n",
    "\n",
    "# 0.4 ~ 0.6 x좌표를 생성\n",
    "\n",
    "xs = np.linspace(0.4, 0.6, 100)\n",
    "ax.fill_between(xs, [f(x) for x in xs], label = 'prob')\n",
    "\n",
    "ax.set_xticks(np.arange(-0.2, 1.3, 0.2))\n",
    "ax.set_xlim(-0.1, 1.1)\n",
    "ax.set_ylim(-0.2, 2.1)\n",
    "ax.legend()"
   ]
  },
  {
   "cell_type": "markdown",
   "id": "aa657015",
   "metadata": {},
   "source": [
    "#### # 적분\n",
    "---"
   ]
  },
  {
   "cell_type": "code",
   "execution_count": 68,
   "id": "ece7e157",
   "metadata": {
    "ExecuteTime": {
     "end_time": "2022-01-27T06:59:45.679652Z",
     "start_time": "2022-01-27T06:59:45.672670Z"
    }
   },
   "outputs": [
    {
     "data": {
      "text/plain": [
       "(0.19999999999999996, 2.2204460492503127e-15)"
      ]
     },
     "execution_count": 68,
     "metadata": {},
     "output_type": "execute_result"
    }
   ],
   "source": [
    "# 첫번째 인수는 피적분함수, 두번재 인수와 세번째 인수는 적분 범위\n",
    "# quad 함수는 적분값과 추정오차를 반환\n",
    "\n",
    "integrate.quad(f, 0.4, 0.6)"
   ]
  },
  {
   "cell_type": "code",
   "execution_count": 69,
   "id": "2477a4bd",
   "metadata": {
    "ExecuteTime": {
     "end_time": "2022-01-27T06:59:45.961339Z",
     "start_time": "2022-01-27T06:59:45.944384Z"
    }
   },
   "outputs": [
    {
     "data": {
      "text/plain": [
       "0"
      ]
     },
     "execution_count": 69,
     "metadata": {},
     "output_type": "execute_result"
    }
   ],
   "source": [
    "from scipy.optimize import minimize_scalar\n",
    "\n",
    "res = minimize_scalar(f)\n",
    "res.fun # 함수의 최소값은 fun이라는 인스턴스 변수로 구함"
   ]
  },
  {
   "cell_type": "code",
   "execution_count": 70,
   "id": "86b1698a",
   "metadata": {
    "ExecuteTime": {
     "end_time": "2022-01-27T06:59:46.243588Z",
     "start_time": "2022-01-27T06:59:46.234611Z"
    }
   },
   "outputs": [
    {
     "data": {
      "text/plain": [
       "(1.0, 2.5284034288255746e-09)"
      ]
     },
     "execution_count": 70,
     "metadata": {},
     "output_type": "execute_result"
    }
   ],
   "source": [
    "# 무한대 범위의 적분의 결과\n",
    "\n",
    "integrate.quad(f, -np.inf, np.inf) # (피적분함수, 음의방향으로 무한대, 양의방향으로 무한대)"
   ]
  },
  {
   "cell_type": "markdown",
   "id": "bd2ac438",
   "metadata": {},
   "source": [
    "### # 연속형 확률분포\n",
    "---\n",
    "- 특정값이 될 확률은 0, 특정 값이 범위에 들어갈 확률은 확률밀도함수를 적분하여 계산(적분은 곡선 아래 면적의 크기)\n",
    "- 정규분포는 연속확률분포로 가장 자주 쓰이는 확률분포. 모양은 평균을 중심으로 하나의 봉우리 형태를 띄며 한 집단의 많은 사람들의 키, 몸무게, 시험성적 등의 데이터에 잘 나타나는 분포\n",
    " - 누적분포함수 : 확률분포에서 얻은 확률변수 3 이하가 되는 확률.  - Cumulative density function -\n",
    "   - stats.norm.cdf(loc = 4, scale = 0.8, x = 3)\n",
    " - 정규분포의 확률밀도 계산\n",
    "   - 확률변수 3일 때의 확률밀도 N(3|4, 0.8**2)\n",
    "   - stats.norm.pdf(loc = 4, scale = 0.8, x = 3) - Probability density function -\n",
    " - 하측확률 : '확률변수 x가 N보다 낮을 확률은 M퍼센트이다'에서 N을 고정하고 M을 구하는 경우\n",
    "   - 이때의 M이 하측확률이며 M(확률)을 고정하고 N(변수)를 구하는 경우 이때의 N이 퍼센트포인트 하측확률이 2.5%가 되는 퍼센트 포인트\n",
    " - stats.norm.pdf(x = x)로 하여 loc(평균)과 scale(표준편차)를 지정하지 않을 경우 표준정규분포가 됨. - Probability density function -\n",
    " - stat.norm.rvs()함수는 정규확률분포로부터 난수를 생성"
   ]
  },
  {
   "cell_type": "markdown",
   "id": "a9471085",
   "metadata": {},
   "source": [
    "pmf : 확률질량함수(probability mass function)\n",
    "\n",
    "pdf : 확률밀도함수(probability density function)\n",
    "\n",
    "cdf : 누적분포함수(cumulative distribution function)\n",
    "\n",
    "ppf : 누적분포함수의 역함수(inverse cumulative distribution function)\n",
    "\n",
    "sf : 생존함수(survival function) = 1 - 누적분포함수\n",
    "\n",
    "isf : 생존함수의 역함수(inverse survival function)\n",
    "\n",
    "rvs : 랜덤 표본 생성(random variable sampling)"
   ]
  },
  {
   "cell_type": "code",
   "execution_count": 71,
   "id": "2cdc6c5b",
   "metadata": {
    "ExecuteTime": {
     "end_time": "2022-01-27T06:59:47.474689Z",
     "start_time": "2022-01-27T06:59:47.183895Z"
    }
   },
   "outputs": [
    {
     "data": {
      "text/plain": [
       "Text(0.5, 1.0, '누적분포함수')"
      ]
     },
     "execution_count": 71,
     "metadata": {},
     "output_type": "execute_result"
    },
    {
     "data": {
      "image/png": "[encoded data removed]",
      "text/plain": [
       "<Figure size 576x432 with 1 Axes>"
      ]
     },
     "metadata": {},
     "output_type": "display_data"
    },
    {
     "data": {
      "image/png": "[encoded data removed]",
      "text/plain": [
       "<Figure size 576x432 with 1 Axes>"
      ]
     },
     "metadata": {},
     "output_type": "display_data"
    }
   ],
   "source": [
    "# 표준정규분포\n",
    "\n",
    "plt.rc('font', family = 'Malgun Gothic') # 한글 입력\n",
    "plt.rcParams['axes.unicode_minus'] = False # 글꼴 변경시 마이너스 표기 가능으로 처리\n",
    "\n",
    "rv = stats.norm(loc = 0, scale = 1)\n",
    "xx = np.linspace(-3, 3, 100)\n",
    "pdf = rv.pdf(xx) # 확률밀도함수\n",
    "\n",
    "plt.figure(figsize = (8, 6))\n",
    "plt.plot(xx, pdf)\n",
    "plt.title('확률밀도함수')\n",
    "\n",
    "\n",
    "cdf = rv.cdf(xx) # 확률밀도함수\n",
    "\n",
    "plt.figure(figsize = (8, 6))\n",
    "plt.plot(xx, cdf)\n",
    "plt.title('누적분포함수')"
   ]
  },
  {
   "cell_type": "markdown",
   "id": "9a7ac395",
   "metadata": {},
   "source": [
    "#### # 정규분포의 확률밀도 계산\n",
    "---"
   ]
  },
  {
   "cell_type": "markdown",
   "id": "f5569300",
   "metadata": {},
   "source": [
    "##### # 확률변수 x의 확률밀도\n",
    "---\n"
   ]
  },
  {
   "cell_type": "code",
   "execution_count": 72,
   "id": "20cbcadd",
   "metadata": {
    "ExecuteTime": {
     "end_time": "2022-01-27T06:59:48.132178Z",
     "start_time": "2022-01-27T06:59:48.111270Z"
    }
   },
   "outputs": [
    {
     "data": {
      "text/plain": [
       "0.22831135673627742"
      ]
     },
     "execution_count": 72,
     "metadata": {},
     "output_type": "execute_result"
    }
   ],
   "source": [
    "# 확률변수 3일때의 확률밀도 (N 3|4.0, 0.8**2)\n",
    "# np.pi : 원주율 (원주율의 상수로 사용)\n",
    "# exp() 함수 : 자연상수 e를 밑으로 가지는 계산에 사용\n",
    "\n",
    "x = 3\n",
    "mu = 4\n",
    "sigma = 0.8\n",
    "\n",
    "1 / (np.sqrt(2 * np.pi * sigma**2)) * sp.exp(-((x - mu)**2) / (2 * sigma**2))"
   ]
  },
  {
   "cell_type": "code",
   "execution_count": 73,
   "id": "241f1da8",
   "metadata": {
    "ExecuteTime": {
     "end_time": "2022-01-27T06:59:48.414645Z",
     "start_time": "2022-01-27T06:59:48.401647Z"
    }
   },
   "outputs": [
    {
     "data": {
      "text/plain": [
       "0.2283113567362774"
      ]
     },
     "execution_count": 73,
     "metadata": {},
     "output_type": "execute_result"
    }
   ],
   "source": [
    "stats.norm.pdf(loc = 4, scale = 0.8, x = 3)"
   ]
  },
  {
   "cell_type": "code",
   "execution_count": 74,
   "id": "b2e49927",
   "metadata": {
    "ExecuteTime": {
     "end_time": "2022-01-27T06:59:48.696446Z",
     "start_time": "2022-01-27T06:59:48.687454Z"
    }
   },
   "outputs": [
    {
     "data": {
      "text/plain": [
       "0.24197072451914337"
      ]
     },
     "execution_count": 74,
     "metadata": {},
     "output_type": "execute_result"
    }
   ],
   "source": [
    "# 표준정규분포에서 확률변수가 1일때의 확률밀도를 구하세요.\n",
    "\n",
    "stats.norm.pdf(loc = 0, scale = 1, x = 1)"
   ]
  },
  {
   "cell_type": "code",
   "execution_count": 75,
   "id": "175c5118",
   "metadata": {
    "ExecuteTime": {
     "end_time": "2022-01-27T06:59:48.945585Z",
     "start_time": "2022-01-27T06:59:48.933614Z"
    }
   },
   "outputs": [
    {
     "data": {
      "text/plain": [
       "0.2283113567362774"
      ]
     },
     "execution_count": 75,
     "metadata": {},
     "output_type": "execute_result"
    }
   ],
   "source": [
    "# 정규분포 인스턴스 생성\n",
    "\n",
    "norm_dist = stats.norm(loc = 4, scale = 0.8)\n",
    "norm_dist.pdf(x = 3)"
   ]
  },
  {
   "cell_type": "code",
   "execution_count": 132,
   "id": "1014fe4f",
   "metadata": {
    "ExecuteTime": {
     "end_time": "2022-01-27T07:49:30.402301Z",
     "start_time": "2022-01-27T07:49:30.220777Z"
    }
   },
   "outputs": [
    {
     "data": {
      "text/plain": [
       "[<matplotlib.lines.Line2D at 0x229fcdd37f0>]"
      ]
     },
     "execution_count": 132,
     "metadata": {},
     "output_type": "execute_result"
    },
    {
     "data": {
      "image/png": "[encoded data removed]",
      "text/plain": [
       "<Figure size 576x432 with 1 Axes>"
      ]
     },
     "metadata": {},
     "output_type": "display_data"
    }
   ],
   "source": [
    "x_plot = np.arange(1, 7.1, 0.1)\n",
    "\n",
    "mean = x_plot.mean()\n",
    "std = x_plot.std()\n",
    "\n",
    "pdf = stats.norm(mean, 1).pdf(x_plot)\n",
    "\n",
    "plt.figure(figsize = (8, 6))\n",
    "plt.plot(x_plot, pdf)"
   ]
  },
  {
   "cell_type": "code",
   "execution_count": 77,
   "id": "094bc202",
   "metadata": {
    "ExecuteTime": {
     "end_time": "2022-01-27T06:59:49.471323Z",
     "start_time": "2022-01-27T06:59:49.427410Z"
    }
   },
   "outputs": [
    {
     "data": {
      "text/html": [
       "<div>\n",
       "<style scoped>\n",
       "    .dataframe tbody tr th:only-of-type {\n",
       "        vertical-align: middle;\n",
       "    }\n",
       "\n",
       "    .dataframe tbody tr th {\n",
       "        vertical-align: top;\n",
       "    }\n",
       "\n",
       "    .dataframe thead th {\n",
       "        text-align: right;\n",
       "    }\n",
       "</style>\n",
       "<table border=\"1\" class=\"dataframe\">\n",
       "  <thead>\n",
       "    <tr style=\"text-align: right;\">\n",
       "      <th></th>\n",
       "      <th>0</th>\n",
       "    </tr>\n",
       "  </thead>\n",
       "  <tbody>\n",
       "    <tr>\n",
       "      <th>count</th>\n",
       "      <td>100000.000</td>\n",
       "    </tr>\n",
       "    <tr>\n",
       "      <th>mean</th>\n",
       "      <td>4.004</td>\n",
       "    </tr>\n",
       "    <tr>\n",
       "      <th>std</th>\n",
       "      <td>0.799</td>\n",
       "    </tr>\n",
       "    <tr>\n",
       "      <th>min</th>\n",
       "      <td>0.538</td>\n",
       "    </tr>\n",
       "    <tr>\n",
       "      <th>25%</th>\n",
       "      <td>3.466</td>\n",
       "    </tr>\n",
       "    <tr>\n",
       "      <th>50%</th>\n",
       "      <td>4.005</td>\n",
       "    </tr>\n",
       "    <tr>\n",
       "      <th>75%</th>\n",
       "      <td>4.540</td>\n",
       "    </tr>\n",
       "    <tr>\n",
       "      <th>max</th>\n",
       "      <td>7.334</td>\n",
       "    </tr>\n",
       "  </tbody>\n",
       "</table>\n",
       "</div>"
      ],
      "text/plain": [
       "                0\n",
       "count  100000.000\n",
       "mean        4.004\n",
       "std         0.799\n",
       "min         0.538\n",
       "25%         3.466\n",
       "50%         4.005\n",
       "75%         4.540\n",
       "max         7.334"
      ]
     },
     "metadata": {},
     "output_type": "display_data"
    },
    {
     "data": {
      "text/plain": [
       "0.10371"
      ]
     },
     "execution_count": 77,
     "metadata": {},
     "output_type": "execute_result"
    }
   ],
   "source": [
    "\n",
    "np.random.seed(1)\n",
    "simulated_sample = stats.norm.rvs(loc = 4, scale = 0.8, size = 100000)\n",
    "simulated_sample[:10]\n",
    "\n",
    "display(pd.DataFrame(simulated_sample).describe().round(3))\n",
    "\n",
    "simulated_sample.sort()\n",
    "a = simulated_sample\n",
    "\n",
    "len(a[a <= 3]) / len(a)"
   ]
  },
  {
   "cell_type": "code",
   "execution_count": 78,
   "id": "31ec10f0",
   "metadata": {
    "ExecuteTime": {
     "end_time": "2022-01-27T06:59:49.848485Z",
     "start_time": "2022-01-27T06:59:49.570027Z"
    }
   },
   "outputs": [
    {
     "data": {
      "text/plain": [
       "0.1056336863503608"
      ]
     },
     "execution_count": 78,
     "metadata": {},
     "output_type": "execute_result"
    },
    {
     "data": {
      "image/png": "[encoded data removed]",
      "text/plain": [
       "<Figure size 1152x360 with 2 Axes>"
      ]
     },
     "metadata": {},
     "output_type": "display_data"
    }
   ],
   "source": [
    "# 표본이 특정 값 이하가 되는 확률\n",
    "\n",
    "a = stats.norm(4, 0.8).cdf(simulated_sample)\n",
    "b = stats.norm(4, 0.8).cdf(simulated_sample[simulated_sample <= 3])\n",
    "\n",
    "fig = plt.figure(figsize = (16, 5))\n",
    "ax1 = fig.add_subplot(121)\n",
    "ax1.plot(simulated_sample, a)\n",
    "\n",
    "ax2 = fig.add_subplot(122)\n",
    "plt.plot(simulated_sample[simulated_sample <= 3], b)\n",
    "\n",
    "b[-1]"
   ]
  },
  {
   "cell_type": "markdown",
   "id": "6f0d5e45",
   "metadata": {},
   "source": [
    "##### # 누적분포함수\n",
    "---"
   ]
  },
  {
   "cell_type": "code",
   "execution_count": 79,
   "id": "aa8d73e8",
   "metadata": {
    "ExecuteTime": {
     "end_time": "2022-01-27T06:59:49.987598Z",
     "start_time": "2022-01-27T06:59:49.977644Z"
    }
   },
   "outputs": [
    {
     "data": {
      "text/plain": [
       "0.10564977366685535"
      ]
     },
     "execution_count": 79,
     "metadata": {},
     "output_type": "execute_result"
    }
   ],
   "source": [
    "# 확률분포에서 얻은 확률변수 3 이하가 되는 확률(loc = 4, scale = 0.8)\n",
    "\n",
    "stats.norm(4, 0.8).cdf(3)"
   ]
  },
  {
   "cell_type": "code",
   "execution_count": 80,
   "id": "bc6cc6bd",
   "metadata": {
    "ExecuteTime": {
     "end_time": "2022-01-27T06:59:50.098332Z",
     "start_time": "2022-01-27T06:59:50.086334Z"
    }
   },
   "outputs": [
    {
     "data": {
      "text/plain": [
       "0.5"
      ]
     },
     "execution_count": 80,
     "metadata": {},
     "output_type": "execute_result"
    }
   ],
   "source": [
    "# 정규분포는 평균에 대해 좌우대칭\n",
    "# 데이터가 평균값 이하가 될 확률은? 50%\n",
    "\n",
    "stats.norm(4, 0.8).cdf(4)"
   ]
  },
  {
   "cell_type": "markdown",
   "id": "4896bdd6",
   "metadata": {},
   "source": [
    "##### # q : 하측확률 -> 퍼센트포인트\n",
    "---"
   ]
  },
  {
   "cell_type": "code",
   "execution_count": 81,
   "id": "d916d6bc",
   "metadata": {
    "ExecuteTime": {
     "end_time": "2022-01-27T06:59:50.378071Z",
     "start_time": "2022-01-27T06:59:50.357115Z"
    }
   },
   "outputs": [
    {
     "data": {
      "text/plain": [
       "2.4320288123679563"
      ]
     },
     "execution_count": 81,
     "metadata": {},
     "output_type": "execute_result"
    }
   ],
   "source": [
    "stats.norm(4, 0.8).ppf(q = 0.025)"
   ]
  },
  {
   "cell_type": "markdown",
   "id": "4a0917a9",
   "metadata": {},
   "source": [
    "##### # x : 퍼센트포인트 -> 하측확률\n",
    "---"
   ]
  },
  {
   "cell_type": "code",
   "execution_count": 82,
   "id": "b529a42e",
   "metadata": {
    "ExecuteTime": {
     "end_time": "2022-01-27T06:59:50.692718Z",
     "start_time": "2022-01-27T06:59:50.678756Z"
    }
   },
   "outputs": [
    {
     "data": {
      "text/plain": [
       "0.024999999999999977"
      ]
     },
     "execution_count": 82,
     "metadata": {},
     "output_type": "execute_result"
    }
   ],
   "source": [
    "stats.norm(4, 0.8).cdf(x = 2.4320288123679563)"
   ]
  },
  {
   "cell_type": "markdown",
   "id": "5a3d5f6b",
   "metadata": {},
   "source": [
    "### # 대표적인 연속형 확률분포\n",
    "---"
   ]
  },
  {
   "cell_type": "code",
   "execution_count": 2,
   "id": "115c6ae2",
   "metadata": {
    "ExecuteTime": {
     "end_time": "2022-01-28T00:23:01.776676Z",
     "start_time": "2022-01-28T00:23:01.760721Z"
    }
   },
   "outputs": [],
   "source": [
    "import numpy as np\n",
    "import matplotlib.pyplot as plt\n",
    "import scipy as sp\n",
    "from scipy import stats, integrate\n",
    "from scipy.optimize import minimize_scalar\n",
    "\n",
    "linestyles = ['-', '--', ':']\n",
    "\n",
    "# 평균\n",
    "def E(X, g = lambda x: x):\n",
    "    x_range, f = X\n",
    "    def integrand(x):\n",
    "        return g(x) * f(x)\n",
    "    return integrate.quad(integrand, -np.inf, np.inf)[0]\n",
    "\n",
    "# 분산\n",
    "def V(X, g = lambda x: x):\n",
    "    x_range, f = X\n",
    "    mean = E(X, g)\n",
    "    def integrand(x):\n",
    "        return (g(x) - mean)**2 * f(x)\n",
    "    return integrate.quad(integrand, -np.inf, np.inf)[0]\n",
    "\n",
    "# 확률분포를 인수로 가지면 기대값과 분산계산 결과를 반환\n",
    "def check_prob(X):\n",
    "    x_range, f = X\n",
    "    f_min = minimize_scalar(f).fun\n",
    "    assert f_min >= 0, 'density function is minus value'\n",
    "    prob_sum = np.round(integrate.quad(f,-np.inf,np.inf)[0],6)\n",
    "    assert prob_sum == 1, f'sum of probability is {prob_sum}'\n",
    "    print(f'expected value {E(X):.3f}')\n",
    "    print(f'variance{V(X):.3f}')\n",
    "    \n",
    "# 확률분포를 인수로 가지면 기대값과 분산계산 결과를 그래프로 반환    \n",
    "def plot_prob(X, x_min, x_max): \n",
    "    x_range, f = X\n",
    "    def F(x):\n",
    "        return integrate.quad(f, -np.inf, x)[0]\n",
    "    \n",
    "    xs = np.linspace(x_min, x_max, 100)\n",
    "    \n",
    "    fig = plt.figure(figsize = (10, 6))\n",
    "    ax = fig.add_subplot(111)\n",
    "    ax.plot(xs, [f(x) for x in xs], label = 'f(x)', color = 'red')\n",
    "    ax.plot(xs, [F(x) for x in xs], label = 'F(x)', ls = '--', color = 'crimson')\n",
    "    ax.legend()"
   ]
  },
  {
   "cell_type": "markdown",
   "id": "7d1cd524",
   "metadata": {},
   "source": [
    "#### # 정규분포\n",
    "---\n",
    "- 통계분석에서 자주 사용하는 중요한 확률분포로 자연계에서 일어나는 수많은 현상을 표현한다. 가우스 분포라고도 부른다.\n",
    "- 정규분포가 취할 수 있는 값은 실수 전체로 파라미터는 평균과 분산 두가지이다."
   ]
  },
  {
   "cell_type": "code",
   "execution_count": 84,
   "id": "3d2c593c",
   "metadata": {
    "ExecuteTime": {
     "end_time": "2022-01-27T06:59:51.509778Z",
     "start_time": "2022-01-27T06:59:51.500795Z"
    }
   },
   "outputs": [],
   "source": [
    "#정규분포 사용자 정의 함수\n",
    " \n",
    "def N(mu, sigma):\n",
    "    x_range = [-np.inf, np.inf]\n",
    "    def f(x):\n",
    "        return 1 / (np.sqrt(2 * np.pi * sigma ** 2)) * sp.exp(-((x-mu)**2) / (2 * sigma ** 2))\n",
    "    return x_range, f"
   ]
  },
  {
   "cell_type": "code",
   "execution_count": 85,
   "id": "cd17bc92",
   "metadata": {
    "ExecuteTime": {
     "end_time": "2022-01-27T06:59:51.728858Z",
     "start_time": "2022-01-27T06:59:51.698905Z"
    }
   },
   "outputs": [
    {
     "name": "stdout",
     "output_type": "stream",
     "text": [
      "expected value 2.000\n",
      "variance0.250\n"
     ]
    }
   ],
   "source": [
    "mu, sigma = 2, 0.5\n",
    "\n",
    "X = N(mu, sigma)\n",
    "check_prob(X)"
   ]
  },
  {
   "cell_type": "code",
   "execution_count": 86,
   "id": "2b9894fe",
   "metadata": {
    "ExecuteTime": {
     "end_time": "2022-01-27T06:59:52.109980Z",
     "start_time": "2022-01-27T06:59:51.878569Z"
    }
   },
   "outputs": [
    {
     "data": {
      "image/png": "[encoded data removed]",
      "text/plain": [
       "<Figure size 720x432 with 1 Axes>"
      ]
     },
     "metadata": {},
     "output_type": "display_data"
    }
   ],
   "source": [
    "plot_prob(X, 0, 4)"
   ]
  },
  {
   "cell_type": "code",
   "execution_count": 87,
   "id": "be4aceae",
   "metadata": {
    "ExecuteTime": {
     "end_time": "2022-01-27T06:59:52.219715Z",
     "start_time": "2022-01-27T06:59:52.206723Z"
    }
   },
   "outputs": [
    {
     "name": "stdout",
     "output_type": "stream",
     "text": [
      "2.0 0.25\n"
     ]
    }
   ],
   "source": [
    "rv = stats.norm(2, 0.5)\n",
    "print(rv.mean(), rv.var())"
   ]
  },
  {
   "cell_type": "code",
   "execution_count": 37,
   "id": "a4ede7fb",
   "metadata": {
    "ExecuteTime": {
     "end_time": "2022-01-27T06:52:09.957446Z",
     "start_time": "2022-01-27T06:52:07.971869Z"
    }
   },
   "outputs": [
    {
     "name": "stdout",
     "output_type": "stream",
     "text": [
      "Requirement already satisfied: scipy in c:\\users\\spiner\\anaconda3\\envs\\cakd5\\lib\\site-packages (1.7.1)\n",
      "Requirement already satisfied: numpy<1.23.0,>=1.16.5 in c:\\users\\spiner\\anaconda3\\envs\\cakd5\\lib\\site-packages (from scipy) (1.21.2)\n"
     ]
    }
   ],
   "source": [
    "!pip install scipy"
   ]
  },
  {
   "cell_type": "code",
   "execution_count": 88,
   "id": "2bf57b54",
   "metadata": {
    "ExecuteTime": {
     "end_time": "2022-01-27T06:59:52.330071Z",
     "start_time": "2022-01-27T06:59:52.316486Z"
    }
   },
   "outputs": [
    {
     "data": {
      "text/plain": [
       "0.7978845608028654"
      ]
     },
     "execution_count": 88,
     "metadata": {},
     "output_type": "execute_result"
    }
   ],
   "source": [
    "# pp가 2일때 확률밀도\n",
    "\n",
    "rv.pdf(2)"
   ]
  },
  {
   "cell_type": "code",
   "execution_count": 89,
   "id": "a0399a4a",
   "metadata": {
    "ExecuteTime": {
     "end_time": "2022-01-27T06:59:52.456155Z",
     "start_time": "2022-01-27T06:59:52.443172Z"
    }
   },
   "outputs": [
    {
     "data": {
      "text/plain": [
       "0.5"
      ]
     },
     "execution_count": 89,
     "metadata": {},
     "output_type": "execute_result"
    }
   ],
   "source": [
    "# pp가 2일때 하측확률\n",
    "\n",
    "rv.cdf(2)"
   ]
  },
  {
   "cell_type": "code",
   "execution_count": 131,
   "id": "281a063e",
   "metadata": {
    "ExecuteTime": {
     "end_time": "2022-01-27T07:47:15.088272Z",
     "start_time": "2022-01-27T07:47:15.070292Z"
    }
   },
   "outputs": [
    {
     "data": {
      "text/plain": [
       "(2.2622002563540207, 1.7377997436459798)"
      ]
     },
     "execution_count": 131,
     "metadata": {},
     "output_type": "execute_result"
    }
   ],
   "source": [
    "# 상위 30프로\n",
    "\n",
    "rv.isf(0.3), rv.isf(0.7)"
   ]
  },
  {
   "cell_type": "code",
   "execution_count": 125,
   "id": "2c363851",
   "metadata": {
    "ExecuteTime": {
     "end_time": "2022-01-27T07:46:11.947248Z",
     "start_time": "2022-01-27T07:46:11.935274Z"
    }
   },
   "outputs": [
    {
     "data": {
      "text/plain": [
       "(1.1775731865242636, 2.822426813475736)"
      ]
     },
     "execution_count": 125,
     "metadata": {},
     "output_type": "execute_result"
    }
   ],
   "source": [
    "# 90% 구간 범위\n",
    "\n",
    "rv.interval(0.9)"
   ]
  },
  {
   "cell_type": "code",
   "execution_count": 105,
   "id": "b824cd2a",
   "metadata": {
    "ExecuteTime": {
     "end_time": "2022-01-27T07:18:04.481458Z",
     "start_time": "2022-01-27T07:18:04.460486Z"
    }
   },
   "outputs": [
    {
     "data": {
      "text/plain": [
       "(1.1775731865242638, 2.8224268134757367)"
      ]
     },
     "execution_count": 105,
     "metadata": {},
     "output_type": "execute_result"
    }
   ],
   "source": [
    "# 하위 5%, 상위 5%의 확률변수\n",
    "\n",
    "rv.isf(0.95), rv.isf(0.05) # rv.ppf(0.05), rv.ppf(0.95) 와 같다."
   ]
  },
  {
   "cell_type": "markdown",
   "id": "21c900f5",
   "metadata": {},
   "source": [
    "#### # 지수분포\n",
    "---\n",
    "- 어떤 사건이 발생하는 간격이 따르는 분포이며 확률변수가 취할 수 있는 값은 0 이상의 실수\n",
    "- 지수분포의 파라미터는 $\\lambda$로 양의 실수이며 Ex($\\lambda$)로 표기한다.\n",
    "- Ex($\\lambda$)는 단위시간당 평균 $\\lambda$번 발생하는 사건의 발생 간격에 따르는 확률분포이다."
   ]
  },
  {
   "cell_type": "code",
   "execution_count": 108,
   "id": "766c8d5f",
   "metadata": {
    "ExecuteTime": {
     "end_time": "2022-01-27T07:25:09.531226Z",
     "start_time": "2022-01-27T07:25:09.512276Z"
    }
   },
   "outputs": [],
   "source": [
    "# 사용자 정의 함수\n",
    "\n",
    "def Ex(lam):\n",
    "    x_range = [0, np.inf]\n",
    "    def f(x):\n",
    "        if x >= 0:\n",
    "            return lam * np.exp(-lam * x) # 자연상수 e는 numpy 것을 주로 사용\n",
    "        else:\n",
    "            return 0\n",
    "    return x_range, f"
   ]
  },
  {
   "cell_type": "code",
   "execution_count": 111,
   "id": "644840cf",
   "metadata": {
    "ExecuteTime": {
     "end_time": "2022-01-27T07:27:47.985343Z",
     "start_time": "2022-01-27T07:27:47.970363Z"
    }
   },
   "outputs": [
    {
     "name": "stdout",
     "output_type": "stream",
     "text": [
      "expected value 0.333\n",
      "variance0.111\n"
     ]
    }
   ],
   "source": [
    "lam = 3\n",
    "X = Ex(lam)\n",
    "check_prob(X)"
   ]
  },
  {
   "cell_type": "code",
   "execution_count": 3,
   "id": "d73dda89",
   "metadata": {
    "ExecuteTime": {
     "end_time": "2022-01-28T00:23:12.412602Z",
     "start_time": "2022-01-28T00:23:12.012176Z"
    }
   },
   "outputs": [
    {
     "ename": "NameError",
     "evalue": "name 'X' is not defined",
     "output_type": "error",
     "traceback": [
      "\u001b[1;31m---------------------------------------------------------------------------\u001b[0m",
      "\u001b[1;31mNameError\u001b[0m                                 Traceback (most recent call last)",
      "\u001b[1;32m~\\AppData\\Local\\Temp/ipykernel_5844/1646755153.py\u001b[0m in \u001b[0;36m<module>\u001b[1;34m\u001b[0m\n\u001b[1;32m----> 1\u001b[1;33m \u001b[0mplot_prob\u001b[0m\u001b[1;33m(\u001b[0m\u001b[0mX\u001b[0m\u001b[1;33m,\u001b[0m \u001b[1;36m0\u001b[0m\u001b[1;33m,\u001b[0m \u001b[1;36m2\u001b[0m\u001b[1;33m)\u001b[0m\u001b[1;33m\u001b[0m\u001b[1;33m\u001b[0m\u001b[0m\n\u001b[0m",
      "\u001b[1;31mNameError\u001b[0m: name 'X' is not defined"
     ]
    }
   ],
   "source": [
    "plot_prob(X, 0, 2)"
   ]
  },
  {
   "cell_type": "markdown",
   "id": "e48575bb",
   "metadata": {
    "ExecuteTime": {
     "end_time": "2022-01-28T00:46:03.124292Z",
     "start_time": "2022-01-28T00:46:03.107306Z"
    }
   },
   "source": [
    "### # 문제\n",
    "---"
   ]
  },
  {
   "cell_type": "code",
   "execution_count": 75,
   "id": "b76504bc",
   "metadata": {
    "ExecuteTime": {
     "end_time": "2022-01-28T01:00:17.796238Z",
     "start_time": "2022-01-28T01:00:17.597769Z"
    }
   },
   "outputs": [
    {
     "data": {
      "text/plain": [
       "[<matplotlib.lines.Line2D at 0x22ef395bdc0>]"
      ]
     },
     "execution_count": 75,
     "metadata": {},
     "output_type": "execute_result"
    },
    {
     "data": {
      "image/png": "[encoded data removed]",
      "text/plain": [
       "<Figure size 720x504 with 2 Axes>"
      ]
     },
     "metadata": {},
     "output_type": "display_data"
    }
   ],
   "source": [
    "# 확률밀도함수와 누적분포함수를 하나의 그래프로 시각화하여 비교하세요\n",
    "\n",
    "rv = stats.norm(0, 1)\n",
    "\n",
    "x = np.linspace(-5, 5, 100)\n",
    "pdf = rv.pdf(x)\n",
    "cdf = rv.cdf(x)\n",
    "\n",
    "fig = plt.figure(figsize = (10, 7))\n",
    "ax1 = fig.add_subplot(111)\n",
    "ax1.plot(x, pdf)\n",
    "y = np.linspace(0, 0.4, 6)\n",
    "ax1.set_yticks(y)\n",
    "\n",
    "ax2 = ax1.twinx()\n",
    "ax2.plot(x, cdf)"
   ]
  },
  {
   "cell_type": "code",
   "execution_count": 89,
   "id": "d0efd48e",
   "metadata": {
    "ExecuteTime": {
     "end_time": "2022-01-28T01:05:44.961036Z",
     "start_time": "2022-01-28T01:05:44.807109Z"
    }
   },
   "outputs": [
    {
     "data": {
      "text/plain": [
       "0.5"
      ]
     },
     "execution_count": 89,
     "metadata": {},
     "output_type": "execute_result"
    },
    {
     "data": {
      "image/png": "[encoded data removed]",
      "text/plain": [
       "<Figure size 576x396 with 1 Axes>"
      ]
     },
     "metadata": {},
     "output_type": "display_data"
    }
   ],
   "source": [
    "# 0까지 누적분포\n",
    "\n",
    "rv = stats.norm(0, 1)\n",
    "x = np.linspace(-3, 3, 1000)\n",
    "a = x[x <= 0]\n",
    "\n",
    "plt.plot(a, rv.cdf(a))\n",
    "rv.cdf(0)"
   ]
  },
  {
   "cell_type": "code",
   "execution_count": 27,
   "id": "756e9cf8",
   "metadata": {
    "ExecuteTime": {
     "end_time": "2022-01-28T00:32:31.353706Z",
     "start_time": "2022-01-28T00:32:31.342704Z"
    }
   },
   "outputs": [
    {
     "data": {
      "text/plain": [
       "0.0"
      ]
     },
     "execution_count": 27,
     "metadata": {},
     "output_type": "execute_result"
    }
   ],
   "source": [
    "# 누적분포가 0.5인 x값\n",
    "\n",
    "rv = stats.norm(0, 1)\n",
    "rv.ppf(0.5)"
   ]
  },
  {
   "cell_type": "code",
   "execution_count": 32,
   "id": "82bfd3cb",
   "metadata": {
    "ExecuteTime": {
     "end_time": "2022-01-28T00:34:19.753356Z",
     "start_time": "2022-01-28T00:34:19.595748Z"
    }
   },
   "outputs": [
    {
     "data": {
      "text/plain": [
       "[<matplotlib.lines.Line2D at 0x22ef23ba4c0>]"
      ]
     },
     "execution_count": 32,
     "metadata": {},
     "output_type": "execute_result"
    },
    {
     "data": {
      "image/png": "[encoded data removed]",
      "text/plain": [
       "<Figure size 576x396 with 1 Axes>"
      ]
     },
     "metadata": {},
     "output_type": "display_data"
    }
   ],
   "source": [
    "# 0 ~ 1까지 누적확률분포\n",
    "\n",
    "rv = stats.norm(0, 1)\n",
    "x = np.linspace(0, 1, 1000)\n",
    "\n",
    "plt.plot(x, rv.cdf(x))"
   ]
  },
  {
   "cell_type": "code",
   "execution_count": 95,
   "id": "bb685b30",
   "metadata": {
    "ExecuteTime": {
     "end_time": "2022-01-28T01:09:23.434066Z",
     "start_time": "2022-01-28T01:09:23.411157Z"
    }
   },
   "outputs": [
    {
     "data": {
      "text/plain": [
       "0.9544997361036416"
      ]
     },
     "execution_count": 95,
     "metadata": {},
     "output_type": "execute_result"
    }
   ],
   "source": [
    "# (-2 < x < 2) 확률\n",
    "\n",
    "rv = stats.norm(0, 1)\n",
    "x = np.linspace(-5, 5, 100)\n",
    "rv.cdf(2) - rv.cdf(-2)"
   ]
  },
  {
   "cell_type": "code",
   "execution_count": 102,
   "id": "c49aa3ca",
   "metadata": {
    "ExecuteTime": {
     "end_time": "2022-01-28T01:23:00.498438Z",
     "start_time": "2022-01-28T01:23:00.483478Z"
    }
   },
   "outputs": [
    {
     "data": {
      "text/plain": [
       "(1.6448536269514729, -1.6448536269514722)"
      ]
     },
     "execution_count": 102,
     "metadata": {},
     "output_type": "execute_result"
    }
   ],
   "source": [
    "# 상위 5% 확률의 퍼센트 포인트\n",
    "# 하위 5% 확률의 퍼센트 포인트\n",
    "\n",
    "rv.isf(0.05), rv.isf(0.95) # 상위 5%, 하위 5%\n"
   ]
  },
  {
   "cell_type": "code",
   "execution_count": 103,
   "id": "28748aaa",
   "metadata": {
    "ExecuteTime": {
     "end_time": "2022-01-28T01:23:01.401054Z",
     "start_time": "2022-01-28T01:23:01.393103Z"
    }
   },
   "outputs": [
    {
     "data": {
      "text/plain": [
       "(1.6448536269514722, -1.6448536269514729)"
      ]
     },
     "execution_count": 103,
     "metadata": {},
     "output_type": "execute_result"
    }
   ],
   "source": [
    "rv.ppf(0.95), rv.ppf(0.05)"
   ]
  },
  {
   "cell_type": "code",
   "execution_count": 104,
   "id": "5a32b077",
   "metadata": {
    "ExecuteTime": {
     "end_time": "2022-01-28T01:23:51.272248Z",
     "start_time": "2022-01-28T01:23:51.254294Z"
    }
   },
   "outputs": [
    {
     "data": {
      "text/plain": [
       "(-1.6448536269514729, 1.6448536269514722)"
      ]
     },
     "execution_count": 104,
     "metadata": {},
     "output_type": "execute_result"
    }
   ],
   "source": [
    "# 하위 5% 상위 5% 확률의 퍼센트 포인트\n",
    "\n",
    "rv.interval(0.9)"
   ]
  },
  {
   "cell_type": "code",
   "execution_count": 110,
   "id": "dc6fe658",
   "metadata": {
    "ExecuteTime": {
     "end_time": "2022-01-28T01:25:03.273683Z",
     "start_time": "2022-01-28T01:25:03.251751Z"
    }
   },
   "outputs": [
    {
     "data": {
      "text/plain": [
       "0.2266273523768682"
      ]
     },
     "execution_count": 110,
     "metadata": {},
     "output_type": "execute_result"
    }
   ],
   "source": [
    "# 어느 회사에서 종업원들의 근무시간을 조사하였는데 종업원들의 근무기간은 평균이 11년이고 표준편차가 4년인 정규분포를 따른다고 한다. 이 회사에서 14년 이상 근무한 종업원의 비율을 구하시오\n",
    "\n",
    "stats.norm(11, 4).sf(14)"
   ]
  },
  {
   "cell_type": "code",
   "execution_count": 113,
   "id": "e709753d",
   "metadata": {
    "ExecuteTime": {
     "end_time": "2022-01-28T01:25:50.585339Z",
     "start_time": "2022-01-28T01:25:50.567357Z"
    }
   },
   "outputs": [
    {
     "data": {
      "text/plain": [
       "0.09121121972586788"
      ]
     },
     "execution_count": 113,
     "metadata": {},
     "output_type": "execute_result"
    }
   ],
   "source": [
    "# 어느 전구회사의 전구의 수명은 평균 800일, 표준편차 30일인 정규분포를 따른다. 전구의 수명이 760이하일 확률을 구하세요.\n",
    "\n",
    "stats.norm(800, 30).cdf(760)"
   ]
  },
  {
   "cell_type": "code",
   "execution_count": 120,
   "id": "24392d3d",
   "metadata": {
    "ExecuteTime": {
     "end_time": "2022-01-28T01:29:57.827080Z",
     "start_time": "2022-01-28T01:29:57.805143Z"
    }
   },
   "outputs": [
    {
     "data": {
      "text/plain": [
       "0.09944010834107919"
      ]
     },
     "execution_count": 120,
     "metadata": {},
     "output_type": "execute_result"
    }
   ],
   "source": [
    "# 어느 고등학교 3학년 학생들의 수학 성적은 평균이 70점이고 분산이 64점인 정규분포를 따른다고 한다. 점수가 80점 이상이고 90점 이하일 확률을 구하세요\n",
    "\n",
    "rv = stats.norm(70, np.sqrt(64))\n",
    "rv.cdf(90) - rv.cdf(80)"
   ]
  }
 ],
 "metadata": {
  "hide_input": false,
  "kernelspec": {
   "display_name": "Python 3 (ipykernel)",
   "language": "python",
   "name": "python3"
  },
  "language_info": {
   "codemirror_mode": {
    "name": "ipython",
    "version": 3
   },
   "file_extension": ".py",
   "mimetype": "text/x-python",
   "name": "python",
   "nbconvert_exporter": "python",
   "pygments_lexer": "ipython3",
   "version": "3.8.12"
  },
  "toc": {
   "base_numbering": 1,
   "nav_menu": {},
   "number_sections": false,
   "sideBar": true,
   "skip_h1_title": false,
   "title_cell": "Table of Contents",
   "title_sidebar": "Contents",
   "toc_cell": false,
   "toc_position": {
    "height": "827px",
    "left": "274px",
    "top": "88px",
    "width": "285px"
   },
   "toc_section_display": true,
   "toc_window_display": false
  },
  "varInspector": {
   "cols": {
    "lenName": "16",
    "lenType": "16",
    "lenVar": 40
   },
   "kernels_config": {
    "python": {
     "delete_cmd_postfix": "",
     "delete_cmd_prefix": "del ",
     "library": "var_list.py",
     "varRefreshCmd": "print(var_dic_list())"
    },
    "r": {
     "delete_cmd_postfix": ") ",
     "delete_cmd_prefix": "rm(",
     "library": "var_list.r",
     "varRefreshCmd": "cat(var_dic_list()) "
    }
   },
   "oldHeight": 201.844,
   "position": {
    "height": "226.844px",
    "left": "1256px",
    "right": "20px",
    "top": "78px",
    "width": "657px"
   },
   "types_to_exclude": [
    "module",
    "function",
    "builtin_function_or_method",
    "instance",
    "_Feature"
   ],
   "varInspector_section_display": "block",
   "window_display": true
  }
 },
 "nbformat": 4,
 "nbformat_minor": 5
}
