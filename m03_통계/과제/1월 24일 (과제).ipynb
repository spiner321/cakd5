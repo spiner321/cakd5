{
 "cells": [
  {
   "cell_type": "markdown",
   "id": "2c782edc",
   "metadata": {},
   "source": [
    "##### [과제] 1변량 데이터 data에 대하여 평균, 표본 분산, 불편 분산, 표준 편차, 최대, 최소, 4분위수, 중앙값을 구하세요\n",
    "##### 단, 함수사용하는 경우와 사용하지 않는 경우를 모두 수행하세요"
   ]
  },
  {
   "cell_type": "code",
   "execution_count": 39,
   "id": "bb6abe11",
   "metadata": {
    "ExecuteTime": {
     "end_time": "2022-01-25T00:30:01.314155Z",
     "start_time": "2022-01-25T00:30:01.298197Z"
    }
   },
   "outputs": [],
   "source": [
    "import pandas as pd\n",
    "import numpy as np"
   ]
  },
  {
   "cell_type": "code",
   "execution_count": 40,
   "id": "25a0e161",
   "metadata": {
    "ExecuteTime": {
     "end_time": "2022-01-25T00:30:01.596388Z",
     "start_time": "2022-01-25T00:30:01.579412Z"
    }
   },
   "outputs": [],
   "source": [
    "data = np.array([2,3,3,4,4,4,4,5,5,6])"
   ]
  },
  {
   "cell_type": "code",
   "execution_count": 41,
   "id": "60562985",
   "metadata": {
    "ExecuteTime": {
     "end_time": "2022-01-25T00:30:01.890752Z",
     "start_time": "2022-01-25T00:30:01.869807Z"
    }
   },
   "outputs": [
    {
     "name": "stdout",
     "output_type": "stream",
     "text": [
      "4.0\n",
      "4.0 \n",
      "\n"
     ]
    }
   ],
   "source": [
    "# 평균\n",
    "\n",
    "total = 0\n",
    "for i in range(len(data)):\n",
    "    total += data[i]\n",
    "print(total / len(data))\n",
    "\n",
    "print(data.mean(), '\\n')"
   ]
  },
  {
   "cell_type": "code",
   "execution_count": 42,
   "id": "bd64d912",
   "metadata": {
    "ExecuteTime": {
     "end_time": "2022-01-25T00:30:02.296970Z",
     "start_time": "2022-01-25T00:30:02.282023Z"
    }
   },
   "outputs": [
    {
     "name": "stdout",
     "output_type": "stream",
     "text": [
      "4.0 \n",
      "\n",
      "4.0\n"
     ]
    }
   ],
   "source": [
    "# 중앙값\n",
    "\n",
    "n = len(data)\n",
    "if n % 2 == 0:\n",
    "    m0 = data[n // 2 - 1]\n",
    "    m1 = data[n // 2]\n",
    "    median = (m0 + m1) / 2\n",
    "else:\n",
    "    median = data[n // 2]\n",
    "print(median, '\\n')\n",
    "\n",
    "print(np.median(data))"
   ]
  },
  {
   "cell_type": "code",
   "execution_count": 43,
   "id": "daf8d815",
   "metadata": {
    "ExecuteTime": {
     "end_time": "2022-01-25T00:30:02.763690Z",
     "start_time": "2022-01-25T00:30:02.746733Z"
    }
   },
   "outputs": [
    {
     "name": "stdout",
     "output_type": "stream",
     "text": [
      "6\n",
      "6 \n",
      "\n",
      "2\n",
      "2 \n",
      "\n"
     ]
    }
   ],
   "source": [
    "# 최대, 최소\n",
    "\n",
    "print(sorted(data)[-1])\n",
    "print(data.max(), '\\n')\n",
    "\n",
    "print(sorted(data)[0])\n",
    "print(data.min(), '\\n')"
   ]
  },
  {
   "cell_type": "code",
   "execution_count": 44,
   "id": "574d185e",
   "metadata": {
    "ExecuteTime": {
     "end_time": "2022-01-25T00:30:03.295899Z",
     "start_time": "2022-01-25T00:30:03.276949Z"
    }
   },
   "outputs": [
    {
     "name": "stdout",
     "output_type": "stream",
     "text": [
      "6.0\n",
      "6.0 12.0 \n",
      "\n"
     ]
    },
    {
     "data": {
      "text/plain": [
       "array([3.25, 4.75])"
      ]
     },
     "execution_count": 44,
     "metadata": {},
     "output_type": "execute_result"
    }
   ],
   "source": [
    "# 4분위수\n",
    "\n",
    "if n % 2 == 0:\n",
    "    data_Q1 = data[0:n // 2 - 1].sum() / 2\n",
    "    data_Q3 = data[n // 2:].sum() / 2\n",
    "    \n",
    "print(data_Q1)\n",
    "print(data_Q1, data_Q3, '\\n')\n",
    "\n",
    "np.percentile(data, [25, 75])"
   ]
  },
  {
   "cell_type": "code",
   "execution_count": 48,
   "id": "3aff63f0",
   "metadata": {
    "ExecuteTime": {
     "end_time": "2022-01-25T00:31:15.124667Z",
     "start_time": "2022-01-25T00:31:15.112666Z"
    }
   },
   "outputs": [
    {
     "name": "stdout",
     "output_type": "stream",
     "text": [
      "1.2 \n",
      "\n",
      "1.2\n"
     ]
    }
   ],
   "source": [
    "# 표본 분산\n",
    "\n",
    "deviation = data - np.mean(data) # 편차\n",
    "print(np.mean(deviation ** 2), '\\n')\n",
    "\n",
    "print(np.var(data, ddof = 0))"
   ]
  },
  {
   "cell_type": "code",
   "execution_count": 46,
   "id": "c2d1bcdd",
   "metadata": {
    "ExecuteTime": {
     "end_time": "2022-01-25T00:30:19.148663Z",
     "start_time": "2022-01-25T00:30:19.136676Z"
    }
   },
   "outputs": [
    {
     "name": "stdout",
     "output_type": "stream",
     "text": [
      "1.3333333333333333 \n",
      "\n",
      "1.3333333333333333\n"
     ]
    }
   ],
   "source": [
    "# 불편 분산\n",
    "\n",
    "deviation = data - np.mean(data)\n",
    "print(np.sum(deviation ** 2) / (len(deviation) - 1), '\\n')\n",
    "\n",
    "print(np.var(data, ddof = 1))"
   ]
  },
  {
   "cell_type": "code",
   "execution_count": 38,
   "id": "11eeb0c6",
   "metadata": {
    "ExecuteTime": {
     "end_time": "2022-01-25T00:29:55.786154Z",
     "start_time": "2022-01-25T00:29:55.763200Z"
    }
   },
   "outputs": [
    {
     "name": "stdout",
     "output_type": "stream",
     "text": [
      "33.04254832787568 \n",
      "\n",
      "33.04254832787568\n"
     ]
    }
   ],
   "source": [
    "# 표준 편차\n",
    "\n",
    "std_div = np.var(data) ** (1/2) # 분산의 제곱근\n",
    "print(std_div, '\\n')\n",
    "\n",
    "print(np.std(data))"
   ]
  },
  {
   "cell_type": "markdown",
   "id": "cc4ddf4b",
   "metadata": {},
   "source": [
    "##### [과제] 2행 10열 2차원 배열을 생성하고 두열간의 공분산 및 상관계수를 구하세요(단, numpy, pandas 두가지 방식으로 모두 수행)"
   ]
  },
  {
   "cell_type": "code",
   "execution_count": 25,
   "id": "fc8e3d7f",
   "metadata": {
    "ExecuteTime": {
     "end_time": "2022-01-25T00:09:48.873934Z",
     "start_time": "2022-01-25T00:09:48.860953Z"
    }
   },
   "outputs": [
    {
     "data": {
      "text/plain": [
       "array([[14, 14, 59, 73, 32, 43, 89, 85, 82, 75],\n",
       "       [16, 98, 30,  6, 99, 52,  9, 17,  2, 19]])"
      ]
     },
     "execution_count": 25,
     "metadata": {},
     "output_type": "execute_result"
    }
   ],
   "source": [
    "data = np.random.randint(100, size = (2, 10))\n",
    "data"
   ]
  },
  {
   "cell_type": "code",
   "execution_count": 26,
   "id": "61d6bed5",
   "metadata": {
    "ExecuteTime": {
     "end_time": "2022-01-25T00:09:49.534714Z",
     "start_time": "2022-01-25T00:09:49.516755Z"
    }
   },
   "outputs": [
    {
     "name": "stdout",
     "output_type": "stream",
     "text": [
      "[-42.6 -42.6   2.4  16.4 -24.6 -13.6  32.4  28.4  25.4  18.4]\n",
      "[-18.8  63.2  -4.8 -28.8  64.2  17.2 -25.8 -17.8 -32.8 -15.8] \n",
      "\n",
      "-739.3111111111111 \n",
      "\n",
      "-0.7799428435006216\n"
     ]
    }
   ],
   "source": [
    "# 공분산\n",
    "\n",
    "dev0 = data[0] - data[0].mean()\n",
    "dev1 = data[1] - data[1].mean()\n",
    "\n",
    "print(dev0)\n",
    "print(dev1, '\\n')\n",
    "\n",
    "cov = (dev0 * dev1).sum() / (len(dev0) - 1)\n",
    "cov.astype(float)\n",
    "print(cov, '\\n') # 공분산\n",
    "print(cov / (np.std(data[0]) * np.std(data[1]))) # 상관계수"
   ]
  },
  {
   "cell_type": "code",
   "execution_count": 27,
   "id": "86776ee2",
   "metadata": {
    "ExecuteTime": {
     "end_time": "2022-01-25T00:09:50.338150Z",
     "start_time": "2022-01-25T00:09:50.291266Z"
    }
   },
   "outputs": [
    {
     "name": "stdout",
     "output_type": "stream",
     "text": [
      "-739.3111111111111 \n",
      "\n",
      "-0.7019485591505594\n"
     ]
    }
   ],
   "source": [
    "cov_mat = np.cov(data[0], data[1])\n",
    "cov_mat\n",
    "corr = np.corrcoef(data[0], data[1])\n",
    "print(cov_mat[0, 1], '\\n') # 공분산\n",
    "print(corr[0, 1]) # 상관계수"
   ]
  },
  {
   "cell_type": "code",
   "execution_count": 30,
   "id": "86459f58",
   "metadata": {
    "ExecuteTime": {
     "end_time": "2022-01-25T00:10:24.244367Z",
     "start_time": "2022-01-25T00:10:24.214446Z"
    }
   },
   "outputs": [
    {
     "data": {
      "text/html": [
       "<div>\n",
       "<style scoped>\n",
       "    .dataframe tbody tr th:only-of-type {\n",
       "        vertical-align: middle;\n",
       "    }\n",
       "\n",
       "    .dataframe tbody tr th {\n",
       "        vertical-align: top;\n",
       "    }\n",
       "\n",
       "    .dataframe thead th {\n",
       "        text-align: right;\n",
       "    }\n",
       "</style>\n",
       "<table border=\"1\" class=\"dataframe\">\n",
       "  <thead>\n",
       "    <tr style=\"text-align: right;\">\n",
       "      <th></th>\n",
       "      <th>data0</th>\n",
       "      <th>data1</th>\n",
       "    </tr>\n",
       "  </thead>\n",
       "  <tbody>\n",
       "    <tr>\n",
       "      <th>data0</th>\n",
       "      <td>837.155556</td>\n",
       "      <td>-739.311111</td>\n",
       "    </tr>\n",
       "    <tr>\n",
       "      <th>data1</th>\n",
       "      <td>-739.311111</td>\n",
       "      <td>1325.066667</td>\n",
       "    </tr>\n",
       "  </tbody>\n",
       "</table>\n",
       "</div>"
      ],
      "text/plain": [
       "            data0        data1\n",
       "data0  837.155556  -739.311111\n",
       "data1 -739.311111  1325.066667"
      ]
     },
     "metadata": {},
     "output_type": "display_data"
    },
    {
     "data": {
      "text/html": [
       "<div>\n",
       "<style scoped>\n",
       "    .dataframe tbody tr th:only-of-type {\n",
       "        vertical-align: middle;\n",
       "    }\n",
       "\n",
       "    .dataframe tbody tr th {\n",
       "        vertical-align: top;\n",
       "    }\n",
       "\n",
       "    .dataframe thead th {\n",
       "        text-align: right;\n",
       "    }\n",
       "</style>\n",
       "<table border=\"1\" class=\"dataframe\">\n",
       "  <thead>\n",
       "    <tr style=\"text-align: right;\">\n",
       "      <th></th>\n",
       "      <th>data0</th>\n",
       "      <th>data1</th>\n",
       "    </tr>\n",
       "  </thead>\n",
       "  <tbody>\n",
       "    <tr>\n",
       "      <th>data0</th>\n",
       "      <td>1.000000</td>\n",
       "      <td>-0.701949</td>\n",
       "    </tr>\n",
       "    <tr>\n",
       "      <th>data1</th>\n",
       "      <td>-0.701949</td>\n",
       "      <td>1.000000</td>\n",
       "    </tr>\n",
       "  </tbody>\n",
       "</table>\n",
       "</div>"
      ],
      "text/plain": [
       "          data0     data1\n",
       "data0  1.000000 -0.701949\n",
       "data1 -0.701949  1.000000"
      ]
     },
     "metadata": {},
     "output_type": "display_data"
    }
   ],
   "source": [
    "data0 = pd.DataFrame(data[0])\n",
    "data1 = pd.DataFrame(data[1])\n",
    "\n",
    "df = pd.concat([data0, data1], axis = 1)\n",
    "df.columns = ['data0', 'data1']\n",
    "df\n",
    "\n",
    "display(df.cov())\n",
    "display(df.corr())"
   ]
  },
  {
   "cell_type": "code",
   "execution_count": null,
   "id": "14faaafd",
   "metadata": {},
   "outputs": [],
   "source": []
  }
 ],
 "metadata": {
  "hide_input": false,
  "kernelspec": {
   "display_name": "Python 3 (ipykernel)",
   "language": "python",
   "name": "python3"
  },
  "language_info": {
   "codemirror_mode": {
    "name": "ipython",
    "version": 3
   },
   "file_extension": ".py",
   "mimetype": "text/x-python",
   "name": "python",
   "nbconvert_exporter": "python",
   "pygments_lexer": "ipython3",
   "version": "3.8.12"
  },
  "toc": {
   "base_numbering": 1,
   "nav_menu": {},
   "number_sections": false,
   "sideBar": true,
   "skip_h1_title": false,
   "title_cell": "Table of Contents",
   "title_sidebar": "Contents",
   "toc_cell": false,
   "toc_position": {
    "height": "827px",
    "left": "598px",
    "top": "137px",
    "width": "384px"
   },
   "toc_section_display": true,
   "toc_window_display": false
  },
  "varInspector": {
   "cols": {
    "lenName": "16",
    "lenType": "16",
    "lenVar": 40
   },
   "kernels_config": {
    "python": {
     "delete_cmd_postfix": "",
     "delete_cmd_prefix": "del ",
     "library": "var_list.py",
     "varRefreshCmd": "print(var_dic_list())"
    },
    "r": {
     "delete_cmd_postfix": ") ",
     "delete_cmd_prefix": "rm(",
     "library": "var_list.r",
     "varRefreshCmd": "cat(var_dic_list()) "
    }
   },
   "types_to_exclude": [
    "module",
    "function",
    "builtin_function_or_method",
    "instance",
    "_Feature"
   ],
   "window_display": false
  }
 },
 "nbformat": 4,
 "nbformat_minor": 5
}
