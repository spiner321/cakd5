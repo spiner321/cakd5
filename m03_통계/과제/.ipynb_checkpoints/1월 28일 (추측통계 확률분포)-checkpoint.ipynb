{
 "cells": [
  {
   "cell_type": "markdown",
   "id": "7e306030",
   "metadata": {
    "ExecuteTime": {
     "end_time": "2022-01-27T07:41:01.264744Z",
     "start_time": "2022-01-27T07:41:01.254770Z"
    }
   },
   "source": [
    "### # 대표적인 연속형 확률분포\n",
    "---"
   ]
  },
  {
   "cell_type": "code",
   "execution_count": 3,
   "id": "0b31f462",
   "metadata": {
    "ExecuteTime": {
     "end_time": "2022-01-27T07:41:33.814601Z",
     "start_time": "2022-01-27T07:41:33.786520Z"
    }
   },
   "outputs": [],
   "source": [
    "import numpy as np\n",
    "import matplotlib.pyplot as plt\n",
    "import scipy as sp\n",
    "from scipy import stats, integrate\n",
    "from scipy.optimize import minimize_scalar\n",
    "\n",
    "linestyles = ['-', '--', ':']\n",
    "\n",
    "# 평균\n",
    "def E(X, g = lambda x: x):\n",
    "    x_range, f = X\n",
    "    def integrand(x):\n",
    "        return g(x) * f(x)\n",
    "    return integrate.quad(integrand, -np.inf, np.inf)[0]\n",
    "\n",
    "# 분산\n",
    "def V(X, g = lambda x: x):\n",
    "    x_range, f = X\n",
    "    mean = E(X, g)\n",
    "    def integrand(x):\n",
    "        return (g(x) - mean)**2 * f(x)\n",
    "    return integrate.quad(integrand, -np.inf, np.inf)[0]\n",
    "\n",
    "# 확률분포를 인수로 가지면 기대값과 분산계산 결과를 반환\n",
    "def check_prob(X):\n",
    "    x_range, f = X\n",
    "    f_min = minimize_scalar(f).fun\n",
    "    assert f_min >= 0, 'density function is minus value'\n",
    "    prob_sum = np.round(integrate.quad(f,-np.inf,np.inf)[0],6)\n",
    "    assert prob_sum == 1, f'sum of probability is {prob_sum}'\n",
    "    print(f'expected value {E(X):.3f}')\n",
    "    print(f'variance{V(X):.3f}')\n",
    "    \n",
    "# 확률분포를 인수로 가지면 기대값과 분산계산 결과를 그래프로 반환    \n",
    "def plot_prob(X, x_min, x_max): \n",
    "    x_range, f = X\n",
    "    def F(x):\n",
    "        return integrate.quad(f, -np.inf, x)[0]\n",
    "    \n",
    "    xs = np.linspace(x_min, x_max, 100)\n",
    "    \n",
    "    fig = plt.figure(figsize = (10, 6))\n",
    "    ax = fig.add_subplot(111)\n",
    "    ax.plot(xs, [f(x) for x in xs], label = 'f(x)', color = 'crimson')\n",
    "    ax.plot(xs, [F(x) for x in xs], label = 'F(x)', ls = '--', color = 'red')\n",
    "    ax.legend()"
   ]
  },
  {
   "cell_type": "markdown",
   "id": "882580cc",
   "metadata": {},
   "source": [
    "#### # 카이제곱분포\n",
    "---\n",
    "- Z_1, Z_2, ..., Z_n이 서로 독립이고 N(0, 1)을 따르고 있을때 그 제곱합의 확률분포를 자유도가 n인 카이제곱분포라고 한다.\n",
    "- 카이제곱분포는 분산의 구간 추정이나 독립성 검정에서 사용하는 확률분포이다."
   ]
  },
  {
   "cell_type": "code",
   "execution_count": null,
   "id": "ee364ba9",
   "metadata": {},
   "outputs": [],
   "source": []
  }
 ],
 "metadata": {
  "hide_input": false,
  "kernelspec": {
   "display_name": "Python 3 (ipykernel)",
   "language": "python",
   "name": "python3"
  },
  "language_info": {
   "codemirror_mode": {
    "name": "ipython",
    "version": 3
   },
   "file_extension": ".py",
   "mimetype": "text/x-python",
   "name": "python",
   "nbconvert_exporter": "python",
   "pygments_lexer": "ipython3",
   "version": "3.8.12"
  },
  "toc": {
   "base_numbering": 1,
   "nav_menu": {},
   "number_sections": false,
   "sideBar": true,
   "skip_h1_title": false,
   "title_cell": "Table of Contents",
   "title_sidebar": "Contents",
   "toc_cell": false,
   "toc_position": {},
   "toc_section_display": true,
   "toc_window_display": false
  },
  "varInspector": {
   "cols": {
    "lenName": "16",
    "lenType": "16",
    "lenVar": 40
   },
   "kernels_config": {
    "python": {
     "delete_cmd_postfix": "",
     "delete_cmd_prefix": "del ",
     "library": "var_list.py",
     "varRefreshCmd": "print(var_dic_list())"
    },
    "r": {
     "delete_cmd_postfix": ") ",
     "delete_cmd_prefix": "rm(",
     "library": "var_list.r",
     "varRefreshCmd": "cat(var_dic_list()) "
    }
   },
   "types_to_exclude": [
    "module",
    "function",
    "builtin_function_or_method",
    "instance",
    "_Feature"
   ],
   "window_display": false
  }
 },
 "nbformat": 4,
 "nbformat_minor": 5
}
