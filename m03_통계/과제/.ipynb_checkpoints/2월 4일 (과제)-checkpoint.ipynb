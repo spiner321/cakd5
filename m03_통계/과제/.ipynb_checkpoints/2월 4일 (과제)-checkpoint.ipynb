{
 "cells": [
  {
   "cell_type": "code",
   "execution_count": 5,
   "id": "0b0e68cf",
   "metadata": {
    "ExecuteTime": {
     "end_time": "2022-02-07T00:43:17.190831Z",
     "start_time": "2022-02-07T00:43:16.492314Z"
    }
   },
   "outputs": [],
   "source": [
    "import pandas as pd\n",
    "from scipy import stats"
   ]
  },
  {
   "cell_type": "markdown",
   "id": "abccb44a",
   "metadata": {},
   "source": [
    "##### [과제] A학생의 사례로 가설검정의 프로세스를 정리하세요.\n",
    "---"
   ]
  },
  {
   "cell_type": "code",
   "execution_count": 9,
   "id": "a339b77f",
   "metadata": {
    "ExecuteTime": {
     "end_time": "2022-02-07T00:54:13.344437Z",
     "start_time": "2022-02-07T00:54:13.323385Z"
    }
   },
   "outputs": [
    {
     "name": "stdout",
     "output_type": "stream",
     "text": [
      "128.68118313069039 \n",
      "\n",
      "-1.932298779026813 \n",
      "\n",
      "-1.6448536269514722 \n",
      "\n",
      "0.026661319523126635\n"
     ]
    }
   ],
   "source": [
    "# 귀무가설 : 감자튀김의 평균무게는 130g이다.\n",
    "# 대립가설 : 감자튀김의 평균무게는 130g보다 작다.\n",
    "# 유의 수준은 5%로 설정\n",
    "df = pd.read_csv('D:\\python\\cakd5\\m3_통계\\data\\ch11_potato.csv')\n",
    "sample = np.array(df.무게)\n",
    "\n",
    "s_mean = sample.mean()\n",
    "# 검정통계량 : A가 산 감자튀김 14개의 평균 무게 = 128.451g\n",
    "rv = stats.norm(130, np.sqrt(9/14))\n",
    "print(rv.isf(0.95),'\\n')\n",
    "# 임계값 : 128.681g\n",
    "# 검정통계량이 임계값보다 작기때문에 귀무가설은 기각된다.\n",
    "# 가설검정은 보통 아래의 두 방식을 사용.\n",
    "\n",
    "# 표준화 하여 검정통계량과 임계값의 비교\n",
    "# 표준화 된 검정 통계량 값\n",
    "z = (s_mean-130)/np.sqrt(9/14)\n",
    "print(z,'\\n')\n",
    "\n",
    "# 임계값 : 퍼센트 포인트\n",
    "rv = stats.norm()\n",
    "print(rv.isf(0.95) , '\\n')\n",
    "# 검정통계량이 임계값보다 작으므로 귀무가설은 기각\n",
    "\n",
    "# p값을 활용하여 가설검정\n",
    "print(rv.cdf(z))\n",
    "# 유의수준인 0.05보다 작으므로 귀무가설 기각\n",
    "\n",
    "# 따라서 모평균은 130g보다 작다.\n"
   ]
  }
 ],
 "metadata": {
  "hide_input": false,
  "kernelspec": {
   "display_name": "Python 3 (ipykernel)",
   "language": "python",
   "name": "python3"
  },
  "language_info": {
   "codemirror_mode": {
    "name": "ipython",
    "version": 3
   },
   "file_extension": ".py",
   "mimetype": "text/x-python",
   "name": "python",
   "nbconvert_exporter": "python",
   "pygments_lexer": "ipython3",
   "version": "3.8.12"
  },
  "toc": {
   "base_numbering": 1,
   "nav_menu": {},
   "number_sections": false,
   "sideBar": true,
   "skip_h1_title": false,
   "title_cell": "Table of Contents",
   "title_sidebar": "Contents",
   "toc_cell": false,
   "toc_position": {},
   "toc_section_display": true,
   "toc_window_display": false
  },
  "varInspector": {
   "cols": {
    "lenName": 16,
    "lenType": 16,
    "lenVar": 40
   },
   "kernels_config": {
    "python": {
     "delete_cmd_postfix": "",
     "delete_cmd_prefix": "del ",
     "library": "var_list.py",
     "varRefreshCmd": "print(var_dic_list())"
    },
    "r": {
     "delete_cmd_postfix": ") ",
     "delete_cmd_prefix": "rm(",
     "library": "var_list.r",
     "varRefreshCmd": "cat(var_dic_list()) "
    }
   },
   "types_to_exclude": [
    "module",
    "function",
    "builtin_function_or_method",
    "instance",
    "_Feature"
   ],
   "window_display": false
  }
 },
 "nbformat": 4,
 "nbformat_minor": 5
}
