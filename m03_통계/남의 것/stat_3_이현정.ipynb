{
 "cells": [
  {
   "cell_type": "markdown",
   "id": "97c550a8",
   "metadata": {},
   "source": [
    "#### 이산형 확률분포 \n"
   ]
  },
  {
   "cell_type": "code",
   "execution_count": 44,
   "id": "1b9d576c",
   "metadata": {},
   "outputs": [],
   "source": [
    "# 1차원 이산확률분포 \n",
    "import numpy as np\n",
    "import pandas as pd\n",
    "import matplotlib.pyplot as plt\n",
    "import seaborn as sns\n",
    "\n",
    "x_set = np.array([1,2,3,4,5,6])\n",
    "#불공정한 주사위 \n",
    "def f(x): \n",
    "    if x in x_set:\n",
    "        return x/ 21\n",
    "    else:\n",
    "        return 0\n",
    "    \n",
    "X=[x_set,f]\n"
   ]
  },
  {
   "cell_type": "code",
   "execution_count": 46,
   "id": "44c34f17",
   "metadata": {},
   "outputs": [
    {
     "name": "stdout",
     "output_type": "stream",
     "text": [
      "[0.04761905 0.0952381  0.14285714 0.19047619 0.23809524 0.28571429] \n",
      "\n"
     ]
    },
    {
     "data": {
      "text/plain": [
       "{1: 0.047619047619047616,\n",
       " 2: 0.09523809523809523,\n",
       " 3: 0.14285714285714285,\n",
       " 4: 0.19047619047619047,\n",
       " 5: 0.23809523809523808,\n",
       " 6: 0.2857142857142857}"
      ]
     },
     "execution_count": 46,
     "metadata": {},
     "output_type": "execute_result"
    }
   ],
   "source": [
    "prob = np.array([f(x_k) for x_k in x_set])\n",
    "print(prob,'\\n')\n",
    "#x_k와 p_k 대응을 사전식으로 표시\n",
    "dict(zip(x_set,prob))\n",
    "#x_set 확률변수에 대응되는 거 확률이잖아\n"
   ]
  },
  {
   "cell_type": "code",
   "execution_count": 47,
   "id": "b4dfc008",
   "metadata": {},
   "outputs": [
    {
     "data": {
      "text/plain": [
       "Text(0, 0.5, 'prob')"
      ]
     },
     "execution_count": 47,
     "metadata": {},
     "output_type": "execute_result"
    },
    {
     "data": {
      "image/png": "[encoded data removed]",
      "text/plain": [
       "<Figure size 432x216 with 1 Axes>"
      ]
     },
     "metadata": {
      "needs_background": "light"
     },
     "output_type": "display_data"
    }
   ],
   "source": [
    "fig=plt.figure(figsize=(6,3))\n",
    "ax = fig.add_subplot(111)\n",
    "plt.bar(x_set,prob,color='cornflowerblue')\n",
    "ax.set_xlabel('x',fontsize=20)\n",
    "ax.set_ylabel('prob',fontsize=20)"
   ]
  },
  {
   "cell_type": "code",
   "execution_count": 48,
   "id": "e5cac1f4",
   "metadata": {},
   "outputs": [
    {
     "name": "stderr",
     "output_type": "stream",
     "text": [
      "C:\\Users\\admin\\Anaconda3\\envs\\cakd5\\lib\\site-packages\\seaborn\\_decorators.py:43: FutureWarning: Pass the following variables as keyword args: x, y. From version 0.12, the only valid positional argument will be `data`, and passing other arguments without an explicit keyword will result in an error or misinterpretation.\n",
      "  FutureWarning\n"
     ]
    },
    {
     "data": {
      "text/plain": [
       "Text(0.5, 1.0, 'Bar Graph')"
      ]
     },
     "execution_count": 48,
     "metadata": {},
     "output_type": "execute_result"
    },
    {
     "data": {
      "image/png": "[encoded data removed]",
      "text/plain": [
       "<Figure size 432x288 with 1 Axes>"
      ]
     },
     "metadata": {
      "needs_background": "light"
     },
     "output_type": "display_data"
    }
   ],
   "source": [
    "import seaborn as sns\n",
    "sns.barplot(x_set,prob,color='pink')\n",
    "plt.title('Bar Graph',fontsize=30)\n"
   ]
  },
  {
   "cell_type": "code",
   "execution_count": 5,
   "id": "b72e7c8f",
   "metadata": {},
   "outputs": [
    {
     "data": {
      "text/plain": [
       "True"
      ]
     },
     "execution_count": 5,
     "metadata": {},
     "output_type": "execute_result"
    }
   ],
   "source": [
    "np.all(prob>=0)\n"
   ]
  },
  {
   "cell_type": "code",
   "execution_count": 6,
   "id": "c1860c5a",
   "metadata": {},
   "outputs": [
    {
     "data": {
      "text/plain": [
       "0.9999999999999999"
      ]
     },
     "execution_count": 6,
     "metadata": {},
     "output_type": "execute_result"
    }
   ],
   "source": [
    "np.sum(prob)"
   ]
  },
  {
   "cell_type": "code",
   "execution_count": 7,
   "id": "7d91586e",
   "metadata": {},
   "outputs": [
    {
     "data": {
      "text/plain": [
       "0.2857142857142857"
      ]
     },
     "execution_count": 7,
     "metadata": {},
     "output_type": "execute_result"
    }
   ],
   "source": [
    "#누적분포함수 \n",
    "def F(x):\n",
    "    return np.sum([f(x_k) for x_k in x_set if x_k<=x])\n",
    "F(3)"
   ]
  },
  {
   "cell_type": "code",
   "execution_count": 8,
   "id": "5ad58e14",
   "metadata": {},
   "outputs": [
    {
     "data": {
      "text/plain": [
       "{5: 0.047619047619047616,\n",
       " 7: 0.09523809523809523,\n",
       " 9: 0.14285714285714285,\n",
       " 11: 0.19047619047619047,\n",
       " 13: 0.23809523809523808,\n",
       " 15: 0.2857142857142857}"
      ]
     },
     "execution_count": 8,
     "metadata": {},
     "output_type": "execute_result"
    }
   ],
   "source": [
    "# 확률변수의 변환: 확률변수 X에 2를 곱하고 3을 더한 2X+3도 확률\n",
    "#변수가 된다\n",
    "y_set = np.array([2* x_k +3 for x_k in x_set])\n",
    "prob = np.array([f(x_k) for x_k in x_set])\n",
    "dict(zip(y_set,prob))"
   ]
  },
  {
   "cell_type": "code",
   "execution_count": 9,
   "id": "e5a6269b",
   "metadata": {},
   "outputs": [
    {
     "data": {
      "text/plain": [
       "4.333333333333333"
      ]
     },
     "execution_count": 9,
     "metadata": {},
     "output_type": "execute_result"
    }
   ],
   "source": [
    "#1차원 이산형 확률변수의 지표\n",
    "#평균: 확률변수의 평균은 확률변수의 중심을 나타내는 지표가 되며 기댓값이라고 \n",
    "#부른다\n",
    "np.sum([x_k*f(x_k) for x_k in x_set])"
   ]
  },
  {
   "cell_type": "code",
   "execution_count": 10,
   "id": "bcd05a83",
   "metadata": {},
   "outputs": [
    {
     "data": {
      "text/plain": [
       "4.332879"
      ]
     },
     "execution_count": 10,
     "metadata": {},
     "output_type": "execute_result"
    }
   ],
   "source": [
    "#확률변수의 기댓값은 확률변수를 무제한 시행하여 얻은 실현값의 평균\n",
    "sample =np.random.choice(x_set,int(1e6),p=prob)\n",
    "np.mean(sample)"
   ]
  },
  {
   "cell_type": "code",
   "execution_count": 11,
   "id": "b13e1c98",
   "metadata": {},
   "outputs": [
    {
     "data": {
      "text/plain": [
       "4.333333333333333"
      ]
     },
     "execution_count": 11,
     "metadata": {},
     "output_type": "execute_result"
    }
   ],
   "source": [
    "#일반화\n",
    "def E(X,g=lambda x:x):\n",
    "    x_set,f = X\n",
    "    return np.sum([g(x_k)*f(x_k) for x_k in x_set])\n",
    "E(X)"
   ]
  },
  {
   "cell_type": "code",
   "execution_count": 25,
   "id": "48888e67",
   "metadata": {},
   "outputs": [
    {
     "ename": "SyntaxError",
     "evalue": "invalid syntax (Temp/ipykernel_4924/2417571912.py, line 1)",
     "output_type": "error",
     "traceback": [
      "\u001b[1;36m  File \u001b[1;32m\"C:\\Users\\admin\\AppData\\Local\\Temp/ipykernel_4924/2417571912.py\"\u001b[1;36m, line \u001b[1;32m1\u001b[0m\n\u001b[1;33m    def E(x,g=lambda x:x)\u001b[0m\n\u001b[1;37m                         ^\u001b[0m\n\u001b[1;31mSyntaxError\u001b[0m\u001b[1;31m:\u001b[0m invalid syntax\n"
     ]
    }
   ],
   "source": [
    "def E(x,g=lambda x:x)\n",
    "    x_set,f =X\n",
    "    return np.sum([g(x_k)*f(x_k) for x_k in x_set])\n",
    "E(X)"
   ]
  },
  {
   "cell_type": "code",
   "execution_count": 26,
   "id": "5fdf1f0e",
   "metadata": {},
   "outputs": [
    {
     "data": {
      "text/plain": [
       "8.999999996397552"
      ]
     },
     "execution_count": 26,
     "metadata": {},
     "output_type": "execute_result"
    }
   ],
   "source": [
    "E(X, g=lambda x: 2*x+3)"
   ]
  },
  {
   "cell_type": "code",
   "execution_count": null,
   "id": "ebfb7f0d",
   "metadata": {},
   "outputs": [],
   "source": [
    "#기댓값의 선형성\n",
    "2*E(X)+3"
   ]
  },
  {
   "cell_type": "code",
   "execution_count": 27,
   "id": "75a1b577",
   "metadata": {},
   "outputs": [
    {
     "data": {
      "text/plain": [
       "1094.761905065273"
      ]
     },
     "execution_count": 27,
     "metadata": {},
     "output_type": "execute_result"
    }
   ],
   "source": [
    "#분산\n",
    "mean=E(X)\n",
    "np.sum([(x_k-mean)**2 * f(x_k) for x_k in x_set])"
   ]
  },
  {
   "cell_type": "code",
   "execution_count": 29,
   "id": "fc5629a3",
   "metadata": {},
   "outputs": [
    {
     "data": {
      "text/plain": [
       "181.00000001080736"
      ]
     },
     "execution_count": 29,
     "metadata": {},
     "output_type": "execute_result"
    }
   ],
   "source": [
    "#일반화\n",
    "def V(X,g=lambda x: x):\n",
    "    x_set, f= X\n",
    "    mean=E(X,g)\n",
    "    return np.sum([g(x_k)-mean**2 * f(x_k) for x_k in x_set])\n",
    "V(X)"
   ]
  },
  {
   "cell_type": "code",
   "execution_count": 31,
   "id": "ab43b510",
   "metadata": {},
   "outputs": [
    {
     "data": {
      "text/plain": [
       "359.0000000715788"
      ]
     },
     "execution_count": 31,
     "metadata": {},
     "output_type": "execute_result"
    }
   ],
   "source": [
    "V(X,lambda x:2*x+3)"
   ]
  },
  {
   "cell_type": "code",
   "execution_count": 33,
   "id": "a1173fc6",
   "metadata": {},
   "outputs": [
    {
     "data": {
      "text/plain": [
       "724.0000000432294"
      ]
     },
     "execution_count": 33,
     "metadata": {},
     "output_type": "execute_result"
    }
   ],
   "source": [
    "#분산의 공식\n",
    "2**2*V(X)"
   ]
  },
  {
   "cell_type": "code",
   "execution_count": 36,
   "id": "0a62c068",
   "metadata": {},
   "outputs": [],
   "source": [
    "#2차원 이산형 확률분포\n",
    "x_set = np.arange(2,13)\n",
    "y_set = np.arange(1,7)"
   ]
  },
  {
   "cell_type": "code",
   "execution_count": 38,
   "id": "fe95d4fb",
   "metadata": {},
   "outputs": [],
   "source": [
    "#확률변수 X,Y를 동시에 고려한 분포 결합: 결합확률분포\n",
    "def f_XY(x,y):\n",
    "    if 1<=y<=6 and 1<=x-y<=6:\n",
    "        return y*(x-y)/441\n",
    "    else:\n",
    "        return 0\n"
   ]
  },
  {
   "cell_type": "code",
   "execution_count": 40,
   "id": "e770a3b9",
   "metadata": {},
   "outputs": [],
   "source": [
    "XY = [x_set,y_set,f_XY]"
   ]
  },
  {
   "cell_type": "code",
   "execution_count": 42,
   "id": "82536254",
   "metadata": {},
   "outputs": [
    {
     "data": {
      "image/png": "[encoded data removed]",
      "text/plain": [
       "<Figure size 720x576 with 2 Axes>"
      ]
     },
     "metadata": {
      "needs_background": "light"
     },
     "output_type": "display_data"
    }
   ],
   "source": [
    "prob=np.array([[f_XY(x_i,y_j) for y_j in y_set]\n",
    "              for x_i in x_set])\n",
    "fig = plt.figure(figsize=(10,8))\n",
    "ax = fig.add_subplot(111)\n",
    "c = ax.pcolor(prob)\n",
    "ax.set_xticks(np.arange(prob.shape[1])+0.5,minor=False)\n",
    "ax.set_yticks(np.arange(prob.shape[0])+0.5,minor=False)\n",
    "ax.set_xticklabels(np.arange(1,7),minor=False)\n",
    "ax.set_yticklabels(np.arange(2,13),minor=False)\n",
    "#Y축을 내림차순의 숫자가 되게 하여 위아래를 역전시킨다.\n",
    "ax.invert_yaxis()#원래대로하면 12,11~2까지 있었음\n",
    "#x축 눈금을 그래프 위쪽에 표시\n",
    "ax.xaxis.tick_top()  \n",
    "fig.colorbar(c,ax=ax)\n",
    "plt.show()"
   ]
  },
  {
   "cell_type": "code",
   "execution_count": 43,
   "id": "30cf9315",
   "metadata": {},
   "outputs": [
    {
     "ename": "TypeError",
     "evalue": "arange() got an unexpected keyword argument 'minor'",
     "output_type": "error",
     "traceback": [
      "\u001b[1;31m---------------------------------------------------------------------------\u001b[0m",
      "\u001b[1;31mTypeError\u001b[0m                                 Traceback (most recent call last)",
      "\u001b[1;32m~\\AppData\\Local\\Temp/ipykernel_4924/3167999514.py\u001b[0m in \u001b[0;36m<module>\u001b[1;34m\u001b[0m\n\u001b[1;32m----> 1\u001b[1;33m \u001b[0max\u001b[0m\u001b[1;33m.\u001b[0m\u001b[0mset_xticks\u001b[0m\u001b[1;33m(\u001b[0m\u001b[0mnp\u001b[0m\u001b[1;33m.\u001b[0m\u001b[0marange\u001b[0m\u001b[1;33m(\u001b[0m\u001b[0mprob\u001b[0m\u001b[1;33m.\u001b[0m\u001b[0mshape\u001b[0m\u001b[1;33m[\u001b[0m\u001b[1;36m1\u001b[0m\u001b[1;33m]\u001b[0m\u001b[1;33m+\u001b[0m\u001b[1;36m0.5\u001b[0m\u001b[1;33m,\u001b[0m\u001b[0mminor\u001b[0m\u001b[1;33m=\u001b[0m\u001b[1;32mFalse\u001b[0m\u001b[1;33m)\u001b[0m\u001b[1;33m)\u001b[0m\u001b[1;33m\u001b[0m\u001b[1;33m\u001b[0m\u001b[0m\n\u001b[0m\u001b[0;32m      2\u001b[0m \u001b[0mc\u001b[0m\u001b[1;33m-\u001b[0m\u001b[0max\u001b[0m\u001b[1;33m.\u001b[0m\u001b[0mpcolor\u001b[0m\u001b[1;33m\u001b[0m\u001b[1;33m\u001b[0m\u001b[0m\n",
      "\u001b[1;31mTypeError\u001b[0m: arange() got an unexpected keyword argument 'minor'"
     ]
    }
   ],
   "source": [
    "ax.set_xticks(np.arange(prob.shape[1]+0.5,minor=False))\n",
    "c-ax.pcolor"
   ]
  },
  {
   "cell_type": "code",
   "execution_count": null,
   "id": "2170634e",
   "metadata": {},
   "outputs": [],
   "source": [
    "np.all(prob>=0)"
   ]
  },
  {
   "cell_type": "code",
   "execution_count": null,
   "id": "6210afad",
   "metadata": {},
   "outputs": [],
   "source": [
    "np.sum(prob)"
   ]
  },
  {
   "cell_type": "code",
   "execution_count": null,
   "id": "6ebb574a",
   "metadata": {},
   "outputs": [],
   "source": [
    "#주변확률분포 : 확률변수(X,Y)는 결합확률분포에 의해 동시에 정의되지만\n",
    "#개별 확률변수에만 흥미가 있을 수 있다.\n",
    "#확률변수 X만의 움직임. 즉 확률변수 X의 확률함수를 알고 싶은 상황\n"
   ]
  },
  {
   "cell_type": "code",
   "execution_count": null,
   "id": "47981d90",
   "metadata": {},
   "outputs": [],
   "source": [
    "def f_X(x):\n",
    "    return np.sum([f_XY(x,y_k) for y_k in y_set])"
   ]
  },
  {
   "cell_type": "code",
   "execution_count": null,
   "id": "27035808",
   "metadata": {},
   "outputs": [],
   "source": [
    "def f_Y(y):\n",
    "    return np.sum([f_XY(x_k,y) for x_k in x_set])"
   ]
  },
  {
   "cell_type": "code",
   "execution_count": null,
   "id": "d019b242",
   "metadata": {},
   "outputs": [],
   "source": [
    "X = [x_set,f_X]\n",
    "Y = [y_set,f_Y]"
   ]
  },
  {
   "cell_type": "code",
   "execution_count": null,
   "id": "efd517fe",
   "metadata": {},
   "outputs": [],
   "source": [
    "X"
   ]
  },
  {
   "cell_type": "code",
   "execution_count": null,
   "id": "e02c08fd",
   "metadata": {},
   "outputs": [],
   "source": [
    "Y"
   ]
  },
  {
   "cell_type": "code",
   "execution_count": null,
   "id": "f6d228fb",
   "metadata": {},
   "outputs": [],
   "source": [
    "prob_x = np.array([f_X(x_k) for x_k in x_set])\n",
    "prob_y = np.array([f_Y(y_k) for y_k in y_set])\n",
    "\n",
    "fig = plt.figure(figsize=(8,4))\n",
    "ax1 = fig.add_subplot(121)\n",
    "ax2 = fig.add_subplot(122)\n",
    "\n",
    "ax1.bar(x_set,prob_x)\n",
    "ax1.set_title('X_marginal probability distribution')\n",
    "ax1.set_xlabel('X lable')\n",
    "ax1.set_ylabel('probability')\n",
    "ax1.set_xticks(x_set)\n",
    "\n",
    "ax2.bar(y_set,prob_y)\n",
    "ax2.set_title('Y_marginal probability distribution')\n",
    "ax2.set_xlabel('Y_value')\n",
    "ax2.set_ylabel('probability')\n",
    "\n",
    "plt.show()"
   ]
  },
  {
   "cell_type": "code",
   "execution_count": null,
   "id": "2548dbd6",
   "metadata": {},
   "outputs": [],
   "source": [
    "#2차원 이산형 확률분포의 자료\n",
    "#기댓값\n",
    "np.sum([x_i*f_XY(x_i,y_j) for x_i in x_set for y_j in y_set])"
   ]
  },
  {
   "cell_type": "code",
   "execution_count": 49,
   "id": "905ded04",
   "metadata": {},
   "outputs": [
    {
     "data": {
      "text/plain": [
       "0.8253968253968254"
      ]
     },
     "execution_count": 49,
     "metadata": {},
     "output_type": "execute_result"
    }
   ],
   "source": [
    "sum=0\n",
    "for y_j in y_set:\n",
    "    for x_i in x_set:\n",
    "        sum+=x_i*f_XY(x_i,y_j)\n",
    "sum"
   ]
  },
  {
   "cell_type": "code",
   "execution_count": 50,
   "id": "253da68d",
   "metadata": {},
   "outputs": [],
   "source": [
    "#다중for문\n",
    "def E(XY,g):\n",
    "    x_set,y_set,f_XY=XY\n",
    "    return np.sum([g(x_i,y_j)*f_XY(x_i,y_j)\n",
    "                for x_i in x_set for y_j in y_set])\n",
    "                "
   ]
  },
  {
   "cell_type": "code",
   "execution_count": 51,
   "id": "d521df15",
   "metadata": {},
   "outputs": [
    {
     "data": {
      "text/plain": [
       "8.666666666666666"
      ]
     },
     "execution_count": 51,
     "metadata": {},
     "output_type": "execute_result"
    }
   ],
   "source": [
    "def E(XY,g):\n",
    "    x_set,y_set,f_XY=XY\n",
    "    return np.sum([g(x_i,y_j)*f_XY(x_i,y_j)\n",
    "                  for x_i in x_set for y_j in y_set])\n",
    "mean_x = E(XY,lambda x,y:x)\n",
    "mean_x"
   ]
  },
  {
   "cell_type": "code",
   "execution_count": 52,
   "id": "b57b6327",
   "metadata": {},
   "outputs": [
    {
     "data": {
      "text/plain": [
       "4.333333333333333"
      ]
     },
     "execution_count": 52,
     "metadata": {},
     "output_type": "execute_result"
    }
   ],
   "source": [
    "mean_y = E(XY,lambda x,y:y)\n",
    "mean_y"
   ]
  },
  {
   "cell_type": "code",
   "execution_count": 54,
   "id": "4ae3c8d4",
   "metadata": {},
   "outputs": [
    {
     "data": {
      "text/plain": [
       "30.333333333333332"
      ]
     },
     "execution_count": 54,
     "metadata": {},
     "output_type": "execute_result"
    }
   ],
   "source": [
    "# 기댓값의 선형성\n",
    "a,b=2,3\n",
    "E(XY,lambda x, y: a*x+b*y)"
   ]
  },
  {
   "cell_type": "code",
   "execution_count": 57,
   "id": "04005515",
   "metadata": {},
   "outputs": [
    {
     "data": {
      "text/plain": [
       "30.333333333333332"
      ]
     },
     "execution_count": 57,
     "metadata": {},
     "output_type": "execute_result"
    }
   ],
   "source": [
    "a*mean_x + b*mean_y"
   ]
  },
  {
   "cell_type": "code",
   "execution_count": 59,
   "id": "7b96d453",
   "metadata": {},
   "outputs": [],
   "source": [
    "#분산의 함수\n",
    "def V(XY,g):\n",
    "    x_set,y_sey,f_XY=XY\n",
    "    mean=E(XY,g)\n",
    "    return np.sum([(g(x_i,y_j)-mean)**2*f_XY(x_i,y_j)\n",
    "                   for x_i in x_set for y_j in y_set])\n"
   ]
  },
  {
   "cell_type": "code",
   "execution_count": 60,
   "id": "e57b26ec",
   "metadata": {},
   "outputs": [
    {
     "data": {
      "text/plain": [
       "4.444444444444444"
      ]
     },
     "execution_count": 60,
     "metadata": {},
     "output_type": "execute_result"
    }
   ],
   "source": [
    "var_X =V(XY,g=lambda x,y: x)\n",
    "var_X"
   ]
  },
  {
   "cell_type": "code",
   "execution_count": 61,
   "id": "9ae91fe9",
   "metadata": {},
   "outputs": [
    {
     "data": {
      "text/plain": [
       "2.2222222222222223"
      ]
     },
     "execution_count": 61,
     "metadata": {},
     "output_type": "execute_result"
    }
   ],
   "source": [
    "var_Y =V(XY,g= lambda x,y:y)\n",
    "var_Y"
   ]
  },
  {
   "cell_type": "code",
   "execution_count": 62,
   "id": "1a2812aa",
   "metadata": {},
   "outputs": [
    {
     "data": {
      "text/plain": [
       "2.222222222222222"
      ]
     },
     "execution_count": 62,
     "metadata": {},
     "output_type": "execute_result"
    }
   ],
   "source": [
    "def Cov(XY):\n",
    "    x_set,y_set, f_XY= XY\n",
    "    mean_X =E(XY,lambda x,y:x)\n",
    "    mean_Y = E(XY,lambda x,y:y)\n",
    "    return np.sum([(x_i-mean_X)*(y_j-mean_Y)*f_XY(x_i,y_j)\n",
    "                  for x_i in x_set for y_j in y_set])\n",
    "cov_xy = Cov(XY)\n",
    "cov_xy    "
   ]
  },
  {
   "cell_type": "code",
   "execution_count": 63,
   "id": "420dfcb4",
   "metadata": {},
   "outputs": [
    {
     "data": {
      "text/plain": [
       "2.222222222222222"
      ]
     },
     "execution_count": 63,
     "metadata": {},
     "output_type": "execute_result"
    }
   ],
   "source": [
    "cov_xy = Cov(XY)\n",
    "cov_xy"
   ]
  },
  {
   "cell_type": "code",
   "execution_count": 64,
   "id": "8eedaa0a",
   "metadata": {},
   "outputs": [
    {
     "data": {
      "text/plain": [
       "64.44444444444444"
      ]
     },
     "execution_count": 64,
     "metadata": {},
     "output_type": "execute_result"
    }
   ],
   "source": [
    "V(XY,lambda x,y: a*x+b*y)"
   ]
  },
  {
   "cell_type": "code",
   "execution_count": 67,
   "id": "7d35ed8b",
   "metadata": {},
   "outputs": [
    {
     "data": {
      "text/plain": [
       "64.44444444444443"
      ]
     },
     "execution_count": 67,
     "metadata": {},
     "output_type": "execute_result"
    }
   ],
   "source": [
    "a**2*var_X+b**2*var_Y+2*a*b*cov_xy\n"
   ]
  },
  {
   "cell_type": "code",
   "execution_count": 68,
   "id": "6a4b0b62",
   "metadata": {},
   "outputs": [
    {
     "data": {
      "text/plain": [
       "0.7071067811865474"
      ]
     },
     "execution_count": 68,
     "metadata": {},
     "output_type": "execute_result"
    }
   ],
   "source": [
    "#확률변수의 상관계수: 공분산을 각각의 표준편차로 나누어 산출\n",
    "cov_xy/np.sqrt(var_X*var_Y)\n"
   ]
  },
  {
   "cell_type": "markdown",
   "id": "f6f41c59",
   "metadata": {},
   "source": [
    "#### 대표적인 이산형 확률분포"
   ]
  },
  {
   "cell_type": "code",
   "execution_count": 69,
   "id": "50ca3fb4",
   "metadata": {},
   "outputs": [],
   "source": [
    "#assert: 원하는 조건의 변수 값을 보증받을 때까지 테스트\n",
    "#그래프를 위한 사용자 함수\n",
    "import numpy as np\n",
    "import matplotlib.pyplot as plt\n",
    "from scipy import stats\n",
    "linestyles= ['-','--',':']\n",
    "# x 확률변수의 기대값\n",
    "def E(X,g=lambda x:x):\n",
    "    x_set,f = X\n",
    "    return np.sum([g(x_k) * f(x_k) for x_k in x_set])\n",
    "def V(X, g=lambda x:x):\n",
    "    x_set,f = X\n",
    "    mean =E(X,g)\n",
    "    return np.sum([(g(x_k)-mean)**2*f(x_k) for x_k in x_set])\n",
    "def check_prob(X): # 확률분포를 인수로 가지면 기댓값과 분산 계산 결과를 반환\n",
    "    x_set, f = X\n",
    "    prob = np.array([f(x_k) for x_k in x_set])\n",
    "    assert np.all(prob >= 0), 'minus probability'\n",
    "    prob_sum = np.round(np.sum(prob), 6)\n",
    "    assert prob_sum ==1, f'sum of probability{prob_sum}'\n",
    "    print(f'expected value {E(X):.4}')\n",
    "    print(f'variance {(V(X)):.4}')\n",
    "    \n",
    "def plot_prob(X):#확률분포를 인수로 가지며 그 확률변수의 확률함수와 기대값\n",
    "    #그리기 위한 함수\n",
    "    x_set,f =X #확률변수와 확률함수\n",
    "    prob= np.array([f(x_k) for x_k in x_set])\n",
    "    fig = plt.figure(figsize=(6,4))\n",
    "    ax=fig.add_subplot(111)\n",
    "    ax.bar(x_set,prob,label='prob')\n",
    "    ax.vlines(E(X),0,1,label='mean',color='crimson')\n",
    "    ax.set_xticks(np.append(x_set,E(X)))\n",
    "    ax.set_ylim(0,prob.max()*1.2)\n",
    "    ax.legend()\n",
    "    \n",
    "    plt.show()\n",
    "    "
   ]
  },
  {
   "cell_type": "markdown",
   "id": "59106896",
   "metadata": {},
   "source": [
    "#### 베르누이 분포\n",
    "- 가장 기본적인 이산형 확률분포로 확률변수가 취할 수 있는 값이 0과 1밖에 없는 분포이다.\n",
    "-  베르누이 분포를 따르는 확률변수의 시행을 베르누이 시행이라 하며 1이 나오면 성공,0이 나오면 실패\n",
    "- 동전을 던져 앞면이 나올 확률,주사위를 한 번 굴려 6이 나오지 않을 확률"
   ]
  },
  {
   "cell_type": "code",
   "execution_count": 71,
   "id": "f4ad3cff",
   "metadata": {},
   "outputs": [
    {
     "data": {
      "text/plain": [
       "(array([0, 1]), <function __main__.Bern.<locals>.f(x)>)"
      ]
     },
     "execution_count": 71,
     "metadata": {},
     "output_type": "execute_result"
    }
   ],
   "source": [
    "def Bern(p):\n",
    "    x_set = np.array([0,1])\n",
    "    def f(x):\n",
    "        if x in x_set:\n",
    "            return p**x*(1-p)**(1-x) # p의 x승 곱하기 1-p에 1-x승\n",
    "        # 확률변수 (x) ,(1-p)는 실패하는 확률에는 (1-x)승\n",
    "        else:\n",
    "            return 0\n",
    "    return x_set,f\n",
    "p=0.3\n",
    "X=Bern(p)\n",
    "X"
   ]
  },
  {
   "cell_type": "code",
   "execution_count": 72,
   "id": "e8befbdf",
   "metadata": {},
   "outputs": [
    {
     "name": "stdout",
     "output_type": "stream",
     "text": [
      "expected value 0.3\n",
      "variance 0.21\n"
     ]
    }
   ],
   "source": [
    "check_prob(X)"
   ]
  },
  {
   "cell_type": "code",
   "execution_count": 74,
   "id": "f08c80dd",
   "metadata": {},
   "outputs": [
    {
     "data": {
      "image/png": "[encoded data removed]",
      "text/plain": [
       "<Figure size 432x288 with 1 Axes>"
      ]
     },
     "metadata": {
      "needs_background": "light"
     },
     "output_type": "display_data"
    }
   ],
   "source": [
    "plot_prob(X)"
   ]
  },
  {
   "cell_type": "code",
   "execution_count": 75,
   "id": "eb0a9f64",
   "metadata": {},
   "outputs": [],
   "source": [
    "rv=stats.bernoulli(p)\n"
   ]
  },
  {
   "cell_type": "code",
   "execution_count": 76,
   "id": "c580336e",
   "metadata": {},
   "outputs": [
    {
     "data": {
      "text/plain": [
       "(0.7, 0.3)"
      ]
     },
     "execution_count": 76,
     "metadata": {},
     "output_type": "execute_result"
    }
   ],
   "source": [
    "#probability \n",
    "rv.pmf(0),rv.pmf(1) \n"
   ]
  },
  {
   "cell_type": "code",
   "execution_count": 77,
   "id": "36cd4b7f",
   "metadata": {},
   "outputs": [
    {
     "data": {
      "text/plain": [
       "array([0.7, 0.3])"
      ]
     },
     "execution_count": 77,
     "metadata": {},
     "output_type": "execute_result"
    }
   ],
   "source": [
    "rv.pmf([0,1])"
   ]
  },
  {
   "cell_type": "code",
   "execution_count": 78,
   "id": "4ebe274b",
   "metadata": {},
   "outputs": [
    {
     "data": {
      "text/plain": [
       "array([0.7, 1. ])"
      ]
     },
     "execution_count": 78,
     "metadata": {},
     "output_type": "execute_result"
    }
   ],
   "source": [
    "#누산분포함수 -이산형, 연속형 둘 다 가능\n",
    "rv.cdf([0,1])"
   ]
  },
  {
   "cell_type": "code",
   "execution_count": 79,
   "id": "b329fc18",
   "metadata": {},
   "outputs": [
    {
     "data": {
      "text/plain": [
       "(0.3, 0.21)"
      ]
     },
     "execution_count": 79,
     "metadata": {},
     "output_type": "execute_result"
    }
   ],
   "source": [
    "rv.mean(),rv.var()"
   ]
  },
  {
   "cell_type": "markdown",
   "id": "e26b1ba8",
   "metadata": {},
   "source": [
    "#### 이항분포 \n",
    "- 성공확률이 p인 베르누이 시행을 n번 헀을 때의 성공 횟수가 따르는 분포\n",
    "    f(x) = $_{n}\\mathrm{C}_{x}(1-p)^{n-x}$ $(x \\in \\{0,1,2,,,,n\\}$)\n",
    "       0            (otherwise)\n"
   ]
  },
  {
   "cell_type": "code",
   "execution_count": 80,
   "id": "1f77c7e4",
   "metadata": {},
   "outputs": [],
   "source": [
    "\n",
    "\n",
    "from scipy.special import comb\n",
    "def Bin(n,p):\n",
    "    x_set = np.arange(n+1)\n",
    "    def f(x):\n",
    "        if x in x_set:\n",
    "            return comb(n,x)*p**x*(1-p)**(n-x)\n",
    "        else:\n",
    "            return 0\n",
    "    return x_set,f\n"
   ]
  },
  {
   "cell_type": "code",
   "execution_count": null,
   "id": "bf7e82e5",
   "metadata": {},
   "outputs": [],
   "source": [
    "\n",
    "from scipy.special import comb\n",
    "def Bin(n,p):\n",
    "    x_set=np.arange(n+1)\n",
    "    def f(x):\n",
    "        if x in x_set:\n",
    "            return comb(n,x)*p**x*(1-p)**(n-x)\n",
    "        "
   ]
  },
  {
   "cell_type": "code",
   "execution_count": 81,
   "id": "bd5590e9",
   "metadata": {},
   "outputs": [
    {
     "name": "stdout",
     "output_type": "stream",
     "text": [
      "expected value 3.0\n",
      "variance 2.1\n"
     ]
    }
   ],
   "source": [
    "#[과제] 동전을 10번 던져 앞면이 3번 나올 확률의 이항분포의 기대값과 분산을\n",
    "##구하시오.\n",
    "n=10\n",
    "p=0.3\n",
    "X=Bin(n,p)\n",
    "check_prob(X)"
   ]
  },
  {
   "cell_type": "code",
   "execution_count": 82,
   "id": "601e8566",
   "metadata": {},
   "outputs": [
    {
     "data": {
      "image/png": "[encoded data removed]",
      "text/plain": [
       "<Figure size 432x432 with 1 Axes>"
      ]
     },
     "metadata": {
      "needs_background": "light"
     },
     "output_type": "display_data"
    }
   ],
   "source": [
    "# [과제] 확률이 0.3, 0.5, 0.7로 변할 때 확률함수가 변화는 모습을 시각화 하세요\n",
    "\n",
    "fig = plt.figure(figsize=(6,6))\n",
    "ax=fig.add_subplot(111)\n",
    "\n",
    "x_set = np.arange(n+1)\n",
    "for p,ls in zip([0.3,0.5,0.7],linestyles):\n",
    "    # spicy.stats에서 이항분포의 확률변수는 binom함수로 생성가능 \n",
    "    rv=stats.binom(n,p)\n",
    "    ax.plot(x_set,rv.pmf(x_set),label=f'p:{p}',ls=ls,color='orange')\n",
    "ax.set_xticks(x_set)\n",
    "ax.legend()\n",
    "plt.show()"
   ]
  },
  {
   "cell_type": "markdown",
   "id": "f981758f",
   "metadata": {},
   "source": [
    "#### 기하분포\n",
    "- 베르누이 시행에서 처음 성공할 때까지 반복한 시행 횟수가 따르는 분포\n",
    "- 기하분포의 파라미터는 베르누이 새행의 성공 확률 파라미터 P가 되며 \n",
    " 파라미터 P의 기하분포를 Ge(p)로 표기\n",
    "\n",
    "f(x) = $(1-p)^{x-1}p$ $(x \\in \\{1,2,3,...\\})$\n",
    "\n",
    "     0              (otherwise)\n",
    "- 기하분포의 기댓값과 분산 : E(X)=1/p,V(X) = (1-p)/$p^2$\n",
    "    "
   ]
  },
  {
   "cell_type": "code",
   "execution_count": 83,
   "id": "aec2b56b",
   "metadata": {},
   "outputs": [],
   "source": [
    "#[과제] 기하분포의 사용자 함수를 구하세요.(단, 확률변수를 1이상 29이하인 정수로 설정)\n",
    "def Ge(p):\n",
    "    x_set=np.arange(1,30)\n",
    "    def f(x):\n",
    "        if x in x_set:\n",
    "            return p*(1-p)**(x-1)\n",
    "        else:\n",
    "            return 0\n",
    "    return x_set,f"
   ]
  },
  {
   "cell_type": "code",
   "execution_count": 84,
   "id": "17b940b0",
   "metadata": {},
   "outputs": [
    {
     "name": "stdout",
     "output_type": "stream",
     "text": [
      "expected value 2.0\n",
      "variance 2.0\n"
     ]
    }
   ],
   "source": [
    "#[과제] 성공확률이 0.5일떄 기하분포의 기댓값과 분산을 구하세요\n",
    "p = 0.5\n",
    "X=Ge(p)\n",
    "check_prob(X)"
   ]
  },
  {
   "cell_type": "code",
   "execution_count": 85,
   "id": "a9422f5c",
   "metadata": {},
   "outputs": [
    {
     "data": {
      "image/png": "[encoded data removed]",
      "text/plain": [
       "<Figure size 432x288 with 1 Axes>"
      ]
     },
     "metadata": {
      "needs_background": "light"
     },
     "output_type": "display_data"
    }
   ],
   "source": [
    "#[과제] 상기 기하분포의 확률함수와 기댓값을 시각화하세요\n",
    "plot_prob(X)"
   ]
  },
  {
   "cell_type": "code",
   "execution_count": 86,
   "id": "59af6857",
   "metadata": {},
   "outputs": [
    {
     "data": {
      "image/png": "[encoded data removed]",
      "text/plain": [
       "<Figure size 432x432 with 1 Axes>"
      ]
     },
     "metadata": {
      "needs_background": "light"
     },
     "output_type": "display_data"
    }
   ],
   "source": [
    "#[과제] 성공 확률(p)이 0.2,.0.5,0.8로 변할 떄 확류함수가 변하는 모습 시각화\n",
    "\n",
    "fig=plt.figure(figsize=(6,6))\n",
    "ax=fig.add_subplot(111)\n",
    "\n",
    "x_set = np.arange(1,14)\n",
    "for p,ls in zip([0.2,0.5,0.8],linestyles):\n",
    "    rv=stats.geom(p)\n",
    "    ax.plot(x_set,rv.pmf(x_set),label=f'p:{p}',ls=ls,color='g')\n",
    "ax.set_xticks(x_set)\n",
    "ax.legend()\n",
    "plt.show()"
   ]
  },
  {
   "cell_type": "code",
   "execution_count": 87,
   "id": "3dd00670",
   "metadata": {},
   "outputs": [
    {
     "data": {
      "text/plain": [
       "0.038689046874999994"
      ]
     },
     "execution_count": 87,
     "metadata": {},
     "output_type": "execute_result"
    }
   ],
   "source": [
    "# 야구선수가 홈런칠 확률 0.05, 6타석만에 홈런칠 확률은?\n",
    "from scipy.stats import geom\n",
    "rv =geom(p=0.05)\n",
    "rv.pmf(6) #총 시도횟수"
   ]
  },
  {
   "cell_type": "code",
   "execution_count": 88,
   "id": "86343510",
   "metadata": {},
   "outputs": [
    {
     "data": {
      "image/png": "[encoded data removed]",
      "text/plain": [
       "<Figure size 432x288 with 1 Axes>"
      ]
     },
     "metadata": {
      "needs_background": "light"
     },
     "output_type": "display_data"
    }
   ],
   "source": [
    "rv=geom(p=0.05)\n",
    "x =np.arange(1,91)\n",
    "pmf_geom = rv.pmf(x)\n",
    "fig=plt.figure()\n",
    "ax=fig.add_subplot(111)\n",
    "ax.plot(x,pmf_geom,'bo')\n",
    "ax.vlines(x,0,pmf_geom,lw=2)\n",
    "ax.set_ylabel('geom PMF')\n",
    "plt.show()"
   ]
  },
  {
   "cell_type": "markdown",
   "id": "ba0c2654",
   "metadata": {},
   "source": [
    "#### 포아송 분포\n",
    "-  임의의 사건이 단위 시간당 발생하는 건수가 따르는 확률분포이며 포아송 분포의\n",
    " 파라미터는 $\\lambda$ (람다)로 나타낸다.\n",
    "- 하루에 평균 2건의 교통사고가 발생하는 지역에서 하루 교통사고 발생건수는 Poi(2)를 따른다.\n",
    "   예) 하루에 교통사고가 한 건도 일어나지 않을 확률: \n",
    "    P(X=0) = 2!/0! * $e^{-2}$ = 0.135\n",
    "    #e가 자연상수이고, 약 2.72818이다\n",
    "- 포아송 분포의 기댓값과 분산 모두 $\\lambda$ 가 된다."
   ]
  },
  {
   "cell_type": "code",
   "execution_count": 142,
   "id": "bdbef577",
   "metadata": {},
   "outputs": [],
   "source": [
    "#[과제] 사용자 함수를 구하세요(단, 확률변수 1부터 19이하 정수로 설정)\n",
    "from scipy.special import factorial\n",
    "def Poi(lam):\n",
    "    x_set = np.arange(20)\n",
    "    def f(x):\n",
    "        if x in x_set:\n",
    "            return np.power(lam,x)/factorial(x) *np.exp(-lam)\n",
    "        else:\n",
    "            return 0\n",
    "        \n",
    "    return x_set,f\n"
   ]
  },
  {
   "cell_type": "code",
   "execution_count": 145,
   "id": "1811ecac",
   "metadata": {},
   "outputs": [
    {
     "name": "stdout",
     "output_type": "stream",
     "text": [
      "expected value 3.0\n",
      "variance 3.0\n"
     ]
    }
   ],
   "source": [
    "#[과제]  람다가 3일때 기댓값과 분산을 구하세요\n",
    "lam=3\n",
    "X=Poi(lam)\n",
    "check_prob(X)"
   ]
  },
  {
   "cell_type": "code",
   "execution_count": 146,
   "id": "f77e0efa",
   "metadata": {},
   "outputs": [
    {
     "data": {
      "image/png": "[encoded data removed]",
      "text/plain": [
       "<Figure size 432x288 with 1 Axes>"
      ]
     },
     "metadata": {
      "needs_background": "light"
     },
     "output_type": "display_data"
    }
   ],
   "source": [
    "#[과제]  상기 포아송분포의 확률함수와 기댓값을 시각화하세요\n",
    "plot_prob(X)"
   ]
  },
  {
   "cell_type": "code",
   "execution_count": 92,
   "id": "4d272c3e",
   "metadata": {},
   "outputs": [
    {
     "data": {
      "image/png": "[encoded data removed]",
      "text/plain": [
       "<Figure size 432x432 with 1 Axes>"
      ]
     },
     "metadata": {
      "needs_background": "light"
     },
     "output_type": "display_data"
    }
   ],
   "source": [
    "#[과제] 람다가 3,5,8로 변할 때 확률함수가 변하는 모습을 시각화\n",
    "fig=plt.figure(figsize=(6,6))\n",
    "ax =fig.add_subplot(111)\n",
    "\n",
    "x_set = np.arange(20)\n",
    "for lam,Is in zip([3,5,8],linestyles):\n",
    "    rv = stats.poisson(lam)\n",
    "    ax.plot(x_set,rv.pmf(x_set),\n",
    "           label=f'lam:{lam}',ls=ls, color='gray')\n",
    "ax.set_xticks(x_set)\n",
    "ax.legend()\n",
    "plt.show()"
   ]
  },
  {
   "cell_type": "code",
   "execution_count": null,
   "id": "654f5b6e",
   "metadata": {},
   "outputs": [],
   "source": [
    "#[과제] 베르누이.이항,기하,포아송분포의 사례를 각가 2개씩 제시하세요"
   ]
  },
  {
   "cell_type": "code",
   "execution_count": 101,
   "id": "0d91fd88",
   "metadata": {
    "scrolled": true
   },
   "outputs": [
    {
     "data": {
      "text/plain": [
       "(array([0, 1]), <function __main__.Bern.<locals>.f(x)>)"
      ]
     },
     "execution_count": 101,
     "metadata": {},
     "output_type": "execute_result"
    }
   ],
   "source": [
    "def Bern(p):\n",
    "    x_set = np.array([0,1])\n",
    "    def f(x):\n",
    "        if x in x_set:\n",
    "            return p**x*(1-p)**(1-x) # p의 x승 곱하기 1-p에 1-x승\n",
    "        # 확률변수 (x) ,(1-p)는 실패하는 확률에는 (1-x)승\n",
    "        else:\n",
    "            return 0\n",
    "    return x_set,f\n",
    "p=0.3\n",
    "X=Bern(p)\n",
    "X\n",
    "#베르누이는  x_set이 np.array([0,1]) 이여야한다"
   ]
  },
  {
   "cell_type": "code",
   "execution_count": 102,
   "id": "cb272a75",
   "metadata": {},
   "outputs": [
    {
     "name": "stdout",
     "output_type": "stream",
     "text": [
      "expected value 0.5\n",
      "variance 0.25\n"
     ]
    }
   ],
   "source": [
    "#베르누이 주사위가 짝수가 나올 확률과 홀수가 나올 확률\n",
    "def Bern(p):\n",
    "    x_set = np.array([0,1])\n",
    "    def f(x):\n",
    "        if x in x_set:\n",
    "            return p**x*(1-p)**(1-x)\n",
    "        else:\n",
    "            return 0\n",
    "    return x_set,f\n",
    "\n",
    "p=0.5\n",
    "X=Bern(p)\n",
    "check_prob(X)"
   ]
  },
  {
   "cell_type": "code",
   "execution_count": 100,
   "id": "b1dbfb72",
   "metadata": {},
   "outputs": [
    {
     "name": "stdout",
     "output_type": "stream",
     "text": [
      "expected value 0.7\n",
      "variance 0.21\n"
     ]
    }
   ],
   "source": [
    "#베르누이 검은공 3개와 흰공 7개가 있는 주머니에서 흰공이 나오면 성공\n",
    "def Bern(p):\n",
    "    x_set = np.array([0,1])\n",
    "    def f(x):\n",
    "        if x in x_set:\n",
    "            return p**x*(1-p)**(1-x)\n",
    "        else:\n",
    "            return 0\n",
    "    return x_set,f\n",
    "\n",
    "p=0.7\n",
    "X=Bern(p)\n",
    "check_prob(X)"
   ]
  },
  {
   "cell_type": "code",
   "execution_count": 99,
   "id": "21b919f0",
   "metadata": {},
   "outputs": [
    {
     "data": {
      "text/plain": [
       "(0.30000000000000004, 0.7)"
      ]
     },
     "execution_count": 99,
     "metadata": {},
     "output_type": "execute_result"
    }
   ],
   "source": [
    "rv= stats.bernoulli(p)\n",
    "rv.pmf(0),rv.pmf(1)"
   ]
  },
  {
   "cell_type": "code",
   "execution_count": 98,
   "id": "8ca82dbf",
   "metadata": {},
   "outputs": [
    {
     "data": {
      "image/png": "[encoded data removed]",
      "text/plain": [
       "<Figure size 432x288 with 1 Axes>"
      ]
     },
     "metadata": {
      "needs_background": "light"
     },
     "output_type": "display_data"
    }
   ],
   "source": [
    "plot_prob(X)"
   ]
  },
  {
   "cell_type": "code",
   "execution_count": 103,
   "id": "4f9e67ee",
   "metadata": {},
   "outputs": [
    {
     "name": "stdout",
     "output_type": "stream",
     "text": [
      "expected value 3.5\n",
      "variance 1.05\n"
     ]
    }
   ],
   "source": [
    "#이항분포 15명의 환자에게 약을 투여해서 치료될 확률 0.7, 15명중 5명 환자가 치료될 확률\n",
    "from scipy.special import comb\n",
    "\n",
    "def Bin(n,p):\n",
    "    x_set = np.arange(n+1)\n",
    "    def f(x):\n",
    "        if x in x_set:\n",
    "            return comb(n,x)*p**x*(1-p)**(n-x)\n",
    "        else:\n",
    "            return 0\n",
    "    return x_set,f\n",
    "\n",
    "n=5\n",
    "p=0.7\n",
    "X =Bin(n,p)\n",
    "check_prob(X)"
   ]
  },
  {
   "cell_type": "code",
   "execution_count": 104,
   "id": "daeaa5f0",
   "metadata": {},
   "outputs": [
    {
     "data": {
      "text/plain": [
       "<BarContainer object of 5 artists>"
      ]
     },
     "execution_count": 104,
     "metadata": {},
     "output_type": "execute_result"
    },
    {
     "data": {
      "image/png": "[encoded data removed]",
      "text/plain": [
       "<Figure size 432x288 with 1 Axes>"
      ]
     },
     "metadata": {
      "needs_background": "light"
     },
     "output_type": "display_data"
    }
   ],
   "source": [
    "from scipy.special import comb\n",
    "\n",
    "n=5\n",
    "p=0.7\n",
    "def Bin(n,x,p):\n",
    "    return comb(n,x)*p**x*(1-p)**(n-x)\n",
    "result=[]\n",
    "for x in range(1,n+1):\n",
    "    result.append(Bin(n,x,p))\n",
    "plt.bar(range(1,n+1),result)"
   ]
  },
  {
   "cell_type": "code",
   "execution_count": 97,
   "id": "1d0bea59",
   "metadata": {},
   "outputs": [
    {
     "data": {
      "image/png": "[encoded data removed]",
      "text/plain": [
       "<Figure size 432x288 with 1 Axes>"
      ]
     },
     "metadata": {
      "needs_background": "light"
     },
     "output_type": "display_data"
    }
   ],
   "source": [
    "plot_prob(X)"
   ]
  },
  {
   "cell_type": "code",
   "execution_count": 105,
   "id": "f921678a",
   "metadata": {},
   "outputs": [
    {
     "data": {
      "image/png": "[encoded data removed]",
      "text/plain": [
       "<Figure size 360x360 with 1 Axes>"
      ]
     },
     "metadata": {
      "needs_background": "light"
     },
     "output_type": "display_data"
    }
   ],
   "source": [
    "fig = plt.figure(figsize=(5,5))\n",
    "ax=fig.add_subplot(111)\n",
    "for p,ls in zip([0.3,0.5,0.7],linestyles):\n",
    "    rv=stats.binom(n,p)\n",
    "    ax.plot(x_set,rv.pmf(x_set),label=f'p:{p}',ls=ls,color='g')\n",
    "ax.set_xticks(x_set)\n",
    "ax.legend()\n",
    "plt.show()"
   ]
  },
  {
   "cell_type": "code",
   "execution_count": 94,
   "id": "16ef09ca",
   "metadata": {
    "scrolled": true
   },
   "outputs": [
    {
     "name": "stdout",
     "output_type": "stream",
     "text": [
      "expected value 50.0\n",
      "variance 25.0\n"
     ]
    }
   ],
   "source": [
    "#이항분포 동전 100회 던져서 앞면이 60회 나올 확률 \n",
    "from scipy.special import comb\n",
    "def Bin(n,p):\n",
    "    x_set = np.arange(n+1)\n",
    "    def f(x):\n",
    "        if x in x_set:\n",
    "            return comb(n,x)*p**x*(1-p)**(n-x)\n",
    "        else:\n",
    "            return 0\n",
    "    return x_set,f\n",
    "\n",
    "n=100\n",
    "p=0.5\n",
    "X=Bin(n,p)\n",
    "check_prob(X)"
   ]
  },
  {
   "cell_type": "code",
   "execution_count": 95,
   "id": "1822dd92",
   "metadata": {},
   "outputs": [
    {
     "name": "stdout",
     "output_type": "stream",
     "text": [
      "expected value 2.5\n",
      "variance 3.75\n"
     ]
    }
   ],
   "source": [
    "#기하분포 : 처음 성공\n",
    "def Ge(p):\n",
    "    x_set = np.arange(1,30)\n",
    "    def f(x):\n",
    "        if x in x_set:\n",
    "            return (1-p)**(x-1)*p\n",
    "        else:\n",
    "            return 0\n",
    "    return x_set,f\n",
    "p=0.4\n",
    "#0.4부터 0.9까지만 되네? WHY?\n",
    "X=Ge(p)\n",
    "check_prob(X)\n"
   ]
  },
  {
   "cell_type": "code",
   "execution_count": 96,
   "id": "25c11b4e",
   "metadata": {},
   "outputs": [
    {
     "data": {
      "image/png": "[encoded data removed]",
      "text/plain": [
       "<Figure size 360x360 with 1 Axes>"
      ]
     },
     "metadata": {
      "needs_background": "light"
     },
     "output_type": "display_data"
    }
   ],
   "source": [
    "#기하분포는 geom 으로 확률변수를 받음 \n",
    "fig = plt.figure(figsize=(5,5))\n",
    "ax=fig.add_subplot(111)\n",
    "for p,ls in zip([0.3,0.5,0.7],linestyles):\n",
    "    rv=stats.geom(p)\n",
    "    ax.plot(x_set,rv.pmf(x_set),label=f'p:{p}',ls=ls,color='g')\n",
    "ax.set_xticks(x_set)\n",
    "ax.legend()\n",
    "plt.show()"
   ]
  },
  {
   "cell_type": "markdown",
   "id": "eb7b8c52",
   "metadata": {},
   "source": [
    " ### 포아송분포\n",
    "  \n",
    " f(x)=$\\lambda^x/x!*3^{-\\lambda}$ $(x \\in \\{1,2,3,...\\})$\n",
    " \n",
    "  0                 (otherwise)"
   ]
  },
  {
   "cell_type": "code",
   "execution_count": 18,
   "id": "aab42f7c",
   "metadata": {},
   "outputs": [
    {
     "data": {
      "text/plain": [
       "0.8152632445237722"
      ]
     },
     "execution_count": 18,
     "metadata": {},
     "output_type": "execute_result"
    }
   ],
   "source": [
    "#포아송분포  임의의 사건이 단위 시간당 발생하는 건수\n",
    "# 어떤 이발소에 1시간에 평균 3명의 손님이 찾아온다 \n",
    "# 1시간에 4명이 찾아 올확률은\n",
    "stats.poisson.cdf(4,mu=3)"
   ]
  },
  {
   "cell_type": "code",
   "execution_count": 17,
   "id": "27a9d8b5",
   "metadata": {},
   "outputs": [
    {
     "name": "stdout",
     "output_type": "stream",
     "text": [
      "expected value 3.0\n",
      "variance 3.0\n"
     ]
    }
   ],
   "source": [
    "from scipy.special import factorial\n",
    "def Poi(lam):\n",
    "    x_set=np.arange(20)\n",
    "    def f(x):\n",
    "        if x in x_set:\n",
    "            return np.power(lam,x)/ factorial(x)*np.exp(-lam)\n",
    "        else:\n",
    "            return 0\n",
    "    return x_set,f\n",
    "\n",
    "lam=3\n",
    "X=Poi(lam)\n",
    "\n",
    "check_prob(X)\n"
   ]
  },
  {
   "cell_type": "code",
   "execution_count": 16,
   "id": "684211f7",
   "metadata": {},
   "outputs": [
    {
     "data": {
      "image/png": "[encoded data removed]",
      "text/plain": [
       "<Figure size 432x288 with 1 Axes>"
      ]
     },
     "metadata": {
      "needs_background": "light"
     },
     "output_type": "display_data"
    }
   ],
   "source": [
    "plot_prob(X)"
   ]
  },
  {
   "cell_type": "code",
   "execution_count": 131,
   "id": "432b424a",
   "metadata": {},
   "outputs": [
    {
     "data": {
      "text/plain": [
       "0.42319008112684364"
      ]
     },
     "execution_count": 131,
     "metadata": {},
     "output_type": "execute_result"
    }
   ],
   "source": [
    "#웹사이트 한시간당 평균 접속사 3명, 앞으로 1시간동안 접속자가 2명 이하일 확률은?\n",
    "\n",
    "stats.poisson.cdf(2,mu=3)\n",
    "#2보다 작을 떄 확률을 구하는 것 "
   ]
  },
  {
   "cell_type": "code",
   "execution_count": 130,
   "id": "541820b3",
   "metadata": {},
   "outputs": [
    {
     "name": "stdout",
     "output_type": "stream",
     "text": [
      "expected value 3.0\n",
      "variance 3.0\n"
     ]
    }
   ],
   "source": [
    "lam=3\n",
    "X=Poi(lam)\n",
    "check_prob(X)"
   ]
  },
  {
   "cell_type": "code",
   "execution_count": 134,
   "id": "bf25f42e",
   "metadata": {},
   "outputs": [
    {
     "data": {
      "image/png": "[encoded data removed]",
      "text/plain": [
       "<Figure size 432x432 with 1 Axes>"
      ]
     },
     "metadata": {
      "needs_background": "light"
     },
     "output_type": "display_data"
    }
   ],
   "source": [
    "#람다가 커질수록 분산도 커져서 분포가 넓게 퍼지게 되는 것을 확인할 수 있습니다.\n",
    "fig=plt.figure(figsize=(6,6))\n",
    "ax =fig.add_subplot(111)\n",
    "\n",
    "x_set = np.arange(20)\n",
    "for lam,Is in zip([3,5,8],linestyles):\n",
    "    rv = stats.poisson(lam)\n",
    "    ax.plot(x_set,rv.pmf(x_set),\n",
    "           label=f'lam:{lam}',ls=ls, color='black')\n",
    "ax.set_xticks(x_set)\n",
    "ax.legend()\n",
    "\n",
    "plt.show()"
   ]
  },
  {
   "cell_type": "code",
   "execution_count": null,
   "id": "ca67e578",
   "metadata": {},
   "outputs": [],
   "source": []
  }
 ],
 "metadata": {
  "kernelspec": {
   "display_name": "Python 3 (ipykernel)",
   "language": "python",
   "name": "python3"
  },
  "language_info": {
   "codemirror_mode": {
    "name": "ipython",
    "version": 3
   },
   "file_extension": ".py",
   "mimetype": "text/x-python",
   "name": "python",
   "nbconvert_exporter": "python",
   "pygments_lexer": "ipython3",
   "version": "3.7.11"
  }
 },
 "nbformat": 4,
 "nbformat_minor": 5
}
