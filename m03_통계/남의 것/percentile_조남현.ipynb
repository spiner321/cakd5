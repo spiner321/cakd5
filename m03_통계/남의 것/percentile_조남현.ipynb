{
 "cells": [
  {
   "cell_type": "code",
   "execution_count": 1,
   "metadata": {},
   "outputs": [],
   "source": [
    "import numpy as np\n",
    "import pandas as pd\n",
    "import math"
   ]
  },
  {
   "cell_type": "code",
   "execution_count": 2,
   "metadata": {},
   "outputs": [
    {
     "data": {
      "text/plain": [
       "array([2, 3, 3, 4, 4, 4, 4, 5, 5, 6])"
      ]
     },
     "execution_count": 2,
     "metadata": {},
     "output_type": "execute_result"
    }
   ],
   "source": [
    "data = np.array([2,3,3,4,4,4,4,5,5,6])\n",
    "data"
   ]
  },
  {
   "cell_type": "code",
   "execution_count": 12,
   "metadata": {},
   "outputs": [
    {
     "data": {
      "text/html": [
       "<div>\n",
       "<style scoped>\n",
       "    .dataframe tbody tr th:only-of-type {\n",
       "        vertical-align: middle;\n",
       "    }\n",
       "\n",
       "    .dataframe tbody tr th {\n",
       "        vertical-align: top;\n",
       "    }\n",
       "\n",
       "    .dataframe thead th {\n",
       "        text-align: right;\n",
       "    }\n",
       "</style>\n",
       "<table border=\"1\" class=\"dataframe\">\n",
       "  <thead>\n",
       "    <tr style=\"text-align: right;\">\n",
       "      <th></th>\n",
       "      <th>평균</th>\n",
       "      <th>불편분산</th>\n",
       "      <th>표준편차</th>\n",
       "      <th>최대</th>\n",
       "      <th>최소</th>\n",
       "      <th>1분위수</th>\n",
       "      <th>중앙값</th>\n",
       "      <th>3분위수</th>\n",
       "    </tr>\n",
       "  </thead>\n",
       "  <tbody>\n",
       "    <tr>\n",
       "      <th>해당 값</th>\n",
       "      <td>4.0</td>\n",
       "      <td>1.2</td>\n",
       "      <td>1.095445</td>\n",
       "      <td>6.0</td>\n",
       "      <td>2.0</td>\n",
       "      <td>3.25</td>\n",
       "      <td>4.0</td>\n",
       "      <td>4.75</td>\n",
       "    </tr>\n",
       "  </tbody>\n",
       "</table>\n",
       "</div>"
      ],
      "text/plain": [
       "       평균  불편분산      표준편차   최대   최소  1분위수  중앙값  3분위수\n",
       "해당 값  4.0   1.2  1.095445  6.0  2.0  3.25  4.0  4.75"
      ]
     },
     "execution_count": 12,
     "metadata": {},
     "output_type": "execute_result"
    }
   ],
   "source": [
    "# 함수 이용\n",
    "a = np.array([np.mean(data), np.var(data,ddof=0), np.std(data), np.max(data), np.min(data), np.percentile(data,25), np.median(data), np.percentile(data,75)]).reshape(1,8)\n",
    "df_a = pd.DataFrame(a,\n",
    "                columns=['평균', '불편분산', '표준편차', '최대', '최소', '1분위수', '중앙값','3분위수'],\n",
    "                index=['해당 값'])\n",
    "df_a"
   ]
  },
  {
   "cell_type": "code",
   "execution_count": 4,
   "metadata": {},
   "outputs": [
    {
     "data": {
      "text/plain": [
       "'1.21.2'"
      ]
     },
     "execution_count": 4,
     "metadata": {},
     "output_type": "execute_result"
    }
   ],
   "source": [
    "# percentile 함수의 설명을 보기 위해 버전 확인..\n",
    "np.__version__"
   ]
  },
  {
   "cell_type": "markdown",
   "metadata": {},
   "source": [
    "- numpy percentile 함수의 인수들:\n",
    "https://numpy.org/doc/stable/reference/generated/numpy.percentile.html\n",
    "- 1.20버전:\n",
    "https://numpy.org/doc/1.20/reference/generated/numpy.percentile.html\n",
    "- 선형보간법:\n",
    "https://en.wikipedia.org/wiki/Linear_interpolation\n",
    "- 정리(i와 j 사이)\n",
    "    - linear: i + (j - i) * fraction (기본값)\n",
    "    - lower: i\n",
    "    - higher: j\n",
    "    - nearest: i or j whichever is nearest\n",
    "    - midpoint: (i + j) / 2"
   ]
  },
  {
   "cell_type": "code",
   "execution_count": 5,
   "metadata": {},
   "outputs": [
    {
     "data": {
      "text/plain": [
       "3.25"
      ]
     },
     "execution_count": 5,
     "metadata": {},
     "output_type": "execute_result"
    }
   ],
   "source": [
    "# 선형 보간법을 이용한 1분위수 (default)\n",
    "np.percentile(data,25,interpolation='linear')"
   ]
  },
  {
   "cell_type": "code",
   "execution_count": 6,
   "metadata": {},
   "outputs": [
    {
     "data": {
      "text/plain": [
       "3"
      ]
     },
     "execution_count": 6,
     "metadata": {},
     "output_type": "execute_result"
    }
   ],
   "source": [
    "# 최단입점 보간법을 이용한 1분위수\n",
    "np.percentile(data,25,interpolation='nearest')"
   ]
  },
  {
   "cell_type": "code",
   "execution_count": 7,
   "metadata": {},
   "outputs": [
    {
     "data": {
      "text/html": [
       "<div>\n",
       "<style scoped>\n",
       "    .dataframe tbody tr th:only-of-type {\n",
       "        vertical-align: middle;\n",
       "    }\n",
       "\n",
       "    .dataframe tbody tr th {\n",
       "        vertical-align: top;\n",
       "    }\n",
       "\n",
       "    .dataframe thead th {\n",
       "        text-align: right;\n",
       "    }\n",
       "</style>\n",
       "<table border=\"1\" class=\"dataframe\">\n",
       "  <thead>\n",
       "    <tr style=\"text-align: right;\">\n",
       "      <th></th>\n",
       "      <th>평균</th>\n",
       "      <th>불편분산</th>\n",
       "      <th>표준편차</th>\n",
       "      <th>최대</th>\n",
       "      <th>최소</th>\n",
       "      <th>1분위수</th>\n",
       "      <th>중앙값</th>\n",
       "      <th>3분위수</th>\n",
       "    </tr>\n",
       "  </thead>\n",
       "  <tbody>\n",
       "    <tr>\n",
       "      <th>해당 값</th>\n",
       "      <td>4.0</td>\n",
       "      <td>1.333333</td>\n",
       "      <td>1.095445</td>\n",
       "      <td>6</td>\n",
       "      <td>2</td>\n",
       "      <td>3.25</td>\n",
       "      <td>4.0</td>\n",
       "      <td>4.75</td>\n",
       "    </tr>\n",
       "  </tbody>\n",
       "</table>\n",
       "</div>"
      ],
      "text/plain": [
       "       평균      불편분산      표준편차  최대  최소  1분위수  중앙값  3분위수\n",
       "해당 값  4.0  1.333333  1.095445   6   2  3.25  4.0  4.75"
      ]
     },
     "execution_count": 7,
     "metadata": {},
     "output_type": "execute_result"
    }
   ],
   "source": [
    "# 함수 없이 직접 구하기 (인간적으로 sum이나 len 정도는 사용하였습니다...)\n",
    "import math\n",
    "b = np.zeros_like(a)\n",
    "df_b = pd.DataFrame(b,\n",
    "                columns=['평균', '불편분산', '표준편차', '최대', '최소', '1분위수', '중앙값','3분위수'],\n",
    "                index=['해당 값'])\n",
    "mu = np.sum(data)/len(data)\n",
    "df_b.평균 = np.sum(data)/len(data)\n",
    "df_b.불편분산 = np.sum((data-mu)**2)/(len(data)-1)\n",
    "df_b.표준편차 = np.sqrt(np.sum((data-mu)**2)/(len(data)))\n",
    "df_b.최대 = np.max(data) # 이것도 함수 없이 가능하다. for i in data: max = 0 ; if i > max: max = i 의 형태\n",
    "df_b.최소 = np.min(data)\n",
    "\n",
    "def medi(a): # 일반적으로 생각하는 중앙값 공식..\n",
    "    if len(a) % 2 ==0: return (a[len(a)//2-1]+a[len(a)//2])/2\n",
    "    else: return (a[len(a)//2])\n",
    "\n",
    "def perc(arr,q): # 분위수(선형보간법 이용) 계산\n",
    "    fraction = (len(arr)-1)*(q/100) - math.floor((len(arr)-1)*(q/100))\n",
    "    i = int((len(arr)-1)*(q/100) - fraction)\n",
    "    return arr[i] + (arr[i+1]-arr[i])*fraction\n",
    "\n",
    "df_b['1분위수'] = perc(data,25)\n",
    "df_b.중앙값 = medi(data)\n",
    "df_b['3분위수'] = perc(data,75)\n",
    "\n",
    "df_b"
   ]
  },
  {
   "cell_type": "code",
   "execution_count": 8,
   "metadata": {},
   "outputs": [
    {
     "data": {
      "text/plain": [
       "4.0"
      ]
     },
     "execution_count": 8,
     "metadata": {},
     "output_type": "execute_result"
    }
   ],
   "source": [
    "# 추가 - 선형보간법에서의 중앙값?\n",
    "perc(data,50)"
   ]
  }
 ],
 "metadata": {
  "hide_input": false,
  "interpreter": {
   "hash": "0fa0bfc769a09f9ea75b994ad03790573c27759d8fff7362c34846a89e02cecb"
  },
  "kernelspec": {
   "display_name": "Python 3 (ipykernel)",
   "language": "python",
   "name": "python3"
  },
  "language_info": {
   "codemirror_mode": {
    "name": "ipython",
    "version": 3
   },
   "file_extension": ".py",
   "mimetype": "text/x-python",
   "name": "python",
   "nbconvert_exporter": "python",
   "pygments_lexer": "ipython3",
   "version": "3.8.12"
  },
  "toc": {
   "base_numbering": 1,
   "nav_menu": {},
   "number_sections": false,
   "sideBar": true,
   "skip_h1_title": false,
   "title_cell": "Table of Contents",
   "title_sidebar": "Contents",
   "toc_cell": false,
   "toc_position": {},
   "toc_section_display": true,
   "toc_window_display": false
  },
  "varInspector": {
   "cols": {
    "lenName": "16",
    "lenType": "16",
    "lenVar": 40
   },
   "kernels_config": {
    "python": {
     "delete_cmd_postfix": "",
     "delete_cmd_prefix": "del ",
     "library": "var_list.py",
     "varRefreshCmd": "print(var_dic_list())"
    },
    "r": {
     "delete_cmd_postfix": ") ",
     "delete_cmd_prefix": "rm(",
     "library": "var_list.r",
     "varRefreshCmd": "cat(var_dic_list()) "
    }
   },
   "types_to_exclude": [
    "module",
    "function",
    "builtin_function_or_method",
    "instance",
    "_Feature"
   ],
   "window_display": false
  }
 },
 "nbformat": 4,
 "nbformat_minor": 2
}
