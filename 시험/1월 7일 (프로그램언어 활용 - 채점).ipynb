{
 "cells": [
  {
   "cell_type": "markdown",
   "metadata": {},
   "source": [
    "## 프로젝트 기반 AI 빅데이터 서비스 솔루션 개발 전문과정\n",
    "\n",
    "#### 교과목명 : 프로그래밍 언어 활용\n",
    "\n",
    "- 평가일 : 22.01.07\n",
    "- 성명 : 김기현\n",
    "- 점수 :\n",
    "\n",
    "※ 문제당 5점으로 채점"
   ]
  },
  {
   "cell_type": "markdown",
   "metadata": {},
   "source": [
    "#### 1. numbers 리스트에서 15, 20, 25를 출력하세요.(for문과 if 조건 사용 필수)  \n",
    "numbers = [5, 15, 6, 20, 7, 25]"
   ]
  },
  {
   "cell_type": "markdown",
   "metadata": {},
   "source": [
    "## 정답"
   ]
  },
  {
   "cell_type": "code",
   "execution_count": 72,
   "metadata": {},
   "outputs": [
    {
     "name": "stdout",
     "output_type": "stream",
     "text": [
      "[5, 15, 6]\n"
     ]
    }
   ],
   "source": [
    "numbers = [5, 15, 6, 20, 7, 25]\n",
    "\n",
    "for i in numbers:\n",
    "    if i>=15 and i%5 == 0:\n",
    "        print(i)\n",
    "        \n",
    "for j in numbers:\n",
    "    if j < 15:\n",
    "        continue\n",
    "    print(j)"
   ]
  },
  {
   "cell_type": "markdown",
   "metadata": {},
   "source": [
    "#### 2. 아래 사용자 함수, 변수 리스트 및 2개의 내장함수를 각각 이용해서  [1, 4, 9, 16, 25], [1, 2]를 출력하세요.(내장함수 2개 사용 필수) "
   ]
  },
  {
   "cell_type": "markdown",
   "metadata": {},
   "source": [
    "## 오답"
   ]
  },
  {
   "cell_type": "code",
   "execution_count": 74,
   "metadata": {},
   "outputs": [
    {
     "name": "stdout",
     "output_type": "stream",
     "text": [
      "['1', '2', '3', '4', '5']\n",
      "[1, 4, 9, 16, 25]\n",
      "[1, 2]\n"
     ]
    }
   ],
   "source": [
    "# 함수를 선언합니다.\n",
    "def power(x):\n",
    "    return x * x\n",
    "def under_3(item):\n",
    "    return item < 3\n",
    "\n",
    "# 변수를 선언합니다.\n",
    "list_input_a = [1, 2, 3, 4, 5]\n",
    "list3 = list(map(str, list_input_a))\n",
    "print(list3)\n",
    "\n",
    "a = list(map(power, list_input_a))    \n",
    "print(a)\n",
    "b = list(filter(under_3, list_input_a))\n",
    "print(b)"
   ]
  },
  {
   "cell_type": "markdown",
   "metadata": {},
   "source": [
    "#### 3. 정수를 입력하면 짝수 홀수 여부를 반환해주는 프로그램을 작성하세요.(정수 입력 후 '짝수', '홀수'가 일치하게 출력) "
   ]
  },
  {
   "cell_type": "markdown",
   "metadata": {},
   "source": [
    "## 정답"
   ]
  },
  {
   "cell_type": "code",
   "execution_count": 11,
   "metadata": {},
   "outputs": [
    {
     "name": "stdout",
     "output_type": "stream",
     "text": [
      "정수를 입력하세요 : 0\n",
      "짝수 입니다.\n"
     ]
    }
   ],
   "source": [
    "\n",
    "\n",
    "try:\n",
    "    num = int(input('정수를 입력하세요 : '))\n",
    "    if num % 2 == 0:\n",
    "        print('짝수 입니다.')\n",
    "    elif num % 2 == 1:\n",
    "        print('홀수 입니다.')\n",
    "\n",
    "except:\n",
    "    print('정수를 입력하세요')\n",
    "    "
   ]
  },
  {
   "cell_type": "markdown",
   "metadata": {},
   "source": [
    "#### 4. 람다 함수를 이용해서 a의 b제곱에서 a x b를 뺀 수를 구하는 식을 만들고 그 식을 이용해서  a, b가 아래와 같이 주어졌을 때 각각의 값을 구하세요. \n",
    "a = 2, b = 5 \\\n",
    "a= 5, b = 2"
   ]
  },
  {
   "cell_type": "markdown",
   "metadata": {},
   "source": [
    "## 정답"
   ]
  },
  {
   "cell_type": "code",
   "execution_count": 23,
   "metadata": {},
   "outputs": [
    {
     "name": "stdout",
     "output_type": "stream",
     "text": [
      "22\n",
      "15\n"
     ]
    }
   ],
   "source": [
    "cal = lambda a, b: (a**b) - a*b\n",
    "\n",
    "print(cal(2, 5))\n",
    "print(cal(5, 2))"
   ]
  },
  {
   "cell_type": "markdown",
   "metadata": {},
   "source": [
    "#### 5. 123456789를 입력하면 천 단위로 콤마로 구분하여 출력하세요."
   ]
  },
  {
   "cell_type": "markdown",
   "metadata": {},
   "source": [
    "## 오답"
   ]
  },
  {
   "cell_type": "code",
   "execution_count": 3,
   "metadata": {},
   "outputs": [
    {
     "name": "stdout",
     "output_type": "stream",
     "text": [
      "1234561561\n",
      "1 1\n",
      "2 6\n",
      "3 5\n",
      "4 1\n",
      "5 6\n",
      "6 5\n",
      "7 4\n",
      "8 3\n",
      "9 2\n",
      "10 1\n",
      "\n",
      "1,234,561,561\n"
     ]
    }
   ],
   "source": [
    "num = input()\n",
    "# print(len(num))\n",
    "if num.isdigit():\n",
    "    num = num[::-1]\n",
    "    ret = ''\n",
    "    for i, c in enumerate(num):\n",
    "        i += 1\n",
    "        print(i, c)\n",
    "        if i != len(num) and i % 3 == 0:\n",
    "            ret += (c + ',')\n",
    "        else:\n",
    "            ret += c\n",
    "    ret = ret[::-1]\n",
    "    print()\n",
    "    print(ret)\n",
    "else:\n",
    "    print(f'입력한 내용 {num} : 숫자가 아닙니다.')\n",
    "    \n",
    "# a = ('1' + ',')\n",
    "# print(a)"
   ]
  },
  {
   "cell_type": "markdown",
   "metadata": {},
   "source": [
    "#### 6. example_list = [\"요소A\", \"요소B\", \"요소C\"]를 파이썬 내장함수를 이용하여 아래와 같이 출력하세요. \n",
    "0번째 요소는 요소A입니다.\\\n",
    "1번째 요소는 요소B입니다.\\\n",
    "2번째 요소는 요소C입니다."
   ]
  },
  {
   "cell_type": "markdown",
   "metadata": {},
   "source": [
    "## 정답"
   ]
  },
  {
   "cell_type": "code",
   "execution_count": 52,
   "metadata": {},
   "outputs": [
    {
     "name": "stdout",
     "output_type": "stream",
     "text": [
      "0번째 요소는 요소A입니다.\n",
      "1번째 요소는 요소B입니다.\n",
      "2번째 요소는 요소C입니다.\n"
     ]
    }
   ],
   "source": [
    "example_list = [\"요소A\", \"요소B\", \"요소C\"]\n",
    "\n",
    "for i, value in enumerate(example_list):\n",
    "    print(f'{i}번째 요소는 {value}입니다.')\n",
    "    \n",
    "    \n",
    "# a = dict(enumerate(example_list))\n",
    "# print(a)\n",
    "\n"
   ]
  },
  {
   "cell_type": "markdown",
   "metadata": {},
   "source": [
    "#### 7. 97을 40으로 나눈 몫과 나머지를 내장함수를 이용하여 구하세요.(튜플로 출력 필수) "
   ]
  },
  {
   "cell_type": "markdown",
   "metadata": {},
   "source": [
    "## 오답"
   ]
  },
  {
   "cell_type": "code",
   "execution_count": 1,
   "metadata": {},
   "outputs": [
    {
     "name": "stdout",
     "output_type": "stream",
     "text": [
      "(2, 17)\n"
     ]
    },
    {
     "data": {
      "text/plain": [
       "(2, 17)"
      ]
     },
     "execution_count": 1,
     "metadata": {},
     "output_type": "execute_result"
    }
   ],
   "source": [
    "def div(a, b):\n",
    "    c = (a // b, a % b)\n",
    "    print(c)\n",
    "\n",
    "div(97, 40)\n",
    "\n",
    "divmod(97, 40)\n",
    "    "
   ]
  },
  {
   "cell_type": "markdown",
   "metadata": {},
   "source": [
    "#### 8. list_number = [52, 273, 32, 72, 100]로 변수 선언하고 정수를 입력하면 그 정수 인덱스와 리스트에서 해당하는 값을 출력하는 프로그램을 작성하세요. 단, 모든 예외처리를 수행하며 특히 ValueError와 IndexError는 별도 구분해서 예외처리 한 후 '예외처리 완료'를 마지막으로 출력하세요.\n",
    "\n",
    "- 4 입력시 \\\n",
    "정수 입력> 4 \\\n",
    "4번째 요소: 100\n",
    "예외 처리 완료\n",
    "\n",
    "- 문자 입력시 \\\n",
    "정수 입력> 가 \\\n",
    "정수를 입력해 주세요!\n",
    "예외 처리 완료\n",
    "\n",
    "- 5 입력시 \\\n",
    "정수 입력> 5 \\\n",
    "리스트의 인덱스를 벗어났어요!\n",
    "예외 처리 완료"
   ]
  },
  {
   "cell_type": "markdown",
   "metadata": {},
   "source": [
    "## 오답"
   ]
  },
  {
   "cell_type": "code",
   "execution_count": 24,
   "metadata": {},
   "outputs": [
    {
     "name": "stdout",
     "output_type": "stream",
     "text": [
      "입력해주세요 : 0\n",
      "0번째 요소 : 52\n",
      "예외 처리 완료\n"
     ]
    }
   ],
   "source": [
    "list_number = [52, 273, 32, 72, 100]\n",
    "\n",
    "\n",
    "\n",
    "try:\n",
    "    put = input('입력해주세요 : ')\n",
    "    print(f'{int(put)}번째 요소 : {list_number[int(put)]}')\n",
    "\n",
    "except ValueError:\n",
    "    print('정수를 입력해 주세요!')\n",
    "    \n",
    "except IndexError:\n",
    "    print('인데스를 벗어났어요!')\n",
    "\n",
    "finally:\n",
    "    print('예외 처리 완료')\n",
    "    \n",
    "    "
   ]
  },
  {
   "cell_type": "markdown",
   "metadata": {},
   "source": [
    "#### 9. 사용자로부터 서로 다른 숫자 두 개를 입력받고 첫 번째 와 두 번째중 큰 숫자를 구하는 프로그램을 수행하세요."
   ]
  },
  {
   "cell_type": "markdown",
   "metadata": {},
   "source": [
    "## 정답"
   ]
  },
  {
   "cell_type": "code",
   "execution_count": 94,
   "metadata": {},
   "outputs": [
    {
     "name": "stdout",
     "output_type": "stream",
     "text": [
      "첫번째 숫자 : s\n",
      "두번째 숫자 : a\n",
      "s\n"
     ]
    }
   ],
   "source": [
    "a = input('첫번째 숫자 : ')\n",
    "b = input('두번째 숫자 : ')\n",
    "\n",
    "relat = [a, b]\n",
    "relat.sort()\n",
    "\n",
    "print(f'{relat[1]}')\n",
    "\n",
    "\n",
    "\n",
    "# a = input('첫번째 숫자 : ')\n",
    "# b = input('두번째 숫자 : ')\n",
    "\n",
    "# a = int(a)\n",
    "# b = int(b)\n",
    "\n",
    "# if a > b:\n",
    "#     print(a)\n",
    "# else:\n",
    "#     print(b)"
   ]
  },
  {
   "cell_type": "markdown",
   "metadata": {},
   "source": [
    "#### 10. 1부터 100까지 아래와 같은 방식으로 2개의 수를 곱해서 가장 큰 수를 구하세요.\n",
    "\n",
    " 1 * 99 ...99 * 1"
   ]
  },
  {
   "cell_type": "markdown",
   "metadata": {},
   "source": [
    "## 정답"
   ]
  },
  {
   "cell_type": "code",
   "execution_count": 1,
   "metadata": {},
   "outputs": [
    {
     "name": "stdout",
     "output_type": "stream",
     "text": [
      "2500\n"
     ]
    }
   ],
   "source": [
    "num = range(1, 100)\n",
    "\n",
    "max_ = []\n",
    "for i in num:\n",
    "    mul = i * (100 - i)\n",
    "    max_.append(mul)\n",
    "    \n",
    "max_.sort()\n",
    "max_.reverse()\n",
    "print(f'{max_[0]}')\n",
    "\n",
    "\n",
    "# max_ = 0\n",
    "# for i in num:\n",
    "#     current = i * (100-i)\n",
    "#     if max_ < current:\n",
    "#         max_ = current\n",
    "#         print(i)\n",
    "#         print(max_)\n",
    "#         print(current)\n",
    "        "
   ]
  },
  {
   "cell_type": "markdown",
   "metadata": {},
   "source": [
    "#### 11. 정규표현식을 사용하여 text에서 지역코드만 출력하세요.\n",
    "text = \"문의사항이 있으면 032-232-3245 으로 연락주시기 바랍니다.\""
   ]
  },
  {
   "cell_type": "markdown",
   "metadata": {},
   "source": [
    "## 정답"
   ]
  },
  {
   "cell_type": "code",
   "execution_count": 15,
   "metadata": {},
   "outputs": [
    {
     "name": "stdout",
     "output_type": "stream",
     "text": [
      "032\n"
     ]
    }
   ],
   "source": [
    "import re\n",
    "\n",
    "text = '문의사항이 있으면 032-232-3245으로 연락주시기 바랍니다.'\n",
    "\n",
    "p = re.compile('[\\d]+')\n",
    "local = p.search(text)\n",
    "print(local.group())"
   ]
  },
  {
   "cell_type": "markdown",
   "metadata": {},
   "source": [
    "#### 12. 'abcdefghij' 에 대하여 중첩을 적용한 서브그룹 5개로 컴파일하여 group()함수를 이용하여 'abcdefghi'와 e'를 출력하세요"
   ]
  },
  {
   "cell_type": "markdown",
   "metadata": {},
   "source": [
    "## 정답"
   ]
  },
  {
   "cell_type": "code",
   "execution_count": 12,
   "metadata": {},
   "outputs": [
    {
     "name": "stdout",
     "output_type": "stream",
     "text": [
      "abcdefghi\n",
      "c\n",
      "defg\n",
      "e\n",
      "hi\n"
     ]
    }
   ],
   "source": [
    "import re\n",
    "\n",
    "line = 'abcdefghi'\n",
    "\n",
    "a = re.compile('(ab(c)(d(e)fg)(hi))')\n",
    "b = a.search('abcdefghi')\n",
    "\n",
    "print(b.group(1))\n",
    "print(b.group(2))\n",
    "print(b.group(3))\n",
    "print(b.group(4))\n",
    "print(b.group(5))"
   ]
  },
  {
   "cell_type": "markdown",
   "metadata": {},
   "source": [
    "#### 13. [0, 1, 2, 3, 4, 5, 6, 7, 8, 9, 'a', 'b', 'c']에서 9와 'a'를 삭제 후 리스트로 출력하세요"
   ]
  },
  {
   "cell_type": "markdown",
   "metadata": {},
   "source": [
    "## 정답"
   ]
  },
  {
   "cell_type": "code",
   "execution_count": 28,
   "metadata": {},
   "outputs": [
    {
     "name": "stdout",
     "output_type": "stream",
     "text": [
      "[0, 1, 2, 3, 4, 5, 6, 7, 8, 'b', 'c']\n"
     ]
    }
   ],
   "source": [
    "list_1 = [0, 1, 2, 3, 4, 5, 6, 7, 8, 9, 'a', 'b', 'c']\n",
    "del list_1[9:11]\n",
    "\n",
    "\n",
    "print(list_1)\n"
   ]
  },
  {
   "cell_type": "markdown",
   "metadata": {},
   "source": [
    "#### 14. 500 ~ 1000사이의 정수 중 5와 7의 공배수의 합을 구하세요"
   ]
  },
  {
   "cell_type": "markdown",
   "metadata": {},
   "source": [
    "## 정답"
   ]
  },
  {
   "cell_type": "code",
   "execution_count": 52,
   "metadata": {},
   "outputs": [
    {
     "data": {
      "text/plain": [
       "10535"
      ]
     },
     "execution_count": 52,
     "metadata": {},
     "output_type": "execute_result"
    }
   ],
   "source": [
    "a = range(500, 1001)\n",
    "\n",
    "b = [i for i in a if i % 35 == 0]\n",
    "\n",
    "# for i in a:\n",
    "#     if i % 35 == 0:\n",
    "#         b.append(i)\n",
    "\n",
    "sum(b)"
   ]
  },
  {
   "cell_type": "markdown",
   "metadata": {},
   "source": [
    "#### 15. [    ]을 채워서 아래와 같이 출력하세요."
   ]
  },
  {
   "cell_type": "markdown",
   "metadata": {},
   "source": [
    "## 오답"
   ]
  },
  {
   "cell_type": "code",
   "execution_count": 88,
   "metadata": {},
   "outputs": [
    {
     "name": "stdout",
     "output_type": "stream",
     "text": [
      "[[1, 4, 7], [2, 5, 8], [3, 6, 9]]\n"
     ]
    }
   ],
   "source": [
    "numbers = [1,2,3,4,5,6,7,8,9]\n",
    "# output = [[1, 4, 7], [2, 5, 8], [3, 6, 9]]\n",
    "output = [[], [], []]\n",
    "for number in numbers:\n",
    "    cal = (number + 2) % 3\n",
    "    output[cal].append(number)\n",
    "\n",
    "# print(*output)\n",
    "print(output)\n",
    "\n",
    "# newoutput = list(map(list, zip(*output)))\n",
    "# print(newoutput)\n",
    "# # print(output)"
   ]
  },
  {
   "cell_type": "markdown",
   "metadata": {},
   "source": [
    "####  16. numbers 내부에 들어 있는 숫자가 몇 번 등장하는지를 출력하는 코드를 작성하세요.\n",
    "numbers = [3,6,3,5,8,2,9,7,4,3,6,3,5,8,2,9,7,4]"
   ]
  },
  {
   "cell_type": "markdown",
   "metadata": {},
   "source": [
    "## 오답"
   ]
  },
  {
   "cell_type": "code",
   "execution_count": 63,
   "metadata": {},
   "outputs": [
    {
     "name": "stdout",
     "output_type": "stream",
     "text": [
      "{2: 2, 3: 4, 4: 2, 5: 2, 6: 2, 7: 2, 8: 2, 9: 2}\n"
     ]
    }
   ],
   "source": [
    "numbers = [3,6,3,5,8,2,9,7,4,3,6,3,5,8,2,9,7,4]\n",
    "numbers.sort()\n",
    "\n",
    "counter = {}\n",
    "for i in numbers:\n",
    "    if i in counter:\n",
    "        counter[i] = counter[i] + 1\n",
    "\n",
    "    else:\n",
    "        counter[i] = 1\n",
    "\n",
    "print(counter)"
   ]
  },
  {
   "cell_type": "code",
   "execution_count": 89,
   "metadata": {},
   "outputs": [
    {
     "ename": "IndexError",
     "evalue": "list assignment index out of range",
     "output_type": "error",
     "traceback": [
      "\u001b[1;31m---------------------------------------------------------------------------\u001b[0m",
      "\u001b[1;31mIndexError\u001b[0m                                Traceback (most recent call last)",
      "\u001b[1;32m~\\AppData\\Local\\Temp/ipykernel_872/1386649040.py\u001b[0m in \u001b[0;36m<module>\u001b[1;34m\u001b[0m\n\u001b[0;32m      8\u001b[0m \u001b[1;33m\u001b[0m\u001b[0m\n\u001b[0;32m      9\u001b[0m     \u001b[1;32melse\u001b[0m\u001b[1;33m:\u001b[0m\u001b[1;33m\u001b[0m\u001b[1;33m\u001b[0m\u001b[0m\n\u001b[1;32m---> 10\u001b[1;33m         \u001b[0mcounter\u001b[0m\u001b[1;33m[\u001b[0m\u001b[0mi\u001b[0m\u001b[1;33m]\u001b[0m \u001b[1;33m=\u001b[0m \u001b[1;36m1\u001b[0m\u001b[1;33m\u001b[0m\u001b[1;33m\u001b[0m\u001b[0m\n\u001b[0m\u001b[0;32m     11\u001b[0m \u001b[1;33m\u001b[0m\u001b[0m\n\u001b[0;32m     12\u001b[0m     \u001b[0mprint\u001b[0m\u001b[1;33m(\u001b[0m\u001b[0mi\u001b[0m\u001b[1;33m)\u001b[0m\u001b[1;33m\u001b[0m\u001b[1;33m\u001b[0m\u001b[0m\n",
      "\u001b[1;31mIndexError\u001b[0m: list assignment index out of range"
     ]
    }
   ],
   "source": [
    "numbers = [3,6,3,5,8,2,9,7,4,3,6,3,5,8,2,9,7,4]\n",
    "numbers.sort()\n",
    "\n",
    "counter = []\n",
    "for i in numbers:\n",
    "    if i in counter:\n",
    "        counter[i] = counter[i] + 1\n",
    "\n",
    "    else:\n",
    "        counter[i] = 1\n",
    "    \n",
    "    print(i)\n",
    "    print(counter[i])\n",
    "    print()\n",
    "print(counter)"
   ]
  },
  {
   "cell_type": "markdown",
   "metadata": {},
   "source": [
    "#### 17. 클래스 Country를 완성하여 아래와 같이 출력하세요."
   ]
  },
  {
   "cell_type": "markdown",
   "metadata": {},
   "source": [
    "## 오답"
   ]
  },
  {
   "cell_type": "markdown",
   "metadata": {},
   "source": [
    "한국의 인구는 5천만명이며 수도는 서울입니다.\n",
    "1인당 gnp는 USD 3만입니다."
   ]
  },
  {
   "cell_type": "code",
   "execution_count": 9,
   "metadata": {},
   "outputs": [
    {
     "name": "stdout",
     "output_type": "stream",
     "text": [
      "한국의 인구는 5천만명이며 수도는 서울입니다.\n",
      "1인당 gnp는 USD 3만입니다.\n"
     ]
    }
   ],
   "source": [
    "class Country:\n",
    "    def __init__(self, country, pop, city):\n",
    "        self.country = country\n",
    "        self.pop = pop\n",
    "        self.city = city\n",
    "        \n",
    "    def desc(self):\n",
    "        print('%s의 인구는 %d천만명이며 수도는 %s입니다.' %(self.country, self.pop, self.city))\n",
    "\n",
    "\n",
    "class Korea(Country):    \n",
    "    def desc1(self, gnp):\n",
    "        self.gnp = gnp\n",
    "        print('1인당 gnp는 USD %d만입니다.' %self.gnp)\n",
    "        \n",
    "obj = Korea('한국',5,'서울')\n",
    "obj.desc()\n",
    "obj.desc1(3)"
   ]
  },
  {
   "cell_type": "markdown",
   "metadata": {},
   "source": [
    "#### 18. 사칙연산을 수행하는  클래스를 작성하여 객체를 만들고 2개의 정수 10, 5를 입력한 후 연산 결과를  포멧을 이용하여 출력하세요."
   ]
  },
  {
   "cell_type": "markdown",
   "metadata": {},
   "source": [
    "## 오답"
   ]
  },
  {
   "cell_type": "code",
   "execution_count": 81,
   "metadata": {},
   "outputs": [
    {
     "name": "stdout",
     "output_type": "stream",
     "text": [
      "숫자 1 : 1\n",
      "숫자 2 : 5\n",
      "\n",
      "a + b = 6\n",
      "a - b = 0\n",
      "a * b = 5\n",
      "a / b = 0.2\n"
     ]
    }
   ],
   "source": [
    "\n",
    "\n",
    "class Cal4:\n",
    "    def __init__(self, a, b):\n",
    "        self.a = a\n",
    "        self.b = b\n",
    "        \n",
    "    def sum1(self):\n",
    "        return self.a + self.b\n",
    "        \n",
    "    def sub1(self):\n",
    "        return self.b - self.b\n",
    "        \n",
    "    def mul(self):\n",
    "        return self.a * self.b\n",
    "        \n",
    "    def div(self):\n",
    "        return self.a / self.b\n",
    "        \n",
    "a = int(input('숫자 1 : '))\n",
    "b = int(input('숫자 2 : '))\n",
    "\n",
    "obs = Cal4(a, b)\n",
    "\n",
    "print(f'\\na + b = {obs.sum1()}\\na - b = {obs.sub1()}\\na * b = {obs.mul()}\\na / b = {obs.div()}')\n"
   ]
  },
  {
   "cell_type": "markdown",
   "metadata": {},
   "source": [
    "#### 19. 올해 경과된 날짜수를 계산하여 출력하세요."
   ]
  },
  {
   "cell_type": "markdown",
   "metadata": {},
   "source": [
    "## 오답"
   ]
  },
  {
   "cell_type": "code",
   "execution_count": 94,
   "metadata": {},
   "outputs": [
    {
     "name": "stdout",
     "output_type": "stream",
     "text": [
      "time.struct_time(tm_year=2022, tm_mon=1, tm_mday=9, tm_hour=16, tm_min=12, tm_sec=28, tm_wday=6, tm_yday=9, tm_isdst=0)\n",
      "오늘은 2022-01-01이후 9일째 되는 날입니다.\n"
     ]
    }
   ],
   "source": [
    "import time\n",
    "\n",
    "t = time.localtime()\n",
    "print(t)\n",
    "start_day = (f'{t.tm_year}-01-01')\n",
    "print(f'오늘은 {start_day}이후 {t.tm_yday}일째 되는 날입니다.')\n",
    "# start_day = f'{t.tm_year}"
   ]
  },
  {
   "cell_type": "markdown",
   "metadata": {},
   "source": [
    "#### 20. 2015년 인기순 상위5개 여아이름별 출생아수를 출력하세요.('data/names/yob2015.txt')"
   ]
  },
  {
   "cell_type": "markdown",
   "metadata": {},
   "source": [
    "## 오답"
   ]
  },
  {
   "cell_type": "code",
   "execution_count": 92,
   "metadata": {},
   "outputs": [
    {
     "name": "stdout",
     "output_type": "stream",
     "text": [
      "Top1 여자아이이름 : Emma / 출생 수 : 20463\n",
      "Top2 여자아이이름 : Olivia / 출생 수 : 19705\n",
      "Top3 여자아이이름 : Sophia / 출생 수 : 17430\n",
      "Top4 여자아이이름 : Ava / 출생 수 : 16383\n",
      "Top5 여자아이이름 : Isabella / 출생 수 : 15633\n"
     ]
    }
   ],
   "source": [
    "# list 형태로 풀기\n",
    "\n",
    "file = 'D:/python/cakd5/m1_programming/data/names/yob2015.txt'\n",
    "\n",
    "name_f = []\n",
    "\n",
    "with open(file, 'r') as f:\n",
    "    data = f.readlines()\n",
    "#     print(data)\n",
    "    for d in data:\n",
    "#         print(d)\n",
    "        if d[-1] == '\\n':\n",
    "            d = d[:-1]\n",
    "#             print(d)\n",
    "            \n",
    "        tmp = d.split(',')\n",
    "#         print(tmp)\n",
    "        name = tmp[0]\n",
    "        sex = tmp[1]\n",
    "        birth = int(tmp[2])\n",
    "        if tmp[1] == 'F':\n",
    "            name_f.append([name, sex, birth])\n",
    "            \n",
    "        \n",
    "retF = sorted(name_f, key = lambda x: x[2], reverse = 1)\n",
    "for i in range(5):\n",
    "    print(f'Top{i+1} 여자아이이름 : {retF[i][0]} / 출생 수 : {retF[i][2]}')\n",
    "        \n",
    "\n",
    "        #         if sex == 'F':\n",
    "#             ret = name_f\n",
    "#         else:\n",
    "#             ret = name_m\n",
    "        \n",
    "#         if name in ret:\n",
    "#             ret[name] += int(birth)\n",
    "#         else:\n",
    "#             ret[name] = int(birth)\n",
    "# #         print(name_f)\n",
    "            \n",
    "# retF = sorted(name_f.items(), key = lambda x: x[1], reverse = True)\n",
    "# # print(retF)\n",
    "# for i, name_birth in enumerate(retF):\n",
    "# #     print(i)\n",
    "# #     print(name)\n",
    "#     if i <= 4:\n",
    "#         print(f'Top{i+1} 여자아기이름 : {name_birth[0]} / 출생 수 : {name_birth[1]}')\n",
    "            "
   ]
  },
  {
   "cell_type": "code",
   "execution_count": 59,
   "metadata": {},
   "outputs": [
    {
     "name": "stdout",
     "output_type": "stream",
     "text": [
      "Top1 여자아기이름 : Emma / 출생 수 : 20463\n",
      "Top2 여자아기이름 : Olivia / 출생 수 : 19705\n",
      "Top3 여자아기이름 : Sophia / 출생 수 : 17430\n",
      "Top4 여자아기이름 : Ava / 출생 수 : 16383\n",
      "Top5 여자아기이름 : Isabella / 출생 수 : 15633\n"
     ]
    }
   ],
   "source": [
    "# dict 형태로 풀기\n",
    "file = 'D:/python/cakd5/m1_programming/data/names/yob2015.txt'\n",
    "\n",
    "name_f = {}\n",
    "name_m = {}\n",
    "\n",
    "with open(file, 'r') as f:\n",
    "    data = f.readlines()\n",
    "#     print(data)\n",
    "    for d in data:\n",
    "#         print(d)\n",
    "        if d[-1] == '\\n':\n",
    "            d = d[:-1]\n",
    "#             print(d)\n",
    "            \n",
    "        tmp = d.split(',')\n",
    "#         print(tmp)\n",
    "        name = tmp[0]\n",
    "        sex = tmp[1]\n",
    "        birth = int(tmp[2])\n",
    "\n",
    "        if sex == 'F':\n",
    "            ret = name_f\n",
    "        else:\n",
    "            ret = name_m\n",
    "        \n",
    "        if name in ret:\n",
    "            ret[name] += int(birth)\n",
    "        else:\n",
    "            ret[name] = int(birth)\n",
    "#         print(name_f)\n",
    "            \n",
    "retF = sorted(name_f.items(), key = lambda x: x[1], reverse = True)\n",
    "# print(retF)\n",
    "for i, name_birth in enumerate(retF):\n",
    "#     print(i)\n",
    "#     print(name)\n",
    "    if i <= 4:\n",
    "        print(f'Top{i+1} 여자아기이름 : {name_birth[0]} / 출생 수 : {name_birth[1]}')"
   ]
  },
  {
   "cell_type": "code",
   "execution_count": 23,
   "metadata": {},
   "outputs": [
    {
     "name": "stdout",
     "output_type": "stream",
     "text": [
      "['BlockDMask', 'python', 'example', 'happy new year']\n",
      "\n",
      "BlockDMask.\n",
      "python.\n",
      "example.\n",
      "happy new year\n",
      "['BlockDMask', 'python', 'example', 'happy new year']\n"
     ]
    }
   ],
   "source": [
    "# 원본 리스트\n",
    "a = ['BlockDMask', 'python', 'example', 'happy new year']\n",
    "print(a)\n",
    "print()\n",
    " \n",
    "# 리스트를 문자열로 합치기\n",
    "result = \".\\n\".join(a)\n",
    "result2 = result.split('.\\n')\n",
    "\n",
    "print(result)\n",
    "print(result2)"
   ]
  }
 ],
 "metadata": {
  "kernelspec": {
   "display_name": "Python 3 (ipykernel)",
   "language": "python",
   "name": "python3"
  },
  "language_info": {
   "codemirror_mode": {
    "name": "ipython",
    "version": 3
   },
   "file_extension": ".py",
   "mimetype": "text/x-python",
   "name": "python",
   "nbconvert_exporter": "python",
   "pygments_lexer": "ipython3",
   "version": "3.8.12"
  }
 },
 "nbformat": 4,
 "nbformat_minor": 2
}
