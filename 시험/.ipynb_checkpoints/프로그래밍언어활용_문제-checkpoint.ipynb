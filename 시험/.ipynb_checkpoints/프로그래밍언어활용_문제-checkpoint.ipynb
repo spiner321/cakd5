{
 "cells": [
  {
   "cell_type": "markdown",
   "metadata": {},
   "source": [
    "## 프로젝트 기반 AI 빅데이터 서비스 솔루션 개발 전문과정\n",
    "\n",
    "#### 교과목명 : 프로그래밍 언어 활용\n",
    "\n",
    "- 평가일 : 22.01.07\n",
    "- 성명 : 김기현\n",
    "- 점수 : 95\n",
    "\n",
    "※ 문제당 5점으로 채점"
   ]
  },
  {
   "cell_type": "markdown",
   "metadata": {},
   "source": [
    "#### 1. numbers 리스트에서 15, 20, 25를 출력하세요.(for문과 if 조건 사용 필수)  \n",
    "numbers = [5, 15, 6, 20, 7, 25]"
   ]
  },
  {
   "cell_type": "code",
   "execution_count": 22,
   "metadata": {},
   "outputs": [
    {
     "name": "stdout",
     "output_type": "stream",
     "text": [
      "15\n",
      "20\n",
      "25\n"
     ]
    }
   ],
   "source": [
    "numbers = [5, 15, 6, 20, 7, 25]\n",
    "\n",
    "for i in numbers:\n",
    "    if i >= 15:\n",
    "        print(i)"
   ]
  },
  {
   "cell_type": "markdown",
   "metadata": {},
   "source": [
    "#### 2. 아래 사용자 함수, 변수 리스트 및 2개의 내장함수를 각각 이용해서  [1, 4, 9, 16, 25], [1, 2]를 출력하세요.(내장함수 2개 사용 필수) "
   ]
  },
  {
   "cell_type": "code",
   "execution_count": 27,
   "metadata": {},
   "outputs": [
    {
     "name": "stdout",
     "output_type": "stream",
     "text": [
      "[1, 4, 9, 16, 25]\n",
      "[1, 2]\n"
     ]
    }
   ],
   "source": [
    "# 함수를 선언합니다.\n",
    "def power(item):\n",
    "    return item * item\n",
    "def under_3(item):\n",
    "    return item < 3\n",
    "\n",
    "# 변수를 선언합니다.\n",
    "list_input_a = [1, 2, 3, 4, 5]\n",
    "\n",
    "list_power = print(list(map(power, list_input_a)))\n",
    "list_under_3 = print(list(filter(under_3, list_input_a)))"
   ]
  },
  {
   "cell_type": "markdown",
   "metadata": {},
   "source": [
    "#### 3. 정수를 입력하면 짝수 홀수 여부를 반환해주는 프로그램을 작성하세요.(정수 입력 후 '짝수', '홀수'가 일치하게 출력) "
   ]
  },
  {
   "cell_type": "code",
   "execution_count": null,
   "metadata": {},
   "outputs": [
    {
     "name": "stdout",
     "output_type": "stream",
     "text": [
      "입력 : 4\n",
      "짝수\n",
      "입력 : 5\n",
      "홀수\n",
      "입력 : 1\n",
      "홀수\n",
      "입력 : 3\n",
      "홀수\n",
      "입력 : -2\n",
      "짝수\n",
      "입력 : 0\n",
      "짝수\n"
     ]
    }
   ],
   "source": [
    "while 1:\n",
    "    num = int(input('입력 : '))\n",
    "    \n",
    "    if num % 2 == 0:\n",
    "        print('짝수')\n",
    "        \n",
    "    else:\n",
    "        print('홀수')"
   ]
  },
  {
   "cell_type": "code",
   "execution_count": null,
   "metadata": {},
   "outputs": [],
   "source": []
  },
  {
   "cell_type": "markdown",
   "metadata": {},
   "source": [
    "#### 4. 람다 함수를 이용해서 a의 b제곱에서 a x b를 뺀 수를 구하는 식을 만들고 그 식을 이용해서  a, b가 아래와 같이 주어졌을 때 각각의 값을 구하세요. \n",
    "a = 2, b = 5 \\\n",
    "a= 5, b = 2"
   ]
  },
  {
   "cell_type": "code",
   "execution_count": null,
   "metadata": {},
   "outputs": [],
   "source": []
  },
  {
   "cell_type": "code",
   "execution_count": 5,
   "metadata": {},
   "outputs": [
    {
     "name": "stdout",
     "output_type": "stream",
     "text": [
      "22\n",
      "15\n"
     ]
    }
   ],
   "source": [
    "# a = float(input('a = '))\n",
    "# b = float(input('b = '))\n",
    "\n",
    "num = lambda a, b: a ** b - a * b\n",
    "print(num(2, 5))\n",
    "print(num(5, 2))"
   ]
  },
  {
   "cell_type": "markdown",
   "metadata": {},
   "source": [
    "#### 5. 123456789를 입력하면 천 단위로 콤마로 구분하여 출력하세요."
   ]
  },
  {
   "cell_type": "code",
   "execution_count": 8,
   "metadata": {},
   "outputs": [
    {
     "name": "stdout",
     "output_type": "stream",
     "text": [
      "숫자를 입력하세요 : 123456789\n",
      "123,456,789\n"
     ]
    }
   ],
   "source": [
    "num = input('숫자를 입력하세요 : ')\n",
    "\n",
    "num_comm = ''\n",
    "num_r = num[::-1]\n",
    "for i, j in enumerate(num_r):\n",
    "    i += 1\n",
    "    if i != len(num) and i % 3 == 0:\n",
    "        j = j + ','\n",
    "    else:\n",
    "        j = j\n",
    "    num_comm = num_comm + j\n",
    "    \n",
    "num_comm = num_comm[::-1]\n",
    "print(num_comm)"
   ]
  },
  {
   "cell_type": "markdown",
   "metadata": {},
   "source": [
    "#### 6. example_list = [\"요소A\", \"요소B\", \"요소C\"]를 파이썬 내장함수를 이용하여 아래와 같이 출력하세요. \n",
    "0번째 요소는 요소A입니다.\\\n",
    "1번째 요소는 요소B입니다.\\\n",
    "2번째 요소는 요소C입니다."
   ]
  },
  {
   "cell_type": "code",
   "execution_count": 9,
   "metadata": {},
   "outputs": [
    {
     "name": "stdout",
     "output_type": "stream",
     "text": [
      "0번째 요소는 요소A입니다.\n",
      "1번째 요소는 요소B입니다.\n",
      "2번째 요소는 요소C입니다.\n"
     ]
    }
   ],
   "source": [
    "example_list = [\"요소A\", \"요소B\", \"요소C\"]\n",
    "\n",
    "for i, name in enumerate(example_list):\n",
    "    print(f'{i}번째 요소는 {name}입니다.')"
   ]
  },
  {
   "cell_type": "markdown",
   "metadata": {},
   "source": [
    "#### 7. 97을 40으로 나눈 몫과 나머지를 내장함수를 이용하여 구하세요.(튜플로 출력 필수) "
   ]
  },
  {
   "cell_type": "code",
   "execution_count": 10,
   "metadata": {},
   "outputs": [
    {
     "data": {
      "text/plain": [
       "(2, 17)"
      ]
     },
     "execution_count": 10,
     "metadata": {},
     "output_type": "execute_result"
    }
   ],
   "source": [
    "divmod(97, 40)"
   ]
  },
  {
   "cell_type": "markdown",
   "metadata": {},
   "source": [
    "#### 8. list_number = [52, 273, 32, 72, 100]로 변수 선언하고 정수를 입력하면 그 정수 인덱스와 리스트에서 해당하는 값을 출력하는 프로그램을 작성하세요. 단, 모든 예외처리를 수행하며 특히 ValueError와 IndexError는 별도 구분해서 예외처리 한 후 '예외처리 완료'를 마지막으로 출력하세요.\n",
    "\n",
    "- 4 입력시 \\\n",
    "정수 입력> 4 \\\n",
    "4번째 요소: 100\n",
    "예외 처리 완료\n",
    "\n",
    "- 문자 입력시 \\\n",
    "정수 입력> 가 \\\n",
    "정수를 입력해 주세요!\n",
    "예외 처리 완료\n",
    "\n",
    "- 5 입력시 \\\n",
    "정수 입력> 5 \\\n",
    "리스트의 인덱스를 벗어났어요!\n",
    "예외 처리 완료"
   ]
  },
  {
   "cell_type": "code",
   "execution_count": null,
   "metadata": {},
   "outputs": [
    {
     "name": "stdout",
     "output_type": "stream",
     "text": [
      "정수 입력> a\n",
      "정수를 입력해 주세요!\n",
      "정수 입력> 0\n",
      "52 예외 처리 완료\n",
      "정수 입력> 2\n",
      "32 예외 처리 완료\n",
      "정수 입력> 6\n",
      "리스트의 인덱스를 벗어났어요!\n"
     ]
    }
   ],
   "source": [
    "list_number = [52, 273, 32, 72, 100]\n",
    "\n",
    "while 1:\n",
    "    try:\n",
    "        num = int(input('정수 입력> '))\n",
    "        print(f'{list_number[num]} 예외 처리 완료')\n",
    "    \n",
    "    except ValueError:\n",
    "        print('정수를 입력해 주세요!')\n",
    "    \n",
    "    except IndexError:\n",
    "        print('리스트의 인덱스를 벗어났어요!')\n",
    "        \n",
    "    finally:\n",
    "        ('예외 처리 완료.')\n",
    "    \n",
    "                  "
   ]
  },
  {
   "cell_type": "markdown",
   "metadata": {},
   "source": [
    "#### 9. 사용자로부터 서로 다른 숫자 두 개를 입력받고 첫 번째 와 두 번째중 큰 숫자를 구하는 프로그램을 수행하세요."
   ]
  },
  {
   "cell_type": "code",
   "execution_count": 2,
   "metadata": {},
   "outputs": [
    {
     "name": "stdout",
     "output_type": "stream",
     "text": [
      "숫자 1 : 5\n",
      "숫자 2 : 1\n",
      "5\n"
     ]
    }
   ],
   "source": [
    "a = input('숫자 1 : ')\n",
    "b = input('숫자 2 : ')\n",
    "\n",
    "if a > b:\n",
    "    print(a)\n",
    "else:\n",
    "    print(b)"
   ]
  },
  {
   "cell_type": "markdown",
   "metadata": {},
   "source": [
    "#### 10. 1부터 100까지 아래와 같은 방식으로 2개의 수를 곱해서 가장 큰 수를 구하세요.\n",
    "\n",
    " 1 * 99 ...99 * 1"
   ]
  },
  {
   "cell_type": "code",
   "execution_count": 85,
   "metadata": {},
   "outputs": [
    {
     "name": "stdout",
     "output_type": "stream",
     "text": [
      "2500\n"
     ]
    }
   ],
   "source": [
    "max_ = []\n",
    "for i in range(1, 100):\n",
    "    mul = i * (100 - i)\n",
    "    max_.append(mul)\n",
    "    \n",
    "max_.sort()\n",
    "max_.reverse()\n",
    "\n",
    "print(max_[0])\n",
    "    \n",
    "    \n",
    "    "
   ]
  },
  {
   "cell_type": "code",
   "execution_count": 86,
   "metadata": {},
   "outputs": [
    {
     "name": "stdout",
     "output_type": "stream",
     "text": [
      "2500\n"
     ]
    }
   ],
   "source": [
    "max_ = 0\n",
    "for i in range(1, 100):\n",
    "    mul = i * (100 - i)\n",
    "    if max_ < mul:\n",
    "        max_ = mul\n",
    "    \n",
    "print(max_)\n",
    "    \n",
    "    \n",
    "    "
   ]
  },
  {
   "cell_type": "markdown",
   "metadata": {},
   "source": [
    "#### 11. 정규표현식을 사용하여 text에서 지역코드만 출력하세요.\n",
    "text = \"문의사항이 있으면 032-232-3245 으로 연락주시기 바랍니다.\""
   ]
  },
  {
   "cell_type": "code",
   "execution_count": 3,
   "metadata": {},
   "outputs": [
    {
     "name": "stdout",
     "output_type": "stream",
     "text": [
      "032\n"
     ]
    }
   ],
   "source": [
    "import re\n",
    "\n",
    "text = \"문의사항이 있으면 032-232-3245 으로 연락주시기 바랍니다.\"\n",
    "p = re.compile('\\d+')\n",
    "p1 = p.search(text)\n",
    "\n",
    "print(p1.group())"
   ]
  },
  {
   "cell_type": "markdown",
   "metadata": {},
   "source": [
    "#### 12. 'abcdefghij' 에 대하여 중첩을 적용한 서브그룹 5개로 컴파일하여 group()함수를 이용하여 'abcdefghi'와 e'를 출력하세요"
   ]
  },
  {
   "cell_type": "code",
   "execution_count": 4,
   "metadata": {},
   "outputs": [
    {
     "name": "stdout",
     "output_type": "stream",
     "text": [
      "abcdefghij\n",
      "abc\n",
      "e\n",
      "h\n",
      "ij\n"
     ]
    }
   ],
   "source": [
    "import re\n",
    "\n",
    "al = 'abcdefghij'\n",
    "p = re.compile('((abc)d(e)fg(h)(ij))')\n",
    "p1 = p.search(al)\n",
    "\n",
    "print(p1.group(1))\n",
    "print(p1.group(2))\n",
    "print(p1.group(3))\n",
    "print(p1.group(4))\n",
    "print(p1.group(5))"
   ]
  },
  {
   "cell_type": "markdown",
   "metadata": {},
   "source": [
    "#### 13. [0, 1, 2, 3, 4, 5, 6, 7, 8, 9, 'a', 'b', 'c']에서 9와 'a'를 삭제 후 리스트로 출력하세요"
   ]
  },
  {
   "cell_type": "code",
   "execution_count": 5,
   "metadata": {},
   "outputs": [
    {
     "name": "stdout",
     "output_type": "stream",
     "text": [
      "[0, 1, 2, 3, 4, 5, 6, 7, 8, 'b', 'c']\n"
     ]
    }
   ],
   "source": [
    "a = [0, 1, 2, 3, 4, 5, 6, 7, 8, 9, 'a', 'b', 'c']\n",
    "del a[9:11]\n",
    "\n",
    "print(a)"
   ]
  },
  {
   "cell_type": "markdown",
   "metadata": {},
   "source": [
    "#### 14. 500 ~ 1000사이의 정수 중 5와 7의 공배수의 합을 구하세요"
   ]
  },
  {
   "cell_type": "code",
   "execution_count": 14,
   "metadata": {},
   "outputs": [
    {
     "data": {
      "text/plain": [
       "10535"
      ]
     },
     "execution_count": 14,
     "metadata": {},
     "output_type": "execute_result"
    }
   ],
   "source": [
    "num = range(500, 1001)\n",
    "\n",
    "# sum_ = []\n",
    "# for i in num:\n",
    "#     if i % 35 == 0:\n",
    "#         sum_.append(i)\n",
    "\n",
    "sum_ = [i for i in num if i % 35 == 0]\n",
    "\n",
    "sum(sum_)"
   ]
  },
  {
   "cell_type": "markdown",
   "metadata": {},
   "source": [
    "#### 15. [    ]을 채워서 아래와 같이 출력하세요."
   ]
  },
  {
   "cell_type": "code",
   "execution_count": 15,
   "metadata": {},
   "outputs": [
    {
     "name": "stdout",
     "output_type": "stream",
     "text": [
      "[[1, 4, 7], [2, 5, 8], [3, 6, 9]]\n"
     ]
    }
   ],
   "source": [
    "numbers = [1,2,3,4,5,6,7,8,9]\n",
    "output = [[], [], []]\n",
    "\n",
    "for number in numbers:\n",
    "    output[(number + 2) % 3].append(number)\n",
    "print(output)"
   ]
  },
  {
   "cell_type": "markdown",
   "metadata": {},
   "source": [
    "####  16. numbers 내부에 들어 있는 숫자가 몇 번 등장하는지를 출력하는 코드를 작성하세요.\n",
    "numbers = [3,6,3,5,8,2,9,7,4,3,6,3,5,8,2,9,7,4]"
   ]
  },
  {
   "cell_type": "code",
   "execution_count": 16,
   "metadata": {},
   "outputs": [
    {
     "name": "stdout",
     "output_type": "stream",
     "text": [
      "{2: 2, 3: 4, 4: 2, 5: 2, 6: 2, 7: 2, 8: 2, 9: 2}\n"
     ]
    }
   ],
   "source": [
    "numbers = [3,6,3,5,8,2,9,7,4,3,6,3,5,8,2,9,7,4]\n",
    "numbers.sort()\n",
    "\n",
    "count = {}\n",
    "\n",
    "for i in numbers:\n",
    "    if i in count:\n",
    "        count[i] += 1\n",
    "    else:\n",
    "        count[i] = 1\n",
    "\n",
    "print(count)"
   ]
  },
  {
   "cell_type": "markdown",
   "metadata": {},
   "source": [
    "#### 17. 클래스 Country를 완성하여 아래와 같이 출력하세요."
   ]
  },
  {
   "cell_type": "code",
   "execution_count": 17,
   "metadata": {},
   "outputs": [
    {
     "name": "stdout",
     "output_type": "stream",
     "text": [
      "한국의 인구는 5천만명이며 수도는 서울입니다.\n",
      "1인당 gnp는 USD 3만입니다.\n"
     ]
    }
   ],
   "source": [
    "class Country:\n",
    "    def __init__(self, country, pop, capital):\n",
    "        self.country = country\n",
    "        self.pop = pop\n",
    "        self.capital = capital\n",
    "    \n",
    "class Korea(Country):    \n",
    "    def desc(self):\n",
    "        print(f'{self.country}의 인구는 {self.pop}천만명이며 수도는 {self.capital}입니다.')\n",
    "\n",
    "    def desc1(self, gnp):\n",
    "        self.gnp = gnp\n",
    "        print('1인당 gnp는 USD %d만입니다.' %self.gnp)\n",
    "        \n",
    "obj = Korea('한국',5,'서울')\n",
    "obj.desc()\n",
    "obj.desc1(3)"
   ]
  },
  {
   "cell_type": "markdown",
   "metadata": {},
   "source": [
    "#### 18. 사칙연산을 수행하는  클래스를 작성하여 객체를 만들고 2개의 정수 10, 5를 입력한 후 연산 결과를  포멧을 이용하여 출력하세요."
   ]
  },
  {
   "cell_type": "code",
   "execution_count": 19,
   "metadata": {},
   "outputs": [
    {
     "name": "stdout",
     "output_type": "stream",
     "text": [
      "숫자 1 : 5\n",
      "숫자 2 : 2\n",
      "\n",
      "a + b = 7.0\n",
      "a - b = 3.0\n",
      "a * b = 10.0\n",
      "a / b = 2.5\n"
     ]
    }
   ],
   "source": [
    "class Cal4:\n",
    "    def __init__(self, a, b):\n",
    "        self.a = a\n",
    "        self.b = b\n",
    "        \n",
    "    def sum_(self):\n",
    "        return self.a + self.b\n",
    "    \n",
    "    def sub(self):\n",
    "        return self.a - self.b\n",
    "    \n",
    "    def mul(self):\n",
    "        return self.a * self.b\n",
    "    \n",
    "    def div(self):\n",
    "        return self.a / self.b\n",
    "    \n",
    "a = float(input('숫자 1 : '))\n",
    "b = float(input('숫자 2 : '))\n",
    "\n",
    "cal = Cal4(a, b)\n",
    "# print(cal.sum_())\n",
    "print(f'\\na + b = {cal.sum_()}\\na - b = {cal.sub()}\\na * b = {cal.mul()}\\na / b = {cal.div()}')"
   ]
  },
  {
   "cell_type": "markdown",
   "metadata": {},
   "source": [
    "#### 19. 올해 경과된 날짜수를 계산하여 출력하세요."
   ]
  },
  {
   "cell_type": "code",
   "execution_count": 20,
   "metadata": {},
   "outputs": [
    {
     "name": "stdout",
     "output_type": "stream",
     "text": [
      "2022년 1월 1일로부터 9일째 입니다.\n"
     ]
    }
   ],
   "source": [
    "import time\n",
    "\n",
    "t = time.localtime()\n",
    "\n",
    "print(f'{t.tm_year}년 1월 1일로부터 {t.tm_yday}일째 입니다.')\n"
   ]
  },
  {
   "cell_type": "markdown",
   "metadata": {},
   "source": [
    "#### 20. 2015년 인기순 상위5개 여아이름별 출생아수를 출력하세요.('data/names/yob2015.txt')"
   ]
  },
  {
   "cell_type": "code",
   "execution_count": 21,
   "metadata": {},
   "outputs": [
    {
     "name": "stdout",
     "output_type": "stream",
     "text": [
      "Top1 : 여아 이름 - Emma / 출생아 수 - 20463\n",
      "Top2 : 여아 이름 - Olivia / 출생아 수 - 19705\n",
      "Top3 : 여아 이름 - Sophia / 출생아 수 - 17430\n",
      "Top4 : 여아 이름 - Ava / 출생아 수 - 16383\n",
      "Top5 : 여아 이름 - Isabella / 출생아 수 - 15633\n"
     ]
    }
   ],
   "source": [
    "file = 'D:/python/cakd5/m1_programming/data/names/yob2015.txt'\n",
    "\n",
    "yob2015_F = []\n",
    "with open(file, 'r') as f:\n",
    "    data = f.readlines()\n",
    "    for i in data:\n",
    "        i = i[:-1]\n",
    "        i = i.split(',')\n",
    "        i[2] = int(i[2])\n",
    "        if i[1] == 'F':\n",
    "            yob2015_F.append(i)\n",
    "            \n",
    "birth_F = sorted(yob2015_F, key = lambda x: x[2], reverse = True)\n",
    "\n",
    "for j in range(5):\n",
    "    print(f'Top{j+1} : 여아 이름 - {birth_F[j][0]} / 출생아 수 - {birth_F[j][2]}')\n",
    "        \n",
    "                       \n",
    "        \n",
    "        \n",
    "        "
   ]
  }
 ],
 "metadata": {
  "kernelspec": {
   "display_name": "Python 3 (ipykernel)",
   "language": "python",
   "name": "python3"
  },
  "language_info": {
   "codemirror_mode": {
    "name": "ipython",
    "version": 3
   },
   "file_extension": ".py",
   "mimetype": "text/x-python",
   "name": "python",
   "nbconvert_exporter": "python",
   "pygments_lexer": "ipython3",
   "version": "3.8.12"
  }
 },
 "nbformat": 4,
 "nbformat_minor": 2
}
