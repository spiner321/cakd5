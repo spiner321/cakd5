{
 "cells": [
  {
   "cell_type": "code",
   "execution_count": 2,
   "metadata": {
    "ExecuteTime": {
     "end_time": "2022-03-11T05:46:57.060677Z",
     "start_time": "2022-03-11T05:46:54.863762Z"
    }
   },
   "outputs": [],
   "source": [
    "from sklearn.datasets import load_iris, load_boston\n",
    "from sklearn.model_selection import train_test_split, cross_val_score, GridSearchCV, KFold\n",
    "from sklearn.metrics import confusion_matrix, accuracy_score, precision_score, recall_score, f1_score, roc_auc_score, mean_squared_error, r2_score\n",
    "from sklearn.linear_model import Ridge, Lasso, ElasticNet, LogisticRegression, LinearRegression\n",
    "from sklearn.preprocessing import MinMaxScaler, Binarizer\n",
    "from sklearn.ensemble import RandomForestClassifier\n",
    "from sklearn.tree import DecisionTreeClassifier\n",
    "from imblearn.over_sampling import SMOTE\n",
    "from sklearn import tree\n",
    "import graphviz\n",
    "from lightgbm import LGBMClassifier\n",
    "from xgboost import XGBClassifier\n",
    "import pandas as pd\n",
    "import numpy as np\n",
    "import matplotlib.pyplot as plt\n",
    "import seaborn as sns\n",
    "import warnings\n",
    "warnings.filterwarnings('ignore')\n",
    "plt.style.use('seaborn')"
   ]
  },
  {
   "cell_type": "markdown",
   "metadata": {},
   "source": [
    "## 프로젝트 기반 빅데이터 서비스 솔루션 개발 전문 과정\n",
    "\n",
    "#### 교과목명 : 모델 성능 평가\n",
    "- 평가일 : 03.13\n",
    "- 성명 : 김기현\n",
    "- 점수 : 90"
   ]
  },
  {
   "cell_type": "code",
   "execution_count": 4,
   "metadata": {
    "ExecuteTime": {
     "end_time": "2022-03-11T05:47:00.447893Z",
     "start_time": "2022-03-11T05:47:00.431878Z"
    }
   },
   "outputs": [],
   "source": [
    "def get_eval(y_test, pred, pred_proba):\n",
    "    confusion = confusion_matrix(y_test, pred)\n",
    "    accuracy = accuracy_score(y_test, pred)\n",
    "    precision = precision_score(y_test, pred, average = 'weighted')\n",
    "    recall = recall_score(y_test, pred, average = 'binary')\n",
    "    f1 = f1_score(y_test, pred, average = 'binary')\n",
    "    auc = roc_auc_score(y_test, pred_proba, multi_class = 'ovr')\n",
    "    print(f'오차행렬 : \\n{confusion} \\n\\n정확도 : {accuracy:.3f} \\n정밀도 : {precision:.3f} \\n재현율 : {recall:.3f} \\nf1 : {f1:.3f} \\nauc : {auc:.3f}')"
   ]
  },
  {
   "cell_type": "markdown",
   "metadata": {},
   "source": [
    "Q1. iris data를 불러와서 붓꽃의 종류를 분류하는 모델링을 수행한 후 오차행렬과 정확도를 평가하세요.\n",
    "- test_size = 0.2, 분류기는 DecisionTreeClassifier를 이용"
   ]
  },
  {
   "cell_type": "markdown",
   "metadata": {},
   "source": [
    "정답"
   ]
  },
  {
   "cell_type": "code",
   "execution_count": 335,
   "metadata": {
    "ExecuteTime": {
     "end_time": "2022-03-11T04:24:55.510894Z",
     "start_time": "2022-03-11T04:24:55.495882Z"
    }
   },
   "outputs": [
    {
     "name": "stdout",
     "output_type": "stream",
     "text": [
      "[[10  0  0]\n",
      " [ 0 10  0]\n",
      " [ 0  1  9]]\n",
      "정확도 0.9666666666666667\n"
     ]
    },
    {
     "data": {
      "text/plain": [
       "0.9696969696969697"
      ]
     },
     "execution_count": 335,
     "metadata": {},
     "output_type": "execute_result"
    }
   ],
   "source": [
    "iris = load_iris()\n",
    "X = iris.data\n",
    "y = iris.target\n",
    "\n",
    "X_train, X_test, y_train, y_test = train_test_split(X, y, test_size = 0.2, random_state = 0, stratify = y)\n",
    "\n",
    "dt_clf = DecisionTreeClassifier(criterion = 'gini', random_state = 0)\n",
    "dt_clf.fit(X_train, y_train)\n",
    "pred = dt_clf.predict(X_test)\n",
    "pred_proba = dt_clf.predict_proba(X_test)\n",
    "\n",
    "confusion = confusion_matrix(y_test, pred)\n",
    "accuracy = accuracy_score(y_test, pred)\n",
    "precision = precision_score(y_test, pred, average = 'macro')\n",
    "\n",
    "\n",
    "print(confusion)\n",
    "print('정확도', accuracy)\n",
    "precision"
   ]
  },
  {
   "cell_type": "markdown",
   "metadata": {},
   "source": [
    "Q2. 타이타닉 분석용 데이터세트인 tdf1.pkl를 불러와서 생존자 예측 모델을 만든 후 오차행렬, 정확도, 재현율, f1, AUC를 포함하는 사용자 함수를 활용하여 평가하세요.\n",
    "- test_size = 0.2, 분류기는 RandomForestClassifier 이용"
   ]
  },
  {
   "cell_type": "markdown",
   "metadata": {},
   "source": [
    "정답"
   ]
  },
  {
   "cell_type": "code",
   "execution_count": 5,
   "metadata": {
    "ExecuteTime": {
     "end_time": "2022-03-11T05:47:05.816073Z",
     "start_time": "2022-03-11T05:47:05.617892Z"
    }
   },
   "outputs": [
    {
     "name": "stdout",
     "output_type": "stream",
     "text": [
      "오차행렬 : \n",
      "[[88 22]\n",
      " [24 45]] \n",
      "\n",
      "정확도 : 0.743 \n",
      "정밀도 : 0.742 \n",
      "재현율 : 0.652 \n",
      "f1 : 0.662 \n",
      "auc : 0.780\n"
     ]
    }
   ],
   "source": [
    "tdf = pd.read_pickle('./data/tdf1.pkl')\n",
    "\n",
    "X = tdf.iloc[:, 1:]\n",
    "y = tdf.iloc[:, 0]\n",
    "\n",
    "X_train, X_test, y_train, y_test = train_test_split(X, y, test_size = 0.2, random_state = 0, stratify = y)\n",
    "\n",
    "rf_clf = RandomForestClassifier(random_state = 0, n_jobs = -1)\n",
    "rf_clf.fit(X_train, y_train)\n",
    "pred = rf_clf.predict(X_test)\n",
    "pred_proba = rf_clf.predict_proba(X_test)[:, 1]\n",
    "\n",
    "get_eval(y_test, pred, pred_proba)"
   ]
  },
  {
   "cell_type": "markdown",
   "metadata": {},
   "source": [
    "Q3. Q2에서 생성한 모델로 교차검증(cv=5)을 수행하고 평균 정확도를 출력하세요."
   ]
  },
  {
   "cell_type": "markdown",
   "metadata": {},
   "source": [
    "정답"
   ]
  },
  {
   "cell_type": "code",
   "execution_count": 6,
   "metadata": {
    "ExecuteTime": {
     "end_time": "2022-03-11T05:47:42.771873Z",
     "start_time": "2022-03-11T05:47:40.265585Z"
    }
   },
   "outputs": [
    {
     "name": "stdout",
     "output_type": "stream",
     "text": [
      "평균 정확도 : 0.794\n"
     ]
    }
   ],
   "source": [
    "score = cross_val_score(rf_clf, X, y, cv = 5, scoring = 'accuracy')\n",
    "print('평균 정확도 :', round(np.mean(score), 3))"
   ]
  },
  {
   "cell_type": "markdown",
   "metadata": {},
   "source": [
    "Q4. Q2에서 생성한 예측모델에 대하여 교차 검증 및 성능 개선을 수행하세요.(GridSearchCV 활용)"
   ]
  },
  {
   "cell_type": "markdown",
   "metadata": {},
   "source": [
    "정답"
   ]
  },
  {
   "cell_type": "code",
   "execution_count": 44,
   "metadata": {
    "ExecuteTime": {
     "end_time": "2022-03-11T02:50:21.707542Z",
     "start_time": "2022-03-11T02:50:19.820544Z"
    }
   },
   "outputs": [
    {
     "name": "stdout",
     "output_type": "stream",
     "text": [
      "최적 파라미터 {'max_depth': 5, 'min_samples_split': 2, 'n_estimators': 50}\n",
      "오차행렬 : \n",
      "[[97 13]\n",
      " [22 47]] \n",
      "\n",
      "정확도 : 0.804 \n",
      "정밀도 : 0.783 \n",
      "재현율 : 0.681 \n",
      "f1 : 0.729 \n",
      "auc : 0.822\n"
     ]
    }
   ],
   "source": [
    "params = {'n_estimators': [50, 100],\n",
    "          'max_depth': [2, 3, 4, 5],\n",
    "          'min_samples_split': [1, 2, 3]}\n",
    "\n",
    "grid = GridSearchCV(rf_clf, param_grid = params, cv = 5, n_jobs = -1)\n",
    "grid.fit(X_train, y_train)\n",
    "estimator = grid.best_estimator_\n",
    "pred = estimator.predict(X_test)\n",
    "pred_proba = estimator.predict_proba(X_test)[:, 1]\n",
    "\n",
    "print('최적 파라미터', grid.best_params_)\n",
    "get_eval(y_test, pred, pred_proba)"
   ]
  },
  {
   "cell_type": "markdown",
   "metadata": {},
   "source": [
    "Q5 ~ Q7. 'dataset/diabetes.csv'을 불러와서 아래사항을 수행하세요.\n",
    "- 피마 인디언 당뇨병 예측을 로지스틱 회귀를 이용하여 수행하고 사용자 함수를 작성하여 평가(오차행렬, 정확도, 정밀도, 재현율, F1, ROC_AUC)\n",
    "- 임곗값을 0.3에서 0.5까지 변화시키면서 정밀도와 재현율이 조정되는 과정을 시각화 \n",
    "- 재현율 기준의 성능을 개선하기 위하여 그 값이 0이 될 수 없는 각 칼럼을 탐색하여 적절한 처리를 한 후 로지스틱 회귀로 예측 및 평가 수행(오차행렬, 정확도, 정밀도, 재현율, F1, ROC_AUC)\n"
   ]
  },
  {
   "cell_type": "markdown",
   "metadata": {
    "ExecuteTime": {
     "end_time": "2022-03-11T05:50:26.050535Z",
     "start_time": "2022-03-11T05:50:26.036530Z"
    }
   },
   "source": [
    "정답\n",
    "정답\n",
    "오답"
   ]
  },
  {
   "cell_type": "code",
   "execution_count": 216,
   "metadata": {
    "ExecuteTime": {
     "end_time": "2022-03-11T03:36:59.586509Z",
     "start_time": "2022-03-11T03:36:59.567492Z"
    }
   },
   "outputs": [
    {
     "data": {
      "text/html": [
       "<div>\n",
       "<style scoped>\n",
       "    .dataframe tbody tr th:only-of-type {\n",
       "        vertical-align: middle;\n",
       "    }\n",
       "\n",
       "    .dataframe tbody tr th {\n",
       "        vertical-align: top;\n",
       "    }\n",
       "\n",
       "    .dataframe thead th {\n",
       "        text-align: right;\n",
       "    }\n",
       "</style>\n",
       "<table border=\"1\" class=\"dataframe\">\n",
       "  <thead>\n",
       "    <tr style=\"text-align: right;\">\n",
       "      <th></th>\n",
       "      <th>Pregnancies</th>\n",
       "      <th>Glucose</th>\n",
       "      <th>BloodPressure</th>\n",
       "      <th>SkinThickness</th>\n",
       "      <th>Insulin</th>\n",
       "      <th>BMI</th>\n",
       "      <th>DiabetesPedigreeFunction</th>\n",
       "      <th>Age</th>\n",
       "      <th>Outcome</th>\n",
       "    </tr>\n",
       "  </thead>\n",
       "  <tbody>\n",
       "    <tr>\n",
       "      <th>0</th>\n",
       "      <td>6</td>\n",
       "      <td>148</td>\n",
       "      <td>72</td>\n",
       "      <td>35</td>\n",
       "      <td>0</td>\n",
       "      <td>33.6</td>\n",
       "      <td>0.627</td>\n",
       "      <td>50</td>\n",
       "      <td>1</td>\n",
       "    </tr>\n",
       "    <tr>\n",
       "      <th>1</th>\n",
       "      <td>1</td>\n",
       "      <td>85</td>\n",
       "      <td>66</td>\n",
       "      <td>29</td>\n",
       "      <td>0</td>\n",
       "      <td>26.6</td>\n",
       "      <td>0.351</td>\n",
       "      <td>31</td>\n",
       "      <td>0</td>\n",
       "    </tr>\n",
       "    <tr>\n",
       "      <th>2</th>\n",
       "      <td>8</td>\n",
       "      <td>183</td>\n",
       "      <td>64</td>\n",
       "      <td>0</td>\n",
       "      <td>0</td>\n",
       "      <td>23.3</td>\n",
       "      <td>0.672</td>\n",
       "      <td>32</td>\n",
       "      <td>1</td>\n",
       "    </tr>\n",
       "    <tr>\n",
       "      <th>3</th>\n",
       "      <td>1</td>\n",
       "      <td>89</td>\n",
       "      <td>66</td>\n",
       "      <td>23</td>\n",
       "      <td>94</td>\n",
       "      <td>28.1</td>\n",
       "      <td>0.167</td>\n",
       "      <td>21</td>\n",
       "      <td>0</td>\n",
       "    </tr>\n",
       "    <tr>\n",
       "      <th>4</th>\n",
       "      <td>0</td>\n",
       "      <td>137</td>\n",
       "      <td>40</td>\n",
       "      <td>35</td>\n",
       "      <td>168</td>\n",
       "      <td>43.1</td>\n",
       "      <td>2.288</td>\n",
       "      <td>33</td>\n",
       "      <td>1</td>\n",
       "    </tr>\n",
       "  </tbody>\n",
       "</table>\n",
       "</div>"
      ],
      "text/plain": [
       "   Pregnancies  Glucose  BloodPressure  SkinThickness  Insulin   BMI  \\\n",
       "0            6      148             72             35        0  33.6   \n",
       "1            1       85             66             29        0  26.6   \n",
       "2            8      183             64              0        0  23.3   \n",
       "3            1       89             66             23       94  28.1   \n",
       "4            0      137             40             35      168  43.1   \n",
       "\n",
       "   DiabetesPedigreeFunction  Age  Outcome  \n",
       "0                     0.627   50        1  \n",
       "1                     0.351   31        0  \n",
       "2                     0.672   32        1  \n",
       "3                     0.167   21        0  \n",
       "4                     2.288   33        1  "
      ]
     },
     "metadata": {},
     "output_type": "display_data"
    }
   ],
   "source": [
    "diabet = pd.read_csv('./data/diabetes.csv')\n",
    "display(diabet.head())"
   ]
  },
  {
   "cell_type": "code",
   "execution_count": 349,
   "metadata": {
    "ExecuteTime": {
     "end_time": "2022-03-11T04:25:38.519567Z",
     "start_time": "2022-03-11T04:25:38.475527Z"
    }
   },
   "outputs": [
    {
     "name": "stdout",
     "output_type": "stream",
     "text": [
      "오차행렬 : \n",
      "[[90 10]\n",
      " [21 33]] \n",
      "\n",
      "정확도 : 0.799 \n",
      "정밀도 : 0.796 \n",
      "재현율 : 0.611 \n",
      "f1 : 0.680 \n",
      "auc : 0.879\n"
     ]
    }
   ],
   "source": [
    "X = diabet.iloc[:, :-1]\n",
    "y = diabet.iloc[:, -1]\n",
    "\n",
    "lr_clf = LogisticRegression(random_state = 0, n_jobs = -1)\n",
    "X_train, X_test, y_train, y_test = train_test_split(X, y, test_size = 0.2, random_state = 0, stratify = y)\n",
    "\n",
    "lr_clf.fit(X_train, y_train)\n",
    "pred = lr_clf.predict(X_test)\n",
    "pred_proba = lr_clf.predict_proba(X_test)[:, 1]\n",
    "\n",
    "get_eval(y_test, pred, pred_proba)"
   ]
  },
  {
   "cell_type": "code",
   "execution_count": null,
   "metadata": {},
   "outputs": [],
   "source": [
    "오차행렬 : \n",
    "[[90 10]\n",
    " [21 33]] \n",
    "\n",
    "정확도 : 0.799 \n",
    "정밀도 : 0.767 \n",
    "재현율 : 0.611 \n",
    "f1 : 0.680 \n",
    "auc : 0.879"
   ]
  },
  {
   "cell_type": "code",
   "execution_count": 218,
   "metadata": {
    "ExecuteTime": {
     "end_time": "2022-03-11T03:37:01.527688Z",
     "start_time": "2022-03-11T03:37:01.378554Z"
    }
   },
   "outputs": [
    {
     "data": {
      "image/png": "[encoded data removed]",
      "text/plain": [
       "<Figure size 576x396 with 1 Axes>"
      ]
     },
     "metadata": {},
     "output_type": "display_data"
    }
   ],
   "source": [
    "threshold = np.arange(0.3, 0.51, 0.01)\n",
    "\n",
    "recalls = []\n",
    "precisions = []\n",
    "for i in threshold:\n",
    "    pred_re = Binarizer(threshold = i).fit_transform(pred_proba.reshape(1, -1))\n",
    "    recall = recall_score(y_test, pred_re.reshape(-1))\n",
    "    precision = precision_score(y_test, pred_re.reshape(-1))\n",
    "    recalls.append(recall)\n",
    "    precisions.append(precision)\n",
    "    \n",
    "plt.plot(threshold, recalls, label = 'recall')\n",
    "plt.plot(threshold, precisions, label = 'precision')\n",
    "plt.xlabel('Threshold')\n",
    "plt.legend()\n",
    "plt.show()"
   ]
  },
  {
   "cell_type": "code",
   "execution_count": 229,
   "metadata": {
    "ExecuteTime": {
     "end_time": "2022-03-11T04:00:15.950605Z",
     "start_time": "2022-03-11T04:00:15.930595Z"
    }
   },
   "outputs": [
    {
     "name": "stdout",
     "output_type": "stream",
     "text": [
      "Pregnancies\n",
      "111\n",
      "Glucose\n",
      "5\n",
      "BloodPressure\n",
      "35\n",
      "SkinThickness\n",
      "227\n",
      "Insulin\n",
      "374\n",
      "BMI\n",
      "11\n",
      "DiabetesPedigreeFunction\n",
      "0\n",
      "Age\n",
      "0\n",
      "Outcome\n",
      "500\n"
     ]
    }
   ],
   "source": [
    "for i in diabet.columns:\n",
    "    a = diabet.loc[diabet[i] == 0].index\n",
    "    print(i)\n",
    "    print(len(list(a)))"
   ]
  },
  {
   "cell_type": "markdown",
   "metadata": {},
   "source": [
    "Q8. \"dataset/auto-mpg1.xlsx\"을 불러와서 회귀 모델을 생성하고 MSE, RMSE, R2로 평가를 수행하세요."
   ]
  },
  {
   "cell_type": "markdown",
   "metadata": {},
   "source": [
    "정답"
   ]
  },
  {
   "cell_type": "code",
   "execution_count": 9,
   "metadata": {
    "ExecuteTime": {
     "end_time": "2022-03-11T05:52:48.956681Z",
     "start_time": "2022-03-11T05:52:48.656408Z"
    }
   },
   "outputs": [
    {
     "data": {
      "text/html": [
       "<div>\n",
       "<style scoped>\n",
       "    .dataframe tbody tr th:only-of-type {\n",
       "        vertical-align: middle;\n",
       "    }\n",
       "\n",
       "    .dataframe tbody tr th {\n",
       "        vertical-align: top;\n",
       "    }\n",
       "\n",
       "    .dataframe thead th {\n",
       "        text-align: right;\n",
       "    }\n",
       "</style>\n",
       "<table border=\"1\" class=\"dataframe\">\n",
       "  <thead>\n",
       "    <tr style=\"text-align: right;\">\n",
       "      <th></th>\n",
       "      <th>mpg</th>\n",
       "      <th>cylinders</th>\n",
       "      <th>displacement</th>\n",
       "      <th>horsepower</th>\n",
       "      <th>weight</th>\n",
       "      <th>acceleration</th>\n",
       "      <th>model year</th>\n",
       "      <th>origin</th>\n",
       "      <th>car name</th>\n",
       "    </tr>\n",
       "  </thead>\n",
       "  <tbody>\n",
       "    <tr>\n",
       "      <th>0</th>\n",
       "      <td>18.0</td>\n",
       "      <td>8</td>\n",
       "      <td>307.0</td>\n",
       "      <td>130</td>\n",
       "      <td>3504</td>\n",
       "      <td>12.0</td>\n",
       "      <td>70</td>\n",
       "      <td>1</td>\n",
       "      <td>chevrolet chevelle malibu</td>\n",
       "    </tr>\n",
       "    <tr>\n",
       "      <th>1</th>\n",
       "      <td>15.0</td>\n",
       "      <td>8</td>\n",
       "      <td>350.0</td>\n",
       "      <td>165</td>\n",
       "      <td>3693</td>\n",
       "      <td>11.5</td>\n",
       "      <td>70</td>\n",
       "      <td>1</td>\n",
       "      <td>buick skylark 320</td>\n",
       "    </tr>\n",
       "    <tr>\n",
       "      <th>2</th>\n",
       "      <td>18.0</td>\n",
       "      <td>8</td>\n",
       "      <td>318.0</td>\n",
       "      <td>150</td>\n",
       "      <td>3436</td>\n",
       "      <td>11.0</td>\n",
       "      <td>70</td>\n",
       "      <td>1</td>\n",
       "      <td>plymouth satellite</td>\n",
       "    </tr>\n",
       "    <tr>\n",
       "      <th>3</th>\n",
       "      <td>16.0</td>\n",
       "      <td>8</td>\n",
       "      <td>304.0</td>\n",
       "      <td>150</td>\n",
       "      <td>3433</td>\n",
       "      <td>12.0</td>\n",
       "      <td>70</td>\n",
       "      <td>1</td>\n",
       "      <td>amc rebel sst</td>\n",
       "    </tr>\n",
       "    <tr>\n",
       "      <th>4</th>\n",
       "      <td>17.0</td>\n",
       "      <td>8</td>\n",
       "      <td>302.0</td>\n",
       "      <td>140</td>\n",
       "      <td>3449</td>\n",
       "      <td>10.5</td>\n",
       "      <td>70</td>\n",
       "      <td>1</td>\n",
       "      <td>ford torino</td>\n",
       "    </tr>\n",
       "  </tbody>\n",
       "</table>\n",
       "</div>"
      ],
      "text/plain": [
       "    mpg  cylinders  displacement horsepower  weight  acceleration  model year  \\\n",
       "0  18.0          8         307.0        130    3504          12.0          70   \n",
       "1  15.0          8         350.0        165    3693          11.5          70   \n",
       "2  18.0          8         318.0        150    3436          11.0          70   \n",
       "3  16.0          8         304.0        150    3433          12.0          70   \n",
       "4  17.0          8         302.0        140    3449          10.5          70   \n",
       "\n",
       "   origin                   car name  \n",
       "0       1  chevrolet chevelle malibu  \n",
       "1       1          buick skylark 320  \n",
       "2       1         plymouth satellite  \n",
       "3       1              amc rebel sst  \n",
       "4       1                ford torino  "
      ]
     },
     "execution_count": 9,
     "metadata": {},
     "output_type": "execute_result"
    }
   ],
   "source": [
    "autodf = pd.read_excel('./data/auto-mpg1.xlsx')\n",
    "autodf.head()"
   ]
  },
  {
   "cell_type": "code",
   "execution_count": 17,
   "metadata": {
    "ExecuteTime": {
     "end_time": "2022-03-11T05:54:38.311976Z",
     "start_time": "2022-03-11T05:54:38.292960Z"
    },
    "scrolled": true
   },
   "outputs": [
    {
     "name": "stdout",
     "output_type": "stream",
     "text": [
      "mse: 19.004, rmse : 4.359, r2 : 0.694\n"
     ]
    }
   ],
   "source": [
    "autodf['horsepower'].unique()\n",
    "autodf_re = autodf.drop(autodf.loc[autodf['horsepower'] == '?'].index, axis = 0)\n",
    "autodf_re = autodf_re.drop(['car name', 'model year', 'origin'], axis = 1)\n",
    "autodf_re['horsepower'] = autodf_re['horsepower'].astype(int)\n",
    "X = autodf_re.iloc[:, 1:]\n",
    "y = autodf_re.iloc[:, 0]\n",
    "\n",
    "lr_reg = LinearRegression(n_jobs = -1)\n",
    "X_train, X_test, y_train, y_test = train_test_split(X, y, test_size = 0.2, random_state = 0)\n",
    "\n",
    "lr_reg.fit(X_train, y_train)\n",
    "pred = lr_reg.predict(X_test)\n",
    "\n",
    "mse = mean_squared_error(y_test, pred)\n",
    "rmse = np.sqrt(mse)\n",
    "r2 = r2_score(y_test, pred)\n",
    "\n",
    "print(f'mse: {mse:.3f}, rmse : {round(rmse, 3)}, r2 : {round(r2, 3)}')"
   ]
  },
  {
   "cell_type": "markdown",
   "metadata": {},
   "source": [
    "Q9. 'load_boston' 을 불러와서 cross_val_score를 이용한 cv=5인 교차검증을 수행 후 MSE, RMSE를 출력하세요.(LineaRegression) "
   ]
  },
  {
   "cell_type": "markdown",
   "metadata": {},
   "source": [
    "정답"
   ]
  },
  {
   "cell_type": "code",
   "execution_count": 214,
   "metadata": {
    "ExecuteTime": {
     "end_time": "2022-03-11T03:32:00.511831Z",
     "start_time": "2022-03-11T03:32:00.480804Z"
    }
   },
   "outputs": [
    {
     "name": "stdout",
     "output_type": "stream",
     "text": [
      "개별 mse : [36.028 17.962 19.279 21.388 20.726]\n",
      "개별 rmse : [6.002 4.238 4.391 4.625 4.553]\n",
      "평균 mse : 23.077\n",
      "평균 mse : 4.762\n"
     ]
    }
   ],
   "source": [
    "boston = load_boston()\n",
    "boston_df = pd.DataFrame(boston.data, columns = boston.feature_names)\n",
    "\n",
    "X = boston_df[['LSTAT', 'PTRATIO', 'TAX', 'CRIM', 'RAD', 'AGE', 'ZN', 'RM']]\n",
    "y = boston_target\n",
    "\n",
    "lr_reg = LinearRegression(n_jobs = -1)\n",
    "kfold = KFold(n_splits = 5, shuffle = True, random_state = 0)\n",
    "\n",
    "score = cross_val_score(lr_reg, np.log1p(X), y, scoring = 'neg_mean_squared_error', cv = kfold)\n",
    "mse = np.round(-1 * score, 3)\n",
    "rmse = np.sqrt(mse)\n",
    "print('개별 mse :', mse)\n",
    "print('개별 rmse :', np.round(rmse, 3))\n",
    "print('평균 mse :', round(np.mean(mse), 3))\n",
    "print('평균 mse :', round(np.mean(rmse), 3))"
   ]
  },
  {
   "cell_type": "markdown",
   "metadata": {},
   "source": [
    "Q10. 'Q9에 대하여 R2 Score를 구하세요.(k=5) "
   ]
  },
  {
   "cell_type": "markdown",
   "metadata": {},
   "source": [
    "정답"
   ]
  },
  {
   "cell_type": "code",
   "execution_count": 213,
   "metadata": {
    "ExecuteTime": {
     "end_time": "2022-03-11T03:31:58.311791Z",
     "start_time": "2022-03-11T03:31:58.278761Z"
    }
   },
   "outputs": [
    {
     "name": "stdout",
     "output_type": "stream",
     "text": [
      "개별 r2 :  [0.558 0.786 0.698 0.757 0.799]\n",
      "평균 r2 :  0.72\n"
     ]
    }
   ],
   "source": [
    "r2score = cross_val_score(lr_reg, np.log1p(X), y, scoring = 'r2', cv = kfold)\n",
    "print('개별 r2 : ', np.round(r2score, 3))\n",
    "print('평균 r2 : ', round(np.mean(r2score), 3))"
   ]
  }
 ],
 "metadata": {
  "hide_input": false,
  "kernelspec": {
   "display_name": "Python 3 (ipykernel)",
   "language": "python",
   "name": "python3"
  },
  "language_info": {
   "codemirror_mode": {
    "name": "ipython",
    "version": 3
   },
   "file_extension": ".py",
   "mimetype": "text/x-python",
   "name": "python",
   "nbconvert_exporter": "python",
   "pygments_lexer": "ipython3",
   "version": "3.8.12"
  },
  "toc": {
   "base_numbering": 1,
   "nav_menu": {},
   "number_sections": false,
   "sideBar": true,
   "skip_h1_title": false,
   "title_cell": "Table of Contents",
   "title_sidebar": "Contents",
   "toc_cell": false,
   "toc_position": {},
   "toc_section_display": true,
   "toc_window_display": false
  },
  "varInspector": {
   "cols": {
    "lenName": 16,
    "lenType": 16,
    "lenVar": 40
   },
   "kernels_config": {
    "python": {
     "delete_cmd_postfix": "",
     "delete_cmd_prefix": "del ",
     "library": "var_list.py",
     "varRefreshCmd": "print(var_dic_list())"
    },
    "r": {
     "delete_cmd_postfix": ") ",
     "delete_cmd_prefix": "rm(",
     "library": "var_list.r",
     "varRefreshCmd": "cat(var_dic_list()) "
    }
   },
   "types_to_exclude": [
    "module",
    "function",
    "builtin_function_or_method",
    "instance",
    "_Feature"
   ],
   "window_display": false
  }
 },
 "nbformat": 4,
 "nbformat_minor": 4
}
