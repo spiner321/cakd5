{
 "cells": [
  {
   "cell_type": "code",
   "execution_count": 5,
   "id": "a4308331",
   "metadata": {
    "ExecuteTime": {
     "end_time": "2022-02-16T10:26:06.071821Z",
     "start_time": "2022-02-16T10:26:05.928488Z"
    }
   },
   "outputs": [],
   "source": [
    "import requests\n",
    "import json"
   ]
  },
  {
   "cell_type": "code",
   "execution_count": 17,
   "id": "278eebab",
   "metadata": {
    "ExecuteTime": {
     "end_time": "2022-02-16T10:51:03.702689Z",
     "start_time": "2022-02-16T10:51:03.683743Z"
    }
   },
   "outputs": [
    {
     "ename": "NameError",
     "evalue": "name 'glob' is not defined",
     "output_type": "error",
     "traceback": [
      "\u001b[1;31m---------------------------------------------------------------------------\u001b[0m",
      "\u001b[1;31mNameError\u001b[0m                                 Traceback (most recent call last)",
      "\u001b[1;32m~\\AppData\\Local\\Temp/ipykernel_4512/705920362.py\u001b[0m in \u001b[0;36m<module>\u001b[1;34m\u001b[0m\n\u001b[0;32m      1\u001b[0m \u001b[0mcounts\u001b[0m \u001b[1;33m=\u001b[0m \u001b[1;33m{\u001b[0m\u001b[1;33m}\u001b[0m\u001b[1;33m\u001b[0m\u001b[1;33m\u001b[0m\u001b[0m\n\u001b[1;32m----> 2\u001b[1;33m \u001b[1;32mfor\u001b[0m \u001b[0mactor\u001b[0m \u001b[1;32min\u001b[0m \u001b[0mglob\u001b[0m\u001b[1;33m.\u001b[0m\u001b[0mglob\u001b[0m\u001b[1;33m(\u001b[0m\u001b[0mAUDIO_FOLDER\u001b[0m\u001b[1;33m)\u001b[0m\u001b[1;33m:\u001b[0m               \u001b[1;31m# Loop through each actor in the data set\u001b[0m\u001b[1;33m\u001b[0m\u001b[1;33m\u001b[0m\u001b[0m\n\u001b[0m\u001b[0;32m      3\u001b[0m   \u001b[1;32mfor\u001b[0m \u001b[0maudioFile\u001b[0m \u001b[1;32min\u001b[0m \u001b[0mglob\u001b[0m\u001b[1;33m.\u001b[0m\u001b[0mglob\u001b[0m\u001b[1;33m(\u001b[0m\u001b[0mactor\u001b[0m \u001b[1;33m+\u001b[0m\u001b[1;34m'/*'\u001b[0m\u001b[1;33m)\u001b[0m\u001b[1;33m:\u001b[0m          \u001b[1;31m# Loop over each audio file in that directory\u001b[0m\u001b[1;33m\u001b[0m\u001b[1;33m\u001b[0m\u001b[0m\n\u001b[0;32m      4\u001b[0m     \u001b[0memotion\u001b[0m\u001b[1;33m=\u001b[0m\u001b[0mdicts\u001b[0m\u001b[1;33m[\u001b[0m\u001b[0maudioFile\u001b[0m\u001b[1;33m[\u001b[0m\u001b[1;33m-\u001b[0m\u001b[1;36m18\u001b[0m\u001b[1;33m:\u001b[0m\u001b[1;33m-\u001b[0m\u001b[1;36m16\u001b[0m\u001b[1;33m]\u001b[0m\u001b[1;33m]\u001b[0m               \u001b[1;31m# Returns numbers from the audio file name, using the dictionary mapping each numerical value to emotions\u001b[0m\u001b[1;33m\u001b[0m\u001b[1;33m\u001b[0m\u001b[0m\n\u001b[0;32m      5\u001b[0m     \u001b[0msave_path_train\u001b[0m \u001b[1;33m=\u001b[0m \u001b[0mOUTPUT_FOLDER_TRAIN\u001b[0m \u001b[1;33m+\u001b[0m \u001b[0memotion\u001b[0m \u001b[1;31m# Create new file name\u001b[0m\u001b[1;33m\u001b[0m\u001b[1;33m\u001b[0m\u001b[0m\n",
      "\u001b[1;31mNameError\u001b[0m: name 'glob' is not defined"
     ]
    }
   ],
   "source": [
    "counts = {}\n",
    "for actor in glob.glob(AUDIO_FOLDER):               # Loop through each actor in the data set \n",
    "  for audioFile in glob.glob(actor +'/*'):          # Loop over each audio file in that directory\n",
    "    emotion=dicts[audioFile[-18:-16]]               # Returns numbers from the audio file name, using the dictionary mapping each numerical value to emotions \n",
    "    save_path_train = OUTPUT_FOLDER_TRAIN + emotion # Create new file name\n",
    "    save_path_test = OUTPUT_FOLDER_TEST + emotion   # Create new file name\n",
    "    # Convert to melspectrogram\n",
    "    y, sr = librosa.load(audioFile)                 # Load the file with librosa\n",
    "    yt,_=librosa.effects.trim(y)                    # Trim leading and trailing silence from an audio signal.          \n",
    "    y=yt\n",
    "    # Creare spectrogram from audio file\n",
    "    mel_spect = librosa.feature.melspectrogram(y=y, sr=sr, n_fft=1024, hop_length=100)\n",
    "    mel_spect = librosa.power_to_db(mel_spect, ref=np.max)\n",
    "    librosa.display.specshow(mel_spect, y_axis='mel', fmax=20000, x_axis='time')\n",
    "    \n",
    "    # Logic to split up test and train data\n",
    "    count = counts.get(emotion, 1)\n",
    "    if (count % 8 == 0):\n",
    "      p = os.path.join(save_path_test, \"{}{}.jpg\".format(emotion, str(count).zfill(6)))\n",
    "    else:\n",
    "      p = os.path.join(save_path_train, \"{}{}.jpg\".format(emotion, str(count).zfill(6)))              \n",
    "    counts[emotion] = count + 1\n",
    "\n",
    "    # Save to the aforementioned path\n",
    "    plt.savefig(p) "
   ]
  }
 ],
 "metadata": {
  "hide_input": false,
  "kernelspec": {
   "display_name": "Python 3 (ipykernel)",
   "language": "python",
   "name": "python3"
  },
  "language_info": {
   "codemirror_mode": {
    "name": "ipython",
    "version": 3
   },
   "file_extension": ".py",
   "mimetype": "text/x-python",
   "name": "python",
   "nbconvert_exporter": "python",
   "pygments_lexer": "ipython3",
   "version": "3.8.12"
  },
  "toc": {
   "base_numbering": 1,
   "nav_menu": {},
   "number_sections": false,
   "sideBar": true,
   "skip_h1_title": false,
   "title_cell": "Table of Contents",
   "title_sidebar": "Contents",
   "toc_cell": false,
   "toc_position": {},
   "toc_section_display": true,
   "toc_window_display": false
  },
  "varInspector": {
   "cols": {
    "lenName": "16",
    "lenType": "16",
    "lenVar": 40
   },
   "kernels_config": {
    "python": {
     "delete_cmd_postfix": "",
     "delete_cmd_prefix": "del ",
     "library": "var_list.py",
     "varRefreshCmd": "print(var_dic_list())"
    },
    "r": {
     "delete_cmd_postfix": ") ",
     "delete_cmd_prefix": "rm(",
     "library": "var_list.r",
     "varRefreshCmd": "cat(var_dic_list()) "
    }
   },
   "types_to_exclude": [
    "module",
    "function",
    "builtin_function_or_method",
    "instance",
    "_Feature"
   ],
   "window_display": false
  }
 },
 "nbformat": 4,
 "nbformat_minor": 5
}
