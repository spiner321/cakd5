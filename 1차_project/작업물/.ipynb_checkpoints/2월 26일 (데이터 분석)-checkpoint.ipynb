{
 "cells": [
  {
   "cell_type": "code",
   "execution_count": 3,
   "id": "3877e7c5",
   "metadata": {
    "ExecuteTime": {
     "end_time": "2022-02-26T03:22:11.455331Z",
     "start_time": "2022-02-26T03:22:09.832689Z"
    }
   },
   "outputs": [],
   "source": [
    "import cx_Oracle\n",
    "import pandas as pd\n",
    "import numpy as np\n",
    "import matplotlib.pyplot as plt\n",
    "import seaborn as sns\n",
    "import csv\n",
    "import warnings\n",
    "warnings.filterwarnings('ignore')\n",
    "plt.style.use('seaborn')\n",
    "plt.rc('font', family = 'Malgun Gothic') # 한글 입력\n",
    "plt.rcParams['axes.unicode_minus'] = False # 글꼴 변경시 마이너스 표기 가능으로 처리"
   ]
  },
  {
   "cell_type": "code",
   "execution_count": 4,
   "id": "1c2c2bf6",
   "metadata": {
    "ExecuteTime": {
     "end_time": "2022-02-26T03:22:13.815123Z",
     "start_time": "2022-02-26T03:22:13.072449Z"
    }
   },
   "outputs": [
    {
     "ename": "DatabaseError",
     "evalue": "ORA-00904: \"YEAR\": 부적합한 식별자",
     "output_type": "error",
     "traceback": [
      "\u001b[1;31m---------------------------------------------------------------------------\u001b[0m",
      "\u001b[1;31mDatabaseError\u001b[0m                             Traceback (most recent call last)",
      "\u001b[1;32m~\\AppData\\Local\\Temp/ipykernel_17564/3109102544.py\u001b[0m in \u001b[0;36m<module>\u001b[1;34m\u001b[0m\n\u001b[0;32m     11\u001b[0m \u001b[0mWHERE\u001b[0m \u001b[0ma\u001b[0m\u001b[1;33m.\u001b[0m\u001b[0m고객번호\u001b[0m \u001b[1;33m=\u001b[0m \u001b[0mb\u001b[0m\u001b[1;33m.\u001b[0m\u001b[0m고객번호\u001b[0m \u001b[0mAND\u001b[0m \u001b[0ma\u001b[0m\u001b[1;33m.\u001b[0m\u001b[0m제휴사\u001b[0m \u001b[1;33m=\u001b[0m \u001b[0mb\u001b[0m\u001b[1;33m.\u001b[0m\u001b[0m제휴사\u001b[0m \u001b[0mAND\u001b[0m \u001b[0ma\u001b[0m\u001b[1;33m.\u001b[0m\u001b[0m고객번호\u001b[0m \u001b[1;33m=\u001b[0m \u001b[0mc\u001b[0m\u001b[1;33m.\u001b[0m\u001b[0m고객번호\u001b[0m \u001b[0mAND\u001b[0m \u001b[0mB\u001b[0m\u001b[1;33m.\u001b[0m\u001b[0m성별\u001b[0m \u001b[1;33m=\u001b[0m \u001b[0mC\u001b[0m\u001b[1;33m.\u001b[0m\u001b[0m성별\u001b[0m\u001b[1;33m\u001b[0m\u001b[1;33m\u001b[0m\u001b[0m\n\u001b[0;32m     12\u001b[0m ORDER BY a.고객번호'''\n\u001b[1;32m---> 13\u001b[1;33m \u001b[0mcursor\u001b[0m\u001b[1;33m.\u001b[0m\u001b[0mexecute\u001b[0m\u001b[1;33m(\u001b[0m\u001b[0msql\u001b[0m\u001b[1;33m)\u001b[0m\u001b[1;33m\u001b[0m\u001b[1;33m\u001b[0m\u001b[0m\n\u001b[0m\u001b[0;32m     14\u001b[0m \u001b[0mx\u001b[0m \u001b[1;33m=\u001b[0m \u001b[0mcursor\u001b[0m\u001b[1;33m.\u001b[0m\u001b[0mfetchall\u001b[0m\u001b[1;33m(\u001b[0m\u001b[1;33m)\u001b[0m\u001b[1;33m\u001b[0m\u001b[1;33m\u001b[0m\u001b[0m\n\u001b[0;32m     15\u001b[0m \u001b[0mcolumns\u001b[0m \u001b[1;33m=\u001b[0m \u001b[1;33m[\u001b[0m\u001b[1;34m'고객번호'\u001b[0m\u001b[1;33m,\u001b[0m \u001b[1;34m'제휴사'\u001b[0m\u001b[1;33m,\u001b[0m \u001b[1;34m'성별'\u001b[0m\u001b[1;33m,\u001b[0m \u001b[1;34m'연령대'\u001b[0m\u001b[1;33m,\u001b[0m \u001b[1;34m'거주지'\u001b[0m\u001b[1;33m,\u001b[0m \u001b[1;34m'경쟁사이용횟수'\u001b[0m\u001b[1;33m,\u001b[0m \u001b[1;34m'매출'\u001b[0m\u001b[1;33m]\u001b[0m\u001b[1;33m\u001b[0m\u001b[1;33m\u001b[0m\u001b[0m\n",
      "\u001b[1;31mDatabaseError\u001b[0m: ORA-00904: \"YEAR\": 부적합한 식별자"
     ]
    }
   ],
   "source": [
    "con = cx_Oracle.connect('LM_PDB/LM@localhost:1521/xepdb1')\n",
    "cursor = con.cursor()\n",
    "sql ='''SELECT a.고객번호, a.제휴사, B.성별, 연령대, 거주지역, 경쟁사이용횟수, 매출\n",
    "FROM\n",
    "(SELECT 고객번호, 제휴사, COUNT(경쟁사) \"경쟁사이용횟수\", SUBSTR(이용년월, 0, 4) \"YEAR\" FROM COMPET\n",
    "GROUP BY 고객번호, 제휴사, SUBSTR(이용년월, 0, 4)\n",
    "ORDER BY 고객번호) a,\n",
    "(SELECT * FROM 번호제휴성별연도건수매출\n",
    "WHERE 연도 = 2015) b,\n",
    "CUSTDEMO C\n",
    "WHERE a.고객번호 = b.고객번호 AND a.제휴사 = b.제휴사 AND a.고객번호 = c.고객번호 AND B.성별 = C.성별\n",
    "ORDER BY a.고객번호'''\n",
    "cursor.execute(sql)\n",
    "x = cursor.fetchall()\n",
    "columns = ['고객번호', '제휴사', '성별', '연령대', '거주지', '경쟁사이용횟수', '매출']\n",
    "df = pd.DataFrame(x,columns=columns)\n",
    "display(df)\n",
    "cursor.close()\n",
    "con.commit()\n",
    "con.close()"
   ]
  },
  {
   "cell_type": "code",
   "execution_count": 20,
   "id": "c7d80cfa",
   "metadata": {
    "ExecuteTime": {
     "end_time": "2022-02-26T02:12:07.626989Z",
     "start_time": "2022-02-26T02:12:07.597963Z"
    }
   },
   "outputs": [
    {
     "data": {
      "text/html": [
       "<div>\n",
       "<style scoped>\n",
       "    .dataframe tbody tr th:only-of-type {\n",
       "        vertical-align: middle;\n",
       "    }\n",
       "\n",
       "    .dataframe tbody tr th {\n",
       "        vertical-align: top;\n",
       "    }\n",
       "\n",
       "    .dataframe thead th {\n",
       "        text-align: right;\n",
       "    }\n",
       "</style>\n",
       "<table border=\"1\" class=\"dataframe\">\n",
       "  <thead>\n",
       "    <tr style=\"text-align: right;\">\n",
       "      <th></th>\n",
       "      <th>고객번호</th>\n",
       "      <th>제휴사</th>\n",
       "      <th>성별</th>\n",
       "      <th>연령대</th>\n",
       "      <th>거주지</th>\n",
       "      <th>A경쟁사이용횟수</th>\n",
       "      <th>매출</th>\n",
       "    </tr>\n",
       "  </thead>\n",
       "  <tbody>\n",
       "    <tr>\n",
       "      <th>0</th>\n",
       "      <td>00001</td>\n",
       "      <td>A</td>\n",
       "      <td>M</td>\n",
       "      <td>60세이상</td>\n",
       "      <td>060</td>\n",
       "      <td>2</td>\n",
       "      <td>30183640</td>\n",
       "    </tr>\n",
       "    <tr>\n",
       "      <th>3</th>\n",
       "      <td>00002</td>\n",
       "      <td>A</td>\n",
       "      <td>M</td>\n",
       "      <td>60세이상</td>\n",
       "      <td>100</td>\n",
       "      <td>2</td>\n",
       "      <td>53286470</td>\n",
       "    </tr>\n",
       "    <tr>\n",
       "      <th>6</th>\n",
       "      <td>00004</td>\n",
       "      <td>A</td>\n",
       "      <td>F</td>\n",
       "      <td>60세이상</td>\n",
       "      <td>016</td>\n",
       "      <td>2</td>\n",
       "      <td>5934830</td>\n",
       "    </tr>\n",
       "    <tr>\n",
       "      <th>8</th>\n",
       "      <td>00007</td>\n",
       "      <td>A</td>\n",
       "      <td>F</td>\n",
       "      <td>60세이상</td>\n",
       "      <td>036</td>\n",
       "      <td>1</td>\n",
       "      <td>38314500</td>\n",
       "    </tr>\n",
       "    <tr>\n",
       "      <th>9</th>\n",
       "      <td>00008</td>\n",
       "      <td>A</td>\n",
       "      <td>M</td>\n",
       "      <td>60세이상</td>\n",
       "      <td>010</td>\n",
       "      <td>1</td>\n",
       "      <td>32241700</td>\n",
       "    </tr>\n",
       "    <tr>\n",
       "      <th>...</th>\n",
       "      <td>...</td>\n",
       "      <td>...</td>\n",
       "      <td>...</td>\n",
       "      <td>...</td>\n",
       "      <td>...</td>\n",
       "      <td>...</td>\n",
       "      <td>...</td>\n",
       "    </tr>\n",
       "    <tr>\n",
       "      <th>7820</th>\n",
       "      <td>19334</td>\n",
       "      <td>A</td>\n",
       "      <td>M</td>\n",
       "      <td>35세~39세</td>\n",
       "      <td>310</td>\n",
       "      <td>14</td>\n",
       "      <td>382000</td>\n",
       "    </tr>\n",
       "    <tr>\n",
       "      <th>7823</th>\n",
       "      <td>19355</td>\n",
       "      <td>A</td>\n",
       "      <td>F</td>\n",
       "      <td>20세~24세</td>\n",
       "      <td>100</td>\n",
       "      <td>1</td>\n",
       "      <td>194920</td>\n",
       "    </tr>\n",
       "    <tr>\n",
       "      <th>7824</th>\n",
       "      <td>19362</td>\n",
       "      <td>A</td>\n",
       "      <td>F</td>\n",
       "      <td>45세~49세</td>\n",
       "      <td>016</td>\n",
       "      <td>2</td>\n",
       "      <td>28842660</td>\n",
       "    </tr>\n",
       "    <tr>\n",
       "      <th>7827</th>\n",
       "      <td>19367</td>\n",
       "      <td>A</td>\n",
       "      <td>M</td>\n",
       "      <td>45세~49세</td>\n",
       "      <td>020</td>\n",
       "      <td>1</td>\n",
       "      <td>11180490</td>\n",
       "    </tr>\n",
       "    <tr>\n",
       "      <th>7831</th>\n",
       "      <td>19375</td>\n",
       "      <td>A</td>\n",
       "      <td>F</td>\n",
       "      <td>25세~29세</td>\n",
       "      <td>049</td>\n",
       "      <td>1</td>\n",
       "      <td>161950</td>\n",
       "    </tr>\n",
       "  </tbody>\n",
       "</table>\n",
       "<p>2473 rows × 7 columns</p>\n",
       "</div>"
      ],
      "text/plain": [
       "       고객번호 제휴사 성별      연령대  거주지  A경쟁사이용횟수        매출\n",
       "0     00001   A  M    60세이상  060         2  30183640\n",
       "3     00002   A  M    60세이상  100         2  53286470\n",
       "6     00004   A  F    60세이상  016         2   5934830\n",
       "8     00007   A  F    60세이상  036         1  38314500\n",
       "9     00008   A  M    60세이상  010         1  32241700\n",
       "...     ...  .. ..      ...  ...       ...       ...\n",
       "7820  19334   A  M  35세~39세  310        14    382000\n",
       "7823  19355   A  F  20세~24세  100         1    194920\n",
       "7824  19362   A  F  45세~49세  016         2  28842660\n",
       "7827  19367   A  M  45세~49세  020         1  11180490\n",
       "7831  19375   A  F  25세~29세  049         1    161950\n",
       "\n",
       "[2473 rows x 7 columns]"
      ]
     },
     "execution_count": 20,
     "metadata": {},
     "output_type": "execute_result"
    }
   ],
   "source": [
    "df_A = df.loc[df['제휴사'] == 'A']\n",
    "df_B = df.loc[df['제휴사'] == 'B']\n",
    "df_C = df.loc[df['제휴사'] == 'C']\n",
    "df_D = df.loc[df['제휴사'] == 'D']\n",
    "df_A.columns = ['고객번호', '제휴사', '성별', '연령대', '거주지', 'A경쟁사이용횟수', '매출']\n",
    "df_B.columns = ['고객번호', '제휴사', '성별', '연령대', '거주지', 'B경쟁사이용횟수', '매출']\n",
    "df_C.columns = ['고객번호', '제휴사', '성별', '연령대', '거주지', 'C경쟁사이용횟수', '매출']\n",
    "df_D.columns = ['고객번호', '제휴사', '성별', '연령대', '거주지', 'D경쟁사이용횟수', '매출']\n",
    "\n",
    "df_A"
   ]
  },
  {
   "cell_type": "code",
   "execution_count": 2,
   "id": "80e94c92",
   "metadata": {
    "ExecuteTime": {
     "end_time": "2022-02-26T03:22:03.108654Z",
     "start_time": "2022-02-26T03:22:02.879446Z"
    }
   },
   "outputs": [
    {
     "ename": "NameError",
     "evalue": "name 'plt' is not defined",
     "output_type": "error",
     "traceback": [
      "\u001b[1;31m---------------------------------------------------------------------------\u001b[0m",
      "\u001b[1;31mNameError\u001b[0m                                 Traceback (most recent call last)",
      "\u001b[1;32m~\\AppData\\Local\\Temp/ipykernel_17564/2514739261.py\u001b[0m in \u001b[0;36m<module>\u001b[1;34m\u001b[0m\n\u001b[1;32m----> 1\u001b[1;33m \u001b[0mfig\u001b[0m \u001b[1;33m=\u001b[0m \u001b[0mplt\u001b[0m\u001b[1;33m.\u001b[0m\u001b[0mfigure\u001b[0m\u001b[1;33m(\u001b[0m\u001b[0mfigsize\u001b[0m \u001b[1;33m=\u001b[0m \u001b[1;33m(\u001b[0m\u001b[1;36m20\u001b[0m\u001b[1;33m,\u001b[0m \u001b[1;36m15\u001b[0m\u001b[1;33m)\u001b[0m\u001b[1;33m)\u001b[0m\u001b[1;33m\u001b[0m\u001b[1;33m\u001b[0m\u001b[0m\n\u001b[0m\u001b[0;32m      2\u001b[0m \u001b[0max1\u001b[0m \u001b[1;33m=\u001b[0m \u001b[0mfig\u001b[0m\u001b[1;33m.\u001b[0m\u001b[0madd_subplot\u001b[0m\u001b[1;33m(\u001b[0m\u001b[1;36m221\u001b[0m\u001b[1;33m)\u001b[0m\u001b[1;33m\u001b[0m\u001b[1;33m\u001b[0m\u001b[0m\n\u001b[0;32m      3\u001b[0m \u001b[0max2\u001b[0m \u001b[1;33m=\u001b[0m \u001b[0mfig\u001b[0m\u001b[1;33m.\u001b[0m\u001b[0madd_subplot\u001b[0m\u001b[1;33m(\u001b[0m\u001b[1;36m222\u001b[0m\u001b[1;33m)\u001b[0m\u001b[1;33m\u001b[0m\u001b[1;33m\u001b[0m\u001b[0m\n\u001b[0;32m      4\u001b[0m \u001b[0max3\u001b[0m \u001b[1;33m=\u001b[0m \u001b[0mfig\u001b[0m\u001b[1;33m.\u001b[0m\u001b[0madd_subplot\u001b[0m\u001b[1;33m(\u001b[0m\u001b[1;36m223\u001b[0m\u001b[1;33m)\u001b[0m\u001b[1;33m\u001b[0m\u001b[1;33m\u001b[0m\u001b[0m\n\u001b[0;32m      5\u001b[0m \u001b[0max4\u001b[0m \u001b[1;33m=\u001b[0m \u001b[0mfig\u001b[0m\u001b[1;33m.\u001b[0m\u001b[0madd_subplot\u001b[0m\u001b[1;33m(\u001b[0m\u001b[1;36m224\u001b[0m\u001b[1;33m)\u001b[0m\u001b[1;33m\u001b[0m\u001b[1;33m\u001b[0m\u001b[0m\n",
      "\u001b[1;31mNameError\u001b[0m: name 'plt' is not defined"
     ]
    }
   ],
   "source": [
    "fig = plt.figure(figsize = (20, 15))\n",
    "ax1 = fig.add_subplot(221)\n",
    "ax2 = fig.add_subplot(222)\n",
    "ax3 = fig.add_subplot(223)\n",
    "ax4 = fig.add_subplot(224)\n",
    "\n",
    "sns.scatterplot(data = df_A, x = 'A경쟁사이용횟수', y = '매출', hue = ['성별', '거주지'],  style = '성별', ax = ax1)\n",
    "sns.scatterplot(data = df_B, x = 'B경쟁사이용횟수', y = '매출', hue = '성별', style = '성별', ax = ax2)\n",
    "sns.scatterplot(data = df_C, x = 'C경쟁사이용횟수', y = '매출', hue = '성별', style = '성별', ax = ax3)\n",
    "sns.scatterplot(data = df_D, x = 'D경쟁사이용횟수', y = '매출', hue = '성별', style = '성별', ax = ax4)\n",
    "ax1.legend(fontsize = '15')\n",
    "ax2.legend(fontsize = '15')\n",
    "ax3.legend(fontsize = '15')\n",
    "ax4.legend(fontsize = '15')"
   ]
  }
 ],
 "metadata": {
  "hide_input": false,
  "kernelspec": {
   "display_name": "Python 3 (ipykernel)",
   "language": "python",
   "name": "python3"
  },
  "language_info": {
   "codemirror_mode": {
    "name": "ipython",
    "version": 3
   },
   "file_extension": ".py",
   "mimetype": "text/x-python",
   "name": "python",
   "nbconvert_exporter": "python",
   "pygments_lexer": "ipython3",
   "version": "3.8.12"
  },
  "toc": {
   "base_numbering": 1,
   "nav_menu": {},
   "number_sections": false,
   "sideBar": true,
   "skip_h1_title": false,
   "title_cell": "Table of Contents",
   "title_sidebar": "Contents",
   "toc_cell": false,
   "toc_position": {},
   "toc_section_display": true,
   "toc_window_display": false
  },
  "varInspector": {
   "cols": {
    "lenName": 16,
    "lenType": 16,
    "lenVar": 40
   },
   "kernels_config": {
    "python": {
     "delete_cmd_postfix": "",
     "delete_cmd_prefix": "del ",
     "library": "var_list.py",
     "varRefreshCmd": "print(var_dic_list())"
    },
    "r": {
     "delete_cmd_postfix": ") ",
     "delete_cmd_prefix": "rm(",
     "library": "var_list.r",
     "varRefreshCmd": "cat(var_dic_list()) "
    }
   },
   "types_to_exclude": [
    "module",
    "function",
    "builtin_function_or_method",
    "instance",
    "_Feature"
   ],
   "window_display": false
  }
 },
 "nbformat": 4,
 "nbformat_minor": 5
}
