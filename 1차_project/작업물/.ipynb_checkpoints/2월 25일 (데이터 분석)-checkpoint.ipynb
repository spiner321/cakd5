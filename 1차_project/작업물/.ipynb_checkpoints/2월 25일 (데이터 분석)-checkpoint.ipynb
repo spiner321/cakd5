{
 "cells": [
  {
   "cell_type": "code",
   "execution_count": 1,
   "id": "71970b3f",
   "metadata": {
    "ExecuteTime": {
     "end_time": "2022-02-26T06:09:48.632411Z",
     "start_time": "2022-02-26T06:09:47.059934Z"
    }
   },
   "outputs": [],
   "source": [
    "import cx_Oracle\n",
    "import pandas as pd\n",
    "import numpy as np\n",
    "import matplotlib.pyplot as plt\n",
    "import seaborn as sns\n",
    "import csv\n",
    "import warnings\n",
    "warnings.filterwarnings('ignore')\n",
    "plt.style.use('seaborn')\n",
    "plt.rc('font', family = 'Malgun Gothic') # 한글 입력\n",
    "plt.rcParams['axes.unicode_minus'] = False # 글꼴 변경시 마이너스 표기 가능으로 처리"
   ]
  },
  {
   "cell_type": "markdown",
   "id": "1200fc3f",
   "metadata": {},
   "source": [
    "# [2월 25일]\n",
    "---"
   ]
  },
  {
   "cell_type": "code",
   "execution_count": 2,
   "id": "05138a68",
   "metadata": {
    "ExecuteTime": {
     "end_time": "2022-02-26T06:11:55.665033Z",
     "start_time": "2022-02-26T06:11:34.500703Z"
    }
   },
   "outputs": [
    {
     "data": {
      "text/html": [
       "<div>\n",
       "<style scoped>\n",
       "    .dataframe tbody tr th:only-of-type {\n",
       "        vertical-align: middle;\n",
       "    }\n",
       "\n",
       "    .dataframe tbody tr th {\n",
       "        vertical-align: top;\n",
       "    }\n",
       "\n",
       "    .dataframe thead th {\n",
       "        text-align: right;\n",
       "    }\n",
       "</style>\n",
       "<table border=\"1\" class=\"dataframe\">\n",
       "  <thead>\n",
       "    <tr style=\"text-align: right;\">\n",
       "      <th></th>\n",
       "      <th>2014년 총매출액</th>\n",
       "      <th>2015년 총매출액</th>\n",
       "      <th>총매출액</th>\n",
       "      <th>2014년 대비 2015년 총매출액 증감률</th>\n",
       "    </tr>\n",
       "  </thead>\n",
       "  <tbody>\n",
       "    <tr>\n",
       "      <th>0</th>\n",
       "      <td>329601840581</td>\n",
       "      <td>347417316360</td>\n",
       "      <td>677019156941</td>\n",
       "      <td>5.13</td>\n",
       "    </tr>\n",
       "  </tbody>\n",
       "</table>\n",
       "</div>"
      ],
      "text/plain": [
       "     2014년 총매출액    2015년 총매출액          총매출액 2014년 대비 2015년 총매출액 증감률\n",
       "0  329601840581  347417316360  677019156941                    5.13"
      ]
     },
     "metadata": {},
     "output_type": "display_data"
    }
   ],
   "source": [
    "# 2014, 2015, 2년 합산 매출, 증감률\n",
    "\n",
    "con = cx_Oracle .connect('LM_PDB/LM@localhost:1521/xepdb1')\n",
    "cursor = con.cursor()\n",
    "sql ='''SELECT \"2014 구매금액\" \"2014\", \"2015 구매금액\" \"2015\", \"2014 구매금액\" + \"2015 구매금액\" \"합계\",\n",
    "TO_CHAR((\"2015 구매금액\"-\"2014 구매금액\")/\"2015 구매금액\"*100, '99.99') \"증감률\"\n",
    "FROM \n",
    "(SELECT SUM(구매금액) \"2014 구매금액\" FROM PURPROD WHERE 연도 = 2014) a,\n",
    "(SELECT SUM(구매금액) \"2015 구매금액\" FROM PURPROD WHERE 연도 = 2015) b'''\n",
    "cursor.execute(sql)\n",
    "x = cursor.fetchall()\n",
    "columns = ['2014년 총매출액','2015년 총매출액', '총매출액', '2014년 대비 2015년 총매출액 증감률']\n",
    "df1 = pd.DataFrame(x,columns=columns)\n",
    "display(df1)\n",
    "cursor.close()\n",
    "con.commit()\n",
    "con.close()"
   ]
  },
  {
   "cell_type": "code",
   "execution_count": 40,
   "id": "5a508d8b",
   "metadata": {
    "ExecuteTime": {
     "end_time": "2022-02-25T09:50:33.023916Z",
     "start_time": "2022-02-25T09:50:22.690898Z"
    }
   },
   "outputs": [
    {
     "data": {
      "text/html": [
       "<div>\n",
       "<style scoped>\n",
       "    .dataframe tbody tr th:only-of-type {\n",
       "        vertical-align: middle;\n",
       "    }\n",
       "\n",
       "    .dataframe tbody tr th {\n",
       "        vertical-align: top;\n",
       "    }\n",
       "\n",
       "    .dataframe thead th {\n",
       "        text-align: right;\n",
       "    }\n",
       "</style>\n",
       "<table border=\"1\" class=\"dataframe\">\n",
       "  <thead>\n",
       "    <tr style=\"text-align: right;\">\n",
       "      <th></th>\n",
       "      <th>year</th>\n",
       "      <th>분기</th>\n",
       "      <th>총매출액</th>\n",
       "    </tr>\n",
       "  </thead>\n",
       "  <tbody>\n",
       "    <tr>\n",
       "      <th>0</th>\n",
       "      <td>2014</td>\n",
       "      <td>1분기</td>\n",
       "      <td>77694762743</td>\n",
       "    </tr>\n",
       "    <tr>\n",
       "      <th>1</th>\n",
       "      <td>2015</td>\n",
       "      <td>1분기</td>\n",
       "      <td>84454475955</td>\n",
       "    </tr>\n",
       "    <tr>\n",
       "      <th>2</th>\n",
       "      <td>2014</td>\n",
       "      <td>2분기</td>\n",
       "      <td>80545967397</td>\n",
       "    </tr>\n",
       "    <tr>\n",
       "      <th>3</th>\n",
       "      <td>2015</td>\n",
       "      <td>2분기</td>\n",
       "      <td>84834674190</td>\n",
       "    </tr>\n",
       "    <tr>\n",
       "      <th>4</th>\n",
       "      <td>2014</td>\n",
       "      <td>3분기</td>\n",
       "      <td>74949714657</td>\n",
       "    </tr>\n",
       "    <tr>\n",
       "      <th>5</th>\n",
       "      <td>2015</td>\n",
       "      <td>3분기</td>\n",
       "      <td>79536551000</td>\n",
       "    </tr>\n",
       "    <tr>\n",
       "      <th>6</th>\n",
       "      <td>2014</td>\n",
       "      <td>4분기</td>\n",
       "      <td>96411395784</td>\n",
       "    </tr>\n",
       "    <tr>\n",
       "      <th>7</th>\n",
       "      <td>2015</td>\n",
       "      <td>4분기</td>\n",
       "      <td>98591615215</td>\n",
       "    </tr>\n",
       "  </tbody>\n",
       "</table>\n",
       "</div>"
      ],
      "text/plain": [
       "   year   분기         총매출액\n",
       "0  2014  1분기  77694762743\n",
       "1  2015  1분기  84454475955\n",
       "2  2014  2분기  80545967397\n",
       "3  2015  2분기  84834674190\n",
       "4  2014  3분기  74949714657\n",
       "5  2015  3분기  79536551000\n",
       "6  2014  4분기  96411395784\n",
       "7  2015  4분기  98591615215"
      ]
     },
     "metadata": {},
     "output_type": "display_data"
    }
   ],
   "source": [
    "# 4분기 동안의 매출액 (2014년 상반기, 하반기, 2015년 상반기, 하반기)\n",
    "\n",
    "con = cx_Oracle .connect('LM_PDB/LM@localhost:1521/xepdb1')\n",
    "cursor = con.cursor()\n",
    "sql ='''SELECT 연도,분기,SUM(구매금액) 총매출액 FROM PURPROD GROUP BY 분기,연도 ORDER BY 분기, 연도'''\n",
    "cursor.execute(sql)\n",
    "x = cursor.fetchall()\n",
    "columns = ['연도','분기', '총매출액']\n",
    "df2 = pd.DataFrame(x,columns=columns)\n",
    "display(df2)\n",
    "cursor.close()\n",
    "con.commit()\n",
    "con.close()"
   ]
  },
  {
   "cell_type": "code",
   "execution_count": 41,
   "id": "3ea5a4f2",
   "metadata": {
    "ExecuteTime": {
     "end_time": "2022-02-25T09:50:35.489813Z",
     "start_time": "2022-02-25T09:50:35.377712Z"
    }
   },
   "outputs": [
    {
     "data": {
      "text/plain": [
       "<AxesSubplot:xlabel='year'>"
      ]
     },
     "execution_count": 41,
     "metadata": {},
     "output_type": "execute_result"
    },
    {
     "data": {
      "image/png": "[encoded data removed]",
      "text/plain": [
       "<Figure size 576x396 with 1 Axes>"
      ]
     },
     "metadata": {},
     "output_type": "display_data"
    }
   ],
   "source": [
    "df2.groupby(['연도']).sum().plot(kind='bar',rot = 0)"
   ]
  },
  {
   "cell_type": "code",
   "execution_count": 43,
   "id": "54debcda",
   "metadata": {
    "ExecuteTime": {
     "end_time": "2022-02-25T09:51:34.106760Z",
     "start_time": "2022-02-25T09:51:33.986652Z"
    }
   },
   "outputs": [
    {
     "data": {
      "text/plain": [
       "<AxesSubplot:xlabel='분기,year'>"
      ]
     },
     "execution_count": 43,
     "metadata": {},
     "output_type": "execute_result"
    },
    {
     "data": {
      "image/png": "[encoded data removed]",
      "text/plain": [
       "<Figure size 576x396 with 1 Axes>"
      ]
     },
     "metadata": {},
     "output_type": "display_data"
    }
   ],
   "source": [
    "df2.groupby(['분기','연도']).sum().plot(kind='bar',rot = 45)"
   ]
  },
  {
   "cell_type": "code",
   "execution_count": 46,
   "id": "86fbbc18",
   "metadata": {
    "ExecuteTime": {
     "end_time": "2022-02-25T09:51:45.505848Z",
     "start_time": "2022-02-25T09:51:45.388740Z"
    }
   },
   "outputs": [
    {
     "data": {
      "text/plain": [
       "<AxesSubplot:xlabel='year,분기'>"
      ]
     },
     "execution_count": 46,
     "metadata": {},
     "output_type": "execute_result"
    },
    {
     "data": {
      "image/png": "[encoded data removed]",
      "text/plain": [
       "<Figure size 576x396 with 1 Axes>"
      ]
     },
     "metadata": {},
     "output_type": "display_data"
    }
   ],
   "source": [
    "df2.groupby(['연도','분기']).sum().plot(rot = 45)"
   ]
  },
  {
   "cell_type": "code",
   "execution_count": 47,
   "id": "f157943d",
   "metadata": {
    "ExecuteTime": {
     "end_time": "2022-02-25T09:52:54.156279Z",
     "start_time": "2022-02-25T09:52:43.901625Z"
    }
   },
   "outputs": [
    {
     "data": {
      "text/html": [
       "<div>\n",
       "<style scoped>\n",
       "    .dataframe tbody tr th:only-of-type {\n",
       "        vertical-align: middle;\n",
       "    }\n",
       "\n",
       "    .dataframe tbody tr th {\n",
       "        vertical-align: top;\n",
       "    }\n",
       "\n",
       "    .dataframe thead th {\n",
       "        text-align: right;\n",
       "    }\n",
       "</style>\n",
       "<table border=\"1\" class=\"dataframe\">\n",
       "  <thead>\n",
       "    <tr style=\"text-align: right;\">\n",
       "      <th></th>\n",
       "      <th>제휴사</th>\n",
       "      <th>성별</th>\n",
       "      <th>구매건수</th>\n",
       "      <th>year</th>\n",
       "      <th>총매출액</th>\n",
       "    </tr>\n",
       "  </thead>\n",
       "  <tbody>\n",
       "    <tr>\n",
       "      <th>0</th>\n",
       "      <td>A</td>\n",
       "      <td>F</td>\n",
       "      <td>2384553</td>\n",
       "      <td>2014</td>\n",
       "      <td>200997228750</td>\n",
       "    </tr>\n",
       "    <tr>\n",
       "      <th>1</th>\n",
       "      <td>A</td>\n",
       "      <td>F</td>\n",
       "      <td>2416023</td>\n",
       "      <td>2015</td>\n",
       "      <td>215252464680</td>\n",
       "    </tr>\n",
       "    <tr>\n",
       "      <th>2</th>\n",
       "      <td>A</td>\n",
       "      <td>M</td>\n",
       "      <td>479303</td>\n",
       "      <td>2014</td>\n",
       "      <td>48110481450</td>\n",
       "    </tr>\n",
       "    <tr>\n",
       "      <th>3</th>\n",
       "      <td>A</td>\n",
       "      <td>M</td>\n",
       "      <td>490439</td>\n",
       "      <td>2015</td>\n",
       "      <td>50480969150</td>\n",
       "    </tr>\n",
       "    <tr>\n",
       "      <th>4</th>\n",
       "      <td>B</td>\n",
       "      <td>F</td>\n",
       "      <td>5199031</td>\n",
       "      <td>2014</td>\n",
       "      <td>43361055682</td>\n",
       "    </tr>\n",
       "    <tr>\n",
       "      <th>5</th>\n",
       "      <td>B</td>\n",
       "      <td>F</td>\n",
       "      <td>5707997</td>\n",
       "      <td>2015</td>\n",
       "      <td>43970901587</td>\n",
       "    </tr>\n",
       "    <tr>\n",
       "      <th>6</th>\n",
       "      <td>B</td>\n",
       "      <td>M</td>\n",
       "      <td>1160395</td>\n",
       "      <td>2014</td>\n",
       "      <td>13009879409</td>\n",
       "    </tr>\n",
       "    <tr>\n",
       "      <th>7</th>\n",
       "      <td>B</td>\n",
       "      <td>M</td>\n",
       "      <td>1270651</td>\n",
       "      <td>2015</td>\n",
       "      <td>10879849800</td>\n",
       "    </tr>\n",
       "    <tr>\n",
       "      <th>8</th>\n",
       "      <td>C</td>\n",
       "      <td>F</td>\n",
       "      <td>3740974</td>\n",
       "      <td>2014</td>\n",
       "      <td>18806072372</td>\n",
       "    </tr>\n",
       "    <tr>\n",
       "      <th>9</th>\n",
       "      <td>C</td>\n",
       "      <td>F</td>\n",
       "      <td>3843508</td>\n",
       "      <td>2015</td>\n",
       "      <td>20431472048</td>\n",
       "    </tr>\n",
       "    <tr>\n",
       "      <th>10</th>\n",
       "      <td>C</td>\n",
       "      <td>M</td>\n",
       "      <td>871977</td>\n",
       "      <td>2014</td>\n",
       "      <td>5004920814</td>\n",
       "    </tr>\n",
       "    <tr>\n",
       "      <th>11</th>\n",
       "      <td>C</td>\n",
       "      <td>M</td>\n",
       "      <td>922777</td>\n",
       "      <td>2015</td>\n",
       "      <td>5818505655</td>\n",
       "    </tr>\n",
       "    <tr>\n",
       "      <th>12</th>\n",
       "      <td>D</td>\n",
       "      <td>F</td>\n",
       "      <td>26222</td>\n",
       "      <td>2014</td>\n",
       "      <td>232498805</td>\n",
       "    </tr>\n",
       "    <tr>\n",
       "      <th>13</th>\n",
       "      <td>D</td>\n",
       "      <td>F</td>\n",
       "      <td>54131</td>\n",
       "      <td>2015</td>\n",
       "      <td>457375110</td>\n",
       "    </tr>\n",
       "    <tr>\n",
       "      <th>14</th>\n",
       "      <td>D</td>\n",
       "      <td>M</td>\n",
       "      <td>9059</td>\n",
       "      <td>2014</td>\n",
       "      <td>79703299</td>\n",
       "    </tr>\n",
       "    <tr>\n",
       "      <th>15</th>\n",
       "      <td>D</td>\n",
       "      <td>M</td>\n",
       "      <td>15990</td>\n",
       "      <td>2015</td>\n",
       "      <td>125778330</td>\n",
       "    </tr>\n",
       "  </tbody>\n",
       "</table>\n",
       "</div>"
      ],
      "text/plain": [
       "   제휴사 성별     구매건수  year          총매출액\n",
       "0    A  F  2384553  2014  200997228750\n",
       "1    A  F  2416023  2015  215252464680\n",
       "2    A  M   479303  2014   48110481450\n",
       "3    A  M   490439  2015   50480969150\n",
       "4    B  F  5199031  2014   43361055682\n",
       "5    B  F  5707997  2015   43970901587\n",
       "6    B  M  1160395  2014   13009879409\n",
       "7    B  M  1270651  2015   10879849800\n",
       "8    C  F  3740974  2014   18806072372\n",
       "9    C  F  3843508  2015   20431472048\n",
       "10   C  M   871977  2014    5004920814\n",
       "11   C  M   922777  2015    5818505655\n",
       "12   D  F    26222  2014     232498805\n",
       "13   D  F    54131  2015     457375110\n",
       "14   D  M     9059  2014      79703299\n",
       "15   D  M    15990  2015     125778330"
      ]
     },
     "metadata": {},
     "output_type": "display_data"
    }
   ],
   "source": [
    "# 3-2. 제휴사별 여성과 남성으로 나눠 본 연도별 매출액 , 고객별 방문횟수\n",
    "\n",
    "import cx_Oracle\n",
    "import numpy as np\n",
    "import pandas as pd\n",
    "con = cx_Oracle .connect('LM_PDB/LM@localhost:1521/xepdb1')\n",
    "cursor = con.cursor()\n",
    "sql ='''select 제휴사,성별, count(성별)구매건수,연도, sum(구매금액) 총매출액 from purprod p,custdemo c\n",
    "where p.고객번호=c.고객번호 group by 제휴사,성별,연도 order by 제휴사,성별,연도'''\n",
    "cursor.execute(sql)\n",
    "x = cursor.fetchall()\n",
    "columns = ['제휴사','성별','구매건수','연도','총매출액']\n",
    "df3 = pd.DataFrame(x,columns=columns)\n",
    "display(df3)\n",
    "cursor.close()\n",
    "con.commit()\n",
    "con.close()"
   ]
  },
  {
   "cell_type": "code",
   "execution_count": 48,
   "id": "6ccd3f57",
   "metadata": {
    "ExecuteTime": {
     "end_time": "2022-02-25T09:53:10.621743Z",
     "start_time": "2022-02-25T09:53:10.453591Z"
    }
   },
   "outputs": [
    {
     "data": {
      "text/plain": [
       "Text(0, 0.5, '구매건수')"
      ]
     },
     "execution_count": 48,
     "metadata": {},
     "output_type": "execute_result"
    },
    {
     "data": {
      "image/png": "[encoded data removed]",
      "text/plain": [
       "<Figure size 720x432 with 2 Axes>"
      ]
     },
     "metadata": {},
     "output_type": "display_data"
    }
   ],
   "source": [
    "plt.style.use('seaborn')\n",
    "plt.rc('font', family = 'Malgun Gothic') # 한글 입력\n",
    "plt.rcParams['axes.unicode_minus'] = False # 글꼴 변경시 마이너스 표기 가능으로 처리\n",
    "\n",
    "fig = plt.figure(figsize=(10,6))\n",
    "ax1 = fig.add_subplot(1,2,1)\n",
    "ax2 = fig.add_subplot(1,2,2)\n",
    "ax1.bar(df3['제휴사'],df3['총매출액'])\n",
    "ax2.bar(df3['제휴사'],df3['구매건수'],color ='forestgreen')\n",
    "\n",
    "ax1.set_xlabel('제휴사',size=15)\n",
    "ax1.set_ylabel('총매출액',size=15)\n",
    "ax2.set_xlabel('제휴사',size=15)\n",
    "ax2.set_ylabel('구매건수',size=15)"
   ]
  },
  {
   "cell_type": "code",
   "execution_count": 38,
   "id": "a6a93777",
   "metadata": {
    "ExecuteTime": {
     "end_time": "2022-02-25T09:49:22.836980Z",
     "start_time": "2022-02-25T09:49:22.770921Z"
    }
   },
   "outputs": [
    {
     "data": {
      "text/html": [
       "<div>\n",
       "<style scoped>\n",
       "    .dataframe tbody tr th:only-of-type {\n",
       "        vertical-align: middle;\n",
       "    }\n",
       "\n",
       "    .dataframe tbody tr th {\n",
       "        vertical-align: top;\n",
       "    }\n",
       "\n",
       "    .dataframe thead tr th {\n",
       "        text-align: left;\n",
       "    }\n",
       "\n",
       "    .dataframe thead tr:last-of-type th {\n",
       "        text-align: right;\n",
       "    }\n",
       "</style>\n",
       "<table border=\"1\" class=\"dataframe\">\n",
       "  <thead>\n",
       "    <tr>\n",
       "      <th></th>\n",
       "      <th></th>\n",
       "      <th colspan=\"2\" halign=\"left\">구매건수</th>\n",
       "      <th colspan=\"2\" halign=\"left\">총매출액</th>\n",
       "    </tr>\n",
       "    <tr>\n",
       "      <th></th>\n",
       "      <th>year</th>\n",
       "      <th>2014</th>\n",
       "      <th>2015</th>\n",
       "      <th>2014</th>\n",
       "      <th>2015</th>\n",
       "    </tr>\n",
       "    <tr>\n",
       "      <th>성별</th>\n",
       "      <th>제휴사</th>\n",
       "      <th></th>\n",
       "      <th></th>\n",
       "      <th></th>\n",
       "      <th></th>\n",
       "    </tr>\n",
       "  </thead>\n",
       "  <tbody>\n",
       "    <tr>\n",
       "      <th rowspan=\"4\" valign=\"top\">F</th>\n",
       "      <th>A</th>\n",
       "      <td>2384553</td>\n",
       "      <td>2416023</td>\n",
       "      <td>200997228750</td>\n",
       "      <td>215252464680</td>\n",
       "    </tr>\n",
       "    <tr>\n",
       "      <th>B</th>\n",
       "      <td>5199031</td>\n",
       "      <td>5707997</td>\n",
       "      <td>43361055682</td>\n",
       "      <td>43970901587</td>\n",
       "    </tr>\n",
       "    <tr>\n",
       "      <th>C</th>\n",
       "      <td>3740974</td>\n",
       "      <td>3843508</td>\n",
       "      <td>18806072372</td>\n",
       "      <td>20431472048</td>\n",
       "    </tr>\n",
       "    <tr>\n",
       "      <th>D</th>\n",
       "      <td>26222</td>\n",
       "      <td>54131</td>\n",
       "      <td>232498805</td>\n",
       "      <td>457375110</td>\n",
       "    </tr>\n",
       "    <tr>\n",
       "      <th rowspan=\"4\" valign=\"top\">M</th>\n",
       "      <th>A</th>\n",
       "      <td>479303</td>\n",
       "      <td>490439</td>\n",
       "      <td>48110481450</td>\n",
       "      <td>50480969150</td>\n",
       "    </tr>\n",
       "    <tr>\n",
       "      <th>B</th>\n",
       "      <td>1160395</td>\n",
       "      <td>1270651</td>\n",
       "      <td>13009879409</td>\n",
       "      <td>10879849800</td>\n",
       "    </tr>\n",
       "    <tr>\n",
       "      <th>C</th>\n",
       "      <td>871977</td>\n",
       "      <td>922777</td>\n",
       "      <td>5004920814</td>\n",
       "      <td>5818505655</td>\n",
       "    </tr>\n",
       "    <tr>\n",
       "      <th>D</th>\n",
       "      <td>9059</td>\n",
       "      <td>15990</td>\n",
       "      <td>79703299</td>\n",
       "      <td>125778330</td>\n",
       "    </tr>\n",
       "  </tbody>\n",
       "</table>\n",
       "</div>"
      ],
      "text/plain": [
       "           구매건수                   총매출액              \n",
       "year       2014     2015          2014          2015\n",
       "성별 제휴사                                              \n",
       "F  A    2384553  2416023  200997228750  215252464680\n",
       "   B    5199031  5707997   43361055682   43970901587\n",
       "   C    3740974  3843508   18806072372   20431472048\n",
       "   D      26222    54131     232498805     457375110\n",
       "M  A     479303   490439   48110481450   50480969150\n",
       "   B    1160395  1270651   13009879409   10879849800\n",
       "   C     871977   922777    5004920814    5818505655\n",
       "   D       9059    15990      79703299     125778330"
      ]
     },
     "execution_count": 38,
     "metadata": {},
     "output_type": "execute_result"
    }
   ],
   "source": [
    "# 성별별 매출\n",
    "\n",
    "pdf1 = df3.pivot_table(index = ['성별', '제휴사'], columns = '연도', values = ['구매건수', '총매출액'])\n",
    "pdf1"
   ]
  },
  {
   "cell_type": "code",
   "execution_count": 37,
   "id": "5b1eff87",
   "metadata": {
    "ExecuteTime": {
     "end_time": "2022-02-25T09:49:16.931369Z",
     "start_time": "2022-02-25T09:49:16.904657Z"
    }
   },
   "outputs": [
    {
     "ename": "AttributeError",
     "evalue": "'DataFrame' object has no attribute 'species'",
     "output_type": "error",
     "traceback": [
      "\u001b[1;31m---------------------------------------------------------------------------\u001b[0m",
      "\u001b[1;31mAttributeError\u001b[0m                            Traceback (most recent call last)",
      "\u001b[1;32m~\\AppData\\Local\\Temp/ipykernel_22016/385923945.py\u001b[0m in \u001b[0;36m<module>\u001b[1;34m\u001b[0m\n\u001b[0;32m      1\u001b[0m \u001b[1;31m# 이상치\u001b[0m\u001b[1;33m\u001b[0m\u001b[1;33m\u001b[0m\u001b[1;33m\u001b[0m\u001b[0m\n\u001b[0;32m      2\u001b[0m \u001b[1;33m\u001b[0m\u001b[0m\n\u001b[1;32m----> 3\u001b[1;33m \u001b[0msns\u001b[0m\u001b[1;33m.\u001b[0m\u001b[0mboxplot\u001b[0m\u001b[1;33m(\u001b[0m\u001b[0mx\u001b[0m \u001b[1;33m=\u001b[0m \u001b[0mdf1\u001b[0m\u001b[1;33m.\u001b[0m\u001b[0mspecies\u001b[0m\u001b[1;33m,\u001b[0m \u001b[0my\u001b[0m \u001b[1;33m=\u001b[0m \u001b[0mdf1\u001b[0m\u001b[1;33m.\u001b[0m\u001b[0mlength\u001b[0m\u001b[1;33m)\u001b[0m\u001b[1;33m\u001b[0m\u001b[1;33m\u001b[0m\u001b[0m\n\u001b[0m\u001b[0;32m      4\u001b[0m \u001b[0mdf\u001b[0m\u001b[1;33m.\u001b[0m\u001b[0mgroupby\u001b[0m\u001b[1;33m(\u001b[0m\u001b[1;34m'species'\u001b[0m\u001b[1;33m)\u001b[0m\u001b[1;33m.\u001b[0m\u001b[0mdescribe\u001b[0m\u001b[1;33m(\u001b[0m\u001b[1;33m)\u001b[0m\u001b[1;33m\u001b[0m\u001b[1;33m\u001b[0m\u001b[0m\n\u001b[0;32m      5\u001b[0m \u001b[1;33m\u001b[0m\u001b[0m\n",
      "\u001b[1;32m~\\anaconda3\\envs\\cakd5\\lib\\site-packages\\pandas\\core\\generic.py\u001b[0m in \u001b[0;36m__getattr__\u001b[1;34m(self, name)\u001b[0m\n\u001b[0;32m   5485\u001b[0m         ):\n\u001b[0;32m   5486\u001b[0m             \u001b[1;32mreturn\u001b[0m \u001b[0mself\u001b[0m\u001b[1;33m[\u001b[0m\u001b[0mname\u001b[0m\u001b[1;33m]\u001b[0m\u001b[1;33m\u001b[0m\u001b[1;33m\u001b[0m\u001b[0m\n\u001b[1;32m-> 5487\u001b[1;33m         \u001b[1;32mreturn\u001b[0m \u001b[0mobject\u001b[0m\u001b[1;33m.\u001b[0m\u001b[0m__getattribute__\u001b[0m\u001b[1;33m(\u001b[0m\u001b[0mself\u001b[0m\u001b[1;33m,\u001b[0m \u001b[0mname\u001b[0m\u001b[1;33m)\u001b[0m\u001b[1;33m\u001b[0m\u001b[1;33m\u001b[0m\u001b[0m\n\u001b[0m\u001b[0;32m   5488\u001b[0m \u001b[1;33m\u001b[0m\u001b[0m\n\u001b[0;32m   5489\u001b[0m     \u001b[1;32mdef\u001b[0m \u001b[0m__setattr__\u001b[0m\u001b[1;33m(\u001b[0m\u001b[0mself\u001b[0m\u001b[1;33m,\u001b[0m \u001b[0mname\u001b[0m\u001b[1;33m:\u001b[0m \u001b[0mstr\u001b[0m\u001b[1;33m,\u001b[0m \u001b[0mvalue\u001b[0m\u001b[1;33m)\u001b[0m \u001b[1;33m->\u001b[0m \u001b[1;32mNone\u001b[0m\u001b[1;33m:\u001b[0m\u001b[1;33m\u001b[0m\u001b[1;33m\u001b[0m\u001b[0m\n",
      "\u001b[1;31mAttributeError\u001b[0m: 'DataFrame' object has no attribute 'species'"
     ]
    }
   ],
   "source": [
    "# 이상치 \n",
    "\n",
    "sns.boxplot(x = df1.species, y = df1.length)\n",
    "df.groupby('species').describe()\n",
    "\n",
    "Q1_A = df1.loc[df['species'] == 'A'].quantile(0.25)\n",
    "Q3_A = df1.loc[df['species'] == 'A'].quantile(0.75)\n",
    "Q1_B = df1.loc[df['species'] == 'B'].quantile(0.25)\n",
    "Q3_B = df1.loc[df['species'] == 'B'].quantile(0.75)\n",
    "\n",
    "IQR_A = Q3_A - Q1_A\n",
    "IQR_B = Q3_B - Q3_B"
   ]
  },
  {
   "cell_type": "code",
   "execution_count": null,
   "id": "0d36dcfa",
   "metadata": {},
   "outputs": [],
   "source": [
    "# 2가지 막대그래프 합쳐서 비교\n",
    "\n",
    "plt.figure(figsize = (25, 8))\n",
    "\n",
    "plt.bar(df4['position'].value_counts().index, list(df4['position'].value_counts()), width = 0.8, label = '모든 기타 호칭') # 모든 기타 호칭\n",
    "plt.bar(df5['position'].value_counts().index, list(df5['position'].value_counts()), width = 0.8, label = '기타 호칭 중에서 생존한 남성') # 기타 호칭 중에서 생존한 남성\n",
    "plt.xticks(rotation = 45, size = 15)\n",
    "plt.legend(fontsize = 15)"
   ]
  },
  {
   "cell_type": "code",
   "execution_count": null,
   "id": "7d47ab7f",
   "metadata": {},
   "outputs": [],
   "source": [
    "# 원형그래프\n",
    "\n",
    "df_pclass = pd.pivot_table(df,\n",
    "                           values = 'survived',\n",
    "                           index = 'pclass',\n",
    "                           aggfunc = 'mean')\n",
    "\n",
    "display(df_pclass)\n",
    "\n",
    "ratio = []\n",
    "for i in range(len(df_pclass['survived'])):\n",
    "    a = df_pclass['survived'].iloc[i] / df_pclass['survived'].sum()\n",
    "    ratio.append(a)\n",
    "labels = df_pclass.index\n",
    "\n",
    "plt.figure(figsize = (10, 10))\n",
    "plt.pie(ratio, autopct = '%.1f%%', textprops = {'fontsize' : 15}, startangle = 0)\n",
    "plt.legend(labels = df_pclass.index, fontsize = 20)"
   ]
  },
  {
   "cell_type": "markdown",
   "id": "49ecfeee",
   "metadata": {},
   "source": [
    "# [2월 26일]\n",
    "---"
   ]
  },
  {
   "cell_type": "markdown",
   "id": "b25f4595",
   "metadata": {},
   "source": [
    "## # 경쟁사 분석\n",
    "---"
   ]
  },
  {
   "cell_type": "code",
   "execution_count": 9,
   "id": "db1fccab",
   "metadata": {
    "ExecuteTime": {
     "end_time": "2022-02-26T06:16:04.340230Z",
     "start_time": "2022-02-26T06:16:04.193093Z"
    }
   },
   "outputs": [
    {
     "data": {
      "text/html": [
       "<div>\n",
       "<style scoped>\n",
       "    .dataframe tbody tr th:only-of-type {\n",
       "        vertical-align: middle;\n",
       "    }\n",
       "\n",
       "    .dataframe tbody tr th {\n",
       "        vertical-align: top;\n",
       "    }\n",
       "\n",
       "    .dataframe thead th {\n",
       "        text-align: right;\n",
       "    }\n",
       "</style>\n",
       "<table border=\"1\" class=\"dataframe\">\n",
       "  <thead>\n",
       "    <tr style=\"text-align: right;\">\n",
       "      <th></th>\n",
       "      <th>고객번호</th>\n",
       "      <th>제휴사</th>\n",
       "      <th>성별</th>\n",
       "      <th>연령대</th>\n",
       "      <th>거주지</th>\n",
       "      <th>경쟁사이용횟수</th>\n",
       "      <th>매출</th>\n",
       "    </tr>\n",
       "  </thead>\n",
       "  <tbody>\n",
       "    <tr>\n",
       "      <th>0</th>\n",
       "      <td>00001</td>\n",
       "      <td>A</td>\n",
       "      <td>M</td>\n",
       "      <td>60세이상</td>\n",
       "      <td>060</td>\n",
       "      <td>2</td>\n",
       "      <td>30183640</td>\n",
       "    </tr>\n",
       "    <tr>\n",
       "      <th>1</th>\n",
       "      <td>00001</td>\n",
       "      <td>B</td>\n",
       "      <td>M</td>\n",
       "      <td>60세이상</td>\n",
       "      <td>060</td>\n",
       "      <td>8</td>\n",
       "      <td>393036</td>\n",
       "    </tr>\n",
       "    <tr>\n",
       "      <th>2</th>\n",
       "      <td>00001</td>\n",
       "      <td>C</td>\n",
       "      <td>M</td>\n",
       "      <td>60세이상</td>\n",
       "      <td>060</td>\n",
       "      <td>5</td>\n",
       "      <td>424207</td>\n",
       "    </tr>\n",
       "    <tr>\n",
       "      <th>3</th>\n",
       "      <td>00002</td>\n",
       "      <td>A</td>\n",
       "      <td>M</td>\n",
       "      <td>60세이상</td>\n",
       "      <td>100</td>\n",
       "      <td>2</td>\n",
       "      <td>53286470</td>\n",
       "    </tr>\n",
       "    <tr>\n",
       "      <th>4</th>\n",
       "      <td>00002</td>\n",
       "      <td>B</td>\n",
       "      <td>M</td>\n",
       "      <td>60세이상</td>\n",
       "      <td>100</td>\n",
       "      <td>3</td>\n",
       "      <td>132500</td>\n",
       "    </tr>\n",
       "    <tr>\n",
       "      <th>...</th>\n",
       "      <td>...</td>\n",
       "      <td>...</td>\n",
       "      <td>...</td>\n",
       "      <td>...</td>\n",
       "      <td>...</td>\n",
       "      <td>...</td>\n",
       "      <td>...</td>\n",
       "    </tr>\n",
       "    <tr>\n",
       "      <th>7831</th>\n",
       "      <td>19375</td>\n",
       "      <td>A</td>\n",
       "      <td>F</td>\n",
       "      <td>25세~29세</td>\n",
       "      <td>049</td>\n",
       "      <td>1</td>\n",
       "      <td>161950</td>\n",
       "    </tr>\n",
       "    <tr>\n",
       "      <th>7832</th>\n",
       "      <td>19375</td>\n",
       "      <td>B</td>\n",
       "      <td>F</td>\n",
       "      <td>25세~29세</td>\n",
       "      <td>049</td>\n",
       "      <td>2</td>\n",
       "      <td>20155050</td>\n",
       "    </tr>\n",
       "    <tr>\n",
       "      <th>7833</th>\n",
       "      <td>19375</td>\n",
       "      <td>D</td>\n",
       "      <td>F</td>\n",
       "      <td>25세~29세</td>\n",
       "      <td>049</td>\n",
       "      <td>2</td>\n",
       "      <td>9900</td>\n",
       "    </tr>\n",
       "    <tr>\n",
       "      <th>7834</th>\n",
       "      <td>19376</td>\n",
       "      <td>B</td>\n",
       "      <td>M</td>\n",
       "      <td>20세~24세</td>\n",
       "      <td>024</td>\n",
       "      <td>1</td>\n",
       "      <td>5430607</td>\n",
       "    </tr>\n",
       "    <tr>\n",
       "      <th>7835</th>\n",
       "      <td>19377</td>\n",
       "      <td>B</td>\n",
       "      <td>M</td>\n",
       "      <td>25세~29세</td>\n",
       "      <td>460</td>\n",
       "      <td>1</td>\n",
       "      <td>175452</td>\n",
       "    </tr>\n",
       "  </tbody>\n",
       "</table>\n",
       "<p>7836 rows × 7 columns</p>\n",
       "</div>"
      ],
      "text/plain": [
       "       고객번호 제휴사 성별      연령대  거주지  경쟁사이용횟수        매출\n",
       "0     00001   A  M    60세이상  060        2  30183640\n",
       "1     00001   B  M    60세이상  060        8    393036\n",
       "2     00001   C  M    60세이상  060        5    424207\n",
       "3     00002   A  M    60세이상  100        2  53286470\n",
       "4     00002   B  M    60세이상  100        3    132500\n",
       "...     ...  .. ..      ...  ...      ...       ...\n",
       "7831  19375   A  F  25세~29세  049        1    161950\n",
       "7832  19375   B  F  25세~29세  049        2  20155050\n",
       "7833  19375   D  F  25세~29세  049        2      9900\n",
       "7834  19376   B  M  20세~24세  024        1   5430607\n",
       "7835  19377   B  M  25세~29세  460        1    175452\n",
       "\n",
       "[7836 rows x 7 columns]"
      ]
     },
     "metadata": {},
     "output_type": "display_data"
    }
   ],
   "source": [
    "con = cx_Oracle.connect('LM_PDB/LM@localhost:1521/xepdb1')\n",
    "cursor = con.cursor()\n",
    "sql ='''SELECT a.고객번호, a.제휴사, B.성별, 연령대, 거주지역, 경쟁사이용횟수, 매출\n",
    "FROM\n",
    "(SELECT 고객번호, 제휴사, COUNT(경쟁사) \"경쟁사이용횟수\", SUBSTR(이용년월, 0, 4) \"YEAR\" FROM COMPET\n",
    "GROUP BY 고객번호, 제휴사, SUBSTR(이용년월, 0, 4)\n",
    "ORDER BY 고객번호) a,\n",
    "(SELECT * FROM 번호제휴성별연도건수매출\n",
    "WHERE 연도 = 2015) b,\n",
    "CUSTDEMO C\n",
    "WHERE a.고객번호 = b.고객번호 AND a.제휴사 = b.제휴사 AND a.고객번호 = c.고객번호 AND B.성별 = C.성별\n",
    "ORDER BY a.고객번호'''\n",
    "cursor.execute(sql)\n",
    "x = cursor.fetchall()\n",
    "columns = ['고객번호', '제휴사', '성별', '연령대', '거주지', '경쟁사이용횟수', '매출']\n",
    "df = pd.DataFrame(x,columns=columns)\n",
    "display(df)\n",
    "cursor.close()\n",
    "con.commit()\n",
    "con.close()"
   ]
  },
  {
   "cell_type": "markdown",
   "id": "c6e97b49",
   "metadata": {},
   "source": [
    "### # 제휴사 기준으로 나누기\n",
    "---"
   ]
  },
  {
   "cell_type": "code",
   "execution_count": 7,
   "id": "4e4c0a51",
   "metadata": {
    "ExecuteTime": {
     "end_time": "2022-02-26T06:13:15.731416Z",
     "start_time": "2022-02-26T06:13:15.707394Z"
    }
   },
   "outputs": [
    {
     "data": {
      "text/html": [
       "<div>\n",
       "<style scoped>\n",
       "    .dataframe tbody tr th:only-of-type {\n",
       "        vertical-align: middle;\n",
       "    }\n",
       "\n",
       "    .dataframe tbody tr th {\n",
       "        vertical-align: top;\n",
       "    }\n",
       "\n",
       "    .dataframe thead th {\n",
       "        text-align: right;\n",
       "    }\n",
       "</style>\n",
       "<table border=\"1\" class=\"dataframe\">\n",
       "  <thead>\n",
       "    <tr style=\"text-align: right;\">\n",
       "      <th></th>\n",
       "      <th>고객번호</th>\n",
       "      <th>제휴사</th>\n",
       "      <th>성별</th>\n",
       "      <th>연령대</th>\n",
       "      <th>거주지</th>\n",
       "      <th>A경쟁사이용횟수</th>\n",
       "      <th>매출</th>\n",
       "    </tr>\n",
       "  </thead>\n",
       "  <tbody>\n",
       "    <tr>\n",
       "      <th>0</th>\n",
       "      <td>00001</td>\n",
       "      <td>A</td>\n",
       "      <td>M</td>\n",
       "      <td>60세이상</td>\n",
       "      <td>060</td>\n",
       "      <td>2</td>\n",
       "      <td>30183640</td>\n",
       "    </tr>\n",
       "    <tr>\n",
       "      <th>3</th>\n",
       "      <td>00002</td>\n",
       "      <td>A</td>\n",
       "      <td>M</td>\n",
       "      <td>60세이상</td>\n",
       "      <td>100</td>\n",
       "      <td>2</td>\n",
       "      <td>53286470</td>\n",
       "    </tr>\n",
       "    <tr>\n",
       "      <th>6</th>\n",
       "      <td>00004</td>\n",
       "      <td>A</td>\n",
       "      <td>F</td>\n",
       "      <td>60세이상</td>\n",
       "      <td>016</td>\n",
       "      <td>2</td>\n",
       "      <td>5934830</td>\n",
       "    </tr>\n",
       "    <tr>\n",
       "      <th>8</th>\n",
       "      <td>00007</td>\n",
       "      <td>A</td>\n",
       "      <td>F</td>\n",
       "      <td>60세이상</td>\n",
       "      <td>036</td>\n",
       "      <td>1</td>\n",
       "      <td>38314500</td>\n",
       "    </tr>\n",
       "    <tr>\n",
       "      <th>9</th>\n",
       "      <td>00008</td>\n",
       "      <td>A</td>\n",
       "      <td>M</td>\n",
       "      <td>60세이상</td>\n",
       "      <td>010</td>\n",
       "      <td>1</td>\n",
       "      <td>32241700</td>\n",
       "    </tr>\n",
       "    <tr>\n",
       "      <th>...</th>\n",
       "      <td>...</td>\n",
       "      <td>...</td>\n",
       "      <td>...</td>\n",
       "      <td>...</td>\n",
       "      <td>...</td>\n",
       "      <td>...</td>\n",
       "      <td>...</td>\n",
       "    </tr>\n",
       "    <tr>\n",
       "      <th>7820</th>\n",
       "      <td>19334</td>\n",
       "      <td>A</td>\n",
       "      <td>M</td>\n",
       "      <td>35세~39세</td>\n",
       "      <td>310</td>\n",
       "      <td>14</td>\n",
       "      <td>382000</td>\n",
       "    </tr>\n",
       "    <tr>\n",
       "      <th>7823</th>\n",
       "      <td>19355</td>\n",
       "      <td>A</td>\n",
       "      <td>F</td>\n",
       "      <td>20세~24세</td>\n",
       "      <td>100</td>\n",
       "      <td>1</td>\n",
       "      <td>194920</td>\n",
       "    </tr>\n",
       "    <tr>\n",
       "      <th>7824</th>\n",
       "      <td>19362</td>\n",
       "      <td>A</td>\n",
       "      <td>F</td>\n",
       "      <td>45세~49세</td>\n",
       "      <td>016</td>\n",
       "      <td>2</td>\n",
       "      <td>28842660</td>\n",
       "    </tr>\n",
       "    <tr>\n",
       "      <th>7827</th>\n",
       "      <td>19367</td>\n",
       "      <td>A</td>\n",
       "      <td>M</td>\n",
       "      <td>45세~49세</td>\n",
       "      <td>020</td>\n",
       "      <td>1</td>\n",
       "      <td>11180490</td>\n",
       "    </tr>\n",
       "    <tr>\n",
       "      <th>7831</th>\n",
       "      <td>19375</td>\n",
       "      <td>A</td>\n",
       "      <td>F</td>\n",
       "      <td>25세~29세</td>\n",
       "      <td>049</td>\n",
       "      <td>1</td>\n",
       "      <td>161950</td>\n",
       "    </tr>\n",
       "  </tbody>\n",
       "</table>\n",
       "<p>2473 rows × 7 columns</p>\n",
       "</div>"
      ],
      "text/plain": [
       "       고객번호 제휴사 성별      연령대  거주지  A경쟁사이용횟수        매출\n",
       "0     00001   A  M    60세이상  060         2  30183640\n",
       "3     00002   A  M    60세이상  100         2  53286470\n",
       "6     00004   A  F    60세이상  016         2   5934830\n",
       "8     00007   A  F    60세이상  036         1  38314500\n",
       "9     00008   A  M    60세이상  010         1  32241700\n",
       "...     ...  .. ..      ...  ...       ...       ...\n",
       "7820  19334   A  M  35세~39세  310        14    382000\n",
       "7823  19355   A  F  20세~24세  100         1    194920\n",
       "7824  19362   A  F  45세~49세  016         2  28842660\n",
       "7827  19367   A  M  45세~49세  020         1  11180490\n",
       "7831  19375   A  F  25세~29세  049         1    161950\n",
       "\n",
       "[2473 rows x 7 columns]"
      ]
     },
     "execution_count": 7,
     "metadata": {},
     "output_type": "execute_result"
    }
   ],
   "source": [
    "df_A = df.loc[df['제휴사'] == 'A']\n",
    "df_B = df.loc[df['제휴사'] == 'B']\n",
    "df_C = df.loc[df['제휴사'] == 'C']\n",
    "df_D = df.loc[df['제휴사'] == 'D']\n",
    "df_A.columns = ['고객번호', '제휴사', '성별', '연령대', '거주지', 'A경쟁사이용횟수', '매출']\n",
    "df_B.columns = ['고객번호', '제휴사', '성별', '연령대', '거주지', 'B경쟁사이용횟수', '매출']\n",
    "df_C.columns = ['고객번호', '제휴사', '성별', '연령대', '거주지', 'C경쟁사이용횟수', '매출']\n",
    "df_D.columns = ['고객번호', '제휴사', '성별', '연령대', '거주지', 'D경쟁사이용횟수', '매출']\n",
    "\n",
    "df_A"
   ]
  },
  {
   "cell_type": "code",
   "execution_count": 6,
   "id": "013dacca",
   "metadata": {
    "ExecuteTime": {
     "end_time": "2022-02-26T06:12:59.363201Z",
     "start_time": "2022-02-26T06:12:58.583496Z"
    }
   },
   "outputs": [
    {
     "data": {
      "text/plain": [
       "<matplotlib.legend.Legend at 0x1e5e5d184f0>"
      ]
     },
     "execution_count": 6,
     "metadata": {},
     "output_type": "execute_result"
    },
    {
     "data": {
      "image/png": "[encoded data removed]",
      "text/plain": [
       "<Figure size 1440x1080 with 4 Axes>"
      ]
     },
     "metadata": {},
     "output_type": "display_data"
    }
   ],
   "source": [
    "fig = plt.figure(figsize = (20, 15))\n",
    "ax1 = fig.add_subplot(221)\n",
    "ax2 = fig.add_subplot(222)\n",
    "ax3 = fig.add_subplot(223)\n",
    "ax4 = fig.add_subplot(224)\n",
    "\n",
    "sns.scatterplot(data = df_A, x = 'A경쟁사이용횟수', y = '매출', hue = '성별', style = '성별', ax = ax1)\n",
    "sns.scatterplot(data = df_B, x = 'B경쟁사이용횟수', y = '매출', hue = '성별', style = '성별', ax = ax2)\n",
    "sns.scatterplot(data = df_C, x = 'C경쟁사이용횟수', y = '매출', hue = '성별', style = '성별', ax = ax3)\n",
    "sns.scatterplot(data = df_D, x = 'D경쟁사이용횟수', y = '매출', hue = '성별', style = '성별', ax = ax4)\n",
    "ax1.legend(fontsize = '15')\n",
    "ax2.legend(fontsize = '15')\n",
    "ax3.legend(fontsize = '15')\n",
    "ax4.legend(fontsize = '15')"
   ]
  }
 ],
 "metadata": {
  "hide_input": false,
  "kernelspec": {
   "display_name": "Python 3 (ipykernel)",
   "language": "python",
   "name": "python3"
  },
  "language_info": {
   "codemirror_mode": {
    "name": "ipython",
    "version": 3
   },
   "file_extension": ".py",
   "mimetype": "text/x-python",
   "name": "python",
   "nbconvert_exporter": "python",
   "pygments_lexer": "ipython3",
   "version": "3.8.12"
  },
  "toc": {
   "base_numbering": 1,
   "nav_menu": {},
   "number_sections": false,
   "sideBar": true,
   "skip_h1_title": false,
   "title_cell": "Table of Contents",
   "title_sidebar": "Contents",
   "toc_cell": false,
   "toc_position": {
    "height": "1187px",
    "left": "90px",
    "top": "84px",
    "width": "356px"
   },
   "toc_section_display": true,
   "toc_window_display": true
  },
  "varInspector": {
   "cols": {
    "lenName": 16,
    "lenType": 16,
    "lenVar": 40
   },
   "kernels_config": {
    "python": {
     "delete_cmd_postfix": "",
     "delete_cmd_prefix": "del ",
     "library": "var_list.py",
     "varRefreshCmd": "print(var_dic_list())"
    },
    "r": {
     "delete_cmd_postfix": ") ",
     "delete_cmd_prefix": "rm(",
     "library": "var_list.r",
     "varRefreshCmd": "cat(var_dic_list()) "
    }
   },
   "types_to_exclude": [
    "module",
    "function",
    "builtin_function_or_method",
    "instance",
    "_Feature"
   ],
   "window_display": false
  }
 },
 "nbformat": 4,
 "nbformat_minor": 5
}
